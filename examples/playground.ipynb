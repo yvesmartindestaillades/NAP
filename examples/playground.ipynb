{
 "cells": [
  {
   "cell_type": "markdown",
   "metadata": {},
   "source": [
    "## Get started\n",
    "### Imports"
   ]
  },
  {
   "cell_type": "code",
   "execution_count": 1,
   "metadata": {},
   "outputs": [
    {
     "name": "stdout",
     "output_type": "stream",
     "text": [
      "/Users/ymdt/src/dreem_nap\n"
     ]
    },
    {
     "name": "stderr",
     "output_type": "stream",
     "text": [
      "/Users/ymdt/src/dreem_nap/venv-nap/lib/python3.10/site-packages/tqdm/auto.py:22: TqdmWarning: IProgress not found. Please update jupyter and ipywidgets. See https://ipywidgets.readthedocs.io/en/stable/user_install.html\n",
      "  from .autonotebook import tqdm as notebook_tqdm\n"
     ]
    }
   ],
   "source": [
    "import pandas as pd\n",
    "import matplotlib.pyplot as plt\n",
    "import matplotlib as mpl\n",
    "from matplotlib.colors import LogNorm\n",
    "from os.path import exists, dirname\n",
    "import os, sys\n",
    "import numpy as np\n",
    "import seaborn as sns\n",
    "import json\n",
    "path = os.path.dirname((os.path.abspath('')))\n",
    "print(path)\n",
    "sys.path.append(path)\n",
    "from dreem_nap.study import Study\n",
    "import yaml"
   ]
  },
  {
   "cell_type": "markdown",
   "metadata": {},
   "source": [
    "### Configuration\n",
    "- Load config file and check what's in it\n",
    "- Configurate the Notebook"
   ]
  },
  {
   "cell_type": "code",
   "execution_count": 2,
   "metadata": {},
   "outputs": [
    {
     "name": "stdout",
     "output_type": "stream",
     "text": [
      "path_to_data __________________ /Users/ymdt/src/data/Lauren\n",
      "path_to_studies _______________ /Users/ymdt/src/data/Lauren/studies.csv\n",
      "min_cov_bases _________________ 1000\n",
      "mpl_rcParams_figure_dpi _______ 100\n"
     ]
    }
   ],
   "source": [
    "with open('../config.yml', 'r') as ymlfile:\n",
    "    cfg = yaml.safe_load(ymlfile)\n",
    "for k,v in cfg.items():\n",
    "    print(k,(30-len(k))*'_',v)\n",
    "\n",
    "mpl.rcParams['figure.dpi'] = cfg['mpl_rcParams_figure_dpi'] # the highest the resolution, the slowest the plotting\n"
   ]
  },
  {
   "cell_type": "markdown",
   "metadata": {},
   "source": [
    "### Load data\n",
    "Create and load dataframe of a single study as a demo"
   ]
  },
  {
   "cell_type": "code",
   "execution_count": 3,
   "metadata": {},
   "outputs": [
    {
     "name": "stdout",
     "output_type": "stream",
     "text": [
      "/Users/ymdt/src/dreem_nap\n"
     ]
    },
    {
     "ename": "AssertionError",
     "evalue": "/Users/ymdt/src/data/Lauren/A6.p does not exist.",
     "output_type": "error",
     "traceback": [
      "\u001b[0;31m---------------------------------------------------------------------------\u001b[0m",
      "\u001b[0;31mAssertionError\u001b[0m                            Traceback (most recent call last)",
      "\u001b[1;32m/Users/ymdt/src/dreem_nap/examples/playground.ipynb Cell 6\u001b[0m in \u001b[0;36m<cell line: 14>\u001b[0;34m()\u001b[0m\n\u001b[1;32m      <a href='vscode-notebook-cell:/Users/ymdt/src/dreem_nap/examples/playground.ipynb#W5sZmlsZQ%3D%3D?line=6'>7</a>\u001b[0m salt \u001b[39m=\u001b[39m Study\u001b[39m.\u001b[39mfrom_dict({\u001b[39m'\u001b[39m\u001b[39mname\u001b[39m\u001b[39m'\u001b[39m: \u001b[39m'\u001b[39m\u001b[39msalt\u001b[39m\u001b[39m'\u001b[39m,\n\u001b[1;32m      <a href='vscode-notebook-cell:/Users/ymdt/src/dreem_nap/examples/playground.ipynb#W5sZmlsZQ%3D%3D?line=7'>8</a>\u001b[0m                          \u001b[39m'\u001b[39m\u001b[39mdescription\u001b[39m\u001b[39m'\u001b[39m: \u001b[39m'\u001b[39m\u001b[39mChange the Na concentration\u001b[39m\u001b[39m'\u001b[39m, \n\u001b[1;32m      <a href='vscode-notebook-cell:/Users/ymdt/src/dreem_nap/examples/playground.ipynb#W5sZmlsZQ%3D%3D?line=8'>9</a>\u001b[0m                          \u001b[39m'\u001b[39m\u001b[39msamples\u001b[39m\u001b[39m'\u001b[39m: [\u001b[39m'\u001b[39m\u001b[39mA6\u001b[39m\u001b[39m'\u001b[39m, \u001b[39m'\u001b[39m\u001b[39mB6\u001b[39m\u001b[39m'\u001b[39m, \u001b[39m'\u001b[39m\u001b[39mC6\u001b[39m\u001b[39m'\u001b[39m, \u001b[39m'\u001b[39m\u001b[39mD6\u001b[39m\u001b[39m'\u001b[39m, \u001b[39m'\u001b[39m\u001b[39mE6\u001b[39m\u001b[39m'\u001b[39m], \n\u001b[1;32m     <a href='vscode-notebook-cell:/Users/ymdt/src/dreem_nap/examples/playground.ipynb#W5sZmlsZQ%3D%3D?line=9'>10</a>\u001b[0m                          \u001b[39m'\u001b[39m\u001b[39mlabel\u001b[39m\u001b[39m'\u001b[39m: \u001b[39m'\u001b[39m\u001b[39mNa quantity [M]\u001b[39m\u001b[39m'\u001b[39m, \n\u001b[1;32m     <a href='vscode-notebook-cell:/Users/ymdt/src/dreem_nap/examples/playground.ipynb#W5sZmlsZQ%3D%3D?line=10'>11</a>\u001b[0m                          \u001b[39m'\u001b[39m\u001b[39mconditions\u001b[39m\u001b[39m'\u001b[39m: [\u001b[39m0.15\u001b[39m, \u001b[39m0.3\u001b[39m, \u001b[39m0.6\u001b[39m, \u001b[39m1.0\u001b[39m, \u001b[39m1.2\u001b[39m]})\n\u001b[1;32m     <a href='vscode-notebook-cell:/Users/ymdt/src/dreem_nap/examples/playground.ipynb#W5sZmlsZQ%3D%3D?line=12'>13</a>\u001b[0m \u001b[39m# Load data\u001b[39;00m\n\u001b[0;32m---> <a href='vscode-notebook-cell:/Users/ymdt/src/dreem_nap/examples/playground.ipynb#W5sZmlsZQ%3D%3D?line=13'>14</a>\u001b[0m salt\u001b[39m.\u001b[39;49mload_df_from_local_files(path_to_data\u001b[39m=\u001b[39;49m cfg[\u001b[39m'\u001b[39;49m\u001b[39mpath_to_data\u001b[39;49m\u001b[39m'\u001b[39;49m], \n\u001b[1;32m     <a href='vscode-notebook-cell:/Users/ymdt/src/dreem_nap/examples/playground.ipynb#W5sZmlsZQ%3D%3D?line=14'>15</a>\u001b[0m                               min_cov_bases\u001b[39m=\u001b[39;49m cfg[\u001b[39m'\u001b[39;49m\u001b[39mmin_cov_bases\u001b[39;49m\u001b[39m'\u001b[39;49m])\u001b[39m#,\u001b[39;00m\n\u001b[1;32m     <a href='vscode-notebook-cell:/Users/ymdt/src/dreem_nap/examples/playground.ipynb#W5sZmlsZQ%3D%3D?line=15'>16</a>\u001b[0m                             \u001b[39m#  index='roi')\u001b[39;00m\n\u001b[1;32m     <a href='vscode-notebook-cell:/Users/ymdt/src/dreem_nap/examples/playground.ipynb#W5sZmlsZQ%3D%3D?line=16'>17</a>\u001b[0m \n\u001b[1;32m     <a href='vscode-notebook-cell:/Users/ymdt/src/dreem_nap/examples/playground.ipynb#W5sZmlsZQ%3D%3D?line=17'>18</a>\u001b[0m \u001b[39m# Show the dataframe\u001b[39;00m\n\u001b[1;32m     <a href='vscode-notebook-cell:/Users/ymdt/src/dreem_nap/examples/playground.ipynb#W5sZmlsZQ%3D%3D?line=18'>19</a>\u001b[0m salt\u001b[39m.\u001b[39m_df\u001b[39m.\u001b[39mhead()\n",
      "File \u001b[0;32m~/src/dreem_nap/dreem_nap/study.py:105\u001b[0m, in \u001b[0;36mStudy.load_df_from_local_files\u001b[0;34m(self, path_to_data, min_cov_bases, filter_by, index, base_type, base_paired, structure)\u001b[0m\n\u001b[1;32m    103\u001b[0m args \u001b[39m=\u001b[39m \u001b[39mlocals\u001b[39m()\n\u001b[1;32m    104\u001b[0m \u001b[39mdel\u001b[39;00m args[\u001b[39m'\u001b[39m\u001b[39mself\u001b[39m\u001b[39m'\u001b[39m]\n\u001b[0;32m--> 105\u001b[0m df \u001b[39m=\u001b[39m \u001b[39mself\u001b[39m\u001b[39m.\u001b[39mset_df(df_from_local_files(path_to_data, min_cov_bases, \u001b[39mself\u001b[39;49m\u001b[39m.\u001b[39;49msamples, \u001b[39mself\u001b[39;49m\u001b[39m.\u001b[39;49mname, filter_by, \u001b[39m*\u001b[39;49m\u001b[39m*\u001b[39;49m{k:v \u001b[39mfor\u001b[39;49;00m k,v \u001b[39min\u001b[39;49;00m args\u001b[39m.\u001b[39;49mitems() \u001b[39mif\u001b[39;49;00m k \u001b[39min\u001b[39;49;00m manipulator\u001b[39m.\u001b[39;49mManipulator(pd\u001b[39m.\u001b[39;49mDataFrame())\u001b[39m.\u001b[39;49mget_SCC\u001b[39m.\u001b[39;49m\u001b[39m__code__\u001b[39;49m\u001b[39m.\u001b[39;49mco_varnames}))\n\u001b[1;32m    106\u001b[0m \u001b[39mself\u001b[39m\u001b[39m.\u001b[39mconstructs \u001b[39m=\u001b[39m df[\u001b[39m'\u001b[39m\u001b[39mconstruct\u001b[39m\u001b[39m'\u001b[39m]\u001b[39m.\u001b[39munique()\n\u001b[1;32m    107\u001b[0m \u001b[39mreturn\u001b[39;00m df\n",
      "File \u001b[0;32m~/src/dreem_nap/dreem_nap/loader.py:109\u001b[0m, in \u001b[0;36mdf_from_local_files\u001b[0;34m(path_to_data, min_cov_bases, samples, name, filter_by, structure, base_type, index, base_paired)\u001b[0m\n\u001b[1;32m    107\u001b[0m \u001b[39massert\u001b[39;00m filter_by \u001b[39min\u001b[39;00m [\u001b[39m'\u001b[39m\u001b[39mstudy\u001b[39m\u001b[39m'\u001b[39m,\u001b[39m'\u001b[39m\u001b[39msample\u001b[39m\u001b[39m'\u001b[39m], \u001b[39m'\u001b[39m\u001b[39mfilter_by must be either study or sample.\u001b[39m\u001b[39m'\u001b[39m\n\u001b[1;32m    108\u001b[0m \u001b[39mfor\u001b[39;00m s \u001b[39min\u001b[39;00m samples:\n\u001b[0;32m--> 109\u001b[0m     all_df[s] \u001b[39m=\u001b[39m __load_pickle_to_df(file\u001b[39m=\u001b[39;49m\u001b[39m'\u001b[39;49m\u001b[39m{}\u001b[39;49;00m\u001b[39m/\u001b[39;49m\u001b[39m{}\u001b[39;49;00m\u001b[39m.p\u001b[39;49m\u001b[39m'\u001b[39;49m\u001b[39m.\u001b[39;49mformat(path_to_data,s))\n\u001b[1;32m    110\u001b[0m     all_df[s] \u001b[39m=\u001b[39m __set_indexes_to_0(all_df[s])\n\u001b[1;32m    111\u001b[0m     all_df[s] \u001b[39m=\u001b[39m __add_cols_to_df(all_df[s])\n",
      "File \u001b[0;32m~/src/dreem_nap/dreem_nap/loader.py:20\u001b[0m, in \u001b[0;36m__load_pickle_to_df\u001b[0;34m(file)\u001b[0m\n\u001b[1;32m     11\u001b[0m \u001b[39mdef\u001b[39;00m \u001b[39m__load_pickle_to_df\u001b[39m(file:\u001b[39mstr\u001b[39m)\u001b[39m-\u001b[39m\u001b[39m>\u001b[39mpd\u001b[39m.\u001b[39mDataFrame:\n\u001b[1;32m     12\u001b[0m     \u001b[39m\"\"\"Load a pickle file.\u001b[39;00m\n\u001b[1;32m     13\u001b[0m \u001b[39m    \u001b[39;00m\n\u001b[1;32m     14\u001b[0m \u001b[39m    Args:\u001b[39;00m\n\u001b[0;32m   (...)\u001b[0m\n\u001b[1;32m     18\u001b[0m \u001b[39m        The pickle file content under the dataframe format.    \u001b[39;00m\n\u001b[1;32m     19\u001b[0m \u001b[39m    \"\"\"\u001b[39;00m\n\u001b[0;32m---> 20\u001b[0m     \u001b[39massert\u001b[39;00m os\u001b[39m.\u001b[39mpath\u001b[39m.\u001b[39mexists(file), \u001b[39m'\u001b[39m\u001b[39m{}\u001b[39;00m\u001b[39m does not exist.\u001b[39m\u001b[39m'\u001b[39m\u001b[39m.\u001b[39mformat(file)\n\u001b[1;32m     22\u001b[0m     \u001b[39mwith\u001b[39;00m \u001b[39mopen\u001b[39m(file, \u001b[39m'\u001b[39m\u001b[39mrb\u001b[39m\u001b[39m'\u001b[39m) \u001b[39mas\u001b[39;00m f:\n\u001b[1;32m     23\u001b[0m         mut_hist \u001b[39m=\u001b[39m pickle\u001b[39m.\u001b[39mload(f)\n",
      "\u001b[0;31mAssertionError\u001b[0m: /Users/ymdt/src/data/Lauren/A6.p does not exist."
     ]
    }
   ],
   "source": [
    "path = os.path.dirname((os.path.abspath('')))\n",
    "print(path)\n",
    "sys.path.append(path)\n",
    "from dreem_nap.study import Study\n",
    "\n",
    "# Create a study\n",
    "salt = Study.from_dict({'name': 'salt',\n",
    "                         'description': 'Change the Na concentration', \n",
    "                         'samples': ['A6', 'B6', 'C6', 'D6', 'E6'], \n",
    "                         'label': 'Na quantity [M]', \n",
    "                         'conditions': [0.15, 0.3, 0.6, 1.0, 1.2]})\n",
    "\n",
    "# Load data\n",
    "salt.load_df_from_local_files(path_to_data= cfg['path_to_data'], \n",
    "                              min_cov_bases= cfg['min_cov_bases'])#,\n",
    "                            #  index='roi')\n",
    "\n",
    "# Show the dataframe\n",
    "salt._df.head()"
   ]
  },
  {
   "cell_type": "code",
   "execution_count": 1,
   "metadata": {},
   "outputs": [
    {
     "name": "stderr",
     "output_type": "stream",
     "text": [
      "/Users/ymdt/src/dreem_nap/venv-nap/lib/python3.10/site-packages/tqdm/auto.py:22: TqdmWarning: IProgress not found. Please update jupyter and ipywidgets. See https://ipywidgets.readthedocs.io/en/stable/user_install.html\n",
      "  from .autonotebook import tqdm as notebook_tqdm\n",
      "100%|\u001b[32m██████████\u001b[0m| 629/629 [00:00<00:00, 14700.70construct filtered/s, sample:470]\n",
      "100%|\u001b[32m██████████\u001b[0m| 628/628 [00:00<00:00, 20873.30construct filtered/s, sample:472]\n"
     ]
    }
   ],
   "source": [
    "#! usr/bin/env python3\n",
    "\n",
    "import pandas as pd\n",
    "import matplotlib.pyplot as plt\n",
    "import matplotlib as mpl\n",
    "from matplotlib.colors import LogNorm\n",
    "from os.path import exists, dirname\n",
    "import os, sys\n",
    "import numpy as np\n",
    "import seaborn as sns\n",
    "import json\n",
    "\n",
    "path = '/Users/ymdt/src/dreem_nap/'\n",
    "\n",
    "sys.path.append(path)\n",
    "from dreem_nap.manipulator import Manipulator\n",
    "\n",
    "from dreem_nap.study import Study, util\n",
    "import yaml\n",
    "import pickle\n",
    "\n",
    "#mpl.use('agg')\n",
    "\n",
    "\n",
    "with open(path+'config.yml', 'r') as ymlfile:\n",
    "    cfg = yaml.safe_load(ymlfile)\n",
    "\n",
    "mpl.rcParams['figure.dpi'] = cfg['mpl_rcParams_figure_dpi'] # the highest the resolution, the slowest the plotting\n",
    "\n",
    "####\n",
    "# SET HYPER PARAMETERS HERE\n",
    "####\n",
    "\n",
    "studies = Study.load_studies(cfg['path_to_studies'])\n",
    "study = Study.from_dict(studies['3UTR_v_5UTR'].__dict__)\n",
    "study.load_df_from_local_files(path_to_data= cfg['path_to_data'], min_cov_bases = cfg['min_cov_bases'], filter_by='sample')\n",
    "study._df.head()\n",
    "df = study._df\n"
   ]
  },
  {
   "cell_type": "code",
   "execution_count": 7,
   "metadata": {},
   "outputs": [],
   "source": [
    "df = study.mani.get_col_across_constructs(samp=470, \n",
    "                                            col='mut_rates',\n",
    "                                            index='CACAGTCGAAAGACTGTG') \n",
    "df.to_csv('example.csv')"
   ]
  },
  {
   "cell_type": "code",
   "execution_count": 11,
   "metadata": {},
   "outputs": [],
   "source": [
    "df = study.mani.get_SCC(samp=470,\n",
    "                        construct='3114-O-flank_1=hp7-DB', \n",
    "                        cols=['mut_rates','sequence','structure','cov_bases'],\n",
    "                        base_type=['A','C'], \n",
    "                        index=list(range(40,50))) \n",
    "df.to_csv('example.csv')"
   ]
  },
  {
   "cell_type": "code",
   "execution_count": 18,
   "metadata": {},
   "outputs": [
    {
     "name": "stdout",
     "output_type": "stream",
     "text": [
      "ART5\n",
      "ART5\n",
      "ART5\n",
      "ART5\n",
      "ART5\n",
      "ART5\n",
      "ART5\n",
      "ART5\n",
      "ART5\n",
      "ART5\n",
      "ART5\n",
      "ART5\n",
      "ART5\n",
      "ART5\n",
      "ART5\n",
      "ART5\n",
      "ART5\n",
      "ART5\n",
      "ART5\n",
      "ART5\n",
      "ART5\n",
      "ART5\n",
      "ART5\n",
      "ART5\n",
      "ART5\n",
      "ART5\n",
      "ART5\n",
      "ART5\n",
      "ART5\n",
      "ART5\n",
      "ART5\n",
      "ART5\n",
      "ART5\n",
      "ART5\n",
      "ART5\n",
      "ART5\n",
      "ART5\n",
      "ART5\n",
      "ART5\n",
      "ART5\n",
      "ART5\n",
      "ART5\n",
      "ART5\n",
      "ART5\n",
      "ART5\n",
      "ART5\n",
      "ART5\n",
      "ART5\n",
      "ART5\n",
      "ART5\n",
      "ART5\n",
      "ART5\n",
      "ART5\n",
      "ART5\n",
      "ART5\n",
      "ART5\n",
      "ART5\n",
      "ART5\n",
      "ART5\n",
      "ART5\n",
      "ART5\n",
      "ART5\n",
      "ART5\n",
      "ART5\n",
      "ART5\n",
      "ART5\n",
      "ART5\n",
      "ART5\n",
      "ART5\n",
      "ART5\n",
      "ART5\n",
      "ART5\n",
      "ART5\n",
      "ART5\n",
      "ART5\n",
      "ART5\n",
      "ART5\n",
      "ART5\n",
      "ART5\n",
      "ART5\n",
      "ART5\n",
      "ART5\n",
      "ART5\n",
      "ART5\n",
      "ART5\n",
      "ART5\n",
      "ART5\n",
      "ART5\n",
      "ART5\n",
      "ART5\n",
      "ART5\n",
      "ART5\n",
      "ART5\n",
      "ART5\n",
      "ART5\n",
      "ART5\n",
      "ART5\n",
      "ART5\n",
      "ART5\n",
      "ART5\n",
      "ART5\n",
      "ART5\n",
      "ART5\n",
      "ART5\n",
      "ART5\n",
      "ART5\n",
      "ART5\n",
      "ART5\n",
      "ART5\n",
      "ART5\n",
      "ART5\n",
      "ART5\n",
      "ART5\n",
      "ART5\n",
      "ART5\n",
      "ART5\n",
      "ART5\n",
      "ART5\n",
      "ART5\n",
      "ART5\n",
      "ART5\n",
      "ART5\n",
      "ART5\n",
      "ART5\n",
      "ART5\n",
      "ART5\n",
      "ART5\n",
      "ART5\n",
      "ART5\n",
      "ART5\n",
      "ART5\n",
      "ART5\n",
      "ART5\n",
      "ART5\n",
      "ART5\n",
      "ART5\n",
      "ART5\n",
      "ART5\n",
      "ART5\n",
      "ART5\n",
      "ART5\n",
      "ART5\n",
      "ART5\n",
      "ART5\n",
      "ART5\n",
      "ART5\n",
      "ART5\n",
      "ART5\n",
      "ART5\n",
      "ART5\n",
      "ART5\n",
      "ART5\n",
      "ART5\n",
      "ART5\n",
      "ART5\n",
      "ART5\n",
      "ART5\n",
      "ART5\n",
      "ART5\n",
      "ART5\n",
      "ART5\n",
      "ART5\n",
      "ART5\n",
      "ART5\n",
      "ART5\n",
      "ART5\n",
      "ART5\n",
      "ART5\n",
      "ART5\n",
      "ART5\n",
      "ART5\n",
      "ART5\n",
      "ART5\n",
      "ART5\n",
      "ART5\n",
      "ART5\n",
      "ART5\n",
      "ART5\n",
      "ART5\n",
      "ART5\n",
      "ART5\n",
      "ART5\n",
      "ART5\n",
      "ART5\n",
      "ART5\n",
      "ART5\n",
      "ART5\n",
      "ART5\n",
      "ART5\n",
      "ART5\n",
      "ART5\n",
      "ART5\n",
      "ART5\n",
      "ART5\n",
      "ART5\n",
      "ART5\n",
      "ART5\n",
      "ART5\n",
      "ART5\n",
      "ART5\n",
      "ART5\n",
      "ART5\n",
      "ART5\n",
      "ART5\n",
      "ART5\n",
      "ART5\n",
      "ART5\n",
      "ART5\n",
      "ART5\n",
      "ART5\n",
      "ART5\n",
      "ART5\n",
      "ART5\n",
      "ART5\n",
      "ART5\n",
      "ART5\n",
      "ART5\n",
      "ART5\n",
      "ART5\n",
      "ART5\n",
      "ART5\n",
      "ART5\n",
      "ART5\n",
      "ART5\n",
      "ART5\n",
      "ART5\n",
      "ART5\n",
      "ART5\n",
      "ART5\n",
      "ART5\n",
      "ART5\n",
      "ART5\n",
      "ART5\n",
      "ART5\n",
      "ART5\n",
      "ART5\n",
      "ART5\n",
      "ART5\n",
      "ART5\n",
      "ART5\n",
      "ART5\n",
      "ART5\n",
      "ART5\n",
      "ART5\n",
      "ART5\n",
      "ART5\n",
      "ART5\n",
      "ART5\n",
      "ART5\n",
      "ART5\n",
      "ART5\n",
      "ART5\n",
      "ART5\n",
      "ART5\n",
      "ART5\n",
      "ART5\n",
      "ART5\n",
      "ART5\n",
      "ART5\n",
      "ART5\n",
      "ART5\n",
      "ART5\n",
      "ART5\n",
      "ART5\n",
      "ART5\n",
      "ART5\n",
      "ART5\n",
      "ART5\n",
      "ART5\n",
      "ART5\n",
      "ART5\n",
      "ART5\n",
      "ART5\n",
      "ART5\n",
      "ART5\n",
      "ART5\n",
      "ART5\n",
      "ART5\n",
      "ART5\n",
      "ART5\n",
      "ART5\n",
      "ART5\n",
      "ART5\n",
      "ART5\n",
      "ART5\n",
      "ART5\n",
      "ART5\n",
      "ART5\n",
      "ART5\n",
      "ART5\n",
      "ART5\n",
      "ART5\n",
      "ART5\n",
      "ART5\n",
      "ART5\n",
      "ART5\n",
      "ART5\n",
      "ART5\n",
      "ART5\n",
      "ART5\n",
      "ART5\n",
      "ART5\n",
      "ART5\n",
      "ART5\n",
      "ART5\n",
      "ART5\n",
      "ART5\n",
      "ART5\n",
      "ART5\n",
      "ART5\n",
      "ART5\n",
      "ART5\n",
      "ART5\n",
      "ART5\n",
      "ART5\n",
      "ART5\n",
      "ART5\n",
      "ART5\n",
      "ART5\n",
      "ART5\n",
      "ART5\n",
      "ART5\n",
      "ART5\n",
      "ART5\n",
      "ART5\n",
      "ART5\n",
      "ART5\n",
      "ART5\n",
      "ART5\n",
      "ART5\n",
      "ART5\n",
      "ART5\n",
      "ART5\n",
      "ART5\n",
      "ART5\n",
      "ART5\n",
      "ART5\n",
      "ART5\n",
      "ART5\n",
      "ART5\n",
      "ART5\n",
      "ART5\n",
      "ART5\n",
      "ART5\n",
      "ART5\n",
      "ART5\n",
      "ART5\n",
      "ART5\n",
      "ART5\n",
      "ART5\n",
      "ART5\n",
      "ART5\n",
      "ART5\n",
      "ART5\n",
      "ART5\n",
      "ART5\n",
      "ART5\n",
      "ART5\n",
      "ART5\n",
      "ART5\n",
      "ART5\n",
      "ART5\n",
      "ART5\n",
      "ART5\n",
      "ART5\n",
      "ART5\n",
      "ART5\n",
      "ART5\n",
      "ART5\n",
      "ART5\n",
      "ART5\n",
      "ART5\n",
      "ART5\n",
      "ART5\n",
      "ART5\n",
      "ART5\n",
      "ART5\n",
      "ART5\n",
      "ART5\n",
      "ART5\n",
      "ART5\n",
      "ART5\n",
      "ART5\n",
      "ART5\n",
      "ART5\n",
      "ART5\n",
      "ART5\n",
      "ART5\n",
      "ART5\n",
      "ART5\n",
      "ART5\n",
      "ART5\n",
      "ART5\n",
      "ART5\n",
      "ART5\n",
      "ART5\n",
      "ART5\n",
      "ART5\n",
      "ART5\n",
      "ART5\n",
      "ART5\n",
      "ART5\n",
      "ART5\n",
      "ART5\n",
      "ART5\n",
      "ART5\n",
      "ART5\n",
      "ART5\n",
      "ART5\n",
      "ART5\n",
      "ART5\n",
      "ART5\n",
      "ART5\n",
      "ART5\n",
      "ART5\n",
      "ART5\n",
      "ART5\n",
      "ART5\n",
      "ART5\n",
      "ART5\n",
      "ART5\n",
      "ART5\n",
      "ART5\n",
      "ART5\n",
      "ART5\n",
      "ART5\n",
      "ART5\n",
      "ART5\n",
      "ART5\n",
      "ART5\n",
      "ART5\n",
      "ART5\n",
      "ART5\n",
      "ART5\n",
      "ART5\n",
      "ART5\n",
      "ART5\n",
      "ART5\n",
      "ART5\n",
      "ART5\n",
      "ART5\n",
      "ART5\n",
      "ART5\n",
      "ART5\n",
      "ART5\n",
      "ART5\n",
      "ART5\n",
      "ART5\n",
      "ART5\n",
      "ART5\n",
      "ART5\n",
      "ART5\n",
      "ART5\n",
      "ART5\n",
      "ART5\n",
      "ART5\n",
      "ART5\n",
      "ART5\n",
      "ART5\n",
      "ART5\n",
      "ART5\n",
      "ART5\n",
      "ART5\n",
      "ART5\n",
      "ART5\n",
      "ART5\n",
      "ART5\n",
      "ART5\n",
      "ART5\n",
      "ART5\n",
      "ART5\n"
     ]
    },
    {
     "ename": "IndexError",
     "evalue": "single positional indexer is out-of-bounds",
     "output_type": "error",
     "traceback": [
      "\u001b[0;31m---------------------------------------------------------------------------\u001b[0m",
      "\u001b[0;31mIndexError\u001b[0m                                Traceback (most recent call last)",
      "\u001b[1;32m/Users/ymdt/src/dreem_nap/examples/playground.ipynb Cell 10\u001b[0m in \u001b[0;36m<cell line: 4>\u001b[0;34m()\u001b[0m\n\u001b[1;32m      <a href='vscode-notebook-cell:/Users/ymdt/src/dreem_nap/examples/playground.ipynb#X11sZmlsZQ%3D%3D?line=4'>5</a>\u001b[0m \u001b[39mfor\u001b[39;00m construct \u001b[39min\u001b[39;00m study\u001b[39m.\u001b[39mconstructs:\n\u001b[1;32m      <a href='vscode-notebook-cell:/Users/ymdt/src/dreem_nap/examples/playground.ipynb#X11sZmlsZQ%3D%3D?line=5'>6</a>\u001b[0m     df \u001b[39m=\u001b[39m study\u001b[39m.\u001b[39mget_df()\n\u001b[0;32m----> <a href='vscode-notebook-cell:/Users/ymdt/src/dreem_nap/examples/playground.ipynb#X11sZmlsZQ%3D%3D?line=6'>7</a>\u001b[0m     \u001b[39mprint\u001b[39m(df[(df[\u001b[39m'\u001b[39;49m\u001b[39msamp\u001b[39;49m\u001b[39m'\u001b[39;49m]\u001b[39m==\u001b[39;49msamp)\u001b[39m&\u001b[39;49m(df[\u001b[39m'\u001b[39;49m\u001b[39mconstruct\u001b[39;49m\u001b[39m'\u001b[39;49m]\u001b[39m==\u001b[39;49mconstruct)][\u001b[39m'\u001b[39;49m\u001b[39msub-library\u001b[39;49m\u001b[39m'\u001b[39;49m]\u001b[39m.\u001b[39;49miloc[\u001b[39m0\u001b[39;49m])\n\u001b[1;32m      <a href='vscode-notebook-cell:/Users/ymdt/src/dreem_nap/examples/playground.ipynb#X11sZmlsZQ%3D%3D?line=7'>8</a>\u001b[0m     \u001b[39mif\u001b[39;00m df[(df[\u001b[39m'\u001b[39m\u001b[39msamp\u001b[39m\u001b[39m'\u001b[39m]\u001b[39m==\u001b[39msamp)\u001b[39m&\u001b[39m(df[\u001b[39m'\u001b[39m\u001b[39mconstruct\u001b[39m\u001b[39m'\u001b[39m]\u001b[39m==\u001b[39mconstruct)][\u001b[39m'\u001b[39m\u001b[39msub-library\u001b[39m\u001b[39m'\u001b[39m]\u001b[39m.\u001b[39miloc[\u001b[39m0\u001b[39m] \u001b[39m==\u001b[39m sub_lib:\n\u001b[1;32m      <a href='vscode-notebook-cell:/Users/ymdt/src/dreem_nap/examples/playground.ipynb#X11sZmlsZQ%3D%3D?line=8'>9</a>\u001b[0m         study\u001b[39m.\u001b[39mplot\u001b[39m.\u001b[39mmut_histogram(samp\u001b[39m=\u001b[39msamp,construct\u001b[39m=\u001b[39mconstruct)\n",
      "File \u001b[0;32m~/src/dreem_nap/venv-nap/lib/python3.10/site-packages/pandas/core/indexing.py:967\u001b[0m, in \u001b[0;36m_LocationIndexer.__getitem__\u001b[0;34m(self, key)\u001b[0m\n\u001b[1;32m    964\u001b[0m axis \u001b[39m=\u001b[39m \u001b[39mself\u001b[39m\u001b[39m.\u001b[39maxis \u001b[39mor\u001b[39;00m \u001b[39m0\u001b[39m\n\u001b[1;32m    966\u001b[0m maybe_callable \u001b[39m=\u001b[39m com\u001b[39m.\u001b[39mapply_if_callable(key, \u001b[39mself\u001b[39m\u001b[39m.\u001b[39mobj)\n\u001b[0;32m--> 967\u001b[0m \u001b[39mreturn\u001b[39;00m \u001b[39mself\u001b[39;49m\u001b[39m.\u001b[39;49m_getitem_axis(maybe_callable, axis\u001b[39m=\u001b[39;49maxis)\n",
      "File \u001b[0;32m~/src/dreem_nap/venv-nap/lib/python3.10/site-packages/pandas/core/indexing.py:1520\u001b[0m, in \u001b[0;36m_iLocIndexer._getitem_axis\u001b[0;34m(self, key, axis)\u001b[0m\n\u001b[1;32m   1517\u001b[0m     \u001b[39mraise\u001b[39;00m \u001b[39mTypeError\u001b[39;00m(\u001b[39m\"\u001b[39m\u001b[39mCannot index by location index with a non-integer key\u001b[39m\u001b[39m\"\u001b[39m)\n\u001b[1;32m   1519\u001b[0m \u001b[39m# validate the location\u001b[39;00m\n\u001b[0;32m-> 1520\u001b[0m \u001b[39mself\u001b[39;49m\u001b[39m.\u001b[39;49m_validate_integer(key, axis)\n\u001b[1;32m   1522\u001b[0m \u001b[39mreturn\u001b[39;00m \u001b[39mself\u001b[39m\u001b[39m.\u001b[39mobj\u001b[39m.\u001b[39m_ixs(key, axis\u001b[39m=\u001b[39maxis)\n",
      "File \u001b[0;32m~/src/dreem_nap/venv-nap/lib/python3.10/site-packages/pandas/core/indexing.py:1452\u001b[0m, in \u001b[0;36m_iLocIndexer._validate_integer\u001b[0;34m(self, key, axis)\u001b[0m\n\u001b[1;32m   1450\u001b[0m len_axis \u001b[39m=\u001b[39m \u001b[39mlen\u001b[39m(\u001b[39mself\u001b[39m\u001b[39m.\u001b[39mobj\u001b[39m.\u001b[39m_get_axis(axis))\n\u001b[1;32m   1451\u001b[0m \u001b[39mif\u001b[39;00m key \u001b[39m>\u001b[39m\u001b[39m=\u001b[39m len_axis \u001b[39mor\u001b[39;00m key \u001b[39m<\u001b[39m \u001b[39m-\u001b[39mlen_axis:\n\u001b[0;32m-> 1452\u001b[0m     \u001b[39mraise\u001b[39;00m \u001b[39mIndexError\u001b[39;00m(\u001b[39m\"\u001b[39m\u001b[39msingle positional indexer is out-of-bounds\u001b[39m\u001b[39m\"\u001b[39m)\n",
      "\u001b[0;31mIndexError\u001b[0m: single positional indexer is out-of-bounds"
     ]
    }
   ],
   "source": [
    "from dreem_nap import util\n",
    "sub_lib = 'MS2'\n",
    "mpl.use('agg') # use this to avoid display issues\n",
    "for samp in study.samples:\n",
    "    for construct in study.constructs:\n",
    "        df = study.get_df()\n",
    "        if df[(df['samp']==samp)&(df['construct']==construct)]['sub-library'].iloc[0] == sub_lib:\n",
    "            study.plot.mut_histogram(samp=samp,construct=construct)\n",
    "            util.save_fig(path_to_figs+'/'+study.name+'/'+samp+'_'+construct+'_mut_histogram.png')"
   ]
  },
  {
   "cell_type": "code",
   "execution_count": 57,
   "metadata": {},
   "outputs": [
    {
     "data": {
      "text/plain": [
       "<dreem_nap.plotter.OutputPlot at 0x287e95420>"
      ]
     },
     "execution_count": 57,
     "metadata": {},
     "output_type": "execute_result"
    },
    {
     "data": {
      "image/png": "[encoded data removed]",
      "text/plain": [
       "<Figure size 1440x360 with 1 Axes>"
      ]
     },
     "metadata": {
      "needs_background": "light"
     },
     "output_type": "display_data"
    }
   ],
   "source": [
    "study.plot.deltaG_sample(samp=472, \n",
    "                         structure='structure', \n",
    "                         deltaG='deltaG_min', \n",
    "                         max_mutation=0.15, \n",
    "                         models=['lambda x,a,b: a*x+b'], \n",
    "                         index=list(range(19,42)))\n"
   ]
  },
  {
   "cell_type": "code",
   "execution_count": 53,
   "metadata": {},
   "outputs": [
    {
     "data": {
      "text/plain": [
       "array(['flank_1'], dtype=object)"
      ]
     },
     "execution_count": 53,
     "metadata": {},
     "output_type": "execute_result"
    }
   ],
   "source": [
    "study._df['flank'].unique()"
   ]
  },
  {
   "cell_type": "code",
   "execution_count": 61,
   "metadata": {},
   "outputs": [
    {
     "data": {
      "text/plain": [
       "<dreem_nap.plotter.OutputPlot at 0x2982635b0>"
      ]
     },
     "execution_count": 61,
     "metadata": {},
     "output_type": "execute_result"
    },
    {
     "data": {
      "image/png": "[encoded data removed]",
      "text/plain": [
       "<Figure size 2520x504 with 1 Axes>"
      ]
     },
     "metadata": {
      "needs_background": "light"
     },
     "output_type": "display_data"
    }
   ],
   "source": [
    "study.plot.mut_histogram(samp=470,\n",
    "                         construct='3114-O-flank_1=hp7-DB',\n",
    "                         cluster=0,\n",
    "                         index=list(range(19,80)),\n",
    "                         base_paired=True,\n",
    "                         structure='structure')"
   ]
  },
  {
   "cell_type": "code",
   "execution_count": 1,
   "metadata": {},
   "outputs": [
    {
     "ename": "NameError",
     "evalue": "name 'salt' is not defined",
     "output_type": "error",
     "traceback": [
      "\u001b[0;31m---------------------------------------------------------------------------\u001b[0m",
      "\u001b[0;31mNameError\u001b[0m                                 Traceback (most recent call last)",
      "\u001b[1;32m/Users/ymdt/src/dreem_nap/examples/playground.ipynb Cell 8\u001b[0m in \u001b[0;36m<cell line: 1>\u001b[0;34m()\u001b[0m\n\u001b[0;32m----> <a href='vscode-notebook-cell:/Users/ymdt/src/dreem_nap/examples/playground.ipynb#X10sZmlsZQ%3D%3D?line=0'>1</a>\u001b[0m salt\u001b[39m.\u001b[39mplot\u001b[39m.\u001b[39mmut_histogram(samp\u001b[39m=\u001b[39m\u001b[39m470\u001b[39m, construct\u001b[39m=\u001b[39m\u001b[39m'\u001b[39m\u001b[39m3114-O-flank_1=hp7-DB\u001b[39m\u001b[39m'\u001b[39m, base_paired\u001b[39m=\u001b[39m\u001b[39mFalse\u001b[39;00m, structure\u001b[39m=\u001b[39m\u001b[39m'\u001b[39m\u001b[39mstructure\u001b[39m\u001b[39m'\u001b[39m)\n",
      "\u001b[0;31mNameError\u001b[0m: name 'salt' is not defined"
     ]
    }
   ],
   "source": [
    "\n",
    "salt.plot.mut_histogram(samp=470, construct='3114-O-flank_1=hp7-DB', base_paired=False, structure='structure')#, base_type=['A','C'])#index=list(range(19,42)))\n"
   ]
  },
  {
   "cell_type": "code",
   "execution_count": null,
   "metadata": {},
   "outputs": [],
   "source": [
    "base_type = list('ACTG')\n",
    "figsize=(10,5)\n",
    "colors = {'A':'r','C':'b','G':'y','T':'g'}\n",
    "samp=470\n",
    "construct='3114-O-flank_1=hp7-DB'\n",
    "index='CACAGTCGAAAGACTGTG'\n",
    "args = locals()\n",
    "args.pop('df')\n",
    "fig = plt.figure(figsize=figsize)\n",
    "ax = plt.axes()\n",
    "df_hist = pd.DataFrame()\n",
    "\n",
    "\n"
   ]
  },
  {
   "cell_type": "code",
   "execution_count": null,
   "metadata": {},
   "outputs": [],
   "source": [
    "min_base_cov = 1000\n",
    "studies = Study.load_studies(cfg['path_to_studies'])\n",
    "study = Study().from_dict(studies['all'].__dict__)\n",
    "study.load_df_from_local_files(path_to_data= cfg['path_to_data'], min_cov_bases =min_base_cov, filter_by='sample')\n",
    "for s in study.samples:\n",
    "    study.plot.deltaG_sample(samp=s, index = list(range(19,42)), base_type=['A','C'], structure='structure',deltaG='deltaG_min',figsize=(25, 7), grid=True, cluster=0, models=['lambda x, a, b, c: a+2*b*(np.exp(c*x)/(1+np.exp(c*x)))'])\n",
    "    util.save_fig(f\"/Users/ymdt/src/data/figs/Lauren/date/deltaG sample/min_base_cov = {min_base_cov}/index 19-41/{s}.png\")\n"
   ]
  },
  {
   "cell_type": "code",
   "execution_count": null,
   "metadata": {},
   "outputs": [],
   "source": [
    "df = study.get_df()\n",
    "\n",
    "print('base_coverage | # constructs 470 | # constructs 472')\n",
    "for min_base_cov in [5000, 4000, 3000, 2000,  1000, 500 ]:\n",
    "    stu = Study().from_dict(studies['3UTR_v_5UTR'].__dict__)\n",
    "    stu.load_df_from_local_files(path_to_data= cfg['path_to_data'], min_cov_bases = min_base_cov, filter_by='sample')\n",
    "    df = stu.get_df()\n",
    "    print(min_base_cov,sum(df.samp==470), sum(df.samp==472))\n",
    "    for s in df.samp.unique():\n",
    "        for c in df[df['samp']==s].construct.unique():\n",
    "            stu.plot.mut_histogram(samp=s, construct=c, plot_type='index', index = 'CACAGTCGAAAGACTGTG', figsize=(25, 7), grid=True, cluster=0)\n",
    "            util.save_fig(f\"/Users/ymdt/src/data/figs/Lauren/date/mutation histograms/{min_base_cov}/{s}/{c}.png\")\n"
   ]
  },
  {
   "cell_type": "code",
   "execution_count": null,
   "metadata": {},
   "outputs": [],
   "source": [
    "lambda x, a, b, c: a+2*b*(np.exp(c*x)/(1+np.exp(c*x)))"
   ]
  },
  {
   "cell_type": "code",
   "execution_count": null,
   "metadata": {},
   "outputs": [],
   "source": [
    "study.mani.get_SCC(samp=s, construct=c, cols=['mut_rates'], index = 'CACAGTCGAAAGACTGTG', base_type=['A','C'], structure='structure',  cluster=0)"
   ]
  },
  {
   "cell_type": "code",
   "execution_count": null,
   "metadata": {},
   "outputs": [],
   "source": [
    "out = study.plot.mut_histogram(samp=470, construct='3114-O-flank_1=hp7-DB', plot_type='index', index = list(range(19,42)), figsize=(25, 7), grid=True)\n",
    "print(out.data.to_csv('hi_lauren.csv'))"
   ]
  },
  {
   "cell_type": "code",
   "execution_count": null,
   "metadata": {},
   "outputs": [],
   "source": [
    "stack = pd.DataFrame()\n",
    "for c in study.constructs:\n",
    "    stack = pd.concat((stack, pd.DataFrame(study.mani.get_SCC(samp=470, construct=c, cols=['mut_rates'], index=list(range(19,42))).T)))#, index=[c])))\n",
    "stack.index = study.constructs\n",
    "stack"
   ]
  },
  {
   "cell_type": "markdown",
   "metadata": {},
   "source": [
    "## Make plots\n",
    "Plot this study with different plots. Check out the list of plots in the plot module\n",
    "\n",
    "### Mutation histogram"
   ]
  },
  {
   "cell_type": "code",
   "execution_count": null,
   "metadata": {},
   "outputs": [],
   "source": [
    "salt.mut_histogram(samp='A6', construct='7695',\\\n",
    "             plot_type='index', figsize=(28,4))"
   ]
  },
  {
   "cell_type": "markdown",
   "metadata": {},
   "source": [
    "### DeltaG\n",
    "DeltaG vs mutation rate for all constructs of a sample"
   ]
  },
  {
   "cell_type": "code",
   "execution_count": null,
   "metadata": {},
   "outputs": [],
   "source": [
    "salt.deltaG(samp='A6',bases_type=['A','C'], roi_range='all')  # currently bugged due to DREEM, work in progress"
   ]
  },
  {
   "cell_type": "markdown",
   "metadata": {},
   "source": [
    "### DeltaG_basewise\n",
    "Plot the mutation rate of each paired-predicted base of the ROI for each construct of a sample, w.r.t the deltaG estimation"
   ]
  },
  {
   "cell_type": "code",
   "execution_count": null,
   "metadata": {},
   "outputs": [],
   "source": [
    "salt.deltaG_basewise(samp='A6', roi_range=[94,95,96,97])"
   ]
  },
  {
   "cell_type": "markdown",
   "metadata": {},
   "source": [
    "###  Heatmap\n",
    "Here a heatmap of the minimum base coverage across all samples. Column can be any column that contains a single scalar value."
   ]
  },
  {
   "cell_type": "code",
   "execution_count": null,
   "metadata": {},
   "outputs": [],
   "source": [
    "salt.heatmap(column='min_cov_bases') "
   ]
  },
  {
   "cell_type": "markdown",
   "metadata": {},
   "source": [
    "### Mutation rate vs 1-base_pairing\n",
    "Plot a mutation rate histogram, a 1-base_pairing probability histogram, and a scatter plot fitting the mutation rate vs 1-base_pairing. "
   ]
  },
  {
   "cell_type": "code",
   "execution_count": null,
   "metadata": {},
   "outputs": [],
   "source": [
    "# currently bugged due to DREEM, work in progress\n",
    "salt.mut_rate_vs_base_non_pairing_prob(samp='A6', construct='7695') # shows the mutation rate vs base non-pairing probability"
   ]
  },
  {
   "cell_type": "markdown",
   "metadata": {},
   "source": [
    "### Base coverage\n",
    "Plot the base coverage of a specific (sample, construct)"
   ]
  },
  {
   "cell_type": "code",
   "execution_count": null,
   "metadata": {},
   "outputs": [],
   "source": [
    "salt.base_coverage(samp='A6', construct='9572')"
   ]
  },
  {
   "cell_type": "markdown",
   "metadata": {},
   "source": [
    "### Base coverage for all constructs\n",
    "Plot the base-coverage of the worst-covered base of the Region of Interest, for each construct. "
   ]
  },
  {
   "cell_type": "code",
   "execution_count": null,
   "metadata": {},
   "outputs": [],
   "source": [
    "salt.base_coverage_ROI_for_all_constructs()\n"
   ]
  },
  {
   "cell_type": "code",
   "execution_count": null,
   "metadata": {},
   "outputs": [],
   "source": [
    "salt.random_9_base_coverage()"
   ]
  },
  {
   "cell_type": "code",
   "execution_count": null,
   "metadata": {},
   "outputs": [],
   "source": [
    "random_9_base_coverage()\n",
    "sample_coverage_distribution()\n",
    "valid_construct_per_sample()\n",
    "sliding_window_r2_gini()\n",
    "study_base()\n",
    "study_sample()\n",
    "base_wise_mut_vs_prob()\n",
    "correlation_n_samples()\n"
   ]
  },
  {
   "cell_type": "code",
   "execution_count": null,
   "metadata": {},
   "outputs": [],
   "source": [
    "salt.study_base(construct='9572', structure='full',\n",
    "                roi_range=[40,63,78,94])"
   ]
  },
  {
   "cell_type": "markdown",
   "metadata": {},
   "source": [
    "### You can load every study from a file using Study.load_studies()"
   ]
  },
  {
   "cell_type": "code",
   "execution_count": null,
   "metadata": {},
   "outputs": [],
   "source": [
    "studies = Study.load_studies(cfg['path_to_studies'])\n",
    "for study in studies.values():\n",
    "    if study.name != 'all_samples':\n",
    "        study.load_df_from_local_files(path_to_data= cfg['path_to_data'], \n",
    "                                   min_cov_bases= cfg['min_cov_bases'])\n",
    "\n",
    "studies['temperature'].df.head()"
   ]
  },
  {
   "cell_type": "markdown",
   "metadata": {},
   "source": [
    "### Studies can be called from the dictionary using their name"
   ]
  },
  {
   "cell_type": "code",
   "execution_count": null,
   "metadata": {},
   "outputs": [],
   "source": [
    "studies['temperature'].mut_histogram(studies['temperature'].samples[0], '9572', 'index')"
   ]
  },
  {
   "cell_type": "code",
   "execution_count": null,
   "metadata": {},
   "outputs": [],
   "source": [
    "for study in studies.values():\n",
    "    if study.name != 'all_samples':\n",
    "        for s in study.samples:\n",
    "            for construct in study.constructs:\n",
    "                study.mut_histogram(s, construct, 'index')\n",
    "                util.save_fig(f\"data/figs/date/mutation histogram/{study.name}/{s}/{construct}.png\")\n",
    "                plt.close()\n"
   ]
  },
  {
   "cell_type": "code",
   "execution_count": null,
   "metadata": {},
   "outputs": [],
   "source": [
    "class TestStudy(Study):\n",
    "    def mut_histogram(self, samp:str, construct:str, plot_type:str, figsize=(35,7))->None:\n",
    "        \"\"\"Plot the mutation rate of a specific (sample, construct).\n",
    "\n",
    "        Args:\n",
    "        plot_type: 'index' or 'partition'. \n",
    "            - 'index' uses bases numbers as index and the original construct bases as colors.\n",
    "            - 'partition' uses original sequence bases as index and the partition of mutated bases as colors.\n",
    "        samp: sample of interest.\n",
    "        construct: construct of interest.\n",
    "        \"\"\"\n",
    "\n",
    "        df_use = self.df.set_index(['samp','construct'])\n",
    "        \n",
    "        if not plot_type in ['index','partition']:\n",
    "            raise Exception(f\"{plot_type} must be 'index' or 'partition', please check this argument\")\n",
    "\n",
    "        if plot_type == 'index':  # Plot the mutation rate for each base along the sequence\n",
    "\n",
    "            mut_per_base = pd.DataFrame({'mut_rates': df_use['mut_rates'].loc[samp, construct]\n",
    "                                        ,'base':list(df_use['sequence'].loc[samp, construct])})\\\n",
    "                                        .reset_index()\\\n",
    "                                        .set_index(['base', 'index'])\n",
    "            df_hist = pd.DataFrame()\n",
    "            df_hist.index = mut_per_base.reset_index()['index']\n",
    "\n",
    "            for base in ['A','C','G','T']:\n",
    "                df_hist[base] = pd.Series(dtype=float)\n",
    "                df_hist[base] = mut_per_base.loc[base]\n",
    "\n",
    "            #df_hist.index = mut_per_base.reset_index()['base']\n",
    "\n",
    "            ax = df_hist.plot.bar(stacked=True, color=['r','b','y','g'],  figsize=figsize)\n",
    "            plt.title(f\"sample {samp}, construct {construct}\")\n",
    "\n",
    "        if plot_type == 'partition': # Plot the partition of mutations for each base along the sequence\n",
    "            df_hist = pd.DataFrame()\n",
    "            for base in ['A','C','G','T']:\n",
    "                df_hist[f\"mod_bases_{base}\"]  = np.array(df_use[f\"mod_bases_{base}\"].loc[samp, construct][1:])/df_use['info_bases'].loc[samp, construct][1:]\n",
    "\n",
    "            df_hist.index = list(df_use['sequence'].loc[samp,construct])\n",
    "\n",
    "            ax = df_hist.plot.bar(stacked=True, color=['r','b','y','g'], figsize=figsize)\n",
    "\n",
    "        return ax\n",
    "\n",
    "\n",
    "# Load configuration\n",
    "with open('config.yml', 'r') as ymlfile:\n",
    "    cfg = yaml.safe_load(ymlfile)\n",
    "for k,v in cfg.items():\n",
    "    print(k,(30-len(k))*'_',v)\n",
    "\n",
    "mpl.rcParams['figure.dpi'] = cfg['mpl_rcParams_figure_dpi'] # the highest the resolution, the slowest the plotting\n",
    "\n",
    "# Create a study\n",
    "salt = TestStudy().from_dict({'name': 'salt',\n",
    "                         'description': 'Change the Na concentration', \n",
    "                         'samples': ['A6', 'B6', 'C6', 'D6', 'E6'], \n",
    "                         'title': 'Na quantity [M]', \n",
    "                         'conditions': [0.15, 0.3, 0.6, 1.0, 1.2]})\n",
    "\n",
    "# Load data\n",
    "salt.load_df_from_local_files(path_to_data= cfg['path_to_data'], \n",
    "                              min_cov_bases= cfg['min_cov_bases'])\n",
    "\n",
    "# Show the dataframe\n",
    "salt.df.head()"
   ]
  },
  {
   "cell_type": "code",
   "execution_count": null,
   "metadata": {},
   "outputs": [],
   "source": [
    "import pickle\n",
    "from os import listdir\n",
    "\n",
    "listdir('../data/DEMULTIPLEXED/')\n",
    "\n",
    "with open(f\"../data/DEMULTIPLEXED/A4/mh.p\",'rb') as f:\n",
    "    pick =pickle.load(f)\n",
    "    print(dir(pick['9572']))\n"
   ]
  },
  {
   "cell_type": "code",
   "execution_count": null,
   "metadata": {},
   "outputs": [],
   "source": []
  },
  {
   "cell_type": "code",
   "execution_count": null,
   "metadata": {},
   "outputs": [],
   "source": [
    "for s in salt.samples:\n",
    "    salt.mut_histogram(s, '9572', 'index')"
   ]
  }
 ],
 "metadata": {
  "kernelspec": {
   "display_name": "Python 3.10.5 ('venv-nap': venv)",
   "language": "python",
   "name": "python3"
  },
  "language_info": {
   "codemirror_mode": {
    "name": "ipython",
    "version": 3
   },
   "file_extension": ".py",
   "mimetype": "text/x-python",
   "name": "python",
   "nbconvert_exporter": "python",
   "pygments_lexer": "ipython3",
   "version": "3.10.5"
  },
  "orig_nbformat": 4,
  "vscode": {
   "interpreter": {
    "hash": "228ea3748f49093993f7ca989c09e25264db3703291e3a4aaa931dd28b2eaabc"
   }
  }
 },
 "nbformat": 4,
 "nbformat_minor": 2
}
