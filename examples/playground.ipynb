{
 "cells": [
  {
   "cell_type": "markdown",
   "metadata": {},
   "source": [
    "## Get started\n",
    "### Imports"
   ]
  },
  {
   "cell_type": "code",
   "execution_count": 13,
   "metadata": {},
   "outputs": [
    {
     "name": "stdout",
     "output_type": "stream",
     "text": [
      "/Users/ymdt/src/dreem_nap/dreem_nap\n"
     ]
    },
    {
     "ename": "ModuleNotFoundError",
     "evalue": "No module named 'dreem_nap.study'",
     "output_type": "error",
     "traceback": [
      "\u001b[0;31m---------------------------------------------------------------------------\u001b[0m",
      "\u001b[0;31mModuleNotFoundError\u001b[0m                       Traceback (most recent call last)",
      "\u001b[1;32m/Users/ymdt/src/dreem_nap/examples/playground.ipynb Cell 2\u001b[0m in \u001b[0;36m<cell line: 14>\u001b[0;34m()\u001b[0m\n\u001b[1;32m     <a href='vscode-notebook-cell:/Users/ymdt/src/dreem_nap/examples/playground.ipynb#W1sZmlsZQ%3D%3D?line=11'>12</a>\u001b[0m sys\u001b[39m.\u001b[39mpath\u001b[39m.\u001b[39mappend(path)\n\u001b[1;32m     <a href='vscode-notebook-cell:/Users/ymdt/src/dreem_nap/examples/playground.ipynb#W1sZmlsZQ%3D%3D?line=12'>13</a>\u001b[0m \u001b[39mfrom\u001b[39;00m \u001b[39mdreem_nap\u001b[39;00m \u001b[39mimport\u001b[39;00m \u001b[39m*\u001b[39m\n\u001b[0;32m---> <a href='vscode-notebook-cell:/Users/ymdt/src/dreem_nap/examples/playground.ipynb#W1sZmlsZQ%3D%3D?line=13'>14</a>\u001b[0m \u001b[39mfrom\u001b[39;00m \u001b[39mdreem_nap\u001b[39;00m\u001b[39m.\u001b[39;00m\u001b[39mstudy\u001b[39;00m \u001b[39mimport\u001b[39;00m Study\n\u001b[1;32m     <a href='vscode-notebook-cell:/Users/ymdt/src/dreem_nap/examples/playground.ipynb#W1sZmlsZQ%3D%3D?line=14'>15</a>\u001b[0m \u001b[39mimport\u001b[39;00m \u001b[39myaml\u001b[39;00m\n",
      "\u001b[0;31mModuleNotFoundError\u001b[0m: No module named 'dreem_nap.study'"
     ]
    }
   ],
   "source": [
    "import pandas as pd\n",
    "import matplotlib.pyplot as plt\n",
    "import matplotlib as mpl\n",
    "from matplotlib.colors import LogNorm\n",
    "from os.path import exists, dirname\n",
    "import os, sys\n",
    "import numpy as np\n",
    "import seaborn as sns\n",
    "import json\n",
    "path = os.path.dirname((os.path.abspath(''))) + '/dreem_nap'\n",
    "print(path)\n",
    "sys.path.append(path)\n",
    "from dreem_nap import *\n",
    "from dreem_nap import Study\n",
    "import yaml"
   ]
  },
  {
   "cell_type": "markdown",
   "metadata": {},
   "source": [
    "### Configuration\n",
    "- Load config file and check what's in it\n",
    "- Configurate the Notebook"
   ]
  },
  {
   "cell_type": "code",
   "execution_count": null,
   "metadata": {},
   "outputs": [],
   "source": [
    "with open('config.yml', 'r') as ymlfile:\n",
    "    cfg = yaml.safe_load(ymlfile)\n",
    "for k,v in cfg.items():\n",
    "    print(k,(30-len(k))*'_',v)\n",
    "\n",
    "mpl.rcParams['figure.dpi'] = cfg['mpl_rcParams_figure_dpi'] # the highest the resolution, the slowest the plotting\n",
    "mpl.rcParams[\"figure.figsize\"] = cfg['mpl_rcParams_figure_figsize'] # (width, height) in inches"
   ]
  },
  {
   "cell_type": "markdown",
   "metadata": {},
   "source": [
    "### Load data\n",
    "Create and load dataframe of a single study as a demo"
   ]
  },
  {
   "cell_type": "code",
   "execution_count": null,
   "metadata": {},
   "outputs": [],
   "source": [
    "from dreem_nap.study import Study\n",
    "\n",
    "# Create a study\n",
    "salt = Study().from_dict({'name': 'salt',\n",
    "                         'description': 'Change the Na concentration', \n",
    "                         'samples': ['A6', 'B6', 'C6', 'D6', 'E6'], \n",
    "                         'title': 'Na quantity [M]', \n",
    "                         'conditions': [0.15, 0.3, 0.6, 1.0, 1.2]})\n",
    "\n",
    "# Load data\n",
    "salt.load_df_from_local_files(path_to_data= cfg['path_to_data'], \n",
    "                              min_cov_bases= cfg['min_cov_bases'])\n",
    "\n",
    "# Show the dataframe\n",
    "salt.df.head()"
   ]
  },
  {
   "cell_type": "code",
   "execution_count": 2,
   "metadata": {},
   "outputs": [
    {
     "name": "stderr",
     "output_type": "stream",
     "text": [
      "/Users/ymdt/src/dreem_nap/dreem_nap/loader.py:83: RuntimeWarning: invalid value encountered in divide\n",
      "  df['mut_rates'] = df.apply(lambda x: np.divide(x['mut_bases'],x['info_bases']), axis=1)\n",
      "/Users/ymdt/src/dreem_nap/dreem_nap/loader.py:83: RuntimeWarning: invalid value encountered in divide\n",
      "  df['mut_rates'] = df.apply(lambda x: np.divide(x['mut_bases'],x['info_bases']), axis=1)\n",
      "/Users/ymdt/src/dreem_nap/dreem_nap/loader.py:83: RuntimeWarning: invalid value encountered in divide\n",
      "  df['mut_rates'] = df.apply(lambda x: np.divide(x['mut_bases'],x['info_bases']), axis=1)\n",
      "/Users/ymdt/src/dreem_nap/dreem_nap/loader.py:83: RuntimeWarning: invalid value encountered in divide\n",
      "  df['mut_rates'] = df.apply(lambda x: np.divide(x['mut_bases'],x['info_bases']), axis=1)\n",
      "/Users/ymdt/src/dreem_nap/dreem_nap/loader.py:83: RuntimeWarning: invalid value encountered in divide\n",
      "  df['mut_rates'] = df.apply(lambda x: np.divide(x['mut_bases'],x['info_bases']), axis=1)\n",
      "/Users/ymdt/src/dreem_nap/dreem_nap/loader.py:83: RuntimeWarning: invalid value encountered in divide\n",
      "  df['mut_rates'] = df.apply(lambda x: np.divide(x['mut_bases'],x['info_bases']), axis=1)\n",
      "/Users/ymdt/src/dreem_nap/dreem_nap/loader.py:83: RuntimeWarning: invalid value encountered in divide\n",
      "  df['mut_rates'] = df.apply(lambda x: np.divide(x['mut_bases'],x['info_bases']), axis=1)\n"
     ]
    },
    {
     "name": "stdout",
     "output_type": "stream",
     "text": [
      "312 constructs found across all samples for study temperature.\n"
     ]
    },
    {
     "data": {
      "text/plain": [
       "<dreem_nap.plotter.OutputPlot at 0x299243d00>"
      ]
     },
     "execution_count": 2,
     "metadata": {},
     "output_type": "execute_result"
    },
    {
     "data": {
      "text/plain": [
       "<Figure size 2500x700 with 0 Axes>"
      ]
     },
     "metadata": {},
     "output_type": "display_data"
    },
    {
     "data": {
      "image/png": "[encoded data removed]",
      "text/plain": [
       "<Figure size 2500x700 with 1 Axes>"
      ]
     },
     "metadata": {
      "needs_background": "light"
     },
     "output_type": "display_data"
    }
   ],
   "source": [
    "#! usr/bin/env python3\n",
    "\n",
    "import struct\n",
    "from zlib import DEF_BUF_SIZE\n",
    "import pandas as pd\n",
    "import matplotlib.pyplot as plt\n",
    "import matplotlib as mpl\n",
    "from matplotlib.colors import LogNorm\n",
    "from os.path import exists, dirname\n",
    "import os, sys\n",
    "import numpy as np\n",
    "import seaborn as sns\n",
    "import json\n",
    "\n",
    "path = '/Users/ymdt/src/dreem_nap/'\n",
    "\n",
    "sys.path.append(path)\n",
    "\n",
    "from dreem_nap.study import Study, util\n",
    "import yaml\n",
    "import pickle\n",
    "\n",
    "\n",
    "with open(path+'config.yml', 'r') as ymlfile:\n",
    "    cfg = yaml.safe_load(ymlfile)\n",
    "\n",
    "mpl.rcParams['figure.dpi'] = cfg['mpl_rcParams_figure_dpi'] # the highest the resolution, the slowest the plotting\n",
    "\n",
    "####\n",
    "# SET HYPER PARAMETERS HERE\n",
    "####\n",
    "\n",
    "studies = Study.load_studies(cfg['path_to_studies'])\n",
    "study = Study().from_dict(studies['temperature'].__dict__)\n",
    "study.load_df_from_local_files(path_to_data= cfg['path_to_data'], min_cov_bases= 100)#cfg['cov_min_bases'])\n",
    "\n",
    "with open(path+'data/temperature_df.p','rb') as f:\n",
    "    study.df = pickle.load(f)\n",
    "    f.close()\n",
    "\n",
    "study.constructs = study.df['construct'].unique()\n",
    "\n",
    "samp, construct = 'B8','12419'\n",
    "\n",
    "\n",
    "study._df['cluster'] = 0\n",
    "\n",
    "# base_type = ['A','C','G','T']\n",
    "# base_index = 'roi', 'all', [93,95,96]\n",
    "# base_paired = True, False or None (=both) # default is None \n",
    "# figsize = (25, 7) # custom by plot type\n",
    "\n",
    "# structure = \"structure_ROI\"\n",
    "\n",
    "# deltaG = \"deltaG_ens_DMS\"\n",
    "# cluster = 0, 1, 2\n",
    "\n",
    "# possible indexes\n",
    "# roi, all, [93,95,96]\n",
    "\n",
    "#print(dir(study.plot))\n",
    "study.plot.mut_histogram(samp=samp, construct=construct, \\\n",
    "    base_type=['A','G'], base_index='all', base_paired=True,\\\n",
    "    structure = 'structure', figsize=(25, 7))\n"
   ]
  },
  {
   "cell_type": "code",
   "execution_count": null,
   "metadata": {},
   "outputs": [],
   "source": [
    "\n",
    "\n",
    "\n",
    "\n",
    "def assert_structure(df, structure):\n",
    "    assert structure in df.columns, f\"Structure {structure} not found\"\n",
    "\n",
    "\n",
    "def assert_deltaG(df, deltaG):\n",
    "    assert deltaG in df.columns, f\"deltaG {deltaG} not found\"\n",
    "\n",
    "\n",
    "def define_index(df, samp, construct, cluster, index):\n",
    "    if index in ['all','full'] :\n",
    "        return df.index\n",
    "    if index == 'roi':\n",
    "        assert [roi in df.columns for roi in ['ROI_start','ROI_stop']], 'ROI_start and ROI_stop not found'\n",
    "        return list(range(int(get_series(df, samp, construct, cluster)['ROI_start']), int(get_series(df, samp, construct, cluster)['ROI_stop'])))\n",
    "    if type(index) in [list,tuple]:\n",
    "        assert [i in list(range(len(get_series(df, samp, construct, cluster)['sequence']))) for i in index], 'Index out of range'\n",
    "        return index\n",
    "    raise ValueError(f\"Index {index} not recognized\")\n",
    "\n",
    "def filter_base_paired(df_loc, base_paired):\n",
    "    # base_type = ['A','C','G','T']\n",
    "    # base_index = 'roi', 'all', [93,95,96]\n",
    "    # base_paired = True, False or None (=both) # default is None \n",
    "\n",
    "    if base_paired == True:\n",
    "        df_loc = df_loc[df_loc['paired'] == True]\n",
    "    elif base_paired == False:\n",
    "        df_loc = df_loc[df_loc['paired'] == False]\n",
    "    elif base_paired == None:\n",
    "        pass\n",
    "    return df_loc\n",
    "\n",
    "def filter_index(df_loc, index):\n",
    "    return df_loc.loc[index]\n",
    "\n",
    "def filter_base_type(df_loc, base_type):\n",
    "    df_loc = pd.concat([df_loc[df_loc['base'] == base] for base in base_type], axis=0)\n",
    "    return df_loc\n",
    "\n",
    "def filter(df_loc, base_type, index, base_paired):\n",
    "    df_loc = filter_index(df_loc, index)\n",
    "    df_loc = filter_base_paired(df_loc, base_paired)\n",
    "    df_loc = filter_base_type(df_loc, base_type)\n",
    "    return df_loc\n",
    "\n",
    "def get_df(df, samp, construct, cols, cluster=0, structure='structure', deltaG='deltaG', base_type = ['A','C','G','T'], index='all', base_paired=None):\n",
    "\n",
    "    assert_structure(df, structure)\n",
    "    assert_deltaG(df, deltaG)\n",
    "    cols = [c for c in cols if not (c.startswith('deltaG') or c.startswith('structure'))]\n",
    "    cols = cols + [structure, deltaG]\n",
    "\n",
    "    for col in cols:\n",
    "        assert col in df.columns, f\"Column {col} not found\"\n",
    "\n",
    "    df_loc = get_series(df, samp, construct, cluster)\n",
    "    for col in [c for c in cols if type(df_loc[c]) in [str]]:\n",
    "        df_loc[col] = list(df_loc[col])\n",
    "\n",
    "    df_loc = pd.DataFrame({col: df_loc[col] for col in cols})\n",
    "\n",
    "    for st in [col for col in cols if 'structure' in col]:\n",
    "        df_loc['paired'] = [{'.':False,'(':True,')':True}[x] for x in df_loc[st]]\n",
    "        df_loc = df_loc.drop(columns=st)\n",
    "    \n",
    "    df_loc = df_loc.rename(columns={'sequence':'base'})\n",
    "    \n",
    "    index = define_index(df_loc, samp, construct, cluster, index)\n",
    "    df_loc = filter(df_loc, base_type, index, base_paired)\n",
    "    return df_loc.sort_index()\n",
    "\n",
    "def get_series(df, samp, construct, cluster):\n",
    "    assert len(df_out := study.df[(study.df['construct'] == construct)&(study.df['samp'] == samp)&(study.df['cluster'] == cluster)]) <= 1, 'More than one row found'\n",
    "    assert len(df_out) >= 1, 'No row found'\n",
    "    return df_out.iloc[0]\n",
    "\n",
    "\n",
    "class OutputPlot(object):\n",
    "    def __init__(self, fig, ax, data) -> None:\n",
    "        self.fig = fig\n",
    "        self.ax = ax\n",
    "        self.data = data\n",
    "\n",
    "from dreem_nap import manipulator\n",
    "\n",
    "class TestPlotter():\n",
    "    def __init__(self):\n",
    "        self.__man = manipulator.Manipulator()\n",
    "\n",
    "    def mut_histogram(self, samp:str, construct:str, plot_type:str='index', figsize=(35,7), **kwargs)->None:\n",
    "        \"\"\"Plot the mutation rate of a specific (sample, construct).\n",
    "\n",
    "        Args:\n",
    "            samp: sample of interest.\n",
    "            construct: construct of interest.\n",
    "            plot_type: 'index' or 'partition'. \n",
    "                - 'index' uses bases numbers as index and the original construct bases as colors.\n",
    "                - 'partition' uses original sequence bases as index and the partition of mutated bases as colors.\n",
    "            figsize: figure size.\n",
    "            **kwargs: \n",
    "                - keyword arguments for base_type, index, base_paired.\n",
    "                - keyword arguments for matplotlib.pyplot\n",
    "        \n",
    "        Returns:\n",
    "            OutputPlot: output plot data:\n",
    "                - fig: figure object.\n",
    "                - ax: axis object.\n",
    "                - data: plotted data.\n",
    "        \"\"\"\n",
    "        fig = plt.figure(figsize=figsize)\n",
    "\n",
    "        df_use = self.df.set_index(['samp','construct'])\n",
    "        \n",
    "        if not plot_type in ['index','partition']:\n",
    "            raise Exception(f\"{plot_type} must be 'index' or 'partition', please check this argument\")\n",
    "\n",
    "        df_hist = pd.DataFrame()\n",
    "        self.__man\n",
    "\n",
    "        if plot_type == 'index':  # Plot the mutation rate for each base along the sequence\n",
    "\n",
    "            mut_per_base = pd.DataFrame({'mut_rates': df_use['mut_rates'].loc[samp, construct]\n",
    "                                        ,'base':list(df_use['sequence'].loc[samp, construct])})\\\n",
    "                                        .reset_index()\\\n",
    "                                        .set_index(['base', 'index'])\n",
    "            df_hist.index = mut_per_base.reset_index()['index']\n",
    "\n",
    "            for base in ['A','C','G','T']:\n",
    "                df_hist[base] = pd.Series(dtype=float)\n",
    "                df_hist[base] = mut_per_base.loc[base]\n",
    "\n",
    "            ax = df_hist.plot.bar(stacked=True, color=['r','b','y','g'],  figsize=figsize)\n",
    "            plt.title(f\"sample {samp}, construct {construct}\")\n",
    "\n",
    "        if plot_type == 'partition': # Plot the partition of mutations for each base along the sequence\n",
    "            for base in ['A','C','G','T']:\n",
    "                df_hist[f\"mod_bases_{base}\"]  = np.array(df_use[f\"mod_bases_{base}\"].loc[samp, construct][1:])/df_use['info_bases'].loc[samp, construct][1:]\n",
    "\n",
    "            df_hist.index = list(df_use['sequence'].loc[samp,construct])\n",
    "\n",
    "            ax = df_hist.plot.bar(stacked=True, color=['r','b','y','g'], figsize=figsize)\n",
    "        \n",
    "        [getattr(plt, arg)(kwargs[arg]) for arg in kwargs if hasattr(plt, arg)] \n",
    "\n",
    "        return OutputPlot(fig, ax, df_hist)\n",
    "\n",
    "\n",
    "class TestStudy(Study, TestPlotter):\n",
    "    \n",
    "\n",
    "cols = ['mut_bases','cov_bases', 'sequence', 'structure', 'deltaG']\n",
    "print(get_df(df=study.df, samp=samp, construct=construct, cluster=0, cols=cols, index='all', base_paired=None, base_type=['A','C','G','T'], deltaG='deltaG', structure='structure'))\n",
    "#df = pd.DataFrame(df_loc[cols].str.split('',1),columns=cols)\n"
   ]
  },
  {
   "cell_type": "markdown",
   "metadata": {},
   "source": [
    "## Make plots\n",
    "Plot this study with different plots. Check out the list of plots in the plot module\n",
    "\n",
    "### Mutation histogram"
   ]
  },
  {
   "cell_type": "code",
   "execution_count": null,
   "metadata": {},
   "outputs": [],
   "source": [
    "salt.mut_histogram(samp='A6', construct='7695',\\\n",
    "             plot_type='index', figsize=(28,4))"
   ]
  },
  {
   "cell_type": "markdown",
   "metadata": {},
   "source": [
    "### DeltaG\n",
    "DeltaG vs mutation rate for all constructs of a sample"
   ]
  },
  {
   "cell_type": "code",
   "execution_count": null,
   "metadata": {},
   "outputs": [],
   "source": [
    "salt.deltaG(samp='A6',bases_type=['A','C'], roi_range='all')  # currently bugged due to DREEM, work in progress"
   ]
  },
  {
   "cell_type": "markdown",
   "metadata": {},
   "source": [
    "### DeltaG_basewise\n",
    "Plot the mutation rate of each paired-predicted base of the ROI for each construct of a sample, w.r.t the deltaG estimation"
   ]
  },
  {
   "cell_type": "code",
   "execution_count": null,
   "metadata": {},
   "outputs": [],
   "source": [
    "salt.deltaG_basewise(samp='A6', roi_range=[94,95,96,97])"
   ]
  },
  {
   "cell_type": "markdown",
   "metadata": {},
   "source": [
    "###  Heatmap\n",
    "Here a heatmap of the minimum base coverage across all samples. Column can be any column that contains a single scalar value."
   ]
  },
  {
   "cell_type": "code",
   "execution_count": null,
   "metadata": {},
   "outputs": [],
   "source": [
    "salt.heatmap(column='min_cov_bases') "
   ]
  },
  {
   "cell_type": "markdown",
   "metadata": {},
   "source": [
    "### Mutation rate vs 1-base_pairing\n",
    "Plot a mutation rate histogram, a 1-base_pairing probability histogram, and a scatter plot fitting the mutation rate vs 1-base_pairing. "
   ]
  },
  {
   "cell_type": "code",
   "execution_count": null,
   "metadata": {},
   "outputs": [],
   "source": [
    "# currently bugged due to DREEM, work in progress\n",
    "salt.mut_rate_vs_base_non_pairing_prob(samp='A6', construct='7695') # shows the mutation rate vs base non-pairing probability"
   ]
  },
  {
   "cell_type": "markdown",
   "metadata": {},
   "source": [
    "### Base coverage\n",
    "Plot the base coverage of a specific (sample, construct)"
   ]
  },
  {
   "cell_type": "code",
   "execution_count": null,
   "metadata": {},
   "outputs": [],
   "source": [
    "salt.base_coverage(samp='A6', construct='9572')"
   ]
  },
  {
   "cell_type": "markdown",
   "metadata": {},
   "source": [
    "### Base coverage for all constructs\n",
    "Plot the base-coverage of the worst-covered base of the Region of Interest, for each construct. "
   ]
  },
  {
   "cell_type": "code",
   "execution_count": null,
   "metadata": {},
   "outputs": [],
   "source": [
    "salt.base_coverage_ROI_for_all_constructs()\n"
   ]
  },
  {
   "cell_type": "code",
   "execution_count": null,
   "metadata": {},
   "outputs": [],
   "source": [
    "salt.random_9_base_coverage()"
   ]
  },
  {
   "cell_type": "code",
   "execution_count": null,
   "metadata": {},
   "outputs": [],
   "source": [
    "random_9_base_coverage()\n",
    "sample_coverage_distribution()\n",
    "valid_construct_per_sample()\n",
    "sliding_window_r2_gini()\n",
    "study_base()\n",
    "study_sample()\n",
    "base_wise_mut_vs_prob()\n",
    "correlation_n_samples()\n"
   ]
  },
  {
   "cell_type": "code",
   "execution_count": null,
   "metadata": {},
   "outputs": [],
   "source": [
    "salt.study_base(construct='9572', structure='full',\n",
    "                roi_range=[40,63,78,94])"
   ]
  },
  {
   "cell_type": "markdown",
   "metadata": {},
   "source": [
    "### You can load every study from a file using Study.load_studies()"
   ]
  },
  {
   "cell_type": "code",
   "execution_count": null,
   "metadata": {},
   "outputs": [],
   "source": [
    "studies = Study.load_studies(cfg['path_to_studies'])\n",
    "for study in studies.values():\n",
    "    if study.name != 'all_samples':\n",
    "        study.load_df_from_local_files(path_to_data= cfg['path_to_data'], \n",
    "                                   min_cov_bases= cfg['min_cov_bases'])\n",
    "\n",
    "studies['temperature'].df.head()"
   ]
  },
  {
   "cell_type": "markdown",
   "metadata": {},
   "source": [
    "### Studies can be called from the dictionary using their name"
   ]
  },
  {
   "cell_type": "code",
   "execution_count": null,
   "metadata": {},
   "outputs": [],
   "source": [
    "studies['temperature'].mut_histogram(studies['temperature'].samples[0], '9572', 'index')"
   ]
  },
  {
   "cell_type": "code",
   "execution_count": null,
   "metadata": {},
   "outputs": [],
   "source": [
    "for study in studies.values():\n",
    "    if study.name != 'all_samples':\n",
    "        for s in study.samples:\n",
    "            for construct in study.constructs:\n",
    "                study.mut_histogram(s, construct, 'index')\n",
    "                util.save_fig(f\"data/figs/date/mutation histogram/{study.name}/{s}/{construct}.png\")\n",
    "                plt.close()\n"
   ]
  },
  {
   "cell_type": "code",
   "execution_count": null,
   "metadata": {},
   "outputs": [],
   "source": [
    "class TestStudy(Study):\n",
    "    def mut_histogram(self, samp:str, construct:str, plot_type:str, figsize=(35,7))->None:\n",
    "        \"\"\"Plot the mutation rate of a specific (sample, construct).\n",
    "\n",
    "        Args:\n",
    "        plot_type: 'index' or 'partition'. \n",
    "            - 'index' uses bases numbers as index and the original construct bases as colors.\n",
    "            - 'partition' uses original sequence bases as index and the partition of mutated bases as colors.\n",
    "        samp: sample of interest.\n",
    "        construct: construct of interest.\n",
    "        \"\"\"\n",
    "\n",
    "        df_use = self.df.set_index(['samp','construct'])\n",
    "        \n",
    "        if not plot_type in ['index','partition']:\n",
    "            raise Exception(f\"{plot_type} must be 'index' or 'partition', please check this argument\")\n",
    "\n",
    "        if plot_type == 'index':  # Plot the mutation rate for each base along the sequence\n",
    "\n",
    "            mut_per_base = pd.DataFrame({'mut_rates': df_use['mut_rates'].loc[samp, construct]\n",
    "                                        ,'base':list(df_use['sequence'].loc[samp, construct])})\\\n",
    "                                        .reset_index()\\\n",
    "                                        .set_index(['base', 'index'])\n",
    "            df_hist = pd.DataFrame()\n",
    "            df_hist.index = mut_per_base.reset_index()['index']\n",
    "\n",
    "            for base in ['A','C','G','T']:\n",
    "                df_hist[base] = pd.Series(dtype=float)\n",
    "                df_hist[base] = mut_per_base.loc[base]\n",
    "\n",
    "            #df_hist.index = mut_per_base.reset_index()['base']\n",
    "\n",
    "            ax = df_hist.plot.bar(stacked=True, color=['r','b','y','g'],  figsize=figsize)\n",
    "            plt.title(f\"sample {samp}, construct {construct}\")\n",
    "\n",
    "        if plot_type == 'partition': # Plot the partition of mutations for each base along the sequence\n",
    "            df_hist = pd.DataFrame()\n",
    "            for base in ['A','C','G','T']:\n",
    "                df_hist[f\"mod_bases_{base}\"]  = np.array(df_use[f\"mod_bases_{base}\"].loc[samp, construct][1:])/df_use['info_bases'].loc[samp, construct][1:]\n",
    "\n",
    "            df_hist.index = list(df_use['sequence'].loc[samp,construct])\n",
    "\n",
    "            ax = df_hist.plot.bar(stacked=True, color=['r','b','y','g'], figsize=figsize)\n",
    "\n",
    "        return ax\n",
    "\n",
    "\n",
    "# Load configuration\n",
    "with open('config.yml', 'r') as ymlfile:\n",
    "    cfg = yaml.safe_load(ymlfile)\n",
    "for k,v in cfg.items():\n",
    "    print(k,(30-len(k))*'_',v)\n",
    "\n",
    "mpl.rcParams['figure.dpi'] = cfg['mpl_rcParams_figure_dpi'] # the highest the resolution, the slowest the plotting\n",
    "\n",
    "# Create a study\n",
    "salt = TestStudy().from_dict({'name': 'salt',\n",
    "                         'description': 'Change the Na concentration', \n",
    "                         'samples': ['A6', 'B6', 'C6', 'D6', 'E6'], \n",
    "                         'title': 'Na quantity [M]', \n",
    "                         'conditions': [0.15, 0.3, 0.6, 1.0, 1.2]})\n",
    "\n",
    "# Load data\n",
    "salt.load_df_from_local_files(path_to_data= cfg['path_to_data'], \n",
    "                              min_cov_bases= cfg['min_cov_bases'])\n",
    "\n",
    "# Show the dataframe\n",
    "salt.df.head()"
   ]
  },
  {
   "cell_type": "code",
   "execution_count": null,
   "metadata": {},
   "outputs": [],
   "source": [
    "import pickle\n",
    "from os import listdir\n",
    "\n",
    "listdir('../data/DEMULTIPLEXED/')\n",
    "\n",
    "with open(f\"../data/DEMULTIPLEXED/A4/mh.p\",'rb') as f:\n",
    "    pick =pickle.load(f)\n",
    "    print(dir(pick['9572']))\n"
   ]
  },
  {
   "cell_type": "code",
   "execution_count": null,
   "metadata": {},
   "outputs": [],
   "source": []
  },
  {
   "cell_type": "code",
   "execution_count": null,
   "metadata": {},
   "outputs": [],
   "source": [
    "for s in salt.samples:\n",
    "    salt.mut_histogram(s, '9572', 'index')"
   ]
  }
 ],
 "metadata": {
  "kernelspec": {
   "display_name": "Python 3.10.5 ('venv-nap': venv)",
   "language": "python",
   "name": "python3"
  },
  "language_info": {
   "codemirror_mode": {
    "name": "ipython",
    "version": 3
   },
   "file_extension": ".py",
   "mimetype": "text/x-python",
   "name": "python",
   "nbconvert_exporter": "python",
   "pygments_lexer": "ipython3",
   "version": "3.10.5"
  },
  "orig_nbformat": 4,
  "vscode": {
   "interpreter": {
    "hash": "228ea3748f49093993f7ca989c09e25264db3703291e3a4aaa931dd28b2eaabc"
   }
  }
 },
 "nbformat": 4,
 "nbformat_minor": 2
}
