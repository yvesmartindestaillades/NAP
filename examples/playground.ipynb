{
 "cells": [
  {
   "cell_type": "markdown",
   "metadata": {},
   "source": [
    "## Get started\n",
    "### Imports"
   ]
  },
  {
   "cell_type": "code",
   "execution_count": 1,
   "metadata": {},
   "outputs": [
    {
     "name": "stdout",
     "output_type": "stream",
     "text": [
      "/Users/ymdt/src/dreem_nap\n"
     ]
    },
    {
     "name": "stderr",
     "output_type": "stream",
     "text": [
      "/Users/ymdt/src/dreem_nap/venv-nap/lib/python3.10/site-packages/tqdm/auto.py:22: TqdmWarning: IProgress not found. Please update jupyter and ipywidgets. See https://ipywidgets.readthedocs.io/en/stable/user_install.html\n",
      "  from .autonotebook import tqdm as notebook_tqdm\n"
     ]
    }
   ],
   "source": [
    "import pandas as pd\n",
    "import matplotlib.pyplot as plt\n",
    "import matplotlib as mpl\n",
    "from matplotlib.colors import LogNorm\n",
    "from os.path import exists, dirname\n",
    "import os, sys\n",
    "import numpy as np\n",
    "import seaborn as sns\n",
    "import json\n",
    "path = os.path.dirname((os.path.abspath('')))\n",
    "print(path)\n",
    "sys.path.append(path)\n",
    "from dreem_nap.study import Study\n",
    "import yaml"
   ]
  },
  {
   "cell_type": "markdown",
   "metadata": {},
   "source": [
    "### Configuration\n",
    "- Load config file and check what's in it\n",
    "- Configurate the Notebook"
   ]
  },
  {
   "cell_type": "code",
   "execution_count": 2,
   "metadata": {},
   "outputs": [
    {
     "name": "stdout",
     "output_type": "stream",
     "text": [
      "path_to_data __________________ /Users/ymdt/src/data/Gabe\n",
      "path_to_studies _______________ /Users/ymdt/src/data/Gabe/studies.csv\n",
      "min_cov_bases _________________ 1000\n",
      "mpl_rcParams_figure_dpi _______ 100\n"
     ]
    }
   ],
   "source": [
    "with open('../config.yml', 'r') as ymlfile:\n",
    "    cfg = yaml.safe_load(ymlfile)\n",
    "for k,v in cfg.items():\n",
    "    print(k,(30-len(k))*'_',v)\n",
    "\n",
    "mpl.rcParams['figure.dpi'] = cfg['mpl_rcParams_figure_dpi'] # the highest the resolution, the slowest the plotting\n"
   ]
  },
  {
   "cell_type": "markdown",
   "metadata": {},
   "source": [
    "### Load data\n",
    "Create and load dataframe of a single study as a demo"
   ]
  },
  {
   "cell_type": "code",
   "execution_count": 3,
   "metadata": {},
   "outputs": [
    {
     "name": "stderr",
     "output_type": "stream",
     "text": [
      "/Users/ymdt/src/dreem_nap/dreem_nap/loader.py:95: RuntimeWarning: invalid value encountered in divide\n",
      "  df['mut_rates'] = df.apply(lambda x: np.divide(x['mut_bases'],x['info_bases']), axis=1)\n",
      "100%|\u001b[32m██████████\u001b[0m| 12471/12471 [01:07<00:00, 185.44construct/s, filtered]\n",
      "/Users/ymdt/src/dreem_nap/dreem_nap/loader.py:95: RuntimeWarning: invalid value encountered in divide\n",
      "  df['mut_rates'] = df.apply(lambda x: np.divide(x['mut_bases'],x['info_bases']), axis=1)\n",
      "  2%|\u001b[32m▏         \u001b[0m| 263/12471 [00:01<01:06, 183.39construct/s, filtered]"
     ]
    }
   ],
   "source": [
    "from dreem_nap.study import Study\n",
    "\n",
    "# Create a study\n",
    "salt = Study.from_dict({'name': 'salt',\n",
    "                         'description': 'Change the Na concentration', \n",
    "                         'samples': ['A6', 'B6', 'C6', 'D6', 'E6'], \n",
    "                         'label': 'Na quantity [M]', \n",
    "                         'conditions': [0.15, 0.3, 0.6, 1.0, 1.2]})\n",
    "\n",
    "# Load data\n",
    "salt.load_df_from_local_files(path_to_data= cfg['path_to_data'], \n",
    "                              min_cov_bases= cfg['min_cov_bases'],\n",
    "                              index='roi')\n",
    "\n",
    "# Show the dataframe\n",
    "salt._df.head()"
   ]
  },
  {
   "cell_type": "code",
   "execution_count": null,
   "metadata": {},
   "outputs": [],
   "source": [
    "#! usr/bin/env python3\n",
    "\n",
    "import pandas as pd\n",
    "import matplotlib.pyplot as plt\n",
    "import matplotlib as mpl\n",
    "from matplotlib.colors import LogNorm\n",
    "from os.path import exists, dirname\n",
    "import os, sys\n",
    "import numpy as np\n",
    "import seaborn as sns\n",
    "import json\n",
    "\n",
    "path = '/Users/ymdt/src/dreem_nap/'\n",
    "\n",
    "sys.path.append(path)\n",
    "from dreem_nap.manipulator import Manipulator\n",
    "\n",
    "from dreem_nap.study import Study, util\n",
    "import yaml\n",
    "import pickle\n",
    "\n",
    "#mpl.use('agg')\n",
    "\n",
    "\n",
    "with open(path+'config.yml', 'r') as ymlfile:\n",
    "    cfg = yaml.safe_load(ymlfile)\n",
    "\n",
    "mpl.rcParams['figure.dpi'] = cfg['mpl_rcParams_figure_dpi'] # the highest the resolution, the slowest the plotting\n",
    "\n",
    "####\n",
    "# SET HYPER PARAMETERS HERE\n",
    "####\n",
    "\n",
    "studies = Study.load_studies(cfg['path_to_studies'])\n",
    "study = Study().from_dict(studies['all'].__dict__)\n",
    "study.load_df_from_local_files(path_to_data= cfg['path_to_data'], min_cov_bases = cfg['min_cov_bases'], filter_by='sample')\n",
    "study._df.head()\n",
    "study.plot.mut_histogram(samp=470, construct='3114-O-flank_1=hp7-DB', plot_type='index', index='CACAGTCGAAAGACTGTG')"
   ]
  },
  {
   "cell_type": "code",
   "execution_count": null,
   "metadata": {},
   "outputs": [],
   "source": [
    "base_type = list('ACTG')\n",
    "figsize=(10,5)\n",
    "colors = {'A':'r','C':'b','G':'y','T':'g'}\n",
    "samp=470\n",
    "construct='3114-O-flank_1=hp7-DB'\n",
    "index='CACAGTCGAAAGACTGTG'\n",
    "args = locals()\n",
    "args.pop('df')\n",
    "fig = plt.figure(figsize=figsize)\n",
    "ax = plt.axes()\n",
    "df_hist = pd.DataFrame()\n",
    "\n",
    "\n"
   ]
  },
  {
   "cell_type": "code",
   "execution_count": null,
   "metadata": {},
   "outputs": [],
   "source": [
    "plt."
   ]
  },
  {
   "cell_type": "code",
   "execution_count": null,
   "metadata": {},
   "outputs": [],
   "source": [
    "min_base_cov = 1000\n",
    "studies = Study.load_studies(cfg['path_to_studies'])\n",
    "study = Study().from_dict(studies['all'].__dict__)\n",
    "study.load_df_from_local_files(path_to_data= cfg['path_to_data'], min_cov_bases =min_base_cov, filter_by='sample')\n",
    "for s in study.samples:\n",
    "    study.plot.deltaG_sample(samp=s, index = list(range(19,42)), base_type=['A','C'], structure='structure',deltaG='deltaG_min',figsize=(25, 7), grid=True, cluster=0, models=['lambda x, a, b, c: a+2*b*(np.exp(c*x)/(1+np.exp(c*x)))'])\n",
    "    util.save_fig(f\"/Users/ymdt/src/data/figs/Lauren/date/deltaG sample/min_base_cov = {min_base_cov}/index 19-41/{s}.png\")\n"
   ]
  },
  {
   "cell_type": "code",
   "execution_count": null,
   "metadata": {},
   "outputs": [],
   "source": [
    "df = study.get_df()\n",
    "\n",
    "print('base_coverage | # constructs 470 | # constructs 472')\n",
    "for min_base_cov in [5000, 4000, 3000, 2000,  1000, 500 ]:\n",
    "    stu = Study().from_dict(studies['3UTR_v_5UTR'].__dict__)\n",
    "    stu.load_df_from_local_files(path_to_data= cfg['path_to_data'], min_cov_bases = min_base_cov, filter_by='sample')\n",
    "    df = stu.get_df()\n",
    "    print(min_base_cov,sum(df.samp==470), sum(df.samp==472))\n",
    "    for s in df.samp.unique():\n",
    "        for c in df[df['samp']==s].construct.unique():\n",
    "            stu.plot.mut_histogram(samp=s, construct=c, plot_type='index', index = 'CACAGTCGAAAGACTGTG', figsize=(25, 7), grid=True, cluster=0)\n",
    "            util.save_fig(f\"/Users/ymdt/src/data/figs/Lauren/date/mutation histograms/{min_base_cov}/{s}/{c}.png\")\n",
    "\n",
    "\n"
   ]
  },
  {
   "cell_type": "code",
   "execution_count": null,
   "metadata": {},
   "outputs": [],
   "source": [
    "lambda x, a, b, c: a+2*b*(np.exp(c*x)/(1+np.exp(c*x)))"
   ]
  },
  {
   "cell_type": "code",
   "execution_count": null,
   "metadata": {},
   "outputs": [],
   "source": [
    "study.mani.get_SCC(samp=s, construct=c, cols=['mut_rates'], index = 'CACAGTCGAAAGACTGTG', base_type=['A','C'], structure='structure',  cluster=0)"
   ]
  },
  {
   "cell_type": "code",
   "execution_count": null,
   "metadata": {},
   "outputs": [],
   "source": [
    "out = study.plot.mut_histogram(samp=470, construct='3114-O-flank_1=hp7-DB', plot_type='index', index = list(range(19,42)), figsize=(25, 7), grid=True)\n",
    "print(out.data.to_csv('hi_lauren.csv'))"
   ]
  },
  {
   "cell_type": "code",
   "execution_count": null,
   "metadata": {},
   "outputs": [],
   "source": [
    "stack = pd.DataFrame()\n",
    "for c in study.constructs:\n",
    "    stack = pd.concat((stack, pd.DataFrame(study.mani.get_SCC(samp=470, construct=c, cols=['mut_rates'], index=list(range(19,42))).T)))#, index=[c])))\n",
    "stack.index = study.constructs\n",
    "stack"
   ]
  },
  {
   "cell_type": "markdown",
   "metadata": {},
   "source": [
    "## Make plots\n",
    "Plot this study with different plots. Check out the list of plots in the plot module\n",
    "\n",
    "### Mutation histogram"
   ]
  },
  {
   "cell_type": "code",
   "execution_count": null,
   "metadata": {},
   "outputs": [],
   "source": [
    "salt.mut_histogram(samp='A6', construct='7695',\\\n",
    "             plot_type='index', figsize=(28,4))"
   ]
  },
  {
   "cell_type": "markdown",
   "metadata": {},
   "source": [
    "### DeltaG\n",
    "DeltaG vs mutation rate for all constructs of a sample"
   ]
  },
  {
   "cell_type": "code",
   "execution_count": null,
   "metadata": {},
   "outputs": [],
   "source": [
    "salt.deltaG(samp='A6',bases_type=['A','C'], roi_range='all')  # currently bugged due to DREEM, work in progress"
   ]
  },
  {
   "cell_type": "markdown",
   "metadata": {},
   "source": [
    "### DeltaG_basewise\n",
    "Plot the mutation rate of each paired-predicted base of the ROI for each construct of a sample, w.r.t the deltaG estimation"
   ]
  },
  {
   "cell_type": "code",
   "execution_count": null,
   "metadata": {},
   "outputs": [],
   "source": [
    "salt.deltaG_basewise(samp='A6', roi_range=[94,95,96,97])"
   ]
  },
  {
   "cell_type": "markdown",
   "metadata": {},
   "source": [
    "###  Heatmap\n",
    "Here a heatmap of the minimum base coverage across all samples. Column can be any column that contains a single scalar value."
   ]
  },
  {
   "cell_type": "code",
   "execution_count": null,
   "metadata": {},
   "outputs": [],
   "source": [
    "salt.heatmap(column='min_cov_bases') "
   ]
  },
  {
   "cell_type": "markdown",
   "metadata": {},
   "source": [
    "### Mutation rate vs 1-base_pairing\n",
    "Plot a mutation rate histogram, a 1-base_pairing probability histogram, and a scatter plot fitting the mutation rate vs 1-base_pairing. "
   ]
  },
  {
   "cell_type": "code",
   "execution_count": null,
   "metadata": {},
   "outputs": [],
   "source": [
    "# currently bugged due to DREEM, work in progress\n",
    "salt.mut_rate_vs_base_non_pairing_prob(samp='A6', construct='7695') # shows the mutation rate vs base non-pairing probability"
   ]
  },
  {
   "cell_type": "markdown",
   "metadata": {},
   "source": [
    "### Base coverage\n",
    "Plot the base coverage of a specific (sample, construct)"
   ]
  },
  {
   "cell_type": "code",
   "execution_count": null,
   "metadata": {},
   "outputs": [],
   "source": [
    "salt.base_coverage(samp='A6', construct='9572')"
   ]
  },
  {
   "cell_type": "markdown",
   "metadata": {},
   "source": [
    "### Base coverage for all constructs\n",
    "Plot the base-coverage of the worst-covered base of the Region of Interest, for each construct. "
   ]
  },
  {
   "cell_type": "code",
   "execution_count": null,
   "metadata": {},
   "outputs": [],
   "source": [
    "salt.base_coverage_ROI_for_all_constructs()\n"
   ]
  },
  {
   "cell_type": "code",
   "execution_count": null,
   "metadata": {},
   "outputs": [],
   "source": [
    "salt.random_9_base_coverage()"
   ]
  },
  {
   "cell_type": "code",
   "execution_count": null,
   "metadata": {},
   "outputs": [],
   "source": [
    "random_9_base_coverage()\n",
    "sample_coverage_distribution()\n",
    "valid_construct_per_sample()\n",
    "sliding_window_r2_gini()\n",
    "study_base()\n",
    "study_sample()\n",
    "base_wise_mut_vs_prob()\n",
    "correlation_n_samples()\n"
   ]
  },
  {
   "cell_type": "code",
   "execution_count": null,
   "metadata": {},
   "outputs": [],
   "source": [
    "salt.study_base(construct='9572', structure='full',\n",
    "                roi_range=[40,63,78,94])"
   ]
  },
  {
   "cell_type": "markdown",
   "metadata": {},
   "source": [
    "### You can load every study from a file using Study.load_studies()"
   ]
  },
  {
   "cell_type": "code",
   "execution_count": null,
   "metadata": {},
   "outputs": [],
   "source": [
    "studies = Study.load_studies(cfg['path_to_studies'])\n",
    "for study in studies.values():\n",
    "    if study.name != 'all_samples':\n",
    "        study.load_df_from_local_files(path_to_data= cfg['path_to_data'], \n",
    "                                   min_cov_bases= cfg['min_cov_bases'])\n",
    "\n",
    "studies['temperature'].df.head()"
   ]
  },
  {
   "cell_type": "markdown",
   "metadata": {},
   "source": [
    "### Studies can be called from the dictionary using their name"
   ]
  },
  {
   "cell_type": "code",
   "execution_count": null,
   "metadata": {},
   "outputs": [],
   "source": [
    "studies['temperature'].mut_histogram(studies['temperature'].samples[0], '9572', 'index')"
   ]
  },
  {
   "cell_type": "code",
   "execution_count": null,
   "metadata": {},
   "outputs": [],
   "source": [
    "for study in studies.values():\n",
    "    if study.name != 'all_samples':\n",
    "        for s in study.samples:\n",
    "            for construct in study.constructs:\n",
    "                study.mut_histogram(s, construct, 'index')\n",
    "                util.save_fig(f\"data/figs/date/mutation histogram/{study.name}/{s}/{construct}.png\")\n",
    "                plt.close()\n"
   ]
  },
  {
   "cell_type": "code",
   "execution_count": null,
   "metadata": {},
   "outputs": [],
   "source": [
    "class TestStudy(Study):\n",
    "    def mut_histogram(self, samp:str, construct:str, plot_type:str, figsize=(35,7))->None:\n",
    "        \"\"\"Plot the mutation rate of a specific (sample, construct).\n",
    "\n",
    "        Args:\n",
    "        plot_type: 'index' or 'partition'. \n",
    "            - 'index' uses bases numbers as index and the original construct bases as colors.\n",
    "            - 'partition' uses original sequence bases as index and the partition of mutated bases as colors.\n",
    "        samp: sample of interest.\n",
    "        construct: construct of interest.\n",
    "        \"\"\"\n",
    "\n",
    "        df_use = self.df.set_index(['samp','construct'])\n",
    "        \n",
    "        if not plot_type in ['index','partition']:\n",
    "            raise Exception(f\"{plot_type} must be 'index' or 'partition', please check this argument\")\n",
    "\n",
    "        if plot_type == 'index':  # Plot the mutation rate for each base along the sequence\n",
    "\n",
    "            mut_per_base = pd.DataFrame({'mut_rates': df_use['mut_rates'].loc[samp, construct]\n",
    "                                        ,'base':list(df_use['sequence'].loc[samp, construct])})\\\n",
    "                                        .reset_index()\\\n",
    "                                        .set_index(['base', 'index'])\n",
    "            df_hist = pd.DataFrame()\n",
    "            df_hist.index = mut_per_base.reset_index()['index']\n",
    "\n",
    "            for base in ['A','C','G','T']:\n",
    "                df_hist[base] = pd.Series(dtype=float)\n",
    "                df_hist[base] = mut_per_base.loc[base]\n",
    "\n",
    "            #df_hist.index = mut_per_base.reset_index()['base']\n",
    "\n",
    "            ax = df_hist.plot.bar(stacked=True, color=['r','b','y','g'],  figsize=figsize)\n",
    "            plt.title(f\"sample {samp}, construct {construct}\")\n",
    "\n",
    "        if plot_type == 'partition': # Plot the partition of mutations for each base along the sequence\n",
    "            df_hist = pd.DataFrame()\n",
    "            for base in ['A','C','G','T']:\n",
    "                df_hist[f\"mod_bases_{base}\"]  = np.array(df_use[f\"mod_bases_{base}\"].loc[samp, construct][1:])/df_use['info_bases'].loc[samp, construct][1:]\n",
    "\n",
    "            df_hist.index = list(df_use['sequence'].loc[samp,construct])\n",
    "\n",
    "            ax = df_hist.plot.bar(stacked=True, color=['r','b','y','g'], figsize=figsize)\n",
    "\n",
    "        return ax\n",
    "\n",
    "\n",
    "# Load configuration\n",
    "with open('config.yml', 'r') as ymlfile:\n",
    "    cfg = yaml.safe_load(ymlfile)\n",
    "for k,v in cfg.items():\n",
    "    print(k,(30-len(k))*'_',v)\n",
    "\n",
    "mpl.rcParams['figure.dpi'] = cfg['mpl_rcParams_figure_dpi'] # the highest the resolution, the slowest the plotting\n",
    "\n",
    "# Create a study\n",
    "salt = TestStudy().from_dict({'name': 'salt',\n",
    "                         'description': 'Change the Na concentration', \n",
    "                         'samples': ['A6', 'B6', 'C6', 'D6', 'E6'], \n",
    "                         'title': 'Na quantity [M]', \n",
    "                         'conditions': [0.15, 0.3, 0.6, 1.0, 1.2]})\n",
    "\n",
    "# Load data\n",
    "salt.load_df_from_local_files(path_to_data= cfg['path_to_data'], \n",
    "                              min_cov_bases= cfg['min_cov_bases'])\n",
    "\n",
    "# Show the dataframe\n",
    "salt.df.head()"
   ]
  },
  {
   "cell_type": "code",
   "execution_count": null,
   "metadata": {},
   "outputs": [],
   "source": [
    "import pickle\n",
    "from os import listdir\n",
    "\n",
    "listdir('../data/DEMULTIPLEXED/')\n",
    "\n",
    "with open(f\"../data/DEMULTIPLEXED/A4/mh.p\",'rb') as f:\n",
    "    pick =pickle.load(f)\n",
    "    print(dir(pick['9572']))\n"
   ]
  },
  {
   "cell_type": "code",
   "execution_count": null,
   "metadata": {},
   "outputs": [],
   "source": []
  },
  {
   "cell_type": "code",
   "execution_count": null,
   "metadata": {},
   "outputs": [],
   "source": [
    "for s in salt.samples:\n",
    "    salt.mut_histogram(s, '9572', 'index')"
   ]
  }
 ],
 "metadata": {
  "kernelspec": {
   "display_name": "Python 3.10.5 ('venv-nap': venv)",
   "language": "python",
   "name": "python3"
  },
  "language_info": {
   "codemirror_mode": {
    "name": "ipython",
    "version": 3
   },
   "file_extension": ".py",
   "mimetype": "text/x-python",
   "name": "python",
   "nbconvert_exporter": "python",
   "pygments_lexer": "ipython3",
   "version": "3.10.5"
  },
  "orig_nbformat": 4,
  "vscode": {
   "interpreter": {
    "hash": "228ea3748f49093993f7ca989c09e25264db3703291e3a4aaa931dd28b2eaabc"
   }
  }
 },
 "nbformat": 4,
 "nbformat_minor": 2
}
