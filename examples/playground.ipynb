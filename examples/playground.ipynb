{
 "cells": [
  {
   "cell_type": "markdown",
   "metadata": {},
   "source": [
    "## Get started\n",
    "### Imports"
   ]
  },
  {
   "cell_type": "code",
   "execution_count": null,
   "metadata": {},
   "outputs": [],
   "source": [
    "import pandas as pd\n",
    "import matplotlib.pyplot as plt\n",
    "import matplotlib as mpl\n",
    "from matplotlib.colors import LogNorm\n",
    "from os.path import exists, dirname\n",
    "import os, sys\n",
    "import numpy as np\n",
    "import seaborn as sns\n",
    "import json\n",
    "path = os.path.dirname((os.path.abspath('')))\n",
    "print(path)\n",
    "sys.path.append(path)\n",
    "from dreem_nap.study import Study\n",
    "import yaml"
   ]
  },
  {
   "cell_type": "markdown",
   "metadata": {},
   "source": [
    "### Configuration\n",
    "- Load config file and check what's in it\n",
    "- Configurate the Notebook"
   ]
  },
  {
   "cell_type": "code",
   "execution_count": null,
   "metadata": {},
   "outputs": [],
   "source": [
    "with open('../config.yml', 'r') as ymlfile:\n",
    "    cfg = yaml.safe_load(ymlfile)\n",
    "for k,v in cfg.items():\n",
    "    print(k,(30-len(k))*'_',v)\n",
    "\n",
    "mpl.rcParams['figure.dpi'] = cfg['mpl_rcParams_figure_dpi'] # the highest the resolution, the slowest the plotting\n"
   ]
  },
  {
   "cell_type": "markdown",
   "metadata": {},
   "source": [
    "### Load data\n",
    "Create and load dataframe of a single study as a demo"
   ]
  },
  {
   "cell_type": "code",
   "execution_count": null,
   "metadata": {},
   "outputs": [],
   "source": [
    "path = os.path.dirname((os.path.abspath('')))\n",
    "print(path)\n",
    "sys.path.append(path)\n",
    "from dreem_nap.study import Study\n",
    "\n",
    "# Create a study\n",
    "salt = Study.from_dict({'name': 'salt',\n",
    "                         'description': 'Change the Na concentration', \n",
    "                         'samples': ['A6', 'B6', 'C6', 'D6', 'E6'], \n",
    "                         'label': 'Na quantity [M]', \n",
    "                         'conditions': [0.15, 0.3, 0.6, 1.0, 1.2]})\n",
    "\n",
    "# Load data\n",
    "salt.load_df_from_local_files(path_to_data= cfg['path_to_data'], \n",
    "                              min_cov_bases= cfg['min_cov_bases'])#,\n",
    "                            #  index='roi')\n",
    "\n",
    "# Show the dataframe\n",
    "salt._df.head()"
   ]
  },
  {
   "cell_type": "code",
   "execution_count": null,
   "metadata": {},
   "outputs": [],
   "source": [
    "#! usr/bin/env python3\n",
    "\n",
    "import pandas as pd\n",
    "import matplotlib.pyplot as plt\n",
    "import matplotlib as mpl\n",
    "from matplotlib.colors import LogNorm\n",
    "from os.path import exists, dirname\n",
    "import os, sys\n",
    "import numpy as np\n",
    "import seaborn as sns\n",
    "import json\n",
    "\n",
    "path = '/Users/ymdt/src/dreem_nap/'\n",
    "\n",
    "sys.path.append(path)\n",
    "from dreem_nap.manipulator import Manipulator\n",
    "\n",
    "from dreem_nap.study import Study, util\n",
    "import yaml\n",
    "import pickle\n",
    "\n",
    "\n",
    "#mpl.use('agg')\n",
    "\n",
    "with open(path+'config.yml', 'r') as ymlfile:\n",
    "    cfg = yaml.safe_load(ymlfile)\n",
    "\n",
    "mpl.rcParams['figure.dpi'] = cfg['mpl_rcParams_figure_dpi'] # the highest the resolution, the slowest the plotting\n",
    "\n",
    "####\n",
    "# SET HYPER PARAMETERS HERE\n",
    "####\n",
    "\n",
    "studies = Study.load_studies(cfg['path_to_studies'])\n",
    "study = Study.from_dict(studies['3UTR_v_5UTR'].__dict__)\n",
    "study.load_df_from_local_files(path_to_data= cfg['path_to_data'], min_cov_bases = cfg['min_cov_bases'], filter_by='sample')\n",
    "study._df.head()"
   ]
  },
  {
   "cell_type": "code",
   "execution_count": null,
   "metadata": {},
   "outputs": [],
   "source": [
    "samp = [470,472]\n",
    "index = list(range(19,42))\n",
    "base_type=['A','C']\n",
    "metric = 'euclidean'\n",
    "mpl.use('agg')\n",
    "\n",
    "for s in samp:\n",
    "    for i in [ list(range(19,42)), 'CACAGTCGAAAGACTGTG']:\n",
    "        out = study.plot.dendrogram(samp=s, index=i, metric=metric, base_type = base_type, figsize=(10,100), dpi=300, p=100)#, title='Hierarchical clustering of the MS2 hairpin')\n",
    "       # util.save_fig(f'../data/figs/date/Lauren/dendrogram/{s}_{i}_{metric}.png')\n",
    "        out.fig.patch.set_facecolor('white')\n",
    "        \n",
    "        plt.savefig(f'../data/figs/2022-09-14/Lauren/dendrogram/{s}_{i}_{metric}.png')\n",
    "        \n",
    "        with open(f'../data/figs/2022-09-14/Lauren/dendrogram/{s}_{i}_{metric}.txt', 'w') as f:\n",
    "            for item in out.labels:\n",
    "                f.write(item+'\\n')\n",
    "            f.close()\n",
    "\n"
   ]
  },
  {
   "cell_type": "code",
   "execution_count": null,
   "metadata": {},
   "outputs": [],
   "source": []
  },
  {
   "cell_type": "code",
   "execution_count": null,
   "metadata": {},
   "outputs": [],
   "source": [
    "study.plot.mut_histogram(470,'3114-O-flank_1=hp7-DB')\n",
    "study.mut_histogram(470,'3114-O-flank_1=hp7-DB')"
   ]
  },
  {
   "cell_type": "code",
   "execution_count": null,
   "metadata": {},
   "outputs": [],
   "source": [
    "import seaborn as sns\n",
    "\n",
    "data = study.mani.get_col_across_constructs(samp=[470,472], base_type=['A','C'], index=list(range(19,42)), col='mut_rates')\n",
    "data = data.reindex(out.labels.reverse())\n",
    "plt.figure(figsize=(10,100))\n",
    "sns.heatmap(data)"
   ]
  },
  {
   "cell_type": "code",
   "execution_count": null,
   "metadata": {},
   "outputs": [],
   "source": []
  },
  {
   "cell_type": "code",
   "execution_count": null,
   "metadata": {},
   "outputs": [],
   "source": [
    "[l[6:] for l in out.labels]"
   ]
  },
  {
   "cell_type": "code",
   "execution_count": null,
   "metadata": {},
   "outputs": [],
   "source": []
  },
  {
   "cell_type": "code",
   "execution_count": null,
   "metadata": {},
   "outputs": [],
   "source": [
    "import os, sys\n",
    "path = '/Users/ymdt/src/dreem_nap/'\n",
    "\n",
    "sys.path.append(path)\n",
    "from dreem_nap.manipulator import Manipulator\n",
    "\n",
    "from dreem_nap.study import Study, util\n",
    "\n",
    "import pandas as pd\n",
    "import matplotlib.pyplot as plt\n",
    "import numpy as np\n",
    "\n",
    "# Create a study\n",
    "samples_csv = pd.read_csv('~/src/data/Jordan/samples.csv')\n",
    "\n",
    "dms = Study.from_dict({'name': 'dms',\n",
    "                         'description': 'Change the DMS concentration', \n",
    "                         'samples': list(samples_csv['sample']), \n",
    "                         'label': 'Na quantity [M]', \n",
    "                         'conditions': list(samples_csv['DMS_conc_mM'])})\n",
    "\n",
    "# Load data\n",
    "dms.load_df_from_local_files(path_to_data='/Users/ymdt/src/data/Jordan', \n",
    "                              min_cov_bases= 1000)"
   ]
  },
  {
   "cell_type": "code",
   "execution_count": null,
   "metadata": {},
   "outputs": [],
   "source": [
    "\n",
    "df = dms.get_df()\n",
    "# sort df by cov_bases and print\n",
    "df.sort_values(by='worst_cov_bases', ascending=False).head(10)"
   ]
  },
  {
   "cell_type": "code",
   "execution_count": null,
   "metadata": {},
   "outputs": [],
   "source": [
    "dms.plot.mut_histogram('JC1','299-O-flank_1=hp11')\n",
    "\n",
    "dms.mani.get_SCC(samp='JC1', construct='299-O-flank_1=hp11', base_type=['A','C'], cols=['cov_bases','mut_rates','poisson_min','poisson_max', 'poisson_low', 'poisson_high'])"
   ]
  },
  {
   "cell_type": "code",
   "execution_count": null,
   "metadata": {},
   "outputs": [],
   "source": [
    "\n",
    "\n",
    "        \n",
    "\n",
    "import numpy as np \n",
    "import matplotlib.pyplot as plt \n",
    "import scipy.stats\n",
    "import pandas as pd\n",
    "\n",
    "N = [500,1000,2000,3000,4000,5000, 7000, 10000]\n",
    "P = [round(a,2) for a in np.linspace(0,0.15,16)]\n",
    "\n",
    "def compute_conf_interval(p,n, cl=0.95):\n",
    "    #calculate Poisson confidence interval for median  \n",
    "    min, max = 0.5*scipy.stats.chi2.ppf(cl/2, df=2*n*p)/n, 0.5*scipy.stats.chi2.ppf(1-cl/2, df=2*(p*n+1))/n\n",
    "    if p == 0: \n",
    "        min = 0\n",
    "    return np.array([min, max])\n",
    "\n",
    "res = pd.DataFrame(columns=P)\n",
    "res_prop = pd.DataFrame(columns=P)\n",
    "for p in P:\n",
    "    for n in N:\n",
    "        res.loc[n,p] = p\n",
    "        res.loc[n,str(p)+'_min'] = compute_conf_interval(p,n)[0]\n",
    "\n",
    "        res.loc[n,str(p)+'_max'] = compute_conf_interval(p,n)[1] \n",
    "        \n",
    "res = res.T\n",
    "plt.legend(['N='+str(a) for a in N])\n",
    "plt.xlabel('Probability p')\n",
    "plt.ylabel('Probability p with confidence interval')\n"
   ]
  },
  {
   "cell_type": "code",
   "execution_count": null,
   "metadata": {},
   "outputs": [],
   "source": [
    "import numpy as np \n",
    "import matplotlib.pyplot as plt \n",
    "  \n",
    "X = ['Group A','Group B','Group C','Group D']\n",
    "Ygirls = [10,20,20,40]\n",
    "Zboys = [20,30,25,30]\n",
    "  \n",
    "X_axis = np.arange(len(X))\n",
    "  \n",
    "plt.bar(X_axis - 0.2, Ygirls, 0.4, label = 'Girls')\n",
    "plt.bar(X_axis + 0.2, Zboys, 0.4, label = 'Boys')\n",
    "  \n",
    "plt.xticks(X_axis, X)\n",
    "plt.xlabel(\"Groups\")\n",
    "plt.ylabel(\"Number of Students\")\n",
    "plt.title(\"Number of Students in each group\")\n",
    "plt.legend()\n",
    "plt.show()"
   ]
  },
  {
   "cell_type": "code",
   "execution_count": null,
   "metadata": {},
   "outputs": [],
   "source": [
    "import matplotlib\n",
    "\n",
    "font = {'family' : 'normal',\n",
    "        'weight' : 'bold',\n",
    "        'size'   : 22}\n",
    "\n",
    "matplotlib.rc('font', **font)\n",
    "        \n",
    "\n",
    "import numpy as np \n",
    "import matplotlib.pyplot as plt \n",
    "import scipy.stats\n",
    "import pandas as pd\n",
    "\n",
    "N = [1000, 2000, 4000, 8000, 16000]\n",
    "P = np.array(list(range(10)))/100\n",
    "\n",
    "def compute_conf_interval(p,n, cl=0.05):\n",
    "    #calculate Poisson confidence interval for median  \n",
    "    min, max = 0.5*scipy.stats.chi2.ppf(cl/2, df=2*n*p)/n, 0.5*scipy.stats.chi2.ppf(1-cl/2, df=2*(p*n+1))/n\n",
    "    if p == 0: \n",
    "        min = 0\n",
    "    return np.array([min, max])\n",
    "\n",
    "data = np.zeros((len(N), len(P)))\n",
    "\n",
    "res = pd.DataFrame(columns=P)\n",
    "for i, n in enumerate(N):\n",
    "    for j, p in enumerate(P):\n",
    "        res.loc[n,p] = p\n",
    "        res.loc[n,str(p)+'_min'] = compute_conf_interval(p,n)[0]\n",
    "        res.loc[n,str(p)+'_max'] = compute_conf_interval(p,n)[1] \n",
    "        data[i,j]= compute_conf_interval(p,n)[1]-compute_conf_interval(p,n)[0]\n",
    "\n",
    "  \n",
    "X_axis = np.arange(len(P))\n",
    "  \n",
    "fig = plt.figure(figsize =(15, 7))\n",
    "for i in range(len(N)):\n",
    "    plt.bar(X_axis - 0.35+0.17*i, data[i], 0.17, label = 'N='+str(N[i]))\n",
    "  \n",
    "plt.xticks(X_axis, P)\n",
    "plt.xlabel(\"Probability of mutation p\")\n",
    "plt.ylabel(\"Confidence interval width\")\n",
    "plt.title(\"Confidence interval width for different N\")\n",
    "plt.legend()\n",
    "plt.tight_layout()\n",
    "\n",
    "plt.figure()     \n",
    "res = res.T\n",
    "res.loc[P].plot.bar(figsize=(20,10), yerr= np.array([res.loc[[str(p)+'_min' for p in P]].values.T,res.loc[[str(p)+'_max' for p in P]].values.T]).transpose(1,0,2), width=0.9)\n",
    "plt.legend(['N='+str(a) for a in N])\n",
    "plt.xlabel('Probability p')\n",
    "plt.ylabel('Probability p with confidence interval')\n",
    "plt.title(\"Confidence interval width for different N\")\n",
    "plt.tight_layout()\n"
   ]
  },
  {
   "cell_type": "code",
   "execution_count": null,
   "metadata": {},
   "outputs": [],
   "source": [
    "df = study.mani.get_SCC(samp=470,\n",
    "                        construct='3114-O-flank_1=hp7-DB', \n",
    "                        cols=['mut_rates','sequence','structure','cov_bases'],\n",
    "                        base_type=['A','C'], \n",
    "                        index=list(range(40,50))) \n",
    "df.to_csv('example.csv')"
   ]
  },
  {
   "cell_type": "code",
   "execution_count": null,
   "metadata": {},
   "outputs": [],
   "source": [
    "from dreem_nap import util\n",
    "sub_lib = 'ART5'\n",
    "mpl.use('agg') # use this to avoid display issues\n",
    "for samp in study.samples:\n",
    "    for construct in study.constructs:\n",
    "        df = study.get_df()\n",
    "        if df[(df['samp']==samp)&(df['construct']==construct)]['sub-library'].iloc[0] == sub_lib:\n",
    "            study.plot.mut_histogram(samp=samp,construct=construct)\n",
    "           # util.save_fig(path_to_figs+'/'+study.name+'/'+samp+'_'+construct+'_mut_histogram.png')"
   ]
  },
  {
   "cell_type": "code",
   "execution_count": null,
   "metadata": {},
   "outputs": [],
   "source": [
    "study.plot.deltaG_sample(samp=472, \n",
    "                         structure='structure', \n",
    "                         deltaG='deltaG_min', \n",
    "                         max_mutation=0.15, \n",
    "                         models=['lambda x,a,b: a*x+b'], \n",
    "                         index=list(range(19,42)))\n",
    "\n"
   ]
  },
  {
   "cell_type": "code",
   "execution_count": null,
   "metadata": {},
   "outputs": [],
   "source": []
  },
  {
   "cell_type": "code",
   "execution_count": null,
   "metadata": {},
   "outputs": [],
   "source": [
    "study._df['flank'].unique()"
   ]
  },
  {
   "cell_type": "code",
   "execution_count": null,
   "metadata": {},
   "outputs": [],
   "source": [
    "study.plot.mut_histogram(samp=470,\n",
    "                         construct='3114-O-flank_1=hp7-DB',\n",
    "                         cluster=0,\n",
    "                         index=list(range(19,80)),\n",
    "                         base_paired=True,\n",
    "                         structure='structure')"
   ]
  },
  {
   "cell_type": "code",
   "execution_count": null,
   "metadata": {},
   "outputs": [],
   "source": [
    "\n",
    "salt.plot.mut_histogram(samp=470, construct='3114-O-flank_1=hp7-DB', base_paired=False, structure='structure')#, base_type=['A','C'])#index=list(range(19,42)))\n"
   ]
  },
  {
   "cell_type": "code",
   "execution_count": null,
   "metadata": {},
   "outputs": [],
   "source": [
    "base_type = list('ACTG')\n",
    "figsize=(10,5)\n",
    "colors = {'A':'r','C':'b','G':'y','T':'g'}\n",
    "samp=470\n",
    "construct='3114-O-flank_1=hp7-DB'\n",
    "index='CACAGTCGAAAGACTGTG'\n",
    "args = locals()\n",
    "args.pop('df')\n",
    "fig = plt.figure(figsize=figsize)\n",
    "ax = plt.axes()\n",
    "df_hist = pd.DataFrame()\n",
    "\n",
    "\n"
   ]
  },
  {
   "cell_type": "code",
   "execution_count": null,
   "metadata": {},
   "outputs": [],
   "source": [
    "min_base_cov = 1000\n",
    "studies = Study.load_studies(cfg['path_to_studies'])\n",
    "study = Study().from_dict(studies['all'].__dict__)\n",
    "study.load_df_from_local_files(path_to_data= cfg['path_to_data'], min_cov_bases =min_base_cov, filter_by='sample')\n",
    "for s in study.samples:\n",
    "    study.plot.deltaG_sample(samp=s, index = list(range(19,42)), base_type=['A','C'], structure='structure',deltaG='deltaG_min',figsize=(25, 7), grid=True, cluster=0, models=['lambda x, a, b, c: a+2*b*(np.exp(c*x)/(1+np.exp(c*x)))'])\n",
    "    util.save_fig(f\"/Users/ymdt/src/data/figs/Lauren/date/deltaG sample/min_base_cov = {min_base_cov}/index 19-41/{s}.png\")\n"
   ]
  },
  {
   "cell_type": "code",
   "execution_count": null,
   "metadata": {},
   "outputs": [],
   "source": [
    "df = study.get_df()\n",
    "\n",
    "print('base_coverage | # constructs 470 | # constructs 472')\n",
    "for min_base_cov in [5000, 4000, 3000, 2000,  1000, 500 ]:\n",
    "    stu = Study().from_dict(studies['3UTR_v_5UTR'].__dict__)\n",
    "    stu.load_df_from_local_files(path_to_data= cfg['path_to_data'], min_cov_bases = min_base_cov, filter_by='sample')\n",
    "    df = stu.get_df()\n",
    "    print(min_base_cov,sum(df.samp==470), sum(df.samp==472))\n",
    "    for s in df.samp.unique():\n",
    "        for c in df[df['samp']==s].construct.unique():\n",
    "            stu.plot.mut_histogram(samp=s, construct=c, plot_type='index', index = 'CACAGTCGAAAGACTGTG', figsize=(25, 7), grid=True, cluster=0)\n",
    "            util.save_fig(f\"/Users/ymdt/src/data/figs/Lauren/date/mutation histograms/{min_base_cov}/{s}/{c}.png\")\n"
   ]
  },
  {
   "cell_type": "code",
   "execution_count": null,
   "metadata": {},
   "outputs": [],
   "source": [
    "lambda x, a, b, c: a+2*b*(np.exp(c*x)/(1+np.exp(c*x)))"
   ]
  },
  {
   "cell_type": "code",
   "execution_count": null,
   "metadata": {},
   "outputs": [],
   "source": [
    "study.mani.get_SCC(samp=s, construct=c, cols=['mut_rates'], index = 'CACAGTCGAAAGACTGTG', base_type=['A','C'], structure='structure',  cluster=0)"
   ]
  },
  {
   "cell_type": "code",
   "execution_count": null,
   "metadata": {},
   "outputs": [],
   "source": [
    "out = study.plot.mut_histogram(samp=470, construct='3114-O-flank_1=hp7-DB', plot_type='index', index = list(range(19,42)), figsize=(25, 7), grid=True)\n",
    "print(out.data.to_csv('hi_lauren.csv'))"
   ]
  },
  {
   "cell_type": "code",
   "execution_count": null,
   "metadata": {},
   "outputs": [],
   "source": [
    "stack = pd.DataFrame()\n",
    "for c in study.constructs:\n",
    "    stack = pd.concat((stack, pd.DataFrame(study.mani.get_SCC(samp=470, construct=c, cols=['mut_rates'], index=list(range(19,42))).T)))#, index=[c])))\n",
    "stack.index = study.constructs\n",
    "stack"
   ]
  },
  {
   "cell_type": "markdown",
   "metadata": {},
   "source": [
    "## Make plots\n",
    "Plot this study with different plots. Check out the list of plots in the plot module\n",
    "\n",
    "### Mutation histogram"
   ]
  },
  {
   "cell_type": "code",
   "execution_count": null,
   "metadata": {},
   "outputs": [],
   "source": [
    "salt.mut_histogram(samp='A6', construct='7695',\\\n",
    "             plot_type='index', figsize=(28,4))"
   ]
  },
  {
   "cell_type": "markdown",
   "metadata": {},
   "source": [
    "### DeltaG\n",
    "DeltaG vs mutation rate for all constructs of a sample"
   ]
  },
  {
   "cell_type": "code",
   "execution_count": null,
   "metadata": {},
   "outputs": [],
   "source": [
    "salt.deltaG(samp='A6',bases_type=['A','C'], roi_range='all')  # currently bugged due to DREEM, work in progress"
   ]
  },
  {
   "cell_type": "markdown",
   "metadata": {},
   "source": [
    "### DeltaG_basewise\n",
    "Plot the mutation rate of each paired-predicted base of the ROI for each construct of a sample, w.r.t the deltaG estimation"
   ]
  },
  {
   "cell_type": "code",
   "execution_count": null,
   "metadata": {},
   "outputs": [],
   "source": [
    "salt.deltaG_basewise(samp='A6', roi_range=[94,95,96,97])"
   ]
  },
  {
   "cell_type": "markdown",
   "metadata": {},
   "source": [
    "###  Heatmap\n",
    "Here a heatmap of the minimum base coverage across all samples. Column can be any column that contains a single scalar value."
   ]
  },
  {
   "cell_type": "code",
   "execution_count": null,
   "metadata": {},
   "outputs": [],
   "source": [
    "salt.heatmap(column='min_cov_bases') "
   ]
  },
  {
   "cell_type": "markdown",
   "metadata": {},
   "source": [
    "### Mutation rate vs 1-base_pairing\n",
    "Plot a mutation rate histogram, a 1-base_pairing probability histogram, and a scatter plot fitting the mutation rate vs 1-base_pairing. "
   ]
  },
  {
   "cell_type": "code",
   "execution_count": null,
   "metadata": {},
   "outputs": [],
   "source": [
    "# currently bugged due to DREEM, work in progress\n",
    "salt.mut_rate_vs_base_non_pairing_prob(samp='A6', construct='7695') # shows the mutation rate vs base non-pairing probability"
   ]
  },
  {
   "cell_type": "markdown",
   "metadata": {},
   "source": [
    "### Base coverage\n",
    "Plot the base coverage of a specific (sample, construct)"
   ]
  },
  {
   "cell_type": "code",
   "execution_count": null,
   "metadata": {},
   "outputs": [],
   "source": [
    "salt.base_coverage(samp='A6', construct='9572')"
   ]
  },
  {
   "cell_type": "markdown",
   "metadata": {},
   "source": [
    "### Base coverage for all constructs\n",
    "Plot the base-coverage of the worst-covered base of the Region of Interest, for each construct. "
   ]
  },
  {
   "cell_type": "code",
   "execution_count": null,
   "metadata": {},
   "outputs": [],
   "source": [
    "salt.base_coverage_ROI_for_all_constructs()\n"
   ]
  },
  {
   "cell_type": "code",
   "execution_count": null,
   "metadata": {},
   "outputs": [],
   "source": [
    "salt.random_9_base_coverage()"
   ]
  },
  {
   "cell_type": "code",
   "execution_count": null,
   "metadata": {},
   "outputs": [],
   "source": [
    "random_9_base_coverage()\n",
    "sample_coverage_distribution()\n",
    "valid_construct_per_sample()\n",
    "sliding_window_r2_gini()\n",
    "study_base()\n",
    "study_sample()\n",
    "base_wise_mut_vs_prob()\n",
    "correlation_n_samples()\n"
   ]
  },
  {
   "cell_type": "code",
   "execution_count": null,
   "metadata": {},
   "outputs": [],
   "source": [
    "salt.study_base(construct='9572', structure='full',\n",
    "                roi_range=[40,63,78,94])"
   ]
  },
  {
   "cell_type": "markdown",
   "metadata": {},
   "source": [
    "### You can load every study from a file using Study.load_studies()"
   ]
  },
  {
   "cell_type": "code",
   "execution_count": null,
   "metadata": {},
   "outputs": [],
   "source": [
    "studies = Study.load_studies(cfg['path_to_studies'])\n",
    "for study in studies.values():\n",
    "    if study.name != 'all_samples':\n",
    "        study.load_df_from_local_files(path_to_data= cfg['path_to_data'], \n",
    "                                   min_cov_bases= cfg['min_cov_bases'])\n",
    "\n",
    "studies['temperature'].df.head()"
   ]
  },
  {
   "cell_type": "markdown",
   "metadata": {},
   "source": [
    "### Studies can be called from the dictionary using their name"
   ]
  },
  {
   "cell_type": "code",
   "execution_count": null,
   "metadata": {},
   "outputs": [],
   "source": [
    "studies['temperature'].mut_histogram(studies['temperature'].samples[0], '9572', 'index')"
   ]
  },
  {
   "cell_type": "code",
   "execution_count": null,
   "metadata": {},
   "outputs": [],
   "source": [
    "for study in studies.values():\n",
    "    if study.name != 'all_samples':\n",
    "        for s in study.samples:\n",
    "            for construct in study.constructs:\n",
    "                study.mut_histogram(s, construct, 'index')\n",
    "                util.save_fig(f\"data/figs/date/mutation histogram/{study.name}/{s}/{construct}.png\")\n",
    "                plt.close()\n"
   ]
  },
  {
   "cell_type": "code",
   "execution_count": null,
   "metadata": {},
   "outputs": [],
   "source": [
    "class TestStudy(Study):\n",
    "    def mut_histogram(self, samp:str, construct:str, plot_type:str, figsize=(35,7))->None:\n",
    "        \"\"\"Plot the mutation rate of a specific (sample, construct).\n",
    "\n",
    "        Args:\n",
    "        plot_type: 'index' or 'partition'. \n",
    "            - 'index' uses bases numbers as index and the original construct bases as colors.\n",
    "            - 'partition' uses original sequence bases as index and the partition of mutated bases as colors.\n",
    "        samp: sample of interest.\n",
    "        construct: construct of interest.\n",
    "        \"\"\"\n",
    "\n",
    "        df_use = self.df.set_index(['samp','construct'])\n",
    "        \n",
    "        if not plot_type in ['index','partition']:\n",
    "            raise Exception(f\"{plot_type} must be 'index' or 'partition', please check this argument\")\n",
    "\n",
    "        if plot_type == 'index':  # Plot the mutation rate for each base along the sequence\n",
    "\n",
    "            mut_per_base = pd.DataFrame({'mut_rates': df_use['mut_rates'].loc[samp, construct]\n",
    "                                        ,'base':list(df_use['sequence'].loc[samp, construct])})\\\n",
    "                                        .reset_index()\\\n",
    "                                        .set_index(['base', 'index'])\n",
    "            df_hist = pd.DataFrame()\n",
    "            df_hist.index = mut_per_base.reset_index()['index']\n",
    "\n",
    "            for base in ['A','C','G','T']:\n",
    "                df_hist[base] = pd.Series(dtype=float)\n",
    "                df_hist[base] = mut_per_base.loc[base]\n",
    "\n",
    "            #df_hist.index = mut_per_base.reset_index()['base']\n",
    "\n",
    "            ax = df_hist.plot.bar(stacked=True, color=['r','b','y','g'],  figsize=figsize)\n",
    "            plt.title(f\"sample {samp}, construct {construct}\")\n",
    "\n",
    "        if plot_type == 'partition': # Plot the partition of mutations for each base along the sequence\n",
    "            df_hist = pd.DataFrame()\n",
    "            for base in ['A','C','G','T']:\n",
    "                df_hist[f\"mod_bases_{base}\"]  = np.array(df_use[f\"mod_bases_{base}\"].loc[samp, construct][1:])/df_use['info_bases'].loc[samp, construct][1:]\n",
    "\n",
    "            df_hist.index = list(df_use['sequence'].loc[samp,construct])\n",
    "\n",
    "            ax = df_hist.plot.bar(stacked=True, color=['r','b','y','g'], figsize=figsize)\n",
    "\n",
    "        return ax\n",
    "\n",
    "\n",
    "# Load configuration\n",
    "with open('config.yml', 'r') as ymlfile:\n",
    "    cfg = yaml.safe_load(ymlfile)\n",
    "for k,v in cfg.items():\n",
    "    print(k,(30-len(k))*'_',v)\n",
    "\n",
    "mpl.rcParams['figure.dpi'] = cfg['mpl_rcParams_figure_dpi'] # the highest the resolution, the slowest the plotting\n",
    "\n",
    "# Create a study\n",
    "salt = TestStudy().from_dict({'name': 'salt',\n",
    "                         'description': 'Change the Na concentration', \n",
    "                         'samples': ['A6', 'B6', 'C6', 'D6', 'E6'], \n",
    "                         'title': 'Na quantity [M]', \n",
    "                         'conditions': [0.15, 0.3, 0.6, 1.0, 1.2]})\n",
    "\n",
    "# Load data\n",
    "salt.load_df_from_local_files(path_to_data= cfg['path_to_data'], \n",
    "                              min_cov_bases= cfg['min_cov_bases'])\n",
    "\n",
    "# Show the dataframe\n",
    "salt.df.head()"
   ]
  },
  {
   "cell_type": "code",
   "execution_count": null,
   "metadata": {},
   "outputs": [],
   "source": [
    "import pickle\n",
    "from os import listdir\n",
    "\n",
    "listdir('../data/DEMULTIPLEXED/')\n",
    "\n",
    "with open(f\"../data/DEMULTIPLEXED/A4/mh.p\",'rb') as f:\n",
    "    pick =pickle.load(f)\n",
    "    print(dir(pick['9572']))\n"
   ]
  },
  {
   "cell_type": "code",
   "execution_count": null,
   "metadata": {},
   "outputs": [],
   "source": []
  },
  {
   "cell_type": "code",
   "execution_count": null,
   "metadata": {},
   "outputs": [],
   "source": [
    "for s in salt.samples:\n",
    "    salt.mut_histogram(s, '9572', 'index')"
   ]
  },
  {
   "cell_type": "code",
   "execution_count": 7,
   "metadata": {},
   "outputs": [
    {
     "data": {
      "application/vnd.plotly.v1+json": {
       "config": {
        "plotlyServerURL": "https://plot.ly"
       },
       "data": [
        {
         "type": "contour",
         "x": [
          0,
          2,
          4,
          6,
          8,
          10,
          12,
          14,
          16,
          18,
          20,
          22,
          24,
          26,
          28,
          30,
          32,
          34,
          36,
          38,
          40,
          42,
          44,
          46,
          48
         ],
         "y": [
          0,
          3,
          6,
          9,
          12,
          15,
          18,
          21,
          24,
          27,
          30,
          33,
          36,
          39,
          42,
          45,
          48
         ],
         "z": [
          [
           1,
           0.5403023058681398,
           -0.4161468365471424,
           -0.9899924966004454,
           -0.6536436208636119,
           0.28366218546322625,
           0.960170286650366,
           0.7539022543433046,
           -0.14550003380861354,
           -0.9111302618846769,
           -0.8390715290764524,
           0.004425697988050785,
           0.8438539587324921,
           0.9074467814501962,
           0.1367372182078336,
           -0.7596879128588213,
           -0.9576594803233847,
           -0.27516333805159693,
           0.6603167082440802,
           0.9887046181866692,
           0.408082061813392,
           -0.5477292602242684,
           -0.9999608263946371,
           -0.5328330203333975,
           0.424179007336997
          ],
          [
           1.681638760023334,
           1.2219410658914738,
           0.2654919234761917,
           -0.3083537365771113,
           0.027995139159722182,
           0.9653009454865604,
           1.6418090466737,
           1.4355410143666387,
           0.5361387262147206,
           -0.22949150186134282,
           -0.15743276905311832,
           0.6860644580113849,
           1.5254927187558263,
           1.5890855414735303,
           0.8183759782311677,
           -0.07804915283548719,
           -0.27602072030005054,
           0.4064754219717372,
           1.3419554682674142,
           1.6703433782100032,
           1.089720821836726,
           0.13390949979906575,
           -0.318322066371303,
           0.1488057396899366,
           1.105817767360331
          ],
          [
           1.9974949866040546,
           1.5377972924721943,
           0.581348150056912,
           0.00750249000360903,
           0.3438513657404425,
           1.2811571720672807,
           1.9576652732544204,
           1.751397240947359,
           0.8519949527954409,
           0.0863647247193775,
           0.158423457527602,
           1.0019206845921051,
           1.8413489453365466,
           1.9049417680542506,
           1.134232204811888,
           0.23780707374523313,
           0.039835506280669786,
           0.7223316485524576,
           1.6578116948481347,
           1.9861996047907238,
           1.4055770484174466,
           0.44976572637978607,
           -0.00246583979058268,
           0.4646619662706569,
           1.4216739939410514
          ],
          [
           1.778073196887921,
           1.3183755027560609,
           0.3619263603407788,
           -0.2119192997125242,
           0.12442957602430926,
           1.0617353823511475,
           1.7382434835382872,
           1.5319754512312258,
           0.6325731630793077,
           -0.13305706499675574,
           -0.060998332188531235,
           0.782498894875972,
           1.6219271556204133,
           1.6855199783381174,
           0.9148104150957548,
           0.01838528402909989,
           -0.17958628343546346,
           0.5029098588363243,
           1.4383899051320013,
           1.7667778150745903,
           1.186155258701313,
           0.23034393666365283,
           -0.22188762950671592,
           0.24524017655452368,
           1.2022522042249182
          ],
          [
           1.1411200080598671,
           0.681422313928007,
           -0.2750268284872752,
           -0.8488724885405782,
           -0.5125236128037447,
           0.42478219352309343,
           1.1012902947102332,
           0.8950222624031718,
           -0.0043800257487463246,
           -0.7700102538248097,
           -0.6979515210165852,
           0.145545706047918,
           0.9849739667923594,
           1.0485667895100634,
           0.2778572262677008,
           -0.6185679047989541,
           -0.8165394722635174,
           -0.13404332999172971,
           0.8014367163039474,
           1.1298246262465363,
           0.5492020698732593,
           -0.40660925216440114,
           -0.8588408183347699,
           -0.3917130122735303,
           0.5652990153968642
          ],
          [
           0.4284386812576563,
           -0.03125901287420396,
           -0.9877081552894862,
           -1.5615538153427893,
           -1.2252049396059557,
           -0.2878991332791175,
           0.38860896790802224,
           0.18234093560096087,
           -0.7170613525509573,
           -1.4826915806270207,
           -1.4106328478187962,
           -0.5671356207542929,
           0.2722926399901484,
           0.33588546270785247,
           -0.43482410053451015,
           -1.331249231601165,
           -1.5292207990657283,
           -0.8467246567939406,
           0.08875538950173645,
           0.4171432994443255,
           -0.1634792569289517,
           -1.119290578966612,
           -1.571522145136981,
           -1.1043943390757414,
           -0.14738231140534674
          ],
          [
           0.02246988233490299,
           -0.43722781179695724,
           -1.3936769542122394,
           -1.9675226142655424,
           -1.6311737385287088,
           -0.6938679322018708,
           -0.017359831014731042,
           -0.2236278633217924,
           -1.1230301514737104,
           -1.888660379549774,
           -1.8166016467415496,
           -0.9731044196770462,
           -0.13367615893260487,
           -0.07008333621490082,
           -0.8407928994572634,
           -1.7372180305239184,
           -1.9351895979884817,
           -1.252693455716694,
           -0.31721340942101683,
           0.011174500521572206,
           -0.569448055851705,
           -1.5252593778893653,
           -1.9774909440597341,
           -1.5103631379984945,
           -0.5533511103281
          ],
          [
           0.141065506573408,
           -0.31863218755845224,
           -1.2750813299737345,
           -1.8489269900270373,
           -1.512578114290204,
           -0.5752723079633657,
           0.10123579322377396,
           -0.1050322390832874,
           -1.0044345272352055,
           -1.770064755311269,
           -1.6980060225030444,
           -0.8545087954385412,
           -0.015080534694099867,
           0.04851228802360419,
           -0.7221972752187584,
           -1.6186224062854133,
           -1.8165939737499768,
           -1.1340978314781889,
           -0.19861778518251183,
           0.1297701247600772,
           -0.4508524316132,
           -1.4066637536508604,
           -1.858895319821229,
           -1.3917675137599894,
           -0.434755486089595
          ],
          [
           0.7205845018010741,
           0.2608868076692139,
           -0.6955623347460682,
           -1.2694079947993713,
           -0.9330591190625378,
           0.004246687264300386,
           0.6807547884514401,
           0.47448675614437874,
           -0.4249155320075394,
           -1.190545760083603,
           -1.1184870272753784,
           -0.2749898002108751,
           0.5644384605335663,
           0.6280312832512703,
           -0.14267827999109226,
           -1.0391034110577473,
           -1.2370749785223105,
           -0.5545788362505228,
           0.3809012100451543,
           0.7092891199877434,
           0.12866656361446616,
           -0.8271447584231942,
           -1.279376324593563,
           -0.8122485185323234,
           0.14476350913807112
          ],
          [
           1.4500440737806177,
           0.9903463796487574,
           0.03389723723347521,
           -0.5399484228198278,
           -0.20359954708299433,
           0.7337062592438439,
           1.4102143604309836,
           1.2039463281239222,
           0.3045440399720041,
           -0.4610861881040593,
           -0.3890274552958348,
           0.4544697717686684,
           1.2938980325131098,
           1.3574908552308138,
           0.5867812919884512,
           -0.3096438390782037,
           -0.507615406542767,
           0.1748807357290207,
           1.110360782024698,
           1.438748691967287,
           0.8581261355940096,
           -0.09768518644365076,
           -0.5499167526140195,
           -0.08278894655277991,
           0.8742230811176146
          ],
          [
           1.937999976774739,
           1.4783022826428787,
           0.5218531402275965,
           -0.05199251982570652,
           0.28435635591112696,
           1.221662162237965,
           1.8981702634251048,
           1.6919022311180436,
           0.7924999429661254,
           0.026869714890061958,
           0.09892844769828646,
           0.9424256747627897,
           1.7818539355072311,
           1.8454467582249352,
           1.0747371949825726,
           0.17831206391591758,
           -0.019659503548645763,
           0.6628366387231419,
           1.598316685018819,
           1.9267045949614081,
           1.346082038588131,
           0.3902707165504705,
           -0.06196084961989823,
           0.4051669564413414,
           1.3621789841117358
          ],
          [
           1.9226042102393404,
           1.4629065161074801,
           0.5064573736921978,
           -0.06738828636110517,
           0.2689605893757283,
           1.2062663957025666,
           1.8827744968897062,
           1.6765064645826449,
           0.7771041764307267,
           0.01147394835466331,
           0.08353268116288781,
           0.9270299082273911,
           1.7664581689718324,
           1.8300509916895364,
           1.0593414284471738,
           0.16291629738051894,
           -0.03505527008404441,
           0.6474408721877434,
           1.5829209184834205,
           1.9113088284260096,
           1.3306862720527324,
           0.3748749500150719,
           -0.07735661615529688,
           0.3897711899059427,
           1.3467832175763372
          ],
          [
           1.4121184852417565,
           0.9524207911098963,
           -0.004028351305385813,
           -0.5778740113586889,
           -0.24152513562185535,
           0.6957806707049828,
           1.3722887718921226,
           1.1660207395850612,
           0.26661845143314306,
           -0.49901177664292035,
           -0.42695304383469584,
           0.41654418322980735,
           1.2559724439742488,
           1.3195652666919528,
           0.5488557034495902,
           -0.3475694276170647,
           -0.5455409950816281,
           0.13695514719015967,
           1.0724351934858367,
           1.4008231034284258,
           0.8202005470551486,
           -0.13561077498251178,
           -0.5878423411528806,
           -0.12071453509164093,
           0.8362974925787536
          ],
          [
           0.6804808063777263,
           0.2207831122458661,
           -0.735666030169416,
           -1.309511690222719,
           -0.9731628144858856,
           -0.03585700815904741,
           0.6406510930280923,
           0.43438306072103094,
           -0.4650192274308872,
           -1.2306494555069505,
           -1.158590722698726,
           -0.3150934956342229,
           0.5243347651102185,
           0.5879275878279225,
           -0.18278197541444005,
           -1.0792071064810949,
           -1.2771786739456583,
           -0.5946825316738706,
           0.3407975146218065,
           0.6691854245643956,
           0.08856286819111836,
           -0.867248453846542,
           -1.3194800200169108,
           -0.8523522139556712,
           0.10465981371472333
          ],
          [
           0.12030424002832985,
           -0.3393934541035304,
           -1.2958425965188125,
           -1.8696882565721156,
           -1.5333393808352822,
           -0.596033574508444,
           0.08047452667869581,
           -0.12579350562836555,
           -1.0251957937802838,
           -1.790826021856347,
           -1.7187672890481225,
           -0.8752700619836193,
           -0.03584180123917802,
           0.02775102147852604,
           -0.7429585417638366,
           -1.6393836728304914,
           -1.8373552402950548,
           -1.1548590980232671,
           -0.21937905172758998,
           0.10900885821499906,
           -0.47161369815827814,
           -1.4274250201959386,
           -1.8796565863663073,
           -1.4125287803050677,
           -0.45551675263467317
          ],
          [
           0.03219200248873855,
           -0.4275056916431217,
           -1.3839548340584038,
           -1.9578004941117069,
           -1.6214516183748735,
           -0.6841458120480353,
           -0.007637710860895486,
           -0.21390574316795685,
           -1.113308031319875,
           -1.8789382593959383,
           -1.8068795265877138,
           -0.9633822995232106,
           -0.12395403877876932,
           -0.06036121606106526,
           -0.8310707793034279,
           -1.7274959103700827,
           -1.9254674778346461,
           -1.2429713355628584,
           -0.3074912892671813,
           0.020896620675407762,
           -0.5597259356978694,
           -1.51553725773553,
           -1.9677688239058986,
           -1.500641017844659,
           -0.5436289901742645
          ],
          [
           0.46342708199956506,
           0.0037293878677048253,
           -0.9527197545475774,
           -1.5265654146008805,
           -1.1902165388640469,
           -0.2529107325372087,
           0.423597368649931,
           0.21732933634286966,
           -0.6820729518090485,
           -1.4477031798851119,
           -1.3756444470768874,
           -0.5321472200123841,
           0.3072810407320572,
           0.37087386344976125,
           -0.39983569979260136,
           -1.2962608308592563,
           -1.4942323983238195,
           -0.8117362560520318,
           0.12374379024364524,
           0.4521317001862343,
           -0.12849085618704292,
           -1.0843021782247033,
           -1.5365337443950722,
           -1.0694059383338326,
           -0.11239391066343796
          ]
         ]
        }
       ],
       "layout": {
        "template": {
         "data": {
          "bar": [
           {
            "error_x": {
             "color": "#2a3f5f"
            },
            "error_y": {
             "color": "#2a3f5f"
            },
            "marker": {
             "line": {
              "color": "#E5ECF6",
              "width": 0.5
             },
             "pattern": {
              "fillmode": "overlay",
              "size": 10,
              "solidity": 0.2
             }
            },
            "type": "bar"
           }
          ],
          "barpolar": [
           {
            "marker": {
             "line": {
              "color": "#E5ECF6",
              "width": 0.5
             },
             "pattern": {
              "fillmode": "overlay",
              "size": 10,
              "solidity": 0.2
             }
            },
            "type": "barpolar"
           }
          ],
          "carpet": [
           {
            "aaxis": {
             "endlinecolor": "#2a3f5f",
             "gridcolor": "white",
             "linecolor": "white",
             "minorgridcolor": "white",
             "startlinecolor": "#2a3f5f"
            },
            "baxis": {
             "endlinecolor": "#2a3f5f",
             "gridcolor": "white",
             "linecolor": "white",
             "minorgridcolor": "white",
             "startlinecolor": "#2a3f5f"
            },
            "type": "carpet"
           }
          ],
          "choropleth": [
           {
            "colorbar": {
             "outlinewidth": 0,
             "ticks": ""
            },
            "type": "choropleth"
           }
          ],
          "contour": [
           {
            "colorbar": {
             "outlinewidth": 0,
             "ticks": ""
            },
            "colorscale": [
             [
              0,
              "#0d0887"
             ],
             [
              0.1111111111111111,
              "#46039f"
             ],
             [
              0.2222222222222222,
              "#7201a8"
             ],
             [
              0.3333333333333333,
              "#9c179e"
             ],
             [
              0.4444444444444444,
              "#bd3786"
             ],
             [
              0.5555555555555556,
              "#d8576b"
             ],
             [
              0.6666666666666666,
              "#ed7953"
             ],
             [
              0.7777777777777778,
              "#fb9f3a"
             ],
             [
              0.8888888888888888,
              "#fdca26"
             ],
             [
              1,
              "#f0f921"
             ]
            ],
            "type": "contour"
           }
          ],
          "contourcarpet": [
           {
            "colorbar": {
             "outlinewidth": 0,
             "ticks": ""
            },
            "type": "contourcarpet"
           }
          ],
          "heatmap": [
           {
            "colorbar": {
             "outlinewidth": 0,
             "ticks": ""
            },
            "colorscale": [
             [
              0,
              "#0d0887"
             ],
             [
              0.1111111111111111,
              "#46039f"
             ],
             [
              0.2222222222222222,
              "#7201a8"
             ],
             [
              0.3333333333333333,
              "#9c179e"
             ],
             [
              0.4444444444444444,
              "#bd3786"
             ],
             [
              0.5555555555555556,
              "#d8576b"
             ],
             [
              0.6666666666666666,
              "#ed7953"
             ],
             [
              0.7777777777777778,
              "#fb9f3a"
             ],
             [
              0.8888888888888888,
              "#fdca26"
             ],
             [
              1,
              "#f0f921"
             ]
            ],
            "type": "heatmap"
           }
          ],
          "heatmapgl": [
           {
            "colorbar": {
             "outlinewidth": 0,
             "ticks": ""
            },
            "colorscale": [
             [
              0,
              "#0d0887"
             ],
             [
              0.1111111111111111,
              "#46039f"
             ],
             [
              0.2222222222222222,
              "#7201a8"
             ],
             [
              0.3333333333333333,
              "#9c179e"
             ],
             [
              0.4444444444444444,
              "#bd3786"
             ],
             [
              0.5555555555555556,
              "#d8576b"
             ],
             [
              0.6666666666666666,
              "#ed7953"
             ],
             [
              0.7777777777777778,
              "#fb9f3a"
             ],
             [
              0.8888888888888888,
              "#fdca26"
             ],
             [
              1,
              "#f0f921"
             ]
            ],
            "type": "heatmapgl"
           }
          ],
          "histogram": [
           {
            "marker": {
             "pattern": {
              "fillmode": "overlay",
              "size": 10,
              "solidity": 0.2
             }
            },
            "type": "histogram"
           }
          ],
          "histogram2d": [
           {
            "colorbar": {
             "outlinewidth": 0,
             "ticks": ""
            },
            "colorscale": [
             [
              0,
              "#0d0887"
             ],
             [
              0.1111111111111111,
              "#46039f"
             ],
             [
              0.2222222222222222,
              "#7201a8"
             ],
             [
              0.3333333333333333,
              "#9c179e"
             ],
             [
              0.4444444444444444,
              "#bd3786"
             ],
             [
              0.5555555555555556,
              "#d8576b"
             ],
             [
              0.6666666666666666,
              "#ed7953"
             ],
             [
              0.7777777777777778,
              "#fb9f3a"
             ],
             [
              0.8888888888888888,
              "#fdca26"
             ],
             [
              1,
              "#f0f921"
             ]
            ],
            "type": "histogram2d"
           }
          ],
          "histogram2dcontour": [
           {
            "colorbar": {
             "outlinewidth": 0,
             "ticks": ""
            },
            "colorscale": [
             [
              0,
              "#0d0887"
             ],
             [
              0.1111111111111111,
              "#46039f"
             ],
             [
              0.2222222222222222,
              "#7201a8"
             ],
             [
              0.3333333333333333,
              "#9c179e"
             ],
             [
              0.4444444444444444,
              "#bd3786"
             ],
             [
              0.5555555555555556,
              "#d8576b"
             ],
             [
              0.6666666666666666,
              "#ed7953"
             ],
             [
              0.7777777777777778,
              "#fb9f3a"
             ],
             [
              0.8888888888888888,
              "#fdca26"
             ],
             [
              1,
              "#f0f921"
             ]
            ],
            "type": "histogram2dcontour"
           }
          ],
          "mesh3d": [
           {
            "colorbar": {
             "outlinewidth": 0,
             "ticks": ""
            },
            "type": "mesh3d"
           }
          ],
          "parcoords": [
           {
            "line": {
             "colorbar": {
              "outlinewidth": 0,
              "ticks": ""
             }
            },
            "type": "parcoords"
           }
          ],
          "pie": [
           {
            "automargin": true,
            "type": "pie"
           }
          ],
          "scatter": [
           {
            "fillpattern": {
             "fillmode": "overlay",
             "size": 10,
             "solidity": 0.2
            },
            "type": "scatter"
           }
          ],
          "scatter3d": [
           {
            "line": {
             "colorbar": {
              "outlinewidth": 0,
              "ticks": ""
             }
            },
            "marker": {
             "colorbar": {
              "outlinewidth": 0,
              "ticks": ""
             }
            },
            "type": "scatter3d"
           }
          ],
          "scattercarpet": [
           {
            "marker": {
             "colorbar": {
              "outlinewidth": 0,
              "ticks": ""
             }
            },
            "type": "scattercarpet"
           }
          ],
          "scattergeo": [
           {
            "marker": {
             "colorbar": {
              "outlinewidth": 0,
              "ticks": ""
             }
            },
            "type": "scattergeo"
           }
          ],
          "scattergl": [
           {
            "marker": {
             "colorbar": {
              "outlinewidth": 0,
              "ticks": ""
             }
            },
            "type": "scattergl"
           }
          ],
          "scattermapbox": [
           {
            "marker": {
             "colorbar": {
              "outlinewidth": 0,
              "ticks": ""
             }
            },
            "type": "scattermapbox"
           }
          ],
          "scatterpolar": [
           {
            "marker": {
             "colorbar": {
              "outlinewidth": 0,
              "ticks": ""
             }
            },
            "type": "scatterpolar"
           }
          ],
          "scatterpolargl": [
           {
            "marker": {
             "colorbar": {
              "outlinewidth": 0,
              "ticks": ""
             }
            },
            "type": "scatterpolargl"
           }
          ],
          "scatterternary": [
           {
            "marker": {
             "colorbar": {
              "outlinewidth": 0,
              "ticks": ""
             }
            },
            "type": "scatterternary"
           }
          ],
          "surface": [
           {
            "colorbar": {
             "outlinewidth": 0,
             "ticks": ""
            },
            "colorscale": [
             [
              0,
              "#0d0887"
             ],
             [
              0.1111111111111111,
              "#46039f"
             ],
             [
              0.2222222222222222,
              "#7201a8"
             ],
             [
              0.3333333333333333,
              "#9c179e"
             ],
             [
              0.4444444444444444,
              "#bd3786"
             ],
             [
              0.5555555555555556,
              "#d8576b"
             ],
             [
              0.6666666666666666,
              "#ed7953"
             ],
             [
              0.7777777777777778,
              "#fb9f3a"
             ],
             [
              0.8888888888888888,
              "#fdca26"
             ],
             [
              1,
              "#f0f921"
             ]
            ],
            "type": "surface"
           }
          ],
          "table": [
           {
            "cells": {
             "fill": {
              "color": "#EBF0F8"
             },
             "line": {
              "color": "white"
             }
            },
            "header": {
             "fill": {
              "color": "#C8D4E3"
             },
             "line": {
              "color": "white"
             }
            },
            "type": "table"
           }
          ]
         },
         "layout": {
          "annotationdefaults": {
           "arrowcolor": "#2a3f5f",
           "arrowhead": 0,
           "arrowwidth": 1
          },
          "autotypenumbers": "strict",
          "coloraxis": {
           "colorbar": {
            "outlinewidth": 0,
            "ticks": ""
           }
          },
          "colorscale": {
           "diverging": [
            [
             0,
             "#8e0152"
            ],
            [
             0.1,
             "#c51b7d"
            ],
            [
             0.2,
             "#de77ae"
            ],
            [
             0.3,
             "#f1b6da"
            ],
            [
             0.4,
             "#fde0ef"
            ],
            [
             0.5,
             "#f7f7f7"
            ],
            [
             0.6,
             "#e6f5d0"
            ],
            [
             0.7,
             "#b8e186"
            ],
            [
             0.8,
             "#7fbc41"
            ],
            [
             0.9,
             "#4d9221"
            ],
            [
             1,
             "#276419"
            ]
           ],
           "sequential": [
            [
             0,
             "#0d0887"
            ],
            [
             0.1111111111111111,
             "#46039f"
            ],
            [
             0.2222222222222222,
             "#7201a8"
            ],
            [
             0.3333333333333333,
             "#9c179e"
            ],
            [
             0.4444444444444444,
             "#bd3786"
            ],
            [
             0.5555555555555556,
             "#d8576b"
            ],
            [
             0.6666666666666666,
             "#ed7953"
            ],
            [
             0.7777777777777778,
             "#fb9f3a"
            ],
            [
             0.8888888888888888,
             "#fdca26"
            ],
            [
             1,
             "#f0f921"
            ]
           ],
           "sequentialminus": [
            [
             0,
             "#0d0887"
            ],
            [
             0.1111111111111111,
             "#46039f"
            ],
            [
             0.2222222222222222,
             "#7201a8"
            ],
            [
             0.3333333333333333,
             "#9c179e"
            ],
            [
             0.4444444444444444,
             "#bd3786"
            ],
            [
             0.5555555555555556,
             "#d8576b"
            ],
            [
             0.6666666666666666,
             "#ed7953"
            ],
            [
             0.7777777777777778,
             "#fb9f3a"
            ],
            [
             0.8888888888888888,
             "#fdca26"
            ],
            [
             1,
             "#f0f921"
            ]
           ]
          },
          "colorway": [
           "#636efa",
           "#EF553B",
           "#00cc96",
           "#ab63fa",
           "#FFA15A",
           "#19d3f3",
           "#FF6692",
           "#B6E880",
           "#FF97FF",
           "#FECB52"
          ],
          "font": {
           "color": "#2a3f5f"
          },
          "geo": {
           "bgcolor": "white",
           "lakecolor": "white",
           "landcolor": "#E5ECF6",
           "showlakes": true,
           "showland": true,
           "subunitcolor": "white"
          },
          "hoverlabel": {
           "align": "left"
          },
          "hovermode": "closest",
          "mapbox": {
           "style": "light"
          },
          "paper_bgcolor": "white",
          "plot_bgcolor": "#E5ECF6",
          "polar": {
           "angularaxis": {
            "gridcolor": "white",
            "linecolor": "white",
            "ticks": ""
           },
           "bgcolor": "#E5ECF6",
           "radialaxis": {
            "gridcolor": "white",
            "linecolor": "white",
            "ticks": ""
           }
          },
          "scene": {
           "xaxis": {
            "backgroundcolor": "#E5ECF6",
            "gridcolor": "white",
            "gridwidth": 2,
            "linecolor": "white",
            "showbackground": true,
            "ticks": "",
            "zerolinecolor": "white"
           },
           "yaxis": {
            "backgroundcolor": "#E5ECF6",
            "gridcolor": "white",
            "gridwidth": 2,
            "linecolor": "white",
            "showbackground": true,
            "ticks": "",
            "zerolinecolor": "white"
           },
           "zaxis": {
            "backgroundcolor": "#E5ECF6",
            "gridcolor": "white",
            "gridwidth": 2,
            "linecolor": "white",
            "showbackground": true,
            "ticks": "",
            "zerolinecolor": "white"
           }
          },
          "shapedefaults": {
           "line": {
            "color": "#2a3f5f"
           }
          },
          "ternary": {
           "aaxis": {
            "gridcolor": "white",
            "linecolor": "white",
            "ticks": ""
           },
           "baxis": {
            "gridcolor": "white",
            "linecolor": "white",
            "ticks": ""
           },
           "bgcolor": "#E5ECF6",
           "caxis": {
            "gridcolor": "white",
            "linecolor": "white",
            "ticks": ""
           }
          },
          "title": {
           "x": 0.05
          },
          "xaxis": {
           "automargin": true,
           "gridcolor": "white",
           "linecolor": "white",
           "ticks": "",
           "title": {
            "standoff": 15
           },
           "zerolinecolor": "white",
           "zerolinewidth": 2
          },
          "yaxis": {
           "automargin": true,
           "gridcolor": "white",
           "linecolor": "white",
           "ticks": "",
           "title": {
            "standoff": 15
           },
           "zerolinecolor": "white",
           "zerolinewidth": 2
          }
         }
        }
       }
      }
     },
     "metadata": {},
     "output_type": "display_data"
    }
   ],
   "source": [
    "import plotly.graph_objects as go\n",
    "import numpy as np\n",
    " \n",
    "# Creating the X, Y value that will\n",
    "# change the values of Z as a function\n",
    "feature_x = np.arange(0, 50, 2)\n",
    "feature_y = np.arange(0, 50, 3)\n",
    " \n",
    "# Creating 2-D grid of features\n",
    "[X, Y] = np.meshgrid(feature_x, feature_y)\n",
    " \n",
    "Z = np.cos(X / 2) + np.sin(Y / 4)\n",
    " \n",
    "# plotting the figure\n",
    "fig = go.Figure(data =\n",
    "    go.Contour(x = feature_x, y = feature_y, z = Z))\n",
    " \n",
    "fig.show()\n",
    "\n"
   ]
  },
  {
   "cell_type": "code",
   "execution_count": 1,
   "metadata": {},
   "outputs": [
    {
     "name": "stderr",
     "output_type": "stream",
     "text": [
      "/Users/ymdt/src/dreem_nap/venv-nap/lib/python3.10/site-packages/tqdm/auto.py:22: TqdmWarning: IProgress not found. Please update jupyter and ipywidgets. See https://ipywidgets.readthedocs.io/en/stable/user_install.html\n",
      "  from .autonotebook import tqdm as notebook_tqdm\n",
      "100%|\u001b[32m██████████\u001b[0m| 410/410 [00:00<00:00, 18588.96construct filtered/s, sample:JC100]\n",
      "100%|\u001b[32m██████████\u001b[0m| 409/409 [00:00<00:00, 22927.05construct filtered/s, sample:JC5]\n",
      "100%|\u001b[32m██████████\u001b[0m| 409/409 [00:00<00:00, 23834.25construct filtered/s, sample:JC1]\n",
      "100%|\u001b[32m██████████\u001b[0m| 410/410 [00:00<00:00, 24092.36construct filtered/s, sample:JC0]\n"
     ]
    },
    {
     "data": {
      "text/html": [
       "<div>\n",
       "<style scoped>\n",
       "    .dataframe tbody tr th:only-of-type {\n",
       "        vertical-align: middle;\n",
       "    }\n",
       "\n",
       "    .dataframe tbody tr th {\n",
       "        vertical-align: top;\n",
       "    }\n",
       "\n",
       "    .dataframe thead th {\n",
       "        text-align: right;\n",
       "    }\n",
       "</style>\n",
       "<table border=\"1\" class=\"dataframe\">\n",
       "  <thead>\n",
       "    <tr style=\"text-align: right;\">\n",
       "      <th></th>\n",
       "      <th>samp</th>\n",
       "      <th>construct</th>\n",
       "      <th>sequence</th>\n",
       "      <th>structure</th>\n",
       "      <th>data_type</th>\n",
       "      <th>num_reads</th>\n",
       "      <th>num_aligned</th>\n",
       "      <th>num_of_mutations</th>\n",
       "      <th>mut_bases</th>\n",
       "      <th>info_bases</th>\n",
       "      <th>...</th>\n",
       "      <th>mod_bases_A</th>\n",
       "      <th>mod_bases_C</th>\n",
       "      <th>mod_bases_G</th>\n",
       "      <th>mod_bases_T</th>\n",
       "      <th>cluster</th>\n",
       "      <th>ROI_start</th>\n",
       "      <th>ROI_stop</th>\n",
       "      <th>mut_rates</th>\n",
       "      <th>worst_cov_bases</th>\n",
       "      <th>min_cov_bases</th>\n",
       "    </tr>\n",
       "  </thead>\n",
       "  <tbody>\n",
       "    <tr>\n",
       "      <th>0</th>\n",
       "      <td>JC100</td>\n",
       "      <td>410-O-flank_1=hp14</td>\n",
       "      <td>GAGCCTTATGATTTCCCGCGCATATGAGGATCACCCATATGCTCCG...</td>\n",
       "      <td>((((....((......((.(((((((.((....)))))))))..))...</td>\n",
       "      <td>DMS</td>\n",
       "      <td>3971</td>\n",
       "      <td>3930</td>\n",
       "      <td>[563, 936, 956, 632, 387, 168, 76, 34, 8, 6, 0...</td>\n",
       "      <td>[0.0, 0.0, 0.0, 1.0, 2.0, 1.0, 0.0, 5.0, 2.0, ...</td>\n",
       "      <td>[2772.0, 3537.0, 3615.0, 3670.0, 3674.0, 3675....</td>\n",
       "      <td>...</td>\n",
       "      <td>[0.0, 0.0, 0.0, 0.0, 0.0, 0.0, 0.0, 0.0, 1.0, ...</td>\n",
       "      <td>[0.0, 0.0, 0.0, 0.0, 0.0, 1.0, 0.0, 5.0, 1.0, ...</td>\n",
       "      <td>[0.0, 0.0, 0.0, 1.0, 1.0, 0.0, 0.0, 0.0, 0.0, ...</td>\n",
       "      <td>[0.0, 0.0, 0.0, 0.0, 1.0, 0.0, 0.0, 0.0, 0.0, ...</td>\n",
       "      <td>0</td>\n",
       "      <td>0</td>\n",
       "      <td>169</td>\n",
       "      <td>[0.0, 0.0, 0.0, 0.00027247956403269756, 0.0005...</td>\n",
       "      <td>2668.0</td>\n",
       "      <td>1000</td>\n",
       "    </tr>\n",
       "    <tr>\n",
       "      <th>1</th>\n",
       "      <td>JC100</td>\n",
       "      <td>366-O-flank_1=hp13</td>\n",
       "      <td>GAGCCTTATGATTTCCCGCGCATATGAGGATCACCCATATGCTCTG...</td>\n",
       "      <td>...................(((((((.((....))))))))).(((...</td>\n",
       "      <td>DMS</td>\n",
       "      <td>3156</td>\n",
       "      <td>3121</td>\n",
       "      <td>[404, 667, 700, 564, 318, 191, 86, 31, 10, 12,...</td>\n",
       "      <td>[0.0, 0.0, 0.0, 4.0, 1.0, 0.0, 0.0, 1.0, 0.0, ...</td>\n",
       "      <td>[2223.0, 2890.0, 2941.0, 2973.0, 2976.0, 2976....</td>\n",
       "      <td>...</td>\n",
       "      <td>[0.0, 0.0, 0.0, 1.0, 0.0, 0.0, 0.0, 0.0, 0.0, ...</td>\n",
       "      <td>[0.0, 0.0, 0.0, 0.0, 0.0, 0.0, 0.0, 1.0, 0.0, ...</td>\n",
       "      <td>[0.0, 0.0, 0.0, 0.0, 0.0, 0.0, 0.0, 0.0, 0.0, ...</td>\n",
       "      <td>[0.0, 0.0, 0.0, 3.0, 1.0, 0.0, 0.0, 0.0, 0.0, ...</td>\n",
       "      <td>0</td>\n",
       "      <td>0</td>\n",
       "      <td>169</td>\n",
       "      <td>[0.0, 0.0, 0.0, 0.0013454423141607804, 0.00033...</td>\n",
       "      <td>2110.0</td>\n",
       "      <td>1000</td>\n",
       "    </tr>\n",
       "    <tr>\n",
       "      <th>2</th>\n",
       "      <td>JC100</td>\n",
       "      <td>45-O-flank_1=hp2</td>\n",
       "      <td>GAGCCTTATGATTTCCCGCGCATATGAGGATCACCCATATGCTCGA...</td>\n",
       "      <td>................((.(((((((.((....))))))))).))....</td>\n",
       "      <td>DMS</td>\n",
       "      <td>6621</td>\n",
       "      <td>6554</td>\n",
       "      <td>[1132, 1665, 1490, 1047, 524, 216, 69, 25, 18,...</td>\n",
       "      <td>[0.0, 0.0, 0.0, 1.0, 4.0, 1.0, 0.0, 5.0, 2.0, ...</td>\n",
       "      <td>[4599.0, 6025.0, 6161.0, 6245.0, 6248.0, 6248....</td>\n",
       "      <td>...</td>\n",
       "      <td>[0.0, 0.0, 0.0, 0.0, 3.0, 1.0, 0.0, 0.0, 0.0, ...</td>\n",
       "      <td>[0.0, 0.0, 0.0, 0.0, 0.0, 0.0, 0.0, 5.0, 1.0, ...</td>\n",
       "      <td>[0.0, 0.0, 0.0, 0.0, 0.0, 0.0, 0.0, 0.0, 1.0, ...</td>\n",
       "      <td>[0.0, 0.0, 0.0, 1.0, 1.0, 0.0, 0.0, 0.0, 0.0, ...</td>\n",
       "      <td>0</td>\n",
       "      <td>0</td>\n",
       "      <td>169</td>\n",
       "      <td>[0.0, 0.0, 0.0, 0.0001601281024819856, 0.00064...</td>\n",
       "      <td>4410.0</td>\n",
       "      <td>1000</td>\n",
       "    </tr>\n",
       "  </tbody>\n",
       "</table>\n",
       "<p>3 rows × 40 columns</p>\n",
       "</div>"
      ],
      "text/plain": [
       "    samp           construct  \\\n",
       "0  JC100  410-O-flank_1=hp14   \n",
       "1  JC100  366-O-flank_1=hp13   \n",
       "2  JC100    45-O-flank_1=hp2   \n",
       "\n",
       "                                            sequence  \\\n",
       "0  GAGCCTTATGATTTCCCGCGCATATGAGGATCACCCATATGCTCCG...   \n",
       "1  GAGCCTTATGATTTCCCGCGCATATGAGGATCACCCATATGCTCTG...   \n",
       "2  GAGCCTTATGATTTCCCGCGCATATGAGGATCACCCATATGCTCGA...   \n",
       "\n",
       "                                           structure data_type  num_reads  \\\n",
       "0  ((((....((......((.(((((((.((....)))))))))..))...       DMS       3971   \n",
       "1  ...................(((((((.((....))))))))).(((...       DMS       3156   \n",
       "2  ................((.(((((((.((....))))))))).))....       DMS       6621   \n",
       "\n",
       "   num_aligned                                   num_of_mutations  \\\n",
       "0         3930  [563, 936, 956, 632, 387, 168, 76, 34, 8, 6, 0...   \n",
       "1         3121  [404, 667, 700, 564, 318, 191, 86, 31, 10, 12,...   \n",
       "2         6554  [1132, 1665, 1490, 1047, 524, 216, 69, 25, 18,...   \n",
       "\n",
       "                                           mut_bases  \\\n",
       "0  [0.0, 0.0, 0.0, 1.0, 2.0, 1.0, 0.0, 5.0, 2.0, ...   \n",
       "1  [0.0, 0.0, 0.0, 4.0, 1.0, 0.0, 0.0, 1.0, 0.0, ...   \n",
       "2  [0.0, 0.0, 0.0, 1.0, 4.0, 1.0, 0.0, 5.0, 2.0, ...   \n",
       "\n",
       "                                          info_bases  ...  \\\n",
       "0  [2772.0, 3537.0, 3615.0, 3670.0, 3674.0, 3675....  ...   \n",
       "1  [2223.0, 2890.0, 2941.0, 2973.0, 2976.0, 2976....  ...   \n",
       "2  [4599.0, 6025.0, 6161.0, 6245.0, 6248.0, 6248....  ...   \n",
       "\n",
       "                                         mod_bases_A  \\\n",
       "0  [0.0, 0.0, 0.0, 0.0, 0.0, 0.0, 0.0, 0.0, 1.0, ...   \n",
       "1  [0.0, 0.0, 0.0, 1.0, 0.0, 0.0, 0.0, 0.0, 0.0, ...   \n",
       "2  [0.0, 0.0, 0.0, 0.0, 3.0, 1.0, 0.0, 0.0, 0.0, ...   \n",
       "\n",
       "                                         mod_bases_C  \\\n",
       "0  [0.0, 0.0, 0.0, 0.0, 0.0, 1.0, 0.0, 5.0, 1.0, ...   \n",
       "1  [0.0, 0.0, 0.0, 0.0, 0.0, 0.0, 0.0, 1.0, 0.0, ...   \n",
       "2  [0.0, 0.0, 0.0, 0.0, 0.0, 0.0, 0.0, 5.0, 1.0, ...   \n",
       "\n",
       "                                         mod_bases_G  \\\n",
       "0  [0.0, 0.0, 0.0, 1.0, 1.0, 0.0, 0.0, 0.0, 0.0, ...   \n",
       "1  [0.0, 0.0, 0.0, 0.0, 0.0, 0.0, 0.0, 0.0, 0.0, ...   \n",
       "2  [0.0, 0.0, 0.0, 0.0, 0.0, 0.0, 0.0, 0.0, 1.0, ...   \n",
       "\n",
       "                                         mod_bases_T  cluster ROI_start  \\\n",
       "0  [0.0, 0.0, 0.0, 0.0, 1.0, 0.0, 0.0, 0.0, 0.0, ...        0         0   \n",
       "1  [0.0, 0.0, 0.0, 3.0, 1.0, 0.0, 0.0, 0.0, 0.0, ...        0         0   \n",
       "2  [0.0, 0.0, 0.0, 1.0, 1.0, 0.0, 0.0, 0.0, 0.0, ...        0         0   \n",
       "\n",
       "  ROI_stop                                          mut_rates worst_cov_bases  \\\n",
       "0      169  [0.0, 0.0, 0.0, 0.00027247956403269756, 0.0005...          2668.0   \n",
       "1      169  [0.0, 0.0, 0.0, 0.0013454423141607804, 0.00033...          2110.0   \n",
       "2      169  [0.0, 0.0, 0.0, 0.0001601281024819856, 0.00064...          4410.0   \n",
       "\n",
       "  min_cov_bases  \n",
       "0          1000  \n",
       "1          1000  \n",
       "2          1000  \n",
       "\n",
       "[3 rows x 40 columns]"
      ]
     },
     "execution_count": 1,
     "metadata": {},
     "output_type": "execute_result"
    }
   ],
   "source": [
    "import pandas as pd\n",
    "import matplotlib.pyplot as plt\n",
    "import matplotlib as mpl\n",
    "import os, sys\n",
    "import numpy as np\n",
    "from tqdm.auto import tqdm\n",
    "\n",
    "sys.path.append('/Users/ymdt/src/dreem_nap/')\n",
    "from dreem_nap import manipulator \n",
    "from dreem_nap.study import Study, util\n",
    "from dreem_nap.util import *\n",
    "from itertools import cycle\n",
    "import plotly.express as px\n",
    "from scipy.optimize import curve_fit\n",
    "from plotly.subplots import make_subplots\n",
    "import plotly.graph_objects as go\n",
    "from plotly.offline import download_plotlyjs, init_notebook_mode, plot, iplot\n",
    "from dreem_nap.manipulator import Fit\n",
    "\n",
    "# Create a study\n",
    "samples_csv = pd.read_csv('~/src/data/Jordan/samples.csv')\n",
    "\n",
    "dms = Study.from_dict({'name': 'dms',\n",
    "                         'description': 'Change the DMS concentration', \n",
    "                         'samples': list(samples_csv['sample']), \n",
    "                         'label': 'Na quantity [M]', \n",
    "                         'conditions': list(samples_csv['DMS_conc_mM'])})\n",
    "\n",
    "# Load data\n",
    "dms.load_df_from_local_files(path_to_data='/Users/ymdt/src/data/Jordan', \n",
    "                              min_cov_bases= 1000, \n",
    "                              filter_by='sample')\n",
    "\n",
    "\n",
    "    \n",
    "dms._df.head(3)\n"
   ]
  },
  {
   "cell_type": "code",
   "execution_count": 36,
   "metadata": {},
   "outputs": [
    {
     "name": "stderr",
     "output_type": "stream",
     "text": [
      "100%|\u001b[32m██████████\u001b[0m| 410/410 [00:00<00:00, 20265.68construct filtered/s, sample:JC100]\n",
      "100%|\u001b[32m██████████\u001b[0m| 409/409 [00:00<00:00, 20407.20construct filtered/s, sample:JC5]\n",
      "100%|\u001b[32m██████████\u001b[0m| 409/409 [00:00<00:00, 21574.17construct filtered/s, sample:JC1]\n",
      "100%|\u001b[32m██████████\u001b[0m| 410/410 [00:00<00:00, 20763.63construct filtered/s, sample:JC0]\n"
     ]
    },
    {
     "name": "stdout",
     "output_type": "stream",
     "text": [
      "<dreem_nap.util.OutputPlot object at 0x2abcb4a60>\n"
     ]
    }
   ],
   "source": [
    "import pandas as pd\n",
    "import matplotlib.pyplot as plt\n",
    "import matplotlib as mpl\n",
    "import os, sys\n",
    "import numpy as np\n",
    "from tqdm.auto import tqdm\n",
    "\n",
    "sys.path.append('/Users/ymdt/src/dreem_nap/')\n",
    "from dreem_nap import manipulator \n",
    "from dreem_nap.study import Study, util\n",
    "from dreem_nap.util import *\n",
    "from itertools import cycle\n",
    "import plotly.express as px\n",
    "from scipy.optimize import curve_fit\n",
    "from plotly.subplots import make_subplots\n",
    "import plotly.graph_objects as go\n",
    "from plotly.offline import download_plotlyjs, init_notebook_mode, plot, iplot\n",
    "from dreem_nap.manipulator import Fit, Manipulator\n",
    "import plotly\n",
    "\n",
    "# Create a study\n",
    "samples_csv = pd.read_csv('~/src/data/Jordan/samples.csv')\n",
    "\n",
    "dms = Study.from_dict({'name': 'dms',\n",
    "                         'description': 'Change the DMS concentration', \n",
    "                         'samples': list(samples_csv['sample']), \n",
    "                         'label': 'Na quantity [M]', \n",
    "                         'conditions': list(samples_csv['DMS_conc_mM'])})\n",
    "\n",
    "# Load data\n",
    "dms.load_df_from_local_files(path_to_data='/Users/ymdt/src/data/Jordan', \n",
    "                              min_cov_bases= 1000, \n",
    "                              filter_by='sample')\n",
    "\n",
    "\n",
    "    \n",
    "dms._df.head(3)\n",
    "\n",
    "def mut_histogram(df, samp:str, construct:str, cluster:int=0, index='all', base_type:List[str]=['A','C','G','T'], base_paired:bool=None, structure:str=None, show_ci:bool=True, figsize:Tuple[int]=(35,7), title_fontsize=40, xticks_fontsize=10, yticks_fontsize=30, **kwargs)->OutputPlot:\n",
    "    \"\"\"Plot the mutation rates as histograms.\n",
    "\n",
    "    Args:\n",
    "        samp (str): Sample of your sample-construct-cluster.\n",
    "        construct (str): Construct of your sample-construct-cluster.\n",
    "        cluster (int, optional): Cluster of your sample-construct-cluster. Defaults to 0. \n",
    "        index (_type_, optional): Indexes to plot. Defaults to ``'all'``.\n",
    "        base_type (List[str], optional): Bases type to plot. Defaults to ``['A','C','G','T']``.\n",
    "        base_paired (bool, optional): Base-pairing predicition to plot. Defaults to None.\n",
    "        structure (str, optional): Structure to use for base_paired filtering. Defaults to None.\n",
    "        show_ci (bool, optional): Show confidence interval on the histogram. Defaults to True.\n",
    "        figsize (Tuple[int], optional): Figure size. Defaults to (35,7).\n",
    "        title_fontsize (int, optional): Title font size. Defaults to 40.\n",
    "        yticks_fontsize (int, optional): Ytick font size. Defaults to 30.\n",
    "        **kwargs: Other arguments to pass to matplotlib.pyplot.\n",
    "\n",
    "    Raises:\n",
    "        Exception: plot_type is not ``index`` or ``partition``.\n",
    "\n",
    "    Returns:\n",
    "        OutputPlot: Figure, axis and data of the output plot.\n",
    "    \"\"\"\n",
    "\n",
    "    mh = Manipulator(df).get_series(df, SubDF.from_locals(locals()))\n",
    "    xaxis_coordinates = [i for i in range(len(mh.sequence) -1)]\n",
    "\n",
    "    mut_y = []\n",
    "    for pos in range(len(mh.sequence)):\n",
    "        try:\n",
    "            mut_frac = mh.mut_bases[pos] / mh.info_bases[pos]\n",
    "        except:\n",
    "            mut_frac = 0.0\n",
    "        mut_y.append(mut_frac)\n",
    "        mut_frac = round(mut_frac, 5)\n",
    "\n",
    "    cmap = {\"A\": \"red\", \"T\": \"green\", \"G\": \"orange\", \"C\": \"blue\"}  # Color map\n",
    "    colors = []\n",
    "    ref_bases = []\n",
    "    hover_attr = pd.DataFrame({'mut_rate':mut_y,\n",
    "                                'base':list(mh.sequence), \n",
    "                                'paired':[{'.':True, '(':False,')':False}[s] for s in mh.structure]})\n",
    "    for i in range(len(mh.sequence)):\n",
    "        if i >= len(mh.sequence)-1:\n",
    "            continue\n",
    "        colors.append(cmap[mh.sequence[i - 1]])\n",
    "        ref_bases.append(mh.sequence[i - 1])\n",
    "    mut_trace = go.Bar(\n",
    "            x=xaxis_coordinates,\n",
    "            y=mut_y,\n",
    "            text=hover_attr,\n",
    "            marker=dict(color=colors),\n",
    "            showlegend=False,\n",
    "            hovertemplate = ''.join([\"<b>\"+ha+\": %{text[\"+str(i)+\"]}<br>\" for i, ha in enumerate(hover_attr)]),\n",
    "        )   \n",
    "    \n",
    "    if show_ci:\n",
    "        mut_trace.update(\n",
    "           error_y=dict(\n",
    "                type='data',\n",
    "                symmetric=False,\n",
    "                array=mh.poisson_high,\n",
    "                arrayminus=mh.poisson_low\n",
    "                )\n",
    "        )\n",
    "\n",
    "    mut_fig_layout = go.Layout(\n",
    "            title=mh.construct,\n",
    "            xaxis=dict(title=\"Postion\"),\n",
    "            yaxis=dict(title=\"Fraction\", range=[0, 0.1]),\n",
    "            plot_bgcolor=\"white\"\n",
    "\n",
    "    )\n",
    "    mut_fig = go.Figure(data=mut_trace, layout=mut_fig_layout)\n",
    "    seqs = list(mh.sequence)\n",
    "    if mh.structure is not None:\n",
    "        db = list(mh.structure)\n",
    "    else:\n",
    "        db = \" \" * len(seqs)\n",
    "    mut_fig.update_yaxes(\n",
    "            gridcolor='lightgray',\n",
    "            linewidth=1,\n",
    "            linecolor='black',\n",
    "            mirror=True\n",
    "    )\n",
    "    mut_fig.update_xaxes(\n",
    "            linewidth=1,\n",
    "            linecolor='black',\n",
    "            mirror=True\n",
    "    )\n",
    "    mut_fig.update_xaxes(\n",
    "            tickvals=xaxis_coordinates,\n",
    "            ticktext=[\"%s<br>%s\" % (x, y) for (x, y) in zip(seqs, db)],\n",
    "            tickangle=0\n",
    "    )\n",
    "\n",
    "    plotly.offline.plot(\n",
    "            mut_fig, filename= \"pop_avg.html\", auto_open=True,\n",
    "    )\n",
    "    return OutputPlot(mh, mut_fig)\n",
    "print(mut_histogram(dms._df, samp='JC100',construct='410-O-flank_1=hp14'))"
   ]
  },
  {
   "cell_type": "code",
   "execution_count": 85,
   "metadata": {},
   "outputs": [
    {
     "data": {
      "text/plain": [
       "0      104.0\n",
       "262     52.0\n",
       "581     10.4\n",
       "909      0.0\n",
       "Name: DMS_conc_mM, dtype: float64"
      ]
     },
     "execution_count": 85,
     "metadata": {},
     "output_type": "execute_result"
    }
   ],
   "source": [
    "dms._df[dms._df.construct=='410-O-flank_1=hp14']['DMS_conc_mM']\n"
   ]
  },
  {
   "cell_type": "code",
   "execution_count": null,
   "metadata": {},
   "outputs": [],
   "source": []
  }
 ],
 "metadata": {
  "kernelspec": {
   "display_name": "Python 3.10.5 ('venv-nap': venv)",
   "language": "python",
   "name": "python3"
  },
  "language_info": {
   "codemirror_mode": {
    "name": "ipython",
    "version": 3
   },
   "file_extension": ".py",
   "mimetype": "text/x-python",
   "name": "python",
   "nbconvert_exporter": "python",
   "pygments_lexer": "ipython3",
   "version": "3.10.5"
  },
  "orig_nbformat": 4,
  "vscode": {
   "interpreter": {
    "hash": "228ea3748f49093993f7ca989c09e25264db3703291e3a4aaa931dd28b2eaabc"
   }
  }
 },
 "nbformat": 4,
 "nbformat_minor": 2
}
