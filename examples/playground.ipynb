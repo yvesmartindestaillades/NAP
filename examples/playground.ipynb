{
 "cells": [
  {
   "cell_type": "markdown",
   "metadata": {},
   "source": [
    "## Get started\n",
    "### Imports"
   ]
  },
  {
   "cell_type": "code",
   "execution_count": 13,
   "metadata": {},
   "outputs": [
    {
     "name": "stdout",
     "output_type": "stream",
     "text": [
      "/Users/ymdt/src/dreem_nap/dreem_nap\n"
     ]
    },
    {
     "ename": "ModuleNotFoundError",
     "evalue": "No module named 'dreem_nap.study'",
     "output_type": "error",
     "traceback": [
      "\u001b[0;31m---------------------------------------------------------------------------\u001b[0m",
      "\u001b[0;31mModuleNotFoundError\u001b[0m                       Traceback (most recent call last)",
      "\u001b[1;32m/Users/ymdt/src/dreem_nap/examples/playground.ipynb Cell 2\u001b[0m in \u001b[0;36m<cell line: 14>\u001b[0;34m()\u001b[0m\n\u001b[1;32m     <a href='vscode-notebook-cell:/Users/ymdt/src/dreem_nap/examples/playground.ipynb#W1sZmlsZQ%3D%3D?line=11'>12</a>\u001b[0m sys\u001b[39m.\u001b[39mpath\u001b[39m.\u001b[39mappend(path)\n\u001b[1;32m     <a href='vscode-notebook-cell:/Users/ymdt/src/dreem_nap/examples/playground.ipynb#W1sZmlsZQ%3D%3D?line=12'>13</a>\u001b[0m \u001b[39mfrom\u001b[39;00m \u001b[39mdreem_nap\u001b[39;00m \u001b[39mimport\u001b[39;00m \u001b[39m*\u001b[39m\n\u001b[0;32m---> <a href='vscode-notebook-cell:/Users/ymdt/src/dreem_nap/examples/playground.ipynb#W1sZmlsZQ%3D%3D?line=13'>14</a>\u001b[0m \u001b[39mfrom\u001b[39;00m \u001b[39mdreem_nap\u001b[39;00m\u001b[39m.\u001b[39;00m\u001b[39mstudy\u001b[39;00m \u001b[39mimport\u001b[39;00m Study\n\u001b[1;32m     <a href='vscode-notebook-cell:/Users/ymdt/src/dreem_nap/examples/playground.ipynb#W1sZmlsZQ%3D%3D?line=14'>15</a>\u001b[0m \u001b[39mimport\u001b[39;00m \u001b[39myaml\u001b[39;00m\n",
      "\u001b[0;31mModuleNotFoundError\u001b[0m: No module named 'dreem_nap.study'"
     ]
    }
   ],
   "source": [
    "import pandas as pd\n",
    "import matplotlib.pyplot as plt\n",
    "import matplotlib as mpl\n",
    "from matplotlib.colors import LogNorm\n",
    "from os.path import exists, dirname\n",
    "import os, sys\n",
    "import numpy as np\n",
    "import seaborn as sns\n",
    "import json\n",
    "path = os.path.dirname((os.path.abspath(''))) + '/dreem_nap'\n",
    "print(path)\n",
    "sys.path.append(path)\n",
    "from dreem_nap import *\n",
    "from dreem_nap import Study\n",
    "import yaml"
   ]
  },
  {
   "cell_type": "markdown",
   "metadata": {},
   "source": [
    "### Configuration\n",
    "- Load config file and check what's in it\n",
    "- Configurate the Notebook"
   ]
  },
  {
   "cell_type": "code",
   "execution_count": null,
   "metadata": {},
   "outputs": [],
   "source": [
    "with open('config.yml', 'r') as ymlfile:\n",
    "    cfg = yaml.safe_load(ymlfile)\n",
    "for k,v in cfg.items():\n",
    "    print(k,(30-len(k))*'_',v)\n",
    "\n",
    "mpl.rcParams['figure.dpi'] = cfg['mpl_rcParams_figure_dpi'] # the highest the resolution, the slowest the plotting\n",
    "mpl.rcParams[\"figure.figsize\"] = cfg['mpl_rcParams_figure_figsize'] # (width, height) in inches"
   ]
  },
  {
   "cell_type": "markdown",
   "metadata": {},
   "source": [
    "### Load data\n",
    "Create and load dataframe of a single study as a demo"
   ]
  },
  {
   "cell_type": "code",
   "execution_count": null,
   "metadata": {},
   "outputs": [],
   "source": [
    "from dreem_nap.study import Study\n",
    "\n",
    "# Create a study\n",
    "salt = Study().from_dict({'name': 'salt',\n",
    "                         'description': 'Change the Na concentration', \n",
    "                         'samples': ['A6', 'B6', 'C6', 'D6', 'E6'], \n",
    "                         'title': 'Na quantity [M]', \n",
    "                         'conditions': [0.15, 0.3, 0.6, 1.0, 1.2]})\n",
    "\n",
    "# Load data\n",
    "salt.load_df_from_local_files(path_to_data= cfg['path_to_data'], \n",
    "                              min_cov_bases= cfg['min_cov_bases'])\n",
    "\n",
    "# Show the dataframe\n",
    "salt.df.head()"
   ]
  },
  {
   "cell_type": "markdown",
   "metadata": {},
   "source": [
    "## Make plots\n",
    "Plot this study with different plots. Check out the list of plots in the plot module\n",
    "\n",
    "### Mutation histogram"
   ]
  },
  {
   "cell_type": "code",
   "execution_count": null,
   "metadata": {},
   "outputs": [],
   "source": [
    "salt.mut_histogram(samp='A6', construct='7695',\\\n",
    "             plot_type='index', figsize=(28,4))"
   ]
  },
  {
   "cell_type": "markdown",
   "metadata": {},
   "source": [
    "### DeltaG\n",
    "DeltaG vs mutation rate for all constructs of a sample"
   ]
  },
  {
   "cell_type": "code",
   "execution_count": null,
   "metadata": {},
   "outputs": [],
   "source": [
    "salt.deltaG(samp='A6',bases_type=['A','C'], roi_range='all')  # currently bugged due to DREEM, work in progress"
   ]
  },
  {
   "cell_type": "markdown",
   "metadata": {},
   "source": [
    "### DeltaG_basewise\n",
    "Plot the mutation rate of each paired-predicted base of the ROI for each construct of a sample, w.r.t the deltaG estimation"
   ]
  },
  {
   "cell_type": "code",
   "execution_count": null,
   "metadata": {},
   "outputs": [],
   "source": [
    "salt.deltaG_basewise(samp='A6', roi_range=[94,95,96,97])"
   ]
  },
  {
   "cell_type": "markdown",
   "metadata": {},
   "source": [
    "###  Heatmap\n",
    "Here a heatmap of the minimum base coverage across all samples. Column can be any column that contains a single scalar value."
   ]
  },
  {
   "cell_type": "code",
   "execution_count": null,
   "metadata": {},
   "outputs": [],
   "source": [
    "salt.heatmap(column='min_cov_bases') "
   ]
  },
  {
   "cell_type": "markdown",
   "metadata": {},
   "source": [
    "### Mutation rate vs 1-base_pairing\n",
    "Plot a mutation rate histogram, a 1-base_pairing probability histogram, and a scatter plot fitting the mutation rate vs 1-base_pairing. "
   ]
  },
  {
   "cell_type": "code",
   "execution_count": null,
   "metadata": {},
   "outputs": [],
   "source": [
    "# currently bugged due to DREEM, work in progress\n",
    "salt.mut_rate_vs_base_non_pairing_prob(samp='A6', construct='7695') # shows the mutation rate vs base non-pairing probability"
   ]
  },
  {
   "cell_type": "markdown",
   "metadata": {},
   "source": [
    "### Base coverage\n",
    "Plot the base coverage of a specific (sample, construct)"
   ]
  },
  {
   "cell_type": "code",
   "execution_count": null,
   "metadata": {},
   "outputs": [],
   "source": [
    "salt.base_coverage(samp='A6', construct='9572')"
   ]
  },
  {
   "cell_type": "markdown",
   "metadata": {},
   "source": [
    "### Base coverage for all constructs\n",
    "Plot the base-coverage of the worst-covered base of the Region of Interest, for each construct. "
   ]
  },
  {
   "cell_type": "code",
   "execution_count": null,
   "metadata": {},
   "outputs": [],
   "source": [
    "salt.base_coverage_ROI_for_all_constructs()\n"
   ]
  },
  {
   "cell_type": "code",
   "execution_count": null,
   "metadata": {},
   "outputs": [],
   "source": [
    "salt.random_9_base_coverage()"
   ]
  },
  {
   "cell_type": "code",
   "execution_count": null,
   "metadata": {},
   "outputs": [],
   "source": [
    "random_9_base_coverage()\n",
    "sample_coverage_distribution()\n",
    "valid_construct_per_sample()\n",
    "sliding_window_r2_gini()\n",
    "study_base()\n",
    "study_sample()\n",
    "base_wise_mut_vs_prob()\n",
    "correlation_n_samples()\n"
   ]
  },
  {
   "cell_type": "code",
   "execution_count": null,
   "metadata": {},
   "outputs": [],
   "source": [
    "salt.study_base(construct='9572', structure='full',\n",
    "                roi_range=[40,63,78,94])"
   ]
  },
  {
   "cell_type": "markdown",
   "metadata": {},
   "source": [
    "### You can load every study from a file using Study.load_studies()"
   ]
  },
  {
   "cell_type": "code",
   "execution_count": null,
   "metadata": {},
   "outputs": [],
   "source": [
    "studies = Study.load_studies(cfg['path_to_studies'])\n",
    "for study in studies.values():\n",
    "    if study.name != 'all_samples':\n",
    "        study.load_df_from_local_files(path_to_data= cfg['path_to_data'], \n",
    "                                   min_cov_bases= cfg['min_cov_bases'])\n",
    "\n",
    "studies['temperature'].df.head()"
   ]
  },
  {
   "cell_type": "markdown",
   "metadata": {},
   "source": [
    "### Studies can be called from the dictionary using their name"
   ]
  },
  {
   "cell_type": "code",
   "execution_count": null,
   "metadata": {},
   "outputs": [],
   "source": [
    "studies['temperature'].mut_histogram(studies['temperature'].samples[0], '9572', 'index')"
   ]
  },
  {
   "cell_type": "code",
   "execution_count": null,
   "metadata": {},
   "outputs": [],
   "source": [
    "for study in studies.values():\n",
    "    if study.name != 'all_samples':\n",
    "        for s in study.samples:\n",
    "            for construct in study.constructs:\n",
    "                study.mut_histogram(s, construct, 'index')\n",
    "                util.save_fig(f\"data/figs/date/mutation histogram/{study.name}/{s}/{construct}.png\")\n",
    "                plt.close()\n"
   ]
  },
  {
   "cell_type": "code",
   "execution_count": null,
   "metadata": {},
   "outputs": [],
   "source": [
    "class TestStudy(Study):\n",
    "    def mut_histogram(self, samp:str, construct:str, plot_type:str, figsize=(35,7))->None:\n",
    "        \"\"\"Plot the mutation rate of a specific (sample, construct).\n",
    "\n",
    "        Args:\n",
    "        plot_type: 'index' or 'partition'. \n",
    "            - 'index' uses bases numbers as index and the original construct bases as colors.\n",
    "            - 'partition' uses original sequence bases as index and the partition of mutated bases as colors.\n",
    "        samp: sample of interest.\n",
    "        construct: construct of interest.\n",
    "        \"\"\"\n",
    "\n",
    "        df_use = self.df.set_index(['samp','construct'])\n",
    "        \n",
    "        if not plot_type in ['index','partition']:\n",
    "            raise Exception(f\"{plot_type} must be 'index' or 'partition', please check this argument\")\n",
    "\n",
    "        if plot_type == 'index':  # Plot the mutation rate for each base along the sequence\n",
    "\n",
    "            mut_per_base = pd.DataFrame({'mut_rates': df_use['mut_rates'].loc[samp, construct]\n",
    "                                        ,'base':list(df_use['sequence'].loc[samp, construct])})\\\n",
    "                                        .reset_index()\\\n",
    "                                        .set_index(['base', 'index'])\n",
    "            df_hist = pd.DataFrame()\n",
    "            df_hist.index = mut_per_base.reset_index()['index']\n",
    "\n",
    "            for base in ['A','C','G','T']:\n",
    "                df_hist[base] = pd.Series(dtype=float)\n",
    "                df_hist[base] = mut_per_base.loc[base]\n",
    "\n",
    "            #df_hist.index = mut_per_base.reset_index()['base']\n",
    "\n",
    "            ax = df_hist.plot.bar(stacked=True, color=['r','b','y','g'],  figsize=figsize)\n",
    "            plt.title(f\"sample {samp}, construct {construct}\")\n",
    "\n",
    "        if plot_type == 'partition': # Plot the partition of mutations for each base along the sequence\n",
    "            df_hist = pd.DataFrame()\n",
    "            for base in ['A','C','G','T']:\n",
    "                df_hist[f\"mod_bases_{base}\"]  = np.array(df_use[f\"mod_bases_{base}\"].loc[samp, construct][1:])/df_use['info_bases'].loc[samp, construct][1:]\n",
    "\n",
    "            df_hist.index = list(df_use['sequence'].loc[samp,construct])\n",
    "\n",
    "            ax = df_hist.plot.bar(stacked=True, color=['r','b','y','g'], figsize=figsize)\n",
    "\n",
    "        return ax\n",
    "\n",
    "\n",
    "# Load configuration\n",
    "with open('config.yml', 'r') as ymlfile:\n",
    "    cfg = yaml.safe_load(ymlfile)\n",
    "for k,v in cfg.items():\n",
    "    print(k,(30-len(k))*'_',v)\n",
    "\n",
    "mpl.rcParams['figure.dpi'] = cfg['mpl_rcParams_figure_dpi'] # the highest the resolution, the slowest the plotting\n",
    "\n",
    "# Create a study\n",
    "salt = TestStudy().from_dict({'name': 'salt',\n",
    "                         'description': 'Change the Na concentration', \n",
    "                         'samples': ['A6', 'B6', 'C6', 'D6', 'E6'], \n",
    "                         'title': 'Na quantity [M]', \n",
    "                         'conditions': [0.15, 0.3, 0.6, 1.0, 1.2]})\n",
    "\n",
    "# Load data\n",
    "salt.load_df_from_local_files(path_to_data= cfg['path_to_data'], \n",
    "                              min_cov_bases= cfg['min_cov_bases'])\n",
    "\n",
    "# Show the dataframe\n",
    "salt.df.head()"
   ]
  },
  {
   "cell_type": "code",
   "execution_count": null,
   "metadata": {},
   "outputs": [],
   "source": [
    "import pickle\n",
    "from os import listdir\n",
    "\n",
    "listdir('../data/DEMULTIPLEXED/')\n",
    "\n",
    "with open(f\"../data/DEMULTIPLEXED/A4/mh.p\",'rb') as f:\n",
    "    pick =pickle.load(f)\n",
    "    print(dir(pick['9572']))\n"
   ]
  },
  {
   "cell_type": "code",
   "execution_count": null,
   "metadata": {},
   "outputs": [],
   "source": []
  },
  {
   "cell_type": "code",
   "execution_count": null,
   "metadata": {},
   "outputs": [],
   "source": [
    "for s in salt.samples:\n",
    "    salt.mut_histogram(s, '9572', 'index')"
   ]
  }
 ],
 "metadata": {
  "kernelspec": {
   "display_name": "Python 3.10.5 ('venv-nap': venv)",
   "language": "python",
   "name": "python3"
  },
  "language_info": {
   "codemirror_mode": {
    "name": "ipython",
    "version": 3
   },
   "file_extension": ".py",
   "mimetype": "text/x-python",
   "name": "python",
   "nbconvert_exporter": "python",
   "pygments_lexer": "ipython3",
   "version": "3.10.5"
  },
  "orig_nbformat": 4,
  "vscode": {
   "interpreter": {
    "hash": "228ea3748f49093993f7ca989c09e25264db3703291e3a4aaa931dd28b2eaabc"
   }
  }
 },
 "nbformat": 4,
 "nbformat_minor": 2
}
