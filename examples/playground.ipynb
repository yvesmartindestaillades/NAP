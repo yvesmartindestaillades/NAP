{
 "cells": [
  {
   "cell_type": "markdown",
   "metadata": {},
   "source": [
    "## Get started\n",
    "### Imports"
   ]
  },
  {
   "cell_type": "code",
   "execution_count": 15,
   "metadata": {},
   "outputs": [
    {
     "name": "stderr",
     "output_type": "stream",
     "text": [
      "100%|\u001b[32m██████████\u001b[0m| 629/629 [00:00<00:00, 23547.52construct filtered/s, sample:470]\n",
      "100%|\u001b[32m██████████\u001b[0m| 628/628 [00:00<00:00, 22903.95construct filtered/s, sample:472]\n"
     ]
    },
    {
     "name": "stdout",
     "output_type": "stream",
     "text": [
      "341 constructs found across all samples for study 3UTR_v_5UTR.\n"
     ]
    },
    {
     "data": {
      "text/html": [
       "<div>\n",
       "<style scoped>\n",
       "    .dataframe tbody tr th:only-of-type {\n",
       "        vertical-align: middle;\n",
       "    }\n",
       "\n",
       "    .dataframe tbody tr th {\n",
       "        vertical-align: top;\n",
       "    }\n",
       "\n",
       "    .dataframe thead th {\n",
       "        text-align: right;\n",
       "    }\n",
       "</style>\n",
       "<table border=\"1\" class=\"dataframe\">\n",
       "  <thead>\n",
       "    <tr style=\"text-align: right;\">\n",
       "      <th></th>\n",
       "      <th>samp</th>\n",
       "      <th>construct</th>\n",
       "      <th>sequence</th>\n",
       "      <th>structure</th>\n",
       "      <th>data_type</th>\n",
       "      <th>num_reads</th>\n",
       "      <th>num_aligned</th>\n",
       "      <th>num_of_mutations</th>\n",
       "      <th>mut_bases</th>\n",
       "      <th>info_bases</th>\n",
       "      <th>...</th>\n",
       "      <th>skips_short_read</th>\n",
       "      <th>skips_too_many_muts</th>\n",
       "      <th>mod_bases_A</th>\n",
       "      <th>mod_bases_C</th>\n",
       "      <th>mod_bases_G</th>\n",
       "      <th>mod_bases_T</th>\n",
       "      <th>cluster</th>\n",
       "      <th>mut_rates</th>\n",
       "      <th>worst_cov_bases</th>\n",
       "      <th>min_cov_bases</th>\n",
       "    </tr>\n",
       "  </thead>\n",
       "  <tbody>\n",
       "    <tr>\n",
       "      <th>0</th>\n",
       "      <td>470</td>\n",
       "      <td>3114-O-flank_1=hp7-DB</td>\n",
       "      <td>TTAAACCGGCCAACATACCGCATATGAGGATCACCCATATGCTCGC...</td>\n",
       "      <td>......(((........)))((((((.((....))))))))...((...</td>\n",
       "      <td>DMS</td>\n",
       "      <td>2028</td>\n",
       "      <td>2017</td>\n",
       "      <td>[466, 590, 423, 196, 82, 20, 5, 11, 5, 2, 0, 0...</td>\n",
       "      <td>[0.0, 0.0, 0.0, 0.0, 0.0, 0.0, 0.0, 0.0, 1.0, ...</td>\n",
       "      <td>[1806.0, 1936.0, 1948.0, 2000.0, 2008.0, 2010....</td>\n",
       "      <td>...</td>\n",
       "      <td>0</td>\n",
       "      <td>8</td>\n",
       "      <td>[0.0, 0.0, 0.0, 0.0, 0.0, 0.0, 0.0, 0.0, 1.0, ...</td>\n",
       "      <td>[0.0, 0.0, 0.0, 0.0, 0.0, 0.0, 0.0, 0.0, 0.0, ...</td>\n",
       "      <td>[0.0, 0.0, 0.0, 0.0, 0.0, 0.0, 0.0, 0.0, 0.0, ...</td>\n",
       "      <td>[0.0, 0.0, 0.0, 0.0, 0.0, 0.0, 0.0, 0.0, 0.0, ...</td>\n",
       "      <td>0</td>\n",
       "      <td>[0.0, 0.0, 0.0, 0.0, 0.0, 0.0, 0.0, 0.0, 0.000...</td>\n",
       "      <td>1792.0</td>\n",
       "      <td>1000</td>\n",
       "    </tr>\n",
       "    <tr>\n",
       "      <th>2</th>\n",
       "      <td>470</td>\n",
       "      <td>3091-CC-flank_1=hp5-DB</td>\n",
       "      <td>TTAAACCGGCCAACATACCGCATATGAGGATCACCCATATGCTCGC...</td>\n",
       "      <td>......(((........)))((((((.((....))))))))...((...</td>\n",
       "      <td>DMS</td>\n",
       "      <td>2800</td>\n",
       "      <td>2797</td>\n",
       "      <td>[722, 818, 574, 254, 86, 30, 8, 7, 2, 3, 0, 0,...</td>\n",
       "      <td>[0.0, 0.0, 0.0, 0.0, 0.0, 0.0, 0.0, 1.0, 0.0, ...</td>\n",
       "      <td>[2545.0, 2686.0, 2700.0, 2784.0, 2792.0, 2793....</td>\n",
       "      <td>...</td>\n",
       "      <td>0</td>\n",
       "      <td>2</td>\n",
       "      <td>[0.0, 0.0, 0.0, 0.0, 0.0, 0.0, 0.0, 1.0, 0.0, ...</td>\n",
       "      <td>[0.0, 0.0, 0.0, 0.0, 0.0, 0.0, 0.0, 0.0, 0.0, ...</td>\n",
       "      <td>[0.0, 0.0, 0.0, 0.0, 0.0, 0.0, 0.0, 0.0, 0.0, ...</td>\n",
       "      <td>[0.0, 0.0, 0.0, 0.0, 0.0, 0.0, 0.0, 0.0, 0.0, ...</td>\n",
       "      <td>0</td>\n",
       "      <td>[0.0, 0.0, 0.0, 0.0, 0.0, 0.0, 0.0, 0.00035790...</td>\n",
       "      <td>2361.0</td>\n",
       "      <td>1000</td>\n",
       "    </tr>\n",
       "    <tr>\n",
       "      <th>3</th>\n",
       "      <td>470</td>\n",
       "      <td>3124-O-flank_1=hp7-DB</td>\n",
       "      <td>TTAAACCGGCCAACATACCGCATATGAGGATCACCCATATGCTCCG...</td>\n",
       "      <td>......(((........)))((((((.((....))))))))........</td>\n",
       "      <td>DMS</td>\n",
       "      <td>2790</td>\n",
       "      <td>2700</td>\n",
       "      <td>[587, 670, 566, 341, 143, 56, 18, 7, 3, 0, 0, ...</td>\n",
       "      <td>[0.0, 0.0, 0.0, 0.0, 0.0, 0.0, 1.0, 0.0, 0.0, ...</td>\n",
       "      <td>[2388.0, 2530.0, 2550.0, 2596.0, 2605.0, 2607....</td>\n",
       "      <td>...</td>\n",
       "      <td>0</td>\n",
       "      <td>0</td>\n",
       "      <td>[0.0, 0.0, 0.0, 0.0, 0.0, 0.0, 0.0, 0.0, 0.0, ...</td>\n",
       "      <td>[0.0, 0.0, 0.0, 0.0, 0.0, 0.0, 0.0, 0.0, 0.0, ...</td>\n",
       "      <td>[0.0, 0.0, 0.0, 0.0, 0.0, 0.0, 0.0, 0.0, 0.0, ...</td>\n",
       "      <td>[0.0, 0.0, 0.0, 0.0, 0.0, 0.0, 1.0, 0.0, 0.0, ...</td>\n",
       "      <td>0</td>\n",
       "      <td>[0.0, 0.0, 0.0, 0.0, 0.0, 0.0, 0.0003834355828...</td>\n",
       "      <td>2328.0</td>\n",
       "      <td>1000</td>\n",
       "    </tr>\n",
       "    <tr>\n",
       "      <th>4</th>\n",
       "      <td>470</td>\n",
       "      <td>3546-O-flank_1=bi4-rre-DB</td>\n",
       "      <td>TTAAACCGGCCAACATACCGCATATGAGGATCACCCATATGCTCCG...</td>\n",
       "      <td>......(((........)))((((((.((....))))))))...((...</td>\n",
       "      <td>DMS</td>\n",
       "      <td>1471</td>\n",
       "      <td>1468</td>\n",
       "      <td>[307, 423, 324, 182, 84, 22, 6, 5, 3, 0, 0, 0,...</td>\n",
       "      <td>[0.0, 0.0, 0.0, 0.0, 0.0, 0.0, 0.0, 0.0, 0.0, ...</td>\n",
       "      <td>[1342.0, 1414.0, 1424.0, 1455.0, 1460.0, 1461....</td>\n",
       "      <td>...</td>\n",
       "      <td>0</td>\n",
       "      <td>1</td>\n",
       "      <td>[0.0, 0.0, 0.0, 0.0, 0.0, 0.0, 0.0, 0.0, 0.0, ...</td>\n",
       "      <td>[0.0, 0.0, 0.0, 0.0, 0.0, 0.0, 0.0, 0.0, 0.0, ...</td>\n",
       "      <td>[0.0, 0.0, 0.0, 0.0, 0.0, 0.0, 0.0, 0.0, 0.0, ...</td>\n",
       "      <td>[0.0, 0.0, 0.0, 0.0, 0.0, 0.0, 0.0, 0.0, 0.0, ...</td>\n",
       "      <td>0</td>\n",
       "      <td>[0.0, 0.0, 0.0, 0.0, 0.0, 0.0, 0.0, 0.0, 0.0, ...</td>\n",
       "      <td>1327.0</td>\n",
       "      <td>1000</td>\n",
       "    </tr>\n",
       "    <tr>\n",
       "      <th>7</th>\n",
       "      <td>470</td>\n",
       "      <td>3136-O-flank_1=hp8-DB</td>\n",
       "      <td>TTAAACCGGCCAACATACCGCATATGAGGATCACCCATATGCTCCA...</td>\n",
       "      <td>............((((.(((((((((.((....))))))))).......</td>\n",
       "      <td>DMS</td>\n",
       "      <td>2330</td>\n",
       "      <td>2329</td>\n",
       "      <td>[530, 639, 502, 275, 126, 26, 6, 2, 1, 0, 0, 0...</td>\n",
       "      <td>[0.0, 0.0, 0.0, 0.0, 0.0, 0.0, 0.0, 0.0, 0.0, ...</td>\n",
       "      <td>[2126.0, 2254.0, 2270.0, 2309.0, 2314.0, 2316....</td>\n",
       "      <td>...</td>\n",
       "      <td>0</td>\n",
       "      <td>0</td>\n",
       "      <td>[0.0, 0.0, 0.0, 0.0, 0.0, 0.0, 0.0, 0.0, 0.0, ...</td>\n",
       "      <td>[0.0, 0.0, 0.0, 0.0, 0.0, 0.0, 0.0, 0.0, 0.0, ...</td>\n",
       "      <td>[0.0, 0.0, 0.0, 0.0, 0.0, 0.0, 0.0, 0.0, 0.0, ...</td>\n",
       "      <td>[0.0, 0.0, 0.0, 0.0, 0.0, 0.0, 0.0, 0.0, 0.0, ...</td>\n",
       "      <td>0</td>\n",
       "      <td>[0.0, 0.0, 0.0, 0.0, 0.0, 0.0, 0.0, 0.0, 0.0, ...</td>\n",
       "      <td>2115.0</td>\n",
       "      <td>1000</td>\n",
       "    </tr>\n",
       "  </tbody>\n",
       "</table>\n",
       "<p>5 rows × 90 columns</p>\n",
       "</div>"
      ],
      "text/plain": [
       "   samp                  construct  \\\n",
       "0   470      3114-O-flank_1=hp7-DB   \n",
       "2   470     3091-CC-flank_1=hp5-DB   \n",
       "3   470      3124-O-flank_1=hp7-DB   \n",
       "4   470  3546-O-flank_1=bi4-rre-DB   \n",
       "7   470      3136-O-flank_1=hp8-DB   \n",
       "\n",
       "                                            sequence  \\\n",
       "0  TTAAACCGGCCAACATACCGCATATGAGGATCACCCATATGCTCGC...   \n",
       "2  TTAAACCGGCCAACATACCGCATATGAGGATCACCCATATGCTCGC...   \n",
       "3  TTAAACCGGCCAACATACCGCATATGAGGATCACCCATATGCTCCG...   \n",
       "4  TTAAACCGGCCAACATACCGCATATGAGGATCACCCATATGCTCCG...   \n",
       "7  TTAAACCGGCCAACATACCGCATATGAGGATCACCCATATGCTCCA...   \n",
       "\n",
       "                                           structure data_type  num_reads  \\\n",
       "0  ......(((........)))((((((.((....))))))))...((...       DMS       2028   \n",
       "2  ......(((........)))((((((.((....))))))))...((...       DMS       2800   \n",
       "3  ......(((........)))((((((.((....))))))))........       DMS       2790   \n",
       "4  ......(((........)))((((((.((....))))))))...((...       DMS       1471   \n",
       "7  ............((((.(((((((((.((....))))))))).......       DMS       2330   \n",
       "\n",
       "   num_aligned                                   num_of_mutations  \\\n",
       "0         2017  [466, 590, 423, 196, 82, 20, 5, 11, 5, 2, 0, 0...   \n",
       "2         2797  [722, 818, 574, 254, 86, 30, 8, 7, 2, 3, 0, 0,...   \n",
       "3         2700  [587, 670, 566, 341, 143, 56, 18, 7, 3, 0, 0, ...   \n",
       "4         1468  [307, 423, 324, 182, 84, 22, 6, 5, 3, 0, 0, 0,...   \n",
       "7         2329  [530, 639, 502, 275, 126, 26, 6, 2, 1, 0, 0, 0...   \n",
       "\n",
       "                                           mut_bases  \\\n",
       "0  [0.0, 0.0, 0.0, 0.0, 0.0, 0.0, 0.0, 0.0, 1.0, ...   \n",
       "2  [0.0, 0.0, 0.0, 0.0, 0.0, 0.0, 0.0, 1.0, 0.0, ...   \n",
       "3  [0.0, 0.0, 0.0, 0.0, 0.0, 0.0, 1.0, 0.0, 0.0, ...   \n",
       "4  [0.0, 0.0, 0.0, 0.0, 0.0, 0.0, 0.0, 0.0, 0.0, ...   \n",
       "7  [0.0, 0.0, 0.0, 0.0, 0.0, 0.0, 0.0, 0.0, 0.0, ...   \n",
       "\n",
       "                                          info_bases  ... skips_short_read  \\\n",
       "0  [1806.0, 1936.0, 1948.0, 2000.0, 2008.0, 2010....  ...                0   \n",
       "2  [2545.0, 2686.0, 2700.0, 2784.0, 2792.0, 2793....  ...                0   \n",
       "3  [2388.0, 2530.0, 2550.0, 2596.0, 2605.0, 2607....  ...                0   \n",
       "4  [1342.0, 1414.0, 1424.0, 1455.0, 1460.0, 1461....  ...                0   \n",
       "7  [2126.0, 2254.0, 2270.0, 2309.0, 2314.0, 2316....  ...                0   \n",
       "\n",
       "  skips_too_many_muts                                        mod_bases_A  \\\n",
       "0                   8  [0.0, 0.0, 0.0, 0.0, 0.0, 0.0, 0.0, 0.0, 1.0, ...   \n",
       "2                   2  [0.0, 0.0, 0.0, 0.0, 0.0, 0.0, 0.0, 1.0, 0.0, ...   \n",
       "3                   0  [0.0, 0.0, 0.0, 0.0, 0.0, 0.0, 0.0, 0.0, 0.0, ...   \n",
       "4                   1  [0.0, 0.0, 0.0, 0.0, 0.0, 0.0, 0.0, 0.0, 0.0, ...   \n",
       "7                   0  [0.0, 0.0, 0.0, 0.0, 0.0, 0.0, 0.0, 0.0, 0.0, ...   \n",
       "\n",
       "                                         mod_bases_C  \\\n",
       "0  [0.0, 0.0, 0.0, 0.0, 0.0, 0.0, 0.0, 0.0, 0.0, ...   \n",
       "2  [0.0, 0.0, 0.0, 0.0, 0.0, 0.0, 0.0, 0.0, 0.0, ...   \n",
       "3  [0.0, 0.0, 0.0, 0.0, 0.0, 0.0, 0.0, 0.0, 0.0, ...   \n",
       "4  [0.0, 0.0, 0.0, 0.0, 0.0, 0.0, 0.0, 0.0, 0.0, ...   \n",
       "7  [0.0, 0.0, 0.0, 0.0, 0.0, 0.0, 0.0, 0.0, 0.0, ...   \n",
       "\n",
       "                                         mod_bases_G  \\\n",
       "0  [0.0, 0.0, 0.0, 0.0, 0.0, 0.0, 0.0, 0.0, 0.0, ...   \n",
       "2  [0.0, 0.0, 0.0, 0.0, 0.0, 0.0, 0.0, 0.0, 0.0, ...   \n",
       "3  [0.0, 0.0, 0.0, 0.0, 0.0, 0.0, 0.0, 0.0, 0.0, ...   \n",
       "4  [0.0, 0.0, 0.0, 0.0, 0.0, 0.0, 0.0, 0.0, 0.0, ...   \n",
       "7  [0.0, 0.0, 0.0, 0.0, 0.0, 0.0, 0.0, 0.0, 0.0, ...   \n",
       "\n",
       "                                         mod_bases_T cluster  \\\n",
       "0  [0.0, 0.0, 0.0, 0.0, 0.0, 0.0, 0.0, 0.0, 0.0, ...       0   \n",
       "2  [0.0, 0.0, 0.0, 0.0, 0.0, 0.0, 0.0, 0.0, 0.0, ...       0   \n",
       "3  [0.0, 0.0, 0.0, 0.0, 0.0, 0.0, 1.0, 0.0, 0.0, ...       0   \n",
       "4  [0.0, 0.0, 0.0, 0.0, 0.0, 0.0, 0.0, 0.0, 0.0, ...       0   \n",
       "7  [0.0, 0.0, 0.0, 0.0, 0.0, 0.0, 0.0, 0.0, 0.0, ...       0   \n",
       "\n",
       "                                           mut_rates worst_cov_bases  \\\n",
       "0  [0.0, 0.0, 0.0, 0.0, 0.0, 0.0, 0.0, 0.0, 0.000...          1792.0   \n",
       "2  [0.0, 0.0, 0.0, 0.0, 0.0, 0.0, 0.0, 0.00035790...          2361.0   \n",
       "3  [0.0, 0.0, 0.0, 0.0, 0.0, 0.0, 0.0003834355828...          2328.0   \n",
       "4  [0.0, 0.0, 0.0, 0.0, 0.0, 0.0, 0.0, 0.0, 0.0, ...          1327.0   \n",
       "7  [0.0, 0.0, 0.0, 0.0, 0.0, 0.0, 0.0, 0.0, 0.0, ...          2115.0   \n",
       "\n",
       "  min_cov_bases  \n",
       "0          1000  \n",
       "2          1000  \n",
       "3          1000  \n",
       "4          1000  \n",
       "7          1000  \n",
       "\n",
       "[5 rows x 90 columns]"
      ]
     },
     "execution_count": 15,
     "metadata": {},
     "output_type": "execute_result"
    }
   ],
   "source": [
    "import pandas as pd\n",
    "import matplotlib.pyplot as plt\n",
    "import matplotlib as mpl\n",
    "from matplotlib.colors import LogNorm\n",
    "from os.path import exists, dirname\n",
    "import os, sys\n",
    "import numpy as np\n",
    "import seaborn as sns\n",
    "import json\n",
    "import yaml\n",
    "import pickle\n",
    "\n",
    "path = '/Users/ymdt/src/dreem_nap/'\n",
    "sys.path.append(path)\n",
    "from dreem_nap.manipulator import Manipulator\n",
    "from dreem_nap.study import Study, util\n",
    "\n",
    "# Config\n",
    "path_to_data= '/Users/ymdt/src/data/Lauren'\n",
    "path_to_studies= '/Users/ymdt/src/data/Lauren/studies.csv'\n",
    "min_cov_bases= 1000\n",
    "mpl.rcParams['figure.dpi'] = 100 # the highest the resolution, the slowest the plotting\n",
    "mpl.use('agg')\n",
    "\n",
    "studies = Study.load_studies(path_to_studies)\n",
    "study = Study.from_dict(studies['3UTR_v_5UTR'].__dict__)\n",
    "study.load_df_from_local_files(path_to_data= path_to_data, min_cov_bases = min_cov_bases, filter_by='study')\n",
    "study.get_df().head()"
   ]
  },
  {
   "cell_type": "markdown",
   "metadata": {},
   "source": [
    "## Make plots\n",
    "Plot this study with different plots. Check out the list of plots in the plot module\n",
    "\n",
    "### Mutation histogram"
   ]
  },
  {
   "cell_type": "code",
   "execution_count": 20,
   "metadata": {},
   "outputs": [
    {
     "ename": "TypeError",
     "evalue": "Manipulator.find_sequence_index() missing 2 required positional arguments: 'construct' and 'sequence'",
     "output_type": "error",
     "traceback": [
      "\u001b[0;31m---------------------------------------------------------------------------\u001b[0m",
      "\u001b[0;31mTypeError\u001b[0m                                 Traceback (most recent call last)",
      "\u001b[1;32m/Users/ymdt/src/dreem_nap/examples/playground.ipynb Cell 4\u001b[0m in \u001b[0;36m<cell line: 11>\u001b[0;34m()\u001b[0m\n\u001b[1;32m      <a href='vscode-notebook-cell:/Users/ymdt/src/dreem_nap/examples/playground.ipynb#W3sZmlsZQ%3D%3D?line=6'>7</a>\u001b[0m \u001b[39mfrom\u001b[39;00m \u001b[39mplotly\u001b[39;00m\u001b[39m.\u001b[39;00m\u001b[39moffline\u001b[39;00m \u001b[39mimport\u001b[39;00m download_plotlyjs, init_notebook_mode, plot, iplot\n\u001b[1;32m      <a href='vscode-notebook-cell:/Users/ymdt/src/dreem_nap/examples/playground.ipynb#W3sZmlsZQ%3D%3D?line=7'>8</a>\u001b[0m \u001b[39mfrom\u001b[39;00m \u001b[39mdreem_nap\u001b[39;00m\u001b[39m.\u001b[39;00m\u001b[39mmanipulator\u001b[39;00m \u001b[39mimport\u001b[39;00m Fit, Manipulator\n\u001b[0;32m---> <a href='vscode-notebook-cell:/Users/ymdt/src/dreem_nap/examples/playground.ipynb#W3sZmlsZQ%3D%3D?line=10'>11</a>\u001b[0m study\u001b[39m.\u001b[39;49mdeltaG_per_sample(samp\u001b[39m=\u001b[39;49m\u001b[39m472\u001b[39;49m,\n\u001b[1;32m     <a href='vscode-notebook-cell:/Users/ymdt/src/dreem_nap/examples/playground.ipynb#W3sZmlsZQ%3D%3D?line=11'>12</a>\u001b[0m                     structure\u001b[39m=\u001b[39;49m\u001b[39m'\u001b[39;49m\u001b[39mstructure\u001b[39;49m\u001b[39m'\u001b[39;49m,\n\u001b[1;32m     <a href='vscode-notebook-cell:/Users/ymdt/src/dreem_nap/examples/playground.ipynb#W3sZmlsZQ%3D%3D?line=12'>13</a>\u001b[0m                     deltaG\u001b[39m=\u001b[39;49m\u001b[39m'\u001b[39;49m\u001b[39mdeltaG_min\u001b[39;49m\u001b[39m'\u001b[39;49m,\n\u001b[1;32m     <a href='vscode-notebook-cell:/Users/ymdt/src/dreem_nap/examples/playground.ipynb#W3sZmlsZQ%3D%3D?line=13'>14</a>\u001b[0m                     max_mutation\u001b[39m=\u001b[39;49m\u001b[39m0.15\u001b[39;49m,\n\u001b[1;32m     <a href='vscode-notebook-cell:/Users/ymdt/src/dreem_nap/examples/playground.ipynb#W3sZmlsZQ%3D%3D?line=14'>15</a>\u001b[0m                     models\u001b[39m=\u001b[39;49m[\u001b[39m'\u001b[39;49m\u001b[39mlambda x,a,b: a*x+b\u001b[39;49m\u001b[39m'\u001b[39;49m],\n\u001b[1;32m     <a href='vscode-notebook-cell:/Users/ymdt/src/dreem_nap/examples/playground.ipynb#W3sZmlsZQ%3D%3D?line=15'>16</a>\u001b[0m                     index\u001b[39m=\u001b[39;49m\u001b[39m'\u001b[39;49m\u001b[39mCACAGTCGAAAGACTGTG\u001b[39;49m\u001b[39m'\u001b[39;49m,\n\u001b[1;32m     <a href='vscode-notebook-cell:/Users/ymdt/src/dreem_nap/examples/playground.ipynb#W3sZmlsZQ%3D%3D?line=16'>17</a>\u001b[0m                     savefile\u001b[39m=\u001b[39;49m\u001b[39m'\u001b[39;49m\u001b[39mdeltaG_sample\u001b[39;49m\u001b[39m'\u001b[39;49m)\n",
      "File \u001b[0;32m~/src/dreem_nap/dreem_nap/study.py:150\u001b[0m, in \u001b[0;36mStudy.deltaG_per_sample\u001b[0;34m(self, **kwargs)\u001b[0m\n\u001b[1;32m    132\u001b[0m \u001b[39mdef\u001b[39;00m \u001b[39mdeltaG_per_sample\u001b[39m(\u001b[39mself\u001b[39m, \u001b[39m*\u001b[39m\u001b[39m*\u001b[39mkwargs)\u001b[39m-\u001b[39m\u001b[39m>\u001b[39mutil\u001b[39m.\u001b[39mOutputPlot:\n\u001b[1;32m    133\u001b[0m     \u001b[39m\"\"\"Plot the mutation rate of each paired-predicted base of the ROI for each construct of a sample, w.r.t the deltaG estimation.\u001b[39;00m\n\u001b[1;32m    134\u001b[0m \n\u001b[1;32m    135\u001b[0m \u001b[39m    Args:\u001b[39;00m\n\u001b[0;32m   (...)\u001b[0m\n\u001b[1;32m    148\u001b[0m \u001b[39m        OutputPlot: Figure and data of the output plot.\u001b[39;00m\n\u001b[1;32m    149\u001b[0m \u001b[39m    \"\"\"\u001b[39;00m\n\u001b[0;32m--> 150\u001b[0m     \u001b[39mreturn\u001b[39;00m plotter\u001b[39m.\u001b[39;49mdeltaG_per_sample(\u001b[39mself\u001b[39;49m\u001b[39m.\u001b[39;49m_df, \u001b[39m*\u001b[39;49m\u001b[39m*\u001b[39;49mkwargs)\n",
      "File \u001b[0;32m~/src/dreem_nap/dreem_nap/plotter.py:123\u001b[0m, in \u001b[0;36mdeltaG_per_sample\u001b[0;34m(df, samp, deltaG, structure, index, base_type, flank, sub_lib, max_mutation, models, savefile)\u001b[0m\n\u001b[1;32m    121\u001b[0m \u001b[39mfor\u001b[39;00m row \u001b[39min\u001b[39;00m df[df\u001b[39m.\u001b[39msamp\u001b[39m==\u001b[39msamp]\u001b[39m.\u001b[39mitertuples():\n\u001b[1;32m    122\u001b[0m     sub_df\u001b[39m.\u001b[39mupdate(construct \u001b[39m=\u001b[39m row\u001b[39m.\u001b[39mconstruct, cluster\u001b[39m=\u001b[39mrow\u001b[39m.\u001b[39mcluster)\n\u001b[0;32m--> 123\u001b[0m     data \u001b[39m=\u001b[39m pd\u001b[39m.\u001b[39mconcat((data,man\u001b[39m.\u001b[39;49mget_SCC(cols\u001b[39m=\u001b[39;49m[deltaG,\u001b[39m'\u001b[39;49m\u001b[39mmut_rates\u001b[39;49m\u001b[39m'\u001b[39;49m,\u001b[39m'\u001b[39;49m\u001b[39mconstruct\u001b[39;49m\u001b[39m'\u001b[39;49m],sub_df\u001b[39m=\u001b[39;49msub_df,can_be_empty\u001b[39m=\u001b[39;49m\u001b[39mTrue\u001b[39;49;00m)\u001b[39m.\u001b[39mreset_index()))\n\u001b[1;32m    125\u001b[0m hover_attr \u001b[39m=\u001b[39m [\u001b[39m'\u001b[39m\u001b[39mconstruct\u001b[39m\u001b[39m'\u001b[39m,\u001b[39m'\u001b[39m\u001b[39mindex\u001b[39m\u001b[39m'\u001b[39m,\u001b[39m'\u001b[39m\u001b[39mmut_rates\u001b[39m\u001b[39m'\u001b[39m,deltaG]\n\u001b[1;32m    126\u001b[0m tra \u001b[39m=\u001b[39m {}\n",
      "File \u001b[0;32m~/src/dreem_nap/dreem_nap/manipulator.py:287\u001b[0m, in \u001b[0;36mManipulator.get_SCC\u001b[0;34m(self, cols, sub_df, can_be_empty)\u001b[0m\n\u001b[1;32m    284\u001b[0m     df_loc \u001b[39m=\u001b[39m df_loc\u001b[39m.\u001b[39mdrop(columns\u001b[39m=\u001b[39mst)\n\u001b[1;32m    286\u001b[0m df_loc \u001b[39m=\u001b[39m df_loc\u001b[39m.\u001b[39mrename(columns\u001b[39m=\u001b[39m{\u001b[39m'\u001b[39m\u001b[39msequence\u001b[39m\u001b[39m'\u001b[39m:\u001b[39m'\u001b[39m\u001b[39mbase\u001b[39m\u001b[39m'\u001b[39m})\n\u001b[0;32m--> 287\u001b[0m index \u001b[39m=\u001b[39m \u001b[39mself\u001b[39;49m\u001b[39m.\u001b[39;49mdefine_index(df_loc,sub_df)\n\u001b[1;32m    288\u001b[0m df_loc \u001b[39m=\u001b[39m \u001b[39mself\u001b[39m\u001b[39m.\u001b[39mfilter_bases(df_loc,sub_df, index)\n\u001b[1;32m    289\u001b[0m \u001b[39mif\u001b[39;00m remove_bases_flag:\n",
      "File \u001b[0;32m~/src/dreem_nap/dreem_nap/manipulator.py:118\u001b[0m, in \u001b[0;36mManipulator.define_index\u001b[0;34m(self, df, sub_df)\u001b[0m\n\u001b[1;32m    116\u001b[0m     \u001b[39mreturn\u001b[39;00m index\n\u001b[1;32m    117\u001b[0m \u001b[39mif\u001b[39;00m \u001b[39mtype\u001b[39m(index) \u001b[39m==\u001b[39m \u001b[39mstr\u001b[39m \u001b[39mand\u001b[39;00m \u001b[39mnot\u001b[39;00m \u001b[39msum\u001b[39m([\u001b[39mint\u001b[39m(a \u001b[39mnot\u001b[39;00m \u001b[39min\u001b[39;00m [\u001b[39m'\u001b[39m\u001b[39mA\u001b[39m\u001b[39m'\u001b[39m,\u001b[39m'\u001b[39m\u001b[39mC\u001b[39m\u001b[39m'\u001b[39m,\u001b[39m'\u001b[39m\u001b[39mG\u001b[39m\u001b[39m'\u001b[39m,\u001b[39m'\u001b[39m\u001b[39mT\u001b[39m\u001b[39m'\u001b[39m]) \u001b[39mfor\u001b[39;00m a \u001b[39min\u001b[39;00m index]):\n\u001b[0;32m--> 118\u001b[0m     \u001b[39mreturn\u001b[39;00m \u001b[39mself\u001b[39;49m\u001b[39m.\u001b[39;49mfind_sequence_index(sub_df)\n\u001b[1;32m    119\u001b[0m \u001b[39mraise\u001b[39;00m \u001b[39mValueError\u001b[39;00m(\u001b[39mf\u001b[39m\u001b[39m\"\u001b[39m\u001b[39mIndex \u001b[39m\u001b[39m{\u001b[39;00mindex\u001b[39m}\u001b[39;00m\u001b[39m not recognized\u001b[39m\u001b[39m\"\u001b[39m)\n",
      "\u001b[0;31mTypeError\u001b[0m: Manipulator.find_sequence_index() missing 2 required positional arguments: 'construct' and 'sequence'"
     ]
    }
   ],
   "source": [
    "from dreem_nap.manipulator import Fit, Manipulator, SubDF, OutputPlot\n",
    "import plotly.graph_objects as go\n",
    "import plotly\n",
    "\n",
    "from plotly.subplots import make_subplots\n",
    "import plotly.graph_objects as go\n",
    "from plotly.offline import download_plotlyjs, init_notebook_mode, plot, iplot\n",
    "from dreem_nap.manipulator import Fit, Manipulator\n",
    "\n",
    " \n",
    "study.deltaG_per_sample(samp=472,\n",
    "                    structure='structure',\n",
    "                    deltaG='deltaG_min',\n",
    "                    max_mutation=0.15,\n",
    "                    models=['lambda x,a,b: a*x+b'],\n",
    "                    index='CACAGTCGAAAGACTGTG',\n",
    "                    savefile='deltaG_sample')"
   ]
  },
  {
   "cell_type": "markdown",
   "metadata": {},
   "source": [
    "### DeltaG\n",
    "DeltaG vs mutation rate for all constructs of a sample"
   ]
  },
  {
   "cell_type": "code",
   "execution_count": null,
   "metadata": {},
   "outputs": [],
   "source": [
    "salt.deltaG(samp='A6',bases_type=['A','C'], roi_range='all')  # currently bugged due to DREEM, work in progress"
   ]
  },
  {
   "cell_type": "markdown",
   "metadata": {},
   "source": [
    "### DeltaG_basewise\n",
    "Plot the mutation rate of each paired-predicted base of the ROI for each construct of a sample, w.r.t the deltaG estimation"
   ]
  },
  {
   "cell_type": "code",
   "execution_count": null,
   "metadata": {},
   "outputs": [],
   "source": [
    "salt.deltaG_basewise(samp='A6', roi_range=[94,95,96,97])"
   ]
  },
  {
   "cell_type": "markdown",
   "metadata": {},
   "source": [
    "###  Heatmap\n",
    "Here a heatmap of the minimum base coverage across all samples. Column can be any column that contains a single scalar value."
   ]
  },
  {
   "cell_type": "code",
   "execution_count": null,
   "metadata": {},
   "outputs": [],
   "source": [
    "salt.heatmap(column='min_cov_bases') "
   ]
  },
  {
   "cell_type": "markdown",
   "metadata": {},
   "source": [
    "### Mutation rate vs 1-base_pairing\n",
    "Plot a mutation rate histogram, a 1-base_pairing probability histogram, and a scatter plot fitting the mutation rate vs 1-base_pairing. "
   ]
  },
  {
   "cell_type": "code",
   "execution_count": null,
   "metadata": {},
   "outputs": [],
   "source": [
    "# currently bugged due to DREEM, work in progress\n",
    "salt.mut_rate_vs_base_non_pairing_prob(samp='A6', construct='7695') # shows the mutation rate vs base non-pairing probability"
   ]
  },
  {
   "cell_type": "markdown",
   "metadata": {},
   "source": [
    "### Base coverage\n",
    "Plot the base coverage of a specific (sample, construct)"
   ]
  },
  {
   "cell_type": "code",
   "execution_count": null,
   "metadata": {},
   "outputs": [],
   "source": [
    "salt.base_coverage(samp='A6', construct='9572')"
   ]
  },
  {
   "cell_type": "markdown",
   "metadata": {},
   "source": [
    "### Base coverage for all constructs\n",
    "Plot the base-coverage of the worst-covered base of the Region of Interest, for each construct. "
   ]
  },
  {
   "cell_type": "code",
   "execution_count": null,
   "metadata": {},
   "outputs": [],
   "source": [
    "salt.base_coverage_ROI_for_all_constructs()\n"
   ]
  },
  {
   "cell_type": "code",
   "execution_count": null,
   "metadata": {},
   "outputs": [],
   "source": [
    "salt.random_9_base_coverage()"
   ]
  },
  {
   "cell_type": "code",
   "execution_count": null,
   "metadata": {},
   "outputs": [],
   "source": [
    "random_9_base_coverage()\n",
    "sample_coverage_distribution()\n",
    "valid_construct_per_sample()\n",
    "sliding_window_r2_gini()\n",
    "study_base()\n",
    "study_sample()\n",
    "base_wise_mut_vs_prob()\n",
    "correlation_n_samples()\n"
   ]
  },
  {
   "cell_type": "code",
   "execution_count": null,
   "metadata": {},
   "outputs": [],
   "source": [
    "salt.study_base(construct='9572', structure='full',\n",
    "                roi_range=[40,63,78,94])"
   ]
  },
  {
   "cell_type": "markdown",
   "metadata": {},
   "source": [
    "### You can load every study from a file using Study.load_studies()"
   ]
  },
  {
   "cell_type": "code",
   "execution_count": null,
   "metadata": {},
   "outputs": [],
   "source": [
    "studies = Study.load_studies(cfg['path_to_studies'])\n",
    "for study in studies.values():\n",
    "    if study.name != 'all_samples':\n",
    "        study.load_df_from_local_files(path_to_data= cfg['path_to_data'], \n",
    "                                   min_cov_bases= cfg['min_cov_bases'])\n",
    "\n",
    "studies['temperature'].df.head()"
   ]
  },
  {
   "cell_type": "markdown",
   "metadata": {},
   "source": [
    "### Studies can be called from the dictionary using their name"
   ]
  },
  {
   "cell_type": "code",
   "execution_count": null,
   "metadata": {},
   "outputs": [],
   "source": [
    "studies['temperature'].mut_histogram(studies['temperature'].samples[0], '9572', 'index')"
   ]
  },
  {
   "cell_type": "code",
   "execution_count": null,
   "metadata": {},
   "outputs": [],
   "source": [
    "for study in studies.values():\n",
    "    if study.name != 'all_samples':\n",
    "        for s in study.samples:\n",
    "            for construct in study.constructs:\n",
    "                study.mut_histogram(s, construct, 'index')\n",
    "                util.save_fig(f\"data/figs/date/mutation histogram/{study.name}/{s}/{construct}.png\")\n",
    "                plt.close()\n"
   ]
  },
  {
   "cell_type": "code",
   "execution_count": null,
   "metadata": {},
   "outputs": [],
   "source": [
    "class TestStudy(Study):\n",
    "    def mut_histogram(self, samp:str, construct:str, plot_type:str, figsize=(35,7))->None:\n",
    "        \"\"\"Plot the mutation rate of a specific (sample, construct).\n",
    "\n",
    "        Args:\n",
    "        plot_type: 'index' or 'partition'. \n",
    "            - 'index' uses bases numbers as index and the original construct bases as colors.\n",
    "            - 'partition' uses original sequence bases as index and the partition of mutated bases as colors.\n",
    "        samp: sample of interest.\n",
    "        construct: construct of interest.\n",
    "        \"\"\"\n",
    "\n",
    "        df_use = self.df.set_index(['samp','construct'])\n",
    "        \n",
    "        if not plot_type in ['index','partition']:\n",
    "            raise Exception(f\"{plot_type} must be 'index' or 'partition', please check this argument\")\n",
    "\n",
    "        if plot_type == 'index':  # Plot the mutation rate for each base along the sequence\n",
    "\n",
    "            mut_per_base = pd.DataFrame({'mut_rates': df_use['mut_rates'].loc[samp, construct]\n",
    "                                        ,'base':list(df_use['sequence'].loc[samp, construct])})\\\n",
    "                                        .reset_index()\\\n",
    "                                        .set_index(['base', 'index'])\n",
    "            df_hist = pd.DataFrame()\n",
    "            df_hist.index = mut_per_base.reset_index()['index']\n",
    "\n",
    "            for base in ['A','C','G','T']:\n",
    "                df_hist[base] = pd.Series(dtype=float)\n",
    "                df_hist[base] = mut_per_base.loc[base]\n",
    "\n",
    "            #df_hist.index = mut_per_base.reset_index()['base']\n",
    "\n",
    "            ax = df_hist.plot.bar(stacked=True, color=['r','b','y','g'],  figsize=figsize)\n",
    "            plt.title(f\"sample {samp}, construct {construct}\")\n",
    "\n",
    "        if plot_type == 'partition': # Plot the partition of mutations for each base along the sequence\n",
    "            df_hist = pd.DataFrame()\n",
    "            for base in ['A','C','G','T']:\n",
    "                df_hist[f\"mod_bases_{base}\"]  = np.array(df_use[f\"mod_bases_{base}\"].loc[samp, construct][1:])/df_use['info_bases'].loc[samp, construct][1:]\n",
    "\n",
    "            df_hist.index = list(df_use['sequence'].loc[samp,construct])\n",
    "\n",
    "            ax = df_hist.plot.bar(stacked=True, color=['r','b','y','g'], figsize=figsize)\n",
    "\n",
    "        return ax\n",
    "\n",
    "\n",
    "# Load configuration\n",
    "with open('config.yml', 'r') as ymlfile:\n",
    "    cfg = yaml.safe_load(ymlfile)\n",
    "for k,v in cfg.items():\n",
    "    print(k,(30-len(k))*'_',v)\n",
    "\n",
    "mpl.rcParams['figure.dpi'] = cfg['mpl_rcParams_figure_dpi'] # the highest the resolution, the slowest the plotting\n",
    "\n",
    "# Create a study\n",
    "salt = TestStudy().from_dict({'name': 'salt',\n",
    "                         'description': 'Change the Na concentration', \n",
    "                         'samples': ['A6', 'B6', 'C6', 'D6', 'E6'], \n",
    "                         'title': 'Na quantity [M]', \n",
    "                         'conditions': [0.15, 0.3, 0.6, 1.0, 1.2]})\n",
    "\n",
    "# Load data\n",
    "salt.load_df_from_local_files(path_to_data= cfg['path_to_data'], \n",
    "                              min_cov_bases= cfg['min_cov_bases'])\n",
    "\n",
    "# Show the dataframe\n",
    "salt.df.head()"
   ]
  },
  {
   "cell_type": "code",
   "execution_count": null,
   "metadata": {},
   "outputs": [],
   "source": [
    "import pickle\n",
    "from os import listdir\n",
    "\n",
    "listdir('../data/DEMULTIPLEXED/')\n",
    "\n",
    "with open(f\"../data/DEMULTIPLEXED/A4/mh.p\",'rb') as f:\n",
    "    pick =pickle.load(f)\n",
    "    print(dir(pick['9572']))\n"
   ]
  },
  {
   "cell_type": "code",
   "execution_count": null,
   "metadata": {},
   "outputs": [],
   "source": []
  },
  {
   "cell_type": "code",
   "execution_count": null,
   "metadata": {},
   "outputs": [],
   "source": [
    "for s in salt.samples:\n",
    "    salt.mut_histogram(s, '9572', 'index')"
   ]
  },
  {
   "cell_type": "code",
   "execution_count": null,
   "metadata": {},
   "outputs": [],
   "source": [
    "import plotly.graph_objects as go\n",
    "import numpy as np\n",
    " \n",
    "# Creating the X, Y value that will\n",
    "# change the values of Z as a function\n",
    "feature_x = np.arange(0, 50, 2)\n",
    "feature_y = np.arange(0, 50, 3)\n",
    " \n",
    "# Creating 2-D grid of features\n",
    "[X, Y] = np.meshgrid(feature_x, feature_y)\n",
    " \n",
    "Z = np.cos(X / 2) + np.sin(Y / 4)\n",
    " \n",
    "# plotting the figure\n",
    "fig = go.Figure(data =\n",
    "    go.Contour(x = feature_x, y = feature_y, z = Z))\n",
    " \n",
    "fig.show()\n",
    "\n"
   ]
  },
  {
   "cell_type": "code",
   "execution_count": null,
   "metadata": {},
   "outputs": [],
   "source": [
    "import pandas as pd\n",
    "import matplotlib.pyplot as plt\n",
    "import matplotlib as mpl\n",
    "import os, sys\n",
    "import numpy as np\n",
    "from tqdm.auto import tqdm\n",
    "\n",
    "sys.path.append('/Users/ymdt/src/dreem_nap/')\n",
    "from dreem_nap import manipulator \n",
    "from dreem_nap.study import Study, util\n",
    "from dreem_nap.util import *\n",
    "from itertools import cycle\n",
    "import plotly.express as px\n",
    "from scipy.optimize import curve_fit\n",
    "from plotly.subplots import make_subplots\n",
    "import plotly.graph_objects as go\n",
    "from plotly.offline import download_plotlyjs, init_notebook_mode, plot, iplot\n",
    "from dreem_nap.manipulator import Fit\n",
    "\n",
    "# Create a study\n",
    "samples_csv = pd.read_csv('~/src/data/Jordan/samples.csv')\n",
    "\n",
    "dms = Study.from_dict({'name': 'dms',\n",
    "                         'description': 'Change the DMS concentration', \n",
    "                         'samples': list(samples_csv['sample']), \n",
    "                         'label': 'Na quantity [M]', \n",
    "                         'conditions': list(samples_csv['DMS_conc_mM'])})\n",
    "\n",
    "# Load data\n",
    "dms.load_df_from_local_files(path_to_data='/Users/ymdt/src/data/Jordan', \n",
    "                              min_cov_bases= 1000, \n",
    "                              filter_by='sample')\n",
    "\n",
    "\n",
    "    \n",
    "dms._df.head(3)\n"
   ]
  },
  {
   "cell_type": "code",
   "execution_count": null,
   "metadata": {},
   "outputs": [],
   "source": [
    "import pandas as pd\n",
    "import matplotlib.pyplot as plt\n",
    "import matplotlib as mpl\n",
    "import os, sys\n",
    "import numpy as np\n",
    "from tqdm.auto import tqdm\n",
    "\n",
    "sys.path.append('/Users/ymdt/src/dreem_nap/')\n",
    "from dreem_nap import manipulator \n",
    "from dreem_nap.study import Study, util\n",
    "from dreem_nap.util import *\n",
    "from itertools import cycle\n",
    "import plotly.express as px\n",
    "from scipy.optimize import curve_fit\n",
    "from plotly.subplots import make_subplots\n",
    "import plotly.graph_objects as go\n",
    "from plotly.offline import download_plotlyjs, init_notebook_mode, plot, iplot\n",
    "from dreem_nap.manipulator import Fit, Manipulator\n",
    "import plotly\n",
    "\n",
    "# Create a study\n",
    "samples_csv = pd.read_csv('~/src/data/Jordan/samples.csv')\n",
    "\n",
    "dms = Study.from_dict({'name': 'dms',\n",
    "                         'description': 'Change the DMS concentration', \n",
    "                         'samples': list(samples_csv['sample']), \n",
    "                         'label': 'Na quantity [M]', \n",
    "                         'conditions': list(samples_csv['DMS_conc_mM'])})\n",
    "\n",
    "# Load data\n",
    "dms.load_df_from_local_files(path_to_data='/Users/ymdt/src/data/Jordan', \n",
    "                              min_cov_bases= 1000, \n",
    "                              filter_by='sample')\n",
    "\n",
    "\n",
    "    \n",
    "dms._df.head(3)\n",
    "\n",
    "print(dms.mutation_histogram(samp='JC100',construct='410-O-flank_1=hp14',show_ci=False))"
   ]
  },
  {
   "cell_type": "code",
   "execution_count": null,
   "metadata": {},
   "outputs": [],
   "source": [
    "dms._df[dms._df.construct=='410-O-flank_1=hp14']['DMS_conc_mM']\n"
   ]
  },
  {
   "cell_type": "code",
   "execution_count": null,
   "metadata": {},
   "outputs": [],
   "source": []
  }
 ],
 "metadata": {
  "kernelspec": {
   "display_name": "Python 3.10.5 ('venv-nap': venv)",
   "language": "python",
   "name": "python3"
  },
  "language_info": {
   "codemirror_mode": {
    "name": "ipython",
    "version": 3
   },
   "file_extension": ".py",
   "mimetype": "text/x-python",
   "name": "python",
   "nbconvert_exporter": "python",
   "pygments_lexer": "ipython3",
   "version": "3.10.5"
  },
  "orig_nbformat": 4,
  "vscode": {
   "interpreter": {
    "hash": "228ea3748f49093993f7ca989c09e25264db3703291e3a4aaa931dd28b2eaabc"
   }
  }
 },
 "nbformat": 4,
 "nbformat_minor": 2
}
