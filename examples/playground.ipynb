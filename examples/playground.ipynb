{
 "cells": [
  {
   "cell_type": "markdown",
   "metadata": {},
   "source": [
    "## Get started\n",
    "### Imports"
   ]
  },
  {
   "cell_type": "code",
   "execution_count": null,
   "metadata": {},
   "outputs": [],
   "source": [
    "import pandas as pd\n",
    "import matplotlib.pyplot as plt\n",
    "import matplotlib as mpl\n",
    "from matplotlib.colors import LogNorm\n",
    "from os.path import exists, dirname\n",
    "import os, sys\n",
    "import numpy as np\n",
    "import seaborn as sns\n",
    "import json\n",
    "path = os.path.dirname((os.path.abspath('')))\n",
    "print(path)\n",
    "sys.path.append(path)\n",
    "from dreem_nap.study import Study\n",
    "import yaml"
   ]
  },
  {
   "cell_type": "markdown",
   "metadata": {},
   "source": [
    "### Configuration\n",
    "- Load config file and check what's in it\n",
    "- Configurate the Notebook"
   ]
  },
  {
   "cell_type": "code",
   "execution_count": null,
   "metadata": {},
   "outputs": [],
   "source": [
    "with open('config.yml', 'r') as ymlfile:\n",
    "    cfg = yaml.safe_load(ymlfile)\n",
    "for k,v in cfg.items():\n",
    "    print(k,(30-len(k))*'_',v)\n",
    "\n",
    "mpl.rcParams['figure.dpi'] = cfg['mpl_rcParams_figure_dpi'] # the highest the resolution, the slowest the plotting\n",
    "mpl.rcParams[\"figure.figsize\"] = cfg['mpl_rcParams_figure_figsize'] # (width, height) in inches"
   ]
  },
  {
   "cell_type": "markdown",
   "metadata": {},
   "source": [
    "### Load data\n",
    "Create and load dataframe of a single study as a demo"
   ]
  },
  {
   "cell_type": "code",
   "execution_count": null,
   "metadata": {},
   "outputs": [],
   "source": [
    "from dreem_nap.study import Study\n",
    "\n",
    "# Create a study\n",
    "salt = Study().from_dict({'name': 'salt',\n",
    "                         'description': 'Change the Na concentration', \n",
    "                         'samples': ['A6', 'B6', 'C6', 'D6', 'E6'], \n",
    "                         'title': 'Na quantity [M]', \n",
    "                         'conditions': [0.15, 0.3, 0.6, 1.0, 1.2]})\n",
    "\n",
    "# Load data\n",
    "salt.load_df_from_local_files(path_to_data= cfg['path_to_data'], \n",
    "                              min_cov_bases= cfg['min_cov_bases'])\n",
    "\n",
    "# Show the dataframe\n",
    "salt.df.head()"
   ]
  },
  {
   "cell_type": "code",
   "execution_count": 1,
   "metadata": {},
   "outputs": [
    {
     "name": "stdout",
     "output_type": "stream",
     "text": [
      "{'3UTR +/- DMS': <dreem_nap.study.Study object at 0x29a530370>, '3UTR_v_5UTR': <dreem_nap.study.Study object at 0x29ba523e0>, '5UTR +/- DMS': <dreem_nap.study.Study object at 0x29ba51ea0>, 'all': <dreem_nap.study.Study object at 0x29ba52680>}\n"
     ]
    }
   ],
   "source": [
    "#! usr/bin/env python3\n",
    "\n",
    "import pandas as pd\n",
    "import matplotlib.pyplot as plt\n",
    "import matplotlib as mpl\n",
    "from matplotlib.colors import LogNorm\n",
    "from os.path import exists, dirname\n",
    "import os, sys\n",
    "import numpy as np\n",
    "import seaborn as sns\n",
    "import json\n",
    "\n",
    "path = '/Users/ymdt/src/dreem_nap/'\n",
    "\n",
    "sys.path.append(path)\n",
    "from dreem_nap.manipulator import Manipulator\n",
    "\n",
    "from dreem_nap.study import Study, util\n",
    "import yaml\n",
    "import pickle\n",
    "\n",
    "#mpl.use('agg')\n",
    "\n",
    "\n",
    "with open(path+'config.yml', 'r') as ymlfile:\n",
    "    cfg = yaml.safe_load(ymlfile)\n",
    "\n",
    "mpl.rcParams['figure.dpi'] = cfg['mpl_rcParams_figure_dpi'] # the highest the resolution, the slowest the plotting\n",
    "\n",
    "####\n",
    "# SET HYPER PARAMETERS HERE\n",
    "####\n",
    "\n",
    "studies = Study.load_studies(cfg['path_to_studies'])\n",
    "study = Study().from_dict(studies['3UTR +/- DMS'].__dict__)\n",
    "study.load_df_from_local_files(path_to_data= cfg['path_to_data'], min_cov_bases = cfg['min_cov_bases'], filter_by='sample')\n",
    "\n",
    "#with open(path+'data/temperature_df.p','rb') as f:\n",
    "##    study._df = pickle.load(f)\n",
    " #   f.close()\n",
    "\n",
    "study.constructs = study._df['construct'].unique()\n",
    "\n",
    "samp, construct = 'D7','1988'\n",
    "\n",
    "study._df['cluster'] = 0\n",
    "\n",
    "# base_type = ['A','C','G','T']\n",
    "\n",
    "# base_index = 'roi', 'all', [93,95,96]\n",
    "# base_paired = True, False or None (=both) # default is None \n",
    "# figsize = (25, 7) # custom by plot type\n",
    "\n",
    "# structure = \"structure_ROI\"\n",
    "\n",
    "# deltaG = \"deltaG_ens_DMS\"\n",
    "# cluster = 0, 1, 2\n",
    "\n",
    "print(studies)\n"
   ]
  },
  {
   "cell_type": "code",
   "execution_count": null,
   "metadata": {},
   "outputs": [],
   "source": [
    "get_col_across_constructs"
   ]
  },
  {
   "cell_type": "code",
   "execution_count": null,
   "metadata": {},
   "outputs": [],
   "source": [
    "df = study.get_df()\n",
    "for s in df.samp.unique():\n",
    "    for c in df.construct.unique():\n",
    "        study.plot.mut_histogram(samp=s, construct=c, plot_type='index', index = list(range(19,42)), figsize=(25, 7), grid=True)\n",
    "        util.save_fig(f\"/Users/ymdt/src/data/figs/Lauren/date/mutation histograms/{s}_{c}_index.png\")"
   ]
  },
  {
   "cell_type": "code",
   "execution_count": null,
   "metadata": {},
   "outputs": [],
   "source": [
    "study.mani.get_SCC(samp=samp, construct=construct, cols=['mut_rates'], base_type=base_type, index=index, sub_lib=['PP7 canonical bp variants','G quadraplex variants'])"
   ]
  },
  {
   "cell_type": "code",
   "execution_count": null,
   "metadata": {},
   "outputs": [],
   "source": [
    "out = study.plot.mut_histogram(samp=470, construct='3114-O-flank_1=hp7-DB', plot_type='index', index = list(range(19,42)), figsize=(25, 7), grid=True)\n",
    "print(out.data.to_csv('hi_lauren.csv'))"
   ]
  },
  {
   "cell_type": "code",
   "execution_count": 21,
   "metadata": {},
   "outputs": [
    {
     "data": {
      "text/html": [
       "<div>\n",
       "<style scoped>\n",
       "    .dataframe tbody tr th:only-of-type {\n",
       "        vertical-align: middle;\n",
       "    }\n",
       "\n",
       "    .dataframe tbody tr th {\n",
       "        vertical-align: top;\n",
       "    }\n",
       "\n",
       "    .dataframe thead th {\n",
       "        text-align: right;\n",
       "    }\n",
       "</style>\n",
       "<table border=\"1\" class=\"dataframe\">\n",
       "  <thead>\n",
       "    <tr style=\"text-align: right;\">\n",
       "      <th></th>\n",
       "      <th>19</th>\n",
       "      <th>20</th>\n",
       "      <th>21</th>\n",
       "      <th>22</th>\n",
       "      <th>23</th>\n",
       "      <th>24</th>\n",
       "      <th>25</th>\n",
       "      <th>26</th>\n",
       "      <th>27</th>\n",
       "      <th>28</th>\n",
       "      <th>...</th>\n",
       "      <th>32</th>\n",
       "      <th>33</th>\n",
       "      <th>34</th>\n",
       "      <th>35</th>\n",
       "      <th>36</th>\n",
       "      <th>37</th>\n",
       "      <th>38</th>\n",
       "      <th>39</th>\n",
       "      <th>40</th>\n",
       "      <th>41</th>\n",
       "    </tr>\n",
       "  </thead>\n",
       "  <tbody>\n",
       "    <tr>\n",
       "      <th>3114-O-flank_1=hp7-DB</th>\n",
       "      <td>0.003974</td>\n",
       "      <td>0.005961</td>\n",
       "      <td>0.011426</td>\n",
       "      <td>0.001490</td>\n",
       "      <td>0.008942</td>\n",
       "      <td>0.000497</td>\n",
       "      <td>0.000497</td>\n",
       "      <td>0.050174</td>\n",
       "      <td>0.006955</td>\n",
       "      <td>0.002484</td>\n",
       "      <td>...</td>\n",
       "      <td>0.070045</td>\n",
       "      <td>0.018381</td>\n",
       "      <td>0.011426</td>\n",
       "      <td>0.006458</td>\n",
       "      <td>0.008445</td>\n",
       "      <td>0.000497</td>\n",
       "      <td>0.008445</td>\n",
       "      <td>0.000000</td>\n",
       "      <td>0.001987</td>\n",
       "      <td>0.008445</td>\n",
       "    </tr>\n",
       "    <tr>\n",
       "      <th>3482-O-flank_1=lp11-DB</th>\n",
       "      <td>0.003414</td>\n",
       "      <td>0.007853</td>\n",
       "      <td>0.017071</td>\n",
       "      <td>0.001024</td>\n",
       "      <td>0.027313</td>\n",
       "      <td>0.001707</td>\n",
       "      <td>0.003756</td>\n",
       "      <td>0.050529</td>\n",
       "      <td>0.003073</td>\n",
       "      <td>0.001366</td>\n",
       "      <td>...</td>\n",
       "      <td>0.063844</td>\n",
       "      <td>0.032093</td>\n",
       "      <td>0.014681</td>\n",
       "      <td>0.017412</td>\n",
       "      <td>0.020143</td>\n",
       "      <td>0.000683</td>\n",
       "      <td>0.016046</td>\n",
       "      <td>0.001024</td>\n",
       "      <td>0.009218</td>\n",
       "      <td>0.016729</td>\n",
       "    </tr>\n",
       "    <tr>\n",
       "      <th>3091-CC-flank_1=hp5-DB</th>\n",
       "      <td>0.002505</td>\n",
       "      <td>0.005369</td>\n",
       "      <td>0.013958</td>\n",
       "      <td>0.000716</td>\n",
       "      <td>0.018611</td>\n",
       "      <td>0.001790</td>\n",
       "      <td>0.002505</td>\n",
       "      <td>0.037938</td>\n",
       "      <td>0.007874</td>\n",
       "      <td>0.005369</td>\n",
       "      <td>...</td>\n",
       "      <td>0.065116</td>\n",
       "      <td>0.033274</td>\n",
       "      <td>0.021467</td>\n",
       "      <td>0.013953</td>\n",
       "      <td>0.011449</td>\n",
       "      <td>0.000000</td>\n",
       "      <td>0.011807</td>\n",
       "      <td>0.000358</td>\n",
       "      <td>0.002862</td>\n",
       "      <td>0.008587</td>\n",
       "    </tr>\n",
       "    <tr>\n",
       "      <th>3124-O-flank_1=hp7-DB</th>\n",
       "      <td>0.005364</td>\n",
       "      <td>0.011494</td>\n",
       "      <td>0.013022</td>\n",
       "      <td>0.000766</td>\n",
       "      <td>0.016469</td>\n",
       "      <td>0.000766</td>\n",
       "      <td>0.005360</td>\n",
       "      <td>0.043645</td>\n",
       "      <td>0.004211</td>\n",
       "      <td>0.006508</td>\n",
       "      <td>...</td>\n",
       "      <td>0.065467</td>\n",
       "      <td>0.027565</td>\n",
       "      <td>0.005360</td>\n",
       "      <td>0.008037</td>\n",
       "      <td>0.015691</td>\n",
       "      <td>0.002679</td>\n",
       "      <td>0.018752</td>\n",
       "      <td>0.000000</td>\n",
       "      <td>0.000765</td>\n",
       "      <td>0.008416</td>\n",
       "    </tr>\n",
       "    <tr>\n",
       "      <th>3546-O-flank_1=bi4-rre-DB</th>\n",
       "      <td>0.002732</td>\n",
       "      <td>0.008197</td>\n",
       "      <td>0.018443</td>\n",
       "      <td>0.000683</td>\n",
       "      <td>0.011612</td>\n",
       "      <td>0.000000</td>\n",
       "      <td>0.002732</td>\n",
       "      <td>0.061433</td>\n",
       "      <td>0.002730</td>\n",
       "      <td>0.003413</td>\n",
       "      <td>...</td>\n",
       "      <td>0.064846</td>\n",
       "      <td>0.023891</td>\n",
       "      <td>0.011604</td>\n",
       "      <td>0.010922</td>\n",
       "      <td>0.018430</td>\n",
       "      <td>0.000682</td>\n",
       "      <td>0.014325</td>\n",
       "      <td>0.000000</td>\n",
       "      <td>0.000000</td>\n",
       "      <td>0.007503</td>\n",
       "    </tr>\n",
       "    <tr>\n",
       "      <th>...</th>\n",
       "      <td>...</td>\n",
       "      <td>...</td>\n",
       "      <td>...</td>\n",
       "      <td>...</td>\n",
       "      <td>...</td>\n",
       "      <td>...</td>\n",
       "      <td>...</td>\n",
       "      <td>...</td>\n",
       "      <td>...</td>\n",
       "      <td>...</td>\n",
       "      <td>...</td>\n",
       "      <td>...</td>\n",
       "      <td>...</td>\n",
       "      <td>...</td>\n",
       "      <td>...</td>\n",
       "      <td>...</td>\n",
       "      <td>...</td>\n",
       "      <td>...</td>\n",
       "      <td>...</td>\n",
       "      <td>...</td>\n",
       "      <td>...</td>\n",
       "    </tr>\n",
       "    <tr>\n",
       "      <th>3318-CC-flank_1=cb10-DB</th>\n",
       "      <td>0.001178</td>\n",
       "      <td>0.010264</td>\n",
       "      <td>0.022211</td>\n",
       "      <td>0.000505</td>\n",
       "      <td>0.022544</td>\n",
       "      <td>0.001346</td>\n",
       "      <td>0.002692</td>\n",
       "      <td>0.056023</td>\n",
       "      <td>0.003365</td>\n",
       "      <td>0.002692</td>\n",
       "      <td>...</td>\n",
       "      <td>0.057023</td>\n",
       "      <td>0.019849</td>\n",
       "      <td>0.009588</td>\n",
       "      <td>0.012111</td>\n",
       "      <td>0.018839</td>\n",
       "      <td>0.000336</td>\n",
       "      <td>0.012447</td>\n",
       "      <td>0.003701</td>\n",
       "      <td>0.013457</td>\n",
       "      <td>0.021355</td>\n",
       "    </tr>\n",
       "    <tr>\n",
       "      <th>3417-O-flank_1=lp6-DB</th>\n",
       "      <td>0.003600</td>\n",
       "      <td>0.005760</td>\n",
       "      <td>0.026638</td>\n",
       "      <td>0.000000</td>\n",
       "      <td>0.014399</td>\n",
       "      <td>0.000720</td>\n",
       "      <td>0.001440</td>\n",
       "      <td>0.059755</td>\n",
       "      <td>0.041037</td>\n",
       "      <td>0.002880</td>\n",
       "      <td>...</td>\n",
       "      <td>0.061915</td>\n",
       "      <td>0.030238</td>\n",
       "      <td>0.017279</td>\n",
       "      <td>0.011519</td>\n",
       "      <td>0.007919</td>\n",
       "      <td>0.001440</td>\n",
       "      <td>0.016559</td>\n",
       "      <td>0.098632</td>\n",
       "      <td>0.000720</td>\n",
       "      <td>0.011519</td>\n",
       "    </tr>\n",
       "    <tr>\n",
       "      <th>3376-O-flank_1=lp2-DB</th>\n",
       "      <td>0.003297</td>\n",
       "      <td>0.008350</td>\n",
       "      <td>0.018457</td>\n",
       "      <td>0.000000</td>\n",
       "      <td>0.015601</td>\n",
       "      <td>0.001318</td>\n",
       "      <td>0.002637</td>\n",
       "      <td>0.041749</td>\n",
       "      <td>0.003735</td>\n",
       "      <td>0.000879</td>\n",
       "      <td>...</td>\n",
       "      <td>0.061731</td>\n",
       "      <td>0.019552</td>\n",
       "      <td>0.010105</td>\n",
       "      <td>0.013837</td>\n",
       "      <td>0.009225</td>\n",
       "      <td>0.000220</td>\n",
       "      <td>0.019767</td>\n",
       "      <td>0.000659</td>\n",
       "      <td>0.004393</td>\n",
       "      <td>0.010982</td>\n",
       "    </tr>\n",
       "    <tr>\n",
       "      <th>3352-O-flank_1=cb12-DB</th>\n",
       "      <td>0.002966</td>\n",
       "      <td>0.004745</td>\n",
       "      <td>0.007711</td>\n",
       "      <td>0.001186</td>\n",
       "      <td>0.010083</td>\n",
       "      <td>0.000000</td>\n",
       "      <td>0.001779</td>\n",
       "      <td>0.055160</td>\n",
       "      <td>0.004152</td>\n",
       "      <td>0.004745</td>\n",
       "      <td>...</td>\n",
       "      <td>0.068802</td>\n",
       "      <td>0.020154</td>\n",
       "      <td>0.008299</td>\n",
       "      <td>0.007113</td>\n",
       "      <td>0.008299</td>\n",
       "      <td>0.000000</td>\n",
       "      <td>0.009484</td>\n",
       "      <td>0.000000</td>\n",
       "      <td>0.000000</td>\n",
       "      <td>0.011263</td>\n",
       "    </tr>\n",
       "    <tr>\n",
       "      <th>3420-O-flank_1=lp6-DB</th>\n",
       "      <td>0.004111</td>\n",
       "      <td>0.011608</td>\n",
       "      <td>0.021765</td>\n",
       "      <td>0.000484</td>\n",
       "      <td>0.020314</td>\n",
       "      <td>0.000484</td>\n",
       "      <td>0.017170</td>\n",
       "      <td>0.046422</td>\n",
       "      <td>0.036500</td>\n",
       "      <td>0.004351</td>\n",
       "      <td>...</td>\n",
       "      <td>0.064298</td>\n",
       "      <td>0.039633</td>\n",
       "      <td>0.019802</td>\n",
       "      <td>0.010625</td>\n",
       "      <td>0.015938</td>\n",
       "      <td>0.000483</td>\n",
       "      <td>0.058199</td>\n",
       "      <td>0.000241</td>\n",
       "      <td>0.005311</td>\n",
       "      <td>0.009899</td>\n",
       "    </tr>\n",
       "  </tbody>\n",
       "</table>\n",
       "<p>492 rows × 23 columns</p>\n",
       "</div>"
      ],
      "text/plain": [
       "                                 19        20        21        22        23  \\\n",
       "3114-O-flank_1=hp7-DB      0.003974  0.005961  0.011426  0.001490  0.008942   \n",
       "3482-O-flank_1=lp11-DB     0.003414  0.007853  0.017071  0.001024  0.027313   \n",
       "3091-CC-flank_1=hp5-DB     0.002505  0.005369  0.013958  0.000716  0.018611   \n",
       "3124-O-flank_1=hp7-DB      0.005364  0.011494  0.013022  0.000766  0.016469   \n",
       "3546-O-flank_1=bi4-rre-DB  0.002732  0.008197  0.018443  0.000683  0.011612   \n",
       "...                             ...       ...       ...       ...       ...   \n",
       "3318-CC-flank_1=cb10-DB    0.001178  0.010264  0.022211  0.000505  0.022544   \n",
       "3417-O-flank_1=lp6-DB      0.003600  0.005760  0.026638  0.000000  0.014399   \n",
       "3376-O-flank_1=lp2-DB      0.003297  0.008350  0.018457  0.000000  0.015601   \n",
       "3352-O-flank_1=cb12-DB     0.002966  0.004745  0.007711  0.001186  0.010083   \n",
       "3420-O-flank_1=lp6-DB      0.004111  0.011608  0.021765  0.000484  0.020314   \n",
       "\n",
       "                                 24        25        26        27        28  \\\n",
       "3114-O-flank_1=hp7-DB      0.000497  0.000497  0.050174  0.006955  0.002484   \n",
       "3482-O-flank_1=lp11-DB     0.001707  0.003756  0.050529  0.003073  0.001366   \n",
       "3091-CC-flank_1=hp5-DB     0.001790  0.002505  0.037938  0.007874  0.005369   \n",
       "3124-O-flank_1=hp7-DB      0.000766  0.005360  0.043645  0.004211  0.006508   \n",
       "3546-O-flank_1=bi4-rre-DB  0.000000  0.002732  0.061433  0.002730  0.003413   \n",
       "...                             ...       ...       ...       ...       ...   \n",
       "3318-CC-flank_1=cb10-DB    0.001346  0.002692  0.056023  0.003365  0.002692   \n",
       "3417-O-flank_1=lp6-DB      0.000720  0.001440  0.059755  0.041037  0.002880   \n",
       "3376-O-flank_1=lp2-DB      0.001318  0.002637  0.041749  0.003735  0.000879   \n",
       "3352-O-flank_1=cb12-DB     0.000000  0.001779  0.055160  0.004152  0.004745   \n",
       "3420-O-flank_1=lp6-DB      0.000484  0.017170  0.046422  0.036500  0.004351   \n",
       "\n",
       "                           ...        32        33        34        35  \\\n",
       "3114-O-flank_1=hp7-DB      ...  0.070045  0.018381  0.011426  0.006458   \n",
       "3482-O-flank_1=lp11-DB     ...  0.063844  0.032093  0.014681  0.017412   \n",
       "3091-CC-flank_1=hp5-DB     ...  0.065116  0.033274  0.021467  0.013953   \n",
       "3124-O-flank_1=hp7-DB      ...  0.065467  0.027565  0.005360  0.008037   \n",
       "3546-O-flank_1=bi4-rre-DB  ...  0.064846  0.023891  0.011604  0.010922   \n",
       "...                        ...       ...       ...       ...       ...   \n",
       "3318-CC-flank_1=cb10-DB    ...  0.057023  0.019849  0.009588  0.012111   \n",
       "3417-O-flank_1=lp6-DB      ...  0.061915  0.030238  0.017279  0.011519   \n",
       "3376-O-flank_1=lp2-DB      ...  0.061731  0.019552  0.010105  0.013837   \n",
       "3352-O-flank_1=cb12-DB     ...  0.068802  0.020154  0.008299  0.007113   \n",
       "3420-O-flank_1=lp6-DB      ...  0.064298  0.039633  0.019802  0.010625   \n",
       "\n",
       "                                 36        37        38        39        40  \\\n",
       "3114-O-flank_1=hp7-DB      0.008445  0.000497  0.008445  0.000000  0.001987   \n",
       "3482-O-flank_1=lp11-DB     0.020143  0.000683  0.016046  0.001024  0.009218   \n",
       "3091-CC-flank_1=hp5-DB     0.011449  0.000000  0.011807  0.000358  0.002862   \n",
       "3124-O-flank_1=hp7-DB      0.015691  0.002679  0.018752  0.000000  0.000765   \n",
       "3546-O-flank_1=bi4-rre-DB  0.018430  0.000682  0.014325  0.000000  0.000000   \n",
       "...                             ...       ...       ...       ...       ...   \n",
       "3318-CC-flank_1=cb10-DB    0.018839  0.000336  0.012447  0.003701  0.013457   \n",
       "3417-O-flank_1=lp6-DB      0.007919  0.001440  0.016559  0.098632  0.000720   \n",
       "3376-O-flank_1=lp2-DB      0.009225  0.000220  0.019767  0.000659  0.004393   \n",
       "3352-O-flank_1=cb12-DB     0.008299  0.000000  0.009484  0.000000  0.000000   \n",
       "3420-O-flank_1=lp6-DB      0.015938  0.000483  0.058199  0.000241  0.005311   \n",
       "\n",
       "                                 41  \n",
       "3114-O-flank_1=hp7-DB      0.008445  \n",
       "3482-O-flank_1=lp11-DB     0.016729  \n",
       "3091-CC-flank_1=hp5-DB     0.008587  \n",
       "3124-O-flank_1=hp7-DB      0.008416  \n",
       "3546-O-flank_1=bi4-rre-DB  0.007503  \n",
       "...                             ...  \n",
       "3318-CC-flank_1=cb10-DB    0.021355  \n",
       "3417-O-flank_1=lp6-DB      0.011519  \n",
       "3376-O-flank_1=lp2-DB      0.010982  \n",
       "3352-O-flank_1=cb12-DB     0.011263  \n",
       "3420-O-flank_1=lp6-DB      0.009899  \n",
       "\n",
       "[492 rows x 23 columns]"
      ]
     },
     "execution_count": 21,
     "metadata": {},
     "output_type": "execute_result"
    }
   ],
   "source": [
    "stack = pd.DataFrame()\n",
    "for c in study.constructs:\n",
    "    stack = pd.concat((stack, pd.DataFrame(study.mani.get_SCC(samp=470, construct=c, cols=['mut_rates'], index=list(range(19,42))).T)))#, index=[c])))\n",
    "stack.index = study.constructs\n",
    "stack"
   ]
  },
  {
   "cell_type": "code",
   "execution_count": 19,
   "metadata": {},
   "outputs": [
    {
     "name": "stdout",
     "output_type": "stream",
     "text": [
      "532 constructs found across all samples for study 3UTR +/- DMS.\n",
      "528 constructs found across all samples for study 3UTR_v_5UTR.\n"
     ]
    },
    {
     "name": "stderr",
     "output_type": "stream",
     "text": [
      "/Users/ymdt/src/dreem_nap/dreem_nap/loader.py:83: RuntimeWarning: invalid value encountered in divide\n",
      "  df['mut_rates'] = df.apply(lambda x: np.divide(x['mut_bases'],x['info_bases']), axis=1)\n"
     ]
    },
    {
     "name": "stdout",
     "output_type": "stream",
     "text": [
      "420 constructs found across all samples for study 5UTR +/- DMS.\n"
     ]
    },
    {
     "name": "stderr",
     "output_type": "stream",
     "text": [
      "/Users/ymdt/src/dreem_nap/dreem_nap/loader.py:83: RuntimeWarning: invalid value encountered in divide\n",
      "  df['mut_rates'] = df.apply(lambda x: np.divide(x['mut_bases'],x['info_bases']), axis=1)\n",
      "/Users/ymdt/src/dreem_nap/dreem_nap/loader.py:83: RuntimeWarning: invalid value encountered in divide\n",
      "  df['mut_rates'] = df.apply(lambda x: np.divide(x['mut_bases'],x['info_bases']), axis=1)\n"
     ]
    },
    {
     "name": "stdout",
     "output_type": "stream",
     "text": [
      "393 constructs found across all samples for study all.\n",
      "374 constructs found across all samples for study 3UTR +/- DMS.\n",
      "393 constructs found across all samples for study 3UTR_v_5UTR.\n"
     ]
    },
    {
     "name": "stderr",
     "output_type": "stream",
     "text": [
      "/Users/ymdt/src/dreem_nap/dreem_nap/loader.py:83: RuntimeWarning: invalid value encountered in divide\n",
      "  df['mut_rates'] = df.apply(lambda x: np.divide(x['mut_bases'],x['info_bases']), axis=1)\n"
     ]
    },
    {
     "name": "stdout",
     "output_type": "stream",
     "text": [
      "221 constructs found across all samples for study 5UTR +/- DMS.\n"
     ]
    },
    {
     "name": "stderr",
     "output_type": "stream",
     "text": [
      "/Users/ymdt/src/dreem_nap/dreem_nap/loader.py:83: RuntimeWarning: invalid value encountered in divide\n",
      "  df['mut_rates'] = df.apply(lambda x: np.divide(x['mut_bases'],x['info_bases']), axis=1)\n",
      "/Users/ymdt/src/dreem_nap/dreem_nap/loader.py:83: RuntimeWarning: invalid value encountered in divide\n",
      "  df['mut_rates'] = df.apply(lambda x: np.divide(x['mut_bases'],x['info_bases']), axis=1)\n"
     ]
    },
    {
     "name": "stdout",
     "output_type": "stream",
     "text": [
      "179 constructs found across all samples for study all.\n",
      "109 constructs found across all samples for study 3UTR +/- DMS.\n",
      "188 constructs found across all samples for study 3UTR_v_5UTR.\n"
     ]
    },
    {
     "name": "stderr",
     "output_type": "stream",
     "text": [
      "/Users/ymdt/src/dreem_nap/dreem_nap/loader.py:83: RuntimeWarning: invalid value encountered in divide\n",
      "  df['mut_rates'] = df.apply(lambda x: np.divide(x['mut_bases'],x['info_bases']), axis=1)\n"
     ]
    },
    {
     "name": "stdout",
     "output_type": "stream",
     "text": [
      "40 constructs found across all samples for study 5UTR +/- DMS.\n"
     ]
    },
    {
     "name": "stderr",
     "output_type": "stream",
     "text": [
      "/Users/ymdt/src/dreem_nap/dreem_nap/loader.py:83: RuntimeWarning: invalid value encountered in divide\n",
      "  df['mut_rates'] = df.apply(lambda x: np.divide(x['mut_bases'],x['info_bases']), axis=1)\n",
      "/Users/ymdt/src/dreem_nap/dreem_nap/loader.py:83: RuntimeWarning: invalid value encountered in divide\n",
      "  df['mut_rates'] = df.apply(lambda x: np.divide(x['mut_bases'],x['info_bases']), axis=1)\n"
     ]
    },
    {
     "name": "stdout",
     "output_type": "stream",
     "text": [
      "18 constructs found across all samples for study all.\n",
      "25 constructs found across all samples for study 3UTR +/- DMS.\n",
      "80 constructs found across all samples for study 3UTR_v_5UTR.\n"
     ]
    },
    {
     "name": "stderr",
     "output_type": "stream",
     "text": [
      "/Users/ymdt/src/dreem_nap/dreem_nap/loader.py:83: RuntimeWarning: invalid value encountered in divide\n",
      "  df['mut_rates'] = df.apply(lambda x: np.divide(x['mut_bases'],x['info_bases']), axis=1)\n"
     ]
    },
    {
     "name": "stdout",
     "output_type": "stream",
     "text": [
      "7 constructs found across all samples for study 5UTR +/- DMS.\n"
     ]
    },
    {
     "name": "stderr",
     "output_type": "stream",
     "text": [
      "/Users/ymdt/src/dreem_nap/dreem_nap/loader.py:83: RuntimeWarning: invalid value encountered in divide\n",
      "  df['mut_rates'] = df.apply(lambda x: np.divide(x['mut_bases'],x['info_bases']), axis=1)\n",
      "/Users/ymdt/src/dreem_nap/dreem_nap/loader.py:83: RuntimeWarning: invalid value encountered in divide\n",
      "  df['mut_rates'] = df.apply(lambda x: np.divide(x['mut_bases'],x['info_bases']), axis=1)\n"
     ]
    },
    {
     "name": "stdout",
     "output_type": "stream",
     "text": [
      "No construct found across all samples for study all.\n",
      "2 constructs found across all samples for study 3UTR +/- DMS.\n",
      "30 constructs found across all samples for study 3UTR_v_5UTR.\n"
     ]
    },
    {
     "name": "stderr",
     "output_type": "stream",
     "text": [
      "/Users/ymdt/src/dreem_nap/dreem_nap/loader.py:83: RuntimeWarning: invalid value encountered in divide\n",
      "  df['mut_rates'] = df.apply(lambda x: np.divide(x['mut_bases'],x['info_bases']), axis=1)\n"
     ]
    },
    {
     "name": "stdout",
     "output_type": "stream",
     "text": [
      "2 constructs found across all samples for study 5UTR +/- DMS.\n"
     ]
    },
    {
     "name": "stderr",
     "output_type": "stream",
     "text": [
      "/Users/ymdt/src/dreem_nap/dreem_nap/loader.py:83: RuntimeWarning: invalid value encountered in divide\n",
      "  df['mut_rates'] = df.apply(lambda x: np.divide(x['mut_bases'],x['info_bases']), axis=1)\n",
      "/Users/ymdt/src/dreem_nap/dreem_nap/loader.py:83: RuntimeWarning: invalid value encountered in divide\n",
      "  df['mut_rates'] = df.apply(lambda x: np.divide(x['mut_bases'],x['info_bases']), axis=1)\n"
     ]
    },
    {
     "name": "stdout",
     "output_type": "stream",
     "text": [
      "No construct found across all samples for study all.\n",
      "No construct found across all samples for study 3UTR +/- DMS.\n",
      "15 constructs found across all samples for study 3UTR_v_5UTR.\n"
     ]
    },
    {
     "name": "stderr",
     "output_type": "stream",
     "text": [
      "/Users/ymdt/src/dreem_nap/dreem_nap/loader.py:83: RuntimeWarning: invalid value encountered in divide\n",
      "  df['mut_rates'] = df.apply(lambda x: np.divide(x['mut_bases'],x['info_bases']), axis=1)\n"
     ]
    },
    {
     "name": "stdout",
     "output_type": "stream",
     "text": [
      "1 constructs found across all samples for study 5UTR +/- DMS.\n"
     ]
    },
    {
     "name": "stderr",
     "output_type": "stream",
     "text": [
      "/Users/ymdt/src/dreem_nap/dreem_nap/loader.py:83: RuntimeWarning: invalid value encountered in divide\n",
      "  df['mut_rates'] = df.apply(lambda x: np.divide(x['mut_bases'],x['info_bases']), axis=1)\n"
     ]
    },
    {
     "name": "stdout",
     "output_type": "stream",
     "text": [
      "No construct found across all samples for study all.\n"
     ]
    },
    {
     "name": "stderr",
     "output_type": "stream",
     "text": [
      "/Users/ymdt/src/dreem_nap/dreem_nap/loader.py:83: RuntimeWarning: invalid value encountered in divide\n",
      "  df['mut_rates'] = df.apply(lambda x: np.divide(x['mut_bases'],x['info_bases']), axis=1)\n"
     ]
    }
   ],
   "source": [
    "mpl.use('agg')\n",
    "from scipy import stats\n",
    "studies = Study.load_studies(cfg['path_to_studies'])\n",
    "\n",
    "for min_base_cov in [500, 1000, 2000, 3000, 4000, 5000]:\n",
    "    for s in studies.values():\n",
    "        s.load_df_from_local_files(path_to_data= cfg['path_to_data'], min_cov_bases = min_base_cov)\n",
    "        df = s.get_df()\n",
    "        df['cluster'] = 0\n",
    "        for c in s.constructs: \n",
    "            x = np.array(s.mani.get_SCC(samp=s.samples[0], construct=c, cols=['mut_rates'], can_be_empty=True, index=list(range(19,42)))).reshape(-1)\n",
    "            y = np.array(s.mani.get_SCC(samp=s.samples[1], construct=c, cols=['mut_rates'], can_be_empty=True, index=list(range(19,42)))).reshape(-1)\n",
    "            plt.plot(x,y, '.')\n",
    "            res = stats.linregress(x, y)\n",
    "            plt.plot(x, res.slope*x + res.intercept, '-')\n",
    "            plt.title(f\"{c}       R^2 = {res.rvalue**2:.5f}\")\n",
    "            plt.xlabel(s.samples[0])\n",
    "            plt.ylabel(s.samples[1])\n",
    "            plt.legend(['data',f\"fit: y={res.slope:.5f}x+{res.intercept:.5f}\"])\n",
    "            plt.tight_layout()\n",
    "            util.save_fig(f\"/Users/ymdt/src/data/figs/Lauren/date/correlation/{min_base_cov}/{s.samples[0]}_{s.samples[1]}/{c}.png\")"
   ]
  },
  {
   "cell_type": "code",
   "execution_count": 7,
   "metadata": {},
   "outputs": [
    {
     "data": {
      "text/plain": [
       "(array([[0.00397417],\n",
       "        [0.00596125],\n",
       "        [0.01142573],\n",
       "        [0.00149031],\n",
       "        [0.00894188],\n",
       "        [0.00049677],\n",
       "        [0.00049677],\n",
       "        [0.05017387],\n",
       "        [0.00695479],\n",
       "        [0.00248385],\n",
       "        [0.10183805],\n",
       "        [0.00298063],\n",
       "        [0.09538003],\n",
       "        [0.07004471],\n",
       "        [0.01838053],\n",
       "        [0.01142573],\n",
       "        [0.00645802],\n",
       "        [0.00844511],\n",
       "        [0.00049677],\n",
       "        [0.00844511],\n",
       "        [0.        ],\n",
       "        [0.00198708],\n",
       "        [0.00844511]]),\n",
       " array([[0.00397417],\n",
       "        [0.00596125],\n",
       "        [0.01142573],\n",
       "        [0.00149031],\n",
       "        [0.00894188],\n",
       "        [0.00049677],\n",
       "        [0.00049677],\n",
       "        [0.05017387],\n",
       "        [0.00695479],\n",
       "        [0.00248385],\n",
       "        [0.10183805],\n",
       "        [0.00298063],\n",
       "        [0.09538003],\n",
       "        [0.07004471],\n",
       "        [0.01838053],\n",
       "        [0.01142573],\n",
       "        [0.00645802],\n",
       "        [0.00844511],\n",
       "        [0.00049677],\n",
       "        [0.00844511],\n",
       "        [0.        ],\n",
       "        [0.00198708],\n",
       "        [0.00844511]]))"
      ]
     },
     "execution_count": 7,
     "metadata": {},
     "output_type": "execute_result"
    }
   ],
   "source": [
    "x,y"
   ]
  },
  {
   "cell_type": "code",
   "execution_count": null,
   "metadata": {},
   "outputs": [],
   "source": [
    "\n",
    "\n",
    "\n",
    "\n",
    "def assert_structure(df, structure):\n",
    "    assert structure in df.columns, f\"Structure {structure} not found\"\n",
    "\n",
    "\n",
    "def assert_deltaG(df, deltaG):\n",
    "    assert deltaG in df.columns, f\"deltaG {deltaG} not found\"\n",
    "\n",
    "\n",
    "def define_index(df, samp, construct, cluster, index):\n",
    "    if index in ['all','full'] :\n",
    "        return df.index\n",
    "    if index == 'roi':\n",
    "        assert [roi in df.columns for roi in ['ROI_start','ROI_stop']], 'ROI_start and ROI_stop not found'\n",
    "        return list(range(int(get_series(df, samp, construct, cluster)['ROI_start']), int(get_series(df, samp, construct, cluster)['ROI_stop'])))\n",
    "    if type(index) in [list,tuple]:\n",
    "        assert [i in list(range(len(get_series(df, samp, construct, cluster)['sequence']))) for i in index], 'Index out of range'\n",
    "        return index\n",
    "    raise ValueError(f\"Index {index} not recognized\")\n",
    "\n",
    "def filter_base_paired(df_loc, base_paired):\n",
    "    # base_type = ['A','C','G','T']\n",
    "    # base_index = 'roi', 'all', [93,95,96]\n",
    "    # base_paired = True, False or None (=both) # default is None \n",
    "\n",
    "    if base_paired == True:\n",
    "        df_loc = df_loc[df_loc['paired'] == True]\n",
    "    elif base_paired == False:\n",
    "        df_loc = df_loc[df_loc['paired'] == False]\n",
    "    elif base_paired == None:\n",
    "        pass\n",
    "    return df_loc\n",
    "\n",
    "def filter_index(df_loc, index):\n",
    "    return df_loc.loc[index]\n",
    "\n",
    "def filter_base_type(df_loc, base_type):\n",
    "    df_loc = pd.concat([df_loc[df_loc['base'] == base] for base in base_type], axis=0)\n",
    "    return df_loc\n",
    "\n",
    "def filter(df_loc, base_type, index, base_paired):\n",
    "    df_loc = filter_index(df_loc, index)\n",
    "    df_loc = filter_base_paired(df_loc, base_paired)\n",
    "    df_loc = filter_base_type(df_loc, base_type)\n",
    "    return df_loc\n",
    "\n",
    "def get_df(df, samp, construct, cols, cluster=0, structure='structure', deltaG='deltaG', base_type = ['A','C','G','T'], index='all', base_paired=None):\n",
    "\n",
    "    assert_structure(df, structure)\n",
    "    assert_deltaG(df, deltaG)\n",
    "    cols = [c for c in cols if not (c.startswith('deltaG') or c.startswith('structure'))]\n",
    "    cols = cols + [structure, deltaG]\n",
    "\n",
    "    for col in cols:\n",
    "        assert col in df.columns, f\"Column {col} not found\"\n",
    "\n",
    "    df_loc = get_series(df, samp, construct, cluster)\n",
    "    for col in [c for c in cols if type(df_loc[c]) in [str]]:\n",
    "        df_loc[col] = list(df_loc[col])\n",
    "\n",
    "    df_loc = pd.DataFrame({col: df_loc[col] for col in cols})\n",
    "\n",
    "    for st in [col for col in cols if 'structure' in col]:\n",
    "        df_loc['paired'] = [{'.':False,'(':True,')':True}[x] for x in df_loc[st]]\n",
    "        df_loc = df_loc.drop(columns=st)\n",
    "    \n",
    "    df_loc = df_loc.rename(columns={'sequence':'base'})\n",
    "    \n",
    "    index = define_index(df_loc, samp, construct, cluster, index)\n",
    "    df_loc = filter(df_loc, base_type, index, base_paired)\n",
    "    return df_loc.sort_index()\n",
    "\n",
    "def get_series(df, samp, construct, cluster):\n",
    "    assert len(df_out := study.df[(study.df['construct'] == construct)&(study.df['samp'] == samp)&(study.df['cluster'] == cluster)]) <= 1, 'More than one row found'\n",
    "    assert len(df_out) >= 1, 'No row found'\n",
    "    return df_out.iloc[0]\n",
    "\n",
    "\n",
    "class OutputPlot(object):\n",
    "    def __init__(self, fig, ax, data) -> None:\n",
    "        self.fig = fig\n",
    "        self.ax = ax\n",
    "        self.data = data\n",
    "\n",
    "from dreem_nap import manipulator\n",
    "\n",
    "class TestPlotter():\n",
    "    def __init__(self):\n",
    "        self.__man = manipulator.Manipulator()\n",
    "\n",
    "    def mut_histogram(self, samp:str, construct:str, plot_type:str='index', figsize=(35,7), **kwargs)->None:\n",
    "        \"\"\"Plot the mutation rate of a specific (sample, construct).\n",
    "\n",
    "        Args:\n",
    "            samp: sample of interest.\n",
    "            construct: construct of interest.\n",
    "            plot_type: 'index' or 'partition'. \n",
    "                - 'index' uses bases numbers as index and the original construct bases as colors.\n",
    "                - 'partition' uses original sequence bases as index and the partition of mutated bases as colors.\n",
    "            figsize: figure size.\n",
    "            **kwargs: \n",
    "                - keyword arguments for base_type, index, base_paired.\n",
    "                - keyword arguments for matplotlib.pyplot\n",
    "        \n",
    "        Returns:\n",
    "            OutputPlot: output plot data:\n",
    "                - fig: figure object.\n",
    "                - ax: axis object.\n",
    "                - data: plotted data.\n",
    "        \"\"\"\n",
    "        fig = plt.figure(figsize=figsize)\n",
    "\n",
    "        df_use = self.df.set_index(['samp','construct'])\n",
    "        \n",
    "        if not plot_type in ['index','partition']:\n",
    "            raise Exception(f\"{plot_type} must be 'index' or 'partition', please check this argument\")\n",
    "\n",
    "        df_hist = pd.DataFrame()\n",
    "        self.__man\n",
    "\n",
    "        if plot_type == 'index':  # Plot the mutation rate for each base along the sequence\n",
    "\n",
    "            mut_per_base = pd.DataFrame({'mut_rates': df_use['mut_rates'].loc[samp, construct]\n",
    "                                        ,'base':list(df_use['sequence'].loc[samp, construct])})\\\n",
    "                                        .reset_index()\\\n",
    "                                        .set_index(['base', 'index'])\n",
    "            df_hist.index = mut_per_base.reset_index()['index']\n",
    "\n",
    "            for base in ['A','C','G','T']:\n",
    "                df_hist[base] = pd.Series(dtype=float)\n",
    "                df_hist[base] = mut_per_base.loc[base]\n",
    "\n",
    "            ax = df_hist.plot.bar(stacked=True, color=['r','b','y','g'],  figsize=figsize)\n",
    "            plt.title(f\"sample {samp}, construct {construct}\")\n",
    "\n",
    "        if plot_type == 'partition': # Plot the partition of mutations for each base along the sequence\n",
    "            for base in ['A','C','G','T']:\n",
    "                df_hist[f\"mod_bases_{base}\"]  = np.array(df_use[f\"mod_bases_{base}\"].loc[samp, construct][1:])/df_use['info_bases'].loc[samp, construct][1:]\n",
    "\n",
    "            df_hist.index = list(df_use['sequence'].loc[samp,construct])\n",
    "\n",
    "            ax = df_hist.plot.bar(stacked=True, color=['r','b','y','g'], figsize=figsize)\n",
    "        \n",
    "        [getattr(plt, arg)(kwargs[arg]) for arg in kwargs if hasattr(plt, arg)] \n",
    "\n",
    "        return OutputPlot(fig, ax, df_hist)\n",
    "\n",
    "\n",
    "class TestStudy(Study, TestPlotter):\n",
    "    \n",
    "\n",
    "cols = ['mut_bases','cov_bases', 'sequence', 'structure', 'deltaG']\n",
    "print(get_df(df=study.df, samp=samp, construct=construct, cluster=0, cols=cols, index='all', base_paired=None, base_type=['A','C','G','T'], deltaG='deltaG', structure='structure'))\n",
    "#df = pd.DataFrame(df_loc[cols].str.split('',1),columns=cols)\n"
   ]
  },
  {
   "cell_type": "markdown",
   "metadata": {},
   "source": [
    "## Make plots\n",
    "Plot this study with different plots. Check out the list of plots in the plot module\n",
    "\n",
    "### Mutation histogram"
   ]
  },
  {
   "cell_type": "code",
   "execution_count": null,
   "metadata": {},
   "outputs": [],
   "source": [
    "salt.mut_histogram(samp='A6', construct='7695',\\\n",
    "             plot_type='index', figsize=(28,4))"
   ]
  },
  {
   "cell_type": "markdown",
   "metadata": {},
   "source": [
    "### DeltaG\n",
    "DeltaG vs mutation rate for all constructs of a sample"
   ]
  },
  {
   "cell_type": "code",
   "execution_count": null,
   "metadata": {},
   "outputs": [],
   "source": [
    "salt.deltaG(samp='A6',bases_type=['A','C'], roi_range='all')  # currently bugged due to DREEM, work in progress"
   ]
  },
  {
   "cell_type": "markdown",
   "metadata": {},
   "source": [
    "### DeltaG_basewise\n",
    "Plot the mutation rate of each paired-predicted base of the ROI for each construct of a sample, w.r.t the deltaG estimation"
   ]
  },
  {
   "cell_type": "code",
   "execution_count": null,
   "metadata": {},
   "outputs": [],
   "source": [
    "salt.deltaG_basewise(samp='A6', roi_range=[94,95,96,97])"
   ]
  },
  {
   "cell_type": "markdown",
   "metadata": {},
   "source": [
    "###  Heatmap\n",
    "Here a heatmap of the minimum base coverage across all samples. Column can be any column that contains a single scalar value."
   ]
  },
  {
   "cell_type": "code",
   "execution_count": null,
   "metadata": {},
   "outputs": [],
   "source": [
    "salt.heatmap(column='min_cov_bases') "
   ]
  },
  {
   "cell_type": "markdown",
   "metadata": {},
   "source": [
    "### Mutation rate vs 1-base_pairing\n",
    "Plot a mutation rate histogram, a 1-base_pairing probability histogram, and a scatter plot fitting the mutation rate vs 1-base_pairing. "
   ]
  },
  {
   "cell_type": "code",
   "execution_count": null,
   "metadata": {},
   "outputs": [],
   "source": [
    "# currently bugged due to DREEM, work in progress\n",
    "salt.mut_rate_vs_base_non_pairing_prob(samp='A6', construct='7695') # shows the mutation rate vs base non-pairing probability"
   ]
  },
  {
   "cell_type": "markdown",
   "metadata": {},
   "source": [
    "### Base coverage\n",
    "Plot the base coverage of a specific (sample, construct)"
   ]
  },
  {
   "cell_type": "code",
   "execution_count": null,
   "metadata": {},
   "outputs": [],
   "source": [
    "salt.base_coverage(samp='A6', construct='9572')"
   ]
  },
  {
   "cell_type": "markdown",
   "metadata": {},
   "source": [
    "### Base coverage for all constructs\n",
    "Plot the base-coverage of the worst-covered base of the Region of Interest, for each construct. "
   ]
  },
  {
   "cell_type": "code",
   "execution_count": null,
   "metadata": {},
   "outputs": [],
   "source": [
    "salt.base_coverage_ROI_for_all_constructs()\n"
   ]
  },
  {
   "cell_type": "code",
   "execution_count": null,
   "metadata": {},
   "outputs": [],
   "source": [
    "salt.random_9_base_coverage()"
   ]
  },
  {
   "cell_type": "code",
   "execution_count": null,
   "metadata": {},
   "outputs": [],
   "source": [
    "random_9_base_coverage()\n",
    "sample_coverage_distribution()\n",
    "valid_construct_per_sample()\n",
    "sliding_window_r2_gini()\n",
    "study_base()\n",
    "study_sample()\n",
    "base_wise_mut_vs_prob()\n",
    "correlation_n_samples()\n"
   ]
  },
  {
   "cell_type": "code",
   "execution_count": null,
   "metadata": {},
   "outputs": [],
   "source": [
    "salt.study_base(construct='9572', structure='full',\n",
    "                roi_range=[40,63,78,94])"
   ]
  },
  {
   "cell_type": "markdown",
   "metadata": {},
   "source": [
    "### You can load every study from a file using Study.load_studies()"
   ]
  },
  {
   "cell_type": "code",
   "execution_count": null,
   "metadata": {},
   "outputs": [],
   "source": [
    "studies = Study.load_studies(cfg['path_to_studies'])\n",
    "for study in studies.values():\n",
    "    if study.name != 'all_samples':\n",
    "        study.load_df_from_local_files(path_to_data= cfg['path_to_data'], \n",
    "                                   min_cov_bases= cfg['min_cov_bases'])\n",
    "\n",
    "studies['temperature'].df.head()"
   ]
  },
  {
   "cell_type": "markdown",
   "metadata": {},
   "source": [
    "### Studies can be called from the dictionary using their name"
   ]
  },
  {
   "cell_type": "code",
   "execution_count": null,
   "metadata": {},
   "outputs": [],
   "source": [
    "studies['temperature'].mut_histogram(studies['temperature'].samples[0], '9572', 'index')"
   ]
  },
  {
   "cell_type": "code",
   "execution_count": null,
   "metadata": {},
   "outputs": [],
   "source": [
    "for study in studies.values():\n",
    "    if study.name != 'all_samples':\n",
    "        for s in study.samples:\n",
    "            for construct in study.constructs:\n",
    "                study.mut_histogram(s, construct, 'index')\n",
    "                util.save_fig(f\"data/figs/date/mutation histogram/{study.name}/{s}/{construct}.png\")\n",
    "                plt.close()\n"
   ]
  },
  {
   "cell_type": "code",
   "execution_count": null,
   "metadata": {},
   "outputs": [],
   "source": [
    "class TestStudy(Study):\n",
    "    def mut_histogram(self, samp:str, construct:str, plot_type:str, figsize=(35,7))->None:\n",
    "        \"\"\"Plot the mutation rate of a specific (sample, construct).\n",
    "\n",
    "        Args:\n",
    "        plot_type: 'index' or 'partition'. \n",
    "            - 'index' uses bases numbers as index and the original construct bases as colors.\n",
    "            - 'partition' uses original sequence bases as index and the partition of mutated bases as colors.\n",
    "        samp: sample of interest.\n",
    "        construct: construct of interest.\n",
    "        \"\"\"\n",
    "\n",
    "        df_use = self.df.set_index(['samp','construct'])\n",
    "        \n",
    "        if not plot_type in ['index','partition']:\n",
    "            raise Exception(f\"{plot_type} must be 'index' or 'partition', please check this argument\")\n",
    "\n",
    "        if plot_type == 'index':  # Plot the mutation rate for each base along the sequence\n",
    "\n",
    "            mut_per_base = pd.DataFrame({'mut_rates': df_use['mut_rates'].loc[samp, construct]\n",
    "                                        ,'base':list(df_use['sequence'].loc[samp, construct])})\\\n",
    "                                        .reset_index()\\\n",
    "                                        .set_index(['base', 'index'])\n",
    "            df_hist = pd.DataFrame()\n",
    "            df_hist.index = mut_per_base.reset_index()['index']\n",
    "\n",
    "            for base in ['A','C','G','T']:\n",
    "                df_hist[base] = pd.Series(dtype=float)\n",
    "                df_hist[base] = mut_per_base.loc[base]\n",
    "\n",
    "            #df_hist.index = mut_per_base.reset_index()['base']\n",
    "\n",
    "            ax = df_hist.plot.bar(stacked=True, color=['r','b','y','g'],  figsize=figsize)\n",
    "            plt.title(f\"sample {samp}, construct {construct}\")\n",
    "\n",
    "        if plot_type == 'partition': # Plot the partition of mutations for each base along the sequence\n",
    "            df_hist = pd.DataFrame()\n",
    "            for base in ['A','C','G','T']:\n",
    "                df_hist[f\"mod_bases_{base}\"]  = np.array(df_use[f\"mod_bases_{base}\"].loc[samp, construct][1:])/df_use['info_bases'].loc[samp, construct][1:]\n",
    "\n",
    "            df_hist.index = list(df_use['sequence'].loc[samp,construct])\n",
    "\n",
    "            ax = df_hist.plot.bar(stacked=True, color=['r','b','y','g'], figsize=figsize)\n",
    "\n",
    "        return ax\n",
    "\n",
    "\n",
    "# Load configuration\n",
    "with open('config.yml', 'r') as ymlfile:\n",
    "    cfg = yaml.safe_load(ymlfile)\n",
    "for k,v in cfg.items():\n",
    "    print(k,(30-len(k))*'_',v)\n",
    "\n",
    "mpl.rcParams['figure.dpi'] = cfg['mpl_rcParams_figure_dpi'] # the highest the resolution, the slowest the plotting\n",
    "\n",
    "# Create a study\n",
    "salt = TestStudy().from_dict({'name': 'salt',\n",
    "                         'description': 'Change the Na concentration', \n",
    "                         'samples': ['A6', 'B6', 'C6', 'D6', 'E6'], \n",
    "                         'title': 'Na quantity [M]', \n",
    "                         'conditions': [0.15, 0.3, 0.6, 1.0, 1.2]})\n",
    "\n",
    "# Load data\n",
    "salt.load_df_from_local_files(path_to_data= cfg['path_to_data'], \n",
    "                              min_cov_bases= cfg['min_cov_bases'])\n",
    "\n",
    "# Show the dataframe\n",
    "salt.df.head()"
   ]
  },
  {
   "cell_type": "code",
   "execution_count": null,
   "metadata": {},
   "outputs": [],
   "source": [
    "import pickle\n",
    "from os import listdir\n",
    "\n",
    "listdir('../data/DEMULTIPLEXED/')\n",
    "\n",
    "with open(f\"../data/DEMULTIPLEXED/A4/mh.p\",'rb') as f:\n",
    "    pick =pickle.load(f)\n",
    "    print(dir(pick['9572']))\n"
   ]
  },
  {
   "cell_type": "code",
   "execution_count": null,
   "metadata": {},
   "outputs": [],
   "source": []
  },
  {
   "cell_type": "code",
   "execution_count": null,
   "metadata": {},
   "outputs": [],
   "source": [
    "for s in salt.samples:\n",
    "    salt.mut_histogram(s, '9572', 'index')"
   ]
  }
 ],
 "metadata": {
  "kernelspec": {
   "display_name": "Python 3.10.5 ('venv-nap': venv)",
   "language": "python",
   "name": "python3"
  },
  "language_info": {
   "codemirror_mode": {
    "name": "ipython",
    "version": 3
   },
   "file_extension": ".py",
   "mimetype": "text/x-python",
   "name": "python",
   "nbconvert_exporter": "python",
   "pygments_lexer": "ipython3",
   "version": "3.10.5"
  },
  "orig_nbformat": 4,
  "vscode": {
   "interpreter": {
    "hash": "228ea3748f49093993f7ca989c09e25264db3703291e3a4aaa931dd28b2eaabc"
   }
  }
 },
 "nbformat": 4,
 "nbformat_minor": 2
}
