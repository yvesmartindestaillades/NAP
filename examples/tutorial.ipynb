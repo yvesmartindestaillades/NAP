{
 "cells": [
  {
   "cell_type": "code",
   "execution_count": 1,
   "metadata": {},
   "outputs": [],
   "source": [
    "import pandas as pd\n",
    "import matplotlib.pyplot as plt\n",
    "import matplotlib as mpl\n",
    "from matplotlib.colors import LogNorm\n",
    "from os.path import exists, dirname\n",
    "import os, sys\n",
    "import numpy as np\n",
    "import seaborn as sns\n",
    "import json\n",
    "from dreem_nap import database, utils\n",
    "from dreem_nap.study import Study\n",
    "import yaml"
   ]
  },
  {
   "cell_type": "markdown",
   "metadata": {},
   "source": [
    "### Configuration\n",
    "- Load config file and check what's in it\n",
    "- Configurate the Notebook"
   ]
  },
  {
   "cell_type": "code",
   "execution_count": 2,
   "metadata": {},
   "outputs": [
    {
     "name": "stdout",
     "output_type": "stream",
     "text": [
      "path __________________________ /Users/ymdt/src/dreem_nap/data/\n",
      "path_to_data __________________ /Users/ymdt/src/dreem_nap/data/DEMULTIPLEXED\n",
      "firebase_credentials_file _____ /Users/ymdt/src/dreem_nap/data/credentials_firebase.json\n",
      "path_to_studies _______________ /Users/ymdt/src/dreem_nap/data/DEMULTIPLEXED/samples.csv\n",
      "min_cov_bases _________________ 10\n",
      "mpl_rcParams_figure_dpi _______ 600\n",
      "mpl_rcParams_figure_figsize ___ [15, 7]\n"
     ]
    }
   ],
   "source": [
    "with open('../config.yml', 'r') as ymlfile:\n",
    "    cfg = yaml.safe_load(ymlfile)\n",
    "for k,v in cfg.items():\n",
    "    print(k,(30-len(k))*'_',v)\n",
    "\n",
    "mpl.rcParams['figure.dpi'] = cfg['mpl_rcParams_figure_dpi'] # the highest the resolution, the slowest the plotting\n",
    "mpl.rcParams[\"figure.figsize\"] = cfg['mpl_rcParams_figure_figsize'] # (width, height) in inches"
   ]
  },
  {
   "cell_type": "markdown",
   "metadata": {},
   "source": [
    "### Create and load dataframe of a single study as a demo"
   ]
  },
  {
   "cell_type": "code",
   "execution_count": 3,
   "metadata": {},
   "outputs": [
    {
     "name": "stdout",
     "output_type": "stream",
     "text": [
      "299 constructs found across all samples for study salt.\n"
     ]
    },
    {
     "data": {
      "text/html": [
       "<div>\n",
       "<style scoped>\n",
       "    .dataframe tbody tr th:only-of-type {\n",
       "        vertical-align: middle;\n",
       "    }\n",
       "\n",
       "    .dataframe tbody tr th {\n",
       "        vertical-align: top;\n",
       "    }\n",
       "\n",
       "    .dataframe thead th {\n",
       "        text-align: right;\n",
       "    }\n",
       "</style>\n",
       "<table border=\"1\" class=\"dataframe\">\n",
       "  <thead>\n",
       "    <tr style=\"text-align: right;\">\n",
       "      <th></th>\n",
       "      <th>samp</th>\n",
       "      <th>construct</th>\n",
       "      <th>sequence</th>\n",
       "      <th>structure</th>\n",
       "      <th>data_type</th>\n",
       "      <th>num_reads</th>\n",
       "      <th>num_aligned</th>\n",
       "      <th>num_of_mutations</th>\n",
       "      <th>mut_bases</th>\n",
       "      <th>info_bases</th>\n",
       "      <th>...</th>\n",
       "      <th>start</th>\n",
       "      <th>end</th>\n",
       "      <th>skips_low_mapq</th>\n",
       "      <th>skips_short_read</th>\n",
       "      <th>skips_too_many_muts</th>\n",
       "      <th>mod_bases_A</th>\n",
       "      <th>mod_bases_C</th>\n",
       "      <th>mod_bases_G</th>\n",
       "      <th>mod_bases_T</th>\n",
       "      <th>min_cov_bases</th>\n",
       "    </tr>\n",
       "  </thead>\n",
       "  <tbody>\n",
       "    <tr>\n",
       "      <th>0</th>\n",
       "      <td>A6</td>\n",
       "      <td>7695</td>\n",
       "      <td>GACGTTCCTGGATCCTGCATCGAATCTTGATCATATATCTACATCT...</td>\n",
       "      <td>None</td>\n",
       "      <td>DMS</td>\n",
       "      <td>4017</td>\n",
       "      <td>3424</td>\n",
       "      <td>[1982, 846, 455, 113, 16, 6, 4, 0, 1, 0, 1, 0,...</td>\n",
       "      <td>[0.0, 0.0, 0.0, 0.0, 0.0, 0.0, 1.0, 0.0, 0.0, ...</td>\n",
       "      <td>[0.0, 3230.0, 3234.0, 3235.0, 3238.0, 3240.0, ...</td>\n",
       "      <td>...</td>\n",
       "      <td>1</td>\n",
       "      <td>170</td>\n",
       "      <td>593</td>\n",
       "      <td>0</td>\n",
       "      <td>0</td>\n",
       "      <td>[0.0, 0.0, 0.0, 0.0, 0.0, 0.0, 1.0, 0.0, 0.0, ...</td>\n",
       "      <td>[0.0, 0.0, 0.0, 0.0, 0.0, 0.0, 0.0, 0.0, 0.0, ...</td>\n",
       "      <td>[0.0, 0.0, 0.0, 0.0, 0.0, 0.0, 0.0, 0.0, 0.0, ...</td>\n",
       "      <td>[0.0, 0.0, 0.0, 0.0, 0.0, 0.0, 0.0, 0.0, 0.0, ...</td>\n",
       "      <td>148.0</td>\n",
       "    </tr>\n",
       "    <tr>\n",
       "      <th>1</th>\n",
       "      <td>A6</td>\n",
       "      <td>2069</td>\n",
       "      <td>GACGTTCCTGGATCCATTGTATATGTCCTTTTTCTCTTCCTCTTTC...</td>\n",
       "      <td>None</td>\n",
       "      <td>DMS</td>\n",
       "      <td>16059</td>\n",
       "      <td>15518</td>\n",
       "      <td>[5144, 3790, 4658, 1248, 314, 146, 87, 44, 53,...</td>\n",
       "      <td>[0.0, 0.0, 0.0, 0.0, 1.0, 1.0, 2.0, 0.0, 3.0, ...</td>\n",
       "      <td>[0.0, 15467.0, 15477.0, 15490.0, 15500.0, 1550...</td>\n",
       "      <td>...</td>\n",
       "      <td>1</td>\n",
       "      <td>170</td>\n",
       "      <td>517</td>\n",
       "      <td>0</td>\n",
       "      <td>24</td>\n",
       "      <td>[0.0, 0.0, 0.0, 0.0, 0.0, 0.0, 0.0, 0.0, 1.0, ...</td>\n",
       "      <td>[0.0, 0.0, 0.0, 0.0, 0.0, 1.0, 2.0, 0.0, 0.0, ...</td>\n",
       "      <td>[0.0, 0.0, 0.0, 0.0, 0.0, 0.0, 0.0, 0.0, 0.0, ...</td>\n",
       "      <td>[0.0, 0.0, 0.0, 0.0, 1.0, 0.0, 0.0, 0.0, 2.0, ...</td>\n",
       "      <td>6034.0</td>\n",
       "    </tr>\n",
       "    <tr>\n",
       "      <th>2</th>\n",
       "      <td>A6</td>\n",
       "      <td>381</td>\n",
       "      <td>GACGTTCCTGGATCCATTCGATCCAAACACACCCACACTCACACAC...</td>\n",
       "      <td>None</td>\n",
       "      <td>DMS</td>\n",
       "      <td>32688</td>\n",
       "      <td>15403</td>\n",
       "      <td>[4148, 5279, 3408, 1288, 685, 292, 109, 73, 54...</td>\n",
       "      <td>[0.0, 0.0, 0.0, 0.0, 1.0, 1.0, 0.0, 2.0, 0.0, ...</td>\n",
       "      <td>[0.0, 15344.0, 15350.0, 15365.0, 15377.0, 1538...</td>\n",
       "      <td>...</td>\n",
       "      <td>1</td>\n",
       "      <td>170</td>\n",
       "      <td>17228</td>\n",
       "      <td>0</td>\n",
       "      <td>57</td>\n",
       "      <td>[0.0, 0.0, 0.0, 0.0, 0.0, 0.0, 0.0, 0.0, 0.0, ...</td>\n",
       "      <td>[0.0, 0.0, 0.0, 0.0, 0.0, 1.0, 0.0, 0.0, 0.0, ...</td>\n",
       "      <td>[0.0, 0.0, 0.0, 0.0, 0.0, 0.0, 0.0, 0.0, 0.0, ...</td>\n",
       "      <td>[0.0, 0.0, 0.0, 0.0, 1.0, 0.0, 0.0, 2.0, 0.0, ...</td>\n",
       "      <td>505.0</td>\n",
       "    </tr>\n",
       "    <tr>\n",
       "      <th>4</th>\n",
       "      <td>A6</td>\n",
       "      <td>3899</td>\n",
       "      <td>GACGTTCCTGGATCCGCATTCTAAGATTCTTTCTCTTTCTCTTTCT...</td>\n",
       "      <td>None</td>\n",
       "      <td>DMS</td>\n",
       "      <td>2050</td>\n",
       "      <td>1164</td>\n",
       "      <td>[759, 241, 104, 18, 11, 4, 2, 1, 7, 8, 9, 0, 0...</td>\n",
       "      <td>[0.0, 0.0, 0.0, 0.0, 0.0, 0.0, 0.0, 0.0, 0.0, ...</td>\n",
       "      <td>[0.0, 1159.0, 1159.0, 1160.0, 1162.0, 1163.0, ...</td>\n",
       "      <td>...</td>\n",
       "      <td>1</td>\n",
       "      <td>170</td>\n",
       "      <td>868</td>\n",
       "      <td>0</td>\n",
       "      <td>18</td>\n",
       "      <td>[0.0, 0.0, 0.0, 0.0, 0.0, 0.0, 0.0, 0.0, 0.0, ...</td>\n",
       "      <td>[0.0, 0.0, 0.0, 0.0, 0.0, 0.0, 0.0, 0.0, 0.0, ...</td>\n",
       "      <td>[0.0, 0.0, 0.0, 0.0, 0.0, 0.0, 0.0, 0.0, 0.0, ...</td>\n",
       "      <td>[0.0, 0.0, 0.0, 0.0, 0.0, 0.0, 0.0, 0.0, 0.0, ...</td>\n",
       "      <td>153.0</td>\n",
       "    </tr>\n",
       "    <tr>\n",
       "      <th>5</th>\n",
       "      <td>A6</td>\n",
       "      <td>1655</td>\n",
       "      <td>GACGTTCCTGGATCCTTTAGTCTCTTCTTCCTCTTTCTCTTTCTCT...</td>\n",
       "      <td>None</td>\n",
       "      <td>DMS</td>\n",
       "      <td>30389</td>\n",
       "      <td>3239</td>\n",
       "      <td>[358, 281, 700, 1740, 60, 38, 12, 18, 18, 8, 6...</td>\n",
       "      <td>[0.0, 0.0, 0.0, 0.0, 0.0, 0.0, 0.0, 0.0, 0.0, ...</td>\n",
       "      <td>[0.0, 2609.0, 2612.0, 2612.0, 2612.0, 2613.0, ...</td>\n",
       "      <td>...</td>\n",
       "      <td>1</td>\n",
       "      <td>170</td>\n",
       "      <td>27135</td>\n",
       "      <td>0</td>\n",
       "      <td>15</td>\n",
       "      <td>[0.0, 0.0, 0.0, 0.0, 0.0, 0.0, 0.0, 0.0, 0.0, ...</td>\n",
       "      <td>[0.0, 0.0, 0.0, 0.0, 0.0, 0.0, 0.0, 0.0, 0.0, ...</td>\n",
       "      <td>[0.0, 0.0, 0.0, 0.0, 0.0, 0.0, 0.0, 0.0, 0.0, ...</td>\n",
       "      <td>[0.0, 0.0, 0.0, 0.0, 0.0, 0.0, 0.0, 0.0, 0.0, ...</td>\n",
       "      <td>120.0</td>\n",
       "    </tr>\n",
       "  </tbody>\n",
       "</table>\n",
       "<p>5 rows × 23 columns</p>\n",
       "</div>"
      ],
      "text/plain": [
       "  samp construct                                           sequence structure  \\\n",
       "0   A6      7695  GACGTTCCTGGATCCTGCATCGAATCTTGATCATATATCTACATCT...      None   \n",
       "1   A6      2069  GACGTTCCTGGATCCATTGTATATGTCCTTTTTCTCTTCCTCTTTC...      None   \n",
       "2   A6       381  GACGTTCCTGGATCCATTCGATCCAAACACACCCACACTCACACAC...      None   \n",
       "4   A6      3899  GACGTTCCTGGATCCGCATTCTAAGATTCTTTCTCTTTCTCTTTCT...      None   \n",
       "5   A6      1655  GACGTTCCTGGATCCTTTAGTCTCTTCTTCCTCTTTCTCTTTCTCT...      None   \n",
       "\n",
       "  data_type  num_reads  num_aligned  \\\n",
       "0       DMS       4017         3424   \n",
       "1       DMS      16059        15518   \n",
       "2       DMS      32688        15403   \n",
       "4       DMS       2050         1164   \n",
       "5       DMS      30389         3239   \n",
       "\n",
       "                                    num_of_mutations  \\\n",
       "0  [1982, 846, 455, 113, 16, 6, 4, 0, 1, 0, 1, 0,...   \n",
       "1  [5144, 3790, 4658, 1248, 314, 146, 87, 44, 53,...   \n",
       "2  [4148, 5279, 3408, 1288, 685, 292, 109, 73, 54...   \n",
       "4  [759, 241, 104, 18, 11, 4, 2, 1, 7, 8, 9, 0, 0...   \n",
       "5  [358, 281, 700, 1740, 60, 38, 12, 18, 18, 8, 6...   \n",
       "\n",
       "                                           mut_bases  \\\n",
       "0  [0.0, 0.0, 0.0, 0.0, 0.0, 0.0, 1.0, 0.0, 0.0, ...   \n",
       "1  [0.0, 0.0, 0.0, 0.0, 1.0, 1.0, 2.0, 0.0, 3.0, ...   \n",
       "2  [0.0, 0.0, 0.0, 0.0, 1.0, 1.0, 0.0, 2.0, 0.0, ...   \n",
       "4  [0.0, 0.0, 0.0, 0.0, 0.0, 0.0, 0.0, 0.0, 0.0, ...   \n",
       "5  [0.0, 0.0, 0.0, 0.0, 0.0, 0.0, 0.0, 0.0, 0.0, ...   \n",
       "\n",
       "                                          info_bases  ... start  end  \\\n",
       "0  [0.0, 3230.0, 3234.0, 3235.0, 3238.0, 3240.0, ...  ...     1  170   \n",
       "1  [0.0, 15467.0, 15477.0, 15490.0, 15500.0, 1550...  ...     1  170   \n",
       "2  [0.0, 15344.0, 15350.0, 15365.0, 15377.0, 1538...  ...     1  170   \n",
       "4  [0.0, 1159.0, 1159.0, 1160.0, 1162.0, 1163.0, ...  ...     1  170   \n",
       "5  [0.0, 2609.0, 2612.0, 2612.0, 2612.0, 2613.0, ...  ...     1  170   \n",
       "\n",
       "  skips_low_mapq  skips_short_read  skips_too_many_muts  \\\n",
       "0            593                 0                    0   \n",
       "1            517                 0                   24   \n",
       "2          17228                 0                   57   \n",
       "4            868                 0                   18   \n",
       "5          27135                 0                   15   \n",
       "\n",
       "                                         mod_bases_A  \\\n",
       "0  [0.0, 0.0, 0.0, 0.0, 0.0, 0.0, 1.0, 0.0, 0.0, ...   \n",
       "1  [0.0, 0.0, 0.0, 0.0, 0.0, 0.0, 0.0, 0.0, 1.0, ...   \n",
       "2  [0.0, 0.0, 0.0, 0.0, 0.0, 0.0, 0.0, 0.0, 0.0, ...   \n",
       "4  [0.0, 0.0, 0.0, 0.0, 0.0, 0.0, 0.0, 0.0, 0.0, ...   \n",
       "5  [0.0, 0.0, 0.0, 0.0, 0.0, 0.0, 0.0, 0.0, 0.0, ...   \n",
       "\n",
       "                                         mod_bases_C  \\\n",
       "0  [0.0, 0.0, 0.0, 0.0, 0.0, 0.0, 0.0, 0.0, 0.0, ...   \n",
       "1  [0.0, 0.0, 0.0, 0.0, 0.0, 1.0, 2.0, 0.0, 0.0, ...   \n",
       "2  [0.0, 0.0, 0.0, 0.0, 0.0, 1.0, 0.0, 0.0, 0.0, ...   \n",
       "4  [0.0, 0.0, 0.0, 0.0, 0.0, 0.0, 0.0, 0.0, 0.0, ...   \n",
       "5  [0.0, 0.0, 0.0, 0.0, 0.0, 0.0, 0.0, 0.0, 0.0, ...   \n",
       "\n",
       "                                         mod_bases_G  \\\n",
       "0  [0.0, 0.0, 0.0, 0.0, 0.0, 0.0, 0.0, 0.0, 0.0, ...   \n",
       "1  [0.0, 0.0, 0.0, 0.0, 0.0, 0.0, 0.0, 0.0, 0.0, ...   \n",
       "2  [0.0, 0.0, 0.0, 0.0, 0.0, 0.0, 0.0, 0.0, 0.0, ...   \n",
       "4  [0.0, 0.0, 0.0, 0.0, 0.0, 0.0, 0.0, 0.0, 0.0, ...   \n",
       "5  [0.0, 0.0, 0.0, 0.0, 0.0, 0.0, 0.0, 0.0, 0.0, ...   \n",
       "\n",
       "                                         mod_bases_T min_cov_bases  \n",
       "0  [0.0, 0.0, 0.0, 0.0, 0.0, 0.0, 0.0, 0.0, 0.0, ...         148.0  \n",
       "1  [0.0, 0.0, 0.0, 0.0, 1.0, 0.0, 0.0, 0.0, 2.0, ...        6034.0  \n",
       "2  [0.0, 0.0, 0.0, 0.0, 1.0, 0.0, 0.0, 2.0, 0.0, ...         505.0  \n",
       "4  [0.0, 0.0, 0.0, 0.0, 0.0, 0.0, 0.0, 0.0, 0.0, ...         153.0  \n",
       "5  [0.0, 0.0, 0.0, 0.0, 0.0, 0.0, 0.0, 0.0, 0.0, ...         120.0  \n",
       "\n",
       "[5 rows x 23 columns]"
      ]
     },
     "execution_count": 3,
     "metadata": {},
     "output_type": "execute_result"
    }
   ],
   "source": [
    "# Create a study\n",
    "salt = Study().from_dict({'name': 'salt',\n",
    "                         'description': 'Change the Na concentration', \n",
    "                         'samples': ['A6', 'B6', 'C6', 'D6', 'E6'], \n",
    "                         'title': 'Na quantity [M]', \n",
    "                         'conditions': [0.15, 0.3, 0.6, 1.0, 1.2]})\n",
    "\n",
    "# Load data\n",
    "salt.load_df_from_local_files(path_to_data= cfg['path_to_data'], \n",
    "                              min_cov_bases= cfg['min_cov_bases'])\n",
    "\n",
    "# Show the dataframe\n",
    "salt.df.head()"
   ]
  },
  {
   "cell_type": "markdown",
   "metadata": {},
   "source": [
    "### Plot this study with different plots\n",
    "Check out the list of plots in the plot module"
   ]
  },
  {
   "cell_type": "code",
   "execution_count": 9,
   "metadata": {},
   "outputs": [
    {
     "data": {
      "text/plain": [
       "<AxesSubplot:title={'center':'sample A6, construct 7695'}, xlabel='index'>"
      ]
     },
     "execution_count": 9,
     "metadata": {},
     "output_type": "execute_result"
    },
    {
     "data": {
      "image/png": "[encoded data removed]",
      "text/plain": [
       "<Figure size 2016x288 with 1 Axes>"
      ]
     },
     "metadata": {
      "needs_background": "light"
     },
     "output_type": "display_data"
    }
   ],
   "source": [
    "salt.mut_histogram(samp='A6', construct='7695',\\\n",
    "             plot_type='index', figsize=(28,4))"
   ]
  },
  {
   "cell_type": "code",
   "execution_count": null,
   "metadata": {},
   "outputs": [],
   "source": [
    "salt.deltaG(samp='A6',bases_type=['A','C'], roi_range='all')  # currently bugged due to DREEM, work in progress"
   ]
  },
  {
   "cell_type": "code",
   "execution_count": null,
   "metadata": {},
   "outputs": [],
   "source": [
    "salt.heatmap(column='min_cov_bases') # shows a heatmap of the minimum base coverage across all samples"
   ]
  },
  {
   "cell_type": "code",
   "execution_count": null,
   "metadata": {},
   "outputs": [],
   "source": [
    "# currently bugged due to DREEM, work in progress\n",
    "salt.mut_rate_vs_base_non_pairing_prob(samp='A6', construct='7695') # shows the mutation rate vs base non-pairing probability"
   ]
  },
  {
   "cell_type": "code",
   "execution_count": null,
   "metadata": {},
   "outputs": [],
   "source": [
    "salt.deltaG_basewise(samp='A6', roi_range=[40,63,78,94])"
   ]
  },
  {
   "cell_type": "code",
   "execution_count": 11,
   "metadata": {},
   "outputs": [
    {
     "ename": "TypeError",
     "evalue": "'NoneType' object is not iterable",
     "output_type": "error",
     "traceback": [
      "\u001b[0;31m---------------------------------------------------------------------------\u001b[0m",
      "\u001b[0;31mTypeError\u001b[0m                                 Traceback (most recent call last)",
      "\u001b[1;32m/Users/ymdt/src/dreem_nap/examples/tutorial.ipynb Cell 12\u001b[0m in \u001b[0;36m<cell line: 1>\u001b[0;34m()\u001b[0m\n\u001b[0;32m----> <a href='vscode-notebook-cell:/Users/ymdt/src/dreem_nap/examples/tutorial.ipynb#X23sZmlsZQ%3D%3D?line=0'>1</a>\u001b[0m salt\u001b[39m.\u001b[39;49mstudy_base(construct\u001b[39m=\u001b[39;49m\u001b[39m'\u001b[39;49m\u001b[39m9572\u001b[39;49m\u001b[39m'\u001b[39;49m, structure\u001b[39m=\u001b[39;49m\u001b[39m'\u001b[39;49m\u001b[39mfull\u001b[39;49m\u001b[39m'\u001b[39;49m, roi_range\u001b[39m=\u001b[39;49m[\u001b[39m40\u001b[39;49m,\u001b[39m63\u001b[39;49m,\u001b[39m78\u001b[39;49m,\u001b[39m94\u001b[39;49m])\n",
      "File \u001b[0;32m~/src/dreem_nap/venv-nap/lib/python3.10/site-packages/dreem_nap/plotter.py:632\u001b[0m, in \u001b[0;36mPlotter.study_base\u001b[0;34m(self, construct, bases_type, structure, scale_x, roi_range, overlay, split_paired, figsize)\u001b[0m\n\u001b[1;32m    629\u001b[0m df \u001b[39m=\u001b[39m \u001b[39mself\u001b[39m\u001b[39m.\u001b[39mdf\u001b[39m.\u001b[39mcopy()\n\u001b[1;32m    631\u001b[0m \u001b[39mfor\u001b[39;00m samp \u001b[39min\u001b[39;00m \u001b[39mself\u001b[39m\u001b[39m.\u001b[39msamples:\n\u001b[0;32m--> 632\u001b[0m     df_roi \u001b[39m=\u001b[39m \u001b[39mself\u001b[39;49m\u001b[39m.\u001b[39;49mget_roi_info(samp\u001b[39m=\u001b[39;49msamp, construct\u001b[39m=\u001b[39;49mconstruct, bases_type\u001b[39m=\u001b[39;49mbases_type, structure\u001b[39m=\u001b[39;49mstructure, roi_range\u001b[39m=\u001b[39;49mroi_range)\n\u001b[1;32m    633\u001b[0m     \u001b[39mif\u001b[39;00m \u001b[39mTrue\u001b[39;00m \u001b[39min\u001b[39;00m df_roi\u001b[39m.\u001b[39mreset_index()[\u001b[39m'\u001b[39m\u001b[39mpaired\u001b[39m\u001b[39m'\u001b[39m]\u001b[39m.\u001b[39munique():\n\u001b[1;32m    634\u001b[0m         df_paired \u001b[39m=\u001b[39m pd\u001b[39m.\u001b[39mconcat((df_paired, \n\u001b[1;32m    635\u001b[0m                         df_roi[\u001b[39m'\u001b[39m\u001b[39mmut_rate\u001b[39m\u001b[39m'\u001b[39m]\u001b[39m.\u001b[39mxs(\u001b[39mTrue\u001b[39;00m, level\u001b[39m=\u001b[39m\u001b[39m'\u001b[39m\u001b[39mpaired\u001b[39m\u001b[39m'\u001b[39m)\u001b[39m.\u001b[39mreset_index()\u001b[39m.\u001b[39mset_index(\u001b[39m'\u001b[39m\u001b[39mindex\u001b[39m\u001b[39m'\u001b[39m)\n\u001b[1;32m    636\u001b[0m                         \u001b[39m.\u001b[39mdrop(columns\u001b[39m=\u001b[39m[\u001b[39m'\u001b[39m\u001b[39mbase\u001b[39m\u001b[39m'\u001b[39m,\u001b[39m'\u001b[39m\u001b[39mroi_structure_comparison\u001b[39m\u001b[39m'\u001b[39m])\u001b[39m.\u001b[39mtranspose()))\n",
      "File \u001b[0;32m~/src/dreem_nap/venv-nap/lib/python3.10/site-packages/dreem_nap/manipulator.py:98\u001b[0m, in \u001b[0;36mManipulator.get_roi_info\u001b[0;34m(self, samp, construct, bases_type, structure, overlay, roi_range)\u001b[0m\n\u001b[1;32m     91\u001b[0m     roi_range, _ \u001b[39m=\u001b[39m \u001b[39mself\u001b[39m\u001b[39m.\u001b[39m_roi_range_calc(overlay, roi_range,                                                 \n\u001b[1;32m     92\u001b[0m                                     roi_bounds\u001b[39m=\u001b[39m[df[df\u001b[39m.\u001b[39mconstruct\u001b[39m==\u001b[39mconstruct][\u001b[39m'\u001b[39m\u001b[39mroi_start_index\u001b[39m\u001b[39m'\u001b[39m]\u001b[39m.\u001b[39miloc[\u001b[39m0\u001b[39m], df[df\u001b[39m.\u001b[39mconstruct\u001b[39m==\u001b[39mconstruct][\u001b[39m'\u001b[39m\u001b[39mroi_end_index\u001b[39m\u001b[39m'\u001b[39m]\u001b[39m.\u001b[39miloc[\u001b[39m0\u001b[39m]],\n\u001b[1;32m     93\u001b[0m                                     full_bounds\u001b[39m=\u001b[39m[df[df\u001b[39m.\u001b[39mconstruct\u001b[39m==\u001b[39mconstruct][\u001b[39m'\u001b[39m\u001b[39mstart\u001b[39m\u001b[39m'\u001b[39m]\u001b[39m.\u001b[39miloc[\u001b[39m0\u001b[39m]\u001b[39m-\u001b[39m\u001b[39m1\u001b[39m, df[df\u001b[39m.\u001b[39mconstruct\u001b[39m==\u001b[39mconstruct][\u001b[39m'\u001b[39m\u001b[39mend\u001b[39m\u001b[39m'\u001b[39m]\u001b[39m.\u001b[39miloc[\u001b[39m0\u001b[39m]\u001b[39m-\u001b[39m\u001b[39m1\u001b[39m])\n\u001b[1;32m     94\u001b[0m     \u001b[39massert\u001b[39;00m \u001b[39mnot\u001b[39;00m (structure \u001b[39m!=\u001b[39m \u001b[39m'\u001b[39m\u001b[39mfull\u001b[39m\u001b[39m'\u001b[39m \u001b[39mand\u001b[39;00m (\u001b[39mmin\u001b[39m(roi_range) \u001b[39m<\u001b[39m \u001b[39mint\u001b[39m(df_SC[\u001b[39m'\u001b[39m\u001b[39mroi_start_index\u001b[39m\u001b[39m'\u001b[39m]) \u001b[39mor\u001b[39;00m \u001b[39mmax\u001b[39m(roi_range) \u001b[39m>\u001b[39m \u001b[39mint\u001b[39m(df_SC[\u001b[39m'\u001b[39m\u001b[39mroi_end_index\u001b[39m\u001b[39m'\u001b[39m]))), \u001b[39m\"\u001b[39m\u001b[39mImpossible to expand the roi when using roi-based structure prediction\u001b[39m\u001b[39m\"\u001b[39m\n\u001b[1;32m     96\u001b[0m df_roi \u001b[39m=\u001b[39m pd\u001b[39m.\u001b[39mDataFrame({\u001b[39m'\u001b[39m\u001b[39mmut_rate\u001b[39m\u001b[39m'\u001b[39m:pd\u001b[39m.\u001b[39mSeries(np\u001b[39m.\u001b[39marray(df_SC[\u001b[39mf\u001b[39m\u001b[39m\"\u001b[39m\u001b[39mmut_bases\u001b[39m\u001b[39m\"\u001b[39m][\u001b[39m1\u001b[39m:])\u001b[39m/\u001b[39mnp\u001b[39m.\u001b[39marray(df_SC[\u001b[39mf\u001b[39m\u001b[39m\"\u001b[39m\u001b[39minfo_bases\u001b[39m\u001b[39m\"\u001b[39m][\u001b[39m1\u001b[39m:]), dtype\u001b[39m=\u001b[39m\u001b[39mobject\u001b[39m),\n\u001b[1;32m     97\u001b[0m                         \u001b[39m'\u001b[39m\u001b[39mbase\u001b[39m\u001b[39m'\u001b[39m:\u001b[39mlist\u001b[39m(df_SC[\u001b[39m'\u001b[39m\u001b[39msequence\u001b[39m\u001b[39m'\u001b[39m]),\n\u001b[0;32m---> 98\u001b[0m                         \u001b[39m'\u001b[39m\u001b[39mpaired\u001b[39m\u001b[39m'\u001b[39m: np\u001b[39m.\u001b[39marray([\u001b[39mbool\u001b[39m(x \u001b[39m!=\u001b[39m \u001b[39m'\u001b[39m\u001b[39m.\u001b[39m\u001b[39m'\u001b[39m) \u001b[39mfor\u001b[39;00m x \u001b[39min\u001b[39;00m \u001b[39mlist\u001b[39;49m(df_SC[\u001b[39m'\u001b[39;49m\u001b[39mstructure\u001b[39;49m\u001b[39m'\u001b[39;49m])]),\\\n\u001b[1;32m     99\u001b[0m                         \u001b[39m'\u001b[39m\u001b[39mbase_pairing_prob\u001b[39m\u001b[39m'\u001b[39m: df_SC[\u001b[39mf\u001b[39m\u001b[39m\"\u001b[39m\u001b[39mbase_pairing_prob\u001b[39m\u001b[39m\"\u001b[39m][\u001b[39m1\u001b[39m:],\\\n\u001b[1;32m    100\u001b[0m                         \u001b[39m'\u001b[39m\u001b[39mroi_structure_comparison\u001b[39m\u001b[39m'\u001b[39m: pd\u001b[39m.\u001b[39mSeries(\u001b[39mlist\u001b[39m(df_SC[\u001b[39m'\u001b[39m\u001b[39mroi_structure_comparison\u001b[39m\u001b[39m'\u001b[39m]),index\u001b[39m=\u001b[39m\u001b[39mlist\u001b[39m(\u001b[39mrange\u001b[39m(df_SC[\u001b[39m'\u001b[39m\u001b[39mroi_start_index\u001b[39m\u001b[39m'\u001b[39m], df_SC[\u001b[39m'\u001b[39m\u001b[39mroi_end_index\u001b[39m\u001b[39m'\u001b[39m])))\\\n\u001b[1;32m    101\u001b[0m                         ,\u001b[39m'\u001b[39m\u001b[39mroi_deltaG\u001b[39m\u001b[39m'\u001b[39m:df_SC[\u001b[39m'\u001b[39m\u001b[39mroi_deltaG\u001b[39m\u001b[39m'\u001b[39m]})\\\n\u001b[1;32m    102\u001b[0m                         \u001b[39m.\u001b[39mreset_index()\n\u001b[1;32m    104\u001b[0m df_roi \u001b[39m=\u001b[39m df_roi\u001b[39m.\u001b[39mwhere(df_roi[\u001b[39m'\u001b[39m\u001b[39mbase\u001b[39m\u001b[39m'\u001b[39m]\u001b[39m.\u001b[39misin(bases_type))\u001b[39m#.dropna()\u001b[39;00m\n\u001b[1;32m    106\u001b[0m df_roi \u001b[39m=\u001b[39m df_roi[df_roi[\u001b[39m'\u001b[39m\u001b[39mindex\u001b[39m\u001b[39m'\u001b[39m]\u001b[39m.\u001b[39mnotnull()]\n",
      "\u001b[0;31mTypeError\u001b[0m: 'NoneType' object is not iterable"
     ]
    }
   ],
   "source": [
    "salt.study_base(construct='9572', structure='full',\n",
    "                roi_range=[40,63,78,94])"
   ]
  },
  {
   "cell_type": "markdown",
   "metadata": {},
   "source": [
    "### You can load every study from a file using Study.load_studies()"
   ]
  },
  {
   "cell_type": "code",
   "execution_count": null,
   "metadata": {},
   "outputs": [],
   "source": [
    "studies = Study.load_studies(cfg['path_to_studies'])\n",
    "for name, study in studies.items():\n",
    "    study.load_df_from_local_files(path_to_data= cfg['path_to_data'], min_cov_bases= cfg['min_cov_bases'])"
   ]
  },
  {
   "cell_type": "markdown",
   "metadata": {},
   "source": [
    "### Studies can be called from the dictionary using their name"
   ]
  },
  {
   "cell_type": "code",
   "execution_count": null,
   "metadata": {},
   "outputs": [],
   "source": [
    "studies['temperature'].mut_histogram(studies['temperature'].samples[0], '9572', 'index')"
   ]
  }
 ],
 "metadata": {
  "kernelspec": {
   "display_name": "Python 3.10.5 ('venv-nap': venv)",
   "language": "python",
   "name": "python3"
  },
  "language_info": {
   "codemirror_mode": {
    "name": "ipython",
    "version": 3
   },
   "file_extension": ".py",
   "mimetype": "text/x-python",
   "name": "python",
   "nbconvert_exporter": "python",
   "pygments_lexer": "ipython3",
   "version": "3.10.5"
  },
  "orig_nbformat": 4,
  "vscode": {
   "interpreter": {
    "hash": "228ea3748f49093993f7ca989c09e25264db3703291e3a4aaa931dd28b2eaabc"
   }
  }
 },
 "nbformat": 4,
 "nbformat_minor": 2
}
