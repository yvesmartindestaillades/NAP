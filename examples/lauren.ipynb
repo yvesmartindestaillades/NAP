{
 "cells": [
  {
   "cell_type": "markdown",
   "metadata": {},
   "source": [
    "## Imports and load data"
   ]
  },
  {
   "cell_type": "code",
   "execution_count": null,
   "metadata": {},
   "outputs": [],
   "source": [
    "import pandas as pd\n",
    "import matplotlib.pyplot as plt\n",
    "import matplotlib as mpl\n",
    "from matplotlib.colors import LogNorm\n",
    "from os.path import exists, dirname\n",
    "import os, sys\n",
    "import numpy as np\n",
    "import seaborn as sns\n",
    "import json\n",
    "import yaml\n",
    "import pickle\n",
    "\n",
    "path = '/Users/ymdt/src/dreem_nap/'\n",
    "sys.path.append(path)\n",
    "from dreem_nap.manipulator import Manipulator\n",
    "from dreem_nap.study import Study, util\n",
    "\n",
    "# Config\n",
    "path_to_data= '/Users/ymdt/src/data/Lauren'\n",
    "path_to_studies= '/Users/ymdt/src/data/Lauren/studies.csv'\n",
    "min_cov_bases= 1000\n",
    "mpl.rcParams['figure.dpi'] = 100 # the highest the resolution, the slowest the plotting\n",
    "#mpl.use('agg')\n",
    "\n",
    "studies = Study.load_studies(path_to_studies)\n",
    "study = Study.from_dict(studies['3UTR_v_5UTR'].__dict__)\n",
    "study.load_df_from_local_files(path_to_data= path_to_data, min_cov_bases = min_cov_bases, filter_by='sample')\n",
    "study.get_df().head()"
   ]
  },
  {
   "cell_type": "markdown",
   "metadata": {},
   "source": [
    "## Data quality analysis\n",
    "- random plots base coverage\n",
    "- valid constructs per sample\n",
    "- valid constructs across all samples"
   ]
  },
  {
   "cell_type": "code",
   "execution_count": null,
   "metadata": {},
   "outputs": [],
   "source": [
    "# TODO"
   ]
  },
  {
   "cell_type": "markdown",
   "metadata": {},
   "source": [
    "## Clustering\n",
    "### Hyperparameters"
   ]
  },
  {
   "cell_type": "code",
   "execution_count": null,
   "metadata": {},
   "outputs": [],
   "source": [
    "metric = 'euclidean' # can be 'euclidean', 'r2', 'spearman'\n",
    "index = list(range(19,42))\n",
    "base_type=['A','C']\n",
    "show = {\n",
    "    'sequence_picture': True,\n",
    "    'hierarchical_dendrogram': True,\n",
    "    'construct_vs_sequence_heatmap': True,\n",
    "    'construct_vs_construct_heatmap': True\n",
    "}"
   ]
  },
  {
   "cell_type": "markdown",
   "metadata": {},
   "source": [
    "\n",
    "### Replicates "
   ]
  },
  {
   "cell_type": "code",
   "execution_count": null,
   "metadata": {},
   "outputs": [],
   "source": [
    "# TODO"
   ]
  },
  {
   "cell_type": "markdown",
   "metadata": {},
   "source": [
    "### Flanks"
   ]
  },
  {
   "cell_type": "code",
   "execution_count": null,
   "metadata": {},
   "outputs": [],
   "source": [
    "# TODO"
   ]
  },
  {
   "cell_type": "markdown",
   "metadata": {},
   "source": [
    "### MS2\n",
    "- show picture\n",
    "- hierarchical clustering dendrogram\n",
    "- construct vs sequence heatmap using clustering order\n",
    "- construct vs construct heatmap using clustering order"
   ]
  },
  {
   "cell_type": "code",
   "execution_count": null,
   "metadata": {},
   "outputs": [],
   "source": [
    "ms2_seq = 'CACAGTCGAAAGACTGTG'\n",
    "\n",
    "for s in study.samples:\n",
    "    out = study.plot.dendrogram(samp=s, index=ms2_seq, metric=metric, base_type = base_type, figsize=(10,100), dpi=300, p=100)#, title='Hierarchical clustering of the MS2 hairpin')\n",
    "    # util.save_fig(f'../data/figs/date/Lauren/dendrogram/{s}_{i}_{metric}.png')\n",
    "    out.fig.patch.set_facecolor('white')\n",
    "    \n",
    "    util.savefig(f'../data/figs/date/Lauren/dendrogram/{s}_{ms2_seq}_{metric}.png')\n",
    "    \n",
    "    with open(util.make_path(f'../data/figs/date/Lauren/dendrogram/')+f'{s}_{ms2_seq}_{metric}.txt', 'w') as f:\n",
    "        for item in out.labels:\n",
    "            f.write(item+'\\n')\n",
    "        f.close()"
   ]
  },
  {
   "cell_type": "markdown",
   "metadata": {},
   "source": [
    "### ROI"
   ]
  },
  {
   "cell_type": "code",
   "execution_count": null,
   "metadata": {},
   "outputs": [],
   "source": [
    "from cProfile import label\n",
    "\n",
    "\n",
    "roi_idx = list(range(19,42))\n",
    "\n",
    "for s in study.samples:\n",
    "    out = study.plot.dendrogram(samp=s, index=roi_idx, metric=metric, base_type = base_type, figsize=(10,100), dpi=300, p=100)#, title='Hierarchical clustering of the MS2 hairpin')\n",
    "    # util.save_fig(f'../data/figs/date/Lauren/dendrogram/{s}_{i}_{metric}.png')\n",
    "    out.fig.patch.set_facecolor('white')\n",
    "    \n",
    "    util.savefig(f'../data/figs/date/Lauren/dendrogram/{s}_{roi_idx}_{metric}.png')\n",
    "    \n",
    "    with open(util.make_path(f'../data/figs/date/Lauren/dendrogram/')+f'{s}_{roi_idx}_{metric}.txt', 'w') as f:\n",
    "        for item in out.labels:\n",
    "            f.write(item+'\\n')\n",
    "        f.close()"
   ]
  },
  {
   "cell_type": "markdown",
   "metadata": {},
   "source": [
    "### MS2 + ROI"
   ]
  },
  {
   "cell_type": "code",
   "execution_count": null,
   "metadata": {},
   "outputs": [],
   "source": [
    "# TODO"
   ]
  }
 ],
 "metadata": {
  "kernelspec": {
   "display_name": "Python 3.10.5 ('venv-nap': venv)",
   "language": "python",
   "name": "python3"
  },
  "language_info": {
   "codemirror_mode": {
    "name": "ipython",
    "version": 3
   },
   "file_extension": ".py",
   "mimetype": "text/x-python",
   "name": "python",
   "nbconvert_exporter": "python",
   "pygments_lexer": "ipython3",
   "version": "3.10.5"
  },
  "orig_nbformat": 4,
  "vscode": {
   "interpreter": {
    "hash": "228ea3748f49093993f7ca989c09e25264db3703291e3a4aaa931dd28b2eaabc"
   }
  }
 },
 "nbformat": 4,
 "nbformat_minor": 2
}
