{
 "cells": [
  {
   "cell_type": "markdown",
   "metadata": {},
   "source": [
    "## Imports"
   ]
  },
  {
   "cell_type": "code",
   "execution_count": 2,
   "metadata": {},
   "outputs": [
    {
     "data": {
      "text/html": [
       "<div>\n",
       "<style scoped>\n",
       "    .dataframe tbody tr th:only-of-type {\n",
       "        vertical-align: middle;\n",
       "    }\n",
       "\n",
       "    .dataframe tbody tr th {\n",
       "        vertical-align: top;\n",
       "    }\n",
       "\n",
       "    .dataframe thead th {\n",
       "        text-align: right;\n",
       "    }\n",
       "</style>\n",
       "<table border=\"1\" class=\"dataframe\">\n",
       "  <thead>\n",
       "    <tr style=\"text-align: right;\">\n",
       "      <th></th>\n",
       "      <th>sample</th>\n",
       "      <th>construct</th>\n",
       "      <th>sequence</th>\n",
       "      <th>structure</th>\n",
       "      <th>data_type</th>\n",
       "      <th>num_reads</th>\n",
       "      <th>num_aligned</th>\n",
       "      <th>num_of_mutations</th>\n",
       "      <th>mut_bases</th>\n",
       "      <th>info_bases</th>\n",
       "      <th>...</th>\n",
       "      <th>mod_bases_G</th>\n",
       "      <th>mod_bases_T</th>\n",
       "      <th>mut_rates</th>\n",
       "      <th>worst_cov_bases</th>\n",
       "      <th>section</th>\n",
       "      <th>cluster</th>\n",
       "      <th>family</th>\n",
       "      <th>structure_selected</th>\n",
       "      <th>deltaG_selected</th>\n",
       "      <th>index_selected</th>\n",
       "    </tr>\n",
       "  </thead>\n",
       "  <tbody>\n",
       "    <tr>\n",
       "      <th>0</th>\n",
       "      <td>470</td>\n",
       "      <td>3114-O-flank_1=hp7-DB</td>\n",
       "      <td>TTAAACCGGCCAACATACCGCATATGAGGATCACCCATATGCTCGC...</td>\n",
       "      <td>......(((........)))((((((.((....))))))))...((...</td>\n",
       "      <td>DMS</td>\n",
       "      <td>2028</td>\n",
       "      <td>2017</td>\n",
       "      <td>[217, 466, 590, 423, 196, 82, 20, 5, 11, 5, 2,...</td>\n",
       "      <td>[0.0, 0.0, 0.0, 0.0, 0.0, 0.0, 0.0, 0.0, 1.0, ...</td>\n",
       "      <td>[1806.0, 1936.0, 1948.0, 2000.0, 2008.0, 2010....</td>\n",
       "      <td>...</td>\n",
       "      <td>[0.0, 0.0, 0.0, 0.0, 0.0, 0.0, 0.0, 0.0, 0.0, ...</td>\n",
       "      <td>[0.0, 0.0, 0.0, 0.0, 0.0, 0.0, 0.0, 0.0, 0.0, ...</td>\n",
       "      <td>[0.0, 0.0, 0.0, 0.0, 0.0, 0.0, 0.0, 0.0, 0.000...</td>\n",
       "      <td>1792.0</td>\n",
       "      <td>0</td>\n",
       "      <td>0</td>\n",
       "      <td>hp7</td>\n",
       "      <td>......(((........)))((((((.((....))))))))...((...</td>\n",
       "      <td>-23.9</td>\n",
       "      <td>[0, 1, 2, 3, 4, 5, 6, 7, 8, 9, 10, 11, 12, 13,...</td>\n",
       "    </tr>\n",
       "    <tr>\n",
       "      <th>10</th>\n",
       "      <td>470</td>\n",
       "      <td>3136-O-flank_1=hp8-DB</td>\n",
       "      <td>TTAAACCGGCCAACATACCGCATATGAGGATCACCCATATGCTCCA...</td>\n",
       "      <td>............((((.(((((((((.((....))))))))).......</td>\n",
       "      <td>DMS</td>\n",
       "      <td>2330</td>\n",
       "      <td>2329</td>\n",
       "      <td>[222, 530, 639, 502, 275, 126, 26, 6, 2, 1, 0,...</td>\n",
       "      <td>[0.0, 0.0, 0.0, 0.0, 0.0, 0.0, 0.0, 0.0, 0.0, ...</td>\n",
       "      <td>[2126.0, 2254.0, 2270.0, 2309.0, 2314.0, 2316....</td>\n",
       "      <td>...</td>\n",
       "      <td>[0.0, 0.0, 0.0, 0.0, 0.0, 0.0, 0.0, 0.0, 0.0, ...</td>\n",
       "      <td>[0.0, 0.0, 0.0, 0.0, 0.0, 0.0, 0.0, 0.0, 0.0, ...</td>\n",
       "      <td>[0.0, 0.0, 0.0, 0.0, 0.0, 0.0, 0.0, 0.0, 0.0, ...</td>\n",
       "      <td>2115.0</td>\n",
       "      <td>0</td>\n",
       "      <td>0</td>\n",
       "      <td>hp8</td>\n",
       "      <td>............((((.(((((((((.((....))))))))).......</td>\n",
       "      <td>-17.6</td>\n",
       "      <td>[0, 1, 2, 3, 4, 5, 6, 7, 8, 9, 10, 11, 12, 13,...</td>\n",
       "    </tr>\n",
       "    <tr>\n",
       "      <th>11</th>\n",
       "      <td>470</td>\n",
       "      <td>3193-O-flank_1=hp13-DB</td>\n",
       "      <td>TTAAACCGGCCAACATACCGCATATGAGGATCACCCATATGCTCTC...</td>\n",
       "      <td>......(((........)))((((((.((....))))))))........</td>\n",
       "      <td>DMS</td>\n",
       "      <td>4268</td>\n",
       "      <td>4261</td>\n",
       "      <td>[390, 951, 1206, 939, 501, 190, 60, 14, 2, 5, ...</td>\n",
       "      <td>[0.0, 0.0, 0.0, 0.0, 0.0, 0.0, 0.0, 0.0, 0.0, ...</td>\n",
       "      <td>[3876.0, 4095.0, 4124.0, 4226.0, 4247.0, 4251....</td>\n",
       "      <td>...</td>\n",
       "      <td>[0.0, 0.0, 0.0, 0.0, 0.0, 0.0, 0.0, 0.0, 0.0, ...</td>\n",
       "      <td>[0.0, 0.0, 0.0, 0.0, 0.0, 0.0, 0.0, 0.0, 0.0, ...</td>\n",
       "      <td>[0.0, 0.0, 0.0, 0.0, 0.0, 0.0, 0.0, 0.0, 0.0, ...</td>\n",
       "      <td>3796.0</td>\n",
       "      <td>0</td>\n",
       "      <td>0</td>\n",
       "      <td>hp13</td>\n",
       "      <td>......(((........)))((((((.((....))))))))........</td>\n",
       "      <td>-16.4</td>\n",
       "      <td>[0, 1, 2, 3, 4, 5, 6, 7, 8, 9, 10, 11, 12, 13,...</td>\n",
       "    </tr>\n",
       "    <tr>\n",
       "      <th>13</th>\n",
       "      <td>470</td>\n",
       "      <td>3576-O-flank_1=bi6-cag-DB</td>\n",
       "      <td>TTAAACCGGCCAACATACCGCATATGAGGATCACCCATATGCTCGC...</td>\n",
       "      <td>......(((........)))((((((.((....))))))))...((...</td>\n",
       "      <td>DMS</td>\n",
       "      <td>2800</td>\n",
       "      <td>2798</td>\n",
       "      <td>[255, 652, 808, 612, 294, 127, 37, 10, 0, 3, 0...</td>\n",
       "      <td>[0.0, 0.0, 0.0, 0.0, 0.0, 0.0, 1.0, 0.0, 1.0, ...</td>\n",
       "      <td>[2516.0, 2670.0, 2700.0, 2774.0, 2787.0, 2788....</td>\n",
       "      <td>...</td>\n",
       "      <td>[0.0, 0.0, 0.0, 0.0, 0.0, 0.0, 0.0, 0.0, 0.0, ...</td>\n",
       "      <td>[0.0, 0.0, 0.0, 0.0, 0.0, 0.0, 0.0, 0.0, 0.0, ...</td>\n",
       "      <td>[0.0, 0.0, 0.0, 0.0, 0.0, 0.0, 0.00035868, 0.0...</td>\n",
       "      <td>2487.0</td>\n",
       "      <td>0</td>\n",
       "      <td>0</td>\n",
       "      <td>bi6</td>\n",
       "      <td>......(((........)))((((((.((....))))))))...((...</td>\n",
       "      <td>-17.7</td>\n",
       "      <td>[0, 1, 2, 3, 4, 5, 6, 7, 8, 9, 10, 11, 12, 13,...</td>\n",
       "    </tr>\n",
       "    <tr>\n",
       "      <th>16</th>\n",
       "      <td>470</td>\n",
       "      <td>3284-CC-flank_1=cb7-DB</td>\n",
       "      <td>TTAAACCGGCCAACATACCGCATATGAGGATCACCCATATGCTCGC...</td>\n",
       "      <td>......(((........)))((((((.((....))))))))...((...</td>\n",
       "      <td>DMS</td>\n",
       "      <td>2869</td>\n",
       "      <td>2860</td>\n",
       "      <td>[392, 823, 856, 498, 206, 54, 15, 6, 3, 3, 4, ...</td>\n",
       "      <td>[0.0, 0.0, 0.0, 2.0, 0.0, 0.0, 1.0, 0.0, 0.0, ...</td>\n",
       "      <td>[2617.0, 2742.0, 2766.0, 2836.0, 2851.0, 2854....</td>\n",
       "      <td>...</td>\n",
       "      <td>[0.0, 0.0, 0.0, 2.0, 0.0, 0.0, 0.0, 0.0, 0.0, ...</td>\n",
       "      <td>[0.0, 0.0, 0.0, 0.0, 0.0, 0.0, 1.0, 0.0, 0.0, ...</td>\n",
       "      <td>[0.0, 0.0, 0.0, 0.00070522, 0.0, 0.0, 0.000350...</td>\n",
       "      <td>2244.0</td>\n",
       "      <td>0</td>\n",
       "      <td>0</td>\n",
       "      <td>cb7</td>\n",
       "      <td>......(((........)))((((((.((....))))))))...((...</td>\n",
       "      <td>-23.5</td>\n",
       "      <td>[0, 1, 2, 3, 4, 5, 6, 7, 8, 9, 10, 11, 12, 13,...</td>\n",
       "    </tr>\n",
       "  </tbody>\n",
       "</table>\n",
       "<p>5 rows × 92 columns</p>\n",
       "</div>"
      ],
      "text/plain": [
       "    sample                  construct  \\\n",
       "0      470      3114-O-flank_1=hp7-DB   \n",
       "10     470      3136-O-flank_1=hp8-DB   \n",
       "11     470     3193-O-flank_1=hp13-DB   \n",
       "13     470  3576-O-flank_1=bi6-cag-DB   \n",
       "16     470     3284-CC-flank_1=cb7-DB   \n",
       "\n",
       "                                             sequence  \\\n",
       "0   TTAAACCGGCCAACATACCGCATATGAGGATCACCCATATGCTCGC...   \n",
       "10  TTAAACCGGCCAACATACCGCATATGAGGATCACCCATATGCTCCA...   \n",
       "11  TTAAACCGGCCAACATACCGCATATGAGGATCACCCATATGCTCTC...   \n",
       "13  TTAAACCGGCCAACATACCGCATATGAGGATCACCCATATGCTCGC...   \n",
       "16  TTAAACCGGCCAACATACCGCATATGAGGATCACCCATATGCTCGC...   \n",
       "\n",
       "                                            structure data_type  num_reads  \\\n",
       "0   ......(((........)))((((((.((....))))))))...((...       DMS       2028   \n",
       "10  ............((((.(((((((((.((....))))))))).......       DMS       2330   \n",
       "11  ......(((........)))((((((.((....))))))))........       DMS       4268   \n",
       "13  ......(((........)))((((((.((....))))))))...((...       DMS       2800   \n",
       "16  ......(((........)))((((((.((....))))))))...((...       DMS       2869   \n",
       "\n",
       "    num_aligned                                   num_of_mutations  \\\n",
       "0          2017  [217, 466, 590, 423, 196, 82, 20, 5, 11, 5, 2,...   \n",
       "10         2329  [222, 530, 639, 502, 275, 126, 26, 6, 2, 1, 0,...   \n",
       "11         4261  [390, 951, 1206, 939, 501, 190, 60, 14, 2, 5, ...   \n",
       "13         2798  [255, 652, 808, 612, 294, 127, 37, 10, 0, 3, 0...   \n",
       "16         2860  [392, 823, 856, 498, 206, 54, 15, 6, 3, 3, 4, ...   \n",
       "\n",
       "                                            mut_bases  \\\n",
       "0   [0.0, 0.0, 0.0, 0.0, 0.0, 0.0, 0.0, 0.0, 1.0, ...   \n",
       "10  [0.0, 0.0, 0.0, 0.0, 0.0, 0.0, 0.0, 0.0, 0.0, ...   \n",
       "11  [0.0, 0.0, 0.0, 0.0, 0.0, 0.0, 0.0, 0.0, 0.0, ...   \n",
       "13  [0.0, 0.0, 0.0, 0.0, 0.0, 0.0, 1.0, 0.0, 1.0, ...   \n",
       "16  [0.0, 0.0, 0.0, 2.0, 0.0, 0.0, 1.0, 0.0, 0.0, ...   \n",
       "\n",
       "                                           info_bases  ...  \\\n",
       "0   [1806.0, 1936.0, 1948.0, 2000.0, 2008.0, 2010....  ...   \n",
       "10  [2126.0, 2254.0, 2270.0, 2309.0, 2314.0, 2316....  ...   \n",
       "11  [3876.0, 4095.0, 4124.0, 4226.0, 4247.0, 4251....  ...   \n",
       "13  [2516.0, 2670.0, 2700.0, 2774.0, 2787.0, 2788....  ...   \n",
       "16  [2617.0, 2742.0, 2766.0, 2836.0, 2851.0, 2854....  ...   \n",
       "\n",
       "                                          mod_bases_G  \\\n",
       "0   [0.0, 0.0, 0.0, 0.0, 0.0, 0.0, 0.0, 0.0, 0.0, ...   \n",
       "10  [0.0, 0.0, 0.0, 0.0, 0.0, 0.0, 0.0, 0.0, 0.0, ...   \n",
       "11  [0.0, 0.0, 0.0, 0.0, 0.0, 0.0, 0.0, 0.0, 0.0, ...   \n",
       "13  [0.0, 0.0, 0.0, 0.0, 0.0, 0.0, 0.0, 0.0, 0.0, ...   \n",
       "16  [0.0, 0.0, 0.0, 2.0, 0.0, 0.0, 0.0, 0.0, 0.0, ...   \n",
       "\n",
       "                                          mod_bases_T  \\\n",
       "0   [0.0, 0.0, 0.0, 0.0, 0.0, 0.0, 0.0, 0.0, 0.0, ...   \n",
       "10  [0.0, 0.0, 0.0, 0.0, 0.0, 0.0, 0.0, 0.0, 0.0, ...   \n",
       "11  [0.0, 0.0, 0.0, 0.0, 0.0, 0.0, 0.0, 0.0, 0.0, ...   \n",
       "13  [0.0, 0.0, 0.0, 0.0, 0.0, 0.0, 0.0, 0.0, 0.0, ...   \n",
       "16  [0.0, 0.0, 0.0, 0.0, 0.0, 0.0, 1.0, 0.0, 0.0, ...   \n",
       "\n",
       "                                            mut_rates  worst_cov_bases  \\\n",
       "0   [0.0, 0.0, 0.0, 0.0, 0.0, 0.0, 0.0, 0.0, 0.000...           1792.0   \n",
       "10  [0.0, 0.0, 0.0, 0.0, 0.0, 0.0, 0.0, 0.0, 0.0, ...           2115.0   \n",
       "11  [0.0, 0.0, 0.0, 0.0, 0.0, 0.0, 0.0, 0.0, 0.0, ...           3796.0   \n",
       "13  [0.0, 0.0, 0.0, 0.0, 0.0, 0.0, 0.00035868, 0.0...           2487.0   \n",
       "16  [0.0, 0.0, 0.0, 0.00070522, 0.0, 0.0, 0.000350...           2244.0   \n",
       "\n",
       "    section cluster family                                 structure_selected  \\\n",
       "0         0       0    hp7  ......(((........)))((((((.((....))))))))...((...   \n",
       "10        0       0    hp8  ............((((.(((((((((.((....))))))))).......   \n",
       "11        0       0   hp13  ......(((........)))((((((.((....))))))))........   \n",
       "13        0       0    bi6  ......(((........)))((((((.((....))))))))...((...   \n",
       "16        0       0    cb7  ......(((........)))((((((.((....))))))))...((...   \n",
       "\n",
       "   deltaG_selected                                     index_selected  \n",
       "0            -23.9  [0, 1, 2, 3, 4, 5, 6, 7, 8, 9, 10, 11, 12, 13,...  \n",
       "10           -17.6  [0, 1, 2, 3, 4, 5, 6, 7, 8, 9, 10, 11, 12, 13,...  \n",
       "11           -16.4  [0, 1, 2, 3, 4, 5, 6, 7, 8, 9, 10, 11, 12, 13,...  \n",
       "13           -17.7  [0, 1, 2, 3, 4, 5, 6, 7, 8, 9, 10, 11, 12, 13,...  \n",
       "16           -23.5  [0, 1, 2, 3, 4, 5, 6, 7, 8, 9, 10, 11, 12, 13,...  \n",
       "\n",
       "[5 rows x 92 columns]"
      ]
     },
     "execution_count": 2,
     "metadata": {},
     "output_type": "execute_result"
    }
   ],
   "source": [
    "import pandas as pd\n",
    "import matplotlib.pyplot as plt\n",
    "import matplotlib as mpl\n",
    "from matplotlib.colors import LogNorm\n",
    "from os.path import exists, dirname\n",
    "\n",
    "\n",
    "import os, sys\n",
    "\n",
    "import numpy as np\n",
    "import seaborn as sns\n",
    "import json\n",
    "import yaml\n",
    "\n",
    "import pickle\n",
    "from plotly.subplots import make_subplots\n",
    "import plotly.graph_objects as go\n",
    "from plotly.offline import download_plotlyjs, init_notebook_mode, plot, iplot\n",
    "\n",
    "import matplotlib.pyplot as plt\n",
    "from itertools import cycle\n",
    "from typing import Tuple, List\n",
    "import pandas as pd\n",
    "from plotly.subplots import make_subplots\n",
    "import plotly.graph_objects as go\n",
    "from plotly.offline import download_plotlyjs, init_notebook_mode, plot, iplot\n",
    "\n",
    "import scipy\n",
    "from scipy.optimize import curve_fit\n",
    "\n",
    "pd.options.mode.chained_assignment = None  # default='warn'\n",
    "path = '/Users/ymdt/src/dreem_nap/'\n",
    "sys.path.append(path)\n",
    "from dreem_nap.study import *\n",
    "\n",
    "# Config\n",
    "mpl.rcParams['figure.dpi'] = 100 # the highest the resolution, the slowest the plotting\n",
    "mpl.use('agg')\n",
    "\n",
    "\n",
    "study = Study(df= pd.read_csv('/Users/ymdt/src/dreem_nap/ex/Lauren/lauren.csv'), \n",
    "              min_cov_bases=1000,\n",
    "              filter_by='study')\n",
    "\n",
    "study.get_df().head()\n"
   ]
  },
  {
   "cell_type": "code",
   "execution_count": 3,
   "metadata": {},
   "outputs": [
    {
     "data": {
      "application/vnd.plotly.v1+json": {
       "config": {
        "linkText": "Export to plot.ly",
        "plotlyServerURL": "https://plot.ly",
        "showLink": false
       },
       "data": [
        {
         "error_y": {
          "array": [
           0.00903747,
           0.00472372,
           0.00529645,
           0.00545484,
           0.00555756,
           0.00894816,
           0.01162629
          ],
          "arrayminus": [
           0.00797039,
           0.00362568,
           0.00420584,
           0.00436597,
           0.00446976,
           0.00788077,
           0.01056611
          ],
          "symmetric": false,
          "type": "data"
         },
         "hovertemplate": "<b>mut_rate: %{text[0]}<br><b>base: %{text[1]}<br><b>index: %{text[2]}<br><b>paired: %{text[3]}<br>",
         "marker": {
          "color": "red"
         },
         "name": "A",
         "text": [
          [
           0.0501972,
           "A",
           32,
           true
          ],
          [
           0.01147365,
           "A",
           36,
           false
          ],
          [
           0.01505916,
           "A",
           38,
           false
          ],
          [
           0.01613482,
           "A",
           21,
           false
          ],
          [
           0.01685192,
           "A",
           23,
           false
          ],
          [
           0.04912155,
           "A",
           26,
           true
          ],
          [
           0.0864109,
           "A",
           29,
           true
          ]
         ],
         "type": "bar",
         "x": [
          0,
          4,
          5,
          8,
          9,
          10,
          11
         ],
         "y": [
          0.0501972,
          0.01147365,
          0.01505916,
          0.01613482,
          0.01685192,
          0.04912155,
          0.0864109
         ]
        },
        {
         "error_y": {
          "array": [
           0.00713194,
           0.00673594,
           0.00529645,
           0.00447035,
           0.00453526,
           0.01228434
          ],
          "arrayminus": [
           0.00605628,
           0.00565782,
           0.00420584,
           0.00336831,
           0.00343429,
           0.01122544
          ],
          "symmetric": false,
          "type": "data"
         },
         "hovertemplate": "<b>mut_rate: %{text[0]}<br><b>base: %{text[1]}<br><b>index: %{text[2]}<br><b>paired: %{text[3]}<br>",
         "marker": {
          "color": "blue"
         },
         "name": "C",
         "text": [
          [
           0.02975977,
           "C",
           33,
           false
          ],
          [
           0.02617426,
           "C",
           34,
           false
          ],
          [
           0.01505916,
           "C",
           35,
           false
          ],
          [
           0.01003944,
           "C",
           41,
           true
          ],
          [
           0.01039799,
           "C",
           20,
           false
          ],
          [
           0.09716744,
           "C",
           31,
           true
          ]
         ],
         "type": "bar",
         "x": [
          1,
          2,
          3,
          6,
          7,
          12
         ],
         "y": [
          0.02975977,
          0.02617426,
          0.01505916,
          0.01003944,
          0.01039799,
          0.09716744
         ]
        }
       ],
       "layout": {
        "template": {
         "data": {
          "bar": [
           {
            "error_x": {
             "color": "#2a3f5f"
            },
            "error_y": {
             "color": "#2a3f5f"
            },
            "marker": {
             "line": {
              "color": "#E5ECF6",
              "width": 0.5
             },
             "pattern": {
              "fillmode": "overlay",
              "size": 10,
              "solidity": 0.2
             }
            },
            "type": "bar"
           }
          ],
          "barpolar": [
           {
            "marker": {
             "line": {
              "color": "#E5ECF6",
              "width": 0.5
             },
             "pattern": {
              "fillmode": "overlay",
              "size": 10,
              "solidity": 0.2
             }
            },
            "type": "barpolar"
           }
          ],
          "carpet": [
           {
            "aaxis": {
             "endlinecolor": "#2a3f5f",
             "gridcolor": "white",
             "linecolor": "white",
             "minorgridcolor": "white",
             "startlinecolor": "#2a3f5f"
            },
            "baxis": {
             "endlinecolor": "#2a3f5f",
             "gridcolor": "white",
             "linecolor": "white",
             "minorgridcolor": "white",
             "startlinecolor": "#2a3f5f"
            },
            "type": "carpet"
           }
          ],
          "choropleth": [
           {
            "colorbar": {
             "outlinewidth": 0,
             "ticks": ""
            },
            "type": "choropleth"
           }
          ],
          "contour": [
           {
            "colorbar": {
             "outlinewidth": 0,
             "ticks": ""
            },
            "colorscale": [
             [
              0,
              "#0d0887"
             ],
             [
              0.1111111111111111,
              "#46039f"
             ],
             [
              0.2222222222222222,
              "#7201a8"
             ],
             [
              0.3333333333333333,
              "#9c179e"
             ],
             [
              0.4444444444444444,
              "#bd3786"
             ],
             [
              0.5555555555555556,
              "#d8576b"
             ],
             [
              0.6666666666666666,
              "#ed7953"
             ],
             [
              0.7777777777777778,
              "#fb9f3a"
             ],
             [
              0.8888888888888888,
              "#fdca26"
             ],
             [
              1,
              "#f0f921"
             ]
            ],
            "type": "contour"
           }
          ],
          "contourcarpet": [
           {
            "colorbar": {
             "outlinewidth": 0,
             "ticks": ""
            },
            "type": "contourcarpet"
           }
          ],
          "heatmap": [
           {
            "colorbar": {
             "outlinewidth": 0,
             "ticks": ""
            },
            "colorscale": [
             [
              0,
              "#0d0887"
             ],
             [
              0.1111111111111111,
              "#46039f"
             ],
             [
              0.2222222222222222,
              "#7201a8"
             ],
             [
              0.3333333333333333,
              "#9c179e"
             ],
             [
              0.4444444444444444,
              "#bd3786"
             ],
             [
              0.5555555555555556,
              "#d8576b"
             ],
             [
              0.6666666666666666,
              "#ed7953"
             ],
             [
              0.7777777777777778,
              "#fb9f3a"
             ],
             [
              0.8888888888888888,
              "#fdca26"
             ],
             [
              1,
              "#f0f921"
             ]
            ],
            "type": "heatmap"
           }
          ],
          "heatmapgl": [
           {
            "colorbar": {
             "outlinewidth": 0,
             "ticks": ""
            },
            "colorscale": [
             [
              0,
              "#0d0887"
             ],
             [
              0.1111111111111111,
              "#46039f"
             ],
             [
              0.2222222222222222,
              "#7201a8"
             ],
             [
              0.3333333333333333,
              "#9c179e"
             ],
             [
              0.4444444444444444,
              "#bd3786"
             ],
             [
              0.5555555555555556,
              "#d8576b"
             ],
             [
              0.6666666666666666,
              "#ed7953"
             ],
             [
              0.7777777777777778,
              "#fb9f3a"
             ],
             [
              0.8888888888888888,
              "#fdca26"
             ],
             [
              1,
              "#f0f921"
             ]
            ],
            "type": "heatmapgl"
           }
          ],
          "histogram": [
           {
            "marker": {
             "pattern": {
              "fillmode": "overlay",
              "size": 10,
              "solidity": 0.2
             }
            },
            "type": "histogram"
           }
          ],
          "histogram2d": [
           {
            "colorbar": {
             "outlinewidth": 0,
             "ticks": ""
            },
            "colorscale": [
             [
              0,
              "#0d0887"
             ],
             [
              0.1111111111111111,
              "#46039f"
             ],
             [
              0.2222222222222222,
              "#7201a8"
             ],
             [
              0.3333333333333333,
              "#9c179e"
             ],
             [
              0.4444444444444444,
              "#bd3786"
             ],
             [
              0.5555555555555556,
              "#d8576b"
             ],
             [
              0.6666666666666666,
              "#ed7953"
             ],
             [
              0.7777777777777778,
              "#fb9f3a"
             ],
             [
              0.8888888888888888,
              "#fdca26"
             ],
             [
              1,
              "#f0f921"
             ]
            ],
            "type": "histogram2d"
           }
          ],
          "histogram2dcontour": [
           {
            "colorbar": {
             "outlinewidth": 0,
             "ticks": ""
            },
            "colorscale": [
             [
              0,
              "#0d0887"
             ],
             [
              0.1111111111111111,
              "#46039f"
             ],
             [
              0.2222222222222222,
              "#7201a8"
             ],
             [
              0.3333333333333333,
              "#9c179e"
             ],
             [
              0.4444444444444444,
              "#bd3786"
             ],
             [
              0.5555555555555556,
              "#d8576b"
             ],
             [
              0.6666666666666666,
              "#ed7953"
             ],
             [
              0.7777777777777778,
              "#fb9f3a"
             ],
             [
              0.8888888888888888,
              "#fdca26"
             ],
             [
              1,
              "#f0f921"
             ]
            ],
            "type": "histogram2dcontour"
           }
          ],
          "mesh3d": [
           {
            "colorbar": {
             "outlinewidth": 0,
             "ticks": ""
            },
            "type": "mesh3d"
           }
          ],
          "parcoords": [
           {
            "line": {
             "colorbar": {
              "outlinewidth": 0,
              "ticks": ""
             }
            },
            "type": "parcoords"
           }
          ],
          "pie": [
           {
            "automargin": true,
            "type": "pie"
           }
          ],
          "scatter": [
           {
            "fillpattern": {
             "fillmode": "overlay",
             "size": 10,
             "solidity": 0.2
            },
            "type": "scatter"
           }
          ],
          "scatter3d": [
           {
            "line": {
             "colorbar": {
              "outlinewidth": 0,
              "ticks": ""
             }
            },
            "marker": {
             "colorbar": {
              "outlinewidth": 0,
              "ticks": ""
             }
            },
            "type": "scatter3d"
           }
          ],
          "scattercarpet": [
           {
            "marker": {
             "colorbar": {
              "outlinewidth": 0,
              "ticks": ""
             }
            },
            "type": "scattercarpet"
           }
          ],
          "scattergeo": [
           {
            "marker": {
             "colorbar": {
              "outlinewidth": 0,
              "ticks": ""
             }
            },
            "type": "scattergeo"
           }
          ],
          "scattergl": [
           {
            "marker": {
             "colorbar": {
              "outlinewidth": 0,
              "ticks": ""
             }
            },
            "type": "scattergl"
           }
          ],
          "scattermapbox": [
           {
            "marker": {
             "colorbar": {
              "outlinewidth": 0,
              "ticks": ""
             }
            },
            "type": "scattermapbox"
           }
          ],
          "scatterpolar": [
           {
            "marker": {
             "colorbar": {
              "outlinewidth": 0,
              "ticks": ""
             }
            },
            "type": "scatterpolar"
           }
          ],
          "scatterpolargl": [
           {
            "marker": {
             "colorbar": {
              "outlinewidth": 0,
              "ticks": ""
             }
            },
            "type": "scatterpolargl"
           }
          ],
          "scatterternary": [
           {
            "marker": {
             "colorbar": {
              "outlinewidth": 0,
              "ticks": ""
             }
            },
            "type": "scatterternary"
           }
          ],
          "surface": [
           {
            "colorbar": {
             "outlinewidth": 0,
             "ticks": ""
            },
            "colorscale": [
             [
              0,
              "#0d0887"
             ],
             [
              0.1111111111111111,
              "#46039f"
             ],
             [
              0.2222222222222222,
              "#7201a8"
             ],
             [
              0.3333333333333333,
              "#9c179e"
             ],
             [
              0.4444444444444444,
              "#bd3786"
             ],
             [
              0.5555555555555556,
              "#d8576b"
             ],
             [
              0.6666666666666666,
              "#ed7953"
             ],
             [
              0.7777777777777778,
              "#fb9f3a"
             ],
             [
              0.8888888888888888,
              "#fdca26"
             ],
             [
              1,
              "#f0f921"
             ]
            ],
            "type": "surface"
           }
          ],
          "table": [
           {
            "cells": {
             "fill": {
              "color": "#EBF0F8"
             },
             "line": {
              "color": "white"
             }
            },
            "header": {
             "fill": {
              "color": "#C8D4E3"
             },
             "line": {
              "color": "white"
             }
            },
            "type": "table"
           }
          ]
         },
         "layout": {
          "annotationdefaults": {
           "arrowcolor": "#2a3f5f",
           "arrowhead": 0,
           "arrowwidth": 1
          },
          "autotypenumbers": "strict",
          "coloraxis": {
           "colorbar": {
            "outlinewidth": 0,
            "ticks": ""
           }
          },
          "colorscale": {
           "diverging": [
            [
             0,
             "#8e0152"
            ],
            [
             0.1,
             "#c51b7d"
            ],
            [
             0.2,
             "#de77ae"
            ],
            [
             0.3,
             "#f1b6da"
            ],
            [
             0.4,
             "#fde0ef"
            ],
            [
             0.5,
             "#f7f7f7"
            ],
            [
             0.6,
             "#e6f5d0"
            ],
            [
             0.7,
             "#b8e186"
            ],
            [
             0.8,
             "#7fbc41"
            ],
            [
             0.9,
             "#4d9221"
            ],
            [
             1,
             "#276419"
            ]
           ],
           "sequential": [
            [
             0,
             "#0d0887"
            ],
            [
             0.1111111111111111,
             "#46039f"
            ],
            [
             0.2222222222222222,
             "#7201a8"
            ],
            [
             0.3333333333333333,
             "#9c179e"
            ],
            [
             0.4444444444444444,
             "#bd3786"
            ],
            [
             0.5555555555555556,
             "#d8576b"
            ],
            [
             0.6666666666666666,
             "#ed7953"
            ],
            [
             0.7777777777777778,
             "#fb9f3a"
            ],
            [
             0.8888888888888888,
             "#fdca26"
            ],
            [
             1,
             "#f0f921"
            ]
           ],
           "sequentialminus": [
            [
             0,
             "#0d0887"
            ],
            [
             0.1111111111111111,
             "#46039f"
            ],
            [
             0.2222222222222222,
             "#7201a8"
            ],
            [
             0.3333333333333333,
             "#9c179e"
            ],
            [
             0.4444444444444444,
             "#bd3786"
            ],
            [
             0.5555555555555556,
             "#d8576b"
            ],
            [
             0.6666666666666666,
             "#ed7953"
            ],
            [
             0.7777777777777778,
             "#fb9f3a"
            ],
            [
             0.8888888888888888,
             "#fdca26"
            ],
            [
             1,
             "#f0f921"
            ]
           ]
          },
          "colorway": [
           "#636efa",
           "#EF553B",
           "#00cc96",
           "#ab63fa",
           "#FFA15A",
           "#19d3f3",
           "#FF6692",
           "#B6E880",
           "#FF97FF",
           "#FECB52"
          ],
          "font": {
           "color": "#2a3f5f"
          },
          "geo": {
           "bgcolor": "white",
           "lakecolor": "white",
           "landcolor": "#E5ECF6",
           "showlakes": true,
           "showland": true,
           "subunitcolor": "white"
          },
          "hoverlabel": {
           "align": "left"
          },
          "hovermode": "closest",
          "mapbox": {
           "style": "light"
          },
          "paper_bgcolor": "white",
          "plot_bgcolor": "#E5ECF6",
          "polar": {
           "angularaxis": {
            "gridcolor": "white",
            "linecolor": "white",
            "ticks": ""
           },
           "bgcolor": "#E5ECF6",
           "radialaxis": {
            "gridcolor": "white",
            "linecolor": "white",
            "ticks": ""
           }
          },
          "scene": {
           "xaxis": {
            "backgroundcolor": "#E5ECF6",
            "gridcolor": "white",
            "gridwidth": 2,
            "linecolor": "white",
            "showbackground": true,
            "ticks": "",
            "zerolinecolor": "white"
           },
           "yaxis": {
            "backgroundcolor": "#E5ECF6",
            "gridcolor": "white",
            "gridwidth": 2,
            "linecolor": "white",
            "showbackground": true,
            "ticks": "",
            "zerolinecolor": "white"
           },
           "zaxis": {
            "backgroundcolor": "#E5ECF6",
            "gridcolor": "white",
            "gridwidth": 2,
            "linecolor": "white",
            "showbackground": true,
            "ticks": "",
            "zerolinecolor": "white"
           }
          },
          "shapedefaults": {
           "line": {
            "color": "#2a3f5f"
           }
          },
          "ternary": {
           "aaxis": {
            "gridcolor": "white",
            "linecolor": "white",
            "ticks": ""
           },
           "baxis": {
            "gridcolor": "white",
            "linecolor": "white",
            "ticks": ""
           },
           "bgcolor": "#E5ECF6",
           "caxis": {
            "gridcolor": "white",
            "linecolor": "white",
            "ticks": ""
           }
          },
          "title": {
           "x": 0.05
          },
          "xaxis": {
           "automargin": true,
           "gridcolor": "white",
           "linecolor": "white",
           "ticks": "",
           "title": {
            "standoff": 15
           },
           "zerolinecolor": "white",
           "zerolinewidth": 2
          },
          "yaxis": {
           "automargin": true,
           "gridcolor": "white",
           "linecolor": "white",
           "ticks": "",
           "title": {
            "standoff": 15
           },
           "zerolinecolor": "white",
           "zerolinewidth": 2
          }
         }
        },
        "title": {
         "text": "470 - 3576-O-flank_1=bi6-cag-DB - 0 - 0"
        },
        "xaxis": {
         "autorange": true,
         "linecolor": "black",
         "linewidth": 1,
         "mirror": true,
         "tickangle": 90,
         "ticktext": [
          "(P) 32",
          "(U) 33",
          "(U) 34",
          "(U) 35",
          "(U) 36",
          "(U) 38",
          "(P) 41",
          "(U) 20",
          "(U) 21",
          "(U) 23",
          "(P) 26",
          "(P) 29",
          "(P) 31"
         ],
         "tickvals": [
          0,
          1,
          2,
          3,
          4,
          5,
          6,
          7,
          8,
          9,
          10,
          11,
          12
         ],
         "title": {
          "text": "Sequence"
         }
        },
        "yaxis": {
         "autorange": true,
         "gridcolor": "lightgray",
         "linecolor": "black",
         "linewidth": 1,
         "mirror": true,
         "range": [
          0,
          0.1
         ],
         "title": {
          "text": "Mutation rate"
         }
        }
       }
      }
     },
     "metadata": {},
     "output_type": "display_data"
    },
    {
     "data": {
      "text/plain": [
       "{'fig': Figure({\n",
       "     'data': [{'error_y': {'array': array([0.00903747, 0.00472372, 0.00529645, 0.00545484, 0.00555756, 0.00894816,\n",
       "                                           0.01162629]),\n",
       "                           'arrayminus': array([0.00797039, 0.00362568, 0.00420584, 0.00436597, 0.00446976, 0.00788077,\n",
       "                                                0.01056611]),\n",
       "                           'symmetric': False,\n",
       "                           'type': 'data'},\n",
       "               'hovertemplate': ('<b>mut_rate: %{text[0]}<br><b>' ... '}<br><b>paired: %{text[3]}<br>'),\n",
       "               'marker': {'color': 'red'},\n",
       "               'name': 'A',\n",
       "               'text': array([[0.0501972, 'A', 32, True],\n",
       "                              [0.01147365, 'A', 36, False],\n",
       "                              [0.01505916, 'A', 38, False],\n",
       "                              [0.01613482, 'A', 21, False],\n",
       "                              [0.01685192, 'A', 23, False],\n",
       "                              [0.04912155, 'A', 26, True],\n",
       "                              [0.0864109, 'A', 29, True]], dtype=object),\n",
       "               'type': 'bar',\n",
       "               'x': array([ 0,  4,  5,  8,  9, 10, 11]),\n",
       "               'y': array([0.0501972 , 0.01147365, 0.01505916, 0.01613482, 0.01685192, 0.04912155,\n",
       "                           0.0864109 ])},\n",
       "              {'error_y': {'array': array([0.00713194, 0.00673594, 0.00529645, 0.00447035, 0.00453526, 0.01228434]),\n",
       "                           'arrayminus': array([0.00605628, 0.00565782, 0.00420584, 0.00336831, 0.00343429, 0.01122544]),\n",
       "                           'symmetric': False,\n",
       "                           'type': 'data'},\n",
       "               'hovertemplate': ('<b>mut_rate: %{text[0]}<br><b>' ... '}<br><b>paired: %{text[3]}<br>'),\n",
       "               'marker': {'color': 'blue'},\n",
       "               'name': 'C',\n",
       "               'text': array([[0.02975977, 'C', 33, False],\n",
       "                              [0.02617426, 'C', 34, False],\n",
       "                              [0.01505916, 'C', 35, False],\n",
       "                              [0.01003944, 'C', 41, True],\n",
       "                              [0.01039799, 'C', 20, False],\n",
       "                              [0.09716744, 'C', 31, True]], dtype=object),\n",
       "               'type': 'bar',\n",
       "               'x': array([ 1,  2,  3,  6,  7, 12]),\n",
       "               'y': array([0.02975977, 0.02617426, 0.01505916, 0.01003944, 0.01039799, 0.09716744])}],\n",
       "     'layout': {'template': '...',\n",
       "                'title': {'text': '470 - 3576-O-flank_1=bi6-cag-DB - 0 - 0'},\n",
       "                'xaxis': {'autorange': True,\n",
       "                          'linecolor': 'black',\n",
       "                          'linewidth': 1,\n",
       "                          'mirror': True,\n",
       "                          'tickangle': 90,\n",
       "                          'ticktext': [(P) 32, (U) 33, (U) 34, (U) 35, (U) 36, (U)\n",
       "                                       38, (P) 41, (U) 20, (U) 21, (U) 23, (P) 26,\n",
       "                                       (P) 29, (P) 31],\n",
       "                          'tickvals': array([ 0,  1,  2,  3,  4,  5,  6,  7,  8,  9, 10, 11, 12]),\n",
       "                          'title': {'text': 'Sequence'}},\n",
       "                'yaxis': {'autorange': True,\n",
       "                          'gridcolor': 'lightgray',\n",
       "                          'linecolor': 'black',\n",
       "                          'linewidth': 1,\n",
       "                          'mirror': True,\n",
       "                          'range': [0, 0.1],\n",
       "                          'title': {'text': 'Mutation rate'}}}\n",
       " }),\n",
       " 'df': sample                                                              470\n",
       " construct                                     3576-O-flank_1=bi6-cag-DB\n",
       " sequence                                                  ACCCAACCAAAAC\n",
       " structure                                                 .))))).(((...\n",
       " data_type                                                           DMS\n",
       "                                             ...                        \n",
       " cluster                                                               0\n",
       " family                                                              bi6\n",
       " structure_selected                                        .))))).(((...\n",
       " deltaG_selected                                                   -17.7\n",
       " index_selected        [32, 33, 34, 35, 36, 38, 41, 20, 21, 23, 26, 2...\n",
       " Name: 13, Length: 92, dtype: object}"
      ]
     },
     "execution_count": 3,
     "metadata": {},
     "output_type": "execute_result"
    }
   ],
   "source": [
    "study.mutation_histogram(sample=470,\n",
    "                         construct='3576-O-flank_1=bi6-cag-DB',\n",
    "                         base_index=list(range(19,42)), \n",
    "                         base_type=['A','C'], )"
   ]
  },
  {
   "cell_type": "code",
   "execution_count": 3,
   "metadata": {},
   "outputs": [
    {
     "data": {
      "application/vnd.plotly.v1+json": {
       "config": {
        "linkText": "Export to plot.ly",
        "plotlyServerURL": "https://plot.ly",
        "showLink": false
       },
       "data": [
        {
         "hovertemplate": "<b>mut_rates: %{text[0]}<br><b>base: %{text[1]}<br><b>index: %{text[2]}<br><b>construct: %{text[3]}<br><b>deltaG: %{text[4]}<br>",
         "line": {
          "color": "green"
         },
         "mode": "markers",
         "name": "Paired ",
         "text": [
          [
           0.01838053,
           "C",
           33,
           "3114-O-flank_1=hp7-DB",
           -23.9
          ],
          [
           0.01142573,
           "C",
           34,
           "3114-O-flank_1=hp7-DB",
           -23.9
          ],
          [
           0.00645802,
           "C",
           35,
           "3114-O-flank_1=hp7-DB",
           -23.9
          ],
          [
           0.00844511,
           "A",
           36,
           "3114-O-flank_1=hp7-DB",
           -23.9
          ],
          [
           0.00844511,
           "A",
           38,
           "3114-O-flank_1=hp7-DB",
           -23.9
          ],
          [
           0.00596125,
           "C",
           20,
           "3114-O-flank_1=hp7-DB",
           -23.9
          ],
          [
           0.01142573,
           "A",
           21,
           "3114-O-flank_1=hp7-DB",
           -23.9
          ],
          [
           0.00894188,
           "A",
           23,
           "3114-O-flank_1=hp7-DB",
           -23.9
          ],
          [
           0.02756508,
           "C",
           33,
           "3124-O-flank_1=hp7-DB",
           -16.1
          ],
          [
           0.00535988,
           "C",
           34,
           "3124-O-flank_1=hp7-DB",
           -16.1
          ],
          [
           0.00803674,
           "C",
           35,
           "3124-O-flank_1=hp7-DB",
           -16.1
          ],
          [
           0.01569078,
           "A",
           36,
           "3124-O-flank_1=hp7-DB",
           -16.1
          ],
          [
           0.01875239,
           "A",
           38,
           "3124-O-flank_1=hp7-DB",
           -16.1
          ],
          [
           0.01149425,
           "C",
           20,
           "3124-O-flank_1=hp7-DB",
           -16.1
          ],
          [
           0.01302183,
           "A",
           21,
           "3124-O-flank_1=hp7-DB",
           -16.1
          ],
          [
           0.01646879,
           "A",
           23,
           "3124-O-flank_1=hp7-DB",
           -16.1
          ],
          [
           0.0166113,
           "C",
           33,
           "3118-O-flank_1=hp7-DB",
           -20.4
          ],
          [
           0.0055371,
           "C",
           34,
           "3118-O-flank_1=hp7-DB",
           -20.4
          ],
          [
           0.00885936,
           "C",
           35,
           "3118-O-flank_1=hp7-DB",
           -20.4
          ],
          [
           0.00996678,
           "A",
           36,
           "3118-O-flank_1=hp7-DB",
           -20.4
          ],
          [
           0.0110742,
           "A",
           38,
           "3118-O-flank_1=hp7-DB",
           -20.4
          ],
          [
           0.00498615,
           "C",
           20,
           "3118-O-flank_1=hp7-DB",
           -20.4
          ],
          [
           0.00775623,
           "A",
           21,
           "3118-O-flank_1=hp7-DB",
           -20.4
          ],
          [
           0.01551247,
           "A",
           23,
           "3118-O-flank_1=hp7-DB",
           -20.4
          ],
          [
           0.02344454,
           "C",
           33,
           "3125-O-flank_1=hp7-DB",
           -14
          ],
          [
           0.00946799,
           "C",
           34,
           "3125-O-flank_1=hp7-DB",
           -14
          ],
          [
           0.00946372,
           "C",
           35,
           "3125-O-flank_1=hp7-DB",
           -14
          ],
          [
           0.00766111,
           "A",
           36,
           "3125-O-flank_1=hp7-DB",
           -14
          ],
          [
           0.01892744,
           "A",
           38,
           "3125-O-flank_1=hp7-DB",
           -14
          ],
          [
           0.00405771,
           "C",
           20,
           "3125-O-flank_1=hp7-DB",
           -14
          ],
          [
           0.0135257,
           "A",
           21,
           "3125-O-flank_1=hp7-DB",
           -14
          ],
          [
           0.01307484,
           "A",
           23,
           "3125-O-flank_1=hp7-DB",
           -14
          ],
          [
           0.01902475,
           "C",
           33,
           "3123-O-flank_1=hp7-DB",
           -15.5
          ],
          [
           0.01200369,
           "C",
           34,
           "3123-O-flank_1=hp7-DB",
           -15.5
          ],
          [
           0.01089566,
           "C",
           35,
           "3123-O-flank_1=hp7-DB",
           -15.5
          ],
          [
           0.00941828,
           "A",
           36,
           "3123-O-flank_1=hp7-DB",
           -15.5
          ],
          [
           0.01181684,
           "A",
           38,
           "3123-O-flank_1=hp7-DB",
           -15.5
          ],
          [
           0.01144756,
           "C",
           41,
           "3123-O-flank_1=hp7-DB",
           -15.5
          ],
          [
           0.0088659,
           "C",
           20,
           "3123-O-flank_1=hp7-DB",
           -15.5
          ],
          [
           0.02031769,
           "A",
           21,
           "3123-O-flank_1=hp7-DB",
           -15.5
          ],
          [
           0.01680827,
           "A",
           23,
           "3123-O-flank_1=hp7-DB",
           -15.5
          ],
          [
           0.03347503,
           "C",
           33,
           "3121-O-flank_1=hp7-DB",
           -19.3
          ],
          [
           0.01433882,
           "C",
           34,
           "3121-O-flank_1=hp7-DB",
           -19.3
          ],
          [
           0.01380775,
           "C",
           35,
           "3121-O-flank_1=hp7-DB",
           -19.3
          ],
          [
           0.0244291,
           "A",
           36,
           "3121-O-flank_1=hp7-DB",
           -19.3
          ],
          [
           0.02389804,
           "A",
           38,
           "3121-O-flank_1=hp7-DB",
           -19.3
          ],
          [
           0.00584174,
           "C",
           41,
           "3121-O-flank_1=hp7-DB",
           -19.3
          ],
          [
           0.01859724,
           "C",
           20,
           "3121-O-flank_1=hp7-DB",
           -19.3
          ],
          [
           0.02550478,
           "A",
           21,
           "3121-O-flank_1=hp7-DB",
           -19.3
          ],
          [
           0.02709883,
           "A",
           23,
           "3121-O-flank_1=hp7-DB",
           -19.3
          ],
          [
           0.0230741057,
           "C",
           33,
           "3122-O-flank_1=hp7-DB",
           -18.1
          ],
          [
           0.00744719814,
           "C",
           34,
           "3122-O-flank_1=hp7-DB",
           -18.1
          ],
          [
           0.00781154644,
           "C",
           35,
           "3122-O-flank_1=hp7-DB",
           -18.1
          ],
          [
           0.0109849872,
           "A",
           36,
           "3122-O-flank_1=hp7-DB",
           -18.1
          ],
          [
           0.0140329469,
           "A",
           38,
           "3122-O-flank_1=hp7-DB",
           -18.1
          ],
          [
           0.0143990238,
           "C",
           41,
           "3122-O-flank_1=hp7-DB",
           -18.1
          ],
          [
           0.00720654696,
           "C",
           20,
           "3122-O-flank_1=hp7-DB",
           -18.1
          ],
          [
           0.0163674118,
           "A",
           21,
           "3122-O-flank_1=hp7-DB",
           -18.1
          ],
          [
           0.0147777235,
           "A",
           23,
           "3122-O-flank_1=hp7-DB",
           -18.1
          ]
         ],
         "type": "scatter",
         "x": [
          -23.9,
          -23.9,
          -23.9,
          -23.9,
          -23.9,
          -23.9,
          -23.9,
          -23.9,
          -16.1,
          -16.1,
          -16.1,
          -16.1,
          -16.1,
          -16.1,
          -16.1,
          -16.1,
          -20.4,
          -20.4,
          -20.4,
          -20.4,
          -20.4,
          -20.4,
          -20.4,
          -20.4,
          -14,
          -14,
          -14,
          -14,
          -14,
          -14,
          -14,
          -14,
          -15.5,
          -15.5,
          -15.5,
          -15.5,
          -15.5,
          -15.5,
          -15.5,
          -15.5,
          -15.5,
          -19.3,
          -19.3,
          -19.3,
          -19.3,
          -19.3,
          -19.3,
          -19.3,
          -19.3,
          -19.3,
          -18.1,
          -18.1,
          -18.1,
          -18.1,
          -18.1,
          -18.1,
          -18.1,
          -18.1,
          -18.1
         ],
         "y": [
          0.01838053,
          0.01142573,
          0.00645802,
          0.00844511,
          0.00844511,
          0.00596125,
          0.01142573,
          0.00894188,
          0.02756508,
          0.00535988,
          0.00803674,
          0.01569078,
          0.01875239,
          0.01149425,
          0.01302183,
          0.01646879,
          0.0166113,
          0.0055371,
          0.00885936,
          0.00996678,
          0.0110742,
          0.00498615,
          0.00775623,
          0.01551247,
          0.02344454,
          0.00946799,
          0.00946372,
          0.00766111,
          0.01892744,
          0.00405771,
          0.0135257,
          0.01307484,
          0.01902475,
          0.01200369,
          0.01089566,
          0.00941828,
          0.01181684,
          0.01144756,
          0.0088659,
          0.02031769,
          0.01680827,
          0.03347503,
          0.01433882,
          0.01380775,
          0.0244291,
          0.02389804,
          0.00584174,
          0.01859724,
          0.02550478,
          0.02709883,
          0.0230741057,
          0.00744719814,
          0.00781154644,
          0.0109849872,
          0.0140329469,
          0.0143990238,
          0.00720654696,
          0.0163674118,
          0.0147777235
         ]
        },
        {
         "line": {
          "color": "darkseagreen",
          "dash": "dash"
         },
         "marker": {
          "symbol": 0
         },
         "mode": "lines+markers",
         "name": "Paired : 0.00024*x + 0.01786\n R2=error",
         "type": "scatter",
         "x": [
          -23.9,
          -23.9,
          -23.9,
          -23.9,
          -23.9,
          -23.9,
          -23.9,
          -23.9,
          -20.4,
          -20.4,
          -20.4,
          -20.4,
          -20.4,
          -20.4,
          -20.4,
          -20.4,
          -19.3,
          -19.3,
          -19.3,
          -19.3,
          -19.3,
          -19.3,
          -19.3,
          -19.3,
          -19.3,
          -18.1,
          -18.1,
          -18.1,
          -18.1,
          -18.1,
          -18.1,
          -18.1,
          -18.1,
          -18.1,
          -16.1,
          -16.1,
          -16.1,
          -16.1,
          -16.1,
          -16.1,
          -16.1,
          -16.1,
          -15.5,
          -15.5,
          -15.5,
          -15.5,
          -15.5,
          -15.5,
          -15.5,
          -15.5,
          -15.5,
          -14,
          -14,
          -14,
          -14,
          -14,
          -14,
          -14,
          -14
         ],
         "y": [
          0.012189128138011316,
          0.012189128138011316,
          0.012189128138011316,
          0.012189128138011316,
          0.012189128138011316,
          0.012189128138011316,
          0.012189128138011316,
          0.012189128138011316,
          0.013019010785711178,
          0.013019010785711178,
          0.013019010785711178,
          0.013019010785711178,
          0.013019010785711178,
          0.013019010785711178,
          0.013019010785711178,
          0.013019010785711178,
          0.013279831046416847,
          0.013279831046416847,
          0.013279831046416847,
          0.013279831046416847,
          0.013279831046416847,
          0.013279831046416847,
          0.013279831046416847,
          0.013279831046416847,
          0.013279831046416847,
          0.013564362239913941,
          0.013564362239913941,
          0.013564362239913941,
          0.013564362239913941,
          0.013564362239913941,
          0.013564362239913941,
          0.013564362239913941,
          0.013564362239913941,
          0.013564362239913941,
          0.014038580895742434,
          0.014038580895742434,
          0.014038580895742434,
          0.014038580895742434,
          0.014038580895742434,
          0.014038580895742434,
          0.014038580895742434,
          0.014038580895742434,
          0.01418084649249098,
          0.01418084649249098,
          0.01418084649249098,
          0.01418084649249098,
          0.01418084649249098,
          0.01418084649249098,
          0.01418084649249098,
          0.01418084649249098,
          0.01418084649249098,
          0.01453651048436235,
          0.01453651048436235,
          0.01453651048436235,
          0.01453651048436235,
          0.01453651048436235,
          0.01453651048436235,
          0.01453651048436235,
          0.01453651048436235
         ]
        },
        {
         "line": {
          "color": "darkseagreen",
          "dash": "dash"
         },
         "marker": {
          "symbol": 1
         },
         "mode": "lines+markers",
         "name": "Paired : -5e-05*x**2 + -0.00177*x\n R2=error",
         "type": "scatter",
         "x": [
          -23.9,
          -23.9,
          -23.9,
          -23.9,
          -23.9,
          -23.9,
          -23.9,
          -23.9,
          -20.4,
          -20.4,
          -20.4,
          -20.4,
          -20.4,
          -20.4,
          -20.4,
          -20.4,
          -19.3,
          -19.3,
          -19.3,
          -19.3,
          -19.3,
          -19.3,
          -19.3,
          -19.3,
          -19.3,
          -18.1,
          -18.1,
          -18.1,
          -18.1,
          -18.1,
          -18.1,
          -18.1,
          -18.1,
          -18.1,
          -16.1,
          -16.1,
          -16.1,
          -16.1,
          -16.1,
          -16.1,
          -16.1,
          -16.1,
          -15.5,
          -15.5,
          -15.5,
          -15.5,
          -15.5,
          -15.5,
          -15.5,
          -15.5,
          -15.5,
          -14,
          -14,
          -14,
          -14,
          -14,
          -14,
          -14,
          -14
         ],
         "y": [
          0.011035666732184556,
          0.011035666732184556,
          0.011035666732184556,
          0.011035666732184556,
          0.011035666732184556,
          0.011035666732184556,
          0.011035666732184556,
          0.011035666732184556,
          0.013329492654994935,
          0.013329492654994935,
          0.013329492654994935,
          0.013329492654994935,
          0.013329492654994935,
          0.013329492654994935,
          0.013329492654994935,
          0.013329492654994935,
          0.01377331925605317,
          0.01377331925605317,
          0.01377331925605317,
          0.01377331925605317,
          0.01377331925605317,
          0.01377331925605317,
          0.01377331925605317,
          0.01377331925605317,
          0.01377331925605317,
          0.01410635366582252,
          0.01410635366582252,
          0.01410635366582252,
          0.01410635366582252,
          0.01410635366582252,
          0.01410635366582252,
          0.01410635366582252,
          0.01410635366582252,
          0.01410635366582252,
          0.014310941301554397,
          0.014310941301554397,
          0.014310941301554397,
          0.014310941301554397,
          0.014310941301554397,
          0.014310941301554397,
          0.014310941301554397,
          0.014310941301554397,
          0.0142868905995148,
          0.0142868905995148,
          0.0142868905995148,
          0.0142868905995148,
          0.0142868905995148,
          0.0142868905995148,
          0.0142868905995148,
          0.0142868905995148,
          0.0142868905995148,
          0.014054267032113672,
          0.014054267032113672,
          0.014054267032113672,
          0.014054267032113672,
          0.014054267032113672,
          0.014054267032113672,
          0.014054267032113672,
          0.014054267032113672
         ]
        },
        {
         "hovertemplate": "<b>mut_rates: %{text[0]}<br><b>base: %{text[1]}<br><b>index: %{text[2]}<br><b>construct: %{text[3]}<br><b>deltaG: %{text[4]}<br>",
         "line": {
          "color": "red"
         },
         "mode": "markers",
         "name": "Unpaired ",
         "text": [
          [
           0.07004471,
           "A",
           32,
           "3114-O-flank_1=hp7-DB",
           -23.9
          ],
          [
           0.00844511,
           "C",
           41,
           "3114-O-flank_1=hp7-DB",
           -23.9
          ],
          [
           0.05017387,
           "A",
           26,
           "3114-O-flank_1=hp7-DB",
           -23.9
          ],
          [
           0.10183805,
           "A",
           29,
           "3114-O-flank_1=hp7-DB",
           -23.9
          ],
          [
           0.09538003,
           "C",
           31,
           "3114-O-flank_1=hp7-DB",
           -23.9
          ],
          [
           0.06546708,
           "A",
           32,
           "3124-O-flank_1=hp7-DB",
           -16.1
          ],
          [
           0.00841622,
           "C",
           41,
           "3124-O-flank_1=hp7-DB",
           -16.1
          ],
          [
           0.04364472,
           "A",
           26,
           "3124-O-flank_1=hp7-DB",
           -16.1
          ],
          [
           0.08039816,
           "A",
           29,
           "3124-O-flank_1=hp7-DB",
           -16.1
          ],
          [
           0.08882083,
           "C",
           31,
           "3124-O-flank_1=hp7-DB",
           -16.1
          ],
          [
           0.06090808,
           "A",
           32,
           "3118-O-flank_1=hp7-DB",
           -20.4
          ],
          [
           0.01162791,
           "C",
           41,
           "3118-O-flank_1=hp7-DB",
           -20.4
          ],
          [
           0.04651163,
           "A",
           26,
           "3118-O-flank_1=hp7-DB",
           -20.4
          ],
          [
           0.07751938,
           "A",
           29,
           "3118-O-flank_1=hp7-DB",
           -20.4
          ],
          [
           0.09966777,
           "C",
           31,
           "3118-O-flank_1=hp7-DB",
           -20.4
          ],
          [
           0.06492335,
           "A",
           32,
           "3125-O-flank_1=hp7-DB",
           -14
          ],
          [
           0.0126183,
           "C",
           41,
           "3125-O-flank_1=hp7-DB",
           -14
          ],
          [
           0.04733995,
           "A",
           26,
           "3125-O-flank_1=hp7-DB",
           -14
          ],
          [
           0.08791704,
           "A",
           29,
           "3125-O-flank_1=hp7-DB",
           -14
          ],
          [
           0.09513075,
           "C",
           31,
           "3125-O-flank_1=hp7-DB",
           -14
          ],
          [
           0.06815663,
           "A",
           32,
           "3123-O-flank_1=hp7-DB",
           -15.5
          ],
          [
           0.0554119,
           "A",
           26,
           "3123-O-flank_1=hp7-DB",
           -15.5
          ],
          [
           0.08422608,
           "A",
           29,
           "3123-O-flank_1=hp7-DB",
           -15.5
          ],
          [
           0.0847802,
           "C",
           31,
           "3123-O-flank_1=hp7-DB",
           -15.5
          ],
          [
           0.04994687,
           "A",
           32,
           "3121-O-flank_1=hp7-DB",
           -19.3
          ],
          [
           0.04250797,
           "A",
           26,
           "3121-O-flank_1=hp7-DB",
           -19.3
          ],
          [
           0.05100956,
           "A",
           29,
           "3121-O-flank_1=hp7-DB",
           -19.3
          ],
          [
           0.05951116,
           "C",
           31,
           "3121-O-flank_1=hp7-DB",
           -19.3
          ],
          [
           0.0636219319,
           "A",
           32,
           "3122-O-flank_1=hp7-DB",
           -18.1
          ],
          [
           0.0505556234,
           "A",
           26,
           "3122-O-flank_1=hp7-DB",
           -18.1
          ],
          [
           0.0890218586,
           "A",
           29,
           "3122-O-flank_1=hp7-DB",
           -18.1
          ],
          [
           0.0835266821,
           "C",
           31,
           "3122-O-flank_1=hp7-DB",
           -18.1
          ]
         ],
         "type": "scatter",
         "x": [
          -23.9,
          -23.9,
          -23.9,
          -23.9,
          -23.9,
          -16.1,
          -16.1,
          -16.1,
          -16.1,
          -16.1,
          -20.4,
          -20.4,
          -20.4,
          -20.4,
          -20.4,
          -14,
          -14,
          -14,
          -14,
          -14,
          -15.5,
          -15.5,
          -15.5,
          -15.5,
          -19.3,
          -19.3,
          -19.3,
          -19.3,
          -18.1,
          -18.1,
          -18.1,
          -18.1
         ],
         "y": [
          0.07004471,
          0.00844511,
          0.05017387,
          0.10183805,
          0.09538003,
          0.06546708,
          0.00841622,
          0.04364472,
          0.08039816,
          0.08882083,
          0.06090808,
          0.01162791,
          0.04651163,
          0.07751938,
          0.09966777,
          0.06492335,
          0.0126183,
          0.04733995,
          0.08791704,
          0.09513075,
          0.06815663,
          0.0554119,
          0.08422608,
          0.0847802,
          0.04994687,
          0.04250797,
          0.05100956,
          0.05951116,
          0.0636219319,
          0.0505556234,
          0.0890218586,
          0.0835266821
         ]
        },
        {
         "line": {
          "color": "crimson",
          "dash": "dash"
         },
         "marker": {
          "symbol": 0
         },
         "mode": "lines+markers",
         "name": "Unpaired : 0.00017*x + 0.06559\n R2=error",
         "type": "scatter",
         "x": [
          -23.9,
          -23.9,
          -23.9,
          -23.9,
          -23.9,
          -20.4,
          -20.4,
          -20.4,
          -20.4,
          -20.4,
          -19.3,
          -19.3,
          -19.3,
          -19.3,
          -18.1,
          -18.1,
          -18.1,
          -18.1,
          -16.1,
          -16.1,
          -16.1,
          -16.1,
          -16.1,
          -15.5,
          -15.5,
          -15.5,
          -15.5,
          -14,
          -14,
          -14,
          -14,
          -14
         ],
         "y": [
          0.06150326388170935,
          0.06150326388170935,
          0.06150326388170935,
          0.06150326388170935,
          0.06150326388170935,
          0.06210137296696247,
          0.06210137296696247,
          0.06210137296696247,
          0.06210137296696247,
          0.06210137296696247,
          0.06228935010804202,
          0.06228935010804202,
          0.06228935010804202,
          0.06228935010804202,
          0.0624944160801288,
          0.0624944160801288,
          0.0624944160801288,
          0.0624944160801288,
          0.06283619270027344,
          0.06283619270027344,
          0.06283619270027344,
          0.06283619270027344,
          0.06283619270027344,
          0.06293872568631684,
          0.06293872568631684,
          0.06293872568631684,
          0.06293872568631684,
          0.06319505815142532,
          0.06319505815142532,
          0.06319505815142532,
          0.06319505815142532,
          0.06319505815142532
         ]
        },
        {
         "line": {
          "color": "crimson",
          "dash": "dash"
         },
         "marker": {
          "symbol": 1
         },
         "mode": "lines+markers",
         "name": "Unpaired : -0.00018*x**2 + -0.0068*x\n R2=error",
         "type": "scatter",
         "x": [
          -23.9,
          -23.9,
          -23.9,
          -23.9,
          -23.9,
          -20.4,
          -20.4,
          -20.4,
          -20.4,
          -20.4,
          -19.3,
          -19.3,
          -19.3,
          -19.3,
          -18.1,
          -18.1,
          -18.1,
          -18.1,
          -16.1,
          -16.1,
          -16.1,
          -16.1,
          -16.1,
          -15.5,
          -15.5,
          -15.5,
          -15.5,
          -14,
          -14,
          -14,
          -14,
          -14
         ],
         "y": [
          0.059858109029348266,
          0.059858109029348266,
          0.059858109029348266,
          0.059858109029348266,
          0.059858109029348266,
          0.06392176486074168,
          0.06392176486074168,
          0.06392176486074168,
          0.06392176486074168,
          0.06392176486074168,
          0.0642897092459872,
          0.0642897092459872,
          0.0642897092459872,
          0.0642897092459872,
          0.06419517334425402,
          0.06419517334425402,
          0.06419517334425402,
          0.06419517334425402,
          0.06288763141748945,
          0.06288763141748945,
          0.06288763141748945,
          0.06288763141748945,
          0.06288763141748945,
          0.06221506070489031,
          0.06221506070489031,
          0.06221506070489031,
          0.06221506070489031,
          0.05996762711320353,
          0.05996762711320353,
          0.05996762711320353,
          0.05996762711320353,
          0.05996762711320353
         ]
        }
       ],
       "layout": {
        "template": {
         "data": {
          "bar": [
           {
            "error_x": {
             "color": "#2a3f5f"
            },
            "error_y": {
             "color": "#2a3f5f"
            },
            "marker": {
             "line": {
              "color": "#E5ECF6",
              "width": 0.5
             },
             "pattern": {
              "fillmode": "overlay",
              "size": 10,
              "solidity": 0.2
             }
            },
            "type": "bar"
           }
          ],
          "barpolar": [
           {
            "marker": {
             "line": {
              "color": "#E5ECF6",
              "width": 0.5
             },
             "pattern": {
              "fillmode": "overlay",
              "size": 10,
              "solidity": 0.2
             }
            },
            "type": "barpolar"
           }
          ],
          "carpet": [
           {
            "aaxis": {
             "endlinecolor": "#2a3f5f",
             "gridcolor": "white",
             "linecolor": "white",
             "minorgridcolor": "white",
             "startlinecolor": "#2a3f5f"
            },
            "baxis": {
             "endlinecolor": "#2a3f5f",
             "gridcolor": "white",
             "linecolor": "white",
             "minorgridcolor": "white",
             "startlinecolor": "#2a3f5f"
            },
            "type": "carpet"
           }
          ],
          "choropleth": [
           {
            "colorbar": {
             "outlinewidth": 0,
             "ticks": ""
            },
            "type": "choropleth"
           }
          ],
          "contour": [
           {
            "colorbar": {
             "outlinewidth": 0,
             "ticks": ""
            },
            "colorscale": [
             [
              0,
              "#0d0887"
             ],
             [
              0.1111111111111111,
              "#46039f"
             ],
             [
              0.2222222222222222,
              "#7201a8"
             ],
             [
              0.3333333333333333,
              "#9c179e"
             ],
             [
              0.4444444444444444,
              "#bd3786"
             ],
             [
              0.5555555555555556,
              "#d8576b"
             ],
             [
              0.6666666666666666,
              "#ed7953"
             ],
             [
              0.7777777777777778,
              "#fb9f3a"
             ],
             [
              0.8888888888888888,
              "#fdca26"
             ],
             [
              1,
              "#f0f921"
             ]
            ],
            "type": "contour"
           }
          ],
          "contourcarpet": [
           {
            "colorbar": {
             "outlinewidth": 0,
             "ticks": ""
            },
            "type": "contourcarpet"
           }
          ],
          "heatmap": [
           {
            "colorbar": {
             "outlinewidth": 0,
             "ticks": ""
            },
            "colorscale": [
             [
              0,
              "#0d0887"
             ],
             [
              0.1111111111111111,
              "#46039f"
             ],
             [
              0.2222222222222222,
              "#7201a8"
             ],
             [
              0.3333333333333333,
              "#9c179e"
             ],
             [
              0.4444444444444444,
              "#bd3786"
             ],
             [
              0.5555555555555556,
              "#d8576b"
             ],
             [
              0.6666666666666666,
              "#ed7953"
             ],
             [
              0.7777777777777778,
              "#fb9f3a"
             ],
             [
              0.8888888888888888,
              "#fdca26"
             ],
             [
              1,
              "#f0f921"
             ]
            ],
            "type": "heatmap"
           }
          ],
          "heatmapgl": [
           {
            "colorbar": {
             "outlinewidth": 0,
             "ticks": ""
            },
            "colorscale": [
             [
              0,
              "#0d0887"
             ],
             [
              0.1111111111111111,
              "#46039f"
             ],
             [
              0.2222222222222222,
              "#7201a8"
             ],
             [
              0.3333333333333333,
              "#9c179e"
             ],
             [
              0.4444444444444444,
              "#bd3786"
             ],
             [
              0.5555555555555556,
              "#d8576b"
             ],
             [
              0.6666666666666666,
              "#ed7953"
             ],
             [
              0.7777777777777778,
              "#fb9f3a"
             ],
             [
              0.8888888888888888,
              "#fdca26"
             ],
             [
              1,
              "#f0f921"
             ]
            ],
            "type": "heatmapgl"
           }
          ],
          "histogram": [
           {
            "marker": {
             "pattern": {
              "fillmode": "overlay",
              "size": 10,
              "solidity": 0.2
             }
            },
            "type": "histogram"
           }
          ],
          "histogram2d": [
           {
            "colorbar": {
             "outlinewidth": 0,
             "ticks": ""
            },
            "colorscale": [
             [
              0,
              "#0d0887"
             ],
             [
              0.1111111111111111,
              "#46039f"
             ],
             [
              0.2222222222222222,
              "#7201a8"
             ],
             [
              0.3333333333333333,
              "#9c179e"
             ],
             [
              0.4444444444444444,
              "#bd3786"
             ],
             [
              0.5555555555555556,
              "#d8576b"
             ],
             [
              0.6666666666666666,
              "#ed7953"
             ],
             [
              0.7777777777777778,
              "#fb9f3a"
             ],
             [
              0.8888888888888888,
              "#fdca26"
             ],
             [
              1,
              "#f0f921"
             ]
            ],
            "type": "histogram2d"
           }
          ],
          "histogram2dcontour": [
           {
            "colorbar": {
             "outlinewidth": 0,
             "ticks": ""
            },
            "colorscale": [
             [
              0,
              "#0d0887"
             ],
             [
              0.1111111111111111,
              "#46039f"
             ],
             [
              0.2222222222222222,
              "#7201a8"
             ],
             [
              0.3333333333333333,
              "#9c179e"
             ],
             [
              0.4444444444444444,
              "#bd3786"
             ],
             [
              0.5555555555555556,
              "#d8576b"
             ],
             [
              0.6666666666666666,
              "#ed7953"
             ],
             [
              0.7777777777777778,
              "#fb9f3a"
             ],
             [
              0.8888888888888888,
              "#fdca26"
             ],
             [
              1,
              "#f0f921"
             ]
            ],
            "type": "histogram2dcontour"
           }
          ],
          "mesh3d": [
           {
            "colorbar": {
             "outlinewidth": 0,
             "ticks": ""
            },
            "type": "mesh3d"
           }
          ],
          "parcoords": [
           {
            "line": {
             "colorbar": {
              "outlinewidth": 0,
              "ticks": ""
             }
            },
            "type": "parcoords"
           }
          ],
          "pie": [
           {
            "automargin": true,
            "type": "pie"
           }
          ],
          "scatter": [
           {
            "fillpattern": {
             "fillmode": "overlay",
             "size": 10,
             "solidity": 0.2
            },
            "type": "scatter"
           }
          ],
          "scatter3d": [
           {
            "line": {
             "colorbar": {
              "outlinewidth": 0,
              "ticks": ""
             }
            },
            "marker": {
             "colorbar": {
              "outlinewidth": 0,
              "ticks": ""
             }
            },
            "type": "scatter3d"
           }
          ],
          "scattercarpet": [
           {
            "marker": {
             "colorbar": {
              "outlinewidth": 0,
              "ticks": ""
             }
            },
            "type": "scattercarpet"
           }
          ],
          "scattergeo": [
           {
            "marker": {
             "colorbar": {
              "outlinewidth": 0,
              "ticks": ""
             }
            },
            "type": "scattergeo"
           }
          ],
          "scattergl": [
           {
            "marker": {
             "colorbar": {
              "outlinewidth": 0,
              "ticks": ""
             }
            },
            "type": "scattergl"
           }
          ],
          "scattermapbox": [
           {
            "marker": {
             "colorbar": {
              "outlinewidth": 0,
              "ticks": ""
             }
            },
            "type": "scattermapbox"
           }
          ],
          "scatterpolar": [
           {
            "marker": {
             "colorbar": {
              "outlinewidth": 0,
              "ticks": ""
             }
            },
            "type": "scatterpolar"
           }
          ],
          "scatterpolargl": [
           {
            "marker": {
             "colorbar": {
              "outlinewidth": 0,
              "ticks": ""
             }
            },
            "type": "scatterpolargl"
           }
          ],
          "scatterternary": [
           {
            "marker": {
             "colorbar": {
              "outlinewidth": 0,
              "ticks": ""
             }
            },
            "type": "scatterternary"
           }
          ],
          "surface": [
           {
            "colorbar": {
             "outlinewidth": 0,
             "ticks": ""
            },
            "colorscale": [
             [
              0,
              "#0d0887"
             ],
             [
              0.1111111111111111,
              "#46039f"
             ],
             [
              0.2222222222222222,
              "#7201a8"
             ],
             [
              0.3333333333333333,
              "#9c179e"
             ],
             [
              0.4444444444444444,
              "#bd3786"
             ],
             [
              0.5555555555555556,
              "#d8576b"
             ],
             [
              0.6666666666666666,
              "#ed7953"
             ],
             [
              0.7777777777777778,
              "#fb9f3a"
             ],
             [
              0.8888888888888888,
              "#fdca26"
             ],
             [
              1,
              "#f0f921"
             ]
            ],
            "type": "surface"
           }
          ],
          "table": [
           {
            "cells": {
             "fill": {
              "color": "#EBF0F8"
             },
             "line": {
              "color": "white"
             }
            },
            "header": {
             "fill": {
              "color": "#C8D4E3"
             },
             "line": {
              "color": "white"
             }
            },
            "type": "table"
           }
          ]
         },
         "layout": {
          "annotationdefaults": {
           "arrowcolor": "#2a3f5f",
           "arrowhead": 0,
           "arrowwidth": 1
          },
          "autotypenumbers": "strict",
          "coloraxis": {
           "colorbar": {
            "outlinewidth": 0,
            "ticks": ""
           }
          },
          "colorscale": {
           "diverging": [
            [
             0,
             "#8e0152"
            ],
            [
             0.1,
             "#c51b7d"
            ],
            [
             0.2,
             "#de77ae"
            ],
            [
             0.3,
             "#f1b6da"
            ],
            [
             0.4,
             "#fde0ef"
            ],
            [
             0.5,
             "#f7f7f7"
            ],
            [
             0.6,
             "#e6f5d0"
            ],
            [
             0.7,
             "#b8e186"
            ],
            [
             0.8,
             "#7fbc41"
            ],
            [
             0.9,
             "#4d9221"
            ],
            [
             1,
             "#276419"
            ]
           ],
           "sequential": [
            [
             0,
             "#0d0887"
            ],
            [
             0.1111111111111111,
             "#46039f"
            ],
            [
             0.2222222222222222,
             "#7201a8"
            ],
            [
             0.3333333333333333,
             "#9c179e"
            ],
            [
             0.4444444444444444,
             "#bd3786"
            ],
            [
             0.5555555555555556,
             "#d8576b"
            ],
            [
             0.6666666666666666,
             "#ed7953"
            ],
            [
             0.7777777777777778,
             "#fb9f3a"
            ],
            [
             0.8888888888888888,
             "#fdca26"
            ],
            [
             1,
             "#f0f921"
            ]
           ],
           "sequentialminus": [
            [
             0,
             "#0d0887"
            ],
            [
             0.1111111111111111,
             "#46039f"
            ],
            [
             0.2222222222222222,
             "#7201a8"
            ],
            [
             0.3333333333333333,
             "#9c179e"
            ],
            [
             0.4444444444444444,
             "#bd3786"
            ],
            [
             0.5555555555555556,
             "#d8576b"
            ],
            [
             0.6666666666666666,
             "#ed7953"
            ],
            [
             0.7777777777777778,
             "#fb9f3a"
            ],
            [
             0.8888888888888888,
             "#fdca26"
            ],
            [
             1,
             "#f0f921"
            ]
           ]
          },
          "colorway": [
           "#636efa",
           "#EF553B",
           "#00cc96",
           "#ab63fa",
           "#FFA15A",
           "#19d3f3",
           "#FF6692",
           "#B6E880",
           "#FF97FF",
           "#FECB52"
          ],
          "font": {
           "color": "#2a3f5f"
          },
          "geo": {
           "bgcolor": "white",
           "lakecolor": "white",
           "landcolor": "#E5ECF6",
           "showlakes": true,
           "showland": true,
           "subunitcolor": "white"
          },
          "hoverlabel": {
           "align": "left"
          },
          "hovermode": "closest",
          "mapbox": {
           "style": "light"
          },
          "paper_bgcolor": "white",
          "plot_bgcolor": "#E5ECF6",
          "polar": {
           "angularaxis": {
            "gridcolor": "white",
            "linecolor": "white",
            "ticks": ""
           },
           "bgcolor": "#E5ECF6",
           "radialaxis": {
            "gridcolor": "white",
            "linecolor": "white",
            "ticks": ""
           }
          },
          "scene": {
           "xaxis": {
            "backgroundcolor": "#E5ECF6",
            "gridcolor": "white",
            "gridwidth": 2,
            "linecolor": "white",
            "showbackground": true,
            "ticks": "",
            "zerolinecolor": "white"
           },
           "yaxis": {
            "backgroundcolor": "#E5ECF6",
            "gridcolor": "white",
            "gridwidth": 2,
            "linecolor": "white",
            "showbackground": true,
            "ticks": "",
            "zerolinecolor": "white"
           },
           "zaxis": {
            "backgroundcolor": "#E5ECF6",
            "gridcolor": "white",
            "gridwidth": 2,
            "linecolor": "white",
            "showbackground": true,
            "ticks": "",
            "zerolinecolor": "white"
           }
          },
          "shapedefaults": {
           "line": {
            "color": "#2a3f5f"
           }
          },
          "ternary": {
           "aaxis": {
            "gridcolor": "white",
            "linecolor": "white",
            "ticks": ""
           },
           "baxis": {
            "gridcolor": "white",
            "linecolor": "white",
            "ticks": ""
           },
           "bgcolor": "#E5ECF6",
           "caxis": {
            "gridcolor": "white",
            "linecolor": "white",
            "ticks": ""
           }
          },
          "title": {
           "x": 0.05
          },
          "xaxis": {
           "automargin": true,
           "gridcolor": "white",
           "linecolor": "white",
           "ticks": "",
           "title": {
            "standoff": 15
           },
           "zerolinecolor": "white",
           "zerolinewidth": 2
          },
          "yaxis": {
           "automargin": true,
           "gridcolor": "white",
           "linecolor": "white",
           "ticks": "",
           "title": {
            "standoff": 15
           },
           "zerolinecolor": "white",
           "zerolinewidth": 2
          }
         }
        },
        "title": {
         "text": "Mutation rates of paired / unpaired residues vs the predicted energy of the molecule"
        },
        "xaxis": {
         "ticklen": 5,
         "title": {
          "text": "DeltaG"
         },
         "zeroline": false
        },
        "yaxis": {
         "ticklen": 5,
         "title": {
          "text": "Mutation rate "
         },
         "zeroline": false
        }
       }
      }
     },
     "metadata": {},
     "output_type": "display_data"
    },
    {
     "data": {
      "text/plain": [
       "{'fig': {'data': [Scatter({\n",
       "       'hovertemplate': ('<b>mut_rates: %{text[0]}<br><b' ... '}<br><b>deltaG: %{text[4]}<br>'),\n",
       "       'line': {'color': 'green'},\n",
       "       'mode': 'markers',\n",
       "       'name': 'Paired ',\n",
       "       'text': array([[0.01838053, 'C', 33, '3114-O-flank_1=hp7-DB', -23.9],\n",
       "                      [0.01142573, 'C', 34, '3114-O-flank_1=hp7-DB', -23.9],\n",
       "                      [0.00645802, 'C', 35, '3114-O-flank_1=hp7-DB', -23.9],\n",
       "                      ...,\n",
       "                      [0.00720654696, 'C', 20, '3122-O-flank_1=hp7-DB', -18.1],\n",
       "                      [0.0163674118, 'A', 21, '3122-O-flank_1=hp7-DB', -18.1],\n",
       "                      [0.0147777235, 'A', 23, '3122-O-flank_1=hp7-DB', -18.1]], dtype=object),\n",
       "       'x': array([-23.9, -23.9, -23.9, -23.9, -23.9, -23.9, -23.9, -23.9, -16.1, -16.1,\n",
       "                   -16.1, -16.1, -16.1, -16.1, -16.1, -16.1, -20.4, -20.4, -20.4, -20.4,\n",
       "                   -20.4, -20.4, -20.4, -20.4, -14. , -14. , -14. , -14. , -14. , -14. ,\n",
       "                   -14. , -14. , -15.5, -15.5, -15.5, -15.5, -15.5, -15.5, -15.5, -15.5,\n",
       "                   -15.5, -19.3, -19.3, -19.3, -19.3, -19.3, -19.3, -19.3, -19.3, -19.3,\n",
       "                   -18.1, -18.1, -18.1, -18.1, -18.1, -18.1, -18.1, -18.1, -18.1]),\n",
       "       'y': array([0.01838053, 0.01142573, 0.00645802, 0.00844511, 0.00844511, 0.00596125,\n",
       "                   0.01142573, 0.00894188, 0.02756508, 0.00535988, 0.00803674, 0.01569078,\n",
       "                   0.01875239, 0.01149425, 0.01302183, 0.01646879, 0.0166113 , 0.0055371 ,\n",
       "                   0.00885936, 0.00996678, 0.0110742 , 0.00498615, 0.00775623, 0.01551247,\n",
       "                   0.02344454, 0.00946799, 0.00946372, 0.00766111, 0.01892744, 0.00405771,\n",
       "                   0.0135257 , 0.01307484, 0.01902475, 0.01200369, 0.01089566, 0.00941828,\n",
       "                   0.01181684, 0.01144756, 0.0088659 , 0.02031769, 0.01680827, 0.03347503,\n",
       "                   0.01433882, 0.01380775, 0.0244291 , 0.02389804, 0.00584174, 0.01859724,\n",
       "                   0.02550478, 0.02709883, 0.02307411, 0.0074472 , 0.00781155, 0.01098499,\n",
       "                   0.01403295, 0.01439902, 0.00720655, 0.01636741, 0.01477772])\n",
       "   }),\n",
       "   Scatter({\n",
       "       'line': {'color': 'darkseagreen', 'dash': 'dash'},\n",
       "       'marker': {'symbol': 0},\n",
       "       'mode': 'lines+markers',\n",
       "       'name': 'Paired : 0.00024*x + 0.01786\\n R2=error',\n",
       "       'x': array([-23.9, -23.9, -23.9, -23.9, -23.9, -23.9, -23.9, -23.9, -20.4, -20.4,\n",
       "                   -20.4, -20.4, -20.4, -20.4, -20.4, -20.4, -19.3, -19.3, -19.3, -19.3,\n",
       "                   -19.3, -19.3, -19.3, -19.3, -19.3, -18.1, -18.1, -18.1, -18.1, -18.1,\n",
       "                   -18.1, -18.1, -18.1, -18.1, -16.1, -16.1, -16.1, -16.1, -16.1, -16.1,\n",
       "                   -16.1, -16.1, -15.5, -15.5, -15.5, -15.5, -15.5, -15.5, -15.5, -15.5,\n",
       "                   -15.5, -14. , -14. , -14. , -14. , -14. , -14. , -14. , -14. ]),\n",
       "       'y': array([0.01218913, 0.01218913, 0.01218913, 0.01218913, 0.01218913, 0.01218913,\n",
       "                   0.01218913, 0.01218913, 0.01301901, 0.01301901, 0.01301901, 0.01301901,\n",
       "                   0.01301901, 0.01301901, 0.01301901, 0.01301901, 0.01327983, 0.01327983,\n",
       "                   0.01327983, 0.01327983, 0.01327983, 0.01327983, 0.01327983, 0.01327983,\n",
       "                   0.01327983, 0.01356436, 0.01356436, 0.01356436, 0.01356436, 0.01356436,\n",
       "                   0.01356436, 0.01356436, 0.01356436, 0.01356436, 0.01403858, 0.01403858,\n",
       "                   0.01403858, 0.01403858, 0.01403858, 0.01403858, 0.01403858, 0.01403858,\n",
       "                   0.01418085, 0.01418085, 0.01418085, 0.01418085, 0.01418085, 0.01418085,\n",
       "                   0.01418085, 0.01418085, 0.01418085, 0.01453651, 0.01453651, 0.01453651,\n",
       "                   0.01453651, 0.01453651, 0.01453651, 0.01453651, 0.01453651])\n",
       "   }),\n",
       "   Scatter({\n",
       "       'line': {'color': 'darkseagreen', 'dash': 'dash'},\n",
       "       'marker': {'symbol': 1},\n",
       "       'mode': 'lines+markers',\n",
       "       'name': 'Paired : -5e-05*x**2 + -0.00177*x\\n R2=error',\n",
       "       'x': array([-23.9, -23.9, -23.9, -23.9, -23.9, -23.9, -23.9, -23.9, -20.4, -20.4,\n",
       "                   -20.4, -20.4, -20.4, -20.4, -20.4, -20.4, -19.3, -19.3, -19.3, -19.3,\n",
       "                   -19.3, -19.3, -19.3, -19.3, -19.3, -18.1, -18.1, -18.1, -18.1, -18.1,\n",
       "                   -18.1, -18.1, -18.1, -18.1, -16.1, -16.1, -16.1, -16.1, -16.1, -16.1,\n",
       "                   -16.1, -16.1, -15.5, -15.5, -15.5, -15.5, -15.5, -15.5, -15.5, -15.5,\n",
       "                   -15.5, -14. , -14. , -14. , -14. , -14. , -14. , -14. , -14. ]),\n",
       "       'y': array([0.01103567, 0.01103567, 0.01103567, 0.01103567, 0.01103567, 0.01103567,\n",
       "                   0.01103567, 0.01103567, 0.01332949, 0.01332949, 0.01332949, 0.01332949,\n",
       "                   0.01332949, 0.01332949, 0.01332949, 0.01332949, 0.01377332, 0.01377332,\n",
       "                   0.01377332, 0.01377332, 0.01377332, 0.01377332, 0.01377332, 0.01377332,\n",
       "                   0.01377332, 0.01410635, 0.01410635, 0.01410635, 0.01410635, 0.01410635,\n",
       "                   0.01410635, 0.01410635, 0.01410635, 0.01410635, 0.01431094, 0.01431094,\n",
       "                   0.01431094, 0.01431094, 0.01431094, 0.01431094, 0.01431094, 0.01431094,\n",
       "                   0.01428689, 0.01428689, 0.01428689, 0.01428689, 0.01428689, 0.01428689,\n",
       "                   0.01428689, 0.01428689, 0.01428689, 0.01405427, 0.01405427, 0.01405427,\n",
       "                   0.01405427, 0.01405427, 0.01405427, 0.01405427, 0.01405427])\n",
       "   }),\n",
       "   Scatter({\n",
       "       'hovertemplate': ('<b>mut_rates: %{text[0]}<br><b' ... '}<br><b>deltaG: %{text[4]}<br>'),\n",
       "       'line': {'color': 'red'},\n",
       "       'mode': 'markers',\n",
       "       'name': 'Unpaired ',\n",
       "       'text': array([[0.07004471, 'A', 32, '3114-O-flank_1=hp7-DB', -23.9],\n",
       "                      [0.00844511, 'C', 41, '3114-O-flank_1=hp7-DB', -23.9],\n",
       "                      [0.05017387, 'A', 26, '3114-O-flank_1=hp7-DB', -23.9],\n",
       "                      [0.10183805, 'A', 29, '3114-O-flank_1=hp7-DB', -23.9],\n",
       "                      [0.09538003, 'C', 31, '3114-O-flank_1=hp7-DB', -23.9],\n",
       "                      [0.06546708, 'A', 32, '3124-O-flank_1=hp7-DB', -16.1],\n",
       "                      [0.00841622, 'C', 41, '3124-O-flank_1=hp7-DB', -16.1],\n",
       "                      [0.04364472, 'A', 26, '3124-O-flank_1=hp7-DB', -16.1],\n",
       "                      [0.08039816, 'A', 29, '3124-O-flank_1=hp7-DB', -16.1],\n",
       "                      [0.08882083, 'C', 31, '3124-O-flank_1=hp7-DB', -16.1],\n",
       "                      [0.06090808, 'A', 32, '3118-O-flank_1=hp7-DB', -20.4],\n",
       "                      [0.01162791, 'C', 41, '3118-O-flank_1=hp7-DB', -20.4],\n",
       "                      [0.04651163, 'A', 26, '3118-O-flank_1=hp7-DB', -20.4],\n",
       "                      [0.07751938, 'A', 29, '3118-O-flank_1=hp7-DB', -20.4],\n",
       "                      [0.09966777, 'C', 31, '3118-O-flank_1=hp7-DB', -20.4],\n",
       "                      [0.06492335, 'A', 32, '3125-O-flank_1=hp7-DB', -14.0],\n",
       "                      [0.0126183, 'C', 41, '3125-O-flank_1=hp7-DB', -14.0],\n",
       "                      [0.04733995, 'A', 26, '3125-O-flank_1=hp7-DB', -14.0],\n",
       "                      [0.08791704, 'A', 29, '3125-O-flank_1=hp7-DB', -14.0],\n",
       "                      [0.09513075, 'C', 31, '3125-O-flank_1=hp7-DB', -14.0],\n",
       "                      [0.06815663, 'A', 32, '3123-O-flank_1=hp7-DB', -15.5],\n",
       "                      [0.0554119, 'A', 26, '3123-O-flank_1=hp7-DB', -15.5],\n",
       "                      [0.08422608, 'A', 29, '3123-O-flank_1=hp7-DB', -15.5],\n",
       "                      [0.0847802, 'C', 31, '3123-O-flank_1=hp7-DB', -15.5],\n",
       "                      [0.04994687, 'A', 32, '3121-O-flank_1=hp7-DB', -19.3],\n",
       "                      [0.04250797, 'A', 26, '3121-O-flank_1=hp7-DB', -19.3],\n",
       "                      [0.05100956, 'A', 29, '3121-O-flank_1=hp7-DB', -19.3],\n",
       "                      [0.05951116, 'C', 31, '3121-O-flank_1=hp7-DB', -19.3],\n",
       "                      [0.0636219319, 'A', 32, '3122-O-flank_1=hp7-DB', -18.1],\n",
       "                      [0.0505556234, 'A', 26, '3122-O-flank_1=hp7-DB', -18.1],\n",
       "                      [0.0890218586, 'A', 29, '3122-O-flank_1=hp7-DB', -18.1],\n",
       "                      [0.0835266821, 'C', 31, '3122-O-flank_1=hp7-DB', -18.1]], dtype=object),\n",
       "       'x': array([-23.9, -23.9, -23.9, -23.9, -23.9, -16.1, -16.1, -16.1, -16.1, -16.1,\n",
       "                   -20.4, -20.4, -20.4, -20.4, -20.4, -14. , -14. , -14. , -14. , -14. ,\n",
       "                   -15.5, -15.5, -15.5, -15.5, -19.3, -19.3, -19.3, -19.3, -18.1, -18.1,\n",
       "                   -18.1, -18.1]),\n",
       "       'y': array([0.07004471, 0.00844511, 0.05017387, 0.10183805, 0.09538003, 0.06546708,\n",
       "                   0.00841622, 0.04364472, 0.08039816, 0.08882083, 0.06090808, 0.01162791,\n",
       "                   0.04651163, 0.07751938, 0.09966777, 0.06492335, 0.0126183 , 0.04733995,\n",
       "                   0.08791704, 0.09513075, 0.06815663, 0.0554119 , 0.08422608, 0.0847802 ,\n",
       "                   0.04994687, 0.04250797, 0.05100956, 0.05951116, 0.06362193, 0.05055562,\n",
       "                   0.08902186, 0.08352668])\n",
       "   }),\n",
       "   Scatter({\n",
       "       'line': {'color': 'crimson', 'dash': 'dash'},\n",
       "       'marker': {'symbol': 0},\n",
       "       'mode': 'lines+markers',\n",
       "       'name': 'Unpaired : 0.00017*x + 0.06559\\n R2=error',\n",
       "       'x': array([-23.9, -23.9, -23.9, -23.9, -23.9, -20.4, -20.4, -20.4, -20.4, -20.4,\n",
       "                   -19.3, -19.3, -19.3, -19.3, -18.1, -18.1, -18.1, -18.1, -16.1, -16.1,\n",
       "                   -16.1, -16.1, -16.1, -15.5, -15.5, -15.5, -15.5, -14. , -14. , -14. ,\n",
       "                   -14. , -14. ]),\n",
       "       'y': array([0.06150326, 0.06150326, 0.06150326, 0.06150326, 0.06150326, 0.06210137,\n",
       "                   0.06210137, 0.06210137, 0.06210137, 0.06210137, 0.06228935, 0.06228935,\n",
       "                   0.06228935, 0.06228935, 0.06249442, 0.06249442, 0.06249442, 0.06249442,\n",
       "                   0.06283619, 0.06283619, 0.06283619, 0.06283619, 0.06283619, 0.06293873,\n",
       "                   0.06293873, 0.06293873, 0.06293873, 0.06319506, 0.06319506, 0.06319506,\n",
       "                   0.06319506, 0.06319506])\n",
       "   }),\n",
       "   Scatter({\n",
       "       'line': {'color': 'crimson', 'dash': 'dash'},\n",
       "       'marker': {'symbol': 1},\n",
       "       'mode': 'lines+markers',\n",
       "       'name': 'Unpaired : -0.00018*x**2 + -0.0068*x\\n R2=error',\n",
       "       'x': array([-23.9, -23.9, -23.9, -23.9, -23.9, -20.4, -20.4, -20.4, -20.4, -20.4,\n",
       "                   -19.3, -19.3, -19.3, -19.3, -18.1, -18.1, -18.1, -18.1, -16.1, -16.1,\n",
       "                   -16.1, -16.1, -16.1, -15.5, -15.5, -15.5, -15.5, -14. , -14. , -14. ,\n",
       "                   -14. , -14. ]),\n",
       "       'y': array([0.05985811, 0.05985811, 0.05985811, 0.05985811, 0.05985811, 0.06392176,\n",
       "                   0.06392176, 0.06392176, 0.06392176, 0.06392176, 0.06428971, 0.06428971,\n",
       "                   0.06428971, 0.06428971, 0.06419517, 0.06419517, 0.06419517, 0.06419517,\n",
       "                   0.06288763, 0.06288763, 0.06288763, 0.06288763, 0.06288763, 0.06221506,\n",
       "                   0.06221506, 0.06221506, 0.06221506, 0.05996763, 0.05996763, 0.05996763,\n",
       "                   0.05996763, 0.05996763])\n",
       "   })],\n",
       "  'layout': {'title': 'Mutation rates of paired / unpaired residues vs the predicted energy of the molecule',\n",
       "   'xaxis': {'title': 'DeltaG', 'ticklen': 5, 'zeroline': False},\n",
       "   'yaxis': {'title': 'Mutation rate ', 'ticklen': 5, 'zeroline': False}}},\n",
       " 'df':     level_0              construct  index  mut_rates  deltaG base  paired\n",
       " 0         0  3114-O-flank_1=hp7-DB     32   0.070045   -23.9    A   False\n",
       " 1         1  3114-O-flank_1=hp7-DB     33   0.018381   -23.9    C    True\n",
       " 2         2  3114-O-flank_1=hp7-DB     34   0.011426   -23.9    C    True\n",
       " 3         3  3114-O-flank_1=hp7-DB     35   0.006458   -23.9    C    True\n",
       " 4         4  3114-O-flank_1=hp7-DB     36   0.008445   -23.9    A    True\n",
       " ..      ...                    ...    ...        ...     ...  ...     ...\n",
       " 86        8  3122-O-flank_1=hp7-DB     21   0.016367   -18.1    A    True\n",
       " 87        9  3122-O-flank_1=hp7-DB     23   0.014778   -18.1    A    True\n",
       " 88       10  3122-O-flank_1=hp7-DB     26   0.050556   -18.1    A   False\n",
       " 89       11  3122-O-flank_1=hp7-DB     29   0.089022   -18.1    A   False\n",
       " 90       12  3122-O-flank_1=hp7-DB     31   0.083527   -18.1    C   False\n",
       " \n",
       " [91 rows x 7 columns]}"
      ]
     },
     "execution_count": 3,
     "metadata": {},
     "output_type": "execute_result"
    }
   ],
   "source": [
    "study.deltaG_per_sample(sample=470,\n",
    "                        base_index=list(range(19,42)), \n",
    "                        base_type=['A','C'], \n",
    "                        family='hp7', \n",
    "                        deltaG='deltaG_min',\n",
    "                        savefile='test.html', \n",
    "                        models=['lambda x, a, b: a*x + b', 'lambda x, a, b: a*x**2 + b*x'],\n",
    "                        auto_open = False)"
   ]
  },
  {
   "cell_type": "code",
   "execution_count": 6,
   "metadata": {},
   "outputs": [
    {
     "name": "stdout",
     "output_type": "stream",
     "text": [
      "[32, 33, 34, 35, 36, 38, 41, 20, 21, 23, 26, 29, 31]\n",
      "sequence 170\n",
      "mut_bases 170\n",
      "info_bases 170\n",
      "del_bases 170\n",
      "ins_bases 170\n",
      "cov_bases 170\n",
      "mut_rates 170\n",
      "structure 170\n",
      "poisson_low 170\n",
      "poisson_high 170\n",
      "poisson_min 170\n",
      "poisson_max 170\n",
      "mod_bases_A 170\n",
      "mod_bases_C 170\n",
      "mod_bases_G 170\n",
      "mod_bases_T 170\n",
      "structure_selected 170\n",
      "sequence 170\n",
      "mut_bases 170\n",
      "info_bases 170\n",
      "del_bases 170\n",
      "ins_bases 170\n",
      "cov_bases 170\n",
      "mut_rates 170\n",
      "structure 170\n",
      "poisson_low 170\n",
      "poisson_high 170\n",
      "poisson_min 170\n",
      "poisson_max 170\n",
      "mod_bases_A 170\n",
      "mod_bases_C 170\n",
      "mod_bases_G 170\n",
      "mod_bases_T 170\n",
      "structure_selected 170\n",
      "sequence 170\n",
      "mut_bases 170\n",
      "info_bases 170\n",
      "del_bases 170\n",
      "ins_bases 170\n",
      "cov_bases 170\n",
      "mut_rates 170\n",
      "structure 170\n",
      "poisson_low 170\n",
      "poisson_high 170\n",
      "poisson_min 170\n",
      "poisson_max 170\n",
      "mod_bases_A 170\n",
      "mod_bases_C 170\n",
      "mod_bases_G 170\n",
      "mod_bases_T 170\n",
      "structure_selected 170\n",
      "sequence 170\n",
      "mut_bases 170\n",
      "info_bases 170\n",
      "del_bases 170\n",
      "ins_bases 170\n",
      "cov_bases 170\n",
      "mut_rates 170\n",
      "structure 170\n",
      "poisson_low 170\n",
      "poisson_high 170\n",
      "poisson_min 170\n",
      "poisson_max 170\n",
      "mod_bases_A 170\n",
      "mod_bases_C 170\n",
      "mod_bases_G 170\n",
      "mod_bases_T 170\n",
      "structure_selected 170\n",
      "sequence 170\n",
      "mut_bases 170\n",
      "info_bases 170\n",
      "del_bases 170\n",
      "ins_bases 170\n",
      "cov_bases 170\n",
      "mut_rates 170\n",
      "structure 170\n",
      "poisson_low 170\n",
      "poisson_high 170\n",
      "poisson_min 170\n",
      "poisson_max 170\n",
      "mod_bases_A 170\n",
      "mod_bases_C 170\n",
      "mod_bases_G 170\n",
      "mod_bases_T 170\n",
      "structure_selected 170\n",
      "sequence 170\n",
      "mut_bases 170\n",
      "info_bases 170\n",
      "del_bases 170\n",
      "ins_bases 170\n",
      "cov_bases 170\n",
      "mut_rates 170\n",
      "structure 170\n",
      "poisson_low 170\n",
      "poisson_high 170\n",
      "poisson_min 170\n",
      "poisson_max 170\n",
      "mod_bases_A 170\n",
      "mod_bases_C 170\n",
      "mod_bases_G 170\n",
      "mod_bases_T 170\n",
      "structure_selected 170\n"
     ]
    },
    {
     "data": {
      "application/vnd.plotly.v1+json": {
       "config": {
        "linkText": "Export to plot.ly",
        "plotlyServerURL": "https://plot.ly",
        "showLink": false
       },
       "data": [
        {
         "hovertemplate": "<b>base: %{text[0]}<br><b>mut_rates: %{text[1]}<br><b>sample: %{text[2]}<br><b>temperature_k: %{text[3]}<br><b>paired: %{text[4]}<br>",
         "line": {
          "color": "red"
         },
         "marker": {
          "symbol": [
           0,
           0,
           0,
           0,
           0,
           0,
           0,
           0,
           0,
           0,
           0,
           0,
           0,
           0,
           0,
           0,
           0,
           0,
           100,
           100,
           100,
           100,
           100,
           100,
           100,
           100,
           100,
           100,
           100,
           100,
           100,
           100,
           100,
           100,
           100,
           100,
           100,
           100,
           100,
           100,
           100,
           100,
           0,
           0,
           0,
           0,
           0,
           0,
           0,
           0,
           0,
           0,
           0,
           0,
           0,
           0,
           0,
           0,
           0,
           0,
           0,
           0,
           0,
           0,
           0,
           0,
           0,
           0,
           0,
           0,
           0,
           0,
           100,
           100,
           100,
           100,
           100,
           100
          ]
         },
         "mode": "lines+markers",
         "name": "(A,32)",
         "text": [
          [
           "C",
           0.02966896,
           472,
           310,
           true
          ],
          [
           "C",
           0.00038971,
           473,
           310,
           true
          ],
          [
           "C",
           0,
           475,
           295,
           true
          ],
          [
           "C",
           0.00046019,
           471,
           310,
           true
          ],
          [
           "C",
           0.00596125,
           470,
           310,
           true
          ],
          [
           "C",
           0,
           474,
           295,
           true
          ],
          [
           "A",
           0,
           473,
           310,
           true
          ],
          [
           "A",
           0,
           471,
           310,
           true
          ],
          [
           "A",
           0.01717676,
           472,
           310,
           true
          ],
          [
           "A",
           0,
           474,
           295,
           true
          ],
          [
           "A",
           0.01142573,
           470,
           310,
           true
          ],
          [
           "A",
           0.00018815,
           475,
           295,
           true
          ],
          [
           "A",
           0,
           473,
           310,
           true
          ],
          [
           "A",
           0.00018815,
           475,
           295,
           true
          ],
          [
           "A",
           0.00057078,
           474,
           295,
           true
          ],
          [
           "A",
           0.00046019,
           471,
           310,
           true
          ],
          [
           "A",
           0.00905684,
           472,
           310,
           true
          ],
          [
           "A",
           0.00894188,
           470,
           310,
           true
          ],
          [
           "A",
           0,
           475,
           295,
           false
          ],
          [
           "A",
           0,
           471,
           310,
           false
          ],
          [
           "A",
           0.05017387,
           470,
           310,
           false
          ],
          [
           "A",
           0,
           474,
           295,
           false
          ],
          [
           "A",
           0.00077912,
           473,
           310,
           false
          ],
          [
           "A",
           0.04278576,
           472,
           310,
           false
          ],
          [
           "A",
           0.00077912,
           473,
           310,
           false
          ],
          [
           "A",
           0,
           474,
           295,
           false
          ],
          [
           "A",
           0.04840725,
           472,
           310,
           false
          ],
          [
           "A",
           0.00092039,
           471,
           310,
           false
          ],
          [
           "A",
           0.10183805,
           470,
           310,
           false
          ],
          [
           "A",
           0.00018808,
           475,
           295,
           false
          ],
          [
           "C",
           0.07870081,
           472,
           310,
           false
          ],
          [
           "C",
           0,
           474,
           295,
           false
          ],
          [
           "C",
           0.00038941,
           473,
           310,
           false
          ],
          [
           "C",
           0.00018808,
           475,
           295,
           false
          ],
          [
           "C",
           0.09538003,
           470,
           310,
           false
          ],
          [
           "C",
           0.00046019,
           471,
           310,
           false
          ],
          [
           "A",
           0.07004471,
           470,
           310,
           false
          ],
          [
           "A",
           0.00057078,
           474,
           295,
           false
          ],
          [
           "A",
           0.00038941,
           473,
           310,
           false
          ],
          [
           "A",
           0.00184077,
           471,
           310,
           false
          ],
          [
           "A",
           0.00018808,
           475,
           295,
           false
          ],
          [
           "A",
           0.07183011,
           472,
           310,
           false
          ],
          [
           "C",
           0.01838053,
           470,
           310,
           true
          ],
          [
           "C",
           0,
           474,
           295,
           true
          ],
          [
           "C",
           0.02998126,
           472,
           310,
           true
          ],
          [
           "C",
           0.00077882,
           473,
           310,
           true
          ],
          [
           "C",
           0,
           471,
           310,
           true
          ],
          [
           "C",
           0,
           475,
           295,
           true
          ],
          [
           "C",
           0,
           475,
           295,
           true
          ],
          [
           "C",
           0.00038941,
           473,
           310,
           true
          ],
          [
           "C",
           0.02779513,
           472,
           310,
           true
          ],
          [
           "C",
           0.01142573,
           470,
           310,
           true
          ],
          [
           "C",
           0,
           474,
           295,
           true
          ],
          [
           "C",
           0.00092039,
           471,
           310,
           true
          ],
          [
           "C",
           0,
           475,
           295,
           true
          ],
          [
           "C",
           0.00645802,
           470,
           310,
           true
          ],
          [
           "C",
           0.00057078,
           474,
           295,
           true
          ],
          [
           "C",
           0.01686446,
           472,
           310,
           true
          ],
          [
           "C",
           0,
           471,
           310,
           true
          ],
          [
           "C",
           0.00116822,
           473,
           310,
           true
          ],
          [
           "A",
           0.00905684,
           472,
           310,
           true
          ],
          [
           "A",
           0.00046019,
           471,
           310,
           true
          ],
          [
           "A",
           0.00844511,
           470,
           310,
           true
          ],
          [
           "A",
           0.00018804,
           475,
           295,
           true
          ],
          [
           "A",
           0,
           473,
           310,
           true
          ],
          [
           "A",
           0,
           474,
           295,
           true
          ],
          [
           "A",
           0.00057078,
           474,
           295,
           true
          ],
          [
           "A",
           0.00056412,
           475,
           295,
           true
          ],
          [
           "A",
           0.00077882,
           473,
           310,
           true
          ],
          [
           "A",
           0.00844511,
           470,
           310,
           true
          ],
          [
           "A",
           0,
           471,
           310,
           true
          ],
          [
           "A",
           0.00749532,
           472,
           310,
           true
          ],
          [
           "C",
           0.00046019,
           471,
           310,
           false
          ],
          [
           "C",
           0.00018804,
           475,
           295,
           false
          ],
          [
           "C",
           0.00844511,
           470,
           310,
           false
          ],
          [
           "C",
           0.02654591,
           472,
           310,
           false
          ],
          [
           "C",
           0,
           474,
           295,
           false
          ],
          [
           "C",
           0.00116822,
           473,
           310,
           false
          ]
         ],
         "type": "scatter",
         "x": [
          310,
          295,
          310,
          310,
          295,
          310
         ],
         "y": [
          0.07004471,
          0.00057078,
          0.00038941,
          0.00184077,
          0.00018808,
          0.07183011
         ]
        },
        {
         "line": {
          "color": "red",
          "dash": "solid"
         },
         "mode": "lines",
         "name": "(A,32): 0.00238*x + -0.70067\n R2=error",
         "type": "scatter",
         "x": [
          295,
          295,
          310,
          310,
          310,
          310
         ],
         "y": [
          0.00037943000000006943,
          0.00037943000000006943,
          0.03602625000000004,
          0.03602625000000004,
          0.03602625000000004,
          0.03602625000000004
         ]
        },
        {
         "line": {
          "color": "red",
          "dash": "dot"
         },
         "mode": "lines",
         "name": "(A,32): 1e-05*x**2 + -0.00226*x\n R2=error",
         "type": "scatter",
         "x": [
          295,
          295,
          310,
          310,
          310,
          310
         ],
         "y": [
          0.0003794300000004025,
          0.0003794300000004025,
          0.03602625000000104,
          0.03602625000000104,
          0.03602625000000104,
          0.03602625000000104
         ]
        },
        {
         "hovertemplate": "<b>base: %{text[0]}<br><b>mut_rates: %{text[1]}<br><b>sample: %{text[2]}<br><b>temperature_k: %{text[3]}<br><b>paired: %{text[4]}<br>",
         "line": {
          "color": "green"
         },
         "marker": {
          "symbol": [
           0,
           0,
           0,
           0,
           0,
           0,
           0,
           0,
           0,
           0,
           0,
           0,
           0,
           0,
           0,
           0,
           0,
           0,
           100,
           100,
           100,
           100,
           100,
           100,
           100,
           100,
           100,
           100,
           100,
           100,
           100,
           100,
           100,
           100,
           100,
           100,
           100,
           100,
           100,
           100,
           100,
           100,
           0,
           0,
           0,
           0,
           0,
           0,
           0,
           0,
           0,
           0,
           0,
           0,
           0,
           0,
           0,
           0,
           0,
           0,
           0,
           0,
           0,
           0,
           0,
           0,
           0,
           0,
           0,
           0,
           0,
           0,
           100,
           100,
           100,
           100,
           100,
           100
          ]
         },
         "mode": "lines+markers",
         "name": "(C,33)",
         "text": [
          [
           "C",
           0.02966896,
           472,
           310,
           true
          ],
          [
           "C",
           0.00038971,
           473,
           310,
           true
          ],
          [
           "C",
           0,
           475,
           295,
           true
          ],
          [
           "C",
           0.00046019,
           471,
           310,
           true
          ],
          [
           "C",
           0.00596125,
           470,
           310,
           true
          ],
          [
           "C",
           0,
           474,
           295,
           true
          ],
          [
           "A",
           0,
           473,
           310,
           true
          ],
          [
           "A",
           0,
           471,
           310,
           true
          ],
          [
           "A",
           0.01717676,
           472,
           310,
           true
          ],
          [
           "A",
           0,
           474,
           295,
           true
          ],
          [
           "A",
           0.01142573,
           470,
           310,
           true
          ],
          [
           "A",
           0.00018815,
           475,
           295,
           true
          ],
          [
           "A",
           0,
           473,
           310,
           true
          ],
          [
           "A",
           0.00018815,
           475,
           295,
           true
          ],
          [
           "A",
           0.00057078,
           474,
           295,
           true
          ],
          [
           "A",
           0.00046019,
           471,
           310,
           true
          ],
          [
           "A",
           0.00905684,
           472,
           310,
           true
          ],
          [
           "A",
           0.00894188,
           470,
           310,
           true
          ],
          [
           "A",
           0,
           475,
           295,
           false
          ],
          [
           "A",
           0,
           471,
           310,
           false
          ],
          [
           "A",
           0.05017387,
           470,
           310,
           false
          ],
          [
           "A",
           0,
           474,
           295,
           false
          ],
          [
           "A",
           0.00077912,
           473,
           310,
           false
          ],
          [
           "A",
           0.04278576,
           472,
           310,
           false
          ],
          [
           "A",
           0.00077912,
           473,
           310,
           false
          ],
          [
           "A",
           0,
           474,
           295,
           false
          ],
          [
           "A",
           0.04840725,
           472,
           310,
           false
          ],
          [
           "A",
           0.00092039,
           471,
           310,
           false
          ],
          [
           "A",
           0.10183805,
           470,
           310,
           false
          ],
          [
           "A",
           0.00018808,
           475,
           295,
           false
          ],
          [
           "C",
           0.07870081,
           472,
           310,
           false
          ],
          [
           "C",
           0,
           474,
           295,
           false
          ],
          [
           "C",
           0.00038941,
           473,
           310,
           false
          ],
          [
           "C",
           0.00018808,
           475,
           295,
           false
          ],
          [
           "C",
           0.09538003,
           470,
           310,
           false
          ],
          [
           "C",
           0.00046019,
           471,
           310,
           false
          ],
          [
           "A",
           0.07004471,
           470,
           310,
           false
          ],
          [
           "A",
           0.00057078,
           474,
           295,
           false
          ],
          [
           "A",
           0.00038941,
           473,
           310,
           false
          ],
          [
           "A",
           0.00184077,
           471,
           310,
           false
          ],
          [
           "A",
           0.00018808,
           475,
           295,
           false
          ],
          [
           "A",
           0.07183011,
           472,
           310,
           false
          ],
          [
           "C",
           0.01838053,
           470,
           310,
           true
          ],
          [
           "C",
           0,
           474,
           295,
           true
          ],
          [
           "C",
           0.02998126,
           472,
           310,
           true
          ],
          [
           "C",
           0.00077882,
           473,
           310,
           true
          ],
          [
           "C",
           0,
           471,
           310,
           true
          ],
          [
           "C",
           0,
           475,
           295,
           true
          ],
          [
           "C",
           0,
           475,
           295,
           true
          ],
          [
           "C",
           0.00038941,
           473,
           310,
           true
          ],
          [
           "C",
           0.02779513,
           472,
           310,
           true
          ],
          [
           "C",
           0.01142573,
           470,
           310,
           true
          ],
          [
           "C",
           0,
           474,
           295,
           true
          ],
          [
           "C",
           0.00092039,
           471,
           310,
           true
          ],
          [
           "C",
           0,
           475,
           295,
           true
          ],
          [
           "C",
           0.00645802,
           470,
           310,
           true
          ],
          [
           "C",
           0.00057078,
           474,
           295,
           true
          ],
          [
           "C",
           0.01686446,
           472,
           310,
           true
          ],
          [
           "C",
           0,
           471,
           310,
           true
          ],
          [
           "C",
           0.00116822,
           473,
           310,
           true
          ],
          [
           "A",
           0.00905684,
           472,
           310,
           true
          ],
          [
           "A",
           0.00046019,
           471,
           310,
           true
          ],
          [
           "A",
           0.00844511,
           470,
           310,
           true
          ],
          [
           "A",
           0.00018804,
           475,
           295,
           true
          ],
          [
           "A",
           0,
           473,
           310,
           true
          ],
          [
           "A",
           0,
           474,
           295,
           true
          ],
          [
           "A",
           0.00057078,
           474,
           295,
           true
          ],
          [
           "A",
           0.00056412,
           475,
           295,
           true
          ],
          [
           "A",
           0.00077882,
           473,
           310,
           true
          ],
          [
           "A",
           0.00844511,
           470,
           310,
           true
          ],
          [
           "A",
           0,
           471,
           310,
           true
          ],
          [
           "A",
           0.00749532,
           472,
           310,
           true
          ],
          [
           "C",
           0.00046019,
           471,
           310,
           false
          ],
          [
           "C",
           0.00018804,
           475,
           295,
           false
          ],
          [
           "C",
           0.00844511,
           470,
           310,
           false
          ],
          [
           "C",
           0.02654591,
           472,
           310,
           false
          ],
          [
           "C",
           0,
           474,
           295,
           false
          ],
          [
           "C",
           0.00116822,
           473,
           310,
           false
          ]
         ],
         "type": "scatter",
         "x": [
          310,
          295,
          310,
          310,
          310,
          295
         ],
         "y": [
          0.01838053,
          0,
          0.02998126,
          0.00077882,
          0,
          0
         ]
        },
        {
         "line": {
          "color": "green",
          "dash": "solid"
         },
         "mode": "lines",
         "name": "(C,33): 0.00082*x + -0.24161\n R2=error",
         "type": "scatter",
         "x": [
          295,
          295,
          310,
          310,
          310,
          310
         ],
         "y": [
          0,
          0,
          0.012285152500000007,
          0.012285152500000007,
          0.012285152500000007,
          0.012285152500000007
         ]
        },
        {
         "line": {
          "color": "green",
          "dash": "dot"
         },
         "mode": "lines",
         "name": "(C,33): 0.0*x**2 + -0.00078*x\n R2=error",
         "type": "scatter",
         "x": [
          295,
          295,
          310,
          310,
          310,
          310
         ],
         "y": [
          1.3877787807814457e-16,
          1.3877787807814457e-16,
          0.0122851525000022,
          0.0122851525000022,
          0.0122851525000022,
          0.0122851525000022
         ]
        },
        {
         "hovertemplate": "<b>base: %{text[0]}<br><b>mut_rates: %{text[1]}<br><b>sample: %{text[2]}<br><b>temperature_k: %{text[3]}<br><b>paired: %{text[4]}<br>",
         "line": {
          "color": "blue"
         },
         "marker": {
          "symbol": [
           0,
           0,
           0,
           0,
           0,
           0,
           0,
           0,
           0,
           0,
           0,
           0,
           0,
           0,
           0,
           0,
           0,
           0,
           100,
           100,
           100,
           100,
           100,
           100,
           100,
           100,
           100,
           100,
           100,
           100,
           100,
           100,
           100,
           100,
           100,
           100,
           100,
           100,
           100,
           100,
           100,
           100,
           0,
           0,
           0,
           0,
           0,
           0,
           0,
           0,
           0,
           0,
           0,
           0,
           0,
           0,
           0,
           0,
           0,
           0,
           0,
           0,
           0,
           0,
           0,
           0,
           0,
           0,
           0,
           0,
           0,
           0,
           100,
           100,
           100,
           100,
           100,
           100
          ]
         },
         "mode": "lines+markers",
         "name": "(C,34)",
         "text": [
          [
           "C",
           0.02966896,
           472,
           310,
           true
          ],
          [
           "C",
           0.00038971,
           473,
           310,
           true
          ],
          [
           "C",
           0,
           475,
           295,
           true
          ],
          [
           "C",
           0.00046019,
           471,
           310,
           true
          ],
          [
           "C",
           0.00596125,
           470,
           310,
           true
          ],
          [
           "C",
           0,
           474,
           295,
           true
          ],
          [
           "A",
           0,
           473,
           310,
           true
          ],
          [
           "A",
           0,
           471,
           310,
           true
          ],
          [
           "A",
           0.01717676,
           472,
           310,
           true
          ],
          [
           "A",
           0,
           474,
           295,
           true
          ],
          [
           "A",
           0.01142573,
           470,
           310,
           true
          ],
          [
           "A",
           0.00018815,
           475,
           295,
           true
          ],
          [
           "A",
           0,
           473,
           310,
           true
          ],
          [
           "A",
           0.00018815,
           475,
           295,
           true
          ],
          [
           "A",
           0.00057078,
           474,
           295,
           true
          ],
          [
           "A",
           0.00046019,
           471,
           310,
           true
          ],
          [
           "A",
           0.00905684,
           472,
           310,
           true
          ],
          [
           "A",
           0.00894188,
           470,
           310,
           true
          ],
          [
           "A",
           0,
           475,
           295,
           false
          ],
          [
           "A",
           0,
           471,
           310,
           false
          ],
          [
           "A",
           0.05017387,
           470,
           310,
           false
          ],
          [
           "A",
           0,
           474,
           295,
           false
          ],
          [
           "A",
           0.00077912,
           473,
           310,
           false
          ],
          [
           "A",
           0.04278576,
           472,
           310,
           false
          ],
          [
           "A",
           0.00077912,
           473,
           310,
           false
          ],
          [
           "A",
           0,
           474,
           295,
           false
          ],
          [
           "A",
           0.04840725,
           472,
           310,
           false
          ],
          [
           "A",
           0.00092039,
           471,
           310,
           false
          ],
          [
           "A",
           0.10183805,
           470,
           310,
           false
          ],
          [
           "A",
           0.00018808,
           475,
           295,
           false
          ],
          [
           "C",
           0.07870081,
           472,
           310,
           false
          ],
          [
           "C",
           0,
           474,
           295,
           false
          ],
          [
           "C",
           0.00038941,
           473,
           310,
           false
          ],
          [
           "C",
           0.00018808,
           475,
           295,
           false
          ],
          [
           "C",
           0.09538003,
           470,
           310,
           false
          ],
          [
           "C",
           0.00046019,
           471,
           310,
           false
          ],
          [
           "A",
           0.07004471,
           470,
           310,
           false
          ],
          [
           "A",
           0.00057078,
           474,
           295,
           false
          ],
          [
           "A",
           0.00038941,
           473,
           310,
           false
          ],
          [
           "A",
           0.00184077,
           471,
           310,
           false
          ],
          [
           "A",
           0.00018808,
           475,
           295,
           false
          ],
          [
           "A",
           0.07183011,
           472,
           310,
           false
          ],
          [
           "C",
           0.01838053,
           470,
           310,
           true
          ],
          [
           "C",
           0,
           474,
           295,
           true
          ],
          [
           "C",
           0.02998126,
           472,
           310,
           true
          ],
          [
           "C",
           0.00077882,
           473,
           310,
           true
          ],
          [
           "C",
           0,
           471,
           310,
           true
          ],
          [
           "C",
           0,
           475,
           295,
           true
          ],
          [
           "C",
           0,
           475,
           295,
           true
          ],
          [
           "C",
           0.00038941,
           473,
           310,
           true
          ],
          [
           "C",
           0.02779513,
           472,
           310,
           true
          ],
          [
           "C",
           0.01142573,
           470,
           310,
           true
          ],
          [
           "C",
           0,
           474,
           295,
           true
          ],
          [
           "C",
           0.00092039,
           471,
           310,
           true
          ],
          [
           "C",
           0,
           475,
           295,
           true
          ],
          [
           "C",
           0.00645802,
           470,
           310,
           true
          ],
          [
           "C",
           0.00057078,
           474,
           295,
           true
          ],
          [
           "C",
           0.01686446,
           472,
           310,
           true
          ],
          [
           "C",
           0,
           471,
           310,
           true
          ],
          [
           "C",
           0.00116822,
           473,
           310,
           true
          ],
          [
           "A",
           0.00905684,
           472,
           310,
           true
          ],
          [
           "A",
           0.00046019,
           471,
           310,
           true
          ],
          [
           "A",
           0.00844511,
           470,
           310,
           true
          ],
          [
           "A",
           0.00018804,
           475,
           295,
           true
          ],
          [
           "A",
           0,
           473,
           310,
           true
          ],
          [
           "A",
           0,
           474,
           295,
           true
          ],
          [
           "A",
           0.00057078,
           474,
           295,
           true
          ],
          [
           "A",
           0.00056412,
           475,
           295,
           true
          ],
          [
           "A",
           0.00077882,
           473,
           310,
           true
          ],
          [
           "A",
           0.00844511,
           470,
           310,
           true
          ],
          [
           "A",
           0,
           471,
           310,
           true
          ],
          [
           "A",
           0.00749532,
           472,
           310,
           true
          ],
          [
           "C",
           0.00046019,
           471,
           310,
           false
          ],
          [
           "C",
           0.00018804,
           475,
           295,
           false
          ],
          [
           "C",
           0.00844511,
           470,
           310,
           false
          ],
          [
           "C",
           0.02654591,
           472,
           310,
           false
          ],
          [
           "C",
           0,
           474,
           295,
           false
          ],
          [
           "C",
           0.00116822,
           473,
           310,
           false
          ]
         ],
         "type": "scatter",
         "x": [
          295,
          310,
          310,
          310,
          295,
          310
         ],
         "y": [
          0,
          0.00038941,
          0.02779513,
          0.01142573,
          0,
          0.00092039
         ]
        },
        {
         "line": {
          "color": "blue",
          "dash": "solid"
         },
         "mode": "lines",
         "name": "(C,34): 0.00068*x + -0.19928\n R2=error",
         "type": "scatter",
         "x": [
          295,
          295,
          310,
          310,
          310,
          310
         ],
         "y": [
          0,
          0,
          0.010132665000000013,
          0.010132665000000013,
          0.010132665000000013,
          0.010132665000000013
         ]
        },
        {
         "line": {
          "color": "blue",
          "dash": "dot"
         },
         "mode": "lines",
         "name": "(C,34): 0.0*x**2 + -0.00064*x\n R2=error",
         "type": "scatter",
         "x": [
          295,
          295,
          310,
          310,
          310,
          310
         ],
         "y": [
          5.273559366969494e-16,
          5.273559366969494e-16,
          0.010132665000000485,
          0.010132665000000485,
          0.010132665000000485,
          0.010132665000000485
         ]
        },
        {
         "hovertemplate": "<b>base: %{text[0]}<br><b>mut_rates: %{text[1]}<br><b>sample: %{text[2]}<br><b>temperature_k: %{text[3]}<br><b>paired: %{text[4]}<br>",
         "line": {
          "color": "orange"
         },
         "marker": {
          "symbol": [
           0,
           0,
           0,
           0,
           0,
           0,
           0,
           0,
           0,
           0,
           0,
           0,
           0,
           0,
           0,
           0,
           0,
           0,
           100,
           100,
           100,
           100,
           100,
           100,
           100,
           100,
           100,
           100,
           100,
           100,
           100,
           100,
           100,
           100,
           100,
           100,
           100,
           100,
           100,
           100,
           100,
           100,
           0,
           0,
           0,
           0,
           0,
           0,
           0,
           0,
           0,
           0,
           0,
           0,
           0,
           0,
           0,
           0,
           0,
           0,
           0,
           0,
           0,
           0,
           0,
           0,
           0,
           0,
           0,
           0,
           0,
           0,
           100,
           100,
           100,
           100,
           100,
           100
          ]
         },
         "mode": "lines+markers",
         "name": "(C,35)",
         "text": [
          [
           "C",
           0.02966896,
           472,
           310,
           true
          ],
          [
           "C",
           0.00038971,
           473,
           310,
           true
          ],
          [
           "C",
           0,
           475,
           295,
           true
          ],
          [
           "C",
           0.00046019,
           471,
           310,
           true
          ],
          [
           "C",
           0.00596125,
           470,
           310,
           true
          ],
          [
           "C",
           0,
           474,
           295,
           true
          ],
          [
           "A",
           0,
           473,
           310,
           true
          ],
          [
           "A",
           0,
           471,
           310,
           true
          ],
          [
           "A",
           0.01717676,
           472,
           310,
           true
          ],
          [
           "A",
           0,
           474,
           295,
           true
          ],
          [
           "A",
           0.01142573,
           470,
           310,
           true
          ],
          [
           "A",
           0.00018815,
           475,
           295,
           true
          ],
          [
           "A",
           0,
           473,
           310,
           true
          ],
          [
           "A",
           0.00018815,
           475,
           295,
           true
          ],
          [
           "A",
           0.00057078,
           474,
           295,
           true
          ],
          [
           "A",
           0.00046019,
           471,
           310,
           true
          ],
          [
           "A",
           0.00905684,
           472,
           310,
           true
          ],
          [
           "A",
           0.00894188,
           470,
           310,
           true
          ],
          [
           "A",
           0,
           475,
           295,
           false
          ],
          [
           "A",
           0,
           471,
           310,
           false
          ],
          [
           "A",
           0.05017387,
           470,
           310,
           false
          ],
          [
           "A",
           0,
           474,
           295,
           false
          ],
          [
           "A",
           0.00077912,
           473,
           310,
           false
          ],
          [
           "A",
           0.04278576,
           472,
           310,
           false
          ],
          [
           "A",
           0.00077912,
           473,
           310,
           false
          ],
          [
           "A",
           0,
           474,
           295,
           false
          ],
          [
           "A",
           0.04840725,
           472,
           310,
           false
          ],
          [
           "A",
           0.00092039,
           471,
           310,
           false
          ],
          [
           "A",
           0.10183805,
           470,
           310,
           false
          ],
          [
           "A",
           0.00018808,
           475,
           295,
           false
          ],
          [
           "C",
           0.07870081,
           472,
           310,
           false
          ],
          [
           "C",
           0,
           474,
           295,
           false
          ],
          [
           "C",
           0.00038941,
           473,
           310,
           false
          ],
          [
           "C",
           0.00018808,
           475,
           295,
           false
          ],
          [
           "C",
           0.09538003,
           470,
           310,
           false
          ],
          [
           "C",
           0.00046019,
           471,
           310,
           false
          ],
          [
           "A",
           0.07004471,
           470,
           310,
           false
          ],
          [
           "A",
           0.00057078,
           474,
           295,
           false
          ],
          [
           "A",
           0.00038941,
           473,
           310,
           false
          ],
          [
           "A",
           0.00184077,
           471,
           310,
           false
          ],
          [
           "A",
           0.00018808,
           475,
           295,
           false
          ],
          [
           "A",
           0.07183011,
           472,
           310,
           false
          ],
          [
           "C",
           0.01838053,
           470,
           310,
           true
          ],
          [
           "C",
           0,
           474,
           295,
           true
          ],
          [
           "C",
           0.02998126,
           472,
           310,
           true
          ],
          [
           "C",
           0.00077882,
           473,
           310,
           true
          ],
          [
           "C",
           0,
           471,
           310,
           true
          ],
          [
           "C",
           0,
           475,
           295,
           true
          ],
          [
           "C",
           0,
           475,
           295,
           true
          ],
          [
           "C",
           0.00038941,
           473,
           310,
           true
          ],
          [
           "C",
           0.02779513,
           472,
           310,
           true
          ],
          [
           "C",
           0.01142573,
           470,
           310,
           true
          ],
          [
           "C",
           0,
           474,
           295,
           true
          ],
          [
           "C",
           0.00092039,
           471,
           310,
           true
          ],
          [
           "C",
           0,
           475,
           295,
           true
          ],
          [
           "C",
           0.00645802,
           470,
           310,
           true
          ],
          [
           "C",
           0.00057078,
           474,
           295,
           true
          ],
          [
           "C",
           0.01686446,
           472,
           310,
           true
          ],
          [
           "C",
           0,
           471,
           310,
           true
          ],
          [
           "C",
           0.00116822,
           473,
           310,
           true
          ],
          [
           "A",
           0.00905684,
           472,
           310,
           true
          ],
          [
           "A",
           0.00046019,
           471,
           310,
           true
          ],
          [
           "A",
           0.00844511,
           470,
           310,
           true
          ],
          [
           "A",
           0.00018804,
           475,
           295,
           true
          ],
          [
           "A",
           0,
           473,
           310,
           true
          ],
          [
           "A",
           0,
           474,
           295,
           true
          ],
          [
           "A",
           0.00057078,
           474,
           295,
           true
          ],
          [
           "A",
           0.00056412,
           475,
           295,
           true
          ],
          [
           "A",
           0.00077882,
           473,
           310,
           true
          ],
          [
           "A",
           0.00844511,
           470,
           310,
           true
          ],
          [
           "A",
           0,
           471,
           310,
           true
          ],
          [
           "A",
           0.00749532,
           472,
           310,
           true
          ],
          [
           "C",
           0.00046019,
           471,
           310,
           false
          ],
          [
           "C",
           0.00018804,
           475,
           295,
           false
          ],
          [
           "C",
           0.00844511,
           470,
           310,
           false
          ],
          [
           "C",
           0.02654591,
           472,
           310,
           false
          ],
          [
           "C",
           0,
           474,
           295,
           false
          ],
          [
           "C",
           0.00116822,
           473,
           310,
           false
          ]
         ],
         "type": "scatter",
         "x": [
          295,
          310,
          295,
          310,
          310,
          310
         ],
         "y": [
          0,
          0.00645802,
          0.00057078,
          0.01686446,
          0,
          0.00116822
         ]
        },
        {
         "line": {
          "color": "orange",
          "dash": "solid"
         },
         "mode": "lines",
         "name": "(C,35): 0.00039*x + -0.11451\n R2=error",
         "type": "scatter",
         "x": [
          295,
          295,
          310,
          310,
          310,
          310
         ],
         "y": [
          0.0002853899999999965,
          0.0002853899999999965,
          0.006122674999999994,
          0.006122674999999994,
          0.006122674999999994,
          0.006122674999999994
         ]
        },
        {
         "line": {
          "color": "orange",
          "dash": "dot"
         },
         "mode": "lines",
         "name": "(C,35): 0.0*x**2 + -0.00037*x\n R2=error",
         "type": "scatter",
         "x": [
          295,
          295,
          310,
          310,
          310,
          310
         ],
         "y": [
          0.00028539000000007975,
          0.00028539000000007975,
          0.00612267500000048,
          0.00612267500000048,
          0.00612267500000048,
          0.00612267500000048
         ]
        },
        {
         "hovertemplate": "<b>base: %{text[0]}<br><b>mut_rates: %{text[1]}<br><b>sample: %{text[2]}<br><b>temperature_k: %{text[3]}<br><b>paired: %{text[4]}<br>",
         "line": {
          "color": "purple"
         },
         "marker": {
          "symbol": [
           0,
           0,
           0,
           0,
           0,
           0,
           0,
           0,
           0,
           0,
           0,
           0,
           0,
           0,
           0,
           0,
           0,
           0,
           100,
           100,
           100,
           100,
           100,
           100,
           100,
           100,
           100,
           100,
           100,
           100,
           100,
           100,
           100,
           100,
           100,
           100,
           100,
           100,
           100,
           100,
           100,
           100,
           0,
           0,
           0,
           0,
           0,
           0,
           0,
           0,
           0,
           0,
           0,
           0,
           0,
           0,
           0,
           0,
           0,
           0,
           0,
           0,
           0,
           0,
           0,
           0,
           0,
           0,
           0,
           0,
           0,
           0,
           100,
           100,
           100,
           100,
           100,
           100
          ]
         },
         "mode": "lines+markers",
         "name": "(A,36)",
         "text": [
          [
           "C",
           0.02966896,
           472,
           310,
           true
          ],
          [
           "C",
           0.00038971,
           473,
           310,
           true
          ],
          [
           "C",
           0,
           475,
           295,
           true
          ],
          [
           "C",
           0.00046019,
           471,
           310,
           true
          ],
          [
           "C",
           0.00596125,
           470,
           310,
           true
          ],
          [
           "C",
           0,
           474,
           295,
           true
          ],
          [
           "A",
           0,
           473,
           310,
           true
          ],
          [
           "A",
           0,
           471,
           310,
           true
          ],
          [
           "A",
           0.01717676,
           472,
           310,
           true
          ],
          [
           "A",
           0,
           474,
           295,
           true
          ],
          [
           "A",
           0.01142573,
           470,
           310,
           true
          ],
          [
           "A",
           0.00018815,
           475,
           295,
           true
          ],
          [
           "A",
           0,
           473,
           310,
           true
          ],
          [
           "A",
           0.00018815,
           475,
           295,
           true
          ],
          [
           "A",
           0.00057078,
           474,
           295,
           true
          ],
          [
           "A",
           0.00046019,
           471,
           310,
           true
          ],
          [
           "A",
           0.00905684,
           472,
           310,
           true
          ],
          [
           "A",
           0.00894188,
           470,
           310,
           true
          ],
          [
           "A",
           0,
           475,
           295,
           false
          ],
          [
           "A",
           0,
           471,
           310,
           false
          ],
          [
           "A",
           0.05017387,
           470,
           310,
           false
          ],
          [
           "A",
           0,
           474,
           295,
           false
          ],
          [
           "A",
           0.00077912,
           473,
           310,
           false
          ],
          [
           "A",
           0.04278576,
           472,
           310,
           false
          ],
          [
           "A",
           0.00077912,
           473,
           310,
           false
          ],
          [
           "A",
           0,
           474,
           295,
           false
          ],
          [
           "A",
           0.04840725,
           472,
           310,
           false
          ],
          [
           "A",
           0.00092039,
           471,
           310,
           false
          ],
          [
           "A",
           0.10183805,
           470,
           310,
           false
          ],
          [
           "A",
           0.00018808,
           475,
           295,
           false
          ],
          [
           "C",
           0.07870081,
           472,
           310,
           false
          ],
          [
           "C",
           0,
           474,
           295,
           false
          ],
          [
           "C",
           0.00038941,
           473,
           310,
           false
          ],
          [
           "C",
           0.00018808,
           475,
           295,
           false
          ],
          [
           "C",
           0.09538003,
           470,
           310,
           false
          ],
          [
           "C",
           0.00046019,
           471,
           310,
           false
          ],
          [
           "A",
           0.07004471,
           470,
           310,
           false
          ],
          [
           "A",
           0.00057078,
           474,
           295,
           false
          ],
          [
           "A",
           0.00038941,
           473,
           310,
           false
          ],
          [
           "A",
           0.00184077,
           471,
           310,
           false
          ],
          [
           "A",
           0.00018808,
           475,
           295,
           false
          ],
          [
           "A",
           0.07183011,
           472,
           310,
           false
          ],
          [
           "C",
           0.01838053,
           470,
           310,
           true
          ],
          [
           "C",
           0,
           474,
           295,
           true
          ],
          [
           "C",
           0.02998126,
           472,
           310,
           true
          ],
          [
           "C",
           0.00077882,
           473,
           310,
           true
          ],
          [
           "C",
           0,
           471,
           310,
           true
          ],
          [
           "C",
           0,
           475,
           295,
           true
          ],
          [
           "C",
           0,
           475,
           295,
           true
          ],
          [
           "C",
           0.00038941,
           473,
           310,
           true
          ],
          [
           "C",
           0.02779513,
           472,
           310,
           true
          ],
          [
           "C",
           0.01142573,
           470,
           310,
           true
          ],
          [
           "C",
           0,
           474,
           295,
           true
          ],
          [
           "C",
           0.00092039,
           471,
           310,
           true
          ],
          [
           "C",
           0,
           475,
           295,
           true
          ],
          [
           "C",
           0.00645802,
           470,
           310,
           true
          ],
          [
           "C",
           0.00057078,
           474,
           295,
           true
          ],
          [
           "C",
           0.01686446,
           472,
           310,
           true
          ],
          [
           "C",
           0,
           471,
           310,
           true
          ],
          [
           "C",
           0.00116822,
           473,
           310,
           true
          ],
          [
           "A",
           0.00905684,
           472,
           310,
           true
          ],
          [
           "A",
           0.00046019,
           471,
           310,
           true
          ],
          [
           "A",
           0.00844511,
           470,
           310,
           true
          ],
          [
           "A",
           0.00018804,
           475,
           295,
           true
          ],
          [
           "A",
           0,
           473,
           310,
           true
          ],
          [
           "A",
           0,
           474,
           295,
           true
          ],
          [
           "A",
           0.00057078,
           474,
           295,
           true
          ],
          [
           "A",
           0.00056412,
           475,
           295,
           true
          ],
          [
           "A",
           0.00077882,
           473,
           310,
           true
          ],
          [
           "A",
           0.00844511,
           470,
           310,
           true
          ],
          [
           "A",
           0,
           471,
           310,
           true
          ],
          [
           "A",
           0.00749532,
           472,
           310,
           true
          ],
          [
           "C",
           0.00046019,
           471,
           310,
           false
          ],
          [
           "C",
           0.00018804,
           475,
           295,
           false
          ],
          [
           "C",
           0.00844511,
           470,
           310,
           false
          ],
          [
           "C",
           0.02654591,
           472,
           310,
           false
          ],
          [
           "C",
           0,
           474,
           295,
           false
          ],
          [
           "C",
           0.00116822,
           473,
           310,
           false
          ]
         ],
         "type": "scatter",
         "x": [
          310,
          310,
          310,
          295,
          310,
          295
         ],
         "y": [
          0.00905684,
          0.00046019,
          0.00844511,
          0.00018804,
          0,
          0
         ]
        },
        {
         "line": {
          "color": "purple",
          "dash": "solid"
         },
         "mode": "lines",
         "name": "(A,36): 0.00029*x + -0.08637\n R2=error",
         "type": "scatter",
         "x": [
          295,
          295,
          310,
          310,
          310,
          310
         ],
         "y": [
          0.00009402000000001409,
          0.00009402000000001409,
          0.004490535000000004,
          0.004490535000000004,
          0.004490535000000004,
          0.004490535000000004
         ]
        },
        {
         "line": {
          "color": "purple",
          "dash": "dot"
         },
         "mode": "lines",
         "name": "(A,36): 0.0*x**2 + -0.00028*x\n R2=error",
         "type": "scatter",
         "x": [
          295,
          295,
          310,
          310,
          310,
          310
         ],
         "y": [
          0.0000940199999994451,
          0.0000940199999994451,
          0.0044905350000011,
          0.0044905350000011,
          0.0044905350000011,
          0.0044905350000011
         ]
        },
        {
         "hovertemplate": "<b>base: %{text[0]}<br><b>mut_rates: %{text[1]}<br><b>sample: %{text[2]}<br><b>temperature_k: %{text[3]}<br><b>paired: %{text[4]}<br>",
         "line": {
          "color": "black"
         },
         "marker": {
          "symbol": [
           0,
           0,
           0,
           0,
           0,
           0,
           0,
           0,
           0,
           0,
           0,
           0,
           0,
           0,
           0,
           0,
           0,
           0,
           100,
           100,
           100,
           100,
           100,
           100,
           100,
           100,
           100,
           100,
           100,
           100,
           100,
           100,
           100,
           100,
           100,
           100,
           100,
           100,
           100,
           100,
           100,
           100,
           0,
           0,
           0,
           0,
           0,
           0,
           0,
           0,
           0,
           0,
           0,
           0,
           0,
           0,
           0,
           0,
           0,
           0,
           0,
           0,
           0,
           0,
           0,
           0,
           0,
           0,
           0,
           0,
           0,
           0,
           100,
           100,
           100,
           100,
           100,
           100
          ]
         },
         "mode": "lines+markers",
         "name": "(A,38)",
         "text": [
          [
           "C",
           0.02966896,
           472,
           310,
           true
          ],
          [
           "C",
           0.00038971,
           473,
           310,
           true
          ],
          [
           "C",
           0,
           475,
           295,
           true
          ],
          [
           "C",
           0.00046019,
           471,
           310,
           true
          ],
          [
           "C",
           0.00596125,
           470,
           310,
           true
          ],
          [
           "C",
           0,
           474,
           295,
           true
          ],
          [
           "A",
           0,
           473,
           310,
           true
          ],
          [
           "A",
           0,
           471,
           310,
           true
          ],
          [
           "A",
           0.01717676,
           472,
           310,
           true
          ],
          [
           "A",
           0,
           474,
           295,
           true
          ],
          [
           "A",
           0.01142573,
           470,
           310,
           true
          ],
          [
           "A",
           0.00018815,
           475,
           295,
           true
          ],
          [
           "A",
           0,
           473,
           310,
           true
          ],
          [
           "A",
           0.00018815,
           475,
           295,
           true
          ],
          [
           "A",
           0.00057078,
           474,
           295,
           true
          ],
          [
           "A",
           0.00046019,
           471,
           310,
           true
          ],
          [
           "A",
           0.00905684,
           472,
           310,
           true
          ],
          [
           "A",
           0.00894188,
           470,
           310,
           true
          ],
          [
           "A",
           0,
           475,
           295,
           false
          ],
          [
           "A",
           0,
           471,
           310,
           false
          ],
          [
           "A",
           0.05017387,
           470,
           310,
           false
          ],
          [
           "A",
           0,
           474,
           295,
           false
          ],
          [
           "A",
           0.00077912,
           473,
           310,
           false
          ],
          [
           "A",
           0.04278576,
           472,
           310,
           false
          ],
          [
           "A",
           0.00077912,
           473,
           310,
           false
          ],
          [
           "A",
           0,
           474,
           295,
           false
          ],
          [
           "A",
           0.04840725,
           472,
           310,
           false
          ],
          [
           "A",
           0.00092039,
           471,
           310,
           false
          ],
          [
           "A",
           0.10183805,
           470,
           310,
           false
          ],
          [
           "A",
           0.00018808,
           475,
           295,
           false
          ],
          [
           "C",
           0.07870081,
           472,
           310,
           false
          ],
          [
           "C",
           0,
           474,
           295,
           false
          ],
          [
           "C",
           0.00038941,
           473,
           310,
           false
          ],
          [
           "C",
           0.00018808,
           475,
           295,
           false
          ],
          [
           "C",
           0.09538003,
           470,
           310,
           false
          ],
          [
           "C",
           0.00046019,
           471,
           310,
           false
          ],
          [
           "A",
           0.07004471,
           470,
           310,
           false
          ],
          [
           "A",
           0.00057078,
           474,
           295,
           false
          ],
          [
           "A",
           0.00038941,
           473,
           310,
           false
          ],
          [
           "A",
           0.00184077,
           471,
           310,
           false
          ],
          [
           "A",
           0.00018808,
           475,
           295,
           false
          ],
          [
           "A",
           0.07183011,
           472,
           310,
           false
          ],
          [
           "C",
           0.01838053,
           470,
           310,
           true
          ],
          [
           "C",
           0,
           474,
           295,
           true
          ],
          [
           "C",
           0.02998126,
           472,
           310,
           true
          ],
          [
           "C",
           0.00077882,
           473,
           310,
           true
          ],
          [
           "C",
           0,
           471,
           310,
           true
          ],
          [
           "C",
           0,
           475,
           295,
           true
          ],
          [
           "C",
           0,
           475,
           295,
           true
          ],
          [
           "C",
           0.00038941,
           473,
           310,
           true
          ],
          [
           "C",
           0.02779513,
           472,
           310,
           true
          ],
          [
           "C",
           0.01142573,
           470,
           310,
           true
          ],
          [
           "C",
           0,
           474,
           295,
           true
          ],
          [
           "C",
           0.00092039,
           471,
           310,
           true
          ],
          [
           "C",
           0,
           475,
           295,
           true
          ],
          [
           "C",
           0.00645802,
           470,
           310,
           true
          ],
          [
           "C",
           0.00057078,
           474,
           295,
           true
          ],
          [
           "C",
           0.01686446,
           472,
           310,
           true
          ],
          [
           "C",
           0,
           471,
           310,
           true
          ],
          [
           "C",
           0.00116822,
           473,
           310,
           true
          ],
          [
           "A",
           0.00905684,
           472,
           310,
           true
          ],
          [
           "A",
           0.00046019,
           471,
           310,
           true
          ],
          [
           "A",
           0.00844511,
           470,
           310,
           true
          ],
          [
           "A",
           0.00018804,
           475,
           295,
           true
          ],
          [
           "A",
           0,
           473,
           310,
           true
          ],
          [
           "A",
           0,
           474,
           295,
           true
          ],
          [
           "A",
           0.00057078,
           474,
           295,
           true
          ],
          [
           "A",
           0.00056412,
           475,
           295,
           true
          ],
          [
           "A",
           0.00077882,
           473,
           310,
           true
          ],
          [
           "A",
           0.00844511,
           470,
           310,
           true
          ],
          [
           "A",
           0,
           471,
           310,
           true
          ],
          [
           "A",
           0.00749532,
           472,
           310,
           true
          ],
          [
           "C",
           0.00046019,
           471,
           310,
           false
          ],
          [
           "C",
           0.00018804,
           475,
           295,
           false
          ],
          [
           "C",
           0.00844511,
           470,
           310,
           false
          ],
          [
           "C",
           0.02654591,
           472,
           310,
           false
          ],
          [
           "C",
           0,
           474,
           295,
           false
          ],
          [
           "C",
           0.00116822,
           473,
           310,
           false
          ]
         ],
         "type": "scatter",
         "x": [
          295,
          295,
          310,
          310,
          310,
          310
         ],
         "y": [
          0.00057078,
          0.00056412,
          0.00077882,
          0.00844511,
          0,
          0.00749532
         ]
        },
        {
         "line": {
          "color": "black",
          "dash": "solid"
         },
         "mode": "lines",
         "name": "(A,38): 0.00024*x + -0.07048\n R2=error",
         "type": "scatter",
         "x": [
          295,
          295,
          310,
          310,
          310,
          310
         ],
         "y": [
          0.0005674499999999971,
          0.0005674499999999971,
          0.004179812500000005,
          0.004179812500000005,
          0.004179812500000005,
          0.004179812500000005
         ]
        },
        {
         "line": {
          "color": "black",
          "dash": "dot"
         },
         "mode": "lines",
         "name": "(A,38): 0.0*x**2 + -0.00023*x\n R2=error",
         "type": "scatter",
         "x": [
          295,
          295,
          310,
          310,
          310,
          310
         ],
         "y": [
          0.0005674499999981514,
          0.0005674499999981514,
          0.0041798125000004765,
          0.0041798125000004765,
          0.0041798125000004765,
          0.0041798125000004765
         ]
        },
        {
         "hovertemplate": "<b>base: %{text[0]}<br><b>mut_rates: %{text[1]}<br><b>sample: %{text[2]}<br><b>temperature_k: %{text[3]}<br><b>paired: %{text[4]}<br>",
         "line": {
          "color": "yellow"
         },
         "marker": {
          "symbol": [
           0,
           0,
           0,
           0,
           0,
           0,
           0,
           0,
           0,
           0,
           0,
           0,
           0,
           0,
           0,
           0,
           0,
           0,
           100,
           100,
           100,
           100,
           100,
           100,
           100,
           100,
           100,
           100,
           100,
           100,
           100,
           100,
           100,
           100,
           100,
           100,
           100,
           100,
           100,
           100,
           100,
           100,
           0,
           0,
           0,
           0,
           0,
           0,
           0,
           0,
           0,
           0,
           0,
           0,
           0,
           0,
           0,
           0,
           0,
           0,
           0,
           0,
           0,
           0,
           0,
           0,
           0,
           0,
           0,
           0,
           0,
           0,
           100,
           100,
           100,
           100,
           100,
           100
          ]
         },
         "mode": "lines+markers",
         "name": "(C,41)",
         "text": [
          [
           "C",
           0.02966896,
           472,
           310,
           true
          ],
          [
           "C",
           0.00038971,
           473,
           310,
           true
          ],
          [
           "C",
           0,
           475,
           295,
           true
          ],
          [
           "C",
           0.00046019,
           471,
           310,
           true
          ],
          [
           "C",
           0.00596125,
           470,
           310,
           true
          ],
          [
           "C",
           0,
           474,
           295,
           true
          ],
          [
           "A",
           0,
           473,
           310,
           true
          ],
          [
           "A",
           0,
           471,
           310,
           true
          ],
          [
           "A",
           0.01717676,
           472,
           310,
           true
          ],
          [
           "A",
           0,
           474,
           295,
           true
          ],
          [
           "A",
           0.01142573,
           470,
           310,
           true
          ],
          [
           "A",
           0.00018815,
           475,
           295,
           true
          ],
          [
           "A",
           0,
           473,
           310,
           true
          ],
          [
           "A",
           0.00018815,
           475,
           295,
           true
          ],
          [
           "A",
           0.00057078,
           474,
           295,
           true
          ],
          [
           "A",
           0.00046019,
           471,
           310,
           true
          ],
          [
           "A",
           0.00905684,
           472,
           310,
           true
          ],
          [
           "A",
           0.00894188,
           470,
           310,
           true
          ],
          [
           "A",
           0,
           475,
           295,
           false
          ],
          [
           "A",
           0,
           471,
           310,
           false
          ],
          [
           "A",
           0.05017387,
           470,
           310,
           false
          ],
          [
           "A",
           0,
           474,
           295,
           false
          ],
          [
           "A",
           0.00077912,
           473,
           310,
           false
          ],
          [
           "A",
           0.04278576,
           472,
           310,
           false
          ],
          [
           "A",
           0.00077912,
           473,
           310,
           false
          ],
          [
           "A",
           0,
           474,
           295,
           false
          ],
          [
           "A",
           0.04840725,
           472,
           310,
           false
          ],
          [
           "A",
           0.00092039,
           471,
           310,
           false
          ],
          [
           "A",
           0.10183805,
           470,
           310,
           false
          ],
          [
           "A",
           0.00018808,
           475,
           295,
           false
          ],
          [
           "C",
           0.07870081,
           472,
           310,
           false
          ],
          [
           "C",
           0,
           474,
           295,
           false
          ],
          [
           "C",
           0.00038941,
           473,
           310,
           false
          ],
          [
           "C",
           0.00018808,
           475,
           295,
           false
          ],
          [
           "C",
           0.09538003,
           470,
           310,
           false
          ],
          [
           "C",
           0.00046019,
           471,
           310,
           false
          ],
          [
           "A",
           0.07004471,
           470,
           310,
           false
          ],
          [
           "A",
           0.00057078,
           474,
           295,
           false
          ],
          [
           "A",
           0.00038941,
           473,
           310,
           false
          ],
          [
           "A",
           0.00184077,
           471,
           310,
           false
          ],
          [
           "A",
           0.00018808,
           475,
           295,
           false
          ],
          [
           "A",
           0.07183011,
           472,
           310,
           false
          ],
          [
           "C",
           0.01838053,
           470,
           310,
           true
          ],
          [
           "C",
           0,
           474,
           295,
           true
          ],
          [
           "C",
           0.02998126,
           472,
           310,
           true
          ],
          [
           "C",
           0.00077882,
           473,
           310,
           true
          ],
          [
           "C",
           0,
           471,
           310,
           true
          ],
          [
           "C",
           0,
           475,
           295,
           true
          ],
          [
           "C",
           0,
           475,
           295,
           true
          ],
          [
           "C",
           0.00038941,
           473,
           310,
           true
          ],
          [
           "C",
           0.02779513,
           472,
           310,
           true
          ],
          [
           "C",
           0.01142573,
           470,
           310,
           true
          ],
          [
           "C",
           0,
           474,
           295,
           true
          ],
          [
           "C",
           0.00092039,
           471,
           310,
           true
          ],
          [
           "C",
           0,
           475,
           295,
           true
          ],
          [
           "C",
           0.00645802,
           470,
           310,
           true
          ],
          [
           "C",
           0.00057078,
           474,
           295,
           true
          ],
          [
           "C",
           0.01686446,
           472,
           310,
           true
          ],
          [
           "C",
           0,
           471,
           310,
           true
          ],
          [
           "C",
           0.00116822,
           473,
           310,
           true
          ],
          [
           "A",
           0.00905684,
           472,
           310,
           true
          ],
          [
           "A",
           0.00046019,
           471,
           310,
           true
          ],
          [
           "A",
           0.00844511,
           470,
           310,
           true
          ],
          [
           "A",
           0.00018804,
           475,
           295,
           true
          ],
          [
           "A",
           0,
           473,
           310,
           true
          ],
          [
           "A",
           0,
           474,
           295,
           true
          ],
          [
           "A",
           0.00057078,
           474,
           295,
           true
          ],
          [
           "A",
           0.00056412,
           475,
           295,
           true
          ],
          [
           "A",
           0.00077882,
           473,
           310,
           true
          ],
          [
           "A",
           0.00844511,
           470,
           310,
           true
          ],
          [
           "A",
           0,
           471,
           310,
           true
          ],
          [
           "A",
           0.00749532,
           472,
           310,
           true
          ],
          [
           "C",
           0.00046019,
           471,
           310,
           false
          ],
          [
           "C",
           0.00018804,
           475,
           295,
           false
          ],
          [
           "C",
           0.00844511,
           470,
           310,
           false
          ],
          [
           "C",
           0.02654591,
           472,
           310,
           false
          ],
          [
           "C",
           0,
           474,
           295,
           false
          ],
          [
           "C",
           0.00116822,
           473,
           310,
           false
          ]
         ],
         "type": "scatter",
         "x": [
          310,
          295,
          310,
          310,
          295,
          310
         ],
         "y": [
          0.00046019,
          0.00018804,
          0.00844511,
          0.02654591,
          0,
          0.00116822
         ]
        },
        {
         "line": {
          "color": "yellow",
          "dash": "solid"
         },
         "mode": "lines",
         "name": "(C,41): 0.0006*x + -0.1781\n R2=error",
         "type": "scatter",
         "x": [
          295,
          295,
          310,
          310,
          310,
          310
         ],
         "y": [
          0.00009401999999997246,
          0.00009401999999997246,
          0.009154857500000002,
          0.009154857500000002,
          0.009154857500000002,
          0.009154857500000002
         ]
        },
        {
         "line": {
          "color": "yellow",
          "dash": "dot"
         },
         "mode": "lines",
         "name": "(C,41): 0.0*x**2 + -0.00057*x\n R2=error",
         "type": "scatter",
         "x": [
          295,
          295,
          310,
          310,
          310,
          310
         ],
         "y": [
          0.00009401999999950061,
          0.00009401999999950061,
          0.009154857499998531,
          0.009154857499998531,
          0.009154857499998531,
          0.009154857499998531
         ]
        },
        {
         "hovertemplate": "<b>base: %{text[0]}<br><b>mut_rates: %{text[1]}<br><b>sample: %{text[2]}<br><b>temperature_k: %{text[3]}<br><b>paired: %{text[4]}<br>",
         "line": {
          "color": "pink"
         },
         "marker": {
          "symbol": [
           0,
           0,
           0,
           0,
           0,
           0,
           0,
           0,
           0,
           0,
           0,
           0,
           0,
           0,
           0,
           0,
           0,
           0,
           100,
           100,
           100,
           100,
           100,
           100,
           100,
           100,
           100,
           100,
           100,
           100,
           100,
           100,
           100,
           100,
           100,
           100,
           100,
           100,
           100,
           100,
           100,
           100,
           0,
           0,
           0,
           0,
           0,
           0,
           0,
           0,
           0,
           0,
           0,
           0,
           0,
           0,
           0,
           0,
           0,
           0,
           0,
           0,
           0,
           0,
           0,
           0,
           0,
           0,
           0,
           0,
           0,
           0,
           100,
           100,
           100,
           100,
           100,
           100
          ]
         },
         "mode": "lines+markers",
         "name": "(C,20)",
         "text": [
          [
           "C",
           0.02966896,
           472,
           310,
           true
          ],
          [
           "C",
           0.00038971,
           473,
           310,
           true
          ],
          [
           "C",
           0,
           475,
           295,
           true
          ],
          [
           "C",
           0.00046019,
           471,
           310,
           true
          ],
          [
           "C",
           0.00596125,
           470,
           310,
           true
          ],
          [
           "C",
           0,
           474,
           295,
           true
          ],
          [
           "A",
           0,
           473,
           310,
           true
          ],
          [
           "A",
           0,
           471,
           310,
           true
          ],
          [
           "A",
           0.01717676,
           472,
           310,
           true
          ],
          [
           "A",
           0,
           474,
           295,
           true
          ],
          [
           "A",
           0.01142573,
           470,
           310,
           true
          ],
          [
           "A",
           0.00018815,
           475,
           295,
           true
          ],
          [
           "A",
           0,
           473,
           310,
           true
          ],
          [
           "A",
           0.00018815,
           475,
           295,
           true
          ],
          [
           "A",
           0.00057078,
           474,
           295,
           true
          ],
          [
           "A",
           0.00046019,
           471,
           310,
           true
          ],
          [
           "A",
           0.00905684,
           472,
           310,
           true
          ],
          [
           "A",
           0.00894188,
           470,
           310,
           true
          ],
          [
           "A",
           0,
           475,
           295,
           false
          ],
          [
           "A",
           0,
           471,
           310,
           false
          ],
          [
           "A",
           0.05017387,
           470,
           310,
           false
          ],
          [
           "A",
           0,
           474,
           295,
           false
          ],
          [
           "A",
           0.00077912,
           473,
           310,
           false
          ],
          [
           "A",
           0.04278576,
           472,
           310,
           false
          ],
          [
           "A",
           0.00077912,
           473,
           310,
           false
          ],
          [
           "A",
           0,
           474,
           295,
           false
          ],
          [
           "A",
           0.04840725,
           472,
           310,
           false
          ],
          [
           "A",
           0.00092039,
           471,
           310,
           false
          ],
          [
           "A",
           0.10183805,
           470,
           310,
           false
          ],
          [
           "A",
           0.00018808,
           475,
           295,
           false
          ],
          [
           "C",
           0.07870081,
           472,
           310,
           false
          ],
          [
           "C",
           0,
           474,
           295,
           false
          ],
          [
           "C",
           0.00038941,
           473,
           310,
           false
          ],
          [
           "C",
           0.00018808,
           475,
           295,
           false
          ],
          [
           "C",
           0.09538003,
           470,
           310,
           false
          ],
          [
           "C",
           0.00046019,
           471,
           310,
           false
          ],
          [
           "A",
           0.07004471,
           470,
           310,
           false
          ],
          [
           "A",
           0.00057078,
           474,
           295,
           false
          ],
          [
           "A",
           0.00038941,
           473,
           310,
           false
          ],
          [
           "A",
           0.00184077,
           471,
           310,
           false
          ],
          [
           "A",
           0.00018808,
           475,
           295,
           false
          ],
          [
           "A",
           0.07183011,
           472,
           310,
           false
          ],
          [
           "C",
           0.01838053,
           470,
           310,
           true
          ],
          [
           "C",
           0,
           474,
           295,
           true
          ],
          [
           "C",
           0.02998126,
           472,
           310,
           true
          ],
          [
           "C",
           0.00077882,
           473,
           310,
           true
          ],
          [
           "C",
           0,
           471,
           310,
           true
          ],
          [
           "C",
           0,
           475,
           295,
           true
          ],
          [
           "C",
           0,
           475,
           295,
           true
          ],
          [
           "C",
           0.00038941,
           473,
           310,
           true
          ],
          [
           "C",
           0.02779513,
           472,
           310,
           true
          ],
          [
           "C",
           0.01142573,
           470,
           310,
           true
          ],
          [
           "C",
           0,
           474,
           295,
           true
          ],
          [
           "C",
           0.00092039,
           471,
           310,
           true
          ],
          [
           "C",
           0,
           475,
           295,
           true
          ],
          [
           "C",
           0.00645802,
           470,
           310,
           true
          ],
          [
           "C",
           0.00057078,
           474,
           295,
           true
          ],
          [
           "C",
           0.01686446,
           472,
           310,
           true
          ],
          [
           "C",
           0,
           471,
           310,
           true
          ],
          [
           "C",
           0.00116822,
           473,
           310,
           true
          ],
          [
           "A",
           0.00905684,
           472,
           310,
           true
          ],
          [
           "A",
           0.00046019,
           471,
           310,
           true
          ],
          [
           "A",
           0.00844511,
           470,
           310,
           true
          ],
          [
           "A",
           0.00018804,
           475,
           295,
           true
          ],
          [
           "A",
           0,
           473,
           310,
           true
          ],
          [
           "A",
           0,
           474,
           295,
           true
          ],
          [
           "A",
           0.00057078,
           474,
           295,
           true
          ],
          [
           "A",
           0.00056412,
           475,
           295,
           true
          ],
          [
           "A",
           0.00077882,
           473,
           310,
           true
          ],
          [
           "A",
           0.00844511,
           470,
           310,
           true
          ],
          [
           "A",
           0,
           471,
           310,
           true
          ],
          [
           "A",
           0.00749532,
           472,
           310,
           true
          ],
          [
           "C",
           0.00046019,
           471,
           310,
           false
          ],
          [
           "C",
           0.00018804,
           475,
           295,
           false
          ],
          [
           "C",
           0.00844511,
           470,
           310,
           false
          ],
          [
           "C",
           0.02654591,
           472,
           310,
           false
          ],
          [
           "C",
           0,
           474,
           295,
           false
          ],
          [
           "C",
           0.00116822,
           473,
           310,
           false
          ]
         ],
         "type": "scatter",
         "x": [
          310,
          310,
          295,
          310,
          310,
          295
         ],
         "y": [
          0.02966896,
          0.00038971,
          0,
          0.00046019,
          0.00596125,
          0
         ]
        },
        {
         "line": {
          "color": "pink",
          "dash": "solid"
         },
         "mode": "lines",
         "name": "(C,20): 0.00061*x + -0.17936\n R2=error",
         "type": "scatter",
         "x": [
          295,
          295,
          310,
          310,
          310,
          310
         ],
         "y": [
          -2.7755575615628914e-17,
          -2.7755575615628914e-17,
          0.009120027500000016,
          0.009120027500000016,
          0.009120027500000016,
          0.009120027500000016
         ]
        },
        {
         "line": {
          "color": "pink",
          "dash": "dot"
         },
         "mode": "lines",
         "name": "(C,20): 0.0*x**2 + -0.00058*x\n R2=error",
         "type": "scatter",
         "x": [
          295,
          295,
          310,
          310,
          310,
          310
         ],
         "y": [
          -9.992007221626409e-16,
          -9.992007221626409e-16,
          0.009120027500000238,
          0.009120027500000238,
          0.009120027500000238,
          0.009120027500000238
         ]
        },
        {
         "hovertemplate": "<b>base: %{text[0]}<br><b>mut_rates: %{text[1]}<br><b>sample: %{text[2]}<br><b>temperature_k: %{text[3]}<br><b>paired: %{text[4]}<br>",
         "line": {
          "color": "brown"
         },
         "marker": {
          "symbol": [
           0,
           0,
           0,
           0,
           0,
           0,
           0,
           0,
           0,
           0,
           0,
           0,
           0,
           0,
           0,
           0,
           0,
           0,
           100,
           100,
           100,
           100,
           100,
           100,
           100,
           100,
           100,
           100,
           100,
           100,
           100,
           100,
           100,
           100,
           100,
           100,
           100,
           100,
           100,
           100,
           100,
           100,
           0,
           0,
           0,
           0,
           0,
           0,
           0,
           0,
           0,
           0,
           0,
           0,
           0,
           0,
           0,
           0,
           0,
           0,
           0,
           0,
           0,
           0,
           0,
           0,
           0,
           0,
           0,
           0,
           0,
           0,
           100,
           100,
           100,
           100,
           100,
           100
          ]
         },
         "mode": "lines+markers",
         "name": "(A,21)",
         "text": [
          [
           "C",
           0.02966896,
           472,
           310,
           true
          ],
          [
           "C",
           0.00038971,
           473,
           310,
           true
          ],
          [
           "C",
           0,
           475,
           295,
           true
          ],
          [
           "C",
           0.00046019,
           471,
           310,
           true
          ],
          [
           "C",
           0.00596125,
           470,
           310,
           true
          ],
          [
           "C",
           0,
           474,
           295,
           true
          ],
          [
           "A",
           0,
           473,
           310,
           true
          ],
          [
           "A",
           0,
           471,
           310,
           true
          ],
          [
           "A",
           0.01717676,
           472,
           310,
           true
          ],
          [
           "A",
           0,
           474,
           295,
           true
          ],
          [
           "A",
           0.01142573,
           470,
           310,
           true
          ],
          [
           "A",
           0.00018815,
           475,
           295,
           true
          ],
          [
           "A",
           0,
           473,
           310,
           true
          ],
          [
           "A",
           0.00018815,
           475,
           295,
           true
          ],
          [
           "A",
           0.00057078,
           474,
           295,
           true
          ],
          [
           "A",
           0.00046019,
           471,
           310,
           true
          ],
          [
           "A",
           0.00905684,
           472,
           310,
           true
          ],
          [
           "A",
           0.00894188,
           470,
           310,
           true
          ],
          [
           "A",
           0,
           475,
           295,
           false
          ],
          [
           "A",
           0,
           471,
           310,
           false
          ],
          [
           "A",
           0.05017387,
           470,
           310,
           false
          ],
          [
           "A",
           0,
           474,
           295,
           false
          ],
          [
           "A",
           0.00077912,
           473,
           310,
           false
          ],
          [
           "A",
           0.04278576,
           472,
           310,
           false
          ],
          [
           "A",
           0.00077912,
           473,
           310,
           false
          ],
          [
           "A",
           0,
           474,
           295,
           false
          ],
          [
           "A",
           0.04840725,
           472,
           310,
           false
          ],
          [
           "A",
           0.00092039,
           471,
           310,
           false
          ],
          [
           "A",
           0.10183805,
           470,
           310,
           false
          ],
          [
           "A",
           0.00018808,
           475,
           295,
           false
          ],
          [
           "C",
           0.07870081,
           472,
           310,
           false
          ],
          [
           "C",
           0,
           474,
           295,
           false
          ],
          [
           "C",
           0.00038941,
           473,
           310,
           false
          ],
          [
           "C",
           0.00018808,
           475,
           295,
           false
          ],
          [
           "C",
           0.09538003,
           470,
           310,
           false
          ],
          [
           "C",
           0.00046019,
           471,
           310,
           false
          ],
          [
           "A",
           0.07004471,
           470,
           310,
           false
          ],
          [
           "A",
           0.00057078,
           474,
           295,
           false
          ],
          [
           "A",
           0.00038941,
           473,
           310,
           false
          ],
          [
           "A",
           0.00184077,
           471,
           310,
           false
          ],
          [
           "A",
           0.00018808,
           475,
           295,
           false
          ],
          [
           "A",
           0.07183011,
           472,
           310,
           false
          ],
          [
           "C",
           0.01838053,
           470,
           310,
           true
          ],
          [
           "C",
           0,
           474,
           295,
           true
          ],
          [
           "C",
           0.02998126,
           472,
           310,
           true
          ],
          [
           "C",
           0.00077882,
           473,
           310,
           true
          ],
          [
           "C",
           0,
           471,
           310,
           true
          ],
          [
           "C",
           0,
           475,
           295,
           true
          ],
          [
           "C",
           0,
           475,
           295,
           true
          ],
          [
           "C",
           0.00038941,
           473,
           310,
           true
          ],
          [
           "C",
           0.02779513,
           472,
           310,
           true
          ],
          [
           "C",
           0.01142573,
           470,
           310,
           true
          ],
          [
           "C",
           0,
           474,
           295,
           true
          ],
          [
           "C",
           0.00092039,
           471,
           310,
           true
          ],
          [
           "C",
           0,
           475,
           295,
           true
          ],
          [
           "C",
           0.00645802,
           470,
           310,
           true
          ],
          [
           "C",
           0.00057078,
           474,
           295,
           true
          ],
          [
           "C",
           0.01686446,
           472,
           310,
           true
          ],
          [
           "C",
           0,
           471,
           310,
           true
          ],
          [
           "C",
           0.00116822,
           473,
           310,
           true
          ],
          [
           "A",
           0.00905684,
           472,
           310,
           true
          ],
          [
           "A",
           0.00046019,
           471,
           310,
           true
          ],
          [
           "A",
           0.00844511,
           470,
           310,
           true
          ],
          [
           "A",
           0.00018804,
           475,
           295,
           true
          ],
          [
           "A",
           0,
           473,
           310,
           true
          ],
          [
           "A",
           0,
           474,
           295,
           true
          ],
          [
           "A",
           0.00057078,
           474,
           295,
           true
          ],
          [
           "A",
           0.00056412,
           475,
           295,
           true
          ],
          [
           "A",
           0.00077882,
           473,
           310,
           true
          ],
          [
           "A",
           0.00844511,
           470,
           310,
           true
          ],
          [
           "A",
           0,
           471,
           310,
           true
          ],
          [
           "A",
           0.00749532,
           472,
           310,
           true
          ],
          [
           "C",
           0.00046019,
           471,
           310,
           false
          ],
          [
           "C",
           0.00018804,
           475,
           295,
           false
          ],
          [
           "C",
           0.00844511,
           470,
           310,
           false
          ],
          [
           "C",
           0.02654591,
           472,
           310,
           false
          ],
          [
           "C",
           0,
           474,
           295,
           false
          ],
          [
           "C",
           0.00116822,
           473,
           310,
           false
          ]
         ],
         "type": "scatter",
         "x": [
          310,
          310,
          310,
          295,
          310,
          295
         ],
         "y": [
          0,
          0,
          0.01717676,
          0,
          0.01142573,
          0.00018815
         ]
        },
        {
         "line": {
          "color": "brown",
          "dash": "solid"
         },
         "mode": "lines",
         "name": "(A,21): 0.00047*x + -0.13868\n R2=error",
         "type": "scatter",
         "x": [
          295,
          295,
          310,
          310,
          310,
          310
         ],
         "y": [
          0.00009407500000005453,
          0.00009407500000005453,
          0.007150622499999981,
          0.007150622499999981,
          0.007150622499999981,
          0.007150622499999981
         ]
        },
        {
         "line": {
          "color": "brown",
          "dash": "dot"
         },
         "mode": "lines",
         "name": "(A,21): 0.0*x**2 + -0.00045*x\n R2=error",
         "type": "scatter",
         "x": [
          295,
          295,
          310,
          310,
          310,
          310
         ],
         "y": [
          0.00009407499999899982,
          0.00009407499999899982,
          0.007150622499999731,
          0.007150622499999731,
          0.007150622499999731,
          0.007150622499999731
         ]
        },
        {
         "hovertemplate": "<b>base: %{text[0]}<br><b>mut_rates: %{text[1]}<br><b>sample: %{text[2]}<br><b>temperature_k: %{text[3]}<br><b>paired: %{text[4]}<br>",
         "line": {
          "color": "grey"
         },
         "marker": {
          "symbol": [
           0,
           0,
           0,
           0,
           0,
           0,
           0,
           0,
           0,
           0,
           0,
           0,
           0,
           0,
           0,
           0,
           0,
           0,
           100,
           100,
           100,
           100,
           100,
           100,
           100,
           100,
           100,
           100,
           100,
           100,
           100,
           100,
           100,
           100,
           100,
           100,
           100,
           100,
           100,
           100,
           100,
           100,
           0,
           0,
           0,
           0,
           0,
           0,
           0,
           0,
           0,
           0,
           0,
           0,
           0,
           0,
           0,
           0,
           0,
           0,
           0,
           0,
           0,
           0,
           0,
           0,
           0,
           0,
           0,
           0,
           0,
           0,
           100,
           100,
           100,
           100,
           100,
           100
          ]
         },
         "mode": "lines+markers",
         "name": "(A,23)",
         "text": [
          [
           "C",
           0.02966896,
           472,
           310,
           true
          ],
          [
           "C",
           0.00038971,
           473,
           310,
           true
          ],
          [
           "C",
           0,
           475,
           295,
           true
          ],
          [
           "C",
           0.00046019,
           471,
           310,
           true
          ],
          [
           "C",
           0.00596125,
           470,
           310,
           true
          ],
          [
           "C",
           0,
           474,
           295,
           true
          ],
          [
           "A",
           0,
           473,
           310,
           true
          ],
          [
           "A",
           0,
           471,
           310,
           true
          ],
          [
           "A",
           0.01717676,
           472,
           310,
           true
          ],
          [
           "A",
           0,
           474,
           295,
           true
          ],
          [
           "A",
           0.01142573,
           470,
           310,
           true
          ],
          [
           "A",
           0.00018815,
           475,
           295,
           true
          ],
          [
           "A",
           0,
           473,
           310,
           true
          ],
          [
           "A",
           0.00018815,
           475,
           295,
           true
          ],
          [
           "A",
           0.00057078,
           474,
           295,
           true
          ],
          [
           "A",
           0.00046019,
           471,
           310,
           true
          ],
          [
           "A",
           0.00905684,
           472,
           310,
           true
          ],
          [
           "A",
           0.00894188,
           470,
           310,
           true
          ],
          [
           "A",
           0,
           475,
           295,
           false
          ],
          [
           "A",
           0,
           471,
           310,
           false
          ],
          [
           "A",
           0.05017387,
           470,
           310,
           false
          ],
          [
           "A",
           0,
           474,
           295,
           false
          ],
          [
           "A",
           0.00077912,
           473,
           310,
           false
          ],
          [
           "A",
           0.04278576,
           472,
           310,
           false
          ],
          [
           "A",
           0.00077912,
           473,
           310,
           false
          ],
          [
           "A",
           0,
           474,
           295,
           false
          ],
          [
           "A",
           0.04840725,
           472,
           310,
           false
          ],
          [
           "A",
           0.00092039,
           471,
           310,
           false
          ],
          [
           "A",
           0.10183805,
           470,
           310,
           false
          ],
          [
           "A",
           0.00018808,
           475,
           295,
           false
          ],
          [
           "C",
           0.07870081,
           472,
           310,
           false
          ],
          [
           "C",
           0,
           474,
           295,
           false
          ],
          [
           "C",
           0.00038941,
           473,
           310,
           false
          ],
          [
           "C",
           0.00018808,
           475,
           295,
           false
          ],
          [
           "C",
           0.09538003,
           470,
           310,
           false
          ],
          [
           "C",
           0.00046019,
           471,
           310,
           false
          ],
          [
           "A",
           0.07004471,
           470,
           310,
           false
          ],
          [
           "A",
           0.00057078,
           474,
           295,
           false
          ],
          [
           "A",
           0.00038941,
           473,
           310,
           false
          ],
          [
           "A",
           0.00184077,
           471,
           310,
           false
          ],
          [
           "A",
           0.00018808,
           475,
           295,
           false
          ],
          [
           "A",
           0.07183011,
           472,
           310,
           false
          ],
          [
           "C",
           0.01838053,
           470,
           310,
           true
          ],
          [
           "C",
           0,
           474,
           295,
           true
          ],
          [
           "C",
           0.02998126,
           472,
           310,
           true
          ],
          [
           "C",
           0.00077882,
           473,
           310,
           true
          ],
          [
           "C",
           0,
           471,
           310,
           true
          ],
          [
           "C",
           0,
           475,
           295,
           true
          ],
          [
           "C",
           0,
           475,
           295,
           true
          ],
          [
           "C",
           0.00038941,
           473,
           310,
           true
          ],
          [
           "C",
           0.02779513,
           472,
           310,
           true
          ],
          [
           "C",
           0.01142573,
           470,
           310,
           true
          ],
          [
           "C",
           0,
           474,
           295,
           true
          ],
          [
           "C",
           0.00092039,
           471,
           310,
           true
          ],
          [
           "C",
           0,
           475,
           295,
           true
          ],
          [
           "C",
           0.00645802,
           470,
           310,
           true
          ],
          [
           "C",
           0.00057078,
           474,
           295,
           true
          ],
          [
           "C",
           0.01686446,
           472,
           310,
           true
          ],
          [
           "C",
           0,
           471,
           310,
           true
          ],
          [
           "C",
           0.00116822,
           473,
           310,
           true
          ],
          [
           "A",
           0.00905684,
           472,
           310,
           true
          ],
          [
           "A",
           0.00046019,
           471,
           310,
           true
          ],
          [
           "A",
           0.00844511,
           470,
           310,
           true
          ],
          [
           "A",
           0.00018804,
           475,
           295,
           true
          ],
          [
           "A",
           0,
           473,
           310,
           true
          ],
          [
           "A",
           0,
           474,
           295,
           true
          ],
          [
           "A",
           0.00057078,
           474,
           295,
           true
          ],
          [
           "A",
           0.00056412,
           475,
           295,
           true
          ],
          [
           "A",
           0.00077882,
           473,
           310,
           true
          ],
          [
           "A",
           0.00844511,
           470,
           310,
           true
          ],
          [
           "A",
           0,
           471,
           310,
           true
          ],
          [
           "A",
           0.00749532,
           472,
           310,
           true
          ],
          [
           "C",
           0.00046019,
           471,
           310,
           false
          ],
          [
           "C",
           0.00018804,
           475,
           295,
           false
          ],
          [
           "C",
           0.00844511,
           470,
           310,
           false
          ],
          [
           "C",
           0.02654591,
           472,
           310,
           false
          ],
          [
           "C",
           0,
           474,
           295,
           false
          ],
          [
           "C",
           0.00116822,
           473,
           310,
           false
          ]
         ],
         "type": "scatter",
         "x": [
          310,
          295,
          295,
          310,
          310,
          310
         ],
         "y": [
          0,
          0.00018815,
          0.00057078,
          0.00046019,
          0.00905684,
          0.00894188
         ]
        },
        {
         "line": {
          "color": "grey",
          "dash": "solid"
         },
         "mode": "lines",
         "name": "(A,23): 0.00028*x + -0.08291\n R2=error",
         "type": "scatter",
         "x": [
          295,
          295,
          310,
          310,
          310,
          310
         ],
         "y": [
          0.0003794649999999816,
          0.0003794649999999816,
          0.0046147275000000265,
          0.0046147275000000265,
          0.0046147275000000265,
          0.0046147275000000265
         ]
        },
        {
         "line": {
          "color": "grey",
          "dash": "dot"
         },
         "mode": "lines",
         "name": "(A,23): 0.0*x**2 + -0.00027*x\n R2=error",
         "type": "scatter",
         "x": [
          295,
          295,
          310,
          310,
          310,
          310
         ],
         "y": [
          0.0003794650000003702,
          0.0003794650000003702,
          0.004614727499999846,
          0.004614727499999846,
          0.004614727499999846,
          0.004614727499999846
         ]
        },
        {
         "hovertemplate": "<b>base: %{text[0]}<br><b>mut_rates: %{text[1]}<br><b>sample: %{text[2]}<br><b>temperature_k: %{text[3]}<br><b>paired: %{text[4]}<br>",
         "line": {
          "color": "cyan"
         },
         "marker": {
          "symbol": [
           0,
           0,
           0,
           0,
           0,
           0,
           0,
           0,
           0,
           0,
           0,
           0,
           0,
           0,
           0,
           0,
           0,
           0,
           100,
           100,
           100,
           100,
           100,
           100,
           100,
           100,
           100,
           100,
           100,
           100,
           100,
           100,
           100,
           100,
           100,
           100,
           100,
           100,
           100,
           100,
           100,
           100,
           0,
           0,
           0,
           0,
           0,
           0,
           0,
           0,
           0,
           0,
           0,
           0,
           0,
           0,
           0,
           0,
           0,
           0,
           0,
           0,
           0,
           0,
           0,
           0,
           0,
           0,
           0,
           0,
           0,
           0,
           100,
           100,
           100,
           100,
           100,
           100
          ]
         },
         "mode": "lines+markers",
         "name": "(A,26)",
         "text": [
          [
           "C",
           0.02966896,
           472,
           310,
           true
          ],
          [
           "C",
           0.00038971,
           473,
           310,
           true
          ],
          [
           "C",
           0,
           475,
           295,
           true
          ],
          [
           "C",
           0.00046019,
           471,
           310,
           true
          ],
          [
           "C",
           0.00596125,
           470,
           310,
           true
          ],
          [
           "C",
           0,
           474,
           295,
           true
          ],
          [
           "A",
           0,
           473,
           310,
           true
          ],
          [
           "A",
           0,
           471,
           310,
           true
          ],
          [
           "A",
           0.01717676,
           472,
           310,
           true
          ],
          [
           "A",
           0,
           474,
           295,
           true
          ],
          [
           "A",
           0.01142573,
           470,
           310,
           true
          ],
          [
           "A",
           0.00018815,
           475,
           295,
           true
          ],
          [
           "A",
           0,
           473,
           310,
           true
          ],
          [
           "A",
           0.00018815,
           475,
           295,
           true
          ],
          [
           "A",
           0.00057078,
           474,
           295,
           true
          ],
          [
           "A",
           0.00046019,
           471,
           310,
           true
          ],
          [
           "A",
           0.00905684,
           472,
           310,
           true
          ],
          [
           "A",
           0.00894188,
           470,
           310,
           true
          ],
          [
           "A",
           0,
           475,
           295,
           false
          ],
          [
           "A",
           0,
           471,
           310,
           false
          ],
          [
           "A",
           0.05017387,
           470,
           310,
           false
          ],
          [
           "A",
           0,
           474,
           295,
           false
          ],
          [
           "A",
           0.00077912,
           473,
           310,
           false
          ],
          [
           "A",
           0.04278576,
           472,
           310,
           false
          ],
          [
           "A",
           0.00077912,
           473,
           310,
           false
          ],
          [
           "A",
           0,
           474,
           295,
           false
          ],
          [
           "A",
           0.04840725,
           472,
           310,
           false
          ],
          [
           "A",
           0.00092039,
           471,
           310,
           false
          ],
          [
           "A",
           0.10183805,
           470,
           310,
           false
          ],
          [
           "A",
           0.00018808,
           475,
           295,
           false
          ],
          [
           "C",
           0.07870081,
           472,
           310,
           false
          ],
          [
           "C",
           0,
           474,
           295,
           false
          ],
          [
           "C",
           0.00038941,
           473,
           310,
           false
          ],
          [
           "C",
           0.00018808,
           475,
           295,
           false
          ],
          [
           "C",
           0.09538003,
           470,
           310,
           false
          ],
          [
           "C",
           0.00046019,
           471,
           310,
           false
          ],
          [
           "A",
           0.07004471,
           470,
           310,
           false
          ],
          [
           "A",
           0.00057078,
           474,
           295,
           false
          ],
          [
           "A",
           0.00038941,
           473,
           310,
           false
          ],
          [
           "A",
           0.00184077,
           471,
           310,
           false
          ],
          [
           "A",
           0.00018808,
           475,
           295,
           false
          ],
          [
           "A",
           0.07183011,
           472,
           310,
           false
          ],
          [
           "C",
           0.01838053,
           470,
           310,
           true
          ],
          [
           "C",
           0,
           474,
           295,
           true
          ],
          [
           "C",
           0.02998126,
           472,
           310,
           true
          ],
          [
           "C",
           0.00077882,
           473,
           310,
           true
          ],
          [
           "C",
           0,
           471,
           310,
           true
          ],
          [
           "C",
           0,
           475,
           295,
           true
          ],
          [
           "C",
           0,
           475,
           295,
           true
          ],
          [
           "C",
           0.00038941,
           473,
           310,
           true
          ],
          [
           "C",
           0.02779513,
           472,
           310,
           true
          ],
          [
           "C",
           0.01142573,
           470,
           310,
           true
          ],
          [
           "C",
           0,
           474,
           295,
           true
          ],
          [
           "C",
           0.00092039,
           471,
           310,
           true
          ],
          [
           "C",
           0,
           475,
           295,
           true
          ],
          [
           "C",
           0.00645802,
           470,
           310,
           true
          ],
          [
           "C",
           0.00057078,
           474,
           295,
           true
          ],
          [
           "C",
           0.01686446,
           472,
           310,
           true
          ],
          [
           "C",
           0,
           471,
           310,
           true
          ],
          [
           "C",
           0.00116822,
           473,
           310,
           true
          ],
          [
           "A",
           0.00905684,
           472,
           310,
           true
          ],
          [
           "A",
           0.00046019,
           471,
           310,
           true
          ],
          [
           "A",
           0.00844511,
           470,
           310,
           true
          ],
          [
           "A",
           0.00018804,
           475,
           295,
           true
          ],
          [
           "A",
           0,
           473,
           310,
           true
          ],
          [
           "A",
           0,
           474,
           295,
           true
          ],
          [
           "A",
           0.00057078,
           474,
           295,
           true
          ],
          [
           "A",
           0.00056412,
           475,
           295,
           true
          ],
          [
           "A",
           0.00077882,
           473,
           310,
           true
          ],
          [
           "A",
           0.00844511,
           470,
           310,
           true
          ],
          [
           "A",
           0,
           471,
           310,
           true
          ],
          [
           "A",
           0.00749532,
           472,
           310,
           true
          ],
          [
           "C",
           0.00046019,
           471,
           310,
           false
          ],
          [
           "C",
           0.00018804,
           475,
           295,
           false
          ],
          [
           "C",
           0.00844511,
           470,
           310,
           false
          ],
          [
           "C",
           0.02654591,
           472,
           310,
           false
          ],
          [
           "C",
           0,
           474,
           295,
           false
          ],
          [
           "C",
           0.00116822,
           473,
           310,
           false
          ]
         ],
         "type": "scatter",
         "x": [
          295,
          310,
          310,
          295,
          310,
          310
         ],
         "y": [
          0,
          0,
          0.05017387,
          0,
          0.00077912,
          0.04278576
         ]
        },
        {
         "line": {
          "color": "cyan",
          "dash": "solid"
         },
         "mode": "lines",
         "name": "(A,26): 0.00156*x + -0.46088\n R2=error",
         "type": "scatter",
         "x": [
          295,
          295,
          310,
          310,
          310,
          310
         ],
         "y": [
          0,
          0,
          0.023434687499999995,
          0.023434687499999995,
          0.023434687499999995,
          0.023434687499999995
         ]
        },
        {
         "line": {
          "color": "cyan",
          "dash": "dot"
         },
         "mode": "lines",
         "name": "(A,26): 1e-05*x**2 + -0.00149*x\n R2=error",
         "type": "scatter",
         "x": [
          295,
          295,
          310,
          310,
          310,
          310
         ],
         "y": [
          5.551115123125783e-17,
          5.551115123125783e-17,
          0.023434687499999995,
          0.023434687499999995,
          0.023434687499999995,
          0.023434687499999995
         ]
        },
        {
         "hovertemplate": "<b>base: %{text[0]}<br><b>mut_rates: %{text[1]}<br><b>sample: %{text[2]}<br><b>temperature_k: %{text[3]}<br><b>paired: %{text[4]}<br>",
         "line": {
          "color": "magenta"
         },
         "marker": {
          "symbol": [
           0,
           0,
           0,
           0,
           0,
           0,
           0,
           0,
           0,
           0,
           0,
           0,
           0,
           0,
           0,
           0,
           0,
           0,
           100,
           100,
           100,
           100,
           100,
           100,
           100,
           100,
           100,
           100,
           100,
           100,
           100,
           100,
           100,
           100,
           100,
           100,
           100,
           100,
           100,
           100,
           100,
           100,
           0,
           0,
           0,
           0,
           0,
           0,
           0,
           0,
           0,
           0,
           0,
           0,
           0,
           0,
           0,
           0,
           0,
           0,
           0,
           0,
           0,
           0,
           0,
           0,
           0,
           0,
           0,
           0,
           0,
           0,
           100,
           100,
           100,
           100,
           100,
           100
          ]
         },
         "mode": "lines+markers",
         "name": "(A,29)",
         "text": [
          [
           "C",
           0.02966896,
           472,
           310,
           true
          ],
          [
           "C",
           0.00038971,
           473,
           310,
           true
          ],
          [
           "C",
           0,
           475,
           295,
           true
          ],
          [
           "C",
           0.00046019,
           471,
           310,
           true
          ],
          [
           "C",
           0.00596125,
           470,
           310,
           true
          ],
          [
           "C",
           0,
           474,
           295,
           true
          ],
          [
           "A",
           0,
           473,
           310,
           true
          ],
          [
           "A",
           0,
           471,
           310,
           true
          ],
          [
           "A",
           0.01717676,
           472,
           310,
           true
          ],
          [
           "A",
           0,
           474,
           295,
           true
          ],
          [
           "A",
           0.01142573,
           470,
           310,
           true
          ],
          [
           "A",
           0.00018815,
           475,
           295,
           true
          ],
          [
           "A",
           0,
           473,
           310,
           true
          ],
          [
           "A",
           0.00018815,
           475,
           295,
           true
          ],
          [
           "A",
           0.00057078,
           474,
           295,
           true
          ],
          [
           "A",
           0.00046019,
           471,
           310,
           true
          ],
          [
           "A",
           0.00905684,
           472,
           310,
           true
          ],
          [
           "A",
           0.00894188,
           470,
           310,
           true
          ],
          [
           "A",
           0,
           475,
           295,
           false
          ],
          [
           "A",
           0,
           471,
           310,
           false
          ],
          [
           "A",
           0.05017387,
           470,
           310,
           false
          ],
          [
           "A",
           0,
           474,
           295,
           false
          ],
          [
           "A",
           0.00077912,
           473,
           310,
           false
          ],
          [
           "A",
           0.04278576,
           472,
           310,
           false
          ],
          [
           "A",
           0.00077912,
           473,
           310,
           false
          ],
          [
           "A",
           0,
           474,
           295,
           false
          ],
          [
           "A",
           0.04840725,
           472,
           310,
           false
          ],
          [
           "A",
           0.00092039,
           471,
           310,
           false
          ],
          [
           "A",
           0.10183805,
           470,
           310,
           false
          ],
          [
           "A",
           0.00018808,
           475,
           295,
           false
          ],
          [
           "C",
           0.07870081,
           472,
           310,
           false
          ],
          [
           "C",
           0,
           474,
           295,
           false
          ],
          [
           "C",
           0.00038941,
           473,
           310,
           false
          ],
          [
           "C",
           0.00018808,
           475,
           295,
           false
          ],
          [
           "C",
           0.09538003,
           470,
           310,
           false
          ],
          [
           "C",
           0.00046019,
           471,
           310,
           false
          ],
          [
           "A",
           0.07004471,
           470,
           310,
           false
          ],
          [
           "A",
           0.00057078,
           474,
           295,
           false
          ],
          [
           "A",
           0.00038941,
           473,
           310,
           false
          ],
          [
           "A",
           0.00184077,
           471,
           310,
           false
          ],
          [
           "A",
           0.00018808,
           475,
           295,
           false
          ],
          [
           "A",
           0.07183011,
           472,
           310,
           false
          ],
          [
           "C",
           0.01838053,
           470,
           310,
           true
          ],
          [
           "C",
           0,
           474,
           295,
           true
          ],
          [
           "C",
           0.02998126,
           472,
           310,
           true
          ],
          [
           "C",
           0.00077882,
           473,
           310,
           true
          ],
          [
           "C",
           0,
           471,
           310,
           true
          ],
          [
           "C",
           0,
           475,
           295,
           true
          ],
          [
           "C",
           0,
           475,
           295,
           true
          ],
          [
           "C",
           0.00038941,
           473,
           310,
           true
          ],
          [
           "C",
           0.02779513,
           472,
           310,
           true
          ],
          [
           "C",
           0.01142573,
           470,
           310,
           true
          ],
          [
           "C",
           0,
           474,
           295,
           true
          ],
          [
           "C",
           0.00092039,
           471,
           310,
           true
          ],
          [
           "C",
           0,
           475,
           295,
           true
          ],
          [
           "C",
           0.00645802,
           470,
           310,
           true
          ],
          [
           "C",
           0.00057078,
           474,
           295,
           true
          ],
          [
           "C",
           0.01686446,
           472,
           310,
           true
          ],
          [
           "C",
           0,
           471,
           310,
           true
          ],
          [
           "C",
           0.00116822,
           473,
           310,
           true
          ],
          [
           "A",
           0.00905684,
           472,
           310,
           true
          ],
          [
           "A",
           0.00046019,
           471,
           310,
           true
          ],
          [
           "A",
           0.00844511,
           470,
           310,
           true
          ],
          [
           "A",
           0.00018804,
           475,
           295,
           true
          ],
          [
           "A",
           0,
           473,
           310,
           true
          ],
          [
           "A",
           0,
           474,
           295,
           true
          ],
          [
           "A",
           0.00057078,
           474,
           295,
           true
          ],
          [
           "A",
           0.00056412,
           475,
           295,
           true
          ],
          [
           "A",
           0.00077882,
           473,
           310,
           true
          ],
          [
           "A",
           0.00844511,
           470,
           310,
           true
          ],
          [
           "A",
           0,
           471,
           310,
           true
          ],
          [
           "A",
           0.00749532,
           472,
           310,
           true
          ],
          [
           "C",
           0.00046019,
           471,
           310,
           false
          ],
          [
           "C",
           0.00018804,
           475,
           295,
           false
          ],
          [
           "C",
           0.00844511,
           470,
           310,
           false
          ],
          [
           "C",
           0.02654591,
           472,
           310,
           false
          ],
          [
           "C",
           0,
           474,
           295,
           false
          ],
          [
           "C",
           0.00116822,
           473,
           310,
           false
          ]
         ],
         "type": "scatter",
         "x": [
          310,
          295,
          310,
          310,
          310,
          295
         ],
         "y": [
          0.00077912,
          0,
          0.04840725,
          0.00092039,
          0.10183805,
          0.00018808
         ]
        },
        {
         "line": {
          "color": "magenta",
          "dash": "solid"
         },
         "mode": "lines",
         "name": "(A,29): 0.00253*x + -0.74512\n R2=error",
         "type": "scatter",
         "x": [
          295,
          295,
          310,
          310,
          310,
          310
         ],
         "y": [
          0.0000940399999997954,
          0.0000940399999997954,
          0.03798620250000018,
          0.03798620250000018,
          0.03798620250000018,
          0.03798620250000018
         ]
        },
        {
         "line": {
          "color": "magenta",
          "dash": "dot"
         },
         "mode": "lines",
         "name": "(A,29): 1e-05*x**2 + -0.0024*x\n R2=error",
         "type": "scatter",
         "x": [
          295,
          295,
          310,
          310,
          310,
          310
         ],
         "y": [
          0.00009404000000035051,
          0.00009404000000035051,
          0.0379862024999994,
          0.0379862024999994,
          0.0379862024999994,
          0.0379862024999994
         ]
        },
        {
         "hovertemplate": "<b>base: %{text[0]}<br><b>mut_rates: %{text[1]}<br><b>sample: %{text[2]}<br><b>temperature_k: %{text[3]}<br><b>paired: %{text[4]}<br>",
         "line": {
          "color": "red"
         },
         "marker": {
          "symbol": [
           0,
           0,
           0,
           0,
           0,
           0,
           0,
           0,
           0,
           0,
           0,
           0,
           0,
           0,
           0,
           0,
           0,
           0,
           100,
           100,
           100,
           100,
           100,
           100,
           100,
           100,
           100,
           100,
           100,
           100,
           100,
           100,
           100,
           100,
           100,
           100,
           100,
           100,
           100,
           100,
           100,
           100,
           0,
           0,
           0,
           0,
           0,
           0,
           0,
           0,
           0,
           0,
           0,
           0,
           0,
           0,
           0,
           0,
           0,
           0,
           0,
           0,
           0,
           0,
           0,
           0,
           0,
           0,
           0,
           0,
           0,
           0,
           100,
           100,
           100,
           100,
           100,
           100
          ]
         },
         "mode": "lines+markers",
         "name": "(C,31)",
         "text": [
          [
           "C",
           0.02966896,
           472,
           310,
           true
          ],
          [
           "C",
           0.00038971,
           473,
           310,
           true
          ],
          [
           "C",
           0,
           475,
           295,
           true
          ],
          [
           "C",
           0.00046019,
           471,
           310,
           true
          ],
          [
           "C",
           0.00596125,
           470,
           310,
           true
          ],
          [
           "C",
           0,
           474,
           295,
           true
          ],
          [
           "A",
           0,
           473,
           310,
           true
          ],
          [
           "A",
           0,
           471,
           310,
           true
          ],
          [
           "A",
           0.01717676,
           472,
           310,
           true
          ],
          [
           "A",
           0,
           474,
           295,
           true
          ],
          [
           "A",
           0.01142573,
           470,
           310,
           true
          ],
          [
           "A",
           0.00018815,
           475,
           295,
           true
          ],
          [
           "A",
           0,
           473,
           310,
           true
          ],
          [
           "A",
           0.00018815,
           475,
           295,
           true
          ],
          [
           "A",
           0.00057078,
           474,
           295,
           true
          ],
          [
           "A",
           0.00046019,
           471,
           310,
           true
          ],
          [
           "A",
           0.00905684,
           472,
           310,
           true
          ],
          [
           "A",
           0.00894188,
           470,
           310,
           true
          ],
          [
           "A",
           0,
           475,
           295,
           false
          ],
          [
           "A",
           0,
           471,
           310,
           false
          ],
          [
           "A",
           0.05017387,
           470,
           310,
           false
          ],
          [
           "A",
           0,
           474,
           295,
           false
          ],
          [
           "A",
           0.00077912,
           473,
           310,
           false
          ],
          [
           "A",
           0.04278576,
           472,
           310,
           false
          ],
          [
           "A",
           0.00077912,
           473,
           310,
           false
          ],
          [
           "A",
           0,
           474,
           295,
           false
          ],
          [
           "A",
           0.04840725,
           472,
           310,
           false
          ],
          [
           "A",
           0.00092039,
           471,
           310,
           false
          ],
          [
           "A",
           0.10183805,
           470,
           310,
           false
          ],
          [
           "A",
           0.00018808,
           475,
           295,
           false
          ],
          [
           "C",
           0.07870081,
           472,
           310,
           false
          ],
          [
           "C",
           0,
           474,
           295,
           false
          ],
          [
           "C",
           0.00038941,
           473,
           310,
           false
          ],
          [
           "C",
           0.00018808,
           475,
           295,
           false
          ],
          [
           "C",
           0.09538003,
           470,
           310,
           false
          ],
          [
           "C",
           0.00046019,
           471,
           310,
           false
          ],
          [
           "A",
           0.07004471,
           470,
           310,
           false
          ],
          [
           "A",
           0.00057078,
           474,
           295,
           false
          ],
          [
           "A",
           0.00038941,
           473,
           310,
           false
          ],
          [
           "A",
           0.00184077,
           471,
           310,
           false
          ],
          [
           "A",
           0.00018808,
           475,
           295,
           false
          ],
          [
           "A",
           0.07183011,
           472,
           310,
           false
          ],
          [
           "C",
           0.01838053,
           470,
           310,
           true
          ],
          [
           "C",
           0,
           474,
           295,
           true
          ],
          [
           "C",
           0.02998126,
           472,
           310,
           true
          ],
          [
           "C",
           0.00077882,
           473,
           310,
           true
          ],
          [
           "C",
           0,
           471,
           310,
           true
          ],
          [
           "C",
           0,
           475,
           295,
           true
          ],
          [
           "C",
           0,
           475,
           295,
           true
          ],
          [
           "C",
           0.00038941,
           473,
           310,
           true
          ],
          [
           "C",
           0.02779513,
           472,
           310,
           true
          ],
          [
           "C",
           0.01142573,
           470,
           310,
           true
          ],
          [
           "C",
           0,
           474,
           295,
           true
          ],
          [
           "C",
           0.00092039,
           471,
           310,
           true
          ],
          [
           "C",
           0,
           475,
           295,
           true
          ],
          [
           "C",
           0.00645802,
           470,
           310,
           true
          ],
          [
           "C",
           0.00057078,
           474,
           295,
           true
          ],
          [
           "C",
           0.01686446,
           472,
           310,
           true
          ],
          [
           "C",
           0,
           471,
           310,
           true
          ],
          [
           "C",
           0.00116822,
           473,
           310,
           true
          ],
          [
           "A",
           0.00905684,
           472,
           310,
           true
          ],
          [
           "A",
           0.00046019,
           471,
           310,
           true
          ],
          [
           "A",
           0.00844511,
           470,
           310,
           true
          ],
          [
           "A",
           0.00018804,
           475,
           295,
           true
          ],
          [
           "A",
           0,
           473,
           310,
           true
          ],
          [
           "A",
           0,
           474,
           295,
           true
          ],
          [
           "A",
           0.00057078,
           474,
           295,
           true
          ],
          [
           "A",
           0.00056412,
           475,
           295,
           true
          ],
          [
           "A",
           0.00077882,
           473,
           310,
           true
          ],
          [
           "A",
           0.00844511,
           470,
           310,
           true
          ],
          [
           "A",
           0,
           471,
           310,
           true
          ],
          [
           "A",
           0.00749532,
           472,
           310,
           true
          ],
          [
           "C",
           0.00046019,
           471,
           310,
           false
          ],
          [
           "C",
           0.00018804,
           475,
           295,
           false
          ],
          [
           "C",
           0.00844511,
           470,
           310,
           false
          ],
          [
           "C",
           0.02654591,
           472,
           310,
           false
          ],
          [
           "C",
           0,
           474,
           295,
           false
          ],
          [
           "C",
           0.00116822,
           473,
           310,
           false
          ]
         ],
         "type": "scatter",
         "x": [
          310,
          295,
          310,
          295,
          310,
          310
         ],
         "y": [
          0.07870081,
          0,
          0.00038941,
          0.00018808,
          0.09538003,
          0.00046019
         ]
        },
        {
         "line": {
          "color": "red",
          "dash": "solid"
         },
         "mode": "lines",
         "name": "(C,31): 0.00291*x + -0.85813\n R2=error",
         "type": "scatter",
         "x": [
          295,
          295,
          310,
          310,
          310,
          310
         ],
         "y": [
          0.00009404000000012847,
          0.00009404000000012847,
          0.04373260999999995,
          0.04373260999999995,
          0.04373260999999995,
          0.04373260999999995
         ]
        },
        {
         "line": {
          "color": "red",
          "dash": "dot"
         },
         "mode": "lines",
         "name": "(C,31): 1e-05*x**2 + -0.00277*x\n R2=error",
         "type": "scatter",
         "x": [
          295,
          295,
          310,
          310,
          310,
          310
         ],
         "y": [
          0.00009403999999835211,
          0.00009403999999835211,
          0.043732609999999617,
          0.043732609999999617,
          0.043732609999999617,
          0.043732609999999617
         ]
        }
       ],
       "layout": {
        "template": {
         "data": {
          "bar": [
           {
            "error_x": {
             "color": "#2a3f5f"
            },
            "error_y": {
             "color": "#2a3f5f"
            },
            "marker": {
             "line": {
              "color": "#E5ECF6",
              "width": 0.5
             },
             "pattern": {
              "fillmode": "overlay",
              "size": 10,
              "solidity": 0.2
             }
            },
            "type": "bar"
           }
          ],
          "barpolar": [
           {
            "marker": {
             "line": {
              "color": "#E5ECF6",
              "width": 0.5
             },
             "pattern": {
              "fillmode": "overlay",
              "size": 10,
              "solidity": 0.2
             }
            },
            "type": "barpolar"
           }
          ],
          "carpet": [
           {
            "aaxis": {
             "endlinecolor": "#2a3f5f",
             "gridcolor": "white",
             "linecolor": "white",
             "minorgridcolor": "white",
             "startlinecolor": "#2a3f5f"
            },
            "baxis": {
             "endlinecolor": "#2a3f5f",
             "gridcolor": "white",
             "linecolor": "white",
             "minorgridcolor": "white",
             "startlinecolor": "#2a3f5f"
            },
            "type": "carpet"
           }
          ],
          "choropleth": [
           {
            "colorbar": {
             "outlinewidth": 0,
             "ticks": ""
            },
            "type": "choropleth"
           }
          ],
          "contour": [
           {
            "colorbar": {
             "outlinewidth": 0,
             "ticks": ""
            },
            "colorscale": [
             [
              0,
              "#0d0887"
             ],
             [
              0.1111111111111111,
              "#46039f"
             ],
             [
              0.2222222222222222,
              "#7201a8"
             ],
             [
              0.3333333333333333,
              "#9c179e"
             ],
             [
              0.4444444444444444,
              "#bd3786"
             ],
             [
              0.5555555555555556,
              "#d8576b"
             ],
             [
              0.6666666666666666,
              "#ed7953"
             ],
             [
              0.7777777777777778,
              "#fb9f3a"
             ],
             [
              0.8888888888888888,
              "#fdca26"
             ],
             [
              1,
              "#f0f921"
             ]
            ],
            "type": "contour"
           }
          ],
          "contourcarpet": [
           {
            "colorbar": {
             "outlinewidth": 0,
             "ticks": ""
            },
            "type": "contourcarpet"
           }
          ],
          "heatmap": [
           {
            "colorbar": {
             "outlinewidth": 0,
             "ticks": ""
            },
            "colorscale": [
             [
              0,
              "#0d0887"
             ],
             [
              0.1111111111111111,
              "#46039f"
             ],
             [
              0.2222222222222222,
              "#7201a8"
             ],
             [
              0.3333333333333333,
              "#9c179e"
             ],
             [
              0.4444444444444444,
              "#bd3786"
             ],
             [
              0.5555555555555556,
              "#d8576b"
             ],
             [
              0.6666666666666666,
              "#ed7953"
             ],
             [
              0.7777777777777778,
              "#fb9f3a"
             ],
             [
              0.8888888888888888,
              "#fdca26"
             ],
             [
              1,
              "#f0f921"
             ]
            ],
            "type": "heatmap"
           }
          ],
          "heatmapgl": [
           {
            "colorbar": {
             "outlinewidth": 0,
             "ticks": ""
            },
            "colorscale": [
             [
              0,
              "#0d0887"
             ],
             [
              0.1111111111111111,
              "#46039f"
             ],
             [
              0.2222222222222222,
              "#7201a8"
             ],
             [
              0.3333333333333333,
              "#9c179e"
             ],
             [
              0.4444444444444444,
              "#bd3786"
             ],
             [
              0.5555555555555556,
              "#d8576b"
             ],
             [
              0.6666666666666666,
              "#ed7953"
             ],
             [
              0.7777777777777778,
              "#fb9f3a"
             ],
             [
              0.8888888888888888,
              "#fdca26"
             ],
             [
              1,
              "#f0f921"
             ]
            ],
            "type": "heatmapgl"
           }
          ],
          "histogram": [
           {
            "marker": {
             "pattern": {
              "fillmode": "overlay",
              "size": 10,
              "solidity": 0.2
             }
            },
            "type": "histogram"
           }
          ],
          "histogram2d": [
           {
            "colorbar": {
             "outlinewidth": 0,
             "ticks": ""
            },
            "colorscale": [
             [
              0,
              "#0d0887"
             ],
             [
              0.1111111111111111,
              "#46039f"
             ],
             [
              0.2222222222222222,
              "#7201a8"
             ],
             [
              0.3333333333333333,
              "#9c179e"
             ],
             [
              0.4444444444444444,
              "#bd3786"
             ],
             [
              0.5555555555555556,
              "#d8576b"
             ],
             [
              0.6666666666666666,
              "#ed7953"
             ],
             [
              0.7777777777777778,
              "#fb9f3a"
             ],
             [
              0.8888888888888888,
              "#fdca26"
             ],
             [
              1,
              "#f0f921"
             ]
            ],
            "type": "histogram2d"
           }
          ],
          "histogram2dcontour": [
           {
            "colorbar": {
             "outlinewidth": 0,
             "ticks": ""
            },
            "colorscale": [
             [
              0,
              "#0d0887"
             ],
             [
              0.1111111111111111,
              "#46039f"
             ],
             [
              0.2222222222222222,
              "#7201a8"
             ],
             [
              0.3333333333333333,
              "#9c179e"
             ],
             [
              0.4444444444444444,
              "#bd3786"
             ],
             [
              0.5555555555555556,
              "#d8576b"
             ],
             [
              0.6666666666666666,
              "#ed7953"
             ],
             [
              0.7777777777777778,
              "#fb9f3a"
             ],
             [
              0.8888888888888888,
              "#fdca26"
             ],
             [
              1,
              "#f0f921"
             ]
            ],
            "type": "histogram2dcontour"
           }
          ],
          "mesh3d": [
           {
            "colorbar": {
             "outlinewidth": 0,
             "ticks": ""
            },
            "type": "mesh3d"
           }
          ],
          "parcoords": [
           {
            "line": {
             "colorbar": {
              "outlinewidth": 0,
              "ticks": ""
             }
            },
            "type": "parcoords"
           }
          ],
          "pie": [
           {
            "automargin": true,
            "type": "pie"
           }
          ],
          "scatter": [
           {
            "fillpattern": {
             "fillmode": "overlay",
             "size": 10,
             "solidity": 0.2
            },
            "type": "scatter"
           }
          ],
          "scatter3d": [
           {
            "line": {
             "colorbar": {
              "outlinewidth": 0,
              "ticks": ""
             }
            },
            "marker": {
             "colorbar": {
              "outlinewidth": 0,
              "ticks": ""
             }
            },
            "type": "scatter3d"
           }
          ],
          "scattercarpet": [
           {
            "marker": {
             "colorbar": {
              "outlinewidth": 0,
              "ticks": ""
             }
            },
            "type": "scattercarpet"
           }
          ],
          "scattergeo": [
           {
            "marker": {
             "colorbar": {
              "outlinewidth": 0,
              "ticks": ""
             }
            },
            "type": "scattergeo"
           }
          ],
          "scattergl": [
           {
            "marker": {
             "colorbar": {
              "outlinewidth": 0,
              "ticks": ""
             }
            },
            "type": "scattergl"
           }
          ],
          "scattermapbox": [
           {
            "marker": {
             "colorbar": {
              "outlinewidth": 0,
              "ticks": ""
             }
            },
            "type": "scattermapbox"
           }
          ],
          "scatterpolar": [
           {
            "marker": {
             "colorbar": {
              "outlinewidth": 0,
              "ticks": ""
             }
            },
            "type": "scatterpolar"
           }
          ],
          "scatterpolargl": [
           {
            "marker": {
             "colorbar": {
              "outlinewidth": 0,
              "ticks": ""
             }
            },
            "type": "scatterpolargl"
           }
          ],
          "scatterternary": [
           {
            "marker": {
             "colorbar": {
              "outlinewidth": 0,
              "ticks": ""
             }
            },
            "type": "scatterternary"
           }
          ],
          "surface": [
           {
            "colorbar": {
             "outlinewidth": 0,
             "ticks": ""
            },
            "colorscale": [
             [
              0,
              "#0d0887"
             ],
             [
              0.1111111111111111,
              "#46039f"
             ],
             [
              0.2222222222222222,
              "#7201a8"
             ],
             [
              0.3333333333333333,
              "#9c179e"
             ],
             [
              0.4444444444444444,
              "#bd3786"
             ],
             [
              0.5555555555555556,
              "#d8576b"
             ],
             [
              0.6666666666666666,
              "#ed7953"
             ],
             [
              0.7777777777777778,
              "#fb9f3a"
             ],
             [
              0.8888888888888888,
              "#fdca26"
             ],
             [
              1,
              "#f0f921"
             ]
            ],
            "type": "surface"
           }
          ],
          "table": [
           {
            "cells": {
             "fill": {
              "color": "#EBF0F8"
             },
             "line": {
              "color": "white"
             }
            },
            "header": {
             "fill": {
              "color": "#C8D4E3"
             },
             "line": {
              "color": "white"
             }
            },
            "type": "table"
           }
          ]
         },
         "layout": {
          "annotationdefaults": {
           "arrowcolor": "#2a3f5f",
           "arrowhead": 0,
           "arrowwidth": 1
          },
          "autotypenumbers": "strict",
          "coloraxis": {
           "colorbar": {
            "outlinewidth": 0,
            "ticks": ""
           }
          },
          "colorscale": {
           "diverging": [
            [
             0,
             "#8e0152"
            ],
            [
             0.1,
             "#c51b7d"
            ],
            [
             0.2,
             "#de77ae"
            ],
            [
             0.3,
             "#f1b6da"
            ],
            [
             0.4,
             "#fde0ef"
            ],
            [
             0.5,
             "#f7f7f7"
            ],
            [
             0.6,
             "#e6f5d0"
            ],
            [
             0.7,
             "#b8e186"
            ],
            [
             0.8,
             "#7fbc41"
            ],
            [
             0.9,
             "#4d9221"
            ],
            [
             1,
             "#276419"
            ]
           ],
           "sequential": [
            [
             0,
             "#0d0887"
            ],
            [
             0.1111111111111111,
             "#46039f"
            ],
            [
             0.2222222222222222,
             "#7201a8"
            ],
            [
             0.3333333333333333,
             "#9c179e"
            ],
            [
             0.4444444444444444,
             "#bd3786"
            ],
            [
             0.5555555555555556,
             "#d8576b"
            ],
            [
             0.6666666666666666,
             "#ed7953"
            ],
            [
             0.7777777777777778,
             "#fb9f3a"
            ],
            [
             0.8888888888888888,
             "#fdca26"
            ],
            [
             1,
             "#f0f921"
            ]
           ],
           "sequentialminus": [
            [
             0,
             "#0d0887"
            ],
            [
             0.1111111111111111,
             "#46039f"
            ],
            [
             0.2222222222222222,
             "#7201a8"
            ],
            [
             0.3333333333333333,
             "#9c179e"
            ],
            [
             0.4444444444444444,
             "#bd3786"
            ],
            [
             0.5555555555555556,
             "#d8576b"
            ],
            [
             0.6666666666666666,
             "#ed7953"
            ],
            [
             0.7777777777777778,
             "#fb9f3a"
            ],
            [
             0.8888888888888888,
             "#fdca26"
            ],
            [
             1,
             "#f0f921"
            ]
           ]
          },
          "colorway": [
           "#636efa",
           "#EF553B",
           "#00cc96",
           "#ab63fa",
           "#FFA15A",
           "#19d3f3",
           "#FF6692",
           "#B6E880",
           "#FF97FF",
           "#FECB52"
          ],
          "font": {
           "color": "#2a3f5f"
          },
          "geo": {
           "bgcolor": "white",
           "lakecolor": "white",
           "landcolor": "#E5ECF6",
           "showlakes": true,
           "showland": true,
           "subunitcolor": "white"
          },
          "hoverlabel": {
           "align": "left"
          },
          "hovermode": "closest",
          "mapbox": {
           "style": "light"
          },
          "paper_bgcolor": "white",
          "plot_bgcolor": "#E5ECF6",
          "polar": {
           "angularaxis": {
            "gridcolor": "white",
            "linecolor": "white",
            "ticks": ""
           },
           "bgcolor": "#E5ECF6",
           "radialaxis": {
            "gridcolor": "white",
            "linecolor": "white",
            "ticks": ""
           }
          },
          "scene": {
           "xaxis": {
            "backgroundcolor": "#E5ECF6",
            "gridcolor": "white",
            "gridwidth": 2,
            "linecolor": "white",
            "showbackground": true,
            "ticks": "",
            "zerolinecolor": "white"
           },
           "yaxis": {
            "backgroundcolor": "#E5ECF6",
            "gridcolor": "white",
            "gridwidth": 2,
            "linecolor": "white",
            "showbackground": true,
            "ticks": "",
            "zerolinecolor": "white"
           },
           "zaxis": {
            "backgroundcolor": "#E5ECF6",
            "gridcolor": "white",
            "gridwidth": 2,
            "linecolor": "white",
            "showbackground": true,
            "ticks": "",
            "zerolinecolor": "white"
           }
          },
          "shapedefaults": {
           "line": {
            "color": "#2a3f5f"
           }
          },
          "ternary": {
           "aaxis": {
            "gridcolor": "white",
            "linecolor": "white",
            "ticks": ""
           },
           "baxis": {
            "gridcolor": "white",
            "linecolor": "white",
            "ticks": ""
           },
           "bgcolor": "#E5ECF6",
           "caxis": {
            "gridcolor": "white",
            "linecolor": "white",
            "ticks": ""
           }
          },
          "title": {
           "x": 0.05
          },
          "xaxis": {
           "automargin": true,
           "gridcolor": "white",
           "linecolor": "white",
           "ticks": "",
           "title": {
            "standoff": 15
           },
           "zerolinecolor": "white",
           "zerolinewidth": 2
          },
          "yaxis": {
           "automargin": true,
           "gridcolor": "white",
           "linecolor": "white",
           "ticks": "",
           "title": {
            "standoff": 15
           },
           "zerolinecolor": "white",
           "zerolinewidth": 2
          }
         }
        },
        "title": {
         "text": "Mutation rates of paired / unpaired residues vs temperature_k"
        },
        "xaxis": {
         "ticklen": 5,
         "title": {
          "text": "temperature_k"
         },
         "zeroline": false
        },
        "yaxis": {
         "ticklen": 5,
         "title": {
          "text": "Mutation rate "
         },
         "zeroline": false
        }
       }
      }
     },
     "metadata": {},
     "output_type": "display_data"
    },
    {
     "data": {
      "text/plain": [
       "{'fig': {'data': [Scatter({\n",
       "       'hovertemplate': ('<b>base: %{text[0]}<br><b>mut_' ... '}<br><b>paired: %{text[4]}<br>'),\n",
       "       'line': {'color': 'red'},\n",
       "       'marker': {'symbol': [0, 0, 0, 0, 0, 0, 0, 0, 0, 0, 0, 0, 0, 0, 0, 0, 0, 0,\n",
       "                             100, 100, 100, 100, 100, 100, 100, 100, 100, 100, 100,\n",
       "                             100, 100, 100, 100, 100, 100, 100, 100, 100, 100, 100,\n",
       "                             100, 100, 0, 0, 0, 0, 0, 0, 0, 0, 0, 0, 0, 0, 0, 0, 0, 0,\n",
       "                             0, 0, 0, 0, 0, 0, 0, 0, 0, 0, 0, 0, 0, 0, 100, 100, 100,\n",
       "                             100, 100, 100]},\n",
       "       'mode': 'lines+markers',\n",
       "       'name': '(A,32)',\n",
       "       'text': array([['C', 0.02966896, 472, 310, True],\n",
       "                      ['C', 0.00038971, 473, 310, True],\n",
       "                      ['C', 0.0, 475, 295, True],\n",
       "                      ...,\n",
       "                      ['C', 0.02654591, 472, 310, False],\n",
       "                      ['C', 0.0, 474, 295, False],\n",
       "                      ['C', 0.00116822, 473, 310, False]], dtype=object),\n",
       "       'x': array([310, 295, 310, 310, 295, 310]),\n",
       "       'y': array([0.07004471, 0.00057078, 0.00038941, 0.00184077, 0.00018808, 0.07183011])\n",
       "   }),\n",
       "   Scatter({\n",
       "       'line': {'color': 'red', 'dash': 'solid'},\n",
       "       'mode': 'lines',\n",
       "       'name': '(A,32): 0.00238*x + -0.70067\\n R2=error',\n",
       "       'x': array([295, 295, 310, 310, 310, 310]),\n",
       "       'y': array([0.00037943, 0.00037943, 0.03602625, 0.03602625, 0.03602625, 0.03602625])\n",
       "   }),\n",
       "   Scatter({\n",
       "       'line': {'color': 'red', 'dash': 'dot'},\n",
       "       'mode': 'lines',\n",
       "       'name': '(A,32): 1e-05*x**2 + -0.00226*x\\n R2=error',\n",
       "       'x': array([295, 295, 310, 310, 310, 310]),\n",
       "       'y': array([0.00037943, 0.00037943, 0.03602625, 0.03602625, 0.03602625, 0.03602625])\n",
       "   }),\n",
       "   Scatter({\n",
       "       'hovertemplate': ('<b>base: %{text[0]}<br><b>mut_' ... '}<br><b>paired: %{text[4]}<br>'),\n",
       "       'line': {'color': 'green'},\n",
       "       'marker': {'symbol': [0, 0, 0, 0, 0, 0, 0, 0, 0, 0, 0, 0, 0, 0, 0, 0, 0, 0,\n",
       "                             100, 100, 100, 100, 100, 100, 100, 100, 100, 100, 100,\n",
       "                             100, 100, 100, 100, 100, 100, 100, 100, 100, 100, 100,\n",
       "                             100, 100, 0, 0, 0, 0, 0, 0, 0, 0, 0, 0, 0, 0, 0, 0, 0, 0,\n",
       "                             0, 0, 0, 0, 0, 0, 0, 0, 0, 0, 0, 0, 0, 0, 100, 100, 100,\n",
       "                             100, 100, 100]},\n",
       "       'mode': 'lines+markers',\n",
       "       'name': '(C,33)',\n",
       "       'text': array([['C', 0.02966896, 472, 310, True],\n",
       "                      ['C', 0.00038971, 473, 310, True],\n",
       "                      ['C', 0.0, 475, 295, True],\n",
       "                      ...,\n",
       "                      ['C', 0.02654591, 472, 310, False],\n",
       "                      ['C', 0.0, 474, 295, False],\n",
       "                      ['C', 0.00116822, 473, 310, False]], dtype=object),\n",
       "       'x': array([310, 295, 310, 310, 310, 295]),\n",
       "       'y': array([0.01838053, 0.        , 0.02998126, 0.00077882, 0.        , 0.        ])\n",
       "   }),\n",
       "   Scatter({\n",
       "       'line': {'color': 'green', 'dash': 'solid'},\n",
       "       'mode': 'lines',\n",
       "       'name': '(C,33): 0.00082*x + -0.24161\\n R2=error',\n",
       "       'x': array([295, 295, 310, 310, 310, 310]),\n",
       "       'y': array([0.        , 0.        , 0.01228515, 0.01228515, 0.01228515, 0.01228515])\n",
       "   }),\n",
       "   Scatter({\n",
       "       'line': {'color': 'green', 'dash': 'dot'},\n",
       "       'mode': 'lines',\n",
       "       'name': '(C,33): 0.0*x**2 + -0.00078*x\\n R2=error',\n",
       "       'x': array([295, 295, 310, 310, 310, 310]),\n",
       "       'y': array([1.38777878e-16, 1.38777878e-16, 1.22851525e-02, 1.22851525e-02,\n",
       "                   1.22851525e-02, 1.22851525e-02])\n",
       "   }),\n",
       "   Scatter({\n",
       "       'hovertemplate': ('<b>base: %{text[0]}<br><b>mut_' ... '}<br><b>paired: %{text[4]}<br>'),\n",
       "       'line': {'color': 'blue'},\n",
       "       'marker': {'symbol': [0, 0, 0, 0, 0, 0, 0, 0, 0, 0, 0, 0, 0, 0, 0, 0, 0, 0,\n",
       "                             100, 100, 100, 100, 100, 100, 100, 100, 100, 100, 100,\n",
       "                             100, 100, 100, 100, 100, 100, 100, 100, 100, 100, 100,\n",
       "                             100, 100, 0, 0, 0, 0, 0, 0, 0, 0, 0, 0, 0, 0, 0, 0, 0, 0,\n",
       "                             0, 0, 0, 0, 0, 0, 0, 0, 0, 0, 0, 0, 0, 0, 100, 100, 100,\n",
       "                             100, 100, 100]},\n",
       "       'mode': 'lines+markers',\n",
       "       'name': '(C,34)',\n",
       "       'text': array([['C', 0.02966896, 472, 310, True],\n",
       "                      ['C', 0.00038971, 473, 310, True],\n",
       "                      ['C', 0.0, 475, 295, True],\n",
       "                      ...,\n",
       "                      ['C', 0.02654591, 472, 310, False],\n",
       "                      ['C', 0.0, 474, 295, False],\n",
       "                      ['C', 0.00116822, 473, 310, False]], dtype=object),\n",
       "       'x': array([295, 310, 310, 310, 295, 310]),\n",
       "       'y': array([0.        , 0.00038941, 0.02779513, 0.01142573, 0.        , 0.00092039])\n",
       "   }),\n",
       "   Scatter({\n",
       "       'line': {'color': 'blue', 'dash': 'solid'},\n",
       "       'mode': 'lines',\n",
       "       'name': '(C,34): 0.00068*x + -0.19928\\n R2=error',\n",
       "       'x': array([295, 295, 310, 310, 310, 310]),\n",
       "       'y': array([0.        , 0.        , 0.01013267, 0.01013267, 0.01013267, 0.01013267])\n",
       "   }),\n",
       "   Scatter({\n",
       "       'line': {'color': 'blue', 'dash': 'dot'},\n",
       "       'mode': 'lines',\n",
       "       'name': '(C,34): 0.0*x**2 + -0.00064*x\\n R2=error',\n",
       "       'x': array([295, 295, 310, 310, 310, 310]),\n",
       "       'y': array([5.27355937e-16, 5.27355937e-16, 1.01326650e-02, 1.01326650e-02,\n",
       "                   1.01326650e-02, 1.01326650e-02])\n",
       "   }),\n",
       "   Scatter({\n",
       "       'hovertemplate': ('<b>base: %{text[0]}<br><b>mut_' ... '}<br><b>paired: %{text[4]}<br>'),\n",
       "       'line': {'color': 'orange'},\n",
       "       'marker': {'symbol': [0, 0, 0, 0, 0, 0, 0, 0, 0, 0, 0, 0, 0, 0, 0, 0, 0, 0,\n",
       "                             100, 100, 100, 100, 100, 100, 100, 100, 100, 100, 100,\n",
       "                             100, 100, 100, 100, 100, 100, 100, 100, 100, 100, 100,\n",
       "                             100, 100, 0, 0, 0, 0, 0, 0, 0, 0, 0, 0, 0, 0, 0, 0, 0, 0,\n",
       "                             0, 0, 0, 0, 0, 0, 0, 0, 0, 0, 0, 0, 0, 0, 100, 100, 100,\n",
       "                             100, 100, 100]},\n",
       "       'mode': 'lines+markers',\n",
       "       'name': '(C,35)',\n",
       "       'text': array([['C', 0.02966896, 472, 310, True],\n",
       "                      ['C', 0.00038971, 473, 310, True],\n",
       "                      ['C', 0.0, 475, 295, True],\n",
       "                      ...,\n",
       "                      ['C', 0.02654591, 472, 310, False],\n",
       "                      ['C', 0.0, 474, 295, False],\n",
       "                      ['C', 0.00116822, 473, 310, False]], dtype=object),\n",
       "       'x': array([295, 310, 295, 310, 310, 310]),\n",
       "       'y': array([0.        , 0.00645802, 0.00057078, 0.01686446, 0.        , 0.00116822])\n",
       "   }),\n",
       "   Scatter({\n",
       "       'line': {'color': 'orange', 'dash': 'solid'},\n",
       "       'mode': 'lines',\n",
       "       'name': '(C,35): 0.00039*x + -0.11451\\n R2=error',\n",
       "       'x': array([295, 295, 310, 310, 310, 310]),\n",
       "       'y': array([0.00028539, 0.00028539, 0.00612267, 0.00612267, 0.00612267, 0.00612267])\n",
       "   }),\n",
       "   Scatter({\n",
       "       'line': {'color': 'orange', 'dash': 'dot'},\n",
       "       'mode': 'lines',\n",
       "       'name': '(C,35): 0.0*x**2 + -0.00037*x\\n R2=error',\n",
       "       'x': array([295, 295, 310, 310, 310, 310]),\n",
       "       'y': array([0.00028539, 0.00028539, 0.00612268, 0.00612268, 0.00612268, 0.00612268])\n",
       "   }),\n",
       "   Scatter({\n",
       "       'hovertemplate': ('<b>base: %{text[0]}<br><b>mut_' ... '}<br><b>paired: %{text[4]}<br>'),\n",
       "       'line': {'color': 'purple'},\n",
       "       'marker': {'symbol': [0, 0, 0, 0, 0, 0, 0, 0, 0, 0, 0, 0, 0, 0, 0, 0, 0, 0,\n",
       "                             100, 100, 100, 100, 100, 100, 100, 100, 100, 100, 100,\n",
       "                             100, 100, 100, 100, 100, 100, 100, 100, 100, 100, 100,\n",
       "                             100, 100, 0, 0, 0, 0, 0, 0, 0, 0, 0, 0, 0, 0, 0, 0, 0, 0,\n",
       "                             0, 0, 0, 0, 0, 0, 0, 0, 0, 0, 0, 0, 0, 0, 100, 100, 100,\n",
       "                             100, 100, 100]},\n",
       "       'mode': 'lines+markers',\n",
       "       'name': '(A,36)',\n",
       "       'text': array([['C', 0.02966896, 472, 310, True],\n",
       "                      ['C', 0.00038971, 473, 310, True],\n",
       "                      ['C', 0.0, 475, 295, True],\n",
       "                      ...,\n",
       "                      ['C', 0.02654591, 472, 310, False],\n",
       "                      ['C', 0.0, 474, 295, False],\n",
       "                      ['C', 0.00116822, 473, 310, False]], dtype=object),\n",
       "       'x': array([310, 310, 310, 295, 310, 295]),\n",
       "       'y': array([0.00905684, 0.00046019, 0.00844511, 0.00018804, 0.        , 0.        ])\n",
       "   }),\n",
       "   Scatter({\n",
       "       'line': {'color': 'purple', 'dash': 'solid'},\n",
       "       'mode': 'lines',\n",
       "       'name': '(A,36): 0.00029*x + -0.08637\\n R2=error',\n",
       "       'x': array([295, 295, 310, 310, 310, 310]),\n",
       "       'y': array([9.402000e-05, 9.402000e-05, 4.490535e-03, 4.490535e-03, 4.490535e-03,\n",
       "                   4.490535e-03])\n",
       "   }),\n",
       "   Scatter({\n",
       "       'line': {'color': 'purple', 'dash': 'dot'},\n",
       "       'mode': 'lines',\n",
       "       'name': '(A,36): 0.0*x**2 + -0.00028*x\\n R2=error',\n",
       "       'x': array([295, 295, 310, 310, 310, 310]),\n",
       "       'y': array([9.402000e-05, 9.402000e-05, 4.490535e-03, 4.490535e-03, 4.490535e-03,\n",
       "                   4.490535e-03])\n",
       "   }),\n",
       "   Scatter({\n",
       "       'hovertemplate': ('<b>base: %{text[0]}<br><b>mut_' ... '}<br><b>paired: %{text[4]}<br>'),\n",
       "       'line': {'color': 'black'},\n",
       "       'marker': {'symbol': [0, 0, 0, 0, 0, 0, 0, 0, 0, 0, 0, 0, 0, 0, 0, 0, 0, 0,\n",
       "                             100, 100, 100, 100, 100, 100, 100, 100, 100, 100, 100,\n",
       "                             100, 100, 100, 100, 100, 100, 100, 100, 100, 100, 100,\n",
       "                             100, 100, 0, 0, 0, 0, 0, 0, 0, 0, 0, 0, 0, 0, 0, 0, 0, 0,\n",
       "                             0, 0, 0, 0, 0, 0, 0, 0, 0, 0, 0, 0, 0, 0, 100, 100, 100,\n",
       "                             100, 100, 100]},\n",
       "       'mode': 'lines+markers',\n",
       "       'name': '(A,38)',\n",
       "       'text': array([['C', 0.02966896, 472, 310, True],\n",
       "                      ['C', 0.00038971, 473, 310, True],\n",
       "                      ['C', 0.0, 475, 295, True],\n",
       "                      ...,\n",
       "                      ['C', 0.02654591, 472, 310, False],\n",
       "                      ['C', 0.0, 474, 295, False],\n",
       "                      ['C', 0.00116822, 473, 310, False]], dtype=object),\n",
       "       'x': array([295, 295, 310, 310, 310, 310]),\n",
       "       'y': array([0.00057078, 0.00056412, 0.00077882, 0.00844511, 0.        , 0.00749532])\n",
       "   }),\n",
       "   Scatter({\n",
       "       'line': {'color': 'black', 'dash': 'solid'},\n",
       "       'mode': 'lines',\n",
       "       'name': '(A,38): 0.00024*x + -0.07048\\n R2=error',\n",
       "       'x': array([295, 295, 310, 310, 310, 310]),\n",
       "       'y': array([0.00056745, 0.00056745, 0.00417981, 0.00417981, 0.00417981, 0.00417981])\n",
       "   }),\n",
       "   Scatter({\n",
       "       'line': {'color': 'black', 'dash': 'dot'},\n",
       "       'mode': 'lines',\n",
       "       'name': '(A,38): 0.0*x**2 + -0.00023*x\\n R2=error',\n",
       "       'x': array([295, 295, 310, 310, 310, 310]),\n",
       "       'y': array([0.00056745, 0.00056745, 0.00417981, 0.00417981, 0.00417981, 0.00417981])\n",
       "   }),\n",
       "   Scatter({\n",
       "       'hovertemplate': ('<b>base: %{text[0]}<br><b>mut_' ... '}<br><b>paired: %{text[4]}<br>'),\n",
       "       'line': {'color': 'yellow'},\n",
       "       'marker': {'symbol': [0, 0, 0, 0, 0, 0, 0, 0, 0, 0, 0, 0, 0, 0, 0, 0, 0, 0,\n",
       "                             100, 100, 100, 100, 100, 100, 100, 100, 100, 100, 100,\n",
       "                             100, 100, 100, 100, 100, 100, 100, 100, 100, 100, 100,\n",
       "                             100, 100, 0, 0, 0, 0, 0, 0, 0, 0, 0, 0, 0, 0, 0, 0, 0, 0,\n",
       "                             0, 0, 0, 0, 0, 0, 0, 0, 0, 0, 0, 0, 0, 0, 100, 100, 100,\n",
       "                             100, 100, 100]},\n",
       "       'mode': 'lines+markers',\n",
       "       'name': '(C,41)',\n",
       "       'text': array([['C', 0.02966896, 472, 310, True],\n",
       "                      ['C', 0.00038971, 473, 310, True],\n",
       "                      ['C', 0.0, 475, 295, True],\n",
       "                      ...,\n",
       "                      ['C', 0.02654591, 472, 310, False],\n",
       "                      ['C', 0.0, 474, 295, False],\n",
       "                      ['C', 0.00116822, 473, 310, False]], dtype=object),\n",
       "       'x': array([310, 295, 310, 310, 295, 310]),\n",
       "       'y': array([0.00046019, 0.00018804, 0.00844511, 0.02654591, 0.        , 0.00116822])\n",
       "   }),\n",
       "   Scatter({\n",
       "       'line': {'color': 'yellow', 'dash': 'solid'},\n",
       "       'mode': 'lines',\n",
       "       'name': '(C,41): 0.0006*x + -0.1781\\n R2=error',\n",
       "       'x': array([295, 295, 310, 310, 310, 310]),\n",
       "       'y': array([9.4020000e-05, 9.4020000e-05, 9.1548575e-03, 9.1548575e-03,\n",
       "                   9.1548575e-03, 9.1548575e-03])\n",
       "   }),\n",
       "   Scatter({\n",
       "       'line': {'color': 'yellow', 'dash': 'dot'},\n",
       "       'mode': 'lines',\n",
       "       'name': '(C,41): 0.0*x**2 + -0.00057*x\\n R2=error',\n",
       "       'x': array([295, 295, 310, 310, 310, 310]),\n",
       "       'y': array([9.4020000e-05, 9.4020000e-05, 9.1548575e-03, 9.1548575e-03,\n",
       "                   9.1548575e-03, 9.1548575e-03])\n",
       "   }),\n",
       "   Scatter({\n",
       "       'hovertemplate': ('<b>base: %{text[0]}<br><b>mut_' ... '}<br><b>paired: %{text[4]}<br>'),\n",
       "       'line': {'color': 'pink'},\n",
       "       'marker': {'symbol': [0, 0, 0, 0, 0, 0, 0, 0, 0, 0, 0, 0, 0, 0, 0, 0, 0, 0,\n",
       "                             100, 100, 100, 100, 100, 100, 100, 100, 100, 100, 100,\n",
       "                             100, 100, 100, 100, 100, 100, 100, 100, 100, 100, 100,\n",
       "                             100, 100, 0, 0, 0, 0, 0, 0, 0, 0, 0, 0, 0, 0, 0, 0, 0, 0,\n",
       "                             0, 0, 0, 0, 0, 0, 0, 0, 0, 0, 0, 0, 0, 0, 100, 100, 100,\n",
       "                             100, 100, 100]},\n",
       "       'mode': 'lines+markers',\n",
       "       'name': '(C,20)',\n",
       "       'text': array([['C', 0.02966896, 472, 310, True],\n",
       "                      ['C', 0.00038971, 473, 310, True],\n",
       "                      ['C', 0.0, 475, 295, True],\n",
       "                      ...,\n",
       "                      ['C', 0.02654591, 472, 310, False],\n",
       "                      ['C', 0.0, 474, 295, False],\n",
       "                      ['C', 0.00116822, 473, 310, False]], dtype=object),\n",
       "       'x': array([310, 310, 295, 310, 310, 295]),\n",
       "       'y': array([0.02966896, 0.00038971, 0.        , 0.00046019, 0.00596125, 0.        ])\n",
       "   }),\n",
       "   Scatter({\n",
       "       'line': {'color': 'pink', 'dash': 'solid'},\n",
       "       'mode': 'lines',\n",
       "       'name': '(C,20): 0.00061*x + -0.17936\\n R2=error',\n",
       "       'x': array([295, 295, 310, 310, 310, 310]),\n",
       "       'y': array([-2.77555756e-17, -2.77555756e-17,  9.12002750e-03,  9.12002750e-03,\n",
       "                    9.12002750e-03,  9.12002750e-03])\n",
       "   }),\n",
       "   Scatter({\n",
       "       'line': {'color': 'pink', 'dash': 'dot'},\n",
       "       'mode': 'lines',\n",
       "       'name': '(C,20): 0.0*x**2 + -0.00058*x\\n R2=error',\n",
       "       'x': array([295, 295, 310, 310, 310, 310]),\n",
       "       'y': array([-9.99200722e-16, -9.99200722e-16,  9.12002750e-03,  9.12002750e-03,\n",
       "                    9.12002750e-03,  9.12002750e-03])\n",
       "   }),\n",
       "   Scatter({\n",
       "       'hovertemplate': ('<b>base: %{text[0]}<br><b>mut_' ... '}<br><b>paired: %{text[4]}<br>'),\n",
       "       'line': {'color': 'brown'},\n",
       "       'marker': {'symbol': [0, 0, 0, 0, 0, 0, 0, 0, 0, 0, 0, 0, 0, 0, 0, 0, 0, 0,\n",
       "                             100, 100, 100, 100, 100, 100, 100, 100, 100, 100, 100,\n",
       "                             100, 100, 100, 100, 100, 100, 100, 100, 100, 100, 100,\n",
       "                             100, 100, 0, 0, 0, 0, 0, 0, 0, 0, 0, 0, 0, 0, 0, 0, 0, 0,\n",
       "                             0, 0, 0, 0, 0, 0, 0, 0, 0, 0, 0, 0, 0, 0, 100, 100, 100,\n",
       "                             100, 100, 100]},\n",
       "       'mode': 'lines+markers',\n",
       "       'name': '(A,21)',\n",
       "       'text': array([['C', 0.02966896, 472, 310, True],\n",
       "                      ['C', 0.00038971, 473, 310, True],\n",
       "                      ['C', 0.0, 475, 295, True],\n",
       "                      ...,\n",
       "                      ['C', 0.02654591, 472, 310, False],\n",
       "                      ['C', 0.0, 474, 295, False],\n",
       "                      ['C', 0.00116822, 473, 310, False]], dtype=object),\n",
       "       'x': array([310, 310, 310, 295, 310, 295]),\n",
       "       'y': array([0.        , 0.        , 0.01717676, 0.        , 0.01142573, 0.00018815])\n",
       "   }),\n",
       "   Scatter({\n",
       "       'line': {'color': 'brown', 'dash': 'solid'},\n",
       "       'mode': 'lines',\n",
       "       'name': '(A,21): 0.00047*x + -0.13868\\n R2=error',\n",
       "       'x': array([295, 295, 310, 310, 310, 310]),\n",
       "       'y': array([9.4075000e-05, 9.4075000e-05, 7.1506225e-03, 7.1506225e-03,\n",
       "                   7.1506225e-03, 7.1506225e-03])\n",
       "   }),\n",
       "   Scatter({\n",
       "       'line': {'color': 'brown', 'dash': 'dot'},\n",
       "       'mode': 'lines',\n",
       "       'name': '(A,21): 0.0*x**2 + -0.00045*x\\n R2=error',\n",
       "       'x': array([295, 295, 310, 310, 310, 310]),\n",
       "       'y': array([9.4075000e-05, 9.4075000e-05, 7.1506225e-03, 7.1506225e-03,\n",
       "                   7.1506225e-03, 7.1506225e-03])\n",
       "   }),\n",
       "   Scatter({\n",
       "       'hovertemplate': ('<b>base: %{text[0]}<br><b>mut_' ... '}<br><b>paired: %{text[4]}<br>'),\n",
       "       'line': {'color': 'grey'},\n",
       "       'marker': {'symbol': [0, 0, 0, 0, 0, 0, 0, 0, 0, 0, 0, 0, 0, 0, 0, 0, 0, 0,\n",
       "                             100, 100, 100, 100, 100, 100, 100, 100, 100, 100, 100,\n",
       "                             100, 100, 100, 100, 100, 100, 100, 100, 100, 100, 100,\n",
       "                             100, 100, 0, 0, 0, 0, 0, 0, 0, 0, 0, 0, 0, 0, 0, 0, 0, 0,\n",
       "                             0, 0, 0, 0, 0, 0, 0, 0, 0, 0, 0, 0, 0, 0, 100, 100, 100,\n",
       "                             100, 100, 100]},\n",
       "       'mode': 'lines+markers',\n",
       "       'name': '(A,23)',\n",
       "       'text': array([['C', 0.02966896, 472, 310, True],\n",
       "                      ['C', 0.00038971, 473, 310, True],\n",
       "                      ['C', 0.0, 475, 295, True],\n",
       "                      ...,\n",
       "                      ['C', 0.02654591, 472, 310, False],\n",
       "                      ['C', 0.0, 474, 295, False],\n",
       "                      ['C', 0.00116822, 473, 310, False]], dtype=object),\n",
       "       'x': array([310, 295, 295, 310, 310, 310]),\n",
       "       'y': array([0.        , 0.00018815, 0.00057078, 0.00046019, 0.00905684, 0.00894188])\n",
       "   }),\n",
       "   Scatter({\n",
       "       'line': {'color': 'grey', 'dash': 'solid'},\n",
       "       'mode': 'lines',\n",
       "       'name': '(A,23): 0.00028*x + -0.08291\\n R2=error',\n",
       "       'x': array([295, 295, 310, 310, 310, 310]),\n",
       "       'y': array([0.00037946, 0.00037946, 0.00461473, 0.00461473, 0.00461473, 0.00461473])\n",
       "   }),\n",
       "   Scatter({\n",
       "       'line': {'color': 'grey', 'dash': 'dot'},\n",
       "       'mode': 'lines',\n",
       "       'name': '(A,23): 0.0*x**2 + -0.00027*x\\n R2=error',\n",
       "       'x': array([295, 295, 310, 310, 310, 310]),\n",
       "       'y': array([0.00037947, 0.00037947, 0.00461473, 0.00461473, 0.00461473, 0.00461473])\n",
       "   }),\n",
       "   Scatter({\n",
       "       'hovertemplate': ('<b>base: %{text[0]}<br><b>mut_' ... '}<br><b>paired: %{text[4]}<br>'),\n",
       "       'line': {'color': 'cyan'},\n",
       "       'marker': {'symbol': [0, 0, 0, 0, 0, 0, 0, 0, 0, 0, 0, 0, 0, 0, 0, 0, 0, 0,\n",
       "                             100, 100, 100, 100, 100, 100, 100, 100, 100, 100, 100,\n",
       "                             100, 100, 100, 100, 100, 100, 100, 100, 100, 100, 100,\n",
       "                             100, 100, 0, 0, 0, 0, 0, 0, 0, 0, 0, 0, 0, 0, 0, 0, 0, 0,\n",
       "                             0, 0, 0, 0, 0, 0, 0, 0, 0, 0, 0, 0, 0, 0, 100, 100, 100,\n",
       "                             100, 100, 100]},\n",
       "       'mode': 'lines+markers',\n",
       "       'name': '(A,26)',\n",
       "       'text': array([['C', 0.02966896, 472, 310, True],\n",
       "                      ['C', 0.00038971, 473, 310, True],\n",
       "                      ['C', 0.0, 475, 295, True],\n",
       "                      ...,\n",
       "                      ['C', 0.02654591, 472, 310, False],\n",
       "                      ['C', 0.0, 474, 295, False],\n",
       "                      ['C', 0.00116822, 473, 310, False]], dtype=object),\n",
       "       'x': array([295, 310, 310, 295, 310, 310]),\n",
       "       'y': array([0.        , 0.        , 0.05017387, 0.        , 0.00077912, 0.04278576])\n",
       "   }),\n",
       "   Scatter({\n",
       "       'line': {'color': 'cyan', 'dash': 'solid'},\n",
       "       'mode': 'lines',\n",
       "       'name': '(A,26): 0.00156*x + -0.46088\\n R2=error',\n",
       "       'x': array([295, 295, 310, 310, 310, 310]),\n",
       "       'y': array([0.        , 0.        , 0.02343469, 0.02343469, 0.02343469, 0.02343469])\n",
       "   }),\n",
       "   Scatter({\n",
       "       'line': {'color': 'cyan', 'dash': 'dot'},\n",
       "       'mode': 'lines',\n",
       "       'name': '(A,26): 1e-05*x**2 + -0.00149*x\\n R2=error',\n",
       "       'x': array([295, 295, 310, 310, 310, 310]),\n",
       "       'y': array([5.55111512e-17, 5.55111512e-17, 2.34346875e-02, 2.34346875e-02,\n",
       "                   2.34346875e-02, 2.34346875e-02])\n",
       "   }),\n",
       "   Scatter({\n",
       "       'hovertemplate': ('<b>base: %{text[0]}<br><b>mut_' ... '}<br><b>paired: %{text[4]}<br>'),\n",
       "       'line': {'color': 'magenta'},\n",
       "       'marker': {'symbol': [0, 0, 0, 0, 0, 0, 0, 0, 0, 0, 0, 0, 0, 0, 0, 0, 0, 0,\n",
       "                             100, 100, 100, 100, 100, 100, 100, 100, 100, 100, 100,\n",
       "                             100, 100, 100, 100, 100, 100, 100, 100, 100, 100, 100,\n",
       "                             100, 100, 0, 0, 0, 0, 0, 0, 0, 0, 0, 0, 0, 0, 0, 0, 0, 0,\n",
       "                             0, 0, 0, 0, 0, 0, 0, 0, 0, 0, 0, 0, 0, 0, 100, 100, 100,\n",
       "                             100, 100, 100]},\n",
       "       'mode': 'lines+markers',\n",
       "       'name': '(A,29)',\n",
       "       'text': array([['C', 0.02966896, 472, 310, True],\n",
       "                      ['C', 0.00038971, 473, 310, True],\n",
       "                      ['C', 0.0, 475, 295, True],\n",
       "                      ...,\n",
       "                      ['C', 0.02654591, 472, 310, False],\n",
       "                      ['C', 0.0, 474, 295, False],\n",
       "                      ['C', 0.00116822, 473, 310, False]], dtype=object),\n",
       "       'x': array([310, 295, 310, 310, 310, 295]),\n",
       "       'y': array([0.00077912, 0.        , 0.04840725, 0.00092039, 0.10183805, 0.00018808])\n",
       "   }),\n",
       "   Scatter({\n",
       "       'line': {'color': 'magenta', 'dash': 'solid'},\n",
       "       'mode': 'lines',\n",
       "       'name': '(A,29): 0.00253*x + -0.74512\\n R2=error',\n",
       "       'x': array([295, 295, 310, 310, 310, 310]),\n",
       "       'y': array([9.40400000e-05, 9.40400000e-05, 3.79862025e-02, 3.79862025e-02,\n",
       "                   3.79862025e-02, 3.79862025e-02])\n",
       "   }),\n",
       "   Scatter({\n",
       "       'line': {'color': 'magenta', 'dash': 'dot'},\n",
       "       'mode': 'lines',\n",
       "       'name': '(A,29): 1e-05*x**2 + -0.0024*x\\n R2=error',\n",
       "       'x': array([295, 295, 310, 310, 310, 310]),\n",
       "       'y': array([9.40400000e-05, 9.40400000e-05, 3.79862025e-02, 3.79862025e-02,\n",
       "                   3.79862025e-02, 3.79862025e-02])\n",
       "   }),\n",
       "   Scatter({\n",
       "       'hovertemplate': ('<b>base: %{text[0]}<br><b>mut_' ... '}<br><b>paired: %{text[4]}<br>'),\n",
       "       'line': {'color': 'red'},\n",
       "       'marker': {'symbol': [0, 0, 0, 0, 0, 0, 0, 0, 0, 0, 0, 0, 0, 0, 0, 0, 0, 0,\n",
       "                             100, 100, 100, 100, 100, 100, 100, 100, 100, 100, 100,\n",
       "                             100, 100, 100, 100, 100, 100, 100, 100, 100, 100, 100,\n",
       "                             100, 100, 0, 0, 0, 0, 0, 0, 0, 0, 0, 0, 0, 0, 0, 0, 0, 0,\n",
       "                             0, 0, 0, 0, 0, 0, 0, 0, 0, 0, 0, 0, 0, 0, 100, 100, 100,\n",
       "                             100, 100, 100]},\n",
       "       'mode': 'lines+markers',\n",
       "       'name': '(C,31)',\n",
       "       'text': array([['C', 0.02966896, 472, 310, True],\n",
       "                      ['C', 0.00038971, 473, 310, True],\n",
       "                      ['C', 0.0, 475, 295, True],\n",
       "                      ...,\n",
       "                      ['C', 0.02654591, 472, 310, False],\n",
       "                      ['C', 0.0, 474, 295, False],\n",
       "                      ['C', 0.00116822, 473, 310, False]], dtype=object),\n",
       "       'x': array([310, 295, 310, 295, 310, 310]),\n",
       "       'y': array([0.07870081, 0.        , 0.00038941, 0.00018808, 0.09538003, 0.00046019])\n",
       "   }),\n",
       "   Scatter({\n",
       "       'line': {'color': 'red', 'dash': 'solid'},\n",
       "       'mode': 'lines',\n",
       "       'name': '(C,31): 0.00291*x + -0.85813\\n R2=error',\n",
       "       'x': array([295, 295, 310, 310, 310, 310]),\n",
       "       'y': array([9.404000e-05, 9.404000e-05, 4.373261e-02, 4.373261e-02, 4.373261e-02,\n",
       "                   4.373261e-02])\n",
       "   }),\n",
       "   Scatter({\n",
       "       'line': {'color': 'red', 'dash': 'dot'},\n",
       "       'mode': 'lines',\n",
       "       'name': '(C,31): 1e-05*x**2 + -0.00277*x\\n R2=error',\n",
       "       'x': array([295, 295, 310, 310, 310, 310]),\n",
       "       'y': array([9.404000e-05, 9.404000e-05, 4.373261e-02, 4.373261e-02, 4.373261e-02,\n",
       "                   4.373261e-02])\n",
       "   })],\n",
       "  'layout': {'title': 'Mutation rates of paired / unpaired residues vs temperature_k',\n",
       "   'xaxis': {'title': 'temperature_k', 'ticklen': 5, 'zeroline': False},\n",
       "   'yaxis': {'title': 'Mutation rate ', 'ticklen': 5, 'zeroline': False}}},\n",
       " 'df':     index_subsequence  sample  temperature_k  index base  mut_rates  paired  \\\n",
       " 33                  7     472            310     20    C   0.029669    True   \n",
       " 46                  7     473            310     20    C   0.000390    True   \n",
       " 72                  7     475            295     20    C   0.000000    True   \n",
       " 20                  7     471            310     20    C   0.000460    True   \n",
       " 7                   7     470            310     20    C   0.005961    True   \n",
       " ..                ...     ...            ...    ...  ...        ...     ...   \n",
       " 71                  6     475            295     41    C   0.000188   False   \n",
       " 6                   6     470            310     41    C   0.008445   False   \n",
       " 32                  6     472            310     41    C   0.026546   False   \n",
       " 58                  6     474            295     41    C   0.000000   False   \n",
       " 45                  6     473            310     41    C   0.001168   False   \n",
       " \n",
       "     Marker  \n",
       " 33       0  \n",
       " 46       0  \n",
       " 72       0  \n",
       " 20       0  \n",
       " 7        0  \n",
       " ..     ...  \n",
       " 71       1  \n",
       " 6        1  \n",
       " 32       1  \n",
       " 58       1  \n",
       " 45       1  \n",
       " \n",
       " [78 rows x 8 columns]}"
      ]
     },
     "execution_count": 6,
     "metadata": {},
     "output_type": "execute_result"
    }
   ],
   "source": [
    "study.variable_exp_across_samples(\n",
    "                        construct=['3114-O-flank_1=hp7-DB'],\n",
    "                        base_index=list(range(19,42)), \n",
    "                        base_type=['A','C'],\n",
    "                        savefile='test.html', \n",
    "                        experimental_variable='temperature_k',\n",
    "                        models=['lambda x, a, b: a*x + b', 'lambda x, a, b: a*x**2 + b*x'],\n",
    "                        auto_open=True)"
   ]
  },
  {
   "cell_type": "code",
   "execution_count": null,
   "metadata": {},
   "outputs": [],
   "source": []
  }
 ],
 "metadata": {
  "kernelspec": {
   "display_name": "Python 3.10.5 ('venv-nap': venv)",
   "language": "python",
   "name": "python3"
  },
  "language_info": {
   "codemirror_mode": {
    "name": "ipython",
    "version": 3
   },
   "file_extension": ".py",
   "mimetype": "text/x-python",
   "name": "python",
   "nbconvert_exporter": "python",
   "pygments_lexer": "ipython3",
   "version": "3.10.5"
  },
  "orig_nbformat": 4,
  "vscode": {
   "interpreter": {
    "hash": "228ea3748f49093993f7ca989c09e25264db3703291e3a4aaa931dd28b2eaabc"
   }
  }
 },
 "nbformat": 4,
 "nbformat_minor": 2
}
