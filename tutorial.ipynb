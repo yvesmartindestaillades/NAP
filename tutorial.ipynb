{
 "cells": [
  {
   "cell_type": "markdown",
   "metadata": {},
   "source": [
    "# Imports"
   ]
  },
  {
   "cell_type": "markdown",
   "metadata": {},
   "source": [
    "At first use, if dreem isn't installed on your computer, open a terminal and enter the following command lines:\n",
    "```\n",
    "$ cd [YOUR PATH TO THIS NAP REPO]\n",
    "$ cd libs\n",
    "$ git clone https://github.com/jyesselm/dreem\n",
    "```\n",
    "Then import regular libraries"
   ]
  },
  {
   "cell_type": "code",
   "execution_count": 1,
   "metadata": {},
   "outputs": [],
   "source": [
    "import pandas as pd\n",
    "import matplotlib.pyplot as plt\n",
    "from os.path import exists\n",
    "import os\n",
    "from nap import *\n",
    "try:\n",
    "    sys.path.append(dirname('libs/dreem/dreem')) \n",
    "except:\n",
    "    \"If dreem isn't installed on your computer, the code won't run\""
   ]
  },
  {
   "cell_type": "markdown",
   "metadata": {},
   "source": [
    "# Step 1.1: Data wrangling"
   ]
  },
  {
   "cell_type": "markdown",
   "metadata": {},
   "source": [
    "### Resources used\n",
    "\n",
    "Here, we will set the user name (at the moment, we'll call you Yves, it's a nice name). This is your main folder in the database. Check it by yourself [on the database!](https://console.firebase.google.com/u/0/project/dreem-542b7/database/dreem-542b7-default-rtdb/data)\n",
    "\n",
    "The **tubes** that you chose here will be pulled from the database. Every tube correspond to a physical tube, also known as \"experiment\" during the wet lab part.  \n",
    "\n",
    "The **constructs** are specific RNA sequences. They are referred to by their name, such as 8584 or 9572, and each tube has the same series of constructs.\n",
    "\n",
    "A **study** is a group of tubes that are relevant to be studied together. For example, they are all replicates, or the salt concentration was increased along the tubes, etc.\n",
    "\n",
    "The **pickles** are a dictionary of the tube's names and their respective path+title.\n",
    "\n",
    "Set **switch_study** to True when you use another study for the first time. This will remove your former local json and download a new one from the Firebase."
   ]
  },
  {
   "cell_type": "code",
   "execution_count": 7,
   "metadata": {},
   "outputs": [],
   "source": [
    "## EDIT THIS ZONE \n",
    "user = 'Yves'\n",
    "study = 'tutorial'  \n",
    "switch_study = True\n",
    "# END OF EDIT ZONE\n",
    "\n",
    "## Database path\n",
    "json_file = 'data/db.json'\n",
    "\n",
    "## Constants\n",
    "min_bases_cov = 1000 \n",
    "\n",
    "tubes_per_study = {   'tutorial':['A6','D6'],\n",
    "                      'replicates':['C5','A4' , 'F4', 'A6', 'A7'],\n",
    "                      'salt': ['A6','B6','C6','D6','E6'], \n",
    "                      'temperature':['D7','E7','F7','G7','H7','A8','B8','C8'], \n",
    "                      'magnesium':['F6', 'G6', 'H6', 'A7', 'B7', 'C7'],\n",
    "                      '60 mM DMS kinestics':['D8', 'E8', 'F8', 'G8', 'H8', 'A9']\n",
    "                      }\n",
    "\n",
    "tubes = tubes_per_study[study]"
   ]
  },
  {
   "cell_type": "markdown",
   "metadata": {},
   "source": [
    "### Load the data"
   ]
  },
  {
   "cell_type": "code",
   "execution_count": 8,
   "metadata": {},
   "outputs": [
    {
     "name": "stdout",
     "output_type": "stream",
     "text": [
      "No local file found, load data from Firebase\n",
      "Re-used the previous firebase connection\n",
      "A6 D6 Done!\n",
      "Dumping df as a dict to a JSON file data/db.json\n",
      "Done!\n"
     ]
    }
   ],
   "source": [
    "# If changed the data, remove the former dataset\n",
    "if switch_study:\n",
    "    os.remove(json_file)\n",
    "\n",
    "# If not local copy of firebase, pull the firebase, else, load your copy\n",
    "if not exists(json_file):\n",
    "    if not exists('data'):\n",
    "        os.mkdir('data')\n",
    "    df_rough = data_wrangler.load_data_from_firebase(tubes=tubes, user=user)\n",
    "    data_wrangler.dump_dict_json(JSONFileDict=json_file,\n",
    "                                 df=df_rough)\n",
    "else:\n",
    "    df_rough = data_wrangler.load_dict_json(json_file)"
   ]
  },
  {
   "cell_type": "markdown",
   "metadata": {},
   "source": [
    "If everything is normal, so far, a json file was downloaded as `data/db.json`. Now, we'll extract two dataframes from this file, `df_full` for data quality analysis and `df` for data analysis. Check out the difference below."
   ]
  },
  {
   "cell_type": "markdown",
   "metadata": {},
   "source": [
    "### Clean and reformat the dataset. \n",
    "`df` is used for the analysis. Each of the construct have above 1000 reads for each tube.     \n",
    "`df_full` is used for quality quality analysis. It has all constructs above 1000 valid reads for each tube individually."
   ]
  },
  {
   "cell_type": "code",
   "execution_count": 9,
   "metadata": {},
   "outputs": [
    {
     "name": "stderr",
     "output_type": "stream",
     "text": [
      "/home/ymdt/NAP/nap.py:106: SettingWithCopyWarning: \n",
      "A value is trying to be set on a copy of a slice from a DataFrame\n",
      "\n",
      "See the caveats in the documentation: https://pandas.pydata.org/pandas-docs/stable/user_guide/indexing.html#returning-a-view-versus-a-copy\n",
      "  df_full['tubes_covered'].loc[construct[1].index] = construct[1]['sequence'].count()\n"
     ]
    },
    {
     "name": "stdout",
     "output_type": "stream",
     "text": [
      "61 constructs were dropped because deltaG was 'void'\n",
      "134 constructs have more than 1000 reads for each base of their var part on each tube\n"
     ]
    }
   ],
   "source": [
    "df, df_full = turner_overthrow.clean_dataset(df_rough=df_rough,\n",
    "                                             tubes=tubes, \n",
    "                                             min_bases_cov=min_bases_cov)"
   ]
  },
  {
   "cell_type": "markdown",
   "metadata": {},
   "source": [
    "# Step 1.2: Data quality analysis\n",
    "\n",
    "It's always hard to realize that you were analysing noise. Here, we'll get through a series a plot to check the data sanity."
   ]
  },
  {
   "cell_type": "markdown",
   "metadata": {},
   "source": [
    "### Show the tube's quantity of valid structures (good indicator of the tube's quality)"
   ]
  },
  {
   "cell_type": "code",
   "execution_count": 10,
   "metadata": {},
   "outputs": [
    {
     "data": {
      "image/png": "[encoded data removed]",
      "text/plain": [
       "<Figure size 1800x576 with 1 Axes>"
      ]
     },
     "metadata": {
      "needs_background": "light"
     },
     "output_type": "display_data"
    }
   ],
   "source": [
    "plot.valid_construct_per_tube(df=df_full,\n",
    "                              min_bases_cov=min_bases_cov)"
   ]
  },
  {
   "cell_type": "markdown",
   "metadata": {},
   "source": [
    "### Show the tube coverage distribution"
   ]
  },
  {
   "cell_type": "code",
   "execution_count": null,
   "metadata": {},
   "outputs": [],
   "source": [
    "plot.tube_coverage_distribution(df=df_full)"
   ]
  },
  {
   "cell_type": "markdown",
   "metadata": {},
   "source": [
    "### Plot the base coverage per construct distribution"
   ]
  },
  {
   "cell_type": "code",
   "execution_count": null,
   "metadata": {},
   "outputs": [],
   "source": [
    "plot.base_coverage_for_all_constructs(df=df_full, \n",
    "                                      min_bases_cov=min_bases_cov)"
   ]
  },
  {
   "cell_type": "markdown",
   "metadata": {},
   "source": [
    "### Sanity-check construct-wise base coverage plots\n",
    "Plot randomly picked sequences to check the quality of the data."
   ]
  },
  {
   "cell_type": "code",
   "execution_count": null,
   "metadata": {},
   "outputs": [],
   "source": [
    "plot.random_base_coverage_plot_wise(df=df, \n",
    "                                    min_bases_cov=min_bases_cov)"
   ]
  },
  {
   "cell_type": "markdown",
   "metadata": {},
   "source": [
    "### Heatmap of the var part coverage"
   ]
  },
  {
   "cell_type": "code",
   "execution_count": null,
   "metadata": {},
   "outputs": [],
   "source": [
    "plot.heatmap(df = df, \n",
    "             column=\"cov_bases_var\")"
   ]
  },
  {
   "cell_type": "markdown",
   "metadata": {},
   "source": [
    "### Heatmap of the second half coverage"
   ]
  },
  {
   "cell_type": "code",
   "execution_count": null,
   "metadata": {},
   "outputs": [],
   "source": [
    "plot.heatmap(df = df, \n",
    "                column=\"cov_bases_sec_half\")"
   ]
  },
  {
   "cell_type": "markdown",
   "metadata": {},
   "source": [
    "# Step 1.3: Your turn to play\n",
    "\n",
    "These plots showed the tutorial study. You want to:\n",
    "- Change the study to another study, such as `'temperature'`, and replot this test routine\n",
    "- Write a new study called `'my_new_study'`, using the tubes `['C1','D5','E6','F7']`, and replot this data sanity test routine."
   ]
  },
  {
   "cell_type": "markdown",
   "metadata": {},
   "source": [
    "# Step 2: Data Analysis\n",
    "In this part, we know that we read good data, and we want to read it through different plots. Let's get through these plots.\n",
    "\n",
    "So far, we've seen that we analyse our data through tubes and constructs. Plot types will require either a (tube, construct) pair, either a given tube, either a given construct. For example, a deltaG plot is tube-wise, because it shows all of the constructs of a given tube. \n",
    "\n",
    "### Step 2.1: Get the list of tubes and constructs:\n",
    "\n",
    "`tubes` comes from your previous study choice, and is the list of the tubes that you want to use.\n",
    "\n",
    "`df.construct.unique()` gives you the list of constructs."
   ]
  },
  {
   "cell_type": "code",
   "execution_count": 13,
   "metadata": {},
   "outputs": [
    {
     "name": "stdout",
     "output_type": "stream",
     "text": [
      "tubes are: ['A6', 'D6']\n",
      "constructs are: [  108   167   179   185   286   322   364   373   381   597   980  1009\n",
      "  1055  1092  1120  1348  1495  1895  1994  2069  2093  2202  2221  2323\n",
      "  2478  2506  2524  2570  2780  2797  2928  2936  3014  3163  3273  3337\n",
      "  3580  3708  3723  3796  3925  3948  3987  4097  4274  4362  4493  4585\n",
      "  4672  4708  4727  4758  5014  5269  5435  5440  5519  5689  5984  5988\n",
      "  6317  6375  6458  6711  6896  7026  7172  7241  7261  7384  7487  7545\n",
      "  7808  7845  7993  8106  8136  8240  8280  8281  8351  8369  8422  8427\n",
      "  8430  8438  8574  8594  8613  8695  8735  8758  9176  9211  9237  9302\n",
      "  9332  9489  9572  9629  9796  9832  9843  9849 10027 10044 10162 10166\n",
      " 10190 10519 10663 10759 10803 10948 10992 11024 11035 11047 11197 11217\n",
      " 11390 11499 11642 11659 11775 11825 11863 12079 12108 12281 12306 12320\n",
      " 12361 12419]\n"
     ]
    }
   ],
   "source": [
    "print(f\"tubes are: {tubes}\")\n",
    "print(f\"constructs are: {df.construct.unique()}\")"
   ]
  },
  {
   "cell_type": "markdown",
   "metadata": {},
   "source": [
    "### Step 2.2: Explore the data\n",
    "`utils.get_var_info(df=df, tube=tube, construct=construct)` gives information about the variable part of a (tube, construct) pair.\n",
    "\n",
    "Let's explore the data using the previous explored tubs and constructs lists."
   ]
  },
  {
   "cell_type": "code",
   "execution_count": 11,
   "metadata": {},
   "outputs": [
    {
     "data": {
      "text/html": [
       "<div>\n",
       "<style scoped>\n",
       "    .dataframe tbody tr th:only-of-type {\n",
       "        vertical-align: middle;\n",
       "    }\n",
       "\n",
       "    .dataframe tbody tr th {\n",
       "        vertical-align: top;\n",
       "    }\n",
       "\n",
       "    .dataframe thead th {\n",
       "        text-align: right;\n",
       "    }\n",
       "</style>\n",
       "<table border=\"1\" class=\"dataframe\">\n",
       "  <thead>\n",
       "    <tr style=\"text-align: right;\">\n",
       "      <th></th>\n",
       "      <th></th>\n",
       "      <th>mut_rate</th>\n",
       "      <th>var_deltaG</th>\n",
       "    </tr>\n",
       "    <tr>\n",
       "      <th>base</th>\n",
       "      <th>index</th>\n",
       "      <th></th>\n",
       "      <th></th>\n",
       "    </tr>\n",
       "  </thead>\n",
       "  <tbody>\n",
       "    <tr>\n",
       "      <th>G</th>\n",
       "      <th>80</th>\n",
       "      <td>0.001128</td>\n",
       "      <td>-9.4</td>\n",
       "    </tr>\n",
       "    <tr>\n",
       "      <th>C</th>\n",
       "      <th>81</th>\n",
       "      <td>0.003685</td>\n",
       "      <td>-9.4</td>\n",
       "    </tr>\n",
       "    <tr>\n",
       "      <th>A</th>\n",
       "      <th>82</th>\n",
       "      <td>0.003688</td>\n",
       "      <td>-9.4</td>\n",
       "    </tr>\n",
       "    <tr>\n",
       "      <th>C</th>\n",
       "      <th>83</th>\n",
       "      <td>0.001704</td>\n",
       "      <td>-9.4</td>\n",
       "    </tr>\n",
       "    <tr>\n",
       "      <th>A</th>\n",
       "      <th>84</th>\n",
       "      <td>0.004551</td>\n",
       "      <td>-9.4</td>\n",
       "    </tr>\n",
       "    <tr>\n",
       "      <th>T</th>\n",
       "      <th>85</th>\n",
       "      <td>0.000291</td>\n",
       "      <td>-9.4</td>\n",
       "    </tr>\n",
       "    <tr>\n",
       "      <th>G</th>\n",
       "      <th>86</th>\n",
       "      <td>0.000582</td>\n",
       "      <td>-9.4</td>\n",
       "    </tr>\n",
       "    <tr>\n",
       "      <th>C</th>\n",
       "      <th>88</th>\n",
       "      <td>0.003805</td>\n",
       "      <td>-9.4</td>\n",
       "    </tr>\n",
       "    <tr>\n",
       "      <th>A</th>\n",
       "      <th>89</th>\n",
       "      <td>0.01966</td>\n",
       "      <td>-9.4</td>\n",
       "    </tr>\n",
       "    <tr>\n",
       "      <th>T</th>\n",
       "      <th>94</th>\n",
       "      <td>0.000918</td>\n",
       "      <td>-9.4</td>\n",
       "    </tr>\n",
       "    <tr>\n",
       "      <th>G</th>\n",
       "      <th>95</th>\n",
       "      <td>0.0</td>\n",
       "      <td>-9.4</td>\n",
       "    </tr>\n",
       "    <tr>\n",
       "      <th>C</th>\n",
       "      <th>96</th>\n",
       "      <td>0.000929</td>\n",
       "      <td>-9.4</td>\n",
       "    </tr>\n",
       "    <tr>\n",
       "      <th>A</th>\n",
       "      <th>97</th>\n",
       "      <td>0.001549</td>\n",
       "      <td>-9.4</td>\n",
       "    </tr>\n",
       "    <tr>\n",
       "      <th>T</th>\n",
       "      <th>98</th>\n",
       "      <td>0.000311</td>\n",
       "      <td>-9.4</td>\n",
       "    </tr>\n",
       "    <tr>\n",
       "      <th>G</th>\n",
       "      <th>99</th>\n",
       "      <td>0.001559</td>\n",
       "      <td>-9.4</td>\n",
       "    </tr>\n",
       "    <tr>\n",
       "      <th>T</th>\n",
       "      <th>100</th>\n",
       "      <td>0.000313</td>\n",
       "      <td>-9.4</td>\n",
       "    </tr>\n",
       "    <tr>\n",
       "      <th>G</th>\n",
       "      <th>101</th>\n",
       "      <td>0.000316</td>\n",
       "      <td>-9.4</td>\n",
       "    </tr>\n",
       "    <tr>\n",
       "      <th>C</th>\n",
       "      <th>102</th>\n",
       "      <td>0.000947</td>\n",
       "      <td>-9.4</td>\n",
       "    </tr>\n",
       "  </tbody>\n",
       "</table>\n",
       "</div>"
      ],
      "text/plain": [
       "            mut_rate  var_deltaG\n",
       "base index                      \n",
       "G    80     0.001128        -9.4\n",
       "C    81     0.003685        -9.4\n",
       "A    82     0.003688        -9.4\n",
       "C    83     0.001704        -9.4\n",
       "A    84     0.004551        -9.4\n",
       "T    85     0.000291        -9.4\n",
       "G    86     0.000582        -9.4\n",
       "C    88     0.003805        -9.4\n",
       "A    89      0.01966        -9.4\n",
       "T    94     0.000918        -9.4\n",
       "G    95          0.0        -9.4\n",
       "C    96     0.000929        -9.4\n",
       "A    97     0.001549        -9.4\n",
       "T    98     0.000311        -9.4\n",
       "G    99     0.001559        -9.4\n",
       "T    100    0.000313        -9.4\n",
       "G    101    0.000316        -9.4\n",
       "C    102    0.000947        -9.4"
      ]
     },
     "execution_count": 11,
     "metadata": {},
     "output_type": "execute_result"
    }
   ],
   "source": [
    "# Select a (tube, construct) pair\n",
    "tube = tubes[0] \n",
    "construct = df.construct.unique()[0]\n",
    "\n",
    "utils.get_var_info(df=df, tube=tube, construct=construct).xs((True, '0'),level=('paired','var_structure_comparison'))"
   ]
  },
  {
   "cell_type": "markdown",
   "metadata": {},
   "source": [
    "### Step 2.3: DeltaG plots\n",
    "Step 2.3.1: Let's start with a first plot, deltaG. DeltaG plots the mutation frequency of the paired bases of the variable part of each construct for a given tube. Give this function a tube and plot it! "
   ]
  },
  {
   "cell_type": "code",
   "execution_count": null,
   "metadata": {},
   "outputs": [],
   "source": [
    "plot.deltaG(df=df,\n",
    "            tube= \"EDIT ME\")"
   ]
  },
  {
   "cell_type": "markdown",
   "metadata": {},
   "source": [
    "Step 2.3.2: How about saving this plot directly to your files? Use the following code to save your plot to your files."
   ]
  },
  {
   "cell_type": "code",
   "execution_count": null,
   "metadata": {},
   "outputs": [],
   "source": [
    "tube = 'EDIT ME'\n",
    "\n",
    "plot.deltaG(df=df, tube=tube)\n",
    "\n",
    "plot.save_fig(path=f\"data/figs/date/{study}/deltaG/\", \n",
    "                title=f\"deltaG_{tube}\")"
   ]
  },
  {
   "cell_type": "markdown",
   "metadata": {},
   "source": [
    "Step 2.3.3: Let's say that you want to save all of your tubes plots. Let's make a loop for that."
   ]
  },
  {
   "cell_type": "code",
   "execution_count": null,
   "metadata": {},
   "outputs": [],
   "source": [
    "for tube in tubes:\n",
    "    plot.deltaG(df=df, tube=tube)\n",
    "\n",
    "    plot.save_fig(path=f\"data/figs/date/{study}/deltaG/\", \n",
    "                  title=f\"deltaG_{tube}\")"
   ]
  },
  {
   "cell_type": "markdown",
   "metadata": {},
   "source": [
    "Step 2.3.4: These plots are a bit overwhelming, right? Just close them right after saving them to your files."
   ]
  },
  {
   "cell_type": "code",
   "execution_count": null,
   "metadata": {},
   "outputs": [],
   "source": [
    "for tube in tubes:\n",
    "    plot.deltaG(df=df, tube=tube)\n",
    "\n",
    "    plot.save_fig(path=f\"data/figs/date/{study}/deltaG/\", \n",
    "                  title=f\"deltaG_{tube}\")\n",
    "\n",
    "    plt.close()"
   ]
  },
  {
   "cell_type": "markdown",
   "metadata": {},
   "source": [
    "It's been a long way together! Let's apply our new knowledge to another plot type."
   ]
  },
  {
   "cell_type": "markdown",
   "metadata": {},
   "source": [
    "### Step 2.4: Mutation sequence-wise\n",
    "\n",
    "`plot.mutation_rate(df, tube, construct, plot_type, index, normalize)` plots the mutation rate base-wise for a given (tube construct) pair as a barplot. \n",
    "Arguments:\n",
    "- `plot_type` :\n",
    "    - `'sequence'` : each bar is colored w.r.t to the base of the original sequence.\n",
    "    - `'partition'` : each bar shows the partition of into which bases this base mutates.\n",
    "- `index`:\n",
    "    - `'index'`: each base is identified with its position number\n",
    "    - `'base'`: each base is identified with its type (A, C, G, T)\n",
    "\n",
    "This plot type takes a (tube, construct) pair as an argument. That's fine, we know how to find our tubes list `tubes` and our construct list `df.construct.unique()`. \n",
    "\n",
    "Step 2.4.1: Let's do this plot:\n",
    "- select a tube and a construct in your lists\n",
    "- select `plot_type` : `'sequence'` and  `index`: `'index'`\n",
    "- make the plot"
   ]
  },
  {
   "cell_type": "markdown",
   "metadata": {},
   "source": [
    "Sequence type"
   ]
  },
  {
   "cell_type": "code",
   "execution_count": null,
   "metadata": {},
   "outputs": [],
   "source": [
    "plot.mutation_rate(df=df,\n",
    "                tube= \"TO DO\",\n",
    "                construct=\"TO DO\",\n",
    "                plot_type=\"TO DO\",\n",
    "                index=\"TO DO\")"
   ]
  },
  {
   "cell_type": "markdown",
   "metadata": {},
   "source": [
    "Step 2.4.2: Now, use the following parameters:\n",
    "- keep the same tube and construct\n",
    "- select `plot_type` : `'sequence'` and  `index`: `'base'`\n",
    "- make the plot\n",
    "- what's the difference?"
   ]
  },
  {
   "cell_type": "code",
   "execution_count": null,
   "metadata": {},
   "outputs": [],
   "source": [
    "plot.mutation_rate(df=df,\n",
    "                tube= \"TO DO\",\n",
    "                construct=\"TO DO\",\n",
    "                plot_type=\"TO DO\",\n",
    "                index=\"TO DO\")"
   ]
  },
  {
   "cell_type": "markdown",
   "metadata": {},
   "source": [
    "Step 2.4.3: Let's go for a last round. use the following parameters:\n",
    "- keep the same tube and construct\n",
    "- select `plot_type` : `'partition'` and  `index`: `'base'`\n",
    "- make the plot\n",
    "- what's the difference?"
   ]
  },
  {
   "cell_type": "code",
   "execution_count": null,
   "metadata": {},
   "outputs": [],
   "source": [
    "plot.mutation_rate(df=df,\n",
    "                tube= \"TO DO\",\n",
    "                construct=\"TO DO\",\n",
    "                plot_type=\"TO DO\",\n",
    "                index=\"TO DO\")"
   ]
  },
  {
   "cell_type": "markdown",
   "metadata": {},
   "source": [
    "Step 2.4.4: Generate a lot of plots. \n",
    "- Pick your favorite plot type and paste it in the loop.\n",
    "- Define the list of construct that you want to plot.\n",
    "- Run your code\n",
    "- Check your results in the folder `data/figs/date/{study}/mut_per_base/sequence/{construct}`\n",
    "\n",
    "/!\\ WARNING: it takes a few seconds to generate one plot. If you generate too many plots, like the entire `df.construct.unique()` list for all of the `tubes`, it will take a while (on my computer, it takes ~25 minutes). Select subsets of these lists instead. "
   ]
  },
  {
   "cell_type": "code",
   "execution_count": null,
   "metadata": {},
   "outputs": [],
   "source": [
    "constructs = ['TO DO']\n",
    "\n",
    "for tube in tubes:\n",
    "    for construct in constructs:\n",
    "        # PASTE THE CODE FOR YOUR FAVORITE PLOT HERE\n",
    "        plot.save_fig(path=f\"data/figs/date/{study}/mut_per_base/sequence/{construct}/\", \n",
    "                    title=f\"base_per_base_sequence_{tube}_{construct}\")\n",
    "        plt.close()"
   ]
  },
  {
   "cell_type": "markdown",
   "metadata": {},
   "source": [
    "### Step 2.5: Tubes comparison\n",
    "This plot type is construct-wise. It compares the mutation rate of each base of this construct within the tube's list, 2 tubes by 2 tubes. The idea is to see the evolution of the data through the study.\n",
    "\n",
    "Step 2.5.1: select a construct and plot this."
   ]
  },
  {
   "cell_type": "code",
   "execution_count": null,
   "metadata": {},
   "outputs": [],
   "source": [
    "plot.compare_n_tubes(df=df,\n",
    "                     tubes = tubes,\n",
    "                     construct= 'TODO')"
   ]
  },
  {
   "cell_type": "markdown",
   "metadata": {},
   "source": [
    "Step 2.5.2: Publiposting\n",
    "- Select mutltiple constructs\n",
    "- Produce multiple plots\n",
    "- Open the corresponding folder and check that it worked fine\n",
    "\n",
    "/!\\ WARNING: it takes a few seconds to generate one plot. If you generate too many plots, like the entire `df.construct.unique()` list, it will take a while (on my computer, it takes ~10 minutes). Select subsets of this list instead. "
   ]
  },
  {
   "cell_type": "code",
   "execution_count": null,
   "metadata": {},
   "outputs": [],
   "source": [
    "constructs = ['TO DO']\n",
    "\n",
    "for construct in constructs:\n",
    "        plot.compare_n_tubes(df, tubes, construct)\n",
    "        plot.save_fig(path=f\"data/figs/date/{study}/comparison/\", \n",
    "                      title=f\"comparison_{study}_{construct}\")\n",
    "        plt.close()\n",
    "        print(construct, end=' ')"
   ]
  },
  {
   "cell_type": "markdown",
   "metadata": {},
   "source": [
    "### Step 2.6: Save columns to a csv file\n",
    "\n",
    "It can be useful to save relevant data from your dataset.\n",
    "\n",
    "Step 2.6.1: Save columns to a csv file\n",
    "- Set columns to `['tube', 'construct','full_sequence','var_sequence','mut_bases','info_bases']`\n",
    "- Run the code\n",
    "- Check the result"
   ]
  },
  {
   "cell_type": "code",
   "execution_count": null,
   "metadata": {},
   "outputs": [],
   "source": [
    "utils.columns_to_csv(df=df,\n",
    "                   tubes=tubes,\n",
    "                   columns='TO DO',\n",
    "                   title='about_{study}',\n",
    "                   path='data/figs/date/{study}'\n",
    "                   )"
   ]
  },
  {
   "cell_type": "markdown",
   "metadata": {},
   "source": [
    "### Step 2.6.2: Save construct vs deltaG \n",
    "\n",
    "- Run the code\n",
    "- Check the result"
   ]
  },
  {
   "cell_type": "code",
   "execution_count": 14,
   "metadata": {},
   "outputs": [],
   "source": [
    "utils.deltaG_vs_construct_to_csv(df=df, title=f\"deltaG_vs_construct.csv\", path = f\"data/figs/date\", tubes=tubes)"
   ]
  },
  {
   "cell_type": "markdown",
   "metadata": {},
   "source": [
    "# Step 3: Advanced data management\n",
    "\n",
    "In this part, we will learn how to:\n",
    "- Process pickle files, the output of DREEM\n",
    "- Push to the database using your own username"
   ]
  },
  {
   "cell_type": "markdown",
   "metadata": {},
   "source": [
    "# "
   ]
  },
  {
   "cell_type": "markdown",
   "metadata": {},
   "source": []
  }
 ],
 "metadata": {
  "interpreter": {
   "hash": "181a95673db9352066c6745a8c0d18f5d1810e89c791a79e01a67e30706bff6f"
  },
  "kernelspec": {
   "display_name": "Python 3.9.12 ('base')",
   "language": "python",
   "name": "python3"
  },
  "language_info": {
   "codemirror_mode": {
    "name": "ipython",
    "version": 3
   },
   "file_extension": ".py",
   "mimetype": "text/x-python",
   "name": "python",
   "nbconvert_exporter": "python",
   "pygments_lexer": "ipython3",
   "version": "3.9.12"
  },
  "orig_nbformat": 4
 },
 "nbformat": 4,
 "nbformat_minor": 2
}
