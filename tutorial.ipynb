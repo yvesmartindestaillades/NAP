{
 "cells": [
  {
   "cell_type": "markdown",
   "metadata": {},
   "source": [
    "# Imports"
   ]
  },
  {
   "cell_type": "code",
   "execution_count": 1,
   "metadata": {},
   "outputs": [],
   "source": [
    "import pandas as pd\n",
    "import matplotlib.pyplot as plt\n",
    "from os.path import exists\n",
    "import os\n",
    "from nap import *"
   ]
  },
  {
   "cell_type": "markdown",
   "metadata": {},
   "source": [
    "# Data wrangling"
   ]
  },
  {
   "cell_type": "markdown",
   "metadata": {},
   "source": [
    "### Resources used\n",
    "\n",
    "Here, we will set the user name (at the moment, we'll call you Yves, it's a nice name). This is your main folder in the database. Check it by yourself [on the database!](https://console.firebase.google.com/u/0/project/dreem-542b7/database/dreem-542b7-default-rtdb/data)\n",
    "\n",
    "The **tubes** that you chose here will be pulled from the database. Every tube correspond to a physical tube, also known as \"experiment\" during the wet lab part.  \n",
    "\n",
    "The **constructs** are specific RNA sequences. They are referred to by their name, such as 8584 or 9572, and each tube has the same series of constructs.\n",
    "\n",
    "A **study** is a group of tubes that are relevant to be studied together. For example, they are all replicates, or the salt concentration was increased along the tubes, etc.\n",
    "\n",
    "The **pickles** are a dictionary of the tube's names and their respective path+title."
   ]
  },
  {
   "cell_type": "code",
   "execution_count": null,
   "metadata": {},
   "outputs": [],
   "source": [
    "## EDIT THIS ZONE \n",
    "user = 'Yves'\n",
    "constructs = [8594, 9572]\n",
    "study = 'tutorial'  \n",
    "show_plots = True\n",
    "# END OF EDIT ZONE\n",
    "\n",
    "## Database path\n",
    "json_file = 'data/db.json'\n",
    "\n",
    "## Constants\n",
    "min_bases_cov = 1000 \n",
    "\n",
    "tubes_per_study = {   'tutorial':['A6','D6'],\n",
    "                      'replicates':['C5','A4' , 'F4', 'A6', 'A7'],\n",
    "                      'salt': ['A6','B6','C6','D6','E6'], \n",
    "                      'temperature':['D7','E7','F7','G7','H7','A8','B8','C8'], \n",
    "                      'magnesium':['F6', 'G6', 'H6', 'A7', 'B7', 'C7'],\n",
    "                      '60 mM DMS kinestics':['D8', 'E8', 'F8', 'G8', 'H8', 'A9']\n",
    "                      }\n",
    "\n",
    "tubes = tubes_per_study[study]"
   ]
  },
  {
   "cell_type": "markdown",
   "metadata": {},
   "source": [
    "### Load the data"
   ]
  },
  {
   "cell_type": "code",
   "execution_count": null,
   "metadata": {},
   "outputs": [],
   "source": [
    "# If not local copy of firebase, pull the firebase, else, load your copy\n",
    "if not exists(json_file):\n",
    "    if not exists('data'):\n",
    "        os.mkdir('data')\n",
    "    df_rough = data_wrangler.load_data_from_firebase(tubes=tubes, user=user)\n",
    "    data_wrangler.dump_dict_json(JSONFileDict=json_file,\n",
    "                                 df=df_rough)\n",
    "else:\n",
    "    df_rough = data_wrangler.load_dict_json(json_file)"
   ]
  },
  {
   "cell_type": "markdown",
   "metadata": {},
   "source": [
    "If everything is normal, so far, a json file was downloaded as `data/db.json`. Now, we'll extract two dataframes from this file, `df_full` for data quality analysis and `df` for data analysis. Check out the difference below."
   ]
  },
  {
   "cell_type": "markdown",
   "metadata": {},
   "source": [
    "### Clean and reformat the dataset. \n",
    "`df` is used for the analysis. Each of the construct have above 1000 reads for each tube.     \n",
    "`df_full` is used for quality quality analysis. It has all constructs above 1000 valid reads for each tube individually."
   ]
  },
  {
   "cell_type": "code",
   "execution_count": null,
   "metadata": {},
   "outputs": [],
   "source": [
    "df, df_full = turner_overthrow.clean_dataset(df_rough=df_rough,\n",
    "                                             tubes=tubes, \n",
    "                                             min_bases_cov=min_bases_cov)"
   ]
  },
  {
   "cell_type": "markdown",
   "metadata": {},
   "source": [
    "# Data quality analysis\n",
    "\n",
    "It's always hard to realize that you were analysing noise. Here, we'll get through a series a plot to check the data sanity."
   ]
  },
  {
   "cell_type": "markdown",
   "metadata": {},
   "source": [
    "### Show the tube's quantity of valid structures (good indicator of the tube's quality)"
   ]
  },
  {
   "cell_type": "code",
   "execution_count": null,
   "metadata": {},
   "outputs": [],
   "source": [
    "plot.valid_construct_per_tube(df=df_full,\n",
    "                              min_bases_cov=min_bases_cov)"
   ]
  },
  {
   "cell_type": "markdown",
   "metadata": {},
   "source": [
    "### Show the tube coverage distribution"
   ]
  },
  {
   "cell_type": "code",
   "execution_count": null,
   "metadata": {},
   "outputs": [],
   "source": [
    "plot.tube_coverage_distribution(df=df_full)"
   ]
  },
  {
   "cell_type": "markdown",
   "metadata": {},
   "source": [
    "### Plot the base coverage per construct distribution"
   ]
  },
  {
   "cell_type": "code",
   "execution_count": null,
   "metadata": {},
   "outputs": [],
   "source": [
    "plot.base_coverage_for_all_constructs(df=df_full, \n",
    "                                      min_bases_cov=min_bases_cov)"
   ]
  },
  {
   "cell_type": "markdown",
   "metadata": {},
   "source": [
    "### Sanity-check construct-wise base coverage plots\n",
    "Plot randomly picked sequences to check the quality of the data."
   ]
  },
  {
   "cell_type": "code",
   "execution_count": null,
   "metadata": {},
   "outputs": [],
   "source": [
    "plot.random_base_coverage_plot_wise(df=df, \n",
    "                                    min_bases_cov=min_bases_cov)"
   ]
  },
  {
   "cell_type": "markdown",
   "metadata": {},
   "source": [
    "### Heatmap of the var part coverage"
   ]
  },
  {
   "cell_type": "code",
   "execution_count": null,
   "metadata": {},
   "outputs": [],
   "source": [
    "plot.heatmap(df = df, \n",
    "             column=\"cov_bases_var\")"
   ]
  },
  {
   "cell_type": "markdown",
   "metadata": {},
   "source": [
    "### Heatmap of the second half coverage"
   ]
  },
  {
   "cell_type": "code",
   "execution_count": null,
   "metadata": {},
   "outputs": [],
   "source": [
    "plot.heatmap(df = df, \n",
    "                column=\"cov_bases_sec_half\")"
   ]
  },
  {
   "cell_type": "markdown",
   "metadata": {},
   "source": [
    "# NOT SO FAST\n",
    "\n",
    "These plots only featured 2 tubes. How about adding a few more up there, and plotting the quality plots again?"
   ]
  },
  {
   "cell_type": "markdown",
   "metadata": {},
   "source": [
    "# Data Analysis"
   ]
  },
  {
   "cell_type": "markdown",
   "metadata": {},
   "source": [
    "### Explore the data\n",
    "`utils.get_var_info(df=df, tube=tube, construct=construct)` gives information about the variable part of the given construct of a given tube."
   ]
  },
  {
   "cell_type": "code",
   "execution_count": null,
   "metadata": {},
   "outputs": [],
   "source": [
    "tube, construct = tubes[0], constructs[0]  # it takes a singel (tube, construct) pair\n",
    "utils.get_var_info(df=df, tube=tube, construct=construct).xs((True, '0'),level=('paired','var_structure_comparison'))"
   ]
  },
  {
   "cell_type": "markdown",
   "metadata": {},
   "source": [
    "### Mutation sequence-wise\n",
    "\n",
    "`plot.mutation_rate(df, tube, construct, plot_type, index, normalize)` plots the mutation rate base-wise for a given construct of a given tube as a barplot. \n",
    "Arguments:\n",
    "- `plot_type` :\n",
    "    - `'sequence'` : each bar is colored w.r.t to the base of the original sequence.\n",
    "    - `'partition'` : each bar shows the partition of into which bases this base mutates.\n",
    "- `index`:\n",
    "    - `'index'`: each base is identified with its position number\n",
    "    - `'base'`: each base is identified with its type (A, C, G, T)\n",
    "\n",
    "Partition type - non normalized"
   ]
  },
  {
   "cell_type": "code",
   "execution_count": null,
   "metadata": {},
   "outputs": [],
   "source": [
    "for tube in tubes:\n",
    "    for construct in constructs:\n",
    "        plot.mutation_rate(df, tube, construct, plot_type='partition', index='base')  \n",
    "        plot.save_fig(path=f\"data/figs/date/{study}/mut_per_base/partition/{construct}/\", \n",
    "                    title=f\"base_per_base_partition_{tube}_{construct}\")\n",
    "        plt.close(not show_plots)"
   ]
  },
  {
   "cell_type": "markdown",
   "metadata": {},
   "source": [
    "Sequence type"
   ]
  },
  {
   "cell_type": "code",
   "execution_count": null,
   "metadata": {},
   "outputs": [],
   "source": [
    "for tube in tubes:\n",
    "    for construct in constructs:\n",
    "        plot.mutation_rate(df=df,\n",
    "                           tube=tube,\n",
    "                           construct=construct,\n",
    "                           plot_type='sequence',\n",
    "                           index='index')\n",
    "        plot.save_fig(path=f\"data/figs/date/{study}/mut_per_base/sequence/{construct}/\", \n",
    "                    title=f\"base_per_base_sequence_{tube}_{construct}\")\n",
    "        plt.close(not show_plots)"
   ]
  },
  {
   "cell_type": "markdown",
   "metadata": {},
   "source": [
    "### DeltaG plots"
   ]
  },
  {
   "cell_type": "code",
   "execution_count": null,
   "metadata": {},
   "outputs": [],
   "source": [
    "for tube in tubes:\n",
    "    plot.deltaG(df=df, tube=tube)\n",
    "\n",
    "    plot.save_fig(path=f\"data/figs/date/{study}/deltaG/\", \n",
    "             title=f\"deltaG_{tube}\")\n",
    "\n",
    "    plt.close(not show_plots)"
   ]
  },
  {
   "cell_type": "markdown",
   "metadata": {},
   "source": [
    "### Tubes comparison"
   ]
  },
  {
   "cell_type": "code",
   "execution_count": null,
   "metadata": {},
   "outputs": [],
   "source": [
    "for construct in constructs:\n",
    "        plot.compare_n_tubes(df, tubes, construct)\n",
    "        plot.save_fig(path=f\"data/figs/date/comparison/{study}\", \n",
    "                      title=f\"comparison_{study}_{construct}\")\n",
    "        plt.close(not show_plots)\n",
    "        print(construct, end=' ')"
   ]
  },
  {
   "cell_type": "markdown",
   "metadata": {},
   "source": [
    "### Save columns to a csv file"
   ]
  },
  {
   "cell_type": "code",
   "execution_count": null,
   "metadata": {},
   "outputs": [],
   "source": [
    "utils.columns_to_csv(df=df,\n",
    "                   tubes=tubes,\n",
    "                   columns=['tube', 'construct','full_sequence','var_sequence','mut_bases','info_bases'],\n",
    "                   title='about_{study}',\n",
    "                   path='data/figs/date/{study}'\n",
    "                   )"
   ]
  },
  {
   "cell_type": "markdown",
   "metadata": {},
   "source": [
    "### Save construct vs deltaG "
   ]
  },
  {
   "cell_type": "code",
   "execution_count": null,
   "metadata": {},
   "outputs": [],
   "source": [
    "def deltaG_vs_construct_to_csv(df, title, path, tubes):\n",
    "    full_path = utils.make_path(path)\n",
    "    df[df['tube']==tubes[0]][['construct','var_deltaG','full_deltaG']].reset_index().drop(columns=['index']).to_csv(f\"{full_path}/{title}\")\n",
    "    \n",
    "deltaG_vs_construct_to_csv(df=df, title=f\"deltaG_vs_construct.csv\", path = f\"data/figs/date\", tubes=tubes)"
   ]
  },
  {
   "cell_type": "markdown",
   "metadata": {},
   "source": [
    "# Process pickles, push and pull to the database (#TODO, add security features to avoid having them destroying everything)\n"
   ]
  },
  {
   "cell_type": "markdown",
   "metadata": {},
   "source": [
    "# "
   ]
  },
  {
   "cell_type": "markdown",
   "metadata": {},
   "source": []
  }
 ],
 "metadata": {
  "interpreter": {
   "hash": "181a95673db9352066c6745a8c0d18f5d1810e89c791a79e01a67e30706bff6f"
  },
  "kernelspec": {
   "display_name": "Python 3.9.12 ('base')",
   "language": "python",
   "name": "python3"
  },
  "language_info": {
   "codemirror_mode": {
    "name": "ipython",
    "version": 3
   },
   "file_extension": ".py",
   "mimetype": "text/x-python",
   "name": "python",
   "nbconvert_exporter": "python",
   "pygments_lexer": "ipython3",
   "version": "3.9.12"
  },
  "orig_nbformat": 4
 },
 "nbformat": 4,
 "nbformat_minor": 2
}
