{
 "cells": [
  {
   "cell_type": "code",
   "execution_count": 1,
   "metadata": {},
   "outputs": [],
   "source": [
    "import pandas as pd"
   ]
  },
  {
   "cell_type": "code",
   "execution_count": 14,
   "metadata": {},
   "outputs": [],
   "source": [
    "df = pd.read_excel('../data/sequence_data.xlsx')\n"
   ]
  },
  {
   "cell_type": "code",
   "execution_count": 121,
   "metadata": {},
   "outputs": [
    {
     "name": "stdout",
     "output_type": "stream",
     "text": [
      "row     i_index         j_index         p_index \n",
      "0 \t10205    \t12173    \t26464    \n",
      "1 \t8077    \t9674    \t20622    \n",
      "2 \t9592    \t11506    \t24915    \n",
      "3 \t9713    \t11605    \t25271    \n",
      "4 \t10702    \t12850    \t27742    \n",
      "5 \t6616    \t7925    \t17064    \n",
      "6 \t5552    \t6775    \t14953    \n",
      "7 \t8557    \t10192    \t22043    \n",
      "8 \t6681    \t8075    \t17491    \n",
      "9 \t8904    \t10678    \t22876    \n"
     ]
    }
   ],
   "source": [
    "print('row     i_index         j_index         p_index ')\n",
    "for row in range(10):\n",
    "    serie = df_clean.loc[row]\n",
    "    print(f\"{row} \\t\", end='')\n",
    "    for index in ['i','j', 'p']:\n",
    "        amount = len(list(serie[f\"{index}_index\"][2:].replace(' ',',')[1:]))\n",
    "        print(f\"{amount}    \", end = {'i':'\\t', 'j':\"\\t\", 'p':'\\n'}[index])"
   ]
  }
 ],
 "metadata": {
  "interpreter": {
   "hash": "181a95673db9352066c6745a8c0d18f5d1810e89c791a79e01a67e30706bff6f"
  },
  "kernelspec": {
   "display_name": "Python 3.9.12 ('base')",
   "language": "python",
   "name": "python3"
  },
  "language_info": {
   "codemirror_mode": {
    "name": "ipython",
    "version": 3
   },
   "file_extension": ".py",
   "mimetype": "text/x-python",
   "name": "python",
   "nbconvert_exporter": "python",
   "pygments_lexer": "ipython3",
   "version": "3.9.12"
  },
  "orig_nbformat": 4
 },
 "nbformat": 4,
 "nbformat_minor": 2
}
