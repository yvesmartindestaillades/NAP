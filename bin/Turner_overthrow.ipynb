{
 "cells": [
  {
   "cell_type": "markdown",
   "metadata": {},
   "source": [
    "# Read me\n",
    "This template is meant to be a starter for your customized DREEM output data analysis.\n",
    "\n",
    "- To install this library, please check the installation on the [Git repo](https://github.com/yvesmartindestaillades/NAP).\n",
    "- To learn how to use this library, please get through the [tutorial](tutorial.ipynb).\n"
   ]
  },
  {
   "cell_type": "markdown",
   "metadata": {},
   "source": [
    "# Turner overthrown"
   ]
  },
  {
   "cell_type": "code",
   "execution_count": null,
   "metadata": {},
   "outputs": [],
   "source": [
    "import pandas as pd\n",
    "import matplotlib.pyplot as plt\n",
    "import matplotlib as mpl\n",
    "from os.path import exists, dirname\n",
    "import os, sys\n",
    "import string\n",
    "import numpy as np\n",
    "import seaborn as sns\n",
    "\n",
    "from dreem_nap import data_wrangler, database, plot, utils\n",
    "from dreem_nap.study import Study\n"
   ]
  },
  {
   "cell_type": "markdown",
   "metadata": {},
   "source": [
    "# Step 1: Data wrangling\n",
    "### Step 1.1: Define your study and some basics about your project"
   ]
  },
  {
   "cell_type": "code",
   "execution_count": null,
   "metadata": {},
   "outputs": [],
   "source": [
    "# Set your root folder for the database (at the moment, keep Yves)\n",
    "folder = 'Yves'\n",
    "\n",
    "# Select your study\n",
    "study_name = 'temperature' \n",
    "\n",
    "## Set your base coverage high-pass filter value\n",
    "min_bases_cov = 1000 \n",
    "\n",
    "# Set the resolution for the plots\n",
    "mpl.rcParams['figure.dpi'] = 200 # the highest the resolution, the slowest the plotting\n",
    "mpl.rcParams[\"figure.figsize\"] = [25, 7]\n",
    "#plt.rcParams[\"figure.autolayout\"] = True\n",
    "\n",
    "# Depending on the study you select, you'll get a series of samples. You can also create new studies using this dictionary.\n",
    "# Here's an example.\n",
    "studies = data_wrangler.load_studies('../data/studies.csv')\n",
    "\n",
    "study = studies.loc[study_name]\n",
    "study"
   ]
  },
  {
   "cell_type": "markdown",
   "metadata": {},
   "source": [
    "### Step 1.2: Process new pickle files and push them to Firebase\n",
    "- Select which samples you want to push to Firebase.\n",
    "To plot automatically arrays of samples, see [tutorial](tutorial.ipynb), section 3.2.\n",
    "- Process samples and push them to Firebase."
   ]
  },
  {
   "cell_type": "code",
   "execution_count": null,
   "metadata": {},
   "outputs": [],
   "source": [
    "## Pickle files to process and to push to Firebase\n",
    "pickles_list = [] # Can be samples if you want to process the samples from your study\n",
    "\n",
    "pickles = {pickle: f\"../data/FULLSET/{pickle}/mutation_histos.p\" for pickle in pickles_list}\n",
    "\n",
    "# Indicate the location of your RNA structure file\n",
    "RNAstructureFile = '../data/RNAstructureFile.csv'\n",
    "\n",
    "# Default location for your local database (JSON file)\n",
    "json_file = '../data/db.json'\n",
    "\n",
    "# If the user gives some new pickles files, push them to the firebase, then pull the entire firebase\n",
    "if len(pickles):\n",
    "    data_wrangler.push_samples_to_firebase(pickles = pickles,\n",
    "                        RNAstructureFile = RNAstructureFile,\n",
    "                        min_bases_cov = min_bases_cov, \n",
    "                        folder=folder)"
   ]
  },
  {
   "cell_type": "markdown",
   "metadata": {},
   "source": [
    "### Step 1.3: Pull the data from the Firebase and clean/reformat it.\n",
    "`df` is used for the analysis. Each of the construct have above 1000 reads for each sample.     \n",
    "`df_full` is used for quality quality analysis. It has all constructs above 1000 valid reads for each sample individually."
   ]
  },
  {
   "cell_type": "code",
   "execution_count": 4,
   "metadata": {},
   "outputs": [
    {
     "name": "stdout",
     "output_type": "stream",
     "text": [
      "43 constructs were dropped because deltaG was 'void'\n",
      "108 constructs have more than 1000 reads for each base of their ROI on each sample\n"
     ]
    }
   ],
   "source": [
    "# Pull the firebase\n",
    "#df_database = database.load(samples=samples, username=username)\n",
    "\n",
    "#data_wrangler.dump_dict_json(JSONFileDict=json_file, df=df_database)\n",
    "df_database = data_wrangler.json_load(json_file)\n",
    "\n",
    "# Clean and reformat the dataset\n",
    "df, df_full = data_wrangler.clean_dataset(df_database=df_database,\n",
    "                                             study=study)\n",
    "print(f\"{df.groupby('construct')['samples_covered'].count().count()} constructs have more than {min_bases_cov} reads for each base of their ROI on each sample\")\n",
    "        "
   ]
  },
  {
   "cell_type": "markdown",
   "metadata": {},
   "source": [
    "# Step 2: Data quality analysis\n",
    "\n",
    "It's always hard to realize that you were analysing noise. Here, we'll get through a series a plot to check the data sanity."
   ]
  },
  {
   "cell_type": "markdown",
   "metadata": {},
   "source": [
    "### Get the list of samples and constructs:"
   ]
  },
  {
   "cell_type": "code",
   "execution_count": 5,
   "metadata": {},
   "outputs": [
    {
     "name": "stdout",
     "output_type": "stream",
     "text": [
      "samples are: ['D7', 'E7', 'F7', 'G7', 'H7', 'A8', 'B8', 'C8']\n",
      "constructs are: [  167   185   286   322   373   381   597   980  1009  1055  1063  1092\n",
      "  1120  1495  1895  1994  2069  2093  2228  2323  2506  2524  2570  2780\n",
      "  2797  3014  3163  3273  3337  3580  3708  3796  3925  3948  4274  4362\n",
      "  4493  4585  4672  4708  4727  4758  5014  5269  5435  5440  5988  6317\n",
      "  6458  6711  6896  7026  7172  7384  7487  7545  7808  7845  8106  8136\n",
      "  8240  8280  8281  8351  8369  8422  8427  8430  8438  8574  8594  8695\n",
      "  8758  9176  9211  9237  9302  9332  9572  9629  9796  9832  9843  9849\n",
      " 10044 10162 10190 10663 10759 10803 10948 10992 11024 11035 11047 11197\n",
      " 11217 11390 11499 11642 11659 11775 11825 12079 12108 12306 12361 12419]\n"
     ]
    }
   ],
   "source": [
    "print(f\"samples are: {study.samples}\")\n",
    "print(f\"constructs are: {df.construct.unique()}\")"
   ]
  },
  {
   "cell_type": "markdown",
   "metadata": {},
   "source": [
    "### Explore the data\n",
    "`get_roi_info(df=df, sample=sample, construct=construct)` gives information about the Region of Interest (ROI) of a (sample, construct) pair."
   ]
  },
  {
   "cell_type": "code",
   "execution_count": 6,
   "metadata": {},
   "outputs": [
    {
     "data": {
      "text/html": [
       "<div>\n",
       "<style scoped>\n",
       "    .dataframe tbody tr th:only-of-type {\n",
       "        vertical-align: middle;\n",
       "    }\n",
       "\n",
       "    .dataframe tbody tr th {\n",
       "        vertical-align: top;\n",
       "    }\n",
       "\n",
       "    .dataframe thead th {\n",
       "        text-align: right;\n",
       "    }\n",
       "</style>\n",
       "<table border=\"1\" class=\"dataframe\">\n",
       "  <thead>\n",
       "    <tr style=\"text-align: right;\">\n",
       "      <th></th>\n",
       "      <th>samp</th>\n",
       "      <th>construct</th>\n",
       "      <th>cov_bases</th>\n",
       "      <th>cov_bases_roi</th>\n",
       "      <th>cov_bases_sec_half</th>\n",
       "      <th>data_type</th>\n",
       "      <th>del_bases</th>\n",
       "      <th>end</th>\n",
       "      <th>flank</th>\n",
       "      <th>full_deltaG</th>\n",
       "      <th>...</th>\n",
       "      <th>roi_end_index</th>\n",
       "      <th>roi_sequence</th>\n",
       "      <th>roi_start_index</th>\n",
       "      <th>roi_structure_comparison</th>\n",
       "      <th>skips_low_mapq</th>\n",
       "      <th>skips_short_read</th>\n",
       "      <th>skips_too_many_muts</th>\n",
       "      <th>start</th>\n",
       "      <th>sub-library</th>\n",
       "      <th>samples_covered</th>\n",
       "    </tr>\n",
       "  </thead>\n",
       "  <tbody>\n",
       "    <tr>\n",
       "      <th>0</th>\n",
       "      <td>A8</td>\n",
       "      <td>167</td>\n",
       "      <td>[0.0, 2671.0, 2669.0, 2683.0, 2675.0, 2570.0, ...</td>\n",
       "      <td>2656</td>\n",
       "      <td>1262</td>\n",
       "      <td>DMS</td>\n",
       "      <td>[0.0, 0.0, 0.0, 0.0, 0.0, 4.0, 0.0, 1.0, 0.0, ...</td>\n",
       "      <td>170</td>\n",
       "      <td>flank_1</td>\n",
       "      <td>-38.6</td>\n",
       "      <td>...</td>\n",
       "      <td>109</td>\n",
       "      <td>CCACCUGUAUAUAUCGGGUCCGAUAUAUACAGGUGG</td>\n",
       "      <td>73</td>\n",
       "      <td>000000000000000000000000000000000000</td>\n",
       "      <td>5012</td>\n",
       "      <td>0</td>\n",
       "      <td>3</td>\n",
       "      <td>1</td>\n",
       "      <td>structured PUM2 hairpin variants</td>\n",
       "      <td>8</td>\n",
       "    </tr>\n",
       "    <tr>\n",
       "      <th>1</th>\n",
       "      <td>A8</td>\n",
       "      <td>185</td>\n",
       "      <td>[0.0, 27813.0, 27500.0, 27861.0, 27962.0, 2725...</td>\n",
       "      <td>24812</td>\n",
       "      <td>15600</td>\n",
       "      <td>DMS</td>\n",
       "      <td>[0.0, 0.0, 0.0, 0.0, 0.0, 8.0, 0.0, 3.0, 0.0, ...</td>\n",
       "      <td>170</td>\n",
       "      <td>flank_3_partial</td>\n",
       "      <td>-63.0</td>\n",
       "      <td>...</td>\n",
       "      <td>114</td>\n",
       "      <td>UACAAAUCAGUGUAUAUAUGCCCCCAUAUAUACACUGAUUUGUA</td>\n",
       "      <td>70</td>\n",
       "      <td>00000000000000000000000000000000000000000000</td>\n",
       "      <td>17978</td>\n",
       "      <td>0</td>\n",
       "      <td>3</td>\n",
       "      <td>1</td>\n",
       "      <td>structured PUM2 hairpin variants</td>\n",
       "      <td>8</td>\n",
       "    </tr>\n",
       "    <tr>\n",
       "      <th>2</th>\n",
       "      <td>A8</td>\n",
       "      <td>286</td>\n",
       "      <td>[0.0, 2851.0, 2847.0, 2842.0, 2853.0, 2739.0, ...</td>\n",
       "      <td>1724</td>\n",
       "      <td>559</td>\n",
       "      <td>DMS</td>\n",
       "      <td>[0.0, 0.0, 0.0, 0.0, 0.0, 0.0, 0.0, 0.0, 0.0, ...</td>\n",
       "      <td>170</td>\n",
       "      <td>flank_1</td>\n",
       "      <td>-26.1</td>\n",
       "      <td>...</td>\n",
       "      <td>104</td>\n",
       "      <td>CUGUAUAUAUGCAAACAUAUAUACAG</td>\n",
       "      <td>78</td>\n",
       "      <td>00000000000000000000000000</td>\n",
       "      <td>2137</td>\n",
       "      <td>0</td>\n",
       "      <td>0</td>\n",
       "      <td>1</td>\n",
       "      <td>structured PUM2 hairpin variants</td>\n",
       "      <td>8</td>\n",
       "    </tr>\n",
       "    <tr>\n",
       "      <th>3</th>\n",
       "      <td>A8</td>\n",
       "      <td>322</td>\n",
       "      <td>[0.0, 4323.0, 4323.0, 4319.0, 4331.0, 4255.0, ...</td>\n",
       "      <td>2044</td>\n",
       "      <td>319</td>\n",
       "      <td>DMS</td>\n",
       "      <td>[0.0, 0.0, 0.0, 0.0, 0.0, 0.0, 0.0, 0.0, 0.0, ...</td>\n",
       "      <td>170</td>\n",
       "      <td>flank_1</td>\n",
       "      <td>-26.6</td>\n",
       "      <td>...</td>\n",
       "      <td>108</td>\n",
       "      <td>GUCACGCAAAUGAGGAUCACCCAUGUGCGUGAC</td>\n",
       "      <td>75</td>\n",
       "      <td>000000000000000000000000000000000</td>\n",
       "      <td>5358</td>\n",
       "      <td>0</td>\n",
       "      <td>2</td>\n",
       "      <td>1</td>\n",
       "      <td>mismatched MS2 hairpin variants</td>\n",
       "      <td>8</td>\n",
       "    </tr>\n",
       "    <tr>\n",
       "      <th>4</th>\n",
       "      <td>A8</td>\n",
       "      <td>373</td>\n",
       "      <td>[0.0, 12683.0, 12692.0, 12675.0, 12712.0, 1267...</td>\n",
       "      <td>3131</td>\n",
       "      <td>3</td>\n",
       "      <td>DMS</td>\n",
       "      <td>[0.0, 0.0, 0.0, 0.0, 0.0, 8.0, 0.0, 1.0, 0.0, ...</td>\n",
       "      <td>170</td>\n",
       "      <td>flank_1</td>\n",
       "      <td>-14.8</td>\n",
       "      <td>...</td>\n",
       "      <td>101</td>\n",
       "      <td>UGUAUAUAGUAAUAUAUACA</td>\n",
       "      <td>81</td>\n",
       "      <td>10000000000000000001</td>\n",
       "      <td>12147</td>\n",
       "      <td>0</td>\n",
       "      <td>1</td>\n",
       "      <td>1</td>\n",
       "      <td>structured PUM2 hairpin variants</td>\n",
       "      <td>8</td>\n",
       "    </tr>\n",
       "    <tr>\n",
       "      <th>...</th>\n",
       "      <td>...</td>\n",
       "      <td>...</td>\n",
       "      <td>...</td>\n",
       "      <td>...</td>\n",
       "      <td>...</td>\n",
       "      <td>...</td>\n",
       "      <td>...</td>\n",
       "      <td>...</td>\n",
       "      <td>...</td>\n",
       "      <td>...</td>\n",
       "      <td>...</td>\n",
       "      <td>...</td>\n",
       "      <td>...</td>\n",
       "      <td>...</td>\n",
       "      <td>...</td>\n",
       "      <td>...</td>\n",
       "      <td>...</td>\n",
       "      <td>...</td>\n",
       "      <td>...</td>\n",
       "      <td>...</td>\n",
       "      <td>...</td>\n",
       "    </tr>\n",
       "    <tr>\n",
       "      <th>1203</th>\n",
       "      <td>H7</td>\n",
       "      <td>12079</td>\n",
       "      <td>[0.0, 38949.0, 38995.0, 38860.0, 38990.0, 3861...</td>\n",
       "      <td>4039</td>\n",
       "      <td>26</td>\n",
       "      <td>DMS</td>\n",
       "      <td>[0.0, 0.0, 0.0, 0.0, 0.0, 8.0, 0.0, 6.0, 0.0, ...</td>\n",
       "      <td>170</td>\n",
       "      <td>flank_1</td>\n",
       "      <td>-17.8</td>\n",
       "      <td>...</td>\n",
       "      <td>113</td>\n",
       "      <td>UGUAUAUAUUUUCUUUUCUUUUCUUUUCUUUUCUUUAUAUACA</td>\n",
       "      <td>70</td>\n",
       "      <td>1000000000000000000000000000000000000000001</td>\n",
       "      <td>19914</td>\n",
       "      <td>0</td>\n",
       "      <td>0</td>\n",
       "      <td>1</td>\n",
       "      <td>structured PUM2 hairpin variants</td>\n",
       "      <td>8</td>\n",
       "    </tr>\n",
       "    <tr>\n",
       "      <th>1204</th>\n",
       "      <td>H7</td>\n",
       "      <td>12108</td>\n",
       "      <td>[0.0, 25696.0, 25669.0, 25644.0, 25706.0, 2542...</td>\n",
       "      <td>2741</td>\n",
       "      <td>7</td>\n",
       "      <td>DMS</td>\n",
       "      <td>[0.0, 0.0, 0.0, 0.0, 0.0, 3.0, 0.0, 3.0, 0.0, ...</td>\n",
       "      <td>170</td>\n",
       "      <td>flank_1</td>\n",
       "      <td>-17.3</td>\n",
       "      <td>...</td>\n",
       "      <td>111</td>\n",
       "      <td>UGUAUAAUAUACACAUGUAUAAUAUACACAUGUAUAAUAU</td>\n",
       "      <td>71</td>\n",
       "      <td>0000000000000000000000000000000000000000</td>\n",
       "      <td>24068</td>\n",
       "      <td>0</td>\n",
       "      <td>0</td>\n",
       "      <td>1</td>\n",
       "      <td>functional sites with multiple PUM Binding Sites</td>\n",
       "      <td>8</td>\n",
       "    </tr>\n",
       "    <tr>\n",
       "      <th>1205</th>\n",
       "      <td>H7</td>\n",
       "      <td>12306</td>\n",
       "      <td>[0.0, 16871.0, 16846.0, 16875.0, 16910.0, 1667...</td>\n",
       "      <td>12203</td>\n",
       "      <td>322</td>\n",
       "      <td>DMS</td>\n",
       "      <td>[0.0, 0.0, 0.0, 0.0, 0.0, 12.0, 0.0, 2.0, 0.0,...</td>\n",
       "      <td>170</td>\n",
       "      <td>flank_1</td>\n",
       "      <td>-24.4</td>\n",
       "      <td>...</td>\n",
       "      <td>103</td>\n",
       "      <td>GCGAAUGAGGAUCACCCACGUGC</td>\n",
       "      <td>80</td>\n",
       "      <td>01011101001011111101001</td>\n",
       "      <td>12215</td>\n",
       "      <td>0</td>\n",
       "      <td>1</td>\n",
       "      <td>1</td>\n",
       "      <td>mismatched MS2 hairpin variants</td>\n",
       "      <td>8</td>\n",
       "    </tr>\n",
       "    <tr>\n",
       "      <th>1206</th>\n",
       "      <td>H7</td>\n",
       "      <td>12361</td>\n",
       "      <td>[0.0, 19807.0, 19761.0, 19817.0, 19814.0, 1941...</td>\n",
       "      <td>10672</td>\n",
       "      <td>1395</td>\n",
       "      <td>DMS</td>\n",
       "      <td>[0.0, 0.0, 0.0, 0.0, 0.0, 6.0, 0.0, 0.0, 0.0, ...</td>\n",
       "      <td>170</td>\n",
       "      <td>flank_1</td>\n",
       "      <td>-24.5</td>\n",
       "      <td>...</td>\n",
       "      <td>108</td>\n",
       "      <td>CUGUAUAUAUGUUUUCUUUUCUUCAUAUAUACAG</td>\n",
       "      <td>74</td>\n",
       "      <td>0000000000000000000000000000000000</td>\n",
       "      <td>11006</td>\n",
       "      <td>0</td>\n",
       "      <td>2</td>\n",
       "      <td>1</td>\n",
       "      <td>structured PUM2 hairpin variants</td>\n",
       "      <td>8</td>\n",
       "    </tr>\n",
       "    <tr>\n",
       "      <th>1207</th>\n",
       "      <td>H7</td>\n",
       "      <td>12419</td>\n",
       "      <td>[0.0, 6188.0, 6192.0, 6227.0, 6219.0, 6066.0, ...</td>\n",
       "      <td>3072</td>\n",
       "      <td>1066</td>\n",
       "      <td>DMS</td>\n",
       "      <td>[0.0, 0.0, 0.0, 0.0, 0.0, 0.0, 0.0, 5.0, 0.0, ...</td>\n",
       "      <td>170</td>\n",
       "      <td>flank_3_partial</td>\n",
       "      <td>-44.5</td>\n",
       "      <td>...</td>\n",
       "      <td>123</td>\n",
       "      <td>UCUCUUCUUGUAUAUACUUGUAUAUACUUGUAUAUAUCUUGUAUAU...</td>\n",
       "      <td>70</td>\n",
       "      <td>0111111100000000000000000000000000000000000000...</td>\n",
       "      <td>1393</td>\n",
       "      <td>0</td>\n",
       "      <td>0</td>\n",
       "      <td>1</td>\n",
       "      <td>cooperative variants</td>\n",
       "      <td>8</td>\n",
       "    </tr>\n",
       "  </tbody>\n",
       "</table>\n",
       "<p>864 rows × 33 columns</p>\n",
       "</div>"
      ],
      "text/plain": [
       "     samp  construct                                          cov_bases  \\\n",
       "0      A8        167  [0.0, 2671.0, 2669.0, 2683.0, 2675.0, 2570.0, ...   \n",
       "1      A8        185  [0.0, 27813.0, 27500.0, 27861.0, 27962.0, 2725...   \n",
       "2      A8        286  [0.0, 2851.0, 2847.0, 2842.0, 2853.0, 2739.0, ...   \n",
       "3      A8        322  [0.0, 4323.0, 4323.0, 4319.0, 4331.0, 4255.0, ...   \n",
       "4      A8        373  [0.0, 12683.0, 12692.0, 12675.0, 12712.0, 1267...   \n",
       "...   ...        ...                                                ...   \n",
       "1203   H7      12079  [0.0, 38949.0, 38995.0, 38860.0, 38990.0, 3861...   \n",
       "1204   H7      12108  [0.0, 25696.0, 25669.0, 25644.0, 25706.0, 2542...   \n",
       "1205   H7      12306  [0.0, 16871.0, 16846.0, 16875.0, 16910.0, 1667...   \n",
       "1206   H7      12361  [0.0, 19807.0, 19761.0, 19817.0, 19814.0, 1941...   \n",
       "1207   H7      12419  [0.0, 6188.0, 6192.0, 6227.0, 6219.0, 6066.0, ...   \n",
       "\n",
       "      cov_bases_roi  cov_bases_sec_half data_type  \\\n",
       "0              2656                1262       DMS   \n",
       "1             24812               15600       DMS   \n",
       "2              1724                 559       DMS   \n",
       "3              2044                 319       DMS   \n",
       "4              3131                   3       DMS   \n",
       "...             ...                 ...       ...   \n",
       "1203           4039                  26       DMS   \n",
       "1204           2741                   7       DMS   \n",
       "1205          12203                 322       DMS   \n",
       "1206          10672                1395       DMS   \n",
       "1207           3072                1066       DMS   \n",
       "\n",
       "                                              del_bases  end            flank  \\\n",
       "0     [0.0, 0.0, 0.0, 0.0, 0.0, 4.0, 0.0, 1.0, 0.0, ...  170          flank_1   \n",
       "1     [0.0, 0.0, 0.0, 0.0, 0.0, 8.0, 0.0, 3.0, 0.0, ...  170  flank_3_partial   \n",
       "2     [0.0, 0.0, 0.0, 0.0, 0.0, 0.0, 0.0, 0.0, 0.0, ...  170          flank_1   \n",
       "3     [0.0, 0.0, 0.0, 0.0, 0.0, 0.0, 0.0, 0.0, 0.0, ...  170          flank_1   \n",
       "4     [0.0, 0.0, 0.0, 0.0, 0.0, 8.0, 0.0, 1.0, 0.0, ...  170          flank_1   \n",
       "...                                                 ...  ...              ...   \n",
       "1203  [0.0, 0.0, 0.0, 0.0, 0.0, 8.0, 0.0, 6.0, 0.0, ...  170          flank_1   \n",
       "1204  [0.0, 0.0, 0.0, 0.0, 0.0, 3.0, 0.0, 3.0, 0.0, ...  170          flank_1   \n",
       "1205  [0.0, 0.0, 0.0, 0.0, 0.0, 12.0, 0.0, 2.0, 0.0,...  170          flank_1   \n",
       "1206  [0.0, 0.0, 0.0, 0.0, 0.0, 6.0, 0.0, 0.0, 0.0, ...  170          flank_1   \n",
       "1207  [0.0, 0.0, 0.0, 0.0, 0.0, 0.0, 0.0, 5.0, 0.0, ...  170  flank_3_partial   \n",
       "\n",
       "      full_deltaG  ... roi_end_index  \\\n",
       "0           -38.6  ...           109   \n",
       "1           -63.0  ...           114   \n",
       "2           -26.1  ...           104   \n",
       "3           -26.6  ...           108   \n",
       "4           -14.8  ...           101   \n",
       "...           ...  ...           ...   \n",
       "1203        -17.8  ...           113   \n",
       "1204        -17.3  ...           111   \n",
       "1205        -24.4  ...           103   \n",
       "1206        -24.5  ...           108   \n",
       "1207        -44.5  ...           123   \n",
       "\n",
       "                                           roi_sequence roi_start_index  \\\n",
       "0                  CCACCUGUAUAUAUCGGGUCCGAUAUAUACAGGUGG              73   \n",
       "1          UACAAAUCAGUGUAUAUAUGCCCCCAUAUAUACACUGAUUUGUA              70   \n",
       "2                            CUGUAUAUAUGCAAACAUAUAUACAG              78   \n",
       "3                     GUCACGCAAAUGAGGAUCACCCAUGUGCGUGAC              75   \n",
       "4                                  UGUAUAUAGUAAUAUAUACA              81   \n",
       "...                                                 ...             ...   \n",
       "1203        UGUAUAUAUUUUCUUUUCUUUUCUUUUCUUUUCUUUAUAUACA              70   \n",
       "1204           UGUAUAAUAUACACAUGUAUAAUAUACACAUGUAUAAUAU              71   \n",
       "1205                            GCGAAUGAGGAUCACCCACGUGC              80   \n",
       "1206                 CUGUAUAUAUGUUUUCUUUUCUUCAUAUAUACAG              74   \n",
       "1207  UCUCUUCUUGUAUAUACUUGUAUAUACUUGUAUAUAUCUUGUAUAU...              70   \n",
       "\n",
       "                               roi_structure_comparison skips_low_mapq  \\\n",
       "0                  000000000000000000000000000000000000           5012   \n",
       "1          00000000000000000000000000000000000000000000          17978   \n",
       "2                            00000000000000000000000000           2137   \n",
       "3                     000000000000000000000000000000000           5358   \n",
       "4                                  10000000000000000001          12147   \n",
       "...                                                 ...            ...   \n",
       "1203        1000000000000000000000000000000000000000001          19914   \n",
       "1204           0000000000000000000000000000000000000000          24068   \n",
       "1205                            01011101001011111101001          12215   \n",
       "1206                 0000000000000000000000000000000000          11006   \n",
       "1207  0111111100000000000000000000000000000000000000...           1393   \n",
       "\n",
       "     skips_short_read skips_too_many_muts start  \\\n",
       "0                   0                   3     1   \n",
       "1                   0                   3     1   \n",
       "2                   0                   0     1   \n",
       "3                   0                   2     1   \n",
       "4                   0                   1     1   \n",
       "...               ...                 ...   ...   \n",
       "1203                0                   0     1   \n",
       "1204                0                   0     1   \n",
       "1205                0                   1     1   \n",
       "1206                0                   2     1   \n",
       "1207                0                   0     1   \n",
       "\n",
       "                                           sub-library  samples_covered  \n",
       "0                     structured PUM2 hairpin variants                8  \n",
       "1                     structured PUM2 hairpin variants                8  \n",
       "2                     structured PUM2 hairpin variants                8  \n",
       "3                      mismatched MS2 hairpin variants                8  \n",
       "4                     structured PUM2 hairpin variants                8  \n",
       "...                                                ...              ...  \n",
       "1203                  structured PUM2 hairpin variants                8  \n",
       "1204  functional sites with multiple PUM Binding Sites                8  \n",
       "1205                   mismatched MS2 hairpin variants                8  \n",
       "1206                  structured PUM2 hairpin variants                8  \n",
       "1207                              cooperative variants                8  \n",
       "\n",
       "[864 rows x 33 columns]"
      ]
     },
     "execution_count": 6,
     "metadata": {},
     "output_type": "execute_result"
    }
   ],
   "source": [
    "#sample, construct = utils.rand_sample_construct(df)\n",
    "#utils.get_roi_info(df=df, sample=sample, construct=construct)#.xs((True, '0'),level=('paired','roi_structure_comparison'))   \n",
    "\n",
    "#utils.columns_to_csv(df, study= study, columns=['sample','construct','full_sequence'],title='test.csv',path='')\n",
    "samples = study.samples\n",
    "df[df.samp.isin(samples)]"
   ]
  },
  {
   "cell_type": "markdown",
   "metadata": {},
   "source": [
    "### (sample, construct)-specific base coverage plot"
   ]
  },
  {
   "cell_type": "code",
   "execution_count": null,
   "metadata": {},
   "outputs": [],
   "source": [
    "samp, construct = utils.rand_sample_construct(df)\n",
    "plot.base_coverage(df, samp, construct)"
   ]
  },
  {
   "cell_type": "markdown",
   "metadata": {},
   "source": [
    "### Plot the base coverage per construct distribution"
   ]
  },
  {
   "cell_type": "code",
   "execution_count": null,
   "metadata": {},
   "outputs": [],
   "source": [
    "plot.base_coverage_ROI_for_all_constructs(df=df_full)"
   ]
  },
  {
   "cell_type": "markdown",
   "metadata": {},
   "source": [
    "### Sanity-check construct-wise base coverage plots\n",
    "Plot randomly picked sequences to check the quality of the data."
   ]
  },
  {
   "cell_type": "code",
   "execution_count": null,
   "metadata": {},
   "outputs": [],
   "source": [
    "plot.random_9_base_coverage(df=df)"
   ]
  },
  {
   "cell_type": "markdown",
   "metadata": {},
   "source": [
    "### Heatmap of the roi part coverage"
   ]
  },
  {
   "cell_type": "code",
   "execution_count": null,
   "metadata": {},
   "outputs": [],
   "source": [
    "plot.heatmap(df = df, \n",
    "             column=\"cov_bases_roi\")"
   ]
  },
  {
   "cell_type": "markdown",
   "metadata": {},
   "source": [
    "### Heatmap of the second half coverage"
   ]
  },
  {
   "cell_type": "code",
   "execution_count": null,
   "metadata": {},
   "outputs": [],
   "source": [
    "plot.heatmap(df = df, \n",
    "                column=\"cov_bases_sec_half\")"
   ]
  },
  {
   "cell_type": "markdown",
   "metadata": {},
   "source": [
    "# Step 3: Data analysis\n",
    "In this part, we know that we read good data, and we want to visualize it through different plots.\n",
    "\n",
    "### Analysis parameters"
   ]
  },
  {
   "cell_type": "code",
   "execution_count": null,
   "metadata": {},
   "outputs": [],
   "source": [
    "# Display the plots on this notebook? Not recommended if numerous plots\n",
    "show_plots = True\n",
    "\n",
    "# Constructs used\n",
    "a_few_constructs = df.construct.unique()[:3].tolist()\n",
    "first_construct = df.construct.unique()[0].tolist()\n",
    "constructs_per_name = {\n",
    "    'all_constructs': df.construct.unique().tolist(),\n",
    "    str(a_few_constructs) : a_few_constructs,\n",
    "    str(first_construct): [first_construct]\n",
    "}\n",
    "\n",
    "# Select constructs here\n",
    "constructs_name = str(a_few_constructs)\n",
    "\n",
    "# Define what you will analyse\n",
    "constructs = constructs_per_name[constructs_name]"
   ]
  },
  {
   "cell_type": "markdown",
   "metadata": {},
   "source": [
    "### Big script to run every selected function"
   ]
  },
  {
   "cell_type": "code",
   "execution_count": null,
   "metadata": {},
   "outputs": [],
   "source": [
    "# Analysis run in this script\n",
    "analysis = {'base_per_base_partition':False,\n",
    "            'base_per_base_sequence': True,\n",
    "            'deltaG': True,\n",
    "            'sample_comparison':False,\n",
    "            'columns_csv': True,\n",
    "            'deltaG_construct': True\n",
    "            }\n",
    "\n",
    "# Write here a script to get your plots "
   ]
  },
  {
   "cell_type": "markdown",
   "metadata": {},
   "source": [
    "### Mutation sequence-wise\n",
    "\n",
    "`plot.mutation_rate(df, sample, construct, plot_type, index, normalize)` plots the mutation rate base-wise for a given construct of a given sample as a barplot. \n",
    "Arguments:\n",
    "- `plot_type` :\n",
    "    - `'sequence'` : each bar is colored w.r.t to the base of the original sequence.\n",
    "    - `'partition'` : each bar shows the partition of into which bases this base mutates.\n",
    "- `index`:\n",
    "    - `'index'`: each base is identified with its position number\n",
    "    - `'base'`: each base is identified with its type (A, C, G, T)"
   ]
  },
  {
   "cell_type": "code",
   "execution_count": null,
   "metadata": {},
   "outputs": [],
   "source": [
    "for construct in constructs:\n",
    "    for samp in samples:\n",
    "        plot.mutation_rate(df=df,\n",
    "                           sample=samp,\n",
    "                           construct=construct,\n",
    "                           plot_type='sequence',\n",
    "                           index='index')\n",
    "        utils.save_fig(path=f\"data/figs/date/{study}/mut_per_base/sequence/{construct}/\", \n",
    "                    title=f\"base_per_base_sequence_{samp}_{construct}\")\n",
    "        plt.close(not show_plots)"
   ]
  },
  {
   "cell_type": "markdown",
   "metadata": {},
   "source": [
    "### DeltaG plots"
   ]
  },
  {
   "cell_type": "code",
   "execution_count": null,
   "metadata": {},
   "outputs": [],
   "source": [
    "for samp in samples:\n",
    "    plot.deltaG(df=df, sample=samp)\n",
    "\n",
    "    utils.save_fig(path=f\"data/figs/date/{study}/deltaG/\", \n",
    "             title=f\"deltaG_{samp}\")\n",
    "\n",
    "    plt.close(not show_plots)"
   ]
  },
  {
   "cell_type": "markdown",
   "metadata": {},
   "source": [
    "### samples correlation"
   ]
  },
  {
   "cell_type": "code",
   "execution_count": null,
   "metadata": {},
   "outputs": [],
   "source": [
    "for construct in [constructs[0]]:\n",
    "        df_global_corr = plot.correlation_n_samples(df, samples, construct)\n",
    "        utils.save_fig(path=f\"data/figs/date/correlation/{study}\", \n",
    "                      title=f\"correlation_{study}_{construct}\")\n",
    "        plt.title(f\"Study: {study}\")\n",
    "        plt.close(not show_plots)\n",
    "        print(construct, end=' ')"
   ]
  },
  {
   "cell_type": "code",
   "execution_count": null,
   "metadata": {},
   "outputs": [],
   "source": [
    "show_plots = False\n",
    "for study in studies:\n",
    "    samples = study['samples']\n",
    "    for constructs in df.construct.unique():\n",
    "        constructs_name = constructs\n",
    "        df_global_corr = plot.correlation_n_samples(df, samples, constructs)\n",
    "        plt.title(f\"Correlation between samples for study: {study}, constructs: {constructs_name}\")\n",
    "        utils.save_fig(path=f\"data/figs/date/correlation/{study}/{constructs_name}\", \n",
    "                        title=f\"correlation_fit_{study}_{constructs_name}\")\n",
    "        plt.close(not show_plots)\n",
    "\n",
    "        for plt_type in ['r_value', 'slope']:\n",
    "            pivot = df_global_corr.pivot(\"sample_0\",\"sample_1\", plt_type).astype(float)\n",
    "            f, ax = plt.subplots(figsize=(28, 10))\n",
    "            sns.heatmap(pivot, annot=False, linewidths=0, ax=ax)#, norm=LinNorm())\n",
    "            plt.title(f\"{plt_type} of the correlation between samples for study: {study}, constructs: {constructs_name}\")\n",
    "            utils.save_fig(path=f\"data/figs/date/correlation/{study}/{constructs_name}\", \n",
    "                            title=f\"correlation_{plt_type}_{study}_{constructs_name}\")\n",
    "            plt.close(not show_plots)"
   ]
  },
  {
   "cell_type": "markdown",
   "metadata": {},
   "source": [
    "### Heat Map"
   ]
  },
  {
   "cell_type": "code",
   "execution_count": null,
   "metadata": {},
   "outputs": [],
   "source": [
    "#pivot = df_global_corr.pivot(\"sample_0\",\"sample_1\", 'r_value').astype(float)\n",
    "df_global_corr"
   ]
  },
  {
   "cell_type": "code",
   "execution_count": null,
   "metadata": {},
   "outputs": [],
   "source": [
    "for plt_type in ['r_value', 'slope']:\n",
    "    pivot = df_global_corr.pivot(\"sample_0\",\"sample_1\", plt_type).astype(float)\n",
    "    f, ax = plt.subplots(figsize=(28, 10))\n",
    "    sns.heatmap(pivot, annot=False, linewidths=0, ax=ax)#, norm=LinNorm())\n",
    "    plt.title(plt_type)\n",
    "    utils.save_fig(path=f\"data/figs/date/global_correlation/{study}\", \n",
    "                    title=f\"correlation_{plt_type}_{study}_all_constructs\")\n",
    "   # plt.close(not show_plots)"
   ]
  },
  {
   "cell_type": "markdown",
   "metadata": {},
   "source": [
    "### Global correlation plot"
   ]
  },
  {
   "cell_type": "code",
   "execution_count": null,
   "metadata": {},
   "outputs": [],
   "source": [
    "heat_map = True\n",
    "\n",
    "for study in studies:\n",
    "    samples = study['samples']\n",
    "    df_global_corr = plot.correlation_n_samples(df, samples, constructs)\n",
    "    utils.save_fig(path=f\"data/figs/date/global_correlation/{study}\", \n",
    "                    title=f\"correlation_{study}_all_constructs\")\n",
    "    plt.close(not show_plots)\n",
    "\n",
    "    if heat_map:\n",
    "        for plt_type in ['r_value', 'slope']:\n",
    "            pivot = df_global_corr.pivot(\"sample_0\",\"sample_1\", plt_type).astype(float)\n",
    "            f, ax = plt.subplots(figsize=(28, 10))\n",
    "            sns.heatmap(pivot, annot=False, linewidths=0, ax=ax, norm=LogNorm())\n",
    "            utils.save_fig(path=f\"data/figs/date/global_correlation/{study}\", \n",
    "                            title=f\"correlation_{plt_type}_{study}_all_constructs\")\n",
    "            plt.close(not show_plots)"
   ]
  },
  {
   "cell_type": "code",
   "execution_count": null,
   "metadata": {},
   "outputs": [],
   "source": [
    "show_plots = 1\n",
    "for study in studies:\n",
    "    samples = studies[study]['samples']\n",
    "    if study == 'all_samples': continue\n",
    "    plot.correlation_n_samples(df, samples, constructs)\n",
    "    plot.save_fig(path=f\"data/figs/date/global_correlation/{study}\", \n",
    "                title=f\"correlation_{study}_all_constructs\")\n",
    "    plt.close(not show_plots)"
   ]
  },
  {
   "cell_type": "markdown",
   "metadata": {},
   "source": [
    " ### Conditions vs mutations #TODO"
   ]
  },
  {
   "cell_type": "code",
   "execution_count": null,
   "metadata": {},
   "outputs": [],
   "source": [
    "def conditions_vs_mutations(df, samples, study, ):\n",
    "    df_use = df.set_index(['samp','construct'])\n",
    "\n",
    "    fig = plot.define_figure(title=samp,\n",
    "                            xlabel='deltaG [kcal]',\n",
    "                            ylabel='Mutation ratio',\n",
    "                            figsize=(20,5))\n",
    "\n",
    "    stack_for_plot = {'0':{'x':[],'y':[]},'1':{'x':[],'y':[]}}\n",
    "\n",
    "    for construct in df.construct.unique():\n",
    "        roi_part = utils.get_roi_info(df=df, sample=samp, construct=construct)\n",
    "        for base in ['A','C']:\n",
    "            for roi_struct_comp in ['0','1']:\n",
    "                try:    \n",
    "                    this_base_mut =  roi_part.xs((base,True,roi_struct_comp), level=('base','paired','roi_structure_comparison'))\n",
    "                    stack_for_plot[roi_struct_comp]['x'].extend(this_base_mut['roi_deltaG'].to_list())\n",
    "                    stack_for_plot[roi_struct_comp]['y'].extend(this_base_mut['mut_rate'].to_list())\n",
    "                except:\n",
    "                    continue\n",
    "    plt.plot(stack_for_plot['0']['x'],stack_for_plot['0']['y'],'b.')\n",
    "    plt.plot(stack_for_plot['1']['x'],stack_for_plot['1']['y'],'r.')\n",
    "    plot.fit_deltaG(df_use, samp)\n",
    "    plt.legend(['A and C bases of the ROI, predicted paired by RNAstructure for both the ROI sequence and the full sequence',\\\n",
    "                'A and C bases of the ROI part, predicted paired by RNAstructure for the full sequence but not for the ROI sequence'])\n",
    "    plt.ylim([0,0.15])\n",
    "    fig.tight_layout()"
   ]
  },
  {
   "cell_type": "markdown",
   "metadata": {},
   "source": [
    "### Temperature vs reactivity plots"
   ]
  },
  {
   "cell_type": "code",
   "execution_count": null,
   "metadata": {},
   "outputs": [],
   "source": [
    "plot.mut_rate_along_study(df, samples, study)"
   ]
  },
  {
   "cell_type": "markdown",
   "metadata": {},
   "source": [
    "### Save columns to a csv file"
   ]
  },
  {
   "cell_type": "code",
   "execution_count": null,
   "metadata": {},
   "outputs": [],
   "source": [
    "utils.columns_to_csv(df=df,\n",
    "                   samples=samples,\n",
    "                   columns=['sample', 'construct','full_sequence','roi_sequence','mut_bases','info_bases'],\n",
    "                   title=f\"seq_and_reactivity_{study}\",\n",
    "                   path='data/figs/date/{study}')"
   ]
  },
  {
   "cell_type": "markdown",
   "metadata": {},
   "source": [
    "### Save construct vs deltaG "
   ]
  },
  {
   "cell_type": "code",
   "execution_count": null,
   "metadata": {},
   "outputs": [],
   "source": [
    "utils.deltaG_vs_construct_to_csv(df=df,    \n",
    "                                 title=f\"deltaG_vs_construct.csv\", \n",
    "                                 path = f\"data/figs/date/{study}\", \n",
    "                                 samples=samples)"
   ]
  }
 ],
 "metadata": {
  "interpreter": {
   "hash": "181a95673db9352066c6745a8c0d18f5d1810e89c791a79e01a67e30706bff6f"
  },
  "kernelspec": {
   "display_name": "Python 3.9.12 ('base')",
   "language": "python",
   "name": "python3"
  },
  "language_info": {
   "codemirror_mode": {
    "name": "ipython",
    "version": 3
   },
   "file_extension": ".py",
   "mimetype": "text/x-python",
   "name": "python",
   "nbconvert_exporter": "python",
   "pygments_lexer": "ipython3",
   "version": "3.9.12"
  },
  "orig_nbformat": 4
 },
 "nbformat": 4,
 "nbformat_minor": 2
}
