{
 "cells": [
  {
   "cell_type": "markdown",
   "metadata": {},
   "source": [
    "# Read me\n",
    "This template is meant to be a starter for your customized DREEM output data analysis.\n",
    "\n",
    "- To install this library, please check the installation on the [Git repo](https://github.com/yvesmartindestaillades/NAP).\n",
    "- To learn how to use this library, please get through the [tutorial](tutorial.ipynb).\n"
   ]
  },
  {
   "cell_type": "markdown",
   "metadata": {},
   "source": [
    "# Turner overthrown"
   ]
  },
  {
   "cell_type": "code",
   "execution_count": 1,
   "metadata": {},
   "outputs": [],
   "source": [
    "import pandas as pd\n",
    "import matplotlib.pyplot as plt\n",
    "import matplotlib as mpl\n",
    "from matplotlib.colors import LogNorm\n",
    "from os.path import exists, dirname\n",
    "import os, sys\n",
    "import numpy as np\n",
    "import seaborn as sns\n",
    "import json\n",
    "from dreem_nap import data_wrangler, data_manip, database, plot, utils, wrapper\n",
    "from dreem_nap.study import Study\n",
    "from typing import Tuple, List\n",
    "from sklearn.linear_model import LinearRegression\n"
   ]
  },
  {
   "cell_type": "markdown",
   "metadata": {},
   "source": [
    "# Step 1: Data wrangling\n",
    "### Step 1.1: Define your study and some basics about your project"
   ]
  },
  {
   "cell_type": "code",
   "execution_count": 2,
   "metadata": {},
   "outputs": [
    {
     "name": "stdout",
     "output_type": "stream",
     "text": [
      "Initiated connection to Firebase!\n",
      "Here are the available studies: dict_keys(['180 mM DMS', '3.1 DMS', '3.2 DMS', '60 mM DMS', 'PEG1K', 'PEG3350', 'PEG8K', 'RNA titration', 'TO_DO_2', 'all samples', 'magnesium', 'replicates 1', 'replicates 2', 'salt', 'spermidine', 'spermine', 'temperature'])\n"
     ]
    },
    {
     "data": {
      "text/plain": [
       "<dreem_nap.study.Study at 0x29c9a0a00>"
      ]
     },
     "execution_count": 2,
     "metadata": {},
     "output_type": "execute_result"
    }
   ],
   "source": [
    "# Set your root folder for the database (at the moment, keep Yves)\n",
    "folder = 'multiplexed/v2:1-indexBaseProb/minbasecov1000'\n",
    "\n",
    "path_to_data = '../data'\n",
    "\n",
    "# Pull the firebase\n",
    "# Firebase credentials file\n",
    "firebase_credentials_file = f\"{path_to_data}/credentials_firebase.json\"\n",
    "with open(firebase_credentials_file) as file:\n",
    "    firebase_credentials = json.load(file)\n",
    "database.connect(firebase_credentials)\n",
    "\n",
    "# Select your study\n",
    "study_name = 'all samples' \n",
    "\n",
    "## Set your base coverage high-pass filter value\n",
    "min_bases_cov = 1000\n",
    "\n",
    "# Set the resolution for the plots\n",
    "mpl.rcParams['figure.dpi'] = 600 # the highest the resolution, the slowest the plotting\n",
    "mpl.rcParams[\"figure.figsize\"] = [25,7]\n",
    "#plt.rcParams[\"figure.autolayout\"] = True\n",
    "\n",
    "# Depending on the study you select, you'll get a series of samples. You can also create new studies using this dictionary.\n",
    "# Here's an example.\n",
    "\n",
    "# Your studies under the shape of a dataframe\n",
    "df_studies = data_wrangler.load_studies( f\"{path_to_data}/samples.csv\")\n",
    "temp = df_studies.to_dict(orient='index')\n",
    "\n",
    "# Your studies under the shape of a dictionary of Study\n",
    "studies = {study: Study().from_dict(temp[study])  for study in temp}\n",
    "print(f\"Here are the available studies: {studies.keys()}\")\n",
    "\n",
    "# Load the study that you want\n",
    "study = studies[study_name]\n",
    "\n",
    "studies.pop('TO_DO_2')\n"
   ]
  },
  {
   "cell_type": "markdown",
   "metadata": {},
   "source": [
    "### Step 1.2: Process new pickle files and push them to Firebase\n",
    "- Select which samples you want to push to Firebase.\n",
    "To plot automatically arrays of samples, see [tutorial](tutorial.ipynb), section 3.2.\n",
    "- Process samples and push them to Firebase."
   ]
  },
  {
   "cell_type": "code",
   "execution_count": 3,
   "metadata": {},
   "outputs": [],
   "source": [
    "## Pickle files to process and to push to Firebase\n",
    "pickles_list = []# study.samples # Can be samples if you want to process the samples from your study\n",
    "\n",
    "pickles = {pickle:  f\"{path_to_data}/MULTIPLEXED/{pickle}/mutation_histos.p\" for pickle in pickles_list}\n",
    "\n",
    "# Indicate the location of your RNA structure file\n",
    "RNAstructureFile =  f\"{path_to_data}/RNAstructureFileWithProb.csv\"\n",
    "\n",
    "# Default location for your local database (JSON file)\n",
    "json_file_path =  f\"{path_to_data}/saved_db/{folder}\"\n",
    "\n",
    "# If the user gives some new pickles files, push them to the firebase, then pull the entire firebase\n",
    "if len(pickles):\n",
    "    data_wrangler.push_samples_to_firebase(pickles = pickles,\n",
    "                        RNAstructureFile = RNAstructureFile,\n",
    "                        firebase_credentials = firebase_credentials,\n",
    "                        min_bases_cov = min_bases_cov, \n",
    "                        folder=folder)"
   ]
  },
  {
   "cell_type": "markdown",
   "metadata": {},
   "source": [
    "### Step 1.3: Pull the data from the Firebase and clean/reformat it.\n",
    "`df` is used for the analysis. Each of the construct have above 1000 reads for each sample in at least one study.     \n",
    "`df_full` is used for quality quality analysis. It has all construct above 1000 valid reads for each sample individually."
   ]
  },
  {
   "cell_type": "code",
   "execution_count": 4,
   "metadata": {},
   "outputs": [
    {
     "name": "stdout",
     "output_type": "stream",
     "text": [
      "Load from dict-type JSON file\n",
      "Done!\n"
     ]
    }
   ],
   "source": [
    "#df_database = database.load(study=study, folder=folder)\n",
    "#utils.make_path(json_file_path)\n",
    "#data_wrangler.json_dump(json_file=json_file_path+'/db.json', df=df_database)\n",
    "df_database = data_wrangler.json_load(json_file_path+'/db.json')"
   ]
  },
  {
   "cell_type": "code",
   "execution_count": 5,
   "metadata": {},
   "outputs": [
    {
     "name": "stderr",
     "output_type": "stream",
     "text": [
      "/Users/ymdt/src/dreem_nap/venv-nap/lib/python3.10/site-packages/dreem_nap/data_wrangler.py:187: SettingWithCopyWarning: \n",
      "A value is trying to be set on a copy of a slice from a DataFrame\n",
      "\n",
      "See the caveats in the documentation: https://pandas.pydata.org/pandas-docs/stable/user_guide/indexing.html#returning-a-view-versus-a-copy\n",
      "  df_full['samples_covered'].loc[construct[1].index] = construct[1]['full_sequence'].count()\n",
      "/Users/ymdt/src/dreem_nap/venv-nap/lib/python3.10/site-packages/dreem_nap/data_wrangler.py:203: UserWarning: Boolean Series key will be reindexed to match DataFrame index.\n",
      "  df_loc = df_loc[df_loc.groupby('construct').count()['samp'] == len(studies[study].samples)]\n",
      "/Users/ymdt/src/dreem_nap/venv-nap/lib/python3.10/site-packages/dreem_nap/data_wrangler.py:203: UserWarning: Boolean Series key will be reindexed to match DataFrame index.\n",
      "  df_loc = df_loc[df_loc.groupby('construct').count()['samp'] == len(studies[study].samples)]\n",
      "/Users/ymdt/src/dreem_nap/venv-nap/lib/python3.10/site-packages/dreem_nap/data_wrangler.py:203: UserWarning: Boolean Series key will be reindexed to match DataFrame index.\n",
      "  df_loc = df_loc[df_loc.groupby('construct').count()['samp'] == len(studies[study].samples)]\n",
      "/Users/ymdt/src/dreem_nap/venv-nap/lib/python3.10/site-packages/dreem_nap/data_wrangler.py:203: UserWarning: Boolean Series key will be reindexed to match DataFrame index.\n",
      "  df_loc = df_loc[df_loc.groupby('construct').count()['samp'] == len(studies[study].samples)]\n",
      "/Users/ymdt/src/dreem_nap/venv-nap/lib/python3.10/site-packages/dreem_nap/data_wrangler.py:203: UserWarning: Boolean Series key will be reindexed to match DataFrame index.\n",
      "  df_loc = df_loc[df_loc.groupby('construct').count()['samp'] == len(studies[study].samples)]\n",
      "/Users/ymdt/src/dreem_nap/venv-nap/lib/python3.10/site-packages/dreem_nap/data_wrangler.py:203: UserWarning: Boolean Series key will be reindexed to match DataFrame index.\n",
      "  df_loc = df_loc[df_loc.groupby('construct').count()['samp'] == len(studies[study].samples)]\n",
      "/Users/ymdt/src/dreem_nap/venv-nap/lib/python3.10/site-packages/dreem_nap/data_wrangler.py:203: UserWarning: Boolean Series key will be reindexed to match DataFrame index.\n",
      "  df_loc = df_loc[df_loc.groupby('construct').count()['samp'] == len(studies[study].samples)]\n",
      "/Users/ymdt/src/dreem_nap/venv-nap/lib/python3.10/site-packages/dreem_nap/data_wrangler.py:203: UserWarning: Boolean Series key will be reindexed to match DataFrame index.\n",
      "  df_loc = df_loc[df_loc.groupby('construct').count()['samp'] == len(studies[study].samples)]\n",
      "/Users/ymdt/src/dreem_nap/venv-nap/lib/python3.10/site-packages/dreem_nap/data_wrangler.py:203: UserWarning: Boolean Series key will be reindexed to match DataFrame index.\n",
      "  df_loc = df_loc[df_loc.groupby('construct').count()['samp'] == len(studies[study].samples)]\n",
      "/Users/ymdt/src/dreem_nap/venv-nap/lib/python3.10/site-packages/dreem_nap/data_wrangler.py:203: UserWarning: Boolean Series key will be reindexed to match DataFrame index.\n",
      "  df_loc = df_loc[df_loc.groupby('construct').count()['samp'] == len(studies[study].samples)]\n",
      "/Users/ymdt/src/dreem_nap/venv-nap/lib/python3.10/site-packages/dreem_nap/data_wrangler.py:203: UserWarning: Boolean Series key will be reindexed to match DataFrame index.\n",
      "  df_loc = df_loc[df_loc.groupby('construct').count()['samp'] == len(studies[study].samples)]\n",
      "/Users/ymdt/src/dreem_nap/venv-nap/lib/python3.10/site-packages/dreem_nap/data_wrangler.py:203: UserWarning: Boolean Series key will be reindexed to match DataFrame index.\n",
      "  df_loc = df_loc[df_loc.groupby('construct').count()['samp'] == len(studies[study].samples)]\n",
      "/Users/ymdt/src/dreem_nap/venv-nap/lib/python3.10/site-packages/dreem_nap/data_wrangler.py:203: UserWarning: Boolean Series key will be reindexed to match DataFrame index.\n",
      "  df_loc = df_loc[df_loc.groupby('construct').count()['samp'] == len(studies[study].samples)]\n",
      "/Users/ymdt/src/dreem_nap/venv-nap/lib/python3.10/site-packages/dreem_nap/data_wrangler.py:203: UserWarning: Boolean Series key will be reindexed to match DataFrame index.\n",
      "  df_loc = df_loc[df_loc.groupby('construct').count()['samp'] == len(studies[study].samples)]\n",
      "/Users/ymdt/src/dreem_nap/venv-nap/lib/python3.10/site-packages/dreem_nap/data_wrangler.py:203: UserWarning: Boolean Series key will be reindexed to match DataFrame index.\n",
      "  df_loc = df_loc[df_loc.groupby('construct').count()['samp'] == len(studies[study].samples)]\n"
     ]
    },
    {
     "name": "stdout",
     "output_type": "stream",
     "text": [
      "69 constructs were dropped because deltaG was 'void'\n",
      "152 constructs have more than 1000 reads for each base of their ROI on each sample\n"
     ]
    }
   ],
   "source": [
    "# Clean and reformat the dataset\n",
    "df, df_void, df_full = data_wrangler.filter_constructs_study_wise(df_database=df_database,\n",
    "                                                studies=studies)\n",
    "\n",
    "                                                \n",
    "print(f\"{df.groupby('construct')['samples_covered'].count().count()} constructs have more than {min_bases_cov} reads for each base of their ROI on each sample\")"
   ]
  },
  {
   "cell_type": "markdown",
   "metadata": {},
   "source": [
    "# Step 2: Data quality analysis\n",
    "\n",
    "It's always hard to realize that you were analysing noise. Here, we'll get through a series a plot to check the data sanity."
   ]
  },
  {
   "cell_type": "markdown",
   "metadata": {},
   "source": [
    "### Get the list of samples and constructs:"
   ]
  },
  {
   "cell_type": "code",
   "execution_count": null,
   "metadata": {},
   "outputs": [],
   "source": [
    "print(f\"samples are: {study.samples}\")\n",
    "print(f\"constructs are: {df.construct.unique()}\")\n"
   ]
  },
  {
   "cell_type": "markdown",
   "metadata": {},
   "source": [
    "### How many constructs per sample?"
   ]
  },
  {
   "cell_type": "code",
   "execution_count": null,
   "metadata": {},
   "outputs": [],
   "source": [
    "sns.histplot(df_database.groupby('samp').count()['construct'])\n",
    "plt.ylabel('Count of samples')\n",
    "plt.xlabel('# of valid constructs')"
   ]
  },
  {
   "cell_type": "markdown",
   "metadata": {},
   "source": [
    "### Explore the data\n",
    "`data_manip.get_roi_info()` gives information about the Region of Interest (ROI) of a (sample, construct) pair."
   ]
  },
  {
   "cell_type": "code",
   "execution_count": null,
   "metadata": {},
   "outputs": [],
   "source": [
    "samp, construct = data_manip.rand_sample_construct(df)\n",
    "data_manip.get_roi_info(df=df,\n",
    "                    samp=samp,\n",
    "                    construct= construct,\n",
    "                    bases_type= ['A', 'C'], #bases you want \n",
    "                    structure='both', # which structure prediction, 'full' or 'roi' \n",
    "                    overlay=0, # extend/shrink the roi, default is 0\n",
    "                    roi_range = [87, 90, 92, 93])\n",
    "                    #.xs((True, '0'),level=('paired','roi_structure_comparison'))    #additional filters"
   ]
  },
  {
   "cell_type": "code",
   "execution_count": null,
   "metadata": {},
   "outputs": [],
   "source": [
    "construct = 8430\n",
    "for samp in studies['180 mM DMS'].samples:\n",
    "    wrapper.about_a_sample_construct(df, samp, construct, f\"{path_to_data}/figs/date/about a construct/{construct}/{samp}\")"
   ]
  },
  {
   "cell_type": "markdown",
   "metadata": {},
   "source": [
    "### (sample, construct)-specific base coverage plot"
   ]
  },
  {
   "cell_type": "code",
   "execution_count": null,
   "metadata": {},
   "outputs": [],
   "source": [
    "samp, construct = data_manip.rand_sample_construct(df)\n",
    "plot.base_coverage(df, samp, construct)"
   ]
  },
  {
   "cell_type": "markdown",
   "metadata": {},
   "source": [
    "### Plot the base coverage per construct distribution"
   ]
  },
  {
   "cell_type": "code",
   "execution_count": null,
   "metadata": {},
   "outputs": [],
   "source": [
    "plot.base_coverage_ROI_for_all_constructs(df=df_full)"
   ]
  },
  {
   "cell_type": "markdown",
   "metadata": {},
   "source": [
    "### Sanity-check construct-wise base coverage plots\n",
    "Plot randomly picked sequences to check the quality of the data."
   ]
  },
  {
   "cell_type": "code",
   "execution_count": null,
   "metadata": {},
   "outputs": [],
   "source": [
    "plot.random_9_base_coverage(df=df)"
   ]
  },
  {
   "cell_type": "markdown",
   "metadata": {},
   "source": [
    "### Heatmap of the roi part coverage"
   ]
  },
  {
   "cell_type": "code",
   "execution_count": null,
   "metadata": {},
   "outputs": [],
   "source": [
    "plot.heatmap(df = df, \n",
    "             column=\"cov_bases_roi\")"
   ]
  },
  {
   "cell_type": "markdown",
   "metadata": {},
   "source": [
    "### Heatmap of the second half coverage"
   ]
  },
  {
   "cell_type": "code",
   "execution_count": null,
   "metadata": {},
   "outputs": [],
   "source": [
    "plot.heatmap(df = df, \n",
    "                column=\"cov_bases_sec_half\")"
   ]
  },
  {
   "cell_type": "markdown",
   "metadata": {},
   "source": [
    "# Step 3: Data analysis\n",
    "In this part, we know that we read good data, and we want to visualize it through different plots.\n",
    "\n",
    "### Analysis parameters\n",
    "\n",
    "Define a limited amount of constructs if that's useful to you"
   ]
  },
  {
   "cell_type": "code",
   "execution_count": null,
   "metadata": {},
   "outputs": [],
   "source": [
    "# Display the plots on this notebook? Not recommended if numerous plots\n",
    "show_plots = True\n",
    "\n",
    "# Constructs used\n",
    "a_few_constructs = df.construct.unique()[:3].tolist()\n",
    "first_construct = df.construct.unique()[0].tolist()\n",
    "constructs_per_name = {\n",
    "    'all_construct': df.construct.unique().tolist(),\n",
    "    str(a_few_constructs) : a_few_constructs,\n",
    "    str(first_construct): [first_construct]\n",
    "}\n",
    "\n",
    "# Select constructs here\n",
    "constructs_name = str(a_few_constructs)\n",
    "\n",
    "# Define what you will analyse\n",
    "constructs = constructs_per_name[constructs_name]"
   ]
  },
  {
   "cell_type": "markdown",
   "metadata": {},
   "source": [
    "### Histogram of mutation (sample-construct)\n",
    "\n",
    "`plot.mut_histogam(df, sample, construct, plot_type, index, normalize)` plots the mutation rate base-wise for a given construct of a given sample as a barplot. \n",
    "Arguments:\n",
    "- `plot_type` :\n",
    "    - `'sequence'` : each bar is colored w.r.t to the base of the original sequence.\n",
    "    - `'partition'` : each bar shows the partition of into which bases this base mutates.\n",
    "- `index`:\n",
    "    - `'index'`: each base is identified with its position number\n",
    "    - `'base'`: each base is identified with its type (A, C, G, T)"
   ]
  },
  {
   "cell_type": "code",
   "execution_count": null,
   "metadata": {},
   "outputs": [],
   "source": [
    "constructs = constructs # Define this beforehand\n",
    "\n",
    "for construct in constructs:\n",
    "    for samp in study.samples:\n",
    "        plot.mut_histogram(df=df,\n",
    "                           samp=samp,\n",
    "                           construct=construct,\n",
    "                           plot_type='index') # Sequence (show the base and their index) or partition (show what the base mutates to)\n",
    "        utils.save_fig(path=f\"data/figs/date/{study.name}/mut_per_base/sequence/{construct}/\", \n",
    "                    title=f\"base_per_base_sequence_{samp}_{construct}\")\n",
    "        plt.close(not show_plots)"
   ]
  },
  {
   "cell_type": "markdown",
   "metadata": {},
   "source": [
    "### DeltaG plots\n",
    "For the entire sample"
   ]
  },
  {
   "cell_type": "code",
   "execution_count": null,
   "metadata": {},
   "outputs": [],
   "source": [
    "for samp in study.samples:\n",
    "    plot.deltaG(df=df, samp=samp)\n",
    "\n",
    "    utils.save_fig(path=f\"data/figs/date/{study}/deltaG/\", \n",
    "             title=f\"deltaG_{samp}\")\n",
    "\n",
    "    plt.close(not show_plots)"
   ]
  },
  {
   "cell_type": "markdown",
   "metadata": {},
   "source": [
    "For specific bases"
   ]
  },
  {
   "cell_type": "code",
   "execution_count": null,
   "metadata": {},
   "outputs": [],
   "source": [
    "#deltaG_basewise(df, 'E8', [87, 90, 92, 93], 'MS2', 'unpaired')\n",
    "#deltaG_basewise(df, 'E8', [87, 90, 92, 93], 'MS2', 'paired')\n",
    "\n",
    "plot.deltaG_basewise(df, 'E8', list(range(0,150)), full_seq_pairing= 'paired')#, 'MS2')\n",
    "\n",
    "\n",
    "plot.deltaG(df=df, samp='E8')\n",
    "\n",
    "\n"
   ]
  },
  {
   "cell_type": "code",
   "execution_count": null,
   "metadata": {},
   "outputs": [],
   "source": []
  },
  {
   "cell_type": "markdown",
   "metadata": {},
   "source": [
    "### Samples correlation\n",
    "Only plot the correlation construct-by-construct"
   ]
  },
  {
   "cell_type": "code",
   "execution_count": null,
   "metadata": {},
   "outputs": [],
   "source": [
    "for construct in [constructs[0]]:\n",
    "        df_global_corr = plot.correlation_n_samples(df, study, [construct])\n",
    "        plt.title(f\"Study: {study.name}\")\n",
    "        utils.save_fig(path=f\"data/figs/date/correlation/{study.name}\", \n",
    "                      title=f\"correlation_{study.name}_{construct}\")\n",
    "        plt.close(not show_plots)\n",
    "        print(construct, end=' ')"
   ]
  },
  {
   "cell_type": "markdown",
   "metadata": {},
   "source": [
    "### Heatmap of the R value + heatmap of the slope for the previous correlation dataset"
   ]
  },
  {
   "cell_type": "code",
   "execution_count": null,
   "metadata": {},
   "outputs": [],
   "source": [
    "for plt_type in ['r_value', 'slope']:\n",
    "    pivot = df_global_corr.pivot(\"sample_0\",\"sample_1\", plt_type).astype(float)\n",
    "    f, ax = plt.subplots(figsize=(28, 10))\n",
    "    sns.heatmap(pivot, annot=False, linewidths=0, ax=ax)#, norm=LinNorm())\n",
    "    plt.title(plt_type)\n",
    "    utils.save_fig(path=f\"data/figs/date/global_correlation/{study.name}\", \n",
    "                    title=f\"correlation_{plt_type}_{study.name}_all_constructs\")\n",
    "    plt.close(not show_plots)"
   ]
  },
  {
   "cell_type": "markdown",
   "metadata": {},
   "source": [
    "### Plot the correlation + heatmap of the R value + heatmap of the slope construct by construct"
   ]
  },
  {
   "cell_type": "code",
   "execution_count": null,
   "metadata": {},
   "outputs": [],
   "source": [
    "show_plots = False\n",
    "for _, study in studies:\n",
    "    samples = study.samples\n",
    "    for construct in df.construct.unique():\n",
    "        construct_name = construct\n",
    "        df_global_corr = plot.correlation_n_samples(df, study, construct)\n",
    "        plt.title(f\"Correlation between samples for study: {study.name}, constructs: {construct_name}\")\n",
    "        utils.save_fig(path=f\"data/figs/date/correlation/{study.name}/{construct_name}\", \n",
    "                        title=f\"correlation_fit_{study.name}_{construct_name}\")\n",
    "        plt.close(not show_plots)\n",
    "\n",
    "        for plt_type in ['r_value', 'slope']:\n",
    "            pivot = df_global_corr.pivot(\"sample_0\",\"sample_1\", plt_type).astype(float)\n",
    "            f, ax = plt.subplots(figsize=(28, 10))\n",
    "            sns.heatmap(pivot, annot=False, linewidths=0, ax=ax)#, norm=LinNorm())\n",
    "            plt.title(f\"{plt_type} of the correlation between samples for study: {study.name}, construct: {construct_name}\")\n",
    "            utils.save_fig(path=f\"data/figs/date/correlation/{study.name}/{construct_name}\", \n",
    "                            title=f\"correlation_{plt_type}_{study.name}_{construct_name}\")\n",
    "            plt.close(not show_plots)"
   ]
  },
  {
   "cell_type": "markdown",
   "metadata": {},
   "source": [
    "### Plot the correlation + heatmap of the R value + heatmap of the slope for a bunch of constructs altogether"
   ]
  },
  {
   "cell_type": "code",
   "execution_count": null,
   "metadata": {},
   "outputs": [],
   "source": [
    "heat_map = True\n",
    "\n",
    "constructs = constructs # this has to be defined somewhere\n",
    "\n",
    "for _, study in studies.iterrows():\n",
    "    df_global_corr = plot.correlation_n_samples(df, study, constructs)\n",
    "    utils.save_fig(path=f\"data/figs/date/global_correlation/{study.name}\", \n",
    "                    title=f\"correlation_{study.name}_all_constructs\")\n",
    "    plt.close(not show_plots)\n",
    "\n",
    "    if heat_map:\n",
    "        for plt_type in ['r_value', 'slope']:\n",
    "            pivot = df_global_corr.pivot(\"sample_0\",\"sample_1\", plt_type).astype(float)\n",
    "            f, ax = plt.subplots(figsize=(28, 10))\n",
    "            sns.heatmap(pivot, annot=False, linewidths=0, ax=ax, norm=LogNorm())\n",
    "            utils.save_fig(path=f\"data/figs/date/global_correlation/{study.name}\", \n",
    "                            title=f\"correlation_{plt_type}_{study.name}_all_constructs\")\n",
    "            plt.close(not show_plots)"
   ]
  },
  {
   "cell_type": "markdown",
   "metadata": {},
   "source": [
    "### Temperature vs reactivity plots"
   ]
  },
  {
   "cell_type": "code",
   "execution_count": null,
   "metadata": {},
   "outputs": [],
   "source": [
    "plot.study_sample(df, study, scale_x='log',structure='full', overlay=0, figsize=(16,8))\n",
    "utils.save_fig(path=f\"{path_to_data}/figs/date/study_behavior\", \n",
    "            title=f\"{study.name}.png\")\n",
    "#plt.close(not show_plots)"
   ]
  },
  {
   "cell_type": "code",
   "execution_count": null,
   "metadata": {},
   "outputs": [],
   "source": [
    "\n",
    "for _, study in studies.iterrows():\n",
    "    study =  Study().from_dict(study.to_dict())\n",
    "    study.models = ['lambda x,a: np.log(x)+a']\n",
    "    plot.study_sample(df, study, scale_x='log',structure='full', overlay=5, figsize=(16,8))\n",
    "    utils.save_fig(path=f\"{path_to_data}/figs/date/study_behavior\", \n",
    "                title=f\"{study.name}.png\")\n",
    "    plt.close()"
   ]
  },
  {
   "cell_type": "markdown",
   "metadata": {},
   "source": [
    "### Base-wise mutation along a study"
   ]
  },
  {
   "cell_type": "code",
   "execution_count": null,
   "metadata": {},
   "outputs": [],
   "source": [
    "for construct in [df.construct.unique()[0]]:\n",
    "    for stu in studies:\n",
    "        study = studies[stu]\n",
    "        if study.name != 'temperature':\n",
    "            continue\n",
    "        plot.study_base(df=df,\n",
    "                study=study,\n",
    "                construct=9572, \n",
    "                scale_x='log', # can be log or lin\n",
    "                bases_type=['A','C'],  # bsaes you want in A, C, G, T\n",
    "                structure='full', # sequence for structure prediction. full or roi. \n",
    "                #overlay = 10,  # expand/shrink the roi. Can't expand roi if structure = 'roi'\n",
    "                roi_range=list(range(40,120))) # select your favorite bases. Can't expand roi if structure = 'roi' \n",
    "                \n",
    "        utils.save_fig(path= f\"{path_to_data}/figs/date/Base-wise mutation along a study/{study.name}\", \n",
    "                       title=f\"{construct}_{study.name}.png\")\n",
    "      #  plt.close()"
   ]
  },
  {
   "cell_type": "markdown",
   "metadata": {},
   "source": [
    "### Save columns to a csv file"
   ]
  },
  {
   "cell_type": "code",
   "execution_count": null,
   "metadata": {},
   "outputs": [],
   "source": [
    "data_manip.columns_to_csv(df=df,\n",
    "                   samples=samples,\n",
    "                   columns=['sample', 'construct','full_sequence','roi_sequence','mut_bases','info_bases'],\n",
    "                   title=f\"seq_and_reactivity_{study}\",\n",
    "                   path='data/figs/date/{study}')"
   ]
  },
  {
   "cell_type": "markdown",
   "metadata": {},
   "source": [
    "### Save construct vs deltaG "
   ]
  },
  {
   "cell_type": "code",
   "execution_count": null,
   "metadata": {},
   "outputs": [],
   "source": [
    "data_manip.deltaG_vs_construct_to_csv(df=df,    \n",
    "                                 title=f\"deltaG_vs_construct.csv\", \n",
    "                                 path = f\"data/figs/date/{study}\", \n",
    "                                 samples=samples)"
   ]
  },
  {
   "cell_type": "code",
   "execution_count": 7,
   "metadata": {},
   "outputs": [
    {
     "data": {
      "text/plain": [
       "Index(['samp', 'construct', 'cov_bases', 'cov_bases_roi', 'cov_bases_sec_half',\n",
       "       'data_type', 'del_bases', 'end', 'flank', 'full_deltaG',\n",
       "       'full_sequence', 'full_structure', 'info_bases', 'ins_bases',\n",
       "       'min_bases_cov', 'mod_bases_A', 'mod_bases_C', 'mod_bases_G',\n",
       "       'mod_bases_T', 'mut_bases', 'num_aligned', 'num_of_mutations',\n",
       "       'num_reads', 'roi_deltaG', 'roi_end_index', 'roi_sequence',\n",
       "       'roi_start_index', 'roi_structure_comparison', 'skips_low_mapq',\n",
       "       'skips_short_read', 'skips_too_many_muts', 'start', 'sub-library'],\n",
       "      dtype='object')"
      ]
     },
     "execution_count": 7,
     "metadata": {},
     "output_type": "execute_result"
    }
   ],
   "source": [
    "df_database.columns"
   ]
  },
  {
   "cell_type": "code",
   "execution_count": 7,
   "metadata": {},
   "outputs": [
    {
     "data": {
      "text/plain": [
       "Index(['construct', 'samp', 'base_pairing_prob', 'cov_bases', 'cov_bases_roi',\n",
       "       'cov_bases_sec_half', 'data_type', 'del_bases', 'end', 'flank',\n",
       "       'full_deltaG', 'full_sequence', 'full_structure', 'info_bases',\n",
       "       'ins_bases', 'min_bases_cov', 'mod_bases_A', 'mod_bases_C',\n",
       "       'mod_bases_G', 'mod_bases_T', 'mut_bases', 'num_aligned',\n",
       "       'num_of_mutations', 'num_reads', 'roi_deltaG', 'roi_end_index',\n",
       "       'roi_sequence', 'roi_start_index', 'roi_structure_comparison',\n",
       "       'skips_low_mapq', 'skips_short_read', 'skips_too_many_muts', 'start',\n",
       "       'sub-library', 'samples_covered'],\n",
       "      dtype='object')"
      ]
     },
     "execution_count": 7,
     "metadata": {},
     "output_type": "execute_result"
    }
   ],
   "source": [
    "df.columns"
   ]
  },
  {
   "cell_type": "markdown",
   "metadata": {},
   "source": [
    "### Sliding window: base-pairing probability vs observed reactivities"
   ]
  },
  {
   "cell_type": "code",
   "execution_count": 50,
   "metadata": {},
   "outputs": [],
   "source": [
    "\n",
    "\n",
    "def mut_rate_vs_base_non_pairing_prob(df:pd.DataFrame, samp:str, construct:int, plot_type=['mut','prob','corr'], bases_type=['A','C','G','T'], roi_range = list(range(0,170))):\n",
    "    \"\"\"Plot a mutation rate histogram, a base non-pairing probability histogram, and a scatter plot fitting the mutation rate vs the base non-pairing. \n",
    "       The base non-pairing values are 1 - base-pairing values.\n",
    "\n",
    "    Args:\n",
    "        df (pd.DataFrame): your dataset\n",
    "        samp (str): your sample of interest\n",
    "        construct (int): your construct of interest.\n",
    "        plot_type (list[str]): which plots that you want. Default is ['mut','prob','corr'] (all plots). \\\n",
    "        'mut' is for the mutation histogram. 'prob' is for the non-pairing probability histogram. 'corr' is for the scatter plot correlating \\\n",
    "        the mutation rate and the non-pairing probability. 'merge' gives all plots together.\n",
    "        bases_type (list[str]): which bases that you want to take into account. Default is ['A','C','G','T']\n",
    "        roi_range (list[int]): 0-index of the bases that you want to take into account. Default is [0, 1, ..., 168, 169].\n",
    "    \"\"\"\n",
    "\n",
    "    COLOR_PER_BASE = {'A':'r','C':'b','G':'y','T':'g'}\n",
    "\n",
    "    def split_bases(df, column):\n",
    "        \"\"\"Split a sample-construct dataframe into 4 columns, one per base. The columns contain the value of the column 'column' entered as an input.\n",
    "        \"\"\"\n",
    "\n",
    "        df = pd.DataFrame(df[column])\n",
    "        df_hist = pd.DataFrame()\n",
    "        df_hist.index = df.reset_index()['index']\n",
    "\n",
    "        for base in bases_type:\n",
    "            df_hist[base] = pd.Series(dtype=float)\n",
    "            df_hist[base] = df.loc[base]\n",
    "\n",
    "        return df_hist\n",
    "\n",
    "    def plot_histogram(df, title, ax = None):\n",
    "        \"\"\"Plot histogram using a base-wise splitted sample-construct dataframe.\n",
    "        \"\"\"\n",
    "\n",
    "        df.plot.bar(stacked=True, figsize=(35,7), color= [COLOR_PER_BASE[base] for base in bases_type], rot=90, ax=ax)\n",
    "        plt.title(f\"{title}, sample {samp}, construct {construct}\")\n",
    "    \n",
    "    def plot_scatter(df):\n",
    "        \"\"\"Plot scatter plot using a base-wise splitted sample-construct dataframe.\n",
    "        \"\"\"\n",
    "        \n",
    "        from sklearn.linear_model import LinearRegression\n",
    "\n",
    "        x, y = df['base non-pairing probability'], df['mut_rate']\n",
    "        x, y = np.array(x).reshape(-1,1), np.array(y).reshape(-1,1)\n",
    "\n",
    "        for base, color in zip(bases_type, [COLOR_PER_BASE[base] for base in bases_type]):\n",
    "            px, py = split_bases(df, 'base non-pairing probability'), split_bases(df, 'mut_rate')\n",
    "            plt.plot(px[base], py[base],color+'.')\n",
    "        plt.legend(['A','C','G','T'])\n",
    "        plt.xlabel('Base non-pairing probability')\n",
    "        plt.ylabel('Mutation rate')\n",
    "\n",
    "        model = LinearRegression().fit(x,y)\n",
    "        plt.plot(model.predict(np.array([0,1]).reshape(-1,1)))\n",
    "        plt.title(f\"Base non-pairing prob vs mut rate \\n \\\n",
    "    sample {samp}, construct {construct} \\n \" + \\\n",
    "                    'R2= {:.5}, y = {:.5} x + {:.5}'.format(model.score(x, y), float(model.coef_[0]),model.intercept_[0])) \n",
    "\n",
    "\n",
    "    # Data wrangling\n",
    "    df_sc = data_manip.get_roi_info(df, samp, construct, bases_type=bases_type, roi_range=roi_range)\\\n",
    "                                    .reset_index()\\\n",
    "                                    .drop(columns=['paired','roi_structure_comparison','roi_deltaG'])\\\n",
    "                                    .set_index(['base','index'])\n",
    "    df_sc['base non-pairing probability'] = 1 - df_sc['base_pairing_prob']\n",
    "\n",
    "    # Plots\n",
    "    if 'prob' in plot_type:\n",
    "        plot_histogram(split_bases(df_sc, 'base non-pairing probability'), 'Base non-pairing probability')\n",
    "    if 'mut' in plot_type:\n",
    "        plot_histogram(split_bases(df_sc, 'mut_rate'), 'Mutation rate')\n",
    "    if 'corr' in plot_type:\n",
    "        plot_scatter(df_sc)\n",
    "    \n",
    "    if 'merge' in plot_type:\n",
    "        plt.figure(figsize=(20,10))\n",
    "        plot_histogram(split_bases(df_sc, 'base non-pairing probability'), 'Base non-pairing probability', plt.subplot(2,1,1))\n",
    "        plot_histogram(split_bases(df_sc, 'mut_rate'), 'Mutation rate', plt.subplot(2,1,2))\n",
    "        plt.tight_layout()"
   ]
  },
  {
   "cell_type": "code",
   "execution_count": 52,
   "metadata": {},
   "outputs": [
    {
     "data": {
      "image/png": "[encoded data removed]",
      "text/plain": [
       "<Figure size 432x288 with 1 Axes>"
      ]
     },
     "metadata": {
      "needs_background": "light"
     },
     "output_type": "display_data"
    }
   ],
   "source": [
    "from statistics import LinearRegression\n",
    "from turtle import color\n",
    "from matplotlib.pyplot import xlim, xticks\n",
    "import pandas\n",
    "\n",
    "samp, construct = data_manip.rand_sample_construct(df)\n",
    "mut_rate_vs_base_non_pairing_prob(df, samp, construct, ['corr'], bases_type=['A','C'])\n"
   ]
  },
  {
   "cell_type": "code",
   "execution_count": 9,
   "metadata": {},
   "outputs": [
    {
     "name": "stdout",
     "output_type": "stream",
     "text": [
      "180 mM DMS\n",
      "B9 "
     ]
    },
    {
     "ename": "KeyboardInterrupt",
     "evalue": "",
     "output_type": "error",
     "traceback": [
      "\u001b[0;31m---------------------------------------------------------------------------\u001b[0m",
      "\u001b[0;31mKeyboardInterrupt\u001b[0m                         Traceback (most recent call last)",
      "\u001b[1;32m/Users/ymdt/src/dreem_nap/bin/Turner_overthrow.ipynb Cell 60\u001b[0m in \u001b[0;36m<cell line: 38>\u001b[0;34m()\u001b[0m\n\u001b[1;32m     <a href='vscode-notebook-cell:/Users/ymdt/src/dreem_nap/bin/Turner_overthrow.ipynb#ch0000060?line=40'>41</a>\u001b[0m \u001b[39mfor\u001b[39;00m samp \u001b[39min\u001b[39;00m study\u001b[39m.\u001b[39msamples:\n\u001b[1;32m     <a href='vscode-notebook-cell:/Users/ymdt/src/dreem_nap/bin/Turner_overthrow.ipynb#ch0000060?line=41'>42</a>\u001b[0m     \u001b[39mprint\u001b[39m(samp, end\u001b[39m=\u001b[39m\u001b[39m'\u001b[39m\u001b[39m \u001b[39m\u001b[39m'\u001b[39m)\n\u001b[0;32m---> <a href='vscode-notebook-cell:/Users/ymdt/src/dreem_nap/bin/Turner_overthrow.ipynb#ch0000060?line=42'>43</a>\u001b[0m     generate_plots(df, samp, name, bases_type, roi_range)\n",
      "\u001b[1;32m/Users/ymdt/src/dreem_nap/bin/Turner_overthrow.ipynb Cell 60\u001b[0m in \u001b[0;36mgenerate_plots\u001b[0;34m(df, samp, name, bases_type, roi_range)\u001b[0m\n\u001b[1;32m     <a href='vscode-notebook-cell:/Users/ymdt/src/dreem_nap/bin/Turner_overthrow.ipynb#ch0000060?line=17'>18</a>\u001b[0m \u001b[39mfor\u001b[39;00m plot_type \u001b[39min\u001b[39;00m [\u001b[39m'\u001b[39m\u001b[39mmut\u001b[39m\u001b[39m'\u001b[39m,\u001b[39m'\u001b[39m\u001b[39mprob\u001b[39m\u001b[39m'\u001b[39m,\u001b[39m'\u001b[39m\u001b[39mcorr\u001b[39m\u001b[39m'\u001b[39m,\u001b[39m'\u001b[39m\u001b[39mmerge\u001b[39m\u001b[39m'\u001b[39m]:\n\u001b[1;32m     <a href='vscode-notebook-cell:/Users/ymdt/src/dreem_nap/bin/Turner_overthrow.ipynb#ch0000060?line=18'>19</a>\u001b[0m     plot\u001b[39m.\u001b[39mmut_rate_vs_base_non_pairing_prob(df, samp\u001b[39m=\u001b[39msamp, construct\u001b[39m=\u001b[39mconstruct, plot_type\u001b[39m=\u001b[39m[plot_type], bases_type \u001b[39m=\u001b[39m [\u001b[39m'\u001b[39m\u001b[39mA\u001b[39m\u001b[39m'\u001b[39m,\u001b[39m'\u001b[39m\u001b[39mC\u001b[39m\u001b[39m'\u001b[39m])\n\u001b[0;32m---> <a href='vscode-notebook-cell:/Users/ymdt/src/dreem_nap/bin/Turner_overthrow.ipynb#ch0000060?line=19'>20</a>\u001b[0m     utils\u001b[39m.\u001b[39;49msave_fig(path\u001b[39m=\u001b[39;49m\u001b[39mf\u001b[39;49m\u001b[39m\"\u001b[39;49m\u001b[39m{\u001b[39;49;00mlocal_folder\u001b[39m}\u001b[39;49;00m\u001b[39m\"\u001b[39;49m, \n\u001b[1;32m     <a href='vscode-notebook-cell:/Users/ymdt/src/dreem_nap/bin/Turner_overthrow.ipynb#ch0000060?line=20'>21</a>\u001b[0m                  title\u001b[39m=\u001b[39;49mtitles[plot_type])\n\u001b[1;32m     <a href='vscode-notebook-cell:/Users/ymdt/src/dreem_nap/bin/Turner_overthrow.ipynb#ch0000060?line=21'>22</a>\u001b[0m     plt\u001b[39m.\u001b[39mclose()    \n\u001b[1;32m     <a href='vscode-notebook-cell:/Users/ymdt/src/dreem_nap/bin/Turner_overthrow.ipynb#ch0000060?line=23'>24</a>\u001b[0m \u001b[39mdef\u001b[39;00m \u001b[39mgenerate_csv\u001b[39m(df, samp, construct, bases_type, roi_range):\n",
      "File \u001b[0;32m~/src/dreem_nap/venv-nap/lib/python3.10/site-packages/dreem_nap/utils.py:80\u001b[0m, in \u001b[0;36msave_fig\u001b[0;34m(path, title, facecolor)\u001b[0m\n\u001b[1;32m     71\u001b[0m \u001b[39m\"\"\"Save a matplotlib figure and create the directory if it doesn't exists.\u001b[39;00m\n\u001b[1;32m     72\u001b[0m \n\u001b[1;32m     73\u001b[0m \u001b[39mArgs:\u001b[39;00m\n\u001b[0;32m   (...)\u001b[0m\n\u001b[1;32m     76\u001b[0m \u001b[39m    facecolor: color of the background \u001b[39;00m\n\u001b[1;32m     77\u001b[0m \u001b[39m\"\"\"\u001b[39;00m\n\u001b[1;32m     79\u001b[0m full_path \u001b[39m=\u001b[39m make_path(path)\n\u001b[0;32m---> 80\u001b[0m plt\u001b[39m.\u001b[39;49msavefig(\u001b[39mf\u001b[39;49m\u001b[39m\"\u001b[39;49m\u001b[39m{\u001b[39;49;00mfull_path\u001b[39m}\u001b[39;49;00m\u001b[39m/\u001b[39;49m\u001b[39m{\u001b[39;49;00mtitle\u001b[39m}\u001b[39;49;00m\u001b[39m\"\u001b[39;49m, facecolor\u001b[39m=\u001b[39;49mfacecolor )\n",
      "File \u001b[0;32m~/src/dreem_nap/venv-nap/lib/python3.10/site-packages/matplotlib/pyplot.py:979\u001b[0m, in \u001b[0;36msavefig\u001b[0;34m(*args, **kwargs)\u001b[0m\n\u001b[1;32m    976\u001b[0m \u001b[39m@_copy_docstring_and_deprecators\u001b[39m(Figure\u001b[39m.\u001b[39msavefig)\n\u001b[1;32m    977\u001b[0m \u001b[39mdef\u001b[39;00m \u001b[39msavefig\u001b[39m(\u001b[39m*\u001b[39margs, \u001b[39m*\u001b[39m\u001b[39m*\u001b[39mkwargs):\n\u001b[1;32m    978\u001b[0m     fig \u001b[39m=\u001b[39m gcf()\n\u001b[0;32m--> 979\u001b[0m     res \u001b[39m=\u001b[39m fig\u001b[39m.\u001b[39;49msavefig(\u001b[39m*\u001b[39;49margs, \u001b[39m*\u001b[39;49m\u001b[39m*\u001b[39;49mkwargs)\n\u001b[1;32m    980\u001b[0m     fig\u001b[39m.\u001b[39mcanvas\u001b[39m.\u001b[39mdraw_idle()   \u001b[39m# need this if 'transparent=True' to reset colors\u001b[39;00m\n\u001b[1;32m    981\u001b[0m     \u001b[39mreturn\u001b[39;00m res\n",
      "File \u001b[0;32m~/src/dreem_nap/venv-nap/lib/python3.10/site-packages/matplotlib/figure.py:3046\u001b[0m, in \u001b[0;36mFigure.savefig\u001b[0;34m(self, fname, transparent, **kwargs)\u001b[0m\n\u001b[1;32m   3042\u001b[0m     \u001b[39mfor\u001b[39;00m ax \u001b[39min\u001b[39;00m \u001b[39mself\u001b[39m\u001b[39m.\u001b[39maxes:\n\u001b[1;32m   3043\u001b[0m         stack\u001b[39m.\u001b[39menter_context(\n\u001b[1;32m   3044\u001b[0m             ax\u001b[39m.\u001b[39mpatch\u001b[39m.\u001b[39m_cm_set(facecolor\u001b[39m=\u001b[39m\u001b[39m'\u001b[39m\u001b[39mnone\u001b[39m\u001b[39m'\u001b[39m, edgecolor\u001b[39m=\u001b[39m\u001b[39m'\u001b[39m\u001b[39mnone\u001b[39m\u001b[39m'\u001b[39m))\n\u001b[0;32m-> 3046\u001b[0m \u001b[39mself\u001b[39;49m\u001b[39m.\u001b[39;49mcanvas\u001b[39m.\u001b[39;49mprint_figure(fname, \u001b[39m*\u001b[39;49m\u001b[39m*\u001b[39;49mkwargs)\n",
      "File \u001b[0;32m~/src/dreem_nap/venv-nap/lib/python3.10/site-packages/matplotlib/backend_bases.py:2319\u001b[0m, in \u001b[0;36mFigureCanvasBase.print_figure\u001b[0;34m(self, filename, dpi, facecolor, edgecolor, orientation, format, bbox_inches, pad_inches, bbox_extra_artists, backend, **kwargs)\u001b[0m\n\u001b[1;32m   2315\u001b[0m \u001b[39mtry\u001b[39;00m:\n\u001b[1;32m   2316\u001b[0m     \u001b[39m# _get_renderer may change the figure dpi (as vector formats\u001b[39;00m\n\u001b[1;32m   2317\u001b[0m     \u001b[39m# force the figure dpi to 72), so we need to set it again here.\u001b[39;00m\n\u001b[1;32m   2318\u001b[0m     \u001b[39mwith\u001b[39;00m cbook\u001b[39m.\u001b[39m_setattr_cm(\u001b[39mself\u001b[39m\u001b[39m.\u001b[39mfigure, dpi\u001b[39m=\u001b[39mdpi):\n\u001b[0;32m-> 2319\u001b[0m         result \u001b[39m=\u001b[39m print_method(\n\u001b[1;32m   2320\u001b[0m             filename,\n\u001b[1;32m   2321\u001b[0m             facecolor\u001b[39m=\u001b[39;49mfacecolor,\n\u001b[1;32m   2322\u001b[0m             edgecolor\u001b[39m=\u001b[39;49medgecolor,\n\u001b[1;32m   2323\u001b[0m             orientation\u001b[39m=\u001b[39;49morientation,\n\u001b[1;32m   2324\u001b[0m             bbox_inches_restore\u001b[39m=\u001b[39;49m_bbox_inches_restore,\n\u001b[1;32m   2325\u001b[0m             \u001b[39m*\u001b[39;49m\u001b[39m*\u001b[39;49mkwargs)\n\u001b[1;32m   2326\u001b[0m \u001b[39mfinally\u001b[39;00m:\n\u001b[1;32m   2327\u001b[0m     \u001b[39mif\u001b[39;00m bbox_inches \u001b[39mand\u001b[39;00m restore_bbox:\n",
      "File \u001b[0;32m~/src/dreem_nap/venv-nap/lib/python3.10/site-packages/matplotlib/backend_bases.py:1648\u001b[0m, in \u001b[0;36m_check_savefig_extra_args.<locals>.wrapper\u001b[0;34m(*args, **kwargs)\u001b[0m\n\u001b[1;32m   1640\u001b[0m     _api\u001b[39m.\u001b[39mwarn_deprecated(\n\u001b[1;32m   1641\u001b[0m         \u001b[39m'\u001b[39m\u001b[39m3.3\u001b[39m\u001b[39m'\u001b[39m, name\u001b[39m=\u001b[39mname, removal\u001b[39m=\u001b[39m\u001b[39m'\u001b[39m\u001b[39m3.6\u001b[39m\u001b[39m'\u001b[39m,\n\u001b[1;32m   1642\u001b[0m         message\u001b[39m=\u001b[39m\u001b[39m'\u001b[39m\u001b[39m%(name)s\u001b[39;00m\u001b[39m() got unexpected keyword argument \u001b[39m\u001b[39m\"\u001b[39m\u001b[39m'\u001b[39m\n\u001b[1;32m   1643\u001b[0m                 \u001b[39m+\u001b[39m arg \u001b[39m+\u001b[39m \u001b[39m'\u001b[39m\u001b[39m\"\u001b[39m\u001b[39m which is no longer supported as of \u001b[39m\u001b[39m'\u001b[39m\n\u001b[1;32m   1644\u001b[0m                 \u001b[39m'\u001b[39m\u001b[39m%(since)s\u001b[39;00m\u001b[39m and will become an error \u001b[39m\u001b[39m'\u001b[39m\n\u001b[1;32m   1645\u001b[0m                 \u001b[39m'\u001b[39m\u001b[39m%(removal)s\u001b[39;00m\u001b[39m'\u001b[39m)\n\u001b[1;32m   1646\u001b[0m     kwargs\u001b[39m.\u001b[39mpop(arg)\n\u001b[0;32m-> 1648\u001b[0m \u001b[39mreturn\u001b[39;00m func(\u001b[39m*\u001b[39;49margs, \u001b[39m*\u001b[39;49m\u001b[39m*\u001b[39;49mkwargs)\n",
      "File \u001b[0;32m~/src/dreem_nap/venv-nap/lib/python3.10/site-packages/matplotlib/_api/deprecation.py:415\u001b[0m, in \u001b[0;36mdelete_parameter.<locals>.wrapper\u001b[0;34m(*inner_args, **inner_kwargs)\u001b[0m\n\u001b[1;32m    405\u001b[0m     deprecation_addendum \u001b[39m=\u001b[39m (\n\u001b[1;32m    406\u001b[0m         \u001b[39mf\u001b[39m\u001b[39m\"\u001b[39m\u001b[39mIf any parameter follows \u001b[39m\u001b[39m{\u001b[39;00mname\u001b[39m!r}\u001b[39;00m\u001b[39m, they should be passed as \u001b[39m\u001b[39m\"\u001b[39m\n\u001b[1;32m    407\u001b[0m         \u001b[39mf\u001b[39m\u001b[39m\"\u001b[39m\u001b[39mkeyword, not positionally.\u001b[39m\u001b[39m\"\u001b[39m)\n\u001b[1;32m    408\u001b[0m     warn_deprecated(\n\u001b[1;32m    409\u001b[0m         since,\n\u001b[1;32m    410\u001b[0m         name\u001b[39m=\u001b[39m\u001b[39mrepr\u001b[39m(name),\n\u001b[0;32m   (...)\u001b[0m\n\u001b[1;32m    413\u001b[0m                  \u001b[39melse\u001b[39;00m deprecation_addendum,\n\u001b[1;32m    414\u001b[0m         \u001b[39m*\u001b[39m\u001b[39m*\u001b[39mkwargs)\n\u001b[0;32m--> 415\u001b[0m \u001b[39mreturn\u001b[39;00m func(\u001b[39m*\u001b[39;49minner_args, \u001b[39m*\u001b[39;49m\u001b[39m*\u001b[39;49minner_kwargs)\n",
      "File \u001b[0;32m~/src/dreem_nap/venv-nap/lib/python3.10/site-packages/matplotlib/backends/backend_agg.py:541\u001b[0m, in \u001b[0;36mFigureCanvasAgg.print_png\u001b[0;34m(self, filename_or_obj, metadata, pil_kwargs, *args)\u001b[0m\n\u001b[1;32m    494\u001b[0m \u001b[39m\"\"\"\u001b[39;00m\n\u001b[1;32m    495\u001b[0m \u001b[39mWrite the figure to a PNG file.\u001b[39;00m\n\u001b[1;32m    496\u001b[0m \n\u001b[0;32m   (...)\u001b[0m\n\u001b[1;32m    538\u001b[0m \u001b[39m    *metadata*, including the default 'Software' key.\u001b[39;00m\n\u001b[1;32m    539\u001b[0m \u001b[39m\"\"\"\u001b[39;00m\n\u001b[1;32m    540\u001b[0m FigureCanvasAgg\u001b[39m.\u001b[39mdraw(\u001b[39mself\u001b[39m)\n\u001b[0;32m--> 541\u001b[0m mpl\u001b[39m.\u001b[39;49mimage\u001b[39m.\u001b[39;49mimsave(\n\u001b[1;32m    542\u001b[0m     filename_or_obj, \u001b[39mself\u001b[39;49m\u001b[39m.\u001b[39;49mbuffer_rgba(), \u001b[39mformat\u001b[39;49m\u001b[39m=\u001b[39;49m\u001b[39m\"\u001b[39;49m\u001b[39mpng\u001b[39;49m\u001b[39m\"\u001b[39;49m, origin\u001b[39m=\u001b[39;49m\u001b[39m\"\u001b[39;49m\u001b[39mupper\u001b[39;49m\u001b[39m\"\u001b[39;49m,\n\u001b[1;32m    543\u001b[0m     dpi\u001b[39m=\u001b[39;49m\u001b[39mself\u001b[39;49m\u001b[39m.\u001b[39;49mfigure\u001b[39m.\u001b[39;49mdpi, metadata\u001b[39m=\u001b[39;49mmetadata, pil_kwargs\u001b[39m=\u001b[39;49mpil_kwargs)\n",
      "File \u001b[0;32m~/src/dreem_nap/venv-nap/lib/python3.10/site-packages/matplotlib/image.py:1675\u001b[0m, in \u001b[0;36mimsave\u001b[0;34m(fname, arr, vmin, vmax, cmap, format, origin, dpi, metadata, pil_kwargs)\u001b[0m\n\u001b[1;32m   1673\u001b[0m pil_kwargs\u001b[39m.\u001b[39msetdefault(\u001b[39m\"\u001b[39m\u001b[39mformat\u001b[39m\u001b[39m\"\u001b[39m, \u001b[39mformat\u001b[39m)\n\u001b[1;32m   1674\u001b[0m pil_kwargs\u001b[39m.\u001b[39msetdefault(\u001b[39m\"\u001b[39m\u001b[39mdpi\u001b[39m\u001b[39m\"\u001b[39m, (dpi, dpi))\n\u001b[0;32m-> 1675\u001b[0m image\u001b[39m.\u001b[39;49msave(fname, \u001b[39m*\u001b[39;49m\u001b[39m*\u001b[39;49mpil_kwargs)\n",
      "File \u001b[0;32m~/src/dreem_nap/venv-nap/lib/python3.10/site-packages/PIL/Image.py:2320\u001b[0m, in \u001b[0;36mImage.save\u001b[0;34m(self, fp, format, **params)\u001b[0m\n\u001b[1;32m   2317\u001b[0m         fp \u001b[39m=\u001b[39m builtins\u001b[39m.\u001b[39mopen(filename, \u001b[39m\"\u001b[39m\u001b[39mw+b\u001b[39m\u001b[39m\"\u001b[39m)\n\u001b[1;32m   2319\u001b[0m \u001b[39mtry\u001b[39;00m:\n\u001b[0;32m-> 2320\u001b[0m     save_handler(\u001b[39mself\u001b[39;49m, fp, filename)\n\u001b[1;32m   2321\u001b[0m \u001b[39mexcept\u001b[39;00m \u001b[39mException\u001b[39;00m:\n\u001b[1;32m   2322\u001b[0m     \u001b[39mif\u001b[39;00m open_fp:\n",
      "File \u001b[0;32m~/src/dreem_nap/venv-nap/lib/python3.10/site-packages/PIL/PngImagePlugin.py:1374\u001b[0m, in \u001b[0;36m_save\u001b[0;34m(im, fp, filename, chunk, save_all)\u001b[0m\n\u001b[1;32m   1372\u001b[0m     _write_multiple_frames(im, fp, chunk, rawmode)\n\u001b[1;32m   1373\u001b[0m \u001b[39melse\u001b[39;00m:\n\u001b[0;32m-> 1374\u001b[0m     ImageFile\u001b[39m.\u001b[39;49m_save(im, _idat(fp, chunk), [(\u001b[39m\"\u001b[39;49m\u001b[39mzip\u001b[39;49m\u001b[39m\"\u001b[39;49m, (\u001b[39m0\u001b[39;49m, \u001b[39m0\u001b[39;49m) \u001b[39m+\u001b[39;49m im\u001b[39m.\u001b[39;49msize, \u001b[39m0\u001b[39;49m, rawmode)])\n\u001b[1;32m   1376\u001b[0m \u001b[39mif\u001b[39;00m info:\n\u001b[1;32m   1377\u001b[0m     \u001b[39mfor\u001b[39;00m info_chunk \u001b[39min\u001b[39;00m info\u001b[39m.\u001b[39mchunks:\n",
      "File \u001b[0;32m~/src/dreem_nap/venv-nap/lib/python3.10/site-packages/PIL/ImageFile.py:518\u001b[0m, in \u001b[0;36m_save\u001b[0;34m(im, fp, tile, bufsize)\u001b[0m\n\u001b[1;32m    515\u001b[0m \u001b[39mif\u001b[39;00m exc:\n\u001b[1;32m    516\u001b[0m     \u001b[39m# compress to Python file-compatible object\u001b[39;00m\n\u001b[1;32m    517\u001b[0m     \u001b[39mwhile\u001b[39;00m \u001b[39mTrue\u001b[39;00m:\n\u001b[0;32m--> 518\u001b[0m         l, s, d \u001b[39m=\u001b[39m encoder\u001b[39m.\u001b[39;49mencode(bufsize)\n\u001b[1;32m    519\u001b[0m         fp\u001b[39m.\u001b[39mwrite(d)\n\u001b[1;32m    520\u001b[0m         \u001b[39mif\u001b[39;00m s:\n",
      "\u001b[0;31mKeyboardInterrupt\u001b[0m: "
     ]
    }
   ],
   "source": [
    "std_tit = lambda title, samp, construct:  f\"{title}, sample {samp}, construct {construct}\"\n",
    "\n",
    "from threading import Thread\n",
    "bases_type = ['A','C']\n",
    "roi_range = list(range(0,170))\n",
    "\n",
    "constructs = [9572, 1495]\n",
    "\n",
    "plt.switch_backend('Agg') \n",
    "\n",
    "def generate_plots(df, samp, name, bases_type, roi_range):    \n",
    "    for construct in df[df.samp==samp].construct.unique():\n",
    "        if not construct in constructs:\n",
    "            continue\n",
    "        local_folder = f\"{path_to_data}/figs/date/Mutation rate vs base non-pairing probability/{name}/{samp}/{construct}\"\n",
    "\n",
    "        titles = {'mut': std_tit('Mutation rate', samp, construct),\n",
    "                'prob': std_tit('Base non-pairing probability', samp, construct),\n",
    "                'corr': std_tit('Correlation', samp, construct), \n",
    "                'merge':std_tit('Histograms prob and mut', samp, construct)}\n",
    "\n",
    "        for plot_type in ['mut','prob','corr','merge']:\n",
    "            plot.mut_rate_vs_base_non_pairing_prob(df, samp=samp, construct=construct, plot_type=[plot_type], bases_type = ['A','C'])\n",
    "            utils.save_fig(path=f\"{local_folder}\", \n",
    "                         title=titles[plot_type])\n",
    "            plt.close()    \n",
    "\n",
    "        def generate_csv(df, samp, construct, bases_type, roi_range):\n",
    "            df_sc = data_manip.get_roi_info(df, samp, construct, bases_type=bases_type, roi_range=roi_range)\\\n",
    "                                        .reset_index()\\\n",
    "                                        .drop(columns=['paired','roi_structure_comparison','roi_deltaG'])\\\n",
    "                                        .set_index(['base','index'])\n",
    "            df_sc['base non-pairing probability'] = 1 - df_sc['base_pairing_prob']   \n",
    "            df_sc = df_sc.drop(columns=['base_pairing_prob'])\n",
    "            df_sc.to_csv(f\"{utils.make_path(local_folder)}/data.csv\")\n",
    "\n",
    "        generate_csv(df, samp, construct, bases_type, roi_range)\n",
    "\n",
    "\n",
    "# RUN SCRIPT\n",
    "new_thread = []\n",
    "for name, study in studies.items():\n",
    "    print(name)\n",
    "    if name != 'all samples':\n",
    "        for samp in study.samples:\n",
    "            print(samp, end=' ')\n",
    "            generate_plots(df, samp, name, bases_type, roi_range)\n",
    "\n",
    "\n",
    "\n"
   ]
  },
  {
   "cell_type": "code",
   "execution_count": 16,
   "metadata": {},
   "outputs": [
    {
     "name": "stdout",
     "output_type": "stream",
     "text": [
      "            mut_rate  base non-pairing probability\n",
      "base index                                        \n",
      "A    1           0.0                      0.384583\n",
      "C    2           0.0                      0.299728\n",
      "     6      0.000161                      0.031782\n",
      "     7      0.000081                      0.003508\n",
      "A    11     0.000483                      0.006626\n",
      "...              ...                           ...\n",
      "C    159    0.041628                      0.999988\n",
      "A    162    0.005421                      0.003503\n",
      "     163    0.011463                      0.012781\n",
      "     165    0.069412                      0.501379\n",
      "C    167         0.0                      0.286750\n",
      "\n",
      "[74 rows x 2 columns]\n"
     ]
    }
   ],
   "source": [
    "local_folder = path_to_data\n",
    "\n",
    "def generate_csv(df, samp, construct, bases_type, roi_range):\n",
    "    df_sc = data_manip.get_roi_info(df, samp, construct, bases_type=bases_type, roi_range=roi_range)\\\n",
    "                                .reset_index()\\\n",
    "                                .drop(columns=['paired','roi_structure_comparison','roi_deltaG'])\\\n",
    "                                .set_index(['base','index'])\n",
    "    df_sc['base non-pairing probability'] = 1 - df_sc['base_pairing_prob']   \n",
    "    df_sc = df_sc.drop(columns=['base_pairing_prob'])\n",
    "    print(df_sc)\n",
    "    df_sc.to_csv(f\"{utils.make_path(local_folder)}/data.csv\")\n",
    "samp, construct = data_manip.rand_sample_construct(df)\n",
    "\n",
    "generate_csv(df, samp, construct, bases_type, roi_range)"
   ]
  },
  {
   "cell_type": "code",
   "execution_count": null,
   "metadata": {},
   "outputs": [],
   "source": []
  }
 ],
 "metadata": {
  "kernelspec": {
   "display_name": "Python 3.10.5 ('venv-nap': venv)",
   "language": "python",
   "name": "python3"
  },
  "language_info": {
   "codemirror_mode": {
    "name": "ipython",
    "version": 3
   },
   "file_extension": ".py",
   "mimetype": "text/x-python",
   "name": "python",
   "nbconvert_exporter": "python",
   "pygments_lexer": "ipython3",
   "version": "3.10.5"
  },
  "orig_nbformat": 4,
  "vscode": {
   "interpreter": {
    "hash": "228ea3748f49093993f7ca989c09e25264db3703291e3a4aaa931dd28b2eaabc"
   }
  }
 },
 "nbformat": 4,
 "nbformat_minor": 2
}
