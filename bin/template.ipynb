{
 "cells": [
  {
   "cell_type": "markdown",
   "metadata": {},
   "source": [
    "# Read me\n",
    "This template is meant to be a starter for your customized DREEM output data analysis.\n",
    "\n",
    "- To install this library, please check the installation on the [Git repo](https://github.com/yvesmartindestaillades/NAP).\n",
    "- To learn how to use this library, please get through the [tutorial](tutorial.ipynb).\n"
   ]
  },
  {
   "cell_type": "markdown",
   "metadata": {},
   "source": [
    "# Your Project Name Here"
   ]
  },
  {
   "cell_type": "code",
   "execution_count": 2,
   "metadata": {},
   "outputs": [],
   "source": [
    "import pandas as pd\n",
    "import matplotlib.pyplot as plt\n",
    "import matplotlib as mpl\n",
    "from os.path import exists, dirname\n",
    "import os, sys\n",
    "from NAP.nap import *\n",
    "try:\n",
    "    sys.path.append(dirname('libs/dreem/dreem')) \n",
    "except:\n",
    "    \"If dreem isn't installed on your computer, the code won't run\""
   ]
  },
  {
   "cell_type": "markdown",
   "metadata": {},
   "source": [
    "# Step 1: Data wrangling\n",
    "### Step 1.1: Define your study and some basics about your project"
   ]
  },
  {
   "cell_type": "code",
   "execution_count": 3,
   "metadata": {},
   "outputs": [],
   "source": [
    "# Set your username for the database (at the moment, keep Yves)\n",
    "username = 'TO DO'\n",
    "\n",
    "# Select your study\n",
    "study = 'tutorial' \n",
    "\n",
    "## Set your base coverage high-pass filter value\n",
    "min_bases_cov = 1000 \n",
    "\n",
    "# Set the resolution for the plots\n",
    "mpl.rcParams['figure.dpi'] = 860 # the highest the resolution, the slowest the plotting\n",
    "\n",
    "# Depending on the study you select, you'll get a series of tubes. You can also create new studies using this dictionary.\n",
    "# Here's an example.\n",
    "tubes_per_study = {   \n",
    "    'tutorial':             ['A6', 'D6'],\n",
    "    'replicates':           ['C5', 'A4', 'F4', 'A6', 'A7'],\n",
    "    'salt':                 ['A6', 'B6', 'C6', 'D6', 'E6'], \n",
    "    'temperature':          ['D7', 'E7', 'F7', 'G7', 'H7', 'A8', 'B8', 'C8'], \n",
    "    'magnesium':            ['F6', 'G6', 'H6', 'A7', 'B7', 'C7'],\n",
    "    '60 mM DMS kinestics':  ['D8', 'E8', 'F8', 'G8', 'H8', 'A9'],\n",
    "    'all_tubes': [ele for ele in [f\"{a}{b}\" for a in string.ascii_uppercase[0:8] for b in range(1,11)] \\\n",
    "                if ele not in ['C3','C10','D10','E10','F10','G10','H10', 'E4']]\n",
    "                + ['C5_realignment_v3']\n",
    "    }\n",
    "\n",
    "tubes = tubes_per_study[study]"
   ]
  },
  {
   "cell_type": "markdown",
   "metadata": {},
   "source": [
    "### Step 1.2: Process new pickle files and push them to Firebase\n",
    "- Select which tubes you want to push to Firebase.\n",
    "To plot automatically arrays of tubes, see [tutorial](tutorial.ipynb), section 3.2.\n",
    "- Process tubes and push them to Firebase."
   ]
  },
  {
   "cell_type": "code",
   "execution_count": null,
   "metadata": {},
   "outputs": [],
   "source": [
    "## Pickle files to process and to push to Firebase\n",
    "# Can be tubes if you want to process the tubes from your study, or [] if they are already on the database \n",
    "pickles_list = [] \n",
    "\n",
    "pickles = data_wrangler.generate_pickles(path_to_data='data/FULLSET',\n",
    "                                         pickles_list=pickles_list)\n",
    "\n",
    "# Indicate the location of your RNA structure file\n",
    "RNAstructureFile = 'data/RNAstructureFile.csv'\n",
    "\n",
    "# Default location for your local database (JSON file)\n",
    "json_file = 'data/db.json'\n",
    "\n",
    "# If the user gives some new pickles files, push them to the firebase, then pull the entire firebase\n",
    "if len(pickles):\n",
    "    data_wrangler.push_pickles_to_firebase(pickles = pickles,\n",
    "                                            RNAstructureFile = RNAstructureFile,\n",
    "                                            min_bases_cov = min_bases_cov, \n",
    "                                            username=username)"
   ]
  },
  {
   "cell_type": "markdown",
   "metadata": {},
   "source": [
    "### Step 1.3: Pull the data from the Firebase and clean/reformat it.\n",
    "`df` is used for the analysis. Each of the construct have above 1000 reads for each tube.     \n",
    "`df_full` is used for quality quality analysis. It has all constructs above 1000 valid reads for each tube individually."
   ]
  },
  {
   "cell_type": "code",
   "execution_count": null,
   "metadata": {},
   "outputs": [],
   "source": [
    "# Pull the firebase\n",
    "df_rough = firebase.load(tubes=tubes, username=username)\n",
    "data_wrangler.dump_dict_json(JSONFileDict=json_file,\n",
    "                                        df=df_rough)\n",
    "\n",
    "# Clean and reformat the dataset\n",
    "df, df_full = data_wrangler.clean_dataset(df_rough=df_rough,\n",
    "                                             tubes=tubes, \n",
    "                                             min_bases_cov=min_bases_cov)"
   ]
  },
  {
   "cell_type": "markdown",
   "metadata": {},
   "source": [
    "# Step 2: Data quality analysis\n",
    "\n",
    "It's always hard to realize that you were analysing noise. Here, we'll get through a series a plot to check the data sanity."
   ]
  },
  {
   "cell_type": "markdown",
   "metadata": {},
   "source": [
    "### Get the list of tubes and constructs:"
   ]
  },
  {
   "cell_type": "code",
   "execution_count": null,
   "metadata": {},
   "outputs": [],
   "source": [
    "print(f\"tubes are: {tubes}\")\n",
    "print(f\"constructs are: {df.construct.unique()}\")"
   ]
  },
  {
   "cell_type": "markdown",
   "metadata": {},
   "source": [
    "### Explore the data\n",
    "`utils.get_roi_info(df=df, tube=tube, construct=construct)` gives information about the ROI of a (tube, construct) pair."
   ]
  },
  {
   "cell_type": "code",
   "execution_count": null,
   "metadata": {},
   "outputs": [],
   "source": [
    "# Select a (tube, construct) pair\n",
    "tube = tubes[0] \n",
    "construct = df.construct.unique()[0]\n",
    "\n",
    "get_roi_info(df=df, tube=tube, construct=construct).xs((True, '0'),level=('paired','roi_structure_comparison'))"
   ]
  },
  {
   "cell_type": "markdown",
   "metadata": {},
   "source": [
    "### Plot the base coverage per construct distribution"
   ]
  },
  {
   "cell_type": "code",
   "execution_count": null,
   "metadata": {},
   "outputs": [],
   "source": [
    "plot.base_coverage_for_all_constructs(df=df_full, \n",
    "                                      min_bases_cov=min_bases_cov)"
   ]
  },
  {
   "cell_type": "markdown",
   "metadata": {},
   "source": [
    "### Sanity-check (tube, construct)-wise base coverage plots\n",
    "Plot randomly picked sequences to check the quality of the data."
   ]
  },
  {
   "cell_type": "code",
   "execution_count": null,
   "metadata": {},
   "outputs": [],
   "source": [
    "plot.random_base_coverage_plot_wise(df=df, \n",
    "                                    min_bases_cov=min_bases_cov)"
   ]
  },
  {
   "cell_type": "markdown",
   "metadata": {},
   "source": [
    "### Specific (tube, construct) base coverage plot\n",
    "Plot specified (tube, construct) to check its quality."
   ]
  },
  {
   "cell_type": "code",
   "execution_count": null,
   "metadata": {},
   "outputs": [],
   "source": [
    "plot.base_coverage(df, tube, construct, min_bases_cov=min_bases_cov, figsize=(15,7))"
   ]
  },
  {
   "cell_type": "markdown",
   "metadata": {},
   "source": [
    "### Heatmap of the ROI coverage"
   ]
  },
  {
   "cell_type": "code",
   "execution_count": null,
   "metadata": {},
   "outputs": [],
   "source": [
    "plot.heatmap(df = df, \n",
    "             column=\"cov_bases_roi\")"
   ]
  },
  {
   "cell_type": "markdown",
   "metadata": {},
   "source": [
    "### Heatmap of the second half coverage"
   ]
  },
  {
   "cell_type": "code",
   "execution_count": null,
   "metadata": {},
   "outputs": [],
   "source": [
    "plot.heatmap(df = df, \n",
    "                column=\"cov_bases_sec_half\")"
   ]
  },
  {
   "cell_type": "markdown",
   "metadata": {},
   "source": [
    "# Step 3: Data analysis\n",
    "In this part, we know that we read good data, and we want to visualize it through different plots.\n",
    "\n",
    "### Analysis parameters"
   ]
  },
  {
   "cell_type": "code",
   "execution_count": null,
   "metadata": {},
   "outputs": [],
   "source": [
    "# Display the plots on this notebook? Not recommended if numerous plots\n",
    "show_plots = False\n",
    "\n",
    "# Tubes analyzed here \n",
    "tubes = tubes_per_study[study]"
   ]
  },
  {
   "cell_type": "markdown",
   "metadata": {},
   "source": [
    "### Big script to run every selected function"
   ]
  },
  {
   "cell_type": "code",
   "execution_count": null,
   "metadata": {},
   "outputs": [],
   "source": [
    "# Analysis run in this script\n",
    "analysis = {'base_per_base_partition':False,\n",
    "            'base_per_base_sequence': True,\n",
    "            'deltaG': True,\n",
    "            'tube_comparison':False,\n",
    "            'columns_csv': True,\n",
    "            'deltaG_construct': True\n",
    "            }\n",
    "\n",
    "# Constructs used\n",
    "constructs = df.construct.unique()\n",
    "\n",
    "# Run the script and get your plots \n",
    "big_script(df=df, tubes=tubes, constructs=constructs, analyse=analysis, study=study)"
   ]
  },
  {
   "cell_type": "markdown",
   "metadata": {},
   "source": [
    "### Mutation sequence-wise\n",
    "\n",
    "`plot.mutation_rate(df, tube, construct, plot_type, index, normalize)` plots the mutation rate base-wise for a given construct of a given tube as a barplot. \n",
    "Arguments:\n",
    "- `plot_type` :\n",
    "    - `'sequence'` : each bar is colored w.r.t to the base of the original sequence.\n",
    "    - `'partition'` : each bar shows the partition of into which bases this base mutates.\n",
    "- `index`:\n",
    "    - `'index'`: each base is identified with its position number\n",
    "    - `'base'`: each base is identified with its type (A, C, G, T)"
   ]
  },
  {
   "cell_type": "code",
   "execution_count": null,
   "metadata": {},
   "outputs": [],
   "source": [
    "for tube in tubes:\n",
    "    for construct in constructs:\n",
    "        plot.mutation_rate(df=df,\n",
    "                           tube=tube,\n",
    "                           construct=construct,\n",
    "                           plot_type='sequence',\n",
    "                           index='index')\n",
    "        plot.save_fig(path=f\"data/output/date/{study}/mut_per_base/sequence/{construct}/\", \n",
    "                    title=f\"base_per_base_sequence_{tube}_{construct}\")\n",
    "        plt.close(not show_plots)"
   ]
  },
  {
   "cell_type": "markdown",
   "metadata": {},
   "source": [
    "### DeltaG plots"
   ]
  },
  {
   "cell_type": "code",
   "execution_count": null,
   "metadata": {},
   "outputs": [],
   "source": [
    "for tube in tubes:\n",
    "    plot.deltaG(df=df, tube=tube)\n",
    "\n",
    "    plot.save_fig(path=f\"data/output/date/{study}/deltaG/\", \n",
    "             title=f\"deltaG_{tube}\")\n",
    "\n",
    "    plt.close(not show_plots)"
   ]
  },
  {
   "cell_type": "markdown",
   "metadata": {},
   "source": [
    "### Tubes correlation"
   ]
  },
  {
   "cell_type": "code",
   "execution_count": null,
   "metadata": {},
   "outputs": [],
   "source": [
    "for construct in constructs:\n",
    "        plot.compare_n_tubes(df, tubes, construct)\n",
    "        plot.save_fig(path=f\"data/output/date/comparison/{study}\", \n",
    "                      title=f\"comparison_{study}_{construct}\")\n",
    "        plt.close(not show_plots)\n",
    "        print(construct, end=' ')"
   ]
  },
  {
   "cell_type": "markdown",
   "metadata": {},
   "source": [
    "### Save columns to a csv file"
   ]
  },
  {
   "cell_type": "code",
   "execution_count": null,
   "metadata": {},
   "outputs": [],
   "source": [
    "columns_to_csv(df=df,\n",
    "                   tubes=tubes,\n",
    "                   columns=['tube', 'construct','full_sequence','roi_sequence','mut_bases','info_bases'],\n",
    "                   title='seq_and_reactivity_{study}',\n",
    "                   path='data/output/date/{study}'\n",
    "                   )"
   ]
  },
  {
   "cell_type": "markdown",
   "metadata": {},
   "source": [
    "### Save construct vs deltaG "
   ]
  },
  {
   "cell_type": "code",
   "execution_count": null,
   "metadata": {},
   "outputs": [],
   "source": [
    "deltaG_vs_construct_to_csv(df=df, title=f\"deltaG_vs_construct.csv\", path = f\"data/output/date/{study}\", tubes=tubes)"
   ]
  }
 ],
 "metadata": {
  "interpreter": {
   "hash": "181a95673db9352066c6745a8c0d18f5d1810e89c791a79e01a67e30706bff6f"
  },
  "kernelspec": {
   "display_name": "Python 3.9.12 ('base')",
   "language": "python",
   "name": "python3"
  },
  "language_info": {
   "codemirror_mode": {
    "name": "ipython",
    "version": 3
   },
   "file_extension": ".py",
   "mimetype": "text/x-python",
   "name": "python",
   "nbconvert_exporter": "python",
   "pygments_lexer": "ipython3",
   "version": "3.9.12"
  },
  "orig_nbformat": 4
 },
 "nbformat": 4,
 "nbformat_minor": 2
}
