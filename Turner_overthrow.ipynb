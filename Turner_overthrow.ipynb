{
 "cells": [
  {
   "cell_type": "markdown",
   "metadata": {},
   "source": [
    "# Read me\n",
    "This template is meant to be a starter for your customized DREEM output data analysis.\n",
    "\n",
    "- To install this library, please check the installation on the [Git repo](https://github.com/yvesmartindestaillades/NAP).\n",
    "- To learn how to use this library, please get through the [tutorial](tutorial.ipynb).\n"
   ]
  },
  {
   "cell_type": "markdown",
   "metadata": {},
   "source": [
    "# Turner overthrown"
   ]
  },
  {
   "cell_type": "code",
   "execution_count": 1,
   "metadata": {},
   "outputs": [],
   "source": [
    "import pandas as pd\n",
    "import matplotlib.pyplot as plt\n",
    "import matplotlib as mpl\n",
    "from os.path import exists, dirname\n",
    "import os, sys\n",
    "import numpy as np\n",
    "import seaborn as sns\n",
    "import json\n",
    "from dreem_nap import data_wrangler, data_manip, database, plot, utils\n",
    "from dreem_nap.study import Study\n"
   ]
  },
  {
   "cell_type": "markdown",
   "metadata": {},
   "source": [
    "# Step 1: Data wrangling\n",
    "### Step 1.1: Define your study and some basics about your project"
   ]
  },
  {
   "cell_type": "code",
   "execution_count": 2,
   "metadata": {},
   "outputs": [
    {
     "data": {
      "text/plain": [
       "name                                                 all samples\n",
       "description                      Simply all of the valid samples\n",
       "samples        [A1, A2, A3, A4, A5, A6, A7, A8, A9, A10, B1, ...\n",
       "title                                                        NaN\n",
       "conditions     [1.0, 2.0, 3.0, 4.0, 5.0, 6.0, 7.0, 8.0, 9.0, ...\n",
       "Name: all samples, dtype: object"
      ]
     },
     "execution_count": 2,
     "metadata": {},
     "output_type": "execute_result"
    }
   ],
   "source": [
    "# Set your root folder for the database (at the moment, keep Yves)\n",
    "folder = 'Yves'\n",
    "\n",
    "path_to_data = 'data'\n",
    "\n",
    "# Firebase credentials file\n",
    "firebase_credentials_file = f\"{path_to_data}/credentials_firebase.json\"\n",
    "with open(firebase_credentials_file) as file:\n",
    "    firebase_credentials = json.load(file)\n",
    "\n",
    "# Select your study\n",
    "study_name = 'all samples' \n",
    "\n",
    "## Set your base coverage high-pass filter value\n",
    "min_bases_cov = 1000 \n",
    "\n",
    "# Set the resolution for the plots\n",
    "mpl.rcParams['figure.dpi'] = 600 # the highest the resolution, the slowest the plotting\n",
    "mpl.rcParams[\"figure.figsize\"] = [25,7]\n",
    "#plt.rcParams[\"figure.autolayout\"] = True\n",
    "\n",
    "# Depending on the study you select, you'll get a series of samples. You can also create new studies using this dictionary.\n",
    "# Here's an example.\n",
    "studies = data_wrangler.load_studies( f\"{path_to_data}/samples.csv\")\n",
    "\n",
    "study = studies.loc[study_name]\n",
    "study"
   ]
  },
  {
   "cell_type": "markdown",
   "metadata": {},
   "source": [
    "### Step 1.2: Process new pickle files and push them to Firebase\n",
    "- Select which samples you want to push to Firebase.\n",
    "To plot automatically arrays of samples, see [tutorial](tutorial.ipynb), section 3.2.\n",
    "- Process samples and push them to Firebase."
   ]
  },
  {
   "cell_type": "code",
   "execution_count": 3,
   "metadata": {},
   "outputs": [],
   "source": [
    "## Pickle files to process and to push to Firebase\n",
    "pickles_list = []# study.samples # Can be samples if you want to process the samples from your study\n",
    "\n",
    "pickles = {pickle:  f\"{path_to_data}/DREEM/{pickle}/mutation_histos.p\" for pickle in pickles_list}\n",
    "\n",
    "# Indicate the location of your RNA structure file\n",
    "RNAstructureFile =  f\"{path_to_data}/RNAstructureFile.csv\"\n",
    "\n",
    "# Default location for your local database (JSON file)\n",
    "json_file =  f\"{path_to_data}/db.json\"\n",
    "\n",
    "# If the user gives some new pickles files, push them to the firebase, then pull the entire firebase\n",
    "if len(pickles):\n",
    "    data_wrangler.push_samples_to_firebase(pickles = pickles,\n",
    "                        RNAstructureFile = RNAstructureFile,\n",
    "                        firebase_credentials = firebase_credentials,\n",
    "                        min_bases_cov = min_bases_cov, \n",
    "                        folder=folder)"
   ]
  },
  {
   "cell_type": "markdown",
   "metadata": {},
   "source": [
    "### Step 1.3: Pull the data from the Firebase and clean/reformat it.\n",
    "`df` is used for the analysis. Each of the construct have above 1000 reads for each sample.     \n",
    "`df_full` is used for quality quality analysis. It has all constructs above 1000 valid reads for each sample individually."
   ]
  },
  {
   "cell_type": "code",
   "execution_count": 4,
   "metadata": {},
   "outputs": [
    {
     "name": "stdout",
     "output_type": "stream",
     "text": [
      "Load from dict-type JSON file\n",
      "Done!\n"
     ]
    },
    {
     "name": "stderr",
     "output_type": "stream",
     "text": [
      "/home/ymdt/dreem_nap/dreem_nap/data_wrangler.py:205: SettingWithCopyWarning: \n",
      "A value is trying to be set on a copy of a slice from a DataFrame.\n",
      "Try using .loc[row_indexer,col_indexer] = value instead\n",
      "\n",
      "See the caveats in the documentation: https://pandas.pydata.org/pandas-docs/stable/user_guide/indexing.html#returning-a-view-versus-a-copy\n",
      "  df_full['samples_covered'] = pd.Series(dtype=int)\n",
      "/home/ymdt/dreem_nap/dreem_nap/data_wrangler.py:207: SettingWithCopyWarning: \n",
      "A value is trying to be set on a copy of a slice from a DataFrame\n",
      "\n",
      "See the caveats in the documentation: https://pandas.pydata.org/pandas-docs/stable/user_guide/indexing.html#returning-a-view-versus-a-copy\n",
      "  df_full['samples_covered'].loc[construct[1].index] = construct[1]['full_sequence'].count()\n"
     ]
    },
    {
     "name": "stdout",
     "output_type": "stream",
     "text": [
      "31 constructs were dropped because deltaG was 'void'\n",
      "66 constructs have more than 1000 reads for each base of their ROI on each sample\n"
     ]
    }
   ],
   "source": [
    "# Pull the firebase\n",
    "#df_database = database.load(study=study, folder=folder)\n",
    "\n",
    "#data_wrangler.dump_dict_json(JSONFileDict=json_file, df=df_database)\n",
    "df_database = data_wrangler.json_load(json_file)\n",
    "\n",
    "# Clean and reformat the dataset\n",
    "df, df_full = data_wrangler.clean_dataset(df_database=df_database,\n",
    "                                             study=study)\n",
    "print(f\"{df.groupby('construct')['samples_covered'].count().count()} constructs have more than {min_bases_cov} reads for each base of their ROI on each sample\")\n",
    "        "
   ]
  },
  {
   "cell_type": "markdown",
   "metadata": {},
   "source": [
    "# Step 2: Data quality analysis\n",
    "\n",
    "It's always hard to realize that you were analysing noise. Here, we'll get through a series a plot to check the data sanity."
   ]
  },
  {
   "cell_type": "markdown",
   "metadata": {},
   "source": [
    "### Get the list of samples and constructs:"
   ]
  },
  {
   "cell_type": "code",
   "execution_count": null,
   "metadata": {},
   "outputs": [],
   "source": [
    "print(f\"samples are: {study.samples}\")\n",
    "print(f\"constructs are: {df.construct.unique()}\")"
   ]
  },
  {
   "cell_type": "markdown",
   "metadata": {},
   "source": [
    "### Explore the data\n",
    "`get_roi_info(df=df, sample=sample, construct=construct)` gives information about the Region of Interest (ROI) of a (sample, construct) pair."
   ]
  },
  {
   "cell_type": "code",
   "execution_count": null,
   "metadata": {},
   "outputs": [],
   "source": [
    "samp, construct = utils.rand_sample_construct(df)\n",
    "\n",
    "utils.get_roi_info(df=df, samp=samp, construct=construct)#.xs((True, '0'),level=('paired','roi_structure_comparison'))   "
   ]
  },
  {
   "cell_type": "markdown",
   "metadata": {},
   "source": [
    "### (sample, construct)-specific base coverage plot"
   ]
  },
  {
   "cell_type": "code",
   "execution_count": null,
   "metadata": {},
   "outputs": [],
   "source": [
    "samp, construct = utils.rand_sample_construct(df)\n",
    "plot.base_coverage(df, samp, construct)"
   ]
  },
  {
   "cell_type": "markdown",
   "metadata": {},
   "source": [
    "### Plot the base coverage per construct distribution"
   ]
  },
  {
   "cell_type": "code",
   "execution_count": null,
   "metadata": {},
   "outputs": [],
   "source": [
    "plot.base_coverage_ROI_for_all_constructs(df=df_full)"
   ]
  },
  {
   "cell_type": "markdown",
   "metadata": {},
   "source": [
    "### Sanity-check construct-wise base coverage plots\n",
    "Plot randomly picked sequences to check the quality of the data."
   ]
  },
  {
   "cell_type": "code",
   "execution_count": null,
   "metadata": {},
   "outputs": [],
   "source": [
    "plot.random_9_base_coverage(df=df)"
   ]
  },
  {
   "cell_type": "markdown",
   "metadata": {},
   "source": [
    "### Heatmap of the roi part coverage"
   ]
  },
  {
   "cell_type": "code",
   "execution_count": null,
   "metadata": {},
   "outputs": [],
   "source": [
    "plot.heatmap(df = df, \n",
    "             column=\"cov_bases_roi\")"
   ]
  },
  {
   "cell_type": "markdown",
   "metadata": {},
   "source": [
    "### Heatmap of the second half coverage"
   ]
  },
  {
   "cell_type": "code",
   "execution_count": null,
   "metadata": {},
   "outputs": [],
   "source": [
    "plot.heatmap(df = df, \n",
    "                column=\"cov_bases_sec_half\")"
   ]
  },
  {
   "cell_type": "markdown",
   "metadata": {},
   "source": [
    "# Step 3: Data analysis\n",
    "In this part, we know that we read good data, and we want to visualize it through different plots.\n",
    "\n",
    "### Analysis parameters"
   ]
  },
  {
   "cell_type": "code",
   "execution_count": null,
   "metadata": {},
   "outputs": [],
   "source": [
    "# Display the plots on this notebook? Not recommended if numerous plots\n",
    "show_plots = True\n",
    "\n",
    "# Constructs used\n",
    "a_few_constructs = df.construct.unique()[:3].tolist()\n",
    "first_construct = df.construct.unique()[0].tolist()\n",
    "constructs_per_name = {\n",
    "    'all_constructs': df.construct.unique().tolist(),\n",
    "    str(a_few_constructs) : a_few_constructs,\n",
    "    str(first_construct): [first_construct]\n",
    "}\n",
    "\n",
    "# Select constructs here\n",
    "constructs_name = str(a_few_constructs)\n",
    "\n",
    "# Define what you will analyse\n",
    "constructs = constructs_per_name[constructs_name]"
   ]
  },
  {
   "cell_type": "markdown",
   "metadata": {},
   "source": [
    "### Big script to run every selected function"
   ]
  },
  {
   "cell_type": "code",
   "execution_count": null,
   "metadata": {},
   "outputs": [],
   "source": [
    "# Analysis run in this script\n",
    "analysis = {'base_per_base_partition':False,\n",
    "            'base_per_base_sequence': True,\n",
    "            'deltaG': True,\n",
    "            'sample_comparison':False,\n",
    "            'columns_csv': True,\n",
    "            'deltaG_construct': True\n",
    "            }\n",
    "\n",
    "# Write here a script to get your plots "
   ]
  },
  {
   "cell_type": "markdown",
   "metadata": {},
   "source": [
    "### Mutation sequence-wise\n",
    "\n",
    "`plot.mutation_rate(df, sample, construct, plot_type, index, normalize)` plots the mutation rate base-wise for a given construct of a given sample as a barplot. \n",
    "Arguments:\n",
    "- `plot_type` :\n",
    "    - `'sequence'` : each bar is colored w.r.t to the base of the original sequence.\n",
    "    - `'partition'` : each bar shows the partition of into which bases this base mutates.\n",
    "- `index`:\n",
    "    - `'index'`: each base is identified with its position number\n",
    "    - `'base'`: each base is identified with its type (A, C, G, T)"
   ]
  },
  {
   "cell_type": "code",
   "execution_count": null,
   "metadata": {},
   "outputs": [],
   "source": [
    "for construct in constructs:\n",
    "    for samp in study.samples:\n",
    "        plot.mutation_rate(df=df,\n",
    "                           sample=samp,\n",
    "                           construct=construct,\n",
    "                           plot_type='sequence',\n",
    "                           index='index')\n",
    "        utils.save_fig(path=f\"data/figs/date/{study}/mut_per_base/sequence/{construct}/\", \n",
    "                    title=f\"base_per_base_sequence_{samp}_{construct}\")\n",
    "        plt.close(not show_plots)"
   ]
  },
  {
   "cell_type": "markdown",
   "metadata": {},
   "source": [
    "### DeltaG plots"
   ]
  },
  {
   "cell_type": "code",
   "execution_count": null,
   "metadata": {},
   "outputs": [],
   "source": [
    "for samp in study.samples:\n",
    "    plot.deltaG(df=df, sample=samp)\n",
    "\n",
    "    utils.save_fig(path=f\"data/figs/date/{study}/deltaG/\", \n",
    "             title=f\"deltaG_{samp}\")\n",
    "\n",
    "    plt.close(not show_plots)"
   ]
  },
  {
   "cell_type": "markdown",
   "metadata": {},
   "source": [
    "### samples correlation"
   ]
  },
  {
   "cell_type": "code",
   "execution_count": null,
   "metadata": {},
   "outputs": [],
   "source": [
    "for construct in [constructs[0]]:\n",
    "        df_global_corr = plot.correlation_n_samples(df, study, construct)\n",
    "        utils.save_fig(path=f\"data/figs/date/correlation/{study}\", \n",
    "                      title=f\"correlation_{study}_{construct}\")\n",
    "        plt.title(f\"Study: {study}\")\n",
    "        plt.close(not show_plots)\n",
    "        print(construct, end=' ')"
   ]
  },
  {
   "cell_type": "code",
   "execution_count": null,
   "metadata": {},
   "outputs": [],
   "source": [
    "show_plots = False\n",
    "for study in studies:\n",
    "    samples = study['samples']\n",
    "    for constructs in df.construct.unique():\n",
    "        constructs_name = constructs\n",
    "        df_global_corr = plot.correlation_n_samples(df, samples, constructs)\n",
    "        plt.title(f\"Correlation between samples for study: {study}, constructs: {constructs_name}\")\n",
    "        utils.save_fig(path=f\"data/figs/date/correlation/{study}/{constructs_name}\", \n",
    "                        title=f\"correlation_fit_{study}_{constructs_name}\")\n",
    "        plt.close(not show_plots)\n",
    "\n",
    "        for plt_type in ['r_value', 'slope']:\n",
    "            pivot = df_global_corr.pivot(\"sample_0\",\"sample_1\", plt_type).astype(float)\n",
    "            f, ax = plt.subplots(figsize=(28, 10))\n",
    "            sns.heatmap(pivot, annot=False, linewidths=0, ax=ax)#, norm=LinNorm())\n",
    "            plt.title(f\"{plt_type} of the correlation between samples for study: {study}, constructs: {constructs_name}\")\n",
    "            utils.save_fig(path=f\"data/figs/date/correlation/{study}/{constructs_name}\", \n",
    "                            title=f\"correlation_{plt_type}_{study}_{constructs_name}\")\n",
    "            plt.close(not show_plots)"
   ]
  },
  {
   "cell_type": "markdown",
   "metadata": {},
   "source": [
    "### Heat Map"
   ]
  },
  {
   "cell_type": "code",
   "execution_count": null,
   "metadata": {},
   "outputs": [],
   "source": [
    "#pivot = df_global_corr.pivot(\"sample_0\",\"sample_1\", 'r_value').astype(float)\n",
    "df_global_corr"
   ]
  },
  {
   "cell_type": "code",
   "execution_count": null,
   "metadata": {},
   "outputs": [],
   "source": [
    "for plt_type in ['r_value', 'slope']:\n",
    "    pivot = df_global_corr.pivot(\"sample_0\",\"sample_1\", plt_type).astype(float)\n",
    "    f, ax = plt.subplots(figsize=(28, 10))\n",
    "    sns.heatmap(pivot, annot=False, linewidths=0, ax=ax)#, norm=LinNorm())\n",
    "    plt.title(plt_type)\n",
    "    utils.save_fig(path=f\"data/figs/date/global_correlation/{study}\", \n",
    "                    title=f\"correlation_{plt_type}_{study}_all_constructs\")\n",
    "   # plt.close(not show_plots)"
   ]
  },
  {
   "cell_type": "markdown",
   "metadata": {},
   "source": [
    "### Global correlation plot"
   ]
  },
  {
   "cell_type": "code",
   "execution_count": null,
   "metadata": {},
   "outputs": [],
   "source": [
    "heat_map = True\n",
    "\n",
    "for study in studies:\n",
    "    samples = study['samples']\n",
    "    df_global_corr = plot.correlation_n_samples(df, samples, constructs)\n",
    "    utils.save_fig(path=f\"data/figs/date/global_correlation/{study}\", \n",
    "                    title=f\"correlation_{study}_all_constructs\")\n",
    "    plt.close(not show_plots)\n",
    "\n",
    "    if heat_map:\n",
    "        for plt_type in ['r_value', 'slope']:\n",
    "            pivot = df_global_corr.pivot(\"sample_0\",\"sample_1\", plt_type).astype(float)\n",
    "            f, ax = plt.subplots(figsize=(28, 10))\n",
    "            sns.heatmap(pivot, annot=False, linewidths=0, ax=ax, norm=LogNorm())\n",
    "            utils.save_fig(path=f\"data/figs/date/global_correlation/{study}\", \n",
    "                            title=f\"correlation_{plt_type}_{study}_all_constructs\")\n",
    "            plt.close(not show_plots)"
   ]
  },
  {
   "cell_type": "code",
   "execution_count": null,
   "metadata": {},
   "outputs": [],
   "source": [
    "show_plots = 1\n",
    "for study in studies:\n",
    "    samples = studies[study]['samples']\n",
    "    if study == 'all_samples': continue\n",
    "    plot.correlation_n_samples(df, samples, constructs)\n",
    "    plot.save_fig(path=f\"data/figs/date/global_correlation/{study}\", \n",
    "                title=f\"correlation_{study}_all_constructs\")\n",
    "    plt.close(not show_plots)"
   ]
  },
  {
   "cell_type": "markdown",
   "metadata": {},
   "source": [
    "### Temperature vs reactivity plots"
   ]
  },
  {
   "cell_type": "code",
   "execution_count": null,
   "metadata": {},
   "outputs": [],
   "source": [
    "from scipy.optimize import curve_fit\n",
    "\n",
    "def mut_rate_along_study(df:pd.DataFrame, study:Study, figsize=None):\n",
    "    \"\"\"Plot the mean of the mutation rate of the ROI bases, for each sample of the study.\n",
    "\n",
    "    Args:\n",
    "        df (pd.DataFrame): dataframe of interest.\n",
    "        samples (list[str]): samples of interest.\n",
    "        study: class containing relevant information about the series of sample that you want to use.\n",
    "    \"\"\"\n",
    "    samples = study.samples\n",
    "    paired, unpaired = np.zeros(len(samples)), np.zeros(len(samples))\n",
    "    for count, samp in enumerate(samples):\n",
    "        for construct in df.construct.unique():\n",
    "            df_roi = data_manip.get_roi_info(df, samp, construct, bases=['A','C'])\n",
    "            paired[count] += df_roi.xs(True, level= 'paired')['mut_rate'].mean()/len( df.construct.unique())\n",
    "            unpaired[count] += df_roi.xs(False, level= 'paired')['mut_rate'].mean()/len( df.construct.unique())\n",
    "\n",
    "\n",
    "    if figsize != None:\n",
    "        plt.figure(figsize=figsize)\n",
    "    else:\n",
    "        plt.figure()\n",
    "    plt.plot(study.conditions, paired, 'r.-')\n",
    "    plt.plot(study.conditions, unpaired, 'b.-')\n",
    "         \n",
    "    for str_model in study.models:\n",
    "        model = eval(str_model)\n",
    "        for data in [paired, unpaired]:\n",
    "            fit = curve_fit(model, study.conditions, data)\n",
    "            plt.plot(study.conditions, fit)\n",
    "\n",
    "\n",
    "    plt.xlabel(f\"{study.title}\")\n",
    "    plt.ylabel('Mean mutation rate for the ROI')\n",
    "    plt.legend(['Paired-predicted bases','Unpaired-predicted bases', 'Fit paired-predicted bases', 'Fit unpaired-predicted bases'])"
   ]
  },
  {
   "cell_type": "code",
   "execution_count": null,
   "metadata": {},
   "outputs": [],
   "source": [
    "for study in studies.iterrows():\n",
    "    study =  Study().from_dict(study[1].to_dict())\n",
    "    study.models = ['lambda x,a: np.log(x)+a']\n",
    "    plot.mut_rate_along_study(df, study, figsize=(16,8))\n",
    "    utils.save_fig(path=f\"{path_to_data}/figs/date/study_behavior\", \n",
    "                title=f\"{study.name}.png\")\n",
    "    plt.close()"
   ]
  },
  {
   "cell_type": "markdown",
   "metadata": {},
   "source": [
    "### Base-wise mutation along a study"
   ]
  },
  {
   "cell_type": "code",
   "execution_count": null,
   "metadata": {},
   "outputs": [],
   "source": [
    "for construct in [df.construct.unique()[0]]:\n",
    "    for stu in studies.iterrows():\n",
    "        study=Study().from_dict(stu[1].to_dict())\n",
    "        if study.name == 'all samples':\n",
    "            continue\n",
    "        plot.study_base_wise_mut_rate(df=df,\n",
    "                                study=study,\n",
    "                                construct=construct)\n",
    "        utils.save_fig(path= f\"{path_to_data}/figs/date/Base-wise mutation along a study/{study.name}\", \n",
    "                       title=f\"{construct}_{study.name}.png\")\n",
    "        plt.close()"
   ]
  },
  {
   "cell_type": "markdown",
   "metadata": {},
   "source": [
    "### Save columns to a csv file"
   ]
  },
  {
   "cell_type": "code",
   "execution_count": null,
   "metadata": {},
   "outputs": [],
   "source": [
    "utils.columns_to_csv(df=df,\n",
    "                   samples=samples,\n",
    "                   columns=['sample', 'construct','full_sequence','roi_sequence','mut_bases','info_bases'],\n",
    "                   title=f\"seq_and_reactivity_{study}\",\n",
    "                   path='data/figs/date/{study}')"
   ]
  },
  {
   "cell_type": "markdown",
   "metadata": {},
   "source": [
    "### Save construct vs deltaG "
   ]
  },
  {
   "cell_type": "code",
   "execution_count": null,
   "metadata": {},
   "outputs": [],
   "source": [
    "utils.deltaG_vs_construct_to_csv(df=df,    \n",
    "                                 title=f\"deltaG_vs_construct.csv\", \n",
    "                                 path = f\"data/figs/date/{study}\", \n",
    "                                 samples=samples)"
   ]
  },
  {
   "cell_type": "code",
   "execution_count": 15,
   "metadata": {},
   "outputs": [
    {
     "data": {
      "text/html": [
       "<div>\n",
       "<style scoped>\n",
       "    .dataframe tbody tr th:only-of-type {\n",
       "        vertical-align: middle;\n",
       "    }\n",
       "\n",
       "    .dataframe tbody tr th {\n",
       "        vertical-align: top;\n",
       "    }\n",
       "\n",
       "    .dataframe thead th {\n",
       "        text-align: right;\n",
       "    }\n",
       "</style>\n",
       "<table border=\"1\" class=\"dataframe\">\n",
       "  <thead>\n",
       "    <tr style=\"text-align: right;\">\n",
       "      <th></th>\n",
       "      <th></th>\n",
       "      <th></th>\n",
       "      <th></th>\n",
       "      <th></th>\n",
       "      <th>mut_rate</th>\n",
       "      <th>roi_deltaG</th>\n",
       "    </tr>\n",
       "    <tr>\n",
       "      <th>base</th>\n",
       "      <th>paired_full</th>\n",
       "      <th>paired_roi</th>\n",
       "      <th>roi_structure_comparison</th>\n",
       "      <th>index</th>\n",
       "      <th></th>\n",
       "      <th></th>\n",
       "    </tr>\n",
       "  </thead>\n",
       "  <tbody>\n",
       "    <tr>\n",
       "      <th>G</th>\n",
       "      <th>True</th>\n",
       "      <th>True</th>\n",
       "      <th>0</th>\n",
       "      <th>80</th>\n",
       "      <td>0.000894</td>\n",
       "      <td>-9.4</td>\n",
       "    </tr>\n",
       "    <tr>\n",
       "      <th>C</th>\n",
       "      <th>True</th>\n",
       "      <th>True</th>\n",
       "      <th>0</th>\n",
       "      <th>81</th>\n",
       "      <td>0.004556</td>\n",
       "      <td>-9.4</td>\n",
       "    </tr>\n",
       "    <tr>\n",
       "      <th>A</th>\n",
       "      <th>True</th>\n",
       "      <th>True</th>\n",
       "      <th>0</th>\n",
       "      <th>82</th>\n",
       "      <td>0.004414</td>\n",
       "      <td>-9.4</td>\n",
       "    </tr>\n",
       "    <tr>\n",
       "      <th>T</th>\n",
       "      <th>True</th>\n",
       "      <th>True</th>\n",
       "      <th>0</th>\n",
       "      <th>83</th>\n",
       "      <td>0.002312</td>\n",
       "      <td>-9.4</td>\n",
       "    </tr>\n",
       "    <tr>\n",
       "      <th>A</th>\n",
       "      <th>True</th>\n",
       "      <th>True</th>\n",
       "      <th>0</th>\n",
       "      <th>84</th>\n",
       "      <td>0.004004</td>\n",
       "      <td>-9.4</td>\n",
       "    </tr>\n",
       "    <tr>\n",
       "      <th>T</th>\n",
       "      <th>True</th>\n",
       "      <th>True</th>\n",
       "      <th>0</th>\n",
       "      <th>85</th>\n",
       "      <td>0.000443</td>\n",
       "      <td>-9.4</td>\n",
       "    </tr>\n",
       "    <tr>\n",
       "      <th>G</th>\n",
       "      <th>True</th>\n",
       "      <th>True</th>\n",
       "      <th>0</th>\n",
       "      <th>86</th>\n",
       "      <td>0.000687</td>\n",
       "      <td>-9.4</td>\n",
       "    </tr>\n",
       "    <tr>\n",
       "      <th>A</th>\n",
       "      <th>False</th>\n",
       "      <th>False</th>\n",
       "      <th>0</th>\n",
       "      <th>87</th>\n",
       "      <td>0.017351</td>\n",
       "      <td>-9.4</td>\n",
       "    </tr>\n",
       "    <tr>\n",
       "      <th rowspan=\"2\" valign=\"top\">G</th>\n",
       "      <th rowspan=\"2\" valign=\"top\">True</th>\n",
       "      <th rowspan=\"2\" valign=\"top\">True</th>\n",
       "      <th rowspan=\"2\" valign=\"top\">0</th>\n",
       "      <th>88</th>\n",
       "      <td>0.001025</td>\n",
       "      <td>-9.4</td>\n",
       "    </tr>\n",
       "    <tr>\n",
       "      <th>89</th>\n",
       "      <td>0.001031</td>\n",
       "      <td>-9.4</td>\n",
       "    </tr>\n",
       "    <tr>\n",
       "      <th>A</th>\n",
       "      <th>False</th>\n",
       "      <th>False</th>\n",
       "      <th>0</th>\n",
       "      <th>90</th>\n",
       "      <td>0.032681</td>\n",
       "      <td>-9.4</td>\n",
       "    </tr>\n",
       "    <tr>\n",
       "      <th>T</th>\n",
       "      <th>False</th>\n",
       "      <th>False</th>\n",
       "      <th>0</th>\n",
       "      <th>91</th>\n",
       "      <td>0.001678</td>\n",
       "      <td>-9.4</td>\n",
       "    </tr>\n",
       "    <tr>\n",
       "      <th>C</th>\n",
       "      <th>False</th>\n",
       "      <th>False</th>\n",
       "      <th>0</th>\n",
       "      <th>92</th>\n",
       "      <td>0.036111</td>\n",
       "      <td>-9.4</td>\n",
       "    </tr>\n",
       "    <tr>\n",
       "      <th>A</th>\n",
       "      <th>False</th>\n",
       "      <th>False</th>\n",
       "      <th>0</th>\n",
       "      <th>93</th>\n",
       "      <td>0.021234</td>\n",
       "      <td>-9.4</td>\n",
       "    </tr>\n",
       "    <tr>\n",
       "      <th rowspan=\"3\" valign=\"top\">C</th>\n",
       "      <th rowspan=\"3\" valign=\"top\">True</th>\n",
       "      <th rowspan=\"3\" valign=\"top\">True</th>\n",
       "      <th rowspan=\"3\" valign=\"top\">0</th>\n",
       "      <th>94</th>\n",
       "      <td>0.007155</td>\n",
       "      <td>-9.4</td>\n",
       "    </tr>\n",
       "    <tr>\n",
       "      <th>95</th>\n",
       "      <td>0.004014</td>\n",
       "      <td>-9.4</td>\n",
       "    </tr>\n",
       "    <tr>\n",
       "      <th>96</th>\n",
       "      <td>0.00352</td>\n",
       "      <td>-9.4</td>\n",
       "    </tr>\n",
       "    <tr>\n",
       "      <th>A</th>\n",
       "      <th>True</th>\n",
       "      <th>True</th>\n",
       "      <th>0</th>\n",
       "      <th>97</th>\n",
       "      <td>0.003271</td>\n",
       "      <td>-9.4</td>\n",
       "    </tr>\n",
       "    <tr>\n",
       "      <th>T</th>\n",
       "      <th>True</th>\n",
       "      <th>True</th>\n",
       "      <th>0</th>\n",
       "      <th>98</th>\n",
       "      <td>0.003681</td>\n",
       "      <td>-9.4</td>\n",
       "    </tr>\n",
       "    <tr>\n",
       "      <th>A</th>\n",
       "      <th>True</th>\n",
       "      <th>True</th>\n",
       "      <th>0</th>\n",
       "      <th>99</th>\n",
       "      <td>0.005183</td>\n",
       "      <td>-9.4</td>\n",
       "    </tr>\n",
       "    <tr>\n",
       "      <th>T</th>\n",
       "      <th>True</th>\n",
       "      <th>True</th>\n",
       "      <th>0</th>\n",
       "      <th>100</th>\n",
       "      <td>0.000619</td>\n",
       "      <td>-9.4</td>\n",
       "    </tr>\n",
       "    <tr>\n",
       "      <th>G</th>\n",
       "      <th>True</th>\n",
       "      <th>True</th>\n",
       "      <th>0</th>\n",
       "      <th>101</th>\n",
       "      <td>0.002185</td>\n",
       "      <td>-9.4</td>\n",
       "    </tr>\n",
       "    <tr>\n",
       "      <th>C</th>\n",
       "      <th>True</th>\n",
       "      <th>True</th>\n",
       "      <th>0</th>\n",
       "      <th>102</th>\n",
       "      <td>0.005939</td>\n",
       "      <td>-9.4</td>\n",
       "    </tr>\n",
       "  </tbody>\n",
       "</table>\n",
       "</div>"
      ],
      "text/plain": [
       "                                                            mut_rate  \\\n",
       "base paired_full paired_roi roi_structure_comparison index             \n",
       "G    True        True       0                        80     0.000894   \n",
       "C    True        True       0                        81     0.004556   \n",
       "A    True        True       0                        82     0.004414   \n",
       "T    True        True       0                        83     0.002312   \n",
       "A    True        True       0                        84     0.004004   \n",
       "T    True        True       0                        85     0.000443   \n",
       "G    True        True       0                        86     0.000687   \n",
       "A    False       False      0                        87     0.017351   \n",
       "G    True        True       0                        88     0.001025   \n",
       "                                                     89     0.001031   \n",
       "A    False       False      0                        90     0.032681   \n",
       "T    False       False      0                        91     0.001678   \n",
       "C    False       False      0                        92     0.036111   \n",
       "A    False       False      0                        93     0.021234   \n",
       "C    True        True       0                        94     0.007155   \n",
       "                                                     95     0.004014   \n",
       "                                                     96      0.00352   \n",
       "A    True        True       0                        97     0.003271   \n",
       "T    True        True       0                        98     0.003681   \n",
       "A    True        True       0                        99     0.005183   \n",
       "T    True        True       0                        100    0.000619   \n",
       "G    True        True       0                        101    0.002185   \n",
       "C    True        True       0                        102    0.005939   \n",
       "\n",
       "                                                            roi_deltaG  \n",
       "base paired_full paired_roi roi_structure_comparison index              \n",
       "G    True        True       0                        80           -9.4  \n",
       "C    True        True       0                        81           -9.4  \n",
       "A    True        True       0                        82           -9.4  \n",
       "T    True        True       0                        83           -9.4  \n",
       "A    True        True       0                        84           -9.4  \n",
       "T    True        True       0                        85           -9.4  \n",
       "G    True        True       0                        86           -9.4  \n",
       "A    False       False      0                        87           -9.4  \n",
       "G    True        True       0                        88           -9.4  \n",
       "                                                     89           -9.4  \n",
       "A    False       False      0                        90           -9.4  \n",
       "T    False       False      0                        91           -9.4  \n",
       "C    False       False      0                        92           -9.4  \n",
       "A    False       False      0                        93           -9.4  \n",
       "C    True        True       0                        94           -9.4  \n",
       "                                                     95           -9.4  \n",
       "                                                     96           -9.4  \n",
       "A    True        True       0                        97           -9.4  \n",
       "T    True        True       0                        98           -9.4  \n",
       "A    True        True       0                        99           -9.4  \n",
       "T    True        True       0                        100          -9.4  \n",
       "G    True        True       0                        101          -9.4  \n",
       "C    True        True       0                        102          -9.4  "
      ]
     },
     "execution_count": 15,
     "metadata": {},
     "output_type": "execute_result"
    }
   ],
   "source": [
    "\n",
    "def get_roi_info(df:pd.DataFrame, samp:str, construct:int, bases:list[str]=['A','C'], structure = 'full')->pd.DataFrame:\n",
    "    \"\"\"Returns a dataframe of the ROI of a specific (samp, construct).\n",
    "\n",
    "    Args:\n",
    "        df: a Pandas dataframe.\n",
    "        samp: a specific sample.\n",
    "        construct: a specific construct.\n",
    "        bases: list of the bases to filter-in\n",
    "        structure: 'full', 'roi', or 'both'. If 'full' or 'roi', the index 'paired' of the output will be corresponding to the structure prediction of the full RNA or only the ROI, respectively. If 'both', the output will be indexed w.r.t 'paired_full' and 'paired_roi'.  \n",
    "    \n",
    "    Returns:\n",
    "        Indexes:\n",
    "            base: A, C, G, T.\n",
    "            paired: pairing prediction of an RNA structure prediction software.\n",
    "            roi_structure_comparison: comparison between the pairing prediction of the ROI sequence alone and the entire sequence. 0 means no difference, 1 means difference. \n",
    "            index: base 0-index\n",
    "        Columns:\n",
    "            mut_rate: mutation rate of this base.\n",
    "            roi_deltaG: the deltaG of the ROI sequence predicted b a RNA structure prediction software. \n",
    "    \"\"\" \n",
    "\n",
    "    np.seterr(invalid='ignore')\n",
    "    df_use = df.set_index(['samp','construct'])\n",
    "    start, end = df_use['roi_start_index'].loc[(samp,construct)] , df_use['roi_end_index'].loc[(samp,construct)]     \n",
    "    df_roi = pd.DataFrame({'mut_rate':pd.Series(np.array(df_use[f\"mut_bases\"].loc[samp, construct][1:])/np.array(df_use[f\"info_bases\"].loc[samp, construct][1:]), dtype=object),\n",
    "                            'base':list(df_use['full_sequence'].loc[samp, construct]),\n",
    "                            'paired': np.array([bool(x != '.') for x in list(df_use['full_structure'].loc[samp,construct])]),\\\n",
    "                            'roi_structure_comparison': pd.Series(list(df_use['roi_structure_comparison'].loc[samp,construct]),index=list(range(start, end)))\\\n",
    "                            ,'roi_deltaG':df_use['roi_deltaG'].loc[samp, construct]})\\\n",
    "                            .dropna()\\\n",
    "                            .reset_index()\n",
    "                            \n",
    "    df_roi = df_roi.where(df_roi['base'].isin(bases)).dropna()\n",
    "    \n",
    "    df_roi['index'] =  df_roi['index'].astype(int)\n",
    "\n",
    "    if structure in ['roi','ROI','both']:\n",
    "        df_roi['paired_roi'] = df_roi.apply(lambda row:  bool((int(row['paired'])+int(row['roi_structure_comparison']))%2)  , axis=1 )\n",
    "\n",
    "    if structure == 'both':\n",
    "        df_roi = df_roi.rename(columns={'paired':'paired_full'})\n",
    "\n",
    "    if structure == 'roi':\n",
    "        df_roi = df_roi.drop(columns=['paired'])\n",
    "        df_roi = df_roi.rename(columns={'paired_roi':'paired'})\n",
    "\n",
    "    if structure in ['roi','ROI','full']:\n",
    "        df_roi = df_roi.set_index(['base', 'paired', 'roi_structure_comparison','index'])\n",
    "\n",
    "    if structure == 'both':\n",
    "        df_roi = df_roi.set_index(['base', 'paired_full', 'paired_roi', 'roi_structure_comparison','index'])\n",
    "\n",
    "    return df_roi\n",
    "\n",
    "df_roi = get_roi_info(df, 'E2', 9572, bases=['A','C'], structure='both')#.reset_index().set_index(['index','paired'])\n",
    "#df_roi = df_roi['mut_rate'].xs(False, level='paired')\n",
    "#df_roi = df_roi.where(df_roi['base'].isin(['A','C'])).dropna()#.xs(False, level='paired').transpose()\n",
    "df_roi"
   ]
  },
  {
   "cell_type": "code",
   "execution_count": null,
   "metadata": {},
   "outputs": [],
   "source": [
    "\n",
    "plot.study_base_wise_mut_rate(df=df,\n",
    "                        study=Study().from_dict(studies.loc['temperature']),\n",
    "                        construct=9572, \n",
    "                        scale_x='log',\n",
    "                        bases=['A','C'])"
   ]
  },
  {
   "cell_type": "markdown",
   "metadata": {},
   "source": []
  }
 ],
 "metadata": {
  "interpreter": {
   "hash": "181a95673db9352066c6745a8c0d18f5d1810e89c791a79e01a67e30706bff6f"
  },
  "kernelspec": {
   "display_name": "Python 3.9.12 ('base')",
   "language": "python",
   "name": "python3"
  },
  "language_info": {
   "codemirror_mode": {
    "name": "ipython",
    "version": 3
   },
   "file_extension": ".py",
   "mimetype": "text/x-python",
   "name": "python",
   "nbconvert_exporter": "python",
   "pygments_lexer": "ipython3",
   "version": "3.9.12"
  },
  "orig_nbformat": 4
 },
 "nbformat": 4,
 "nbformat_minor": 2
}
