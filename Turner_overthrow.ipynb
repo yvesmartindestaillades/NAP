{
 "cells": [
  {
   "cell_type": "markdown",
   "metadata": {},
   "source": [
    "# Read me\n",
    "This template is meant to be a starter for your customized DREEM output data analysis.\n",
    "\n",
    "- To install this library, please check the installation on the [Git repo](https://github.com/yvesmartindestaillades/NAP).\n",
    "- To learn how to use this library, please get through the [tutorial](tutorial.ipynb).\n"
   ]
  },
  {
   "cell_type": "markdown",
   "metadata": {},
   "source": [
    "# Turner overthrown"
   ]
  },
  {
   "cell_type": "code",
   "execution_count": 1,
   "metadata": {},
   "outputs": [],
   "source": [
    "import pandas as pd\n",
    "import matplotlib.pyplot as plt\n",
    "import matplotlib as mpl\n",
    "from os.path import exists, dirname\n",
    "import os, sys\n",
    "from nap import *\n",
    "try:\n",
    "    sys.path.append(dirname('libs/dreem/dreem')) \n",
    "except:\n",
    "    \"If dreem isn't installed on your computer, the code won't run\"\n",
    "    "
   ]
  },
  {
   "cell_type": "markdown",
   "metadata": {},
   "source": [
    "# Step 1: Data wrangling\n",
    "### Step 1.1: Define your study and some basics about your project"
   ]
  },
  {
   "cell_type": "code",
   "execution_count": 2,
   "metadata": {},
   "outputs": [],
   "source": [
    "# Set your username for the database (at the moment, keep Yves)\n",
    "username = 'Yves'\n",
    "\n",
    "# Select your study\n",
    "study = 'salt' \n",
    "\n",
    "## Set your base coverage high-pass filter value\n",
    "min_bases_cov = 1000 \n",
    "\n",
    "# Set the resolution for the plots\n",
    "mpl.rcParams['figure.dpi'] = 200 # the highest the resolution, the slowest the plotting\n",
    "\n",
    "# Depending on the study you select, you'll get a series of tubes. You can also create new studies using this dictionary.\n",
    "# Here's an example.\n",
    "tubes_per_study = {   \n",
    "    'replicates':           ['C5', 'A4', 'F4', 'A6', 'A7'],\n",
    "    'salt':                 ['A6', 'B6', 'C6', 'D6', 'E6'], \n",
    "    'temperature':          ['D7', 'E7', 'F7', 'G7', 'H7', 'A8', 'B8', 'C8'], \n",
    "    'magnesium':            ['F6', 'G6', 'H6', 'A7', 'B7', 'C7'],\n",
    "    '60 mM DMS kinestics':  ['D8', 'E8', 'F8', 'G8', 'H8', 'A9'],\n",
    "    'all_tubes': [ele for ele in [f\"{a}{b}\" for a in string.ascii_uppercase[0:8] for b in range(1,11)] \\\n",
    "                 if ele not in ['C3','C10','D10','E10','F10','G10','H10', 'E4']]\n",
    "                 + ['C5_realignment_v3']\n",
    "    }\n",
    "\n",
    "conditions_per_study = {\n",
    "    'temperature': {\n",
    "        'unit':'C',\n",
    "        'values':[5, 10, 25, 45, 55, 65, 75, 90]\n",
    "    },\n",
    "    '60 mM DMS kinestics': {\n",
    "        'unit':'min',\n",
    "        'values':[1, 3, 9, 27, 81]\n",
    "    }\n",
    "} \n",
    "\n",
    "tubes = tubes_per_study[study]"
   ]
  },
  {
   "cell_type": "markdown",
   "metadata": {},
   "source": [
    "### Step 1.2: Process new pickle files and push them to Firebase\n",
    "- Select which tubes you want to push to Firebase.\n",
    "To plot automatically arrays of tubes, see [tutorial](tutorial.ipynb), section 3.2.\n",
    "- Process tubes and push them to Firebase."
   ]
  },
  {
   "cell_type": "code",
   "execution_count": 3,
   "metadata": {},
   "outputs": [],
   "source": [
    "## Pickle files to process and to push to Firebase\n",
    "pickles_list = [] # Can be tubes if you want to process the tubes from your study\n",
    "\n",
    "pickles = data_wrangler.generate_pickles(path_to_data='data/FULLSET',\n",
    "                                         pickles_list=pickles_list)\n",
    "\n",
    "# Indicate the location of your RNA structure file\n",
    "RNAstructureFile = 'data/RNAstructureFile.csv'\n",
    "\n",
    "# Default location for your local database (JSON file)\n",
    "json_file = 'data/db.json'\n",
    "\n",
    "\n",
    "# If the user gives some new pickles files, push them to the firebase, then pull the entire firebase\n",
    "if len(pickles):\n",
    "    firebase.push_pickles(pickles = pickles,\n",
    "                        RNAstructureFile = RNAstructureFile,\n",
    "                        min_bases_cov = min_bases_cov, \n",
    "                        username=username)"
   ]
  },
  {
   "cell_type": "markdown",
   "metadata": {},
   "source": [
    "### Step 1.3: Pull the data from the Firebase and clean/reformat it.\n",
    "`df` is used for the analysis. Each of the construct have above 1000 reads for each tube.     \n",
    "`df_full` is used for quality quality analysis. It has all constructs above 1000 valid reads for each tube individually."
   ]
  },
  {
   "cell_type": "code",
   "execution_count": 4,
   "metadata": {},
   "outputs": [
    {
     "name": "stdout",
     "output_type": "stream",
     "text": [
      "Load data from Firebase\n",
      "D7 E7 F7 G7 H7 A8 B8 "
     ]
    }
   ],
   "source": [
    "# Pull the firebase\n",
    "df_rough = firebase.load(tubes=tubes, username=username)\n",
    "data_wrangler.dump_dict_json(JSONFileDict=json_file,\n",
    "                                        df=df_rough)\n",
    "\n"
   ]
  },
  {
   "cell_type": "code",
   "execution_count": null,
   "metadata": {},
   "outputs": [],
   "source": [
    "\n",
    "# Clean and reformat the dataset\n",
    "df, df_full = data_wrangler.clean_dataset(df_rough=df_rough,\n",
    "                                             tubes=tubes, \n",
    "                                             min_bases_cov=min_bases_cov)"
   ]
  },
  {
   "cell_type": "markdown",
   "metadata": {},
   "source": [
    "# Step 2: Data quality analysis\n",
    "\n",
    "It's always hard to realize that you were analysing noise. Here, we'll get through a series a plot to check the data sanity."
   ]
  },
  {
   "cell_type": "markdown",
   "metadata": {},
   "source": [
    "### Get the list of tubes and constructs:"
   ]
  },
  {
   "cell_type": "code",
   "execution_count": null,
   "metadata": {},
   "outputs": [],
   "source": [
    "print(f\"tubes are: {tubes}\")\n",
    "print(f\"constructs are: {df.construct.unique()}\")"
   ]
  },
  {
   "cell_type": "markdown",
   "metadata": {},
   "source": [
    "### Explore the data\n",
    "`get_roi_info(df=df, tube=tube, construct=construct)` gives information about the Region of Interest (ROI) of a (tube, construct) pair."
   ]
  },
  {
   "cell_type": "code",
   "execution_count": null,
   "metadata": {},
   "outputs": [],
   "source": [
    "# Select a (tube, construct) pair\n",
    "tube = tubes[0] \n",
    "construct = df.construct.unique()[0]\n",
    "\n",
    "get_roi_info(df=df, tube=tube, construct=construct).xs((True, '0'),level=('paired','roi_structure_comparison'))"
   ]
  },
  {
   "cell_type": "markdown",
   "metadata": {},
   "source": [
    "### Plot the base coverage per construct distribution"
   ]
  },
  {
   "cell_type": "code",
   "execution_count": null,
   "metadata": {},
   "outputs": [],
   "source": [
    "plot.base_coverage_for_all_constructs(df=df_full, \n",
    "                                      min_bases_cov=min_bases_cov)"
   ]
  },
  {
   "cell_type": "markdown",
   "metadata": {},
   "source": [
    "### Sanity-check construct-wise base coverage plots\n",
    "Plot randomly picked sequences to check the quality of the data."
   ]
  },
  {
   "cell_type": "code",
   "execution_count": null,
   "metadata": {},
   "outputs": [],
   "source": [
    "plot.random_9_base_coverage(df=df, \n",
    "                            min_bases_cov=min_bases_cov)"
   ]
  },
  {
   "cell_type": "markdown",
   "metadata": {},
   "source": [
    "### Heatmap of the roi part coverage"
   ]
  },
  {
   "cell_type": "code",
   "execution_count": null,
   "metadata": {},
   "outputs": [],
   "source": [
    "plot.heatmap(df = df, \n",
    "             column=\"cov_bases_roi\")"
   ]
  },
  {
   "cell_type": "markdown",
   "metadata": {},
   "source": [
    "### Heatmap of the second half coverage"
   ]
  },
  {
   "cell_type": "code",
   "execution_count": null,
   "metadata": {},
   "outputs": [],
   "source": [
    "plot.heatmap(df = df, \n",
    "                column=\"cov_bases_sec_half\")"
   ]
  },
  {
   "cell_type": "markdown",
   "metadata": {},
   "source": [
    "# Step 3: Data analysis\n",
    "In this part, we know that we read good data, and we want to visualize it through different plots.\n",
    "\n",
    "### Analysis parameters"
   ]
  },
  {
   "cell_type": "code",
   "execution_count": null,
   "metadata": {},
   "outputs": [],
   "source": [
    "# Display the plots on this notebook? Not recommended if numerous plots\n",
    "show_plots = True\n",
    "\n",
    "# Tubes analyzed here \n",
    "tubes = tubes_per_study[study]\n",
    "\n",
    "# Constructs used\n",
    "a_few_constructs = df.construct.unique()[:3].tolist()\n",
    "first_construct = df.construct.unique()[0].tolist()\n",
    "constructs_per_name = {\n",
    "    'all_constructs': df.construct.unique().tolist(),\n",
    "    str(a_few_constructs) : a_few_constructs,\n",
    "    str(first_construct): [first_construct]\n",
    "}\n",
    "\n",
    "# Select constructs here\n",
    "constructs_name = str(a_few_constructs)\n",
    "\n",
    "# Output the frame conditions\n",
    "conditions = conditions_per_study[study]\n",
    "constructs = constructs_per_name[constructs_name]"
   ]
  },
  {
   "cell_type": "markdown",
   "metadata": {},
   "source": [
    "### Big script to run every selected function"
   ]
  },
  {
   "cell_type": "code",
   "execution_count": null,
   "metadata": {},
   "outputs": [],
   "source": [
    "# Analysis run in this script\n",
    "analysis = {'base_per_base_partition':False,\n",
    "            'base_per_base_sequence': True,\n",
    "            'deltaG': True,\n",
    "            'tube_comparison':False,\n",
    "            'columns_csv': True,\n",
    "            'deltaG_construct': True\n",
    "            }\n",
    "\n",
    "# Write here a script to get your plots "
   ]
  },
  {
   "cell_type": "markdown",
   "metadata": {},
   "source": [
    "### Mutation sequence-wise\n",
    "\n",
    "`plot.mutation_rate(df, tube, construct, plot_type, index, normalize)` plots the mutation rate base-wise for a given construct of a given tube as a barplot. \n",
    "Arguments:\n",
    "- `plot_type` :\n",
    "    - `'sequence'` : each bar is colored w.r.t to the base of the original sequence.\n",
    "    - `'partition'` : each bar shows the partition of into which bases this base mutates.\n",
    "- `index`:\n",
    "    - `'index'`: each base is identified with its position number\n",
    "    - `'base'`: each base is identified with its type (A, C, G, T)"
   ]
  },
  {
   "cell_type": "code",
   "execution_count": null,
   "metadata": {},
   "outputs": [],
   "source": [
    "for tube in tubes:\n",
    "    for construct in constructs:\n",
    "        plot.mutation_rate(df=df,\n",
    "                           tube=tube,\n",
    "                           construct=construct,\n",
    "                           plot_type='sequence',\n",
    "                           index='index')\n",
    "        plot.save_fig(path=f\"data/figs/date/{study}/mut_per_base/sequence/{construct}/\", \n",
    "                    title=f\"base_per_base_sequence_{tube}_{construct}\")\n",
    "        plt.close(not show_plots)"
   ]
  },
  {
   "cell_type": "markdown",
   "metadata": {},
   "source": [
    "### DeltaG plots"
   ]
  },
  {
   "cell_type": "code",
   "execution_count": null,
   "metadata": {},
   "outputs": [],
   "source": [
    "for tube in tubes:\n",
    "    plot.deltaG(df=df, tube=tube)\n",
    "\n",
    "    plot.save_fig(path=f\"data/figs/date/{study}/deltaG/\", \n",
    "             title=f\"deltaG_{tube}\")\n",
    "\n",
    "    plt.close(not show_plots)"
   ]
  },
  {
   "cell_type": "markdown",
   "metadata": {},
   "source": [
    "### Tubes correlation"
   ]
  },
  {
   "cell_type": "code",
   "execution_count": null,
   "metadata": {},
   "outputs": [],
   "source": []
  },
  {
   "cell_type": "code",
   "execution_count": null,
   "metadata": {},
   "outputs": [],
   "source": [
    "for construct in constructs:\n",
    "        df_global_corr = plot.correlation_n_tubes(df, tubes, construct)\n",
    "        plot.save_fig(path=f\"data/figs/date/correlation/{study}\", \n",
    "                      title=f\"correlation_{study}_{construct}\")\n",
    "        plt.title(f\"Study: {study}\")\n",
    "        plt.close(not show_plots)\n",
    "        print(construct, end=' ')"
   ]
  },
  {
   "cell_type": "code",
   "execution_count": null,
   "metadata": {},
   "outputs": [],
   "source": []
  },
  {
   "cell_type": "code",
   "execution_count": null,
   "metadata": {},
   "outputs": [],
   "source": [
    "show_plots = False\n",
    "for study in tubes_per_study:\n",
    "    tubes = tubes_per_study[study]\n",
    "    for constructs in df.construct.unique():\n",
    "        constructs_name = constructs\n",
    "        df_global_corr = plot.correlation_n_tubes(df, tubes, constructs)\n",
    "        plt.title(f\"Correlation between tubes for study: {study}, constructs: {constructs_name}\")\n",
    "        plot.save_fig(path=f\"data/figs/date/correlation/{study}/{constructs_name}\", \n",
    "                        title=f\"correlation_fit_{study}_{constructs_name}\")\n",
    "        plt.close(not show_plots)\n",
    "\n",
    "        for plt_type in ['r_value', 'slope']:\n",
    "            pivot = df_global_corr.pivot(\"tube_0\",\"tube_1\", plt_type).astype(float)\n",
    "            f, ax = plt.subplots(figsize=(28, 10))\n",
    "            sns.heatmap(pivot, annot=False, linewidths=0, ax=ax)#, norm=LinNorm())\n",
    "            plt.title(f\"{plt_type} of the correlation between tubes for study: {study}, constructs: {constructs_name}\")\n",
    "            plot.save_fig(path=f\"data/figs/date/correlation/{study}/{constructs_name}\", \n",
    "                            title=f\"correlation_{plt_type}_{study}_{constructs_name}\")\n",
    "            plt.close(not show_plots)"
   ]
  },
  {
   "cell_type": "markdown",
   "metadata": {},
   "source": [
    "### Heat Map"
   ]
  },
  {
   "cell_type": "code",
   "execution_count": null,
   "metadata": {},
   "outputs": [],
   "source": [
    "#pivot = df_global_corr.pivot(\"tube_0\",\"tube_1\", 'r_value').astype(float)\n",
    "df_global_corr"
   ]
  },
  {
   "cell_type": "code",
   "execution_count": null,
   "metadata": {},
   "outputs": [],
   "source": [
    "for plt_type in ['r_value', 'slope']:\n",
    "    pivot = df_global_corr.pivot(\"tube_0\",\"tube_1\", plt_type).astype(float)\n",
    "    f, ax = plt.subplots(figsize=(28, 10))\n",
    "    sns.heatmap(pivot, annot=False, linewidths=0, ax=ax)#, norm=LinNorm())\n",
    "    plt.title(plt_type)\n",
    "    plot.save_fig(path=f\"data/figs/date/global_correlation/{study}\", \n",
    "                    title=f\"correlation_{plt_type}_{study}_all_constructs\")\n",
    "    plt.close(not show_plots)"
   ]
  },
  {
   "cell_type": "markdown",
   "metadata": {},
   "source": [
    "### Global correlation plot"
   ]
  },
  {
   "cell_type": "code",
   "execution_count": null,
   "metadata": {},
   "outputs": [],
   "source": [
    "heat_map = True\n",
    "\n",
    "for study in tubes_per_study:\n",
    "   # tubes = tubes_per_study[study]\n",
    "\n",
    "    df_global_corr = plot.correlation_n_tubes(df, tubes, constructs)\n",
    "    plot.save_fig(path=f\"data/figs/date/global_correlation/{study}\", \n",
    "                    title=f\"correlation_{study}_all_constructs\")\n",
    "    plt.close(not show_plots)\n",
    "\n",
    "    if heat_map:\n",
    "        for plt_type in ['r_value', 'slope']:\n",
    "            pivot = df_global_corr.pivot(\"tube_0\",\"tube_1\", plt_type).astype(float)\n",
    "            f, ax = plt.subplots(figsize=(28, 10))\n",
    "            sns.heatmap(pivot, annot=False, linewidths=0, ax=ax, norm=LogNorm())\n",
    "            plot.save_fig(path=f\"data/figs/date/global_correlation/{study}\", \n",
    "                            title=f\"correlation_{plt_type}_{study}_all_constructs\")\n",
    "            plt.close(not show_plots)"
   ]
  },
  {
   "cell_type": "code",
   "execution_count": null,
   "metadata": {},
   "outputs": [],
   "source": [
    "show_plots = 1\n",
    "for study in tubes_per_study:\n",
    "    if study == 'all_tubes': continue\n",
    "    plot.correlation_n_tubes(df, tubes_per_study[study], constructs)\n",
    "    plot.save_fig(path=f\"data/figs/date/global_correlation/{study}\", \n",
    "                title=f\"correlation_{study}_all_constructs\")\n",
    "    plt.close(not show_plots)"
   ]
  },
  {
   "cell_type": "markdown",
   "metadata": {},
   "source": [
    "### Conditions vs mutations"
   ]
  },
  {
   "cell_type": "code",
   "execution_count": null,
   "metadata": {},
   "outputs": [],
   "source": [
    "def conditions_vs_mutations(df, tubes, study, ):\n",
    "    df_use = df.set_index(['tube','construct'])\n",
    "\n",
    "    fig = plot.define_figure(title=tube,\n",
    "                            xlabel='deltaG [kcal]',\n",
    "                            ylabel='Mutation ratio',\n",
    "                            figsize=(20,5))\n",
    "\n",
    "    stack_for_plot = {'0':{'x':[],'y':[]},'1':{'x':[],'y':[]}}\n",
    "\n",
    "    for construct in df.construct.unique():\n",
    "        roi_part = get_roi_info(df=df, tube=tube, construct=construct)\n",
    "        for base in ['A','C']:\n",
    "            for roi_struct_comp in ['0','1']:\n",
    "                try:    \n",
    "                    this_base_mut =  roi_part.xs((base,True,roi_struct_comp), level=('base','paired','roi_structure_comparison'))\n",
    "                    stack_for_plot[roi_struct_comp]['x'].extend(this_base_mut['roi_deltaG'].to_list())\n",
    "                    stack_for_plot[roi_struct_comp]['y'].extend(this_base_mut['mut_rate'].to_list())\n",
    "                except:\n",
    "                    continue\n",
    "    plt.plot(stack_for_plot['0']['x'],stack_for_plot['0']['y'],'b.')\n",
    "    plt.plot(stack_for_plot['1']['x'],stack_for_plot['1']['y'],'r.')\n",
    "    plot.fit_deltaG(df_use, tube)\n",
    "    plt.legend(['A and C bases of the ROI, predicted paired by RNAstructure for both the ROI sequence and the full sequence',\\\n",
    "                'A and C bases of the ROI part, predicted paired by RNAstructure for the full sequence but not for the ROI sequence'])\n",
    "    plt.ylim([0,0.15])\n",
    "    fig.tight_layout()"
   ]
  },
  {
   "cell_type": "markdown",
   "metadata": {},
   "source": [
    "### Save columns to a csv file"
   ]
  },
  {
   "cell_type": "code",
   "execution_count": null,
   "metadata": {},
   "outputs": [],
   "source": [
    "columns_to_csv(df=df,\n",
    "                   tubes=tubes,\n",
    "                   columns=['tube', 'construct','full_sequence','roi_sequence','mut_bases','info_bases'],\n",
    "                   title='seq_and_reactivity_{study}',\n",
    "                   path='data/figs/date/{study}')"
   ]
  },
  {
   "cell_type": "markdown",
   "metadata": {},
   "source": [
    "### Save construct vs deltaG "
   ]
  },
  {
   "cell_type": "code",
   "execution_count": null,
   "metadata": {},
   "outputs": [],
   "source": [
    "deltaG_vs_construct_to_csv(df=df,    \n",
    "                                 title=f\"deltaG_vs_construct.csv\", \n",
    "                                 path = f\"data/figs/date/{study}\", \n",
    "                                 tubes=tubes)"
   ]
  }
 ],
 "metadata": {
  "interpreter": {
   "hash": "181a95673db9352066c6745a8c0d18f5d1810e89c791a79e01a67e30706bff6f"
  },
  "kernelspec": {
   "display_name": "Python 3.9.12 ('base')",
   "language": "python",
   "name": "python3"
  },
  "language_info": {
   "codemirror_mode": {
    "name": "ipython",
    "version": 3
   },
   "file_extension": ".py",
   "mimetype": "text/x-python",
   "name": "python",
   "nbconvert_exporter": "python",
   "pygments_lexer": "ipython3",
   "version": "3.9.12"
  },
  "orig_nbformat": 4
 },
 "nbformat": 4,
 "nbformat_minor": 2
}
