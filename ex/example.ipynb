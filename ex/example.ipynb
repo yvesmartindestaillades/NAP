{
 "cells": [
  {
   "cell_type": "markdown",
   "metadata": {},
   "source": [
    "## Imports"
   ]
  },
  {
   "cell_type": "code",
   "execution_count": 1,
   "metadata": {},
   "outputs": [],
   "source": [
    "import pandas as pd\n",
    "import matplotlib.pyplot as plt\n",
    "import matplotlib as mpl\n",
    "from matplotlib.colors import LogNorm\n",
    "from os.path import exists, dirname\n",
    "import os, sys\n",
    "import numpy as np\n",
    "import seaborn as sns\n",
    "import json\n",
    "import yaml\n",
    "import pickle\n",
    "from plotly.subplots import make_subplots\n",
    "import plotly.graph_objects as go\n",
    "from plotly.offline import download_plotlyjs, init_notebook_mode, plot, iplot\n",
    "\n",
    "import matplotlib.pyplot as plt\n",
    "from itertools import cycle\n",
    "from typing import Tuple, List\n",
    "import pandas as pd\n",
    "from plotly.subplots import make_subplots\n",
    "import plotly.graph_objects as go\n",
    "from plotly.offline import download_plotlyjs, init_notebook_mode, plot, iplot\n",
    "import scipy\n",
    "from scipy.optimize import curve_fit\n",
    "\n",
    "pd.options.mode.chained_assignment = None  # default='warn'\n",
    "path = '/Users/ymdt/src/dreem_nap/'\n",
    "sys.path.append(path)\n",
    "from dreem_nap.study import *\n",
    "\n",
    "# Config\n",
    "mpl.rcParams['figure.dpi'] = 100 # the highest the resolution, the slowest the plotting\n",
    "mpl.use('agg')\n",
    "\n",
    "\n",
    "study = Study(path_to_data= '/Users/ymdt/src/dreem_nap/ex/Lauren/lau.csv', \n",
    "              min_cov_bases=1000,\n",
    "              filter_by='study')\n",
    "study.get_df().head()\n",
    "study.df['family'] = study.df['construct'].apply(lambda x: x[x.index('=')+1:x.index('=')+x[x.index('='):].index('-')])\n"
   ]
  },
  {
   "cell_type": "code",
   "execution_count": null,
   "metadata": {},
   "outputs": [
    {
     "data": {
      "application/vnd.plotly.v1+json": {
       "config": {
        "linkText": "Export to plot.ly",
        "plotlyServerURL": "https://plot.ly",
        "showLink": false
       },
       "data": [
        {
         "error_y": {
          "array": [
           0.00571848,
           0.00519014,
           0.01079193,
           0.01493573,
           0.01256231,
           0.00507633,
           0.00507633
          ],
          "arrayminus": [
           0.0041828,
           0.00364235,
           0.00930643,
           0.01346428,
           0.01108403,
           0.00352552,
           0.00352552
          ],
          "symmetric": false,
          "type": "data"
         },
         "hovertemplate": "<b>mut_rate: %{text[0]}<br><b>base: %{text[1]}<br><b>index: %{text[2]}<br><b>paired: %{text[3]}<br>",
         "marker": {
          "color": "red"
         },
         "name": "A",
         "text": [
          [
           0.01142573,
           "A",
           21,
           false
          ],
          [
           0.00894188,
           "A",
           23,
           false
          ],
          [
           0.05017387,
           "A",
           26,
           true
          ],
          [
           0.10183805,
           "A",
           29,
           true
          ],
          [
           0.07004471,
           "A",
           32,
           true
          ],
          [
           0.00844511,
           "A",
           36,
           false
          ],
          [
           0.00844511,
           "A",
           38,
           false
          ]
         ],
         "type": "bar",
         "x": [
          2,
          4,
          7,
          10,
          13,
          17,
          19
         ],
         "y": [
          0.01142573,
          0.00894188,
          0.05017387,
          0.10183805,
          0.07004471,
          0.00844511,
          0.00844511
         ]
        },
        {
         "error_y": {
          "array": [
           0.00385653,
           0.00227106,
           0.00471417,
           0.00331263,
           0.00310064
          ],
          "arrayminus": [
           0.0022584,
           0.00048419,
           0.00315254,
           0.00167735,
           0.00144567
          ],
          "symmetric": false,
          "type": "data"
         },
         "hovertemplate": "<b>mut_rate: %{text[0]}<br><b>base: %{text[1]}<br><b>index: %{text[2]}<br><b>paired: %{text[3]}<br>",
         "marker": {
          "color": "orange"
         },
         "name": "G",
         "text": [
          [
           0.00397417,
           "G",
           19,
           false
          ],
          [
           0.00049677,
           "G",
           25,
           false
          ],
          [
           0.00695479,
           "G",
           27,
           false
          ],
          [
           0.00248385,
           "G",
           28,
           false
          ],
          [
           0.00198708,
           "G",
           40,
           false
          ]
         ],
         "type": "bar",
         "x": [
          0,
          6,
          8,
          9,
          21
         ],
         "y": [
          0.00397417,
          0.00049677,
          0.00695479,
          0.00248385,
          0.00198708
         ]
        },
        {
         "error_y": {
          "array": [
           0.00445186,
           0.01448739,
           0.00695461,
           0.00571848,
           0.00458539,
           0.00507633
          ],
          "arrayminus": [
           0.00288099,
           0.01301483,
           0.00543894,
           0.0041828,
           0.0030194,
           0.00352552
          ],
          "symmetric": false,
          "type": "data"
         },
         "hovertemplate": "<b>mut_rate: %{text[0]}<br><b>base: %{text[1]}<br><b>index: %{text[2]}<br><b>paired: %{text[3]}<br>",
         "marker": {
          "color": "blue"
         },
         "name": "C",
         "text": [
          [
           0.00596125,
           "C",
           20,
           false
          ],
          [
           0.09538003,
           "C",
           31,
           true
          ],
          [
           0.01838053,
           "C",
           33,
           false
          ],
          [
           0.01142573,
           "C",
           34,
           false
          ],
          [
           0.00645802,
           "C",
           35,
           false
          ],
          [
           0.00844511,
           "C",
           41,
           true
          ]
         ],
         "type": "bar",
         "x": [
          1,
          12,
          14,
          15,
          16,
          22
         ],
         "y": [
          0.00596125,
          0.09538003,
          0.01838053,
          0.01142573,
          0.00645802,
          0.00844511
         ]
        },
        {
         "error_y": {
          "array": [
           0.00286501,
           0.00227106,
           0.00350694,
           0.00227106,
           0.00183253
          ],
          "arrayminus": [
           0.00118297,
           0.00048419,
           0.00188679,
           0.00048419,
           0
          ],
          "symmetric": false,
          "type": "data"
         },
         "hovertemplate": "<b>mut_rate: %{text[0]}<br><b>base: %{text[1]}<br><b>index: %{text[2]}<br><b>paired: %{text[3]}<br>",
         "marker": {
          "color": "green"
         },
         "name": "T",
         "text": [
          [
           0.00149031,
           "T",
           22,
           false
          ],
          [
           0.00049677,
           "T",
           24,
           false
          ],
          [
           0.00298063,
           "T",
           30,
           true
          ],
          [
           0.00049677,
           "T",
           37,
           false
          ],
          [
           0,
           "T",
           39,
           false
          ]
         ],
         "type": "bar",
         "x": [
          3,
          5,
          11,
          18,
          20
         ],
         "y": [
          0.00149031,
          0.00049677,
          0.00298063,
          0.00049677,
          0
         ]
        }
       ],
       "layout": {
        "template": {
         "data": {
          "bar": [
           {
            "error_x": {
             "color": "#2a3f5f"
            },
            "error_y": {
             "color": "#2a3f5f"
            },
            "marker": {
             "line": {
              "color": "#E5ECF6",
              "width": 0.5
             },
             "pattern": {
              "fillmode": "overlay",
              "size": 10,
              "solidity": 0.2
             }
            },
            "type": "bar"
           }
          ],
          "barpolar": [
           {
            "marker": {
             "line": {
              "color": "#E5ECF6",
              "width": 0.5
             },
             "pattern": {
              "fillmode": "overlay",
              "size": 10,
              "solidity": 0.2
             }
            },
            "type": "barpolar"
           }
          ],
          "carpet": [
           {
            "aaxis": {
             "endlinecolor": "#2a3f5f",
             "gridcolor": "white",
             "linecolor": "white",
             "minorgridcolor": "white",
             "startlinecolor": "#2a3f5f"
            },
            "baxis": {
             "endlinecolor": "#2a3f5f",
             "gridcolor": "white",
             "linecolor": "white",
             "minorgridcolor": "white",
             "startlinecolor": "#2a3f5f"
            },
            "type": "carpet"
           }
          ],
          "choropleth": [
           {
            "colorbar": {
             "outlinewidth": 0,
             "ticks": ""
            },
            "type": "choropleth"
           }
          ],
          "contour": [
           {
            "colorbar": {
             "outlinewidth": 0,
             "ticks": ""
            },
            "colorscale": [
             [
              0,
              "#0d0887"
             ],
             [
              0.1111111111111111,
              "#46039f"
             ],
             [
              0.2222222222222222,
              "#7201a8"
             ],
             [
              0.3333333333333333,
              "#9c179e"
             ],
             [
              0.4444444444444444,
              "#bd3786"
             ],
             [
              0.5555555555555556,
              "#d8576b"
             ],
             [
              0.6666666666666666,
              "#ed7953"
             ],
             [
              0.7777777777777778,
              "#fb9f3a"
             ],
             [
              0.8888888888888888,
              "#fdca26"
             ],
             [
              1,
              "#f0f921"
             ]
            ],
            "type": "contour"
           }
          ],
          "contourcarpet": [
           {
            "colorbar": {
             "outlinewidth": 0,
             "ticks": ""
            },
            "type": "contourcarpet"
           }
          ],
          "heatmap": [
           {
            "colorbar": {
             "outlinewidth": 0,
             "ticks": ""
            },
            "colorscale": [
             [
              0,
              "#0d0887"
             ],
             [
              0.1111111111111111,
              "#46039f"
             ],
             [
              0.2222222222222222,
              "#7201a8"
             ],
             [
              0.3333333333333333,
              "#9c179e"
             ],
             [
              0.4444444444444444,
              "#bd3786"
             ],
             [
              0.5555555555555556,
              "#d8576b"
             ],
             [
              0.6666666666666666,
              "#ed7953"
             ],
             [
              0.7777777777777778,
              "#fb9f3a"
             ],
             [
              0.8888888888888888,
              "#fdca26"
             ],
             [
              1,
              "#f0f921"
             ]
            ],
            "type": "heatmap"
           }
          ],
          "heatmapgl": [
           {
            "colorbar": {
             "outlinewidth": 0,
             "ticks": ""
            },
            "colorscale": [
             [
              0,
              "#0d0887"
             ],
             [
              0.1111111111111111,
              "#46039f"
             ],
             [
              0.2222222222222222,
              "#7201a8"
             ],
             [
              0.3333333333333333,
              "#9c179e"
             ],
             [
              0.4444444444444444,
              "#bd3786"
             ],
             [
              0.5555555555555556,
              "#d8576b"
             ],
             [
              0.6666666666666666,
              "#ed7953"
             ],
             [
              0.7777777777777778,
              "#fb9f3a"
             ],
             [
              0.8888888888888888,
              "#fdca26"
             ],
             [
              1,
              "#f0f921"
             ]
            ],
            "type": "heatmapgl"
           }
          ],
          "histogram": [
           {
            "marker": {
             "pattern": {
              "fillmode": "overlay",
              "size": 10,
              "solidity": 0.2
             }
            },
            "type": "histogram"
           }
          ],
          "histogram2d": [
           {
            "colorbar": {
             "outlinewidth": 0,
             "ticks": ""
            },
            "colorscale": [
             [
              0,
              "#0d0887"
             ],
             [
              0.1111111111111111,
              "#46039f"
             ],
             [
              0.2222222222222222,
              "#7201a8"
             ],
             [
              0.3333333333333333,
              "#9c179e"
             ],
             [
              0.4444444444444444,
              "#bd3786"
             ],
             [
              0.5555555555555556,
              "#d8576b"
             ],
             [
              0.6666666666666666,
              "#ed7953"
             ],
             [
              0.7777777777777778,
              "#fb9f3a"
             ],
             [
              0.8888888888888888,
              "#fdca26"
             ],
             [
              1,
              "#f0f921"
             ]
            ],
            "type": "histogram2d"
           }
          ],
          "histogram2dcontour": [
           {
            "colorbar": {
             "outlinewidth": 0,
             "ticks": ""
            },
            "colorscale": [
             [
              0,
              "#0d0887"
             ],
             [
              0.1111111111111111,
              "#46039f"
             ],
             [
              0.2222222222222222,
              "#7201a8"
             ],
             [
              0.3333333333333333,
              "#9c179e"
             ],
             [
              0.4444444444444444,
              "#bd3786"
             ],
             [
              0.5555555555555556,
              "#d8576b"
             ],
             [
              0.6666666666666666,
              "#ed7953"
             ],
             [
              0.7777777777777778,
              "#fb9f3a"
             ],
             [
              0.8888888888888888,
              "#fdca26"
             ],
             [
              1,
              "#f0f921"
             ]
            ],
            "type": "histogram2dcontour"
           }
          ],
          "mesh3d": [
           {
            "colorbar": {
             "outlinewidth": 0,
             "ticks": ""
            },
            "type": "mesh3d"
           }
          ],
          "parcoords": [
           {
            "line": {
             "colorbar": {
              "outlinewidth": 0,
              "ticks": ""
             }
            },
            "type": "parcoords"
           }
          ],
          "pie": [
           {
            "automargin": true,
            "type": "pie"
           }
          ],
          "scatter": [
           {
            "fillpattern": {
             "fillmode": "overlay",
             "size": 10,
             "solidity": 0.2
            },
            "type": "scatter"
           }
          ],
          "scatter3d": [
           {
            "line": {
             "colorbar": {
              "outlinewidth": 0,
              "ticks": ""
             }
            },
            "marker": {
             "colorbar": {
              "outlinewidth": 0,
              "ticks": ""
             }
            },
            "type": "scatter3d"
           }
          ],
          "scattercarpet": [
           {
            "marker": {
             "colorbar": {
              "outlinewidth": 0,
              "ticks": ""
             }
            },
            "type": "scattercarpet"
           }
          ],
          "scattergeo": [
           {
            "marker": {
             "colorbar": {
              "outlinewidth": 0,
              "ticks": ""
             }
            },
            "type": "scattergeo"
           }
          ],
          "scattergl": [
           {
            "marker": {
             "colorbar": {
              "outlinewidth": 0,
              "ticks": ""
             }
            },
            "type": "scattergl"
           }
          ],
          "scattermapbox": [
           {
            "marker": {
             "colorbar": {
              "outlinewidth": 0,
              "ticks": ""
             }
            },
            "type": "scattermapbox"
           }
          ],
          "scatterpolar": [
           {
            "marker": {
             "colorbar": {
              "outlinewidth": 0,
              "ticks": ""
             }
            },
            "type": "scatterpolar"
           }
          ],
          "scatterpolargl": [
           {
            "marker": {
             "colorbar": {
              "outlinewidth": 0,
              "ticks": ""
             }
            },
            "type": "scatterpolargl"
           }
          ],
          "scatterternary": [
           {
            "marker": {
             "colorbar": {
              "outlinewidth": 0,
              "ticks": ""
             }
            },
            "type": "scatterternary"
           }
          ],
          "surface": [
           {
            "colorbar": {
             "outlinewidth": 0,
             "ticks": ""
            },
            "colorscale": [
             [
              0,
              "#0d0887"
             ],
             [
              0.1111111111111111,
              "#46039f"
             ],
             [
              0.2222222222222222,
              "#7201a8"
             ],
             [
              0.3333333333333333,
              "#9c179e"
             ],
             [
              0.4444444444444444,
              "#bd3786"
             ],
             [
              0.5555555555555556,
              "#d8576b"
             ],
             [
              0.6666666666666666,
              "#ed7953"
             ],
             [
              0.7777777777777778,
              "#fb9f3a"
             ],
             [
              0.8888888888888888,
              "#fdca26"
             ],
             [
              1,
              "#f0f921"
             ]
            ],
            "type": "surface"
           }
          ],
          "table": [
           {
            "cells": {
             "fill": {
              "color": "#EBF0F8"
             },
             "line": {
              "color": "white"
             }
            },
            "header": {
             "fill": {
              "color": "#C8D4E3"
             },
             "line": {
              "color": "white"
             }
            },
            "type": "table"
           }
          ]
         },
         "layout": {
          "annotationdefaults": {
           "arrowcolor": "#2a3f5f",
           "arrowhead": 0,
           "arrowwidth": 1
          },
          "autotypenumbers": "strict",
          "coloraxis": {
           "colorbar": {
            "outlinewidth": 0,
            "ticks": ""
           }
          },
          "colorscale": {
           "diverging": [
            [
             0,
             "#8e0152"
            ],
            [
             0.1,
             "#c51b7d"
            ],
            [
             0.2,
             "#de77ae"
            ],
            [
             0.3,
             "#f1b6da"
            ],
            [
             0.4,
             "#fde0ef"
            ],
            [
             0.5,
             "#f7f7f7"
            ],
            [
             0.6,
             "#e6f5d0"
            ],
            [
             0.7,
             "#b8e186"
            ],
            [
             0.8,
             "#7fbc41"
            ],
            [
             0.9,
             "#4d9221"
            ],
            [
             1,
             "#276419"
            ]
           ],
           "sequential": [
            [
             0,
             "#0d0887"
            ],
            [
             0.1111111111111111,
             "#46039f"
            ],
            [
             0.2222222222222222,
             "#7201a8"
            ],
            [
             0.3333333333333333,
             "#9c179e"
            ],
            [
             0.4444444444444444,
             "#bd3786"
            ],
            [
             0.5555555555555556,
             "#d8576b"
            ],
            [
             0.6666666666666666,
             "#ed7953"
            ],
            [
             0.7777777777777778,
             "#fb9f3a"
            ],
            [
             0.8888888888888888,
             "#fdca26"
            ],
            [
             1,
             "#f0f921"
            ]
           ],
           "sequentialminus": [
            [
             0,
             "#0d0887"
            ],
            [
             0.1111111111111111,
             "#46039f"
            ],
            [
             0.2222222222222222,
             "#7201a8"
            ],
            [
             0.3333333333333333,
             "#9c179e"
            ],
            [
             0.4444444444444444,
             "#bd3786"
            ],
            [
             0.5555555555555556,
             "#d8576b"
            ],
            [
             0.6666666666666666,
             "#ed7953"
            ],
            [
             0.7777777777777778,
             "#fb9f3a"
            ],
            [
             0.8888888888888888,
             "#fdca26"
            ],
            [
             1,
             "#f0f921"
            ]
           ]
          },
          "colorway": [
           "#636efa",
           "#EF553B",
           "#00cc96",
           "#ab63fa",
           "#FFA15A",
           "#19d3f3",
           "#FF6692",
           "#B6E880",
           "#FF97FF",
           "#FECB52"
          ],
          "font": {
           "color": "#2a3f5f"
          },
          "geo": {
           "bgcolor": "white",
           "lakecolor": "white",
           "landcolor": "#E5ECF6",
           "showlakes": true,
           "showland": true,
           "subunitcolor": "white"
          },
          "hoverlabel": {
           "align": "left"
          },
          "hovermode": "closest",
          "mapbox": {
           "style": "light"
          },
          "paper_bgcolor": "white",
          "plot_bgcolor": "#E5ECF6",
          "polar": {
           "angularaxis": {
            "gridcolor": "white",
            "linecolor": "white",
            "ticks": ""
           },
           "bgcolor": "#E5ECF6",
           "radialaxis": {
            "gridcolor": "white",
            "linecolor": "white",
            "ticks": ""
           }
          },
          "scene": {
           "xaxis": {
            "backgroundcolor": "#E5ECF6",
            "gridcolor": "white",
            "gridwidth": 2,
            "linecolor": "white",
            "showbackground": true,
            "ticks": "",
            "zerolinecolor": "white"
           },
           "yaxis": {
            "backgroundcolor": "#E5ECF6",
            "gridcolor": "white",
            "gridwidth": 2,
            "linecolor": "white",
            "showbackground": true,
            "ticks": "",
            "zerolinecolor": "white"
           },
           "zaxis": {
            "backgroundcolor": "#E5ECF6",
            "gridcolor": "white",
            "gridwidth": 2,
            "linecolor": "white",
            "showbackground": true,
            "ticks": "",
            "zerolinecolor": "white"
           }
          },
          "shapedefaults": {
           "line": {
            "color": "#2a3f5f"
           }
          },
          "ternary": {
           "aaxis": {
            "gridcolor": "white",
            "linecolor": "white",
            "ticks": ""
           },
           "baxis": {
            "gridcolor": "white",
            "linecolor": "white",
            "ticks": ""
           },
           "bgcolor": "#E5ECF6",
           "caxis": {
            "gridcolor": "white",
            "linecolor": "white",
            "ticks": ""
           }
          },
          "title": {
           "x": 0.05
          },
          "xaxis": {
           "automargin": true,
           "gridcolor": "white",
           "linecolor": "white",
           "ticks": "",
           "title": {
            "standoff": 15
           },
           "zerolinecolor": "white",
           "zerolinewidth": 2
          },
          "yaxis": {
           "automargin": true,
           "gridcolor": "white",
           "linecolor": "white",
           "ticks": "",
           "title": {
            "standoff": 15
           },
           "zerolinecolor": "white",
           "zerolinewidth": 2
          }
         }
        },
        "title": {
         "text": "470 - 3114-O-flank_1=hp7-DB - 0 - 0"
        },
        "xaxis": {
         "autorange": true,
         "linecolor": "black",
         "linewidth": 1,
         "mirror": true,
         "tickangle": 90,
         "ticktext": [
          "(U) 19",
          "(U) 20",
          "(U) 21",
          "(U) 22",
          "(U) 23",
          "(U) 24",
          "(U) 25",
          "(P) 26",
          "(U) 27",
          "(U) 28",
          "(P) 29",
          "(P) 30",
          "(P) 31",
          "(P) 32",
          "(U) 33",
          "(U) 34",
          "(U) 35",
          "(U) 36",
          "(U) 37",
          "(U) 38",
          "(U) 39",
          "(U) 40",
          "(P) 41"
         ],
         "tickvals": [
          0,
          1,
          2,
          3,
          4,
          5,
          6,
          7,
          8,
          9,
          10,
          11,
          12,
          13,
          14,
          15,
          16,
          17,
          18,
          19,
          20,
          21,
          22
         ],
         "title": {
          "text": "Sequence"
         }
        },
        "yaxis": {
         "autorange": true,
         "gridcolor": "lightgray",
         "linecolor": "black",
         "linewidth": 1,
         "mirror": true,
         "range": [
          0,
          0.1
         ],
         "title": {
          "text": "Mutation rate"
         }
        }
       }
      }
     },
     "metadata": {},
     "output_type": "display_data"
    },
    {
     "data": {
      "text/plain": [
       "{'fig': Figure({\n",
       "     'data': [{'error_y': {'array': array([0.00571848, 0.00519014, 0.01079193, 0.01493573, 0.01256231, 0.00507633,\n",
       "                                           0.00507633]),\n",
       "                           'arrayminus': array([0.0041828 , 0.00364235, 0.00930643, 0.01346428, 0.01108403, 0.00352552,\n",
       "                                                0.00352552]),\n",
       "                           'symmetric': False,\n",
       "                           'type': 'data'},\n",
       "               'hovertemplate': ('<b>mut_rate: %{text[0]}<br><b>' ... '}<br><b>paired: %{text[3]}<br>'),\n",
       "               'marker': {'color': 'red'},\n",
       "               'name': 'A',\n",
       "               'text': array([[0.01142573, 'A', 21, False],\n",
       "                              [0.00894188, 'A', 23, False],\n",
       "                              [0.05017387, 'A', 26, True],\n",
       "                              [0.10183805, 'A', 29, True],\n",
       "                              [0.07004471, 'A', 32, True],\n",
       "                              [0.00844511, 'A', 36, False],\n",
       "                              [0.00844511, 'A', 38, False]], dtype=object),\n",
       "               'type': 'bar',\n",
       "               'x': array([ 2,  4,  7, 10, 13, 17, 19]),\n",
       "               'y': array([0.01142573, 0.00894188, 0.05017387, 0.10183805, 0.07004471, 0.00844511,\n",
       "                           0.00844511])},\n",
       "              {'error_y': {'array': array([0.00385653, 0.00227106, 0.00471417, 0.00331263, 0.00310064]),\n",
       "                           'arrayminus': array([0.0022584 , 0.00048419, 0.00315254, 0.00167735, 0.00144567]),\n",
       "                           'symmetric': False,\n",
       "                           'type': 'data'},\n",
       "               'hovertemplate': ('<b>mut_rate: %{text[0]}<br><b>' ... '}<br><b>paired: %{text[3]}<br>'),\n",
       "               'marker': {'color': 'orange'},\n",
       "               'name': 'G',\n",
       "               'text': array([[0.00397417, 'G', 19, False],\n",
       "                              [0.00049677, 'G', 25, False],\n",
       "                              [0.00695479, 'G', 27, False],\n",
       "                              [0.00248385, 'G', 28, False],\n",
       "                              [0.00198708, 'G', 40, False]], dtype=object),\n",
       "               'type': 'bar',\n",
       "               'x': array([ 0,  6,  8,  9, 21]),\n",
       "               'y': array([0.00397417, 0.00049677, 0.00695479, 0.00248385, 0.00198708])},\n",
       "              {'error_y': {'array': array([0.00445186, 0.01448739, 0.00695461, 0.00571848, 0.00458539, 0.00507633]),\n",
       "                           'arrayminus': array([0.00288099, 0.01301483, 0.00543894, 0.0041828 , 0.0030194 , 0.00352552]),\n",
       "                           'symmetric': False,\n",
       "                           'type': 'data'},\n",
       "               'hovertemplate': ('<b>mut_rate: %{text[0]}<br><b>' ... '}<br><b>paired: %{text[3]}<br>'),\n",
       "               'marker': {'color': 'blue'},\n",
       "               'name': 'C',\n",
       "               'text': array([[0.00596125, 'C', 20, False],\n",
       "                              [0.09538003, 'C', 31, True],\n",
       "                              [0.01838053, 'C', 33, False],\n",
       "                              [0.01142573, 'C', 34, False],\n",
       "                              [0.00645802, 'C', 35, False],\n",
       "                              [0.00844511, 'C', 41, True]], dtype=object),\n",
       "               'type': 'bar',\n",
       "               'x': array([ 1, 12, 14, 15, 16, 22]),\n",
       "               'y': array([0.00596125, 0.09538003, 0.01838053, 0.01142573, 0.00645802, 0.00844511])},\n",
       "              {'error_y': {'array': array([0.00286501, 0.00227106, 0.00350694, 0.00227106, 0.00183253]),\n",
       "                           'arrayminus': array([0.00118297, 0.00048419, 0.00188679, 0.00048419, 0.        ]),\n",
       "                           'symmetric': False,\n",
       "                           'type': 'data'},\n",
       "               'hovertemplate': ('<b>mut_rate: %{text[0]}<br><b>' ... '}<br><b>paired: %{text[3]}<br>'),\n",
       "               'marker': {'color': 'green'},\n",
       "               'name': 'T',\n",
       "               'text': array([[0.00149031, 'T', 22, False],\n",
       "                              [0.00049677, 'T', 24, False],\n",
       "                              [0.00298063, 'T', 30, True],\n",
       "                              [0.00049677, 'T', 37, False],\n",
       "                              [0.0, 'T', 39, False]], dtype=object),\n",
       "               'type': 'bar',\n",
       "               'x': array([ 3,  5, 11, 18, 20]),\n",
       "               'y': array([0.00149031, 0.00049677, 0.00298063, 0.00049677, 0.        ])}],\n",
       "     'layout': {'template': '...',\n",
       "                'title': {'text': '470 - 3114-O-flank_1=hp7-DB - 0 - 0'},\n",
       "                'xaxis': {'autorange': True,\n",
       "                          'linecolor': 'black',\n",
       "                          'linewidth': 1,\n",
       "                          'mirror': True,\n",
       "                          'tickangle': 90,\n",
       "                          'ticktext': [(U) 19, (U) 20, (U) 21, (U) 22, (U) 23, (U)\n",
       "                                       24, (U) 25, (P) 26, (U) 27, (U) 28, (P) 29,\n",
       "                                       (P) 30, (P) 31, (P) 32, (U) 33, (U) 34, (U)\n",
       "                                       35, (U) 36, (U) 37, (U) 38, (U) 39, (U) 40,\n",
       "                                       (P) 41],\n",
       "                          'tickvals': array([ 0,  1,  2,  3,  4,  5,  6,  7,  8,  9, 10, 11, 12, 13, 14, 15, 16, 17,\n",
       "                                             18, 19, 20, 21, 22]),\n",
       "                          'title': {'text': 'Sequence'}},\n",
       "                'yaxis': {'autorange': True,\n",
       "                          'gridcolor': 'lightgray',\n",
       "                          'linecolor': 'black',\n",
       "                          'linewidth': 1,\n",
       "                          'mirror': True,\n",
       "                          'range': [0, 0.1],\n",
       "                          'title': {'text': 'Mutation rate'}}}\n",
       " }),\n",
       " 'df': Unnamed: 0                                                            0\n",
       " sample                                                              470\n",
       " construct                                         3114-O-flank_1=hp7-DB\n",
       " sequence                                        GCATATGAGGATCACCCATATGC\n",
       " structure                                       )((((((.((....)))))))).\n",
       "                                             ...                        \n",
       " section                                                               0\n",
       " structure_selected                              )((((((.((....)))))))).\n",
       " deltaG_selected                                                   -23.9\n",
       " index_selected        [19, 20, 21, 22, 23, 24, 25, 26, 27, 28, 29, 3...\n",
       " family                                                              hp7\n",
       " Name: 0, Length: 96, dtype: object}"
      ]
     },
     "execution_count": 2,
     "metadata": {},
     "output_type": "execute_result"
    }
   ],
   "source": [
    "study.mutation_histogram(sample=470, \n",
    "                         construct = '3114-O-flank_1=hp7-DB', \n",
    "                         show_ci=1, \n",
    "                         base_index = list(range(19,42)), \n",
    "                         savefile='test.html', \n",
    "                         auto_open = False)"
   ]
  },
  {
   "cell_type": "code",
   "execution_count": null,
   "metadata": {},
   "outputs": [
    {
     "ename": "NameError",
     "evalue": "name 'curve_fit' is not defined",
     "output_type": "error",
     "traceback": [
      "\u001b[0;31m---------------------------------------------------------------------------\u001b[0m",
      "\u001b[0;31mNameError\u001b[0m                                 Traceback (most recent call last)",
      "\u001b[1;32m/Users/ymdt/src/dreem_nap/ex/example.ipynb Cell 4\u001b[0m in \u001b[0;36m<cell line: 1>\u001b[0;34m()\u001b[0m\n\u001b[0;32m----> <a href='vscode-notebook-cell:/Users/ymdt/src/dreem_nap/ex/example.ipynb#W3sZmlsZQ%3D%3D?line=0'>1</a>\u001b[0m study\u001b[39m.\u001b[39;49mdeltaG_per_sample(sample\u001b[39m=\u001b[39;49m\u001b[39m470\u001b[39;49m,\n\u001b[1;32m      <a href='vscode-notebook-cell:/Users/ymdt/src/dreem_nap/ex/example.ipynb#W3sZmlsZQ%3D%3D?line=1'>2</a>\u001b[0m                         base_index\u001b[39m=\u001b[39;49m\u001b[39mlist\u001b[39;49m(\u001b[39mrange\u001b[39;49m(\u001b[39m19\u001b[39;49m,\u001b[39m42\u001b[39;49m)), \n\u001b[1;32m      <a href='vscode-notebook-cell:/Users/ymdt/src/dreem_nap/ex/example.ipynb#W3sZmlsZQ%3D%3D?line=2'>3</a>\u001b[0m                         base_type\u001b[39m=\u001b[39;49m[\u001b[39m'\u001b[39;49m\u001b[39mA\u001b[39;49m\u001b[39m'\u001b[39;49m,\u001b[39m'\u001b[39;49m\u001b[39mC\u001b[39;49m\u001b[39m'\u001b[39;49m], \n\u001b[1;32m      <a href='vscode-notebook-cell:/Users/ymdt/src/dreem_nap/ex/example.ipynb#W3sZmlsZQ%3D%3D?line=3'>4</a>\u001b[0m                         family\u001b[39m=\u001b[39;49m\u001b[39m'\u001b[39;49m\u001b[39mhp7\u001b[39;49m\u001b[39m'\u001b[39;49m, \n\u001b[1;32m      <a href='vscode-notebook-cell:/Users/ymdt/src/dreem_nap/ex/example.ipynb#W3sZmlsZQ%3D%3D?line=4'>5</a>\u001b[0m                         deltaG\u001b[39m=\u001b[39;49m\u001b[39m'\u001b[39;49m\u001b[39mdeltaG_min\u001b[39;49m\u001b[39m'\u001b[39;49m,\n\u001b[1;32m      <a href='vscode-notebook-cell:/Users/ymdt/src/dreem_nap/ex/example.ipynb#W3sZmlsZQ%3D%3D?line=5'>6</a>\u001b[0m                         savefile\u001b[39m=\u001b[39;49m\u001b[39m'\u001b[39;49m\u001b[39mtest.html\u001b[39;49m\u001b[39m'\u001b[39;49m, \n\u001b[1;32m      <a href='vscode-notebook-cell:/Users/ymdt/src/dreem_nap/ex/example.ipynb#W3sZmlsZQ%3D%3D?line=6'>7</a>\u001b[0m                         models\u001b[39m=\u001b[39;49m[\u001b[39m'\u001b[39;49m\u001b[39mlambda x, a, b: a*x + b\u001b[39;49m\u001b[39m'\u001b[39;49m, \u001b[39m'\u001b[39;49m\u001b[39mlambda x, a, b: a*x**2 + b*x\u001b[39;49m\u001b[39m'\u001b[39;49m],\n\u001b[1;32m      <a href='vscode-notebook-cell:/Users/ymdt/src/dreem_nap/ex/example.ipynb#W3sZmlsZQ%3D%3D?line=7'>8</a>\u001b[0m                         auto_open \u001b[39m=\u001b[39;49m \u001b[39mFalse\u001b[39;49;00m)\n",
      "File \u001b[0;32m~/src/dreem_nap/dreem_nap/study.py:148\u001b[0m, in \u001b[0;36mStudy.deltaG_per_sample\u001b[0;34m(self, **kwargs)\u001b[0m\n\u001b[1;32m    126\u001b[0m \u001b[39mdef\u001b[39;00m \u001b[39mdeltaG_per_sample\u001b[39m(\u001b[39mself\u001b[39m, \u001b[39m*\u001b[39m\u001b[39m*\u001b[39mkwargs)\u001b[39m-\u001b[39m\u001b[39m>\u001b[39mutil\u001b[39m.\u001b[39mOutputPlot:\n\u001b[1;32m    127\u001b[0m     \u001b[39m\"\"\"Plot the mutation rate of each paired-predicted base of the ROI for each construct of a sample, w.r.t the deltaG estimation.\u001b[39;00m\n\u001b[1;32m    128\u001b[0m \n\u001b[1;32m    129\u001b[0m \u001b[39m    Args:\u001b[39;00m\n\u001b[0;32m   (...)\u001b[0m\n\u001b[1;32m    146\u001b[0m \u001b[39m        OutputPlot: Figure and data of the output plot.\u001b[39;00m\n\u001b[1;32m    147\u001b[0m \u001b[39m    \"\"\"\u001b[39;00m\n\u001b[0;32m--> 148\u001b[0m     \u001b[39mreturn\u001b[39;00m plotter\u001b[39m.\u001b[39;49mdeltaG_per_sample(manipulator\u001b[39m.\u001b[39;49mget_df(\u001b[39mself\u001b[39;49m\u001b[39m.\u001b[39;49mdf, \u001b[39m*\u001b[39;49m\u001b[39m*\u001b[39;49m{k:v \u001b[39mfor\u001b[39;49;00m k,v \u001b[39min\u001b[39;49;00m kwargs\u001b[39m.\u001b[39;49mitems() \u001b[39mif\u001b[39;49;00m k \u001b[39min\u001b[39;49;00m \u001b[39mlist\u001b[39;49m(\u001b[39mself\u001b[39;49m\u001b[39m.\u001b[39;49mdf\u001b[39m.\u001b[39;49mcolumns)\u001b[39m+\u001b[39;49m \u001b[39mlist\u001b[39;49m(manipulator\u001b[39m.\u001b[39;49mget_df\u001b[39m.\u001b[39;49m\u001b[39m__code__\u001b[39;49m\u001b[39m.\u001b[39;49mco_varnames)}), \u001b[39m*\u001b[39;49m\u001b[39m*\u001b[39;49m{k:v \u001b[39mfor\u001b[39;49;00m k,v \u001b[39min\u001b[39;49;00m kwargs\u001b[39m.\u001b[39;49mitems() \u001b[39mif\u001b[39;49;00m k \u001b[39min\u001b[39;49;00m plotter\u001b[39m.\u001b[39;49mdeltaG_per_sample\u001b[39m.\u001b[39;49m\u001b[39m__code__\u001b[39;49m\u001b[39m.\u001b[39;49mco_varnames})\n",
      "File \u001b[0;32m~/src/dreem_nap/dreem_nap/plotter.py:133\u001b[0m, in \u001b[0;36mdeltaG_per_sample\u001b[0;34m(df, models, savefile, auto_open, use_iplot)\u001b[0m\n\u001b[1;32m    131\u001b[0m         \u001b[39mif\u001b[39;00m \u001b[39mlen\u001b[39m(y) \u001b[39m>\u001b[39m \u001b[39m0\u001b[39m:\n\u001b[1;32m    132\u001b[0m             fit \u001b[39m=\u001b[39m util\u001b[39m.\u001b[39mFit()\n\u001b[0;32m--> 133\u001b[0m             x_sorted, pred_y_sorted \u001b[39m=\u001b[39m fit\u001b[39m.\u001b[39;49mpredict(x,y,m, prefix)\n\u001b[1;32m    134\u001b[0m             tra[fit\u001b[39m.\u001b[39mget_legend()] \u001b[39m=\u001b[39m go\u001b[39m.\u001b[39mScatter(\n\u001b[1;32m    135\u001b[0m                 x\u001b[39m=\u001b[39mx_sorted,\n\u001b[1;32m    136\u001b[0m                 y\u001b[39m=\u001b[39mpred_y_sorted,\n\u001b[0;32m   (...)\u001b[0m\n\u001b[1;32m    139\u001b[0m                 marker\u001b[39m=\u001b[39m\u001b[39mdict\u001b[39m(symbol\u001b[39m=\u001b[39m\u001b[39mnext\u001b[39m(markers)),\n\u001b[1;32m    140\u001b[0m                 line\u001b[39m=\u001b[39m\u001b[39mdict\u001b[39m(color\u001b[39m=\u001b[39m\u001b[39m'\u001b[39m\u001b[39mdarkseagreen\u001b[39m\u001b[39m'\u001b[39m \u001b[39mif\u001b[39;00m is_paired \u001b[39melse\u001b[39;00m \u001b[39m'\u001b[39m\u001b[39mcrimson\u001b[39m\u001b[39m'\u001b[39m, dash\u001b[39m=\u001b[39m\u001b[39m'\u001b[39m\u001b[39mdash\u001b[39m\u001b[39m'\u001b[39m))\n\u001b[1;32m    142\u001b[0m layout \u001b[39m=\u001b[39m \u001b[39mdict\u001b[39m(title \u001b[39m=\u001b[39m \u001b[39m'\u001b[39m\u001b[39mMutation rates of paired / unpaired residues vs the predicted energy of the molecule\u001b[39m\u001b[39m'\u001b[39m,\n\u001b[1;32m    143\u001b[0m         xaxis\u001b[39m=\u001b[39m \u001b[39mdict\u001b[39m(title\u001b[39m=\u001b[39m \u001b[39m'\u001b[39m\u001b[39mDeltaG\u001b[39m\u001b[39m'\u001b[39m,ticklen\u001b[39m=\u001b[39m \u001b[39m5\u001b[39m,zeroline\u001b[39m=\u001b[39m \u001b[39mFalse\u001b[39;00m),\n\u001b[1;32m    144\u001b[0m         yaxis\u001b[39m=\u001b[39m \u001b[39mdict\u001b[39m(title\u001b[39m=\u001b[39m \u001b[39m'\u001b[39m\u001b[39mMutation rate \u001b[39m\u001b[39m'\u001b[39m,ticklen\u001b[39m=\u001b[39m \u001b[39m5\u001b[39m,zeroline\u001b[39m=\u001b[39m \u001b[39mFalse\u001b[39;00m),\n\u001b[1;32m    145\u001b[0m         )\n",
      "File \u001b[0;32m~/src/dreem_nap/dreem_nap/util.py:141\u001b[0m, in \u001b[0;36mFit.predict\u001b[0;34m(self, x, y, model, prefix, suffix)\u001b[0m\n\u001b[1;32m    140\u001b[0m \u001b[39mdef\u001b[39;00m \u001b[39mpredict\u001b[39m(\u001b[39mself\u001b[39m, x, y, model, prefix\u001b[39m=\u001b[39m\u001b[39m'\u001b[39m\u001b[39m'\u001b[39m, suffix\u001b[39m=\u001b[39m\u001b[39m'\u001b[39m\u001b[39m'\u001b[39m):\n\u001b[0;32m--> 141\u001b[0m     fit \u001b[39m=\u001b[39m \u001b[39mself\u001b[39;49m\u001b[39m.\u001b[39;49mfit(x,y,model)\n\u001b[1;32m    142\u001b[0m     m \u001b[39m=\u001b[39m \u001b[39meval\u001b[39m(model)\n\u001b[1;32m    143\u001b[0m     \u001b[39mtry\u001b[39;00m:\n",
      "File \u001b[0;32m~/src/dreem_nap/dreem_nap/util.py:153\u001b[0m, in \u001b[0;36mFit.fit\u001b[0;34m(self, x, y, model)\u001b[0m\n\u001b[1;32m    152\u001b[0m \u001b[39mdef\u001b[39;00m \u001b[39mfit\u001b[39m(\u001b[39mself\u001b[39m, x,y, model):\n\u001b[0;32m--> 153\u001b[0m     fit \u001b[39m=\u001b[39m curve_fit(\u001b[39meval\u001b[39m(model), x, y)[\u001b[39m0\u001b[39m]\n\u001b[1;32m    154\u001b[0m     \u001b[39mreturn\u001b[39;00m fit\n",
      "\u001b[0;31mNameError\u001b[0m: name 'curve_fit' is not defined"
     ]
    }
   ],
   "source": [
    "study.deltaG_per_sample(sample=470,\n",
    "                        base_index=list(range(19,42)), \n",
    "                        base_type=['A','C'], \n",
    "                        family='hp7', \n",
    "                        deltaG='deltaG_min',\n",
    "                        savefile='test.html', \n",
    "                        models=['lambda x, a, b: a*x + b', 'lambda x, a, b: a*x**2 + b*x'],\n",
    "                        auto_open = False)"
   ]
  },
  {
   "cell_type": "code",
   "execution_count": null,
   "metadata": {},
   "outputs": [
    {
     "data": {
      "application/vnd.plotly.v1+json": {
       "config": {
        "linkText": "Export to plot.ly",
        "plotlyServerURL": "https://plot.ly",
        "showLink": false
       },
       "data": [
        {
         "hovertemplate": "<b>base: %{text[0]}<br><b>mut_rates: %{text[1]}<br><b>sample: %{text[2]}<br><b>DMS_conc_mM: %{text[3]}<br><b>paired: %{text[4]}<br>",
         "line": {
          "color": "red"
         },
         "marker": {
          "symbol": [
           0,
           0,
           0,
           0,
           0,
           0,
           0,
           0,
           0,
           0,
           0,
           0,
           100,
           100,
           100,
           100,
           100,
           100,
           100,
           100,
           100,
           100,
           100,
           100,
           100,
           100,
           100,
           100,
           0,
           0,
           0,
           0,
           0,
           0,
           0,
           0,
           0,
           0,
           0,
           0,
           0,
           0,
           0,
           0,
           0,
           0,
           0,
           0,
           100,
           100,
           100,
           100
          ]
         },
         "mode": "lines+markers",
         "name": "(A,32)",
         "text": [
          [
           "C",
           0.0168244,
           472,
           169.1,
           true
          ],
          [
           "C",
           0.02966896,
           472,
           169.1,
           true
          ],
          [
           "C",
           0.00596125,
           470,
           169.1,
           true
          ],
          [
           "C",
           0.00498615,
           470,
           169.1,
           true
          ],
          [
           "A",
           0.00775623,
           470,
           169.1,
           true
          ],
          [
           "A",
           0.01892744,
           472,
           169.1,
           true
          ],
          [
           "A",
           0.01142573,
           470,
           169.1,
           true
          ],
          [
           "A",
           0.01717676,
           472,
           169.1,
           true
          ],
          [
           "A",
           0.01551247,
           470,
           169.1,
           true
          ],
          [
           "A",
           0.01752541,
           472,
           169.1,
           true
          ],
          [
           "A",
           0.00894188,
           470,
           169.1,
           true
          ],
          [
           "A",
           0.00905684,
           472,
           169.1,
           true
          ],
          [
           "A",
           0.04651163,
           470,
           169.1,
           false
          ],
          [
           "A",
           0.05017387,
           470,
           169.1,
           false
          ],
          [
           "A",
           0.03224676,
           472,
           169.1,
           false
          ],
          [
           "A",
           0.04278576,
           472,
           169.1,
           false
          ],
          [
           "A",
           0.10183805,
           470,
           169.1,
           false
          ],
          [
           "A",
           0.04840725,
           472,
           169.1,
           false
          ],
          [
           "A",
           0.0637925,
           472,
           169.1,
           false
          ],
          [
           "A",
           0.07751938,
           470,
           169.1,
           false
          ],
          [
           "C",
           0.07870081,
           472,
           169.1,
           false
          ],
          [
           "C",
           0.09966777,
           470,
           169.1,
           false
          ],
          [
           "C",
           0.07115317,
           472,
           169.1,
           false
          ],
          [
           "C",
           0.09538003,
           470,
           169.1,
           false
          ],
          [
           "A",
           0.07004471,
           470,
           169.1,
           false
          ],
          [
           "A",
           0.07183011,
           472,
           169.1,
           false
          ],
          [
           "A",
           0.05502979,
           472,
           169.1,
           false
          ],
          [
           "A",
           0.06090808,
           470,
           169.1,
           false
          ],
          [
           "C",
           0.03680336,
           472,
           169.1,
           true
          ],
          [
           "C",
           0.02998126,
           472,
           169.1,
           true
          ],
          [
           "C",
           0.01838053,
           470,
           169.1,
           true
          ],
          [
           "C",
           0.0166113,
           470,
           169.1,
           true
          ],
          [
           "C",
           0.01507185,
           472,
           169.1,
           true
          ],
          [
           "C",
           0.0055371,
           470,
           169.1,
           true
          ],
          [
           "C",
           0.01142573,
           470,
           169.1,
           true
          ],
          [
           "C",
           0.02779513,
           472,
           169.1,
           true
          ],
          [
           "C",
           0.01686446,
           472,
           169.1,
           true
          ],
          [
           "C",
           0.00645802,
           470,
           169.1,
           true
          ],
          [
           "C",
           0.00885936,
           470,
           169.1,
           true
          ],
          [
           "C",
           0.01787592,
           472,
           169.1,
           true
          ],
          [
           "A",
           0.00905684,
           472,
           169.1,
           true
          ],
          [
           "A",
           0.00844511,
           470,
           169.1,
           true
          ],
          [
           "A",
           0.00996678,
           470,
           169.1,
           true
          ],
          [
           "A",
           0.00771118,
           472,
           169.1,
           true
          ],
          [
           "A",
           0.0110742,
           470,
           169.1,
           true
          ],
          [
           "A",
           0.00844511,
           470,
           169.1,
           true
          ],
          [
           "A",
           0.00749532,
           472,
           169.1,
           true
          ],
          [
           "A",
           0.00736067,
           472,
           169.1,
           true
          ],
          [
           "C",
           0.02418507,
           472,
           169.1,
           false
          ],
          [
           "C",
           0.01162791,
           470,
           169.1,
           false
          ],
          [
           "C",
           0.02654591,
           472,
           169.1,
           false
          ],
          [
           "C",
           0.00844511,
           470,
           169.1,
           false
          ]
         ],
         "type": "scatter",
         "x": [
          169.1,
          169.1,
          169.1,
          169.1
         ],
         "y": [
          0.07004471,
          0.07183011,
          0.05502979,
          0.06090808
         ]
        },
        {
         "line": {
          "color": "red",
          "dash": "solid"
         },
         "mode": "lines",
         "name": "(A,32): 71.20915*x + -12041.40255\n R2=0.0",
         "type": "scatter",
         "x": [
          169.1,
          169.1,
          169.1,
          169.1
         ],
         "y": [
          0.0644531724992703,
          0.0644531724992703,
          0.0644531724992703,
          0.0644531724992703
         ]
        },
        {
         "line": {
          "color": "red",
          "dash": "dot"
         },
         "mode": "lines",
         "name": "(A,32): -0.00591*x**2 + 1.0*x\n R2=0.0",
         "type": "scatter",
         "x": [
          169.1,
          169.1,
          169.1,
          169.1
         ],
         "y": [
          0.0644531725000661,
          0.0644531725000661,
          0.0644531725000661,
          0.0644531725000661
         ]
        },
        {
         "hovertemplate": "<b>base: %{text[0]}<br><b>mut_rates: %{text[1]}<br><b>sample: %{text[2]}<br><b>DMS_conc_mM: %{text[3]}<br><b>paired: %{text[4]}<br>",
         "line": {
          "color": "green"
         },
         "marker": {
          "symbol": [
           0,
           0,
           0,
           0,
           0,
           0,
           0,
           0,
           0,
           0,
           0,
           0,
           100,
           100,
           100,
           100,
           100,
           100,
           100,
           100,
           100,
           100,
           100,
           100,
           100,
           100,
           100,
           100,
           0,
           0,
           0,
           0,
           0,
           0,
           0,
           0,
           0,
           0,
           0,
           0,
           0,
           0,
           0,
           0,
           0,
           0,
           0,
           0,
           100,
           100,
           100,
           100
          ]
         },
         "mode": "lines+markers",
         "name": "(C,33)",
         "text": [
          [
           "C",
           0.0168244,
           472,
           169.1,
           true
          ],
          [
           "C",
           0.02966896,
           472,
           169.1,
           true
          ],
          [
           "C",
           0.00596125,
           470,
           169.1,
           true
          ],
          [
           "C",
           0.00498615,
           470,
           169.1,
           true
          ],
          [
           "A",
           0.00775623,
           470,
           169.1,
           true
          ],
          [
           "A",
           0.01892744,
           472,
           169.1,
           true
          ],
          [
           "A",
           0.01142573,
           470,
           169.1,
           true
          ],
          [
           "A",
           0.01717676,
           472,
           169.1,
           true
          ],
          [
           "A",
           0.01551247,
           470,
           169.1,
           true
          ],
          [
           "A",
           0.01752541,
           472,
           169.1,
           true
          ],
          [
           "A",
           0.00894188,
           470,
           169.1,
           true
          ],
          [
           "A",
           0.00905684,
           472,
           169.1,
           true
          ],
          [
           "A",
           0.04651163,
           470,
           169.1,
           false
          ],
          [
           "A",
           0.05017387,
           470,
           169.1,
           false
          ],
          [
           "A",
           0.03224676,
           472,
           169.1,
           false
          ],
          [
           "A",
           0.04278576,
           472,
           169.1,
           false
          ],
          [
           "A",
           0.10183805,
           470,
           169.1,
           false
          ],
          [
           "A",
           0.04840725,
           472,
           169.1,
           false
          ],
          [
           "A",
           0.0637925,
           472,
           169.1,
           false
          ],
          [
           "A",
           0.07751938,
           470,
           169.1,
           false
          ],
          [
           "C",
           0.07870081,
           472,
           169.1,
           false
          ],
          [
           "C",
           0.09966777,
           470,
           169.1,
           false
          ],
          [
           "C",
           0.07115317,
           472,
           169.1,
           false
          ],
          [
           "C",
           0.09538003,
           470,
           169.1,
           false
          ],
          [
           "A",
           0.07004471,
           470,
           169.1,
           false
          ],
          [
           "A",
           0.07183011,
           472,
           169.1,
           false
          ],
          [
           "A",
           0.05502979,
           472,
           169.1,
           false
          ],
          [
           "A",
           0.06090808,
           470,
           169.1,
           false
          ],
          [
           "C",
           0.03680336,
           472,
           169.1,
           true
          ],
          [
           "C",
           0.02998126,
           472,
           169.1,
           true
          ],
          [
           "C",
           0.01838053,
           470,
           169.1,
           true
          ],
          [
           "C",
           0.0166113,
           470,
           169.1,
           true
          ],
          [
           "C",
           0.01507185,
           472,
           169.1,
           true
          ],
          [
           "C",
           0.0055371,
           470,
           169.1,
           true
          ],
          [
           "C",
           0.01142573,
           470,
           169.1,
           true
          ],
          [
           "C",
           0.02779513,
           472,
           169.1,
           true
          ],
          [
           "C",
           0.01686446,
           472,
           169.1,
           true
          ],
          [
           "C",
           0.00645802,
           470,
           169.1,
           true
          ],
          [
           "C",
           0.00885936,
           470,
           169.1,
           true
          ],
          [
           "C",
           0.01787592,
           472,
           169.1,
           true
          ],
          [
           "A",
           0.00905684,
           472,
           169.1,
           true
          ],
          [
           "A",
           0.00844511,
           470,
           169.1,
           true
          ],
          [
           "A",
           0.00996678,
           470,
           169.1,
           true
          ],
          [
           "A",
           0.00771118,
           472,
           169.1,
           true
          ],
          [
           "A",
           0.0110742,
           470,
           169.1,
           true
          ],
          [
           "A",
           0.00844511,
           470,
           169.1,
           true
          ],
          [
           "A",
           0.00749532,
           472,
           169.1,
           true
          ],
          [
           "A",
           0.00736067,
           472,
           169.1,
           true
          ],
          [
           "C",
           0.02418507,
           472,
           169.1,
           false
          ],
          [
           "C",
           0.01162791,
           470,
           169.1,
           false
          ],
          [
           "C",
           0.02654591,
           472,
           169.1,
           false
          ],
          [
           "C",
           0.00844511,
           470,
           169.1,
           false
          ]
         ],
         "type": "scatter",
         "x": [
          169.1,
          169.1,
          169.1,
          169.1
         ],
         "y": [
          0.03680336,
          0.02998126,
          0.01838053,
          0.0166113
         ]
        },
        {
         "line": {
          "color": "green",
          "dash": "solid"
         },
         "mode": "lines",
         "name": "(C,33): 99.49416*x + -16824.43642\n R2=0.0",
         "type": "scatter",
         "x": [
          169.1,
          169.1,
          169.1,
          169.1
         ],
         "y": [
          0.025444112499826588,
          0.025444112499826588,
          0.025444112499826588,
          0.025444112499826588
         ]
        },
        {
         "line": {
          "color": "green",
          "dash": "dot"
         },
         "mode": "lines",
         "name": "(C,33): -0.00591*x**2 + 1.0*x\n R2=0.0",
         "type": "scatter",
         "x": [
          169.1,
          169.1,
          169.1,
          169.1
         ],
         "y": [
          0.025444112499428684,
          0.025444112499428684,
          0.025444112499428684,
          0.025444112499428684
         ]
        },
        {
         "hovertemplate": "<b>base: %{text[0]}<br><b>mut_rates: %{text[1]}<br><b>sample: %{text[2]}<br><b>DMS_conc_mM: %{text[3]}<br><b>paired: %{text[4]}<br>",
         "line": {
          "color": "blue"
         },
         "marker": {
          "symbol": [
           0,
           0,
           0,
           0,
           0,
           0,
           0,
           0,
           0,
           0,
           0,
           0,
           100,
           100,
           100,
           100,
           100,
           100,
           100,
           100,
           100,
           100,
           100,
           100,
           100,
           100,
           100,
           100,
           0,
           0,
           0,
           0,
           0,
           0,
           0,
           0,
           0,
           0,
           0,
           0,
           0,
           0,
           0,
           0,
           0,
           0,
           0,
           0,
           100,
           100,
           100,
           100
          ]
         },
         "mode": "lines+markers",
         "name": "(C,34)",
         "text": [
          [
           "C",
           0.0168244,
           472,
           169.1,
           true
          ],
          [
           "C",
           0.02966896,
           472,
           169.1,
           true
          ],
          [
           "C",
           0.00596125,
           470,
           169.1,
           true
          ],
          [
           "C",
           0.00498615,
           470,
           169.1,
           true
          ],
          [
           "A",
           0.00775623,
           470,
           169.1,
           true
          ],
          [
           "A",
           0.01892744,
           472,
           169.1,
           true
          ],
          [
           "A",
           0.01142573,
           470,
           169.1,
           true
          ],
          [
           "A",
           0.01717676,
           472,
           169.1,
           true
          ],
          [
           "A",
           0.01551247,
           470,
           169.1,
           true
          ],
          [
           "A",
           0.01752541,
           472,
           169.1,
           true
          ],
          [
           "A",
           0.00894188,
           470,
           169.1,
           true
          ],
          [
           "A",
           0.00905684,
           472,
           169.1,
           true
          ],
          [
           "A",
           0.04651163,
           470,
           169.1,
           false
          ],
          [
           "A",
           0.05017387,
           470,
           169.1,
           false
          ],
          [
           "A",
           0.03224676,
           472,
           169.1,
           false
          ],
          [
           "A",
           0.04278576,
           472,
           169.1,
           false
          ],
          [
           "A",
           0.10183805,
           470,
           169.1,
           false
          ],
          [
           "A",
           0.04840725,
           472,
           169.1,
           false
          ],
          [
           "A",
           0.0637925,
           472,
           169.1,
           false
          ],
          [
           "A",
           0.07751938,
           470,
           169.1,
           false
          ],
          [
           "C",
           0.07870081,
           472,
           169.1,
           false
          ],
          [
           "C",
           0.09966777,
           470,
           169.1,
           false
          ],
          [
           "C",
           0.07115317,
           472,
           169.1,
           false
          ],
          [
           "C",
           0.09538003,
           470,
           169.1,
           false
          ],
          [
           "A",
           0.07004471,
           470,
           169.1,
           false
          ],
          [
           "A",
           0.07183011,
           472,
           169.1,
           false
          ],
          [
           "A",
           0.05502979,
           472,
           169.1,
           false
          ],
          [
           "A",
           0.06090808,
           470,
           169.1,
           false
          ],
          [
           "C",
           0.03680336,
           472,
           169.1,
           true
          ],
          [
           "C",
           0.02998126,
           472,
           169.1,
           true
          ],
          [
           "C",
           0.01838053,
           470,
           169.1,
           true
          ],
          [
           "C",
           0.0166113,
           470,
           169.1,
           true
          ],
          [
           "C",
           0.01507185,
           472,
           169.1,
           true
          ],
          [
           "C",
           0.0055371,
           470,
           169.1,
           true
          ],
          [
           "C",
           0.01142573,
           470,
           169.1,
           true
          ],
          [
           "C",
           0.02779513,
           472,
           169.1,
           true
          ],
          [
           "C",
           0.01686446,
           472,
           169.1,
           true
          ],
          [
           "C",
           0.00645802,
           470,
           169.1,
           true
          ],
          [
           "C",
           0.00885936,
           470,
           169.1,
           true
          ],
          [
           "C",
           0.01787592,
           472,
           169.1,
           true
          ],
          [
           "A",
           0.00905684,
           472,
           169.1,
           true
          ],
          [
           "A",
           0.00844511,
           470,
           169.1,
           true
          ],
          [
           "A",
           0.00996678,
           470,
           169.1,
           true
          ],
          [
           "A",
           0.00771118,
           472,
           169.1,
           true
          ],
          [
           "A",
           0.0110742,
           470,
           169.1,
           true
          ],
          [
           "A",
           0.00844511,
           470,
           169.1,
           true
          ],
          [
           "A",
           0.00749532,
           472,
           169.1,
           true
          ],
          [
           "A",
           0.00736067,
           472,
           169.1,
           true
          ],
          [
           "C",
           0.02418507,
           472,
           169.1,
           false
          ],
          [
           "C",
           0.01162791,
           470,
           169.1,
           false
          ],
          [
           "C",
           0.02654591,
           472,
           169.1,
           false
          ],
          [
           "C",
           0.00844511,
           470,
           169.1,
           false
          ]
         ],
         "type": "scatter",
         "x": [
          169.1,
          169.1,
          169.1,
          169.1
         ],
         "y": [
          0.01507185,
          0.0055371,
          0.01142573,
          0.02779513
         ]
        },
        {
         "line": {
          "color": "blue",
          "dash": "solid"
         },
         "mode": "lines",
         "name": "(C,34): 71.209*x + -12041.4273\n R2=0.0",
         "type": "scatter",
         "x": [
          169.1,
          169.1,
          169.1,
          169.1
         ],
         "y": [
          0.014957452500311774,
          0.014957452500311774,
          0.014957452500311774,
          0.014957452500311774
         ]
        },
        {
         "line": {
          "color": "blue",
          "dash": "dot"
         },
         "mode": "lines",
         "name": "(C,34): -0.00591*x**2 + 1.0*x\n R2=0.0",
         "type": "scatter",
         "x": [
          169.1,
          169.1,
          169.1,
          169.1
         ],
         "y": [
          0.014957452500055979,
          0.014957452500055979,
          0.014957452500055979,
          0.014957452500055979
         ]
        },
        {
         "hovertemplate": "<b>base: %{text[0]}<br><b>mut_rates: %{text[1]}<br><b>sample: %{text[2]}<br><b>DMS_conc_mM: %{text[3]}<br><b>paired: %{text[4]}<br>",
         "line": {
          "color": "orange"
         },
         "marker": {
          "symbol": [
           0,
           0,
           0,
           0,
           0,
           0,
           0,
           0,
           0,
           0,
           0,
           0,
           100,
           100,
           100,
           100,
           100,
           100,
           100,
           100,
           100,
           100,
           100,
           100,
           100,
           100,
           100,
           100,
           0,
           0,
           0,
           0,
           0,
           0,
           0,
           0,
           0,
           0,
           0,
           0,
           0,
           0,
           0,
           0,
           0,
           0,
           0,
           0,
           100,
           100,
           100,
           100
          ]
         },
         "mode": "lines+markers",
         "name": "(C,35)",
         "text": [
          [
           "C",
           0.0168244,
           472,
           169.1,
           true
          ],
          [
           "C",
           0.02966896,
           472,
           169.1,
           true
          ],
          [
           "C",
           0.00596125,
           470,
           169.1,
           true
          ],
          [
           "C",
           0.00498615,
           470,
           169.1,
           true
          ],
          [
           "A",
           0.00775623,
           470,
           169.1,
           true
          ],
          [
           "A",
           0.01892744,
           472,
           169.1,
           true
          ],
          [
           "A",
           0.01142573,
           470,
           169.1,
           true
          ],
          [
           "A",
           0.01717676,
           472,
           169.1,
           true
          ],
          [
           "A",
           0.01551247,
           470,
           169.1,
           true
          ],
          [
           "A",
           0.01752541,
           472,
           169.1,
           true
          ],
          [
           "A",
           0.00894188,
           470,
           169.1,
           true
          ],
          [
           "A",
           0.00905684,
           472,
           169.1,
           true
          ],
          [
           "A",
           0.04651163,
           470,
           169.1,
           false
          ],
          [
           "A",
           0.05017387,
           470,
           169.1,
           false
          ],
          [
           "A",
           0.03224676,
           472,
           169.1,
           false
          ],
          [
           "A",
           0.04278576,
           472,
           169.1,
           false
          ],
          [
           "A",
           0.10183805,
           470,
           169.1,
           false
          ],
          [
           "A",
           0.04840725,
           472,
           169.1,
           false
          ],
          [
           "A",
           0.0637925,
           472,
           169.1,
           false
          ],
          [
           "A",
           0.07751938,
           470,
           169.1,
           false
          ],
          [
           "C",
           0.07870081,
           472,
           169.1,
           false
          ],
          [
           "C",
           0.09966777,
           470,
           169.1,
           false
          ],
          [
           "C",
           0.07115317,
           472,
           169.1,
           false
          ],
          [
           "C",
           0.09538003,
           470,
           169.1,
           false
          ],
          [
           "A",
           0.07004471,
           470,
           169.1,
           false
          ],
          [
           "A",
           0.07183011,
           472,
           169.1,
           false
          ],
          [
           "A",
           0.05502979,
           472,
           169.1,
           false
          ],
          [
           "A",
           0.06090808,
           470,
           169.1,
           false
          ],
          [
           "C",
           0.03680336,
           472,
           169.1,
           true
          ],
          [
           "C",
           0.02998126,
           472,
           169.1,
           true
          ],
          [
           "C",
           0.01838053,
           470,
           169.1,
           true
          ],
          [
           "C",
           0.0166113,
           470,
           169.1,
           true
          ],
          [
           "C",
           0.01507185,
           472,
           169.1,
           true
          ],
          [
           "C",
           0.0055371,
           470,
           169.1,
           true
          ],
          [
           "C",
           0.01142573,
           470,
           169.1,
           true
          ],
          [
           "C",
           0.02779513,
           472,
           169.1,
           true
          ],
          [
           "C",
           0.01686446,
           472,
           169.1,
           true
          ],
          [
           "C",
           0.00645802,
           470,
           169.1,
           true
          ],
          [
           "C",
           0.00885936,
           470,
           169.1,
           true
          ],
          [
           "C",
           0.01787592,
           472,
           169.1,
           true
          ],
          [
           "A",
           0.00905684,
           472,
           169.1,
           true
          ],
          [
           "A",
           0.00844511,
           470,
           169.1,
           true
          ],
          [
           "A",
           0.00996678,
           470,
           169.1,
           true
          ],
          [
           "A",
           0.00771118,
           472,
           169.1,
           true
          ],
          [
           "A",
           0.0110742,
           470,
           169.1,
           true
          ],
          [
           "A",
           0.00844511,
           470,
           169.1,
           true
          ],
          [
           "A",
           0.00749532,
           472,
           169.1,
           true
          ],
          [
           "A",
           0.00736067,
           472,
           169.1,
           true
          ],
          [
           "C",
           0.02418507,
           472,
           169.1,
           false
          ],
          [
           "C",
           0.01162791,
           470,
           169.1,
           false
          ],
          [
           "C",
           0.02654591,
           472,
           169.1,
           false
          ],
          [
           "C",
           0.00844511,
           470,
           169.1,
           false
          ]
         ],
         "type": "scatter",
         "x": [
          169.1,
          169.1,
          169.1,
          169.1
         ],
         "y": [
          0.01686446,
          0.00645802,
          0.00885936,
          0.01787592
         ]
        },
        {
         "line": {
          "color": "orange",
          "dash": "solid"
         },
         "mode": "lines",
         "name": "(C,35): 57.06661*x + -9649.95154\n R2=0.0",
         "type": "scatter",
         "x": [
          169.1,
          169.1,
          169.1,
          169.1
         ],
         "y": [
          0.01251443999899493,
          0.01251443999899493,
          0.01251443999899493,
          0.01251443999899493
         ]
        },
        {
         "line": {
          "color": "orange",
          "dash": "dot"
         },
         "mode": "lines",
         "name": "(C,35): -0.00591*x**2 + 1.0*x\n R2=0.0",
         "type": "scatter",
         "x": [
          169.1,
          169.1,
          169.1,
          169.1
         ],
         "y": [
          0.01251444000016022,
          0.01251444000016022,
          0.01251444000016022,
          0.01251444000016022
         ]
        },
        {
         "hovertemplate": "<b>base: %{text[0]}<br><b>mut_rates: %{text[1]}<br><b>sample: %{text[2]}<br><b>DMS_conc_mM: %{text[3]}<br><b>paired: %{text[4]}<br>",
         "line": {
          "color": "purple"
         },
         "marker": {
          "symbol": [
           0,
           0,
           0,
           0,
           0,
           0,
           0,
           0,
           0,
           0,
           0,
           0,
           100,
           100,
           100,
           100,
           100,
           100,
           100,
           100,
           100,
           100,
           100,
           100,
           100,
           100,
           100,
           100,
           0,
           0,
           0,
           0,
           0,
           0,
           0,
           0,
           0,
           0,
           0,
           0,
           0,
           0,
           0,
           0,
           0,
           0,
           0,
           0,
           100,
           100,
           100,
           100
          ]
         },
         "mode": "lines+markers",
         "name": "(A,36)",
         "text": [
          [
           "C",
           0.0168244,
           472,
           169.1,
           true
          ],
          [
           "C",
           0.02966896,
           472,
           169.1,
           true
          ],
          [
           "C",
           0.00596125,
           470,
           169.1,
           true
          ],
          [
           "C",
           0.00498615,
           470,
           169.1,
           true
          ],
          [
           "A",
           0.00775623,
           470,
           169.1,
           true
          ],
          [
           "A",
           0.01892744,
           472,
           169.1,
           true
          ],
          [
           "A",
           0.01142573,
           470,
           169.1,
           true
          ],
          [
           "A",
           0.01717676,
           472,
           169.1,
           true
          ],
          [
           "A",
           0.01551247,
           470,
           169.1,
           true
          ],
          [
           "A",
           0.01752541,
           472,
           169.1,
           true
          ],
          [
           "A",
           0.00894188,
           470,
           169.1,
           true
          ],
          [
           "A",
           0.00905684,
           472,
           169.1,
           true
          ],
          [
           "A",
           0.04651163,
           470,
           169.1,
           false
          ],
          [
           "A",
           0.05017387,
           470,
           169.1,
           false
          ],
          [
           "A",
           0.03224676,
           472,
           169.1,
           false
          ],
          [
           "A",
           0.04278576,
           472,
           169.1,
           false
          ],
          [
           "A",
           0.10183805,
           470,
           169.1,
           false
          ],
          [
           "A",
           0.04840725,
           472,
           169.1,
           false
          ],
          [
           "A",
           0.0637925,
           472,
           169.1,
           false
          ],
          [
           "A",
           0.07751938,
           470,
           169.1,
           false
          ],
          [
           "C",
           0.07870081,
           472,
           169.1,
           false
          ],
          [
           "C",
           0.09966777,
           470,
           169.1,
           false
          ],
          [
           "C",
           0.07115317,
           472,
           169.1,
           false
          ],
          [
           "C",
           0.09538003,
           470,
           169.1,
           false
          ],
          [
           "A",
           0.07004471,
           470,
           169.1,
           false
          ],
          [
           "A",
           0.07183011,
           472,
           169.1,
           false
          ],
          [
           "A",
           0.05502979,
           472,
           169.1,
           false
          ],
          [
           "A",
           0.06090808,
           470,
           169.1,
           false
          ],
          [
           "C",
           0.03680336,
           472,
           169.1,
           true
          ],
          [
           "C",
           0.02998126,
           472,
           169.1,
           true
          ],
          [
           "C",
           0.01838053,
           470,
           169.1,
           true
          ],
          [
           "C",
           0.0166113,
           470,
           169.1,
           true
          ],
          [
           "C",
           0.01507185,
           472,
           169.1,
           true
          ],
          [
           "C",
           0.0055371,
           470,
           169.1,
           true
          ],
          [
           "C",
           0.01142573,
           470,
           169.1,
           true
          ],
          [
           "C",
           0.02779513,
           472,
           169.1,
           true
          ],
          [
           "C",
           0.01686446,
           472,
           169.1,
           true
          ],
          [
           "C",
           0.00645802,
           470,
           169.1,
           true
          ],
          [
           "C",
           0.00885936,
           470,
           169.1,
           true
          ],
          [
           "C",
           0.01787592,
           472,
           169.1,
           true
          ],
          [
           "A",
           0.00905684,
           472,
           169.1,
           true
          ],
          [
           "A",
           0.00844511,
           470,
           169.1,
           true
          ],
          [
           "A",
           0.00996678,
           470,
           169.1,
           true
          ],
          [
           "A",
           0.00771118,
           472,
           169.1,
           true
          ],
          [
           "A",
           0.0110742,
           470,
           169.1,
           true
          ],
          [
           "A",
           0.00844511,
           470,
           169.1,
           true
          ],
          [
           "A",
           0.00749532,
           472,
           169.1,
           true
          ],
          [
           "A",
           0.00736067,
           472,
           169.1,
           true
          ],
          [
           "C",
           0.02418507,
           472,
           169.1,
           false
          ],
          [
           "C",
           0.01162791,
           470,
           169.1,
           false
          ],
          [
           "C",
           0.02654591,
           472,
           169.1,
           false
          ],
          [
           "C",
           0.00844511,
           470,
           169.1,
           false
          ]
         ],
         "type": "scatter",
         "x": [
          169.1,
          169.1,
          169.1,
          169.1
         ],
         "y": [
          0.00905684,
          0.00844511,
          0.00996678,
          0.00771118
         ]
        },
        {
         "line": {
          "color": "purple",
          "dash": "solid"
         },
         "mode": "lines",
         "name": "(A,36): 71.20898*x + -12041.43038\n R2=0.0",
         "type": "scatter",
         "x": [
          169.1,
          169.1,
          169.1,
          169.1
         ],
         "y": [
          0.008794977498837397,
          0.008794977498837397,
          0.008794977498837397,
          0.008794977498837397
         ]
        },
        {
         "line": {
          "color": "purple",
          "dash": "dot"
         },
         "mode": "lines",
         "name": "(A,36): -0.00591*x**2 + 1.0*x\n R2=0.0",
         "type": "scatter",
         "x": [
          169.1,
          169.1,
          169.1,
          169.1
         ],
         "y": [
          0.008794977500116374,
          0.008794977500116374,
          0.008794977500116374,
          0.008794977500116374
         ]
        },
        {
         "hovertemplate": "<b>base: %{text[0]}<br><b>mut_rates: %{text[1]}<br><b>sample: %{text[2]}<br><b>DMS_conc_mM: %{text[3]}<br><b>paired: %{text[4]}<br>",
         "line": {
          "color": "black"
         },
         "marker": {
          "symbol": [
           0,
           0,
           0,
           0,
           0,
           0,
           0,
           0,
           0,
           0,
           0,
           0,
           100,
           100,
           100,
           100,
           100,
           100,
           100,
           100,
           100,
           100,
           100,
           100,
           100,
           100,
           100,
           100,
           0,
           0,
           0,
           0,
           0,
           0,
           0,
           0,
           0,
           0,
           0,
           0,
           0,
           0,
           0,
           0,
           0,
           0,
           0,
           0,
           100,
           100,
           100,
           100
          ]
         },
         "mode": "lines+markers",
         "name": "(A,38)",
         "text": [
          [
           "C",
           0.0168244,
           472,
           169.1,
           true
          ],
          [
           "C",
           0.02966896,
           472,
           169.1,
           true
          ],
          [
           "C",
           0.00596125,
           470,
           169.1,
           true
          ],
          [
           "C",
           0.00498615,
           470,
           169.1,
           true
          ],
          [
           "A",
           0.00775623,
           470,
           169.1,
           true
          ],
          [
           "A",
           0.01892744,
           472,
           169.1,
           true
          ],
          [
           "A",
           0.01142573,
           470,
           169.1,
           true
          ],
          [
           "A",
           0.01717676,
           472,
           169.1,
           true
          ],
          [
           "A",
           0.01551247,
           470,
           169.1,
           true
          ],
          [
           "A",
           0.01752541,
           472,
           169.1,
           true
          ],
          [
           "A",
           0.00894188,
           470,
           169.1,
           true
          ],
          [
           "A",
           0.00905684,
           472,
           169.1,
           true
          ],
          [
           "A",
           0.04651163,
           470,
           169.1,
           false
          ],
          [
           "A",
           0.05017387,
           470,
           169.1,
           false
          ],
          [
           "A",
           0.03224676,
           472,
           169.1,
           false
          ],
          [
           "A",
           0.04278576,
           472,
           169.1,
           false
          ],
          [
           "A",
           0.10183805,
           470,
           169.1,
           false
          ],
          [
           "A",
           0.04840725,
           472,
           169.1,
           false
          ],
          [
           "A",
           0.0637925,
           472,
           169.1,
           false
          ],
          [
           "A",
           0.07751938,
           470,
           169.1,
           false
          ],
          [
           "C",
           0.07870081,
           472,
           169.1,
           false
          ],
          [
           "C",
           0.09966777,
           470,
           169.1,
           false
          ],
          [
           "C",
           0.07115317,
           472,
           169.1,
           false
          ],
          [
           "C",
           0.09538003,
           470,
           169.1,
           false
          ],
          [
           "A",
           0.07004471,
           470,
           169.1,
           false
          ],
          [
           "A",
           0.07183011,
           472,
           169.1,
           false
          ],
          [
           "A",
           0.05502979,
           472,
           169.1,
           false
          ],
          [
           "A",
           0.06090808,
           470,
           169.1,
           false
          ],
          [
           "C",
           0.03680336,
           472,
           169.1,
           true
          ],
          [
           "C",
           0.02998126,
           472,
           169.1,
           true
          ],
          [
           "C",
           0.01838053,
           470,
           169.1,
           true
          ],
          [
           "C",
           0.0166113,
           470,
           169.1,
           true
          ],
          [
           "C",
           0.01507185,
           472,
           169.1,
           true
          ],
          [
           "C",
           0.0055371,
           470,
           169.1,
           true
          ],
          [
           "C",
           0.01142573,
           470,
           169.1,
           true
          ],
          [
           "C",
           0.02779513,
           472,
           169.1,
           true
          ],
          [
           "C",
           0.01686446,
           472,
           169.1,
           true
          ],
          [
           "C",
           0.00645802,
           470,
           169.1,
           true
          ],
          [
           "C",
           0.00885936,
           470,
           169.1,
           true
          ],
          [
           "C",
           0.01787592,
           472,
           169.1,
           true
          ],
          [
           "A",
           0.00905684,
           472,
           169.1,
           true
          ],
          [
           "A",
           0.00844511,
           470,
           169.1,
           true
          ],
          [
           "A",
           0.00996678,
           470,
           169.1,
           true
          ],
          [
           "A",
           0.00771118,
           472,
           169.1,
           true
          ],
          [
           "A",
           0.0110742,
           470,
           169.1,
           true
          ],
          [
           "A",
           0.00844511,
           470,
           169.1,
           true
          ],
          [
           "A",
           0.00749532,
           472,
           169.1,
           true
          ],
          [
           "A",
           0.00736067,
           472,
           169.1,
           true
          ],
          [
           "C",
           0.02418507,
           472,
           169.1,
           false
          ],
          [
           "C",
           0.01162791,
           470,
           169.1,
           false
          ],
          [
           "C",
           0.02654591,
           472,
           169.1,
           false
          ],
          [
           "C",
           0.00844511,
           470,
           169.1,
           false
          ]
         ],
         "type": "scatter",
         "x": [
          169.1,
          169.1,
          169.1,
          169.1
         ],
         "y": [
          0.0110742,
          0.00844511,
          0.00749532,
          0.00736067
         ]
        },
        {
         "line": {
          "color": "black",
          "dash": "solid"
         },
         "mode": "lines",
         "name": "(A,38): 71.20898*x + -12041.43048\n R2=0.0",
         "type": "scatter",
         "x": [
          169.1,
          169.1,
          169.1,
          169.1
         ],
         "y": [
          0.008593825001298683,
          0.008593825001298683,
          0.008593825001298683,
          0.008593825001298683
         ]
        },
        {
         "line": {
          "color": "black",
          "dash": "dot"
         },
         "mode": "lines",
         "name": "(A,38): -0.00591*x**2 + 1.0*x\n R2=0.0",
         "type": "scatter",
         "x": [
          169.1,
          169.1,
          169.1,
          169.1
         ],
         "y": [
          0.008593825000502875,
          0.008593825000502875,
          0.008593825000502875,
          0.008593825000502875
         ]
        },
        {
         "hovertemplate": "<b>base: %{text[0]}<br><b>mut_rates: %{text[1]}<br><b>sample: %{text[2]}<br><b>DMS_conc_mM: %{text[3]}<br><b>paired: %{text[4]}<br>",
         "line": {
          "color": "yellow"
         },
         "marker": {
          "symbol": [
           0,
           0,
           0,
           0,
           0,
           0,
           0,
           0,
           0,
           0,
           0,
           0,
           100,
           100,
           100,
           100,
           100,
           100,
           100,
           100,
           100,
           100,
           100,
           100,
           100,
           100,
           100,
           100,
           0,
           0,
           0,
           0,
           0,
           0,
           0,
           0,
           0,
           0,
           0,
           0,
           0,
           0,
           0,
           0,
           0,
           0,
           0,
           0,
           100,
           100,
           100,
           100
          ]
         },
         "mode": "lines+markers",
         "name": "(C,41)",
         "text": [
          [
           "C",
           0.0168244,
           472,
           169.1,
           true
          ],
          [
           "C",
           0.02966896,
           472,
           169.1,
           true
          ],
          [
           "C",
           0.00596125,
           470,
           169.1,
           true
          ],
          [
           "C",
           0.00498615,
           470,
           169.1,
           true
          ],
          [
           "A",
           0.00775623,
           470,
           169.1,
           true
          ],
          [
           "A",
           0.01892744,
           472,
           169.1,
           true
          ],
          [
           "A",
           0.01142573,
           470,
           169.1,
           true
          ],
          [
           "A",
           0.01717676,
           472,
           169.1,
           true
          ],
          [
           "A",
           0.01551247,
           470,
           169.1,
           true
          ],
          [
           "A",
           0.01752541,
           472,
           169.1,
           true
          ],
          [
           "A",
           0.00894188,
           470,
           169.1,
           true
          ],
          [
           "A",
           0.00905684,
           472,
           169.1,
           true
          ],
          [
           "A",
           0.04651163,
           470,
           169.1,
           false
          ],
          [
           "A",
           0.05017387,
           470,
           169.1,
           false
          ],
          [
           "A",
           0.03224676,
           472,
           169.1,
           false
          ],
          [
           "A",
           0.04278576,
           472,
           169.1,
           false
          ],
          [
           "A",
           0.10183805,
           470,
           169.1,
           false
          ],
          [
           "A",
           0.04840725,
           472,
           169.1,
           false
          ],
          [
           "A",
           0.0637925,
           472,
           169.1,
           false
          ],
          [
           "A",
           0.07751938,
           470,
           169.1,
           false
          ],
          [
           "C",
           0.07870081,
           472,
           169.1,
           false
          ],
          [
           "C",
           0.09966777,
           470,
           169.1,
           false
          ],
          [
           "C",
           0.07115317,
           472,
           169.1,
           false
          ],
          [
           "C",
           0.09538003,
           470,
           169.1,
           false
          ],
          [
           "A",
           0.07004471,
           470,
           169.1,
           false
          ],
          [
           "A",
           0.07183011,
           472,
           169.1,
           false
          ],
          [
           "A",
           0.05502979,
           472,
           169.1,
           false
          ],
          [
           "A",
           0.06090808,
           470,
           169.1,
           false
          ],
          [
           "C",
           0.03680336,
           472,
           169.1,
           true
          ],
          [
           "C",
           0.02998126,
           472,
           169.1,
           true
          ],
          [
           "C",
           0.01838053,
           470,
           169.1,
           true
          ],
          [
           "C",
           0.0166113,
           470,
           169.1,
           true
          ],
          [
           "C",
           0.01507185,
           472,
           169.1,
           true
          ],
          [
           "C",
           0.0055371,
           470,
           169.1,
           true
          ],
          [
           "C",
           0.01142573,
           470,
           169.1,
           true
          ],
          [
           "C",
           0.02779513,
           472,
           169.1,
           true
          ],
          [
           "C",
           0.01686446,
           472,
           169.1,
           true
          ],
          [
           "C",
           0.00645802,
           470,
           169.1,
           true
          ],
          [
           "C",
           0.00885936,
           470,
           169.1,
           true
          ],
          [
           "C",
           0.01787592,
           472,
           169.1,
           true
          ],
          [
           "A",
           0.00905684,
           472,
           169.1,
           true
          ],
          [
           "A",
           0.00844511,
           470,
           169.1,
           true
          ],
          [
           "A",
           0.00996678,
           470,
           169.1,
           true
          ],
          [
           "A",
           0.00771118,
           472,
           169.1,
           true
          ],
          [
           "A",
           0.0110742,
           470,
           169.1,
           true
          ],
          [
           "A",
           0.00844511,
           470,
           169.1,
           true
          ],
          [
           "A",
           0.00749532,
           472,
           169.1,
           true
          ],
          [
           "A",
           0.00736067,
           472,
           169.1,
           true
          ],
          [
           "C",
           0.02418507,
           472,
           169.1,
           false
          ],
          [
           "C",
           0.01162791,
           470,
           169.1,
           false
          ],
          [
           "C",
           0.02654591,
           472,
           169.1,
           false
          ],
          [
           "C",
           0.00844511,
           470,
           169.1,
           false
          ]
         ],
         "type": "scatter",
         "x": [
          169.1,
          169.1,
          169.1,
          169.1
         ],
         "y": [
          0.02418507,
          0.01162791,
          0.02654591,
          0.00844511
         ]
        },
        {
         "line": {
          "color": "yellow",
          "dash": "solid"
         },
         "mode": "lines",
         "name": "(C,41): 64.79587*x + -10956.96357\n R2=0.0",
         "type": "scatter",
         "x": [
          169.1,
          169.1,
          169.1,
          169.1
         ],
         "y": [
          0.01770100000067032,
          0.01770100000067032,
          0.01770100000067032,
          0.01770100000067032
         ]
        },
        {
         "line": {
          "color": "yellow",
          "dash": "dot"
         },
         "mode": "lines",
         "name": "(C,41): -0.00591*x**2 + 1.0*x\n R2=0.0",
         "type": "scatter",
         "x": [
          169.1,
          169.1,
          169.1,
          169.1
         ],
         "y": [
          0.017700999999448186,
          0.017700999999448186,
          0.017700999999448186,
          0.017700999999448186
         ]
        },
        {
         "hovertemplate": "<b>base: %{text[0]}<br><b>mut_rates: %{text[1]}<br><b>sample: %{text[2]}<br><b>DMS_conc_mM: %{text[3]}<br><b>paired: %{text[4]}<br>",
         "line": {
          "color": "pink"
         },
         "marker": {
          "symbol": [
           0,
           0,
           0,
           0,
           0,
           0,
           0,
           0,
           0,
           0,
           0,
           0,
           100,
           100,
           100,
           100,
           100,
           100,
           100,
           100,
           100,
           100,
           100,
           100,
           100,
           100,
           100,
           100,
           0,
           0,
           0,
           0,
           0,
           0,
           0,
           0,
           0,
           0,
           0,
           0,
           0,
           0,
           0,
           0,
           0,
           0,
           0,
           0,
           100,
           100,
           100,
           100
          ]
         },
         "mode": "lines+markers",
         "name": "(C,20)",
         "text": [
          [
           "C",
           0.0168244,
           472,
           169.1,
           true
          ],
          [
           "C",
           0.02966896,
           472,
           169.1,
           true
          ],
          [
           "C",
           0.00596125,
           470,
           169.1,
           true
          ],
          [
           "C",
           0.00498615,
           470,
           169.1,
           true
          ],
          [
           "A",
           0.00775623,
           470,
           169.1,
           true
          ],
          [
           "A",
           0.01892744,
           472,
           169.1,
           true
          ],
          [
           "A",
           0.01142573,
           470,
           169.1,
           true
          ],
          [
           "A",
           0.01717676,
           472,
           169.1,
           true
          ],
          [
           "A",
           0.01551247,
           470,
           169.1,
           true
          ],
          [
           "A",
           0.01752541,
           472,
           169.1,
           true
          ],
          [
           "A",
           0.00894188,
           470,
           169.1,
           true
          ],
          [
           "A",
           0.00905684,
           472,
           169.1,
           true
          ],
          [
           "A",
           0.04651163,
           470,
           169.1,
           false
          ],
          [
           "A",
           0.05017387,
           470,
           169.1,
           false
          ],
          [
           "A",
           0.03224676,
           472,
           169.1,
           false
          ],
          [
           "A",
           0.04278576,
           472,
           169.1,
           false
          ],
          [
           "A",
           0.10183805,
           470,
           169.1,
           false
          ],
          [
           "A",
           0.04840725,
           472,
           169.1,
           false
          ],
          [
           "A",
           0.0637925,
           472,
           169.1,
           false
          ],
          [
           "A",
           0.07751938,
           470,
           169.1,
           false
          ],
          [
           "C",
           0.07870081,
           472,
           169.1,
           false
          ],
          [
           "C",
           0.09966777,
           470,
           169.1,
           false
          ],
          [
           "C",
           0.07115317,
           472,
           169.1,
           false
          ],
          [
           "C",
           0.09538003,
           470,
           169.1,
           false
          ],
          [
           "A",
           0.07004471,
           470,
           169.1,
           false
          ],
          [
           "A",
           0.07183011,
           472,
           169.1,
           false
          ],
          [
           "A",
           0.05502979,
           472,
           169.1,
           false
          ],
          [
           "A",
           0.06090808,
           470,
           169.1,
           false
          ],
          [
           "C",
           0.03680336,
           472,
           169.1,
           true
          ],
          [
           "C",
           0.02998126,
           472,
           169.1,
           true
          ],
          [
           "C",
           0.01838053,
           470,
           169.1,
           true
          ],
          [
           "C",
           0.0166113,
           470,
           169.1,
           true
          ],
          [
           "C",
           0.01507185,
           472,
           169.1,
           true
          ],
          [
           "C",
           0.0055371,
           470,
           169.1,
           true
          ],
          [
           "C",
           0.01142573,
           470,
           169.1,
           true
          ],
          [
           "C",
           0.02779513,
           472,
           169.1,
           true
          ],
          [
           "C",
           0.01686446,
           472,
           169.1,
           true
          ],
          [
           "C",
           0.00645802,
           470,
           169.1,
           true
          ],
          [
           "C",
           0.00885936,
           470,
           169.1,
           true
          ],
          [
           "C",
           0.01787592,
           472,
           169.1,
           true
          ],
          [
           "A",
           0.00905684,
           472,
           169.1,
           true
          ],
          [
           "A",
           0.00844511,
           470,
           169.1,
           true
          ],
          [
           "A",
           0.00996678,
           470,
           169.1,
           true
          ],
          [
           "A",
           0.00771118,
           472,
           169.1,
           true
          ],
          [
           "A",
           0.0110742,
           470,
           169.1,
           true
          ],
          [
           "A",
           0.00844511,
           470,
           169.1,
           true
          ],
          [
           "A",
           0.00749532,
           472,
           169.1,
           true
          ],
          [
           "A",
           0.00736067,
           472,
           169.1,
           true
          ],
          [
           "C",
           0.02418507,
           472,
           169.1,
           false
          ],
          [
           "C",
           0.01162791,
           470,
           169.1,
           false
          ],
          [
           "C",
           0.02654591,
           472,
           169.1,
           false
          ],
          [
           "C",
           0.00844511,
           470,
           169.1,
           false
          ]
         ],
         "type": "scatter",
         "x": [
          169.1,
          169.1,
          169.1,
          169.1
         ],
         "y": [
          0.0168244,
          0.02966896,
          0.00596125,
          0.00498615
         ]
        },
        {
         "line": {
          "color": "pink",
          "dash": "solid"
         },
         "mode": "lines",
         "name": "(C,20): 71.209*x + -12041.42759\n R2=0.0",
         "type": "scatter",
         "x": [
          169.1,
          169.1,
          169.1,
          169.1
         ],
         "y": [
          0.014360189999933937,
          0.014360189999933937,
          0.014360189999933937,
          0.014360189999933937
         ]
        },
        {
         "line": {
          "color": "pink",
          "dash": "dot"
         },
         "mode": "lines",
         "name": "(C,20): -0.00591*x**2 + 1.0*x\n R2=0.0",
         "type": "scatter",
         "x": [
          169.1,
          169.1,
          169.1,
          169.1
         ],
         "y": [
          0.014360189999962358,
          0.014360189999962358,
          0.014360189999962358,
          0.014360189999962358
         ]
        },
        {
         "hovertemplate": "<b>base: %{text[0]}<br><b>mut_rates: %{text[1]}<br><b>sample: %{text[2]}<br><b>DMS_conc_mM: %{text[3]}<br><b>paired: %{text[4]}<br>",
         "line": {
          "color": "brown"
         },
         "marker": {
          "symbol": [
           0,
           0,
           0,
           0,
           0,
           0,
           0,
           0,
           0,
           0,
           0,
           0,
           100,
           100,
           100,
           100,
           100,
           100,
           100,
           100,
           100,
           100,
           100,
           100,
           100,
           100,
           100,
           100,
           0,
           0,
           0,
           0,
           0,
           0,
           0,
           0,
           0,
           0,
           0,
           0,
           0,
           0,
           0,
           0,
           0,
           0,
           0,
           0,
           100,
           100,
           100,
           100
          ]
         },
         "mode": "lines+markers",
         "name": "(A,21)",
         "text": [
          [
           "C",
           0.0168244,
           472,
           169.1,
           true
          ],
          [
           "C",
           0.02966896,
           472,
           169.1,
           true
          ],
          [
           "C",
           0.00596125,
           470,
           169.1,
           true
          ],
          [
           "C",
           0.00498615,
           470,
           169.1,
           true
          ],
          [
           "A",
           0.00775623,
           470,
           169.1,
           true
          ],
          [
           "A",
           0.01892744,
           472,
           169.1,
           true
          ],
          [
           "A",
           0.01142573,
           470,
           169.1,
           true
          ],
          [
           "A",
           0.01717676,
           472,
           169.1,
           true
          ],
          [
           "A",
           0.01551247,
           470,
           169.1,
           true
          ],
          [
           "A",
           0.01752541,
           472,
           169.1,
           true
          ],
          [
           "A",
           0.00894188,
           470,
           169.1,
           true
          ],
          [
           "A",
           0.00905684,
           472,
           169.1,
           true
          ],
          [
           "A",
           0.04651163,
           470,
           169.1,
           false
          ],
          [
           "A",
           0.05017387,
           470,
           169.1,
           false
          ],
          [
           "A",
           0.03224676,
           472,
           169.1,
           false
          ],
          [
           "A",
           0.04278576,
           472,
           169.1,
           false
          ],
          [
           "A",
           0.10183805,
           470,
           169.1,
           false
          ],
          [
           "A",
           0.04840725,
           472,
           169.1,
           false
          ],
          [
           "A",
           0.0637925,
           472,
           169.1,
           false
          ],
          [
           "A",
           0.07751938,
           470,
           169.1,
           false
          ],
          [
           "C",
           0.07870081,
           472,
           169.1,
           false
          ],
          [
           "C",
           0.09966777,
           470,
           169.1,
           false
          ],
          [
           "C",
           0.07115317,
           472,
           169.1,
           false
          ],
          [
           "C",
           0.09538003,
           470,
           169.1,
           false
          ],
          [
           "A",
           0.07004471,
           470,
           169.1,
           false
          ],
          [
           "A",
           0.07183011,
           472,
           169.1,
           false
          ],
          [
           "A",
           0.05502979,
           472,
           169.1,
           false
          ],
          [
           "A",
           0.06090808,
           470,
           169.1,
           false
          ],
          [
           "C",
           0.03680336,
           472,
           169.1,
           true
          ],
          [
           "C",
           0.02998126,
           472,
           169.1,
           true
          ],
          [
           "C",
           0.01838053,
           470,
           169.1,
           true
          ],
          [
           "C",
           0.0166113,
           470,
           169.1,
           true
          ],
          [
           "C",
           0.01507185,
           472,
           169.1,
           true
          ],
          [
           "C",
           0.0055371,
           470,
           169.1,
           true
          ],
          [
           "C",
           0.01142573,
           470,
           169.1,
           true
          ],
          [
           "C",
           0.02779513,
           472,
           169.1,
           true
          ],
          [
           "C",
           0.01686446,
           472,
           169.1,
           true
          ],
          [
           "C",
           0.00645802,
           470,
           169.1,
           true
          ],
          [
           "C",
           0.00885936,
           470,
           169.1,
           true
          ],
          [
           "C",
           0.01787592,
           472,
           169.1,
           true
          ],
          [
           "A",
           0.00905684,
           472,
           169.1,
           true
          ],
          [
           "A",
           0.00844511,
           470,
           169.1,
           true
          ],
          [
           "A",
           0.00996678,
           470,
           169.1,
           true
          ],
          [
           "A",
           0.00771118,
           472,
           169.1,
           true
          ],
          [
           "A",
           0.0110742,
           470,
           169.1,
           true
          ],
          [
           "A",
           0.00844511,
           470,
           169.1,
           true
          ],
          [
           "A",
           0.00749532,
           472,
           169.1,
           true
          ],
          [
           "A",
           0.00736067,
           472,
           169.1,
           true
          ],
          [
           "C",
           0.02418507,
           472,
           169.1,
           false
          ],
          [
           "C",
           0.01162791,
           470,
           169.1,
           false
          ],
          [
           "C",
           0.02654591,
           472,
           169.1,
           false
          ],
          [
           "C",
           0.00844511,
           470,
           169.1,
           false
          ]
         ],
         "type": "scatter",
         "x": [
          169.1,
          169.1,
          169.1,
          169.1
         ],
         "y": [
          0.00775623,
          0.01892744,
          0.01142573,
          0.01717676
         ]
        },
        {
         "line": {
          "color": "brown",
          "dash": "solid"
         },
         "mode": "lines",
         "name": "(A,21): -114.01861*x + 19280.56142\n R2=0.0",
         "type": "scatter",
         "x": [
          169.1,
          169.1,
          169.1,
          169.1
         ],
         "y": [
          0.013821540000208188,
          0.013821540000208188,
          0.013821540000208188,
          0.013821540000208188
         ]
        },
        {
         "line": {
          "color": "brown",
          "dash": "dot"
         },
         "mode": "lines",
         "name": "(A,21): -0.00591*x**2 + 1.0*x\n R2=0.0",
         "type": "scatter",
         "x": [
          169.1,
          169.1,
          169.1,
          169.1
         ],
         "y": [
          0.013821540000009236,
          0.013821540000009236,
          0.013821540000009236,
          0.013821540000009236
         ]
        },
        {
         "hovertemplate": "<b>base: %{text[0]}<br><b>mut_rates: %{text[1]}<br><b>sample: %{text[2]}<br><b>DMS_conc_mM: %{text[3]}<br><b>paired: %{text[4]}<br>",
         "line": {
          "color": "grey"
         },
         "marker": {
          "symbol": [
           0,
           0,
           0,
           0,
           0,
           0,
           0,
           0,
           0,
           0,
           0,
           0,
           100,
           100,
           100,
           100,
           100,
           100,
           100,
           100,
           100,
           100,
           100,
           100,
           100,
           100,
           100,
           100,
           0,
           0,
           0,
           0,
           0,
           0,
           0,
           0,
           0,
           0,
           0,
           0,
           0,
           0,
           0,
           0,
           0,
           0,
           0,
           0,
           100,
           100,
           100,
           100
          ]
         },
         "mode": "lines+markers",
         "name": "(A,23)",
         "text": [
          [
           "C",
           0.0168244,
           472,
           169.1,
           true
          ],
          [
           "C",
           0.02966896,
           472,
           169.1,
           true
          ],
          [
           "C",
           0.00596125,
           470,
           169.1,
           true
          ],
          [
           "C",
           0.00498615,
           470,
           169.1,
           true
          ],
          [
           "A",
           0.00775623,
           470,
           169.1,
           true
          ],
          [
           "A",
           0.01892744,
           472,
           169.1,
           true
          ],
          [
           "A",
           0.01142573,
           470,
           169.1,
           true
          ],
          [
           "A",
           0.01717676,
           472,
           169.1,
           true
          ],
          [
           "A",
           0.01551247,
           470,
           169.1,
           true
          ],
          [
           "A",
           0.01752541,
           472,
           169.1,
           true
          ],
          [
           "A",
           0.00894188,
           470,
           169.1,
           true
          ],
          [
           "A",
           0.00905684,
           472,
           169.1,
           true
          ],
          [
           "A",
           0.04651163,
           470,
           169.1,
           false
          ],
          [
           "A",
           0.05017387,
           470,
           169.1,
           false
          ],
          [
           "A",
           0.03224676,
           472,
           169.1,
           false
          ],
          [
           "A",
           0.04278576,
           472,
           169.1,
           false
          ],
          [
           "A",
           0.10183805,
           470,
           169.1,
           false
          ],
          [
           "A",
           0.04840725,
           472,
           169.1,
           false
          ],
          [
           "A",
           0.0637925,
           472,
           169.1,
           false
          ],
          [
           "A",
           0.07751938,
           470,
           169.1,
           false
          ],
          [
           "C",
           0.07870081,
           472,
           169.1,
           false
          ],
          [
           "C",
           0.09966777,
           470,
           169.1,
           false
          ],
          [
           "C",
           0.07115317,
           472,
           169.1,
           false
          ],
          [
           "C",
           0.09538003,
           470,
           169.1,
           false
          ],
          [
           "A",
           0.07004471,
           470,
           169.1,
           false
          ],
          [
           "A",
           0.07183011,
           472,
           169.1,
           false
          ],
          [
           "A",
           0.05502979,
           472,
           169.1,
           false
          ],
          [
           "A",
           0.06090808,
           470,
           169.1,
           false
          ],
          [
           "C",
           0.03680336,
           472,
           169.1,
           true
          ],
          [
           "C",
           0.02998126,
           472,
           169.1,
           true
          ],
          [
           "C",
           0.01838053,
           470,
           169.1,
           true
          ],
          [
           "C",
           0.0166113,
           470,
           169.1,
           true
          ],
          [
           "C",
           0.01507185,
           472,
           169.1,
           true
          ],
          [
           "C",
           0.0055371,
           470,
           169.1,
           true
          ],
          [
           "C",
           0.01142573,
           470,
           169.1,
           true
          ],
          [
           "C",
           0.02779513,
           472,
           169.1,
           true
          ],
          [
           "C",
           0.01686446,
           472,
           169.1,
           true
          ],
          [
           "C",
           0.00645802,
           470,
           169.1,
           true
          ],
          [
           "C",
           0.00885936,
           470,
           169.1,
           true
          ],
          [
           "C",
           0.01787592,
           472,
           169.1,
           true
          ],
          [
           "A",
           0.00905684,
           472,
           169.1,
           true
          ],
          [
           "A",
           0.00844511,
           470,
           169.1,
           true
          ],
          [
           "A",
           0.00996678,
           470,
           169.1,
           true
          ],
          [
           "A",
           0.00771118,
           472,
           169.1,
           true
          ],
          [
           "A",
           0.0110742,
           470,
           169.1,
           true
          ],
          [
           "A",
           0.00844511,
           470,
           169.1,
           true
          ],
          [
           "A",
           0.00749532,
           472,
           169.1,
           true
          ],
          [
           "A",
           0.00736067,
           472,
           169.1,
           true
          ],
          [
           "C",
           0.02418507,
           472,
           169.1,
           false
          ],
          [
           "C",
           0.01162791,
           470,
           169.1,
           false
          ],
          [
           "C",
           0.02654591,
           472,
           169.1,
           false
          ],
          [
           "C",
           0.00844511,
           470,
           169.1,
           false
          ]
         ],
         "type": "scatter",
         "x": [
          169.1,
          169.1,
          169.1,
          169.1
         ],
         "y": [
          0.01551247,
          0.01752541,
          0.00894188,
          0.00905684
         ]
        },
        {
         "line": {
          "color": "grey",
          "dash": "solid"
         },
         "mode": "lines",
         "name": "(A,23): 71.209*x + -12041.42839\n R2=0.0",
         "type": "scatter",
         "x": [
          169.1,
          169.1,
          169.1,
          169.1
         ],
         "y": [
          0.01275915000042005,
          0.01275915000042005,
          0.01275915000042005,
          0.01275915000042005
         ]
        },
        {
         "line": {
          "color": "grey",
          "dash": "dot"
         },
         "mode": "lines",
         "name": "(A,23): -0.00591*x**2 + 1.0*x\n R2=0.0",
         "type": "scatter",
         "x": [
          169.1,
          169.1,
          169.1,
          169.1
         ],
         "y": [
          0.012759149999681085,
          0.012759149999681085,
          0.012759149999681085,
          0.012759149999681085
         ]
        },
        {
         "hovertemplate": "<b>base: %{text[0]}<br><b>mut_rates: %{text[1]}<br><b>sample: %{text[2]}<br><b>DMS_conc_mM: %{text[3]}<br><b>paired: %{text[4]}<br>",
         "line": {
          "color": "cyan"
         },
         "marker": {
          "symbol": [
           0,
           0,
           0,
           0,
           0,
           0,
           0,
           0,
           0,
           0,
           0,
           0,
           100,
           100,
           100,
           100,
           100,
           100,
           100,
           100,
           100,
           100,
           100,
           100,
           100,
           100,
           100,
           100,
           0,
           0,
           0,
           0,
           0,
           0,
           0,
           0,
           0,
           0,
           0,
           0,
           0,
           0,
           0,
           0,
           0,
           0,
           0,
           0,
           100,
           100,
           100,
           100
          ]
         },
         "mode": "lines+markers",
         "name": "(A,26)",
         "text": [
          [
           "C",
           0.0168244,
           472,
           169.1,
           true
          ],
          [
           "C",
           0.02966896,
           472,
           169.1,
           true
          ],
          [
           "C",
           0.00596125,
           470,
           169.1,
           true
          ],
          [
           "C",
           0.00498615,
           470,
           169.1,
           true
          ],
          [
           "A",
           0.00775623,
           470,
           169.1,
           true
          ],
          [
           "A",
           0.01892744,
           472,
           169.1,
           true
          ],
          [
           "A",
           0.01142573,
           470,
           169.1,
           true
          ],
          [
           "A",
           0.01717676,
           472,
           169.1,
           true
          ],
          [
           "A",
           0.01551247,
           470,
           169.1,
           true
          ],
          [
           "A",
           0.01752541,
           472,
           169.1,
           true
          ],
          [
           "A",
           0.00894188,
           470,
           169.1,
           true
          ],
          [
           "A",
           0.00905684,
           472,
           169.1,
           true
          ],
          [
           "A",
           0.04651163,
           470,
           169.1,
           false
          ],
          [
           "A",
           0.05017387,
           470,
           169.1,
           false
          ],
          [
           "A",
           0.03224676,
           472,
           169.1,
           false
          ],
          [
           "A",
           0.04278576,
           472,
           169.1,
           false
          ],
          [
           "A",
           0.10183805,
           470,
           169.1,
           false
          ],
          [
           "A",
           0.04840725,
           472,
           169.1,
           false
          ],
          [
           "A",
           0.0637925,
           472,
           169.1,
           false
          ],
          [
           "A",
           0.07751938,
           470,
           169.1,
           false
          ],
          [
           "C",
           0.07870081,
           472,
           169.1,
           false
          ],
          [
           "C",
           0.09966777,
           470,
           169.1,
           false
          ],
          [
           "C",
           0.07115317,
           472,
           169.1,
           false
          ],
          [
           "C",
           0.09538003,
           470,
           169.1,
           false
          ],
          [
           "A",
           0.07004471,
           470,
           169.1,
           false
          ],
          [
           "A",
           0.07183011,
           472,
           169.1,
           false
          ],
          [
           "A",
           0.05502979,
           472,
           169.1,
           false
          ],
          [
           "A",
           0.06090808,
           470,
           169.1,
           false
          ],
          [
           "C",
           0.03680336,
           472,
           169.1,
           true
          ],
          [
           "C",
           0.02998126,
           472,
           169.1,
           true
          ],
          [
           "C",
           0.01838053,
           470,
           169.1,
           true
          ],
          [
           "C",
           0.0166113,
           470,
           169.1,
           true
          ],
          [
           "C",
           0.01507185,
           472,
           169.1,
           true
          ],
          [
           "C",
           0.0055371,
           470,
           169.1,
           true
          ],
          [
           "C",
           0.01142573,
           470,
           169.1,
           true
          ],
          [
           "C",
           0.02779513,
           472,
           169.1,
           true
          ],
          [
           "C",
           0.01686446,
           472,
           169.1,
           true
          ],
          [
           "C",
           0.00645802,
           470,
           169.1,
           true
          ],
          [
           "C",
           0.00885936,
           470,
           169.1,
           true
          ],
          [
           "C",
           0.01787592,
           472,
           169.1,
           true
          ],
          [
           "A",
           0.00905684,
           472,
           169.1,
           true
          ],
          [
           "A",
           0.00844511,
           470,
           169.1,
           true
          ],
          [
           "A",
           0.00996678,
           470,
           169.1,
           true
          ],
          [
           "A",
           0.00771118,
           472,
           169.1,
           true
          ],
          [
           "A",
           0.0110742,
           470,
           169.1,
           true
          ],
          [
           "A",
           0.00844511,
           470,
           169.1,
           true
          ],
          [
           "A",
           0.00749532,
           472,
           169.1,
           true
          ],
          [
           "A",
           0.00736067,
           472,
           169.1,
           true
          ],
          [
           "C",
           0.02418507,
           472,
           169.1,
           false
          ],
          [
           "C",
           0.01162791,
           470,
           169.1,
           false
          ],
          [
           "C",
           0.02654591,
           472,
           169.1,
           false
          ],
          [
           "C",
           0.00844511,
           470,
           169.1,
           false
          ]
         ],
         "type": "scatter",
         "x": [
          169.1,
          169.1,
          169.1,
          169.1
         ],
         "y": [
          0.04651163,
          0.05017387,
          0.03224676,
          0.04278576
         ]
        },
        {
         "line": {
          "color": "cyan",
          "dash": "solid"
         },
         "mode": "lines",
         "name": "(A,26): 71.20908*x + -12041.41331\n R2=0.0",
         "type": "scatter",
         "x": [
          169.1,
          169.1,
          169.1,
          169.1
         ],
         "y": [
          0.04292950499984727,
          0.04292950499984727,
          0.04292950499984727,
          0.04292950499984727
         ]
        },
        {
         "line": {
          "color": "cyan",
          "dash": "dot"
         },
         "mode": "lines",
         "name": "(A,26): -0.00591*x**2 + 1.0*x\n R2=0.0",
         "type": "scatter",
         "x": [
          169.1,
          169.1,
          169.1,
          169.1
         ],
         "y": [
          0.042929504999989376,
          0.042929504999989376,
          0.042929504999989376,
          0.042929504999989376
         ]
        },
        {
         "hovertemplate": "<b>base: %{text[0]}<br><b>mut_rates: %{text[1]}<br><b>sample: %{text[2]}<br><b>DMS_conc_mM: %{text[3]}<br><b>paired: %{text[4]}<br>",
         "line": {
          "color": "magenta"
         },
         "marker": {
          "symbol": [
           0,
           0,
           0,
           0,
           0,
           0,
           0,
           0,
           0,
           0,
           0,
           0,
           100,
           100,
           100,
           100,
           100,
           100,
           100,
           100,
           100,
           100,
           100,
           100,
           100,
           100,
           100,
           100,
           0,
           0,
           0,
           0,
           0,
           0,
           0,
           0,
           0,
           0,
           0,
           0,
           0,
           0,
           0,
           0,
           0,
           0,
           0,
           0,
           100,
           100,
           100,
           100
          ]
         },
         "mode": "lines+markers",
         "name": "(A,29)",
         "text": [
          [
           "C",
           0.0168244,
           472,
           169.1,
           true
          ],
          [
           "C",
           0.02966896,
           472,
           169.1,
           true
          ],
          [
           "C",
           0.00596125,
           470,
           169.1,
           true
          ],
          [
           "C",
           0.00498615,
           470,
           169.1,
           true
          ],
          [
           "A",
           0.00775623,
           470,
           169.1,
           true
          ],
          [
           "A",
           0.01892744,
           472,
           169.1,
           true
          ],
          [
           "A",
           0.01142573,
           470,
           169.1,
           true
          ],
          [
           "A",
           0.01717676,
           472,
           169.1,
           true
          ],
          [
           "A",
           0.01551247,
           470,
           169.1,
           true
          ],
          [
           "A",
           0.01752541,
           472,
           169.1,
           true
          ],
          [
           "A",
           0.00894188,
           470,
           169.1,
           true
          ],
          [
           "A",
           0.00905684,
           472,
           169.1,
           true
          ],
          [
           "A",
           0.04651163,
           470,
           169.1,
           false
          ],
          [
           "A",
           0.05017387,
           470,
           169.1,
           false
          ],
          [
           "A",
           0.03224676,
           472,
           169.1,
           false
          ],
          [
           "A",
           0.04278576,
           472,
           169.1,
           false
          ],
          [
           "A",
           0.10183805,
           470,
           169.1,
           false
          ],
          [
           "A",
           0.04840725,
           472,
           169.1,
           false
          ],
          [
           "A",
           0.0637925,
           472,
           169.1,
           false
          ],
          [
           "A",
           0.07751938,
           470,
           169.1,
           false
          ],
          [
           "C",
           0.07870081,
           472,
           169.1,
           false
          ],
          [
           "C",
           0.09966777,
           470,
           169.1,
           false
          ],
          [
           "C",
           0.07115317,
           472,
           169.1,
           false
          ],
          [
           "C",
           0.09538003,
           470,
           169.1,
           false
          ],
          [
           "A",
           0.07004471,
           470,
           169.1,
           false
          ],
          [
           "A",
           0.07183011,
           472,
           169.1,
           false
          ],
          [
           "A",
           0.05502979,
           472,
           169.1,
           false
          ],
          [
           "A",
           0.06090808,
           470,
           169.1,
           false
          ],
          [
           "C",
           0.03680336,
           472,
           169.1,
           true
          ],
          [
           "C",
           0.02998126,
           472,
           169.1,
           true
          ],
          [
           "C",
           0.01838053,
           470,
           169.1,
           true
          ],
          [
           "C",
           0.0166113,
           470,
           169.1,
           true
          ],
          [
           "C",
           0.01507185,
           472,
           169.1,
           true
          ],
          [
           "C",
           0.0055371,
           470,
           169.1,
           true
          ],
          [
           "C",
           0.01142573,
           470,
           169.1,
           true
          ],
          [
           "C",
           0.02779513,
           472,
           169.1,
           true
          ],
          [
           "C",
           0.01686446,
           472,
           169.1,
           true
          ],
          [
           "C",
           0.00645802,
           470,
           169.1,
           true
          ],
          [
           "C",
           0.00885936,
           470,
           169.1,
           true
          ],
          [
           "C",
           0.01787592,
           472,
           169.1,
           true
          ],
          [
           "A",
           0.00905684,
           472,
           169.1,
           true
          ],
          [
           "A",
           0.00844511,
           470,
           169.1,
           true
          ],
          [
           "A",
           0.00996678,
           470,
           169.1,
           true
          ],
          [
           "A",
           0.00771118,
           472,
           169.1,
           true
          ],
          [
           "A",
           0.0110742,
           470,
           169.1,
           true
          ],
          [
           "A",
           0.00844511,
           470,
           169.1,
           true
          ],
          [
           "A",
           0.00749532,
           472,
           169.1,
           true
          ],
          [
           "A",
           0.00736067,
           472,
           169.1,
           true
          ],
          [
           "C",
           0.02418507,
           472,
           169.1,
           false
          ],
          [
           "C",
           0.01162791,
           470,
           169.1,
           false
          ],
          [
           "C",
           0.02654591,
           472,
           169.1,
           false
          ],
          [
           "C",
           0.00844511,
           470,
           169.1,
           false
          ]
         ],
         "type": "scatter",
         "x": [
          169.1,
          169.1,
          169.1,
          169.1
         ],
         "y": [
          0.10183805,
          0.04840725,
          0.0637925,
          0.07751938
         ]
        },
        {
         "line": {
          "color": "magenta",
          "dash": "solid"
         },
         "mode": "lines",
         "name": "(A,29): 212.633*x + -35956.16784\n R2=0.0",
         "type": "scatter",
         "x": [
          169.1,
          169.1,
          169.1,
          169.1
         ],
         "y": [
          0.07288929499918595,
          0.07288929499918595,
          0.07288929499918595,
          0.07288929499918595
         ]
        },
        {
         "line": {
          "color": "magenta",
          "dash": "dot"
         },
         "mode": "lines",
         "name": "(A,29): -0.00591*x**2 + 1.0*x\n R2=0.0",
         "type": "scatter",
         "x": [
          169.1,
          169.1,
          169.1,
          169.1
         ],
         "y": [
          0.07288929499935648,
          0.07288929499935648,
          0.07288929499935648,
          0.07288929499935648
         ]
        },
        {
         "hovertemplate": "<b>base: %{text[0]}<br><b>mut_rates: %{text[1]}<br><b>sample: %{text[2]}<br><b>DMS_conc_mM: %{text[3]}<br><b>paired: %{text[4]}<br>",
         "line": {
          "color": "red"
         },
         "marker": {
          "symbol": [
           0,
           0,
           0,
           0,
           0,
           0,
           0,
           0,
           0,
           0,
           0,
           0,
           100,
           100,
           100,
           100,
           100,
           100,
           100,
           100,
           100,
           100,
           100,
           100,
           100,
           100,
           100,
           100,
           0,
           0,
           0,
           0,
           0,
           0,
           0,
           0,
           0,
           0,
           0,
           0,
           0,
           0,
           0,
           0,
           0,
           0,
           0,
           0,
           100,
           100,
           100,
           100
          ]
         },
         "mode": "lines+markers",
         "name": "(C,31)",
         "text": [
          [
           "C",
           0.0168244,
           472,
           169.1,
           true
          ],
          [
           "C",
           0.02966896,
           472,
           169.1,
           true
          ],
          [
           "C",
           0.00596125,
           470,
           169.1,
           true
          ],
          [
           "C",
           0.00498615,
           470,
           169.1,
           true
          ],
          [
           "A",
           0.00775623,
           470,
           169.1,
           true
          ],
          [
           "A",
           0.01892744,
           472,
           169.1,
           true
          ],
          [
           "A",
           0.01142573,
           470,
           169.1,
           true
          ],
          [
           "A",
           0.01717676,
           472,
           169.1,
           true
          ],
          [
           "A",
           0.01551247,
           470,
           169.1,
           true
          ],
          [
           "A",
           0.01752541,
           472,
           169.1,
           true
          ],
          [
           "A",
           0.00894188,
           470,
           169.1,
           true
          ],
          [
           "A",
           0.00905684,
           472,
           169.1,
           true
          ],
          [
           "A",
           0.04651163,
           470,
           169.1,
           false
          ],
          [
           "A",
           0.05017387,
           470,
           169.1,
           false
          ],
          [
           "A",
           0.03224676,
           472,
           169.1,
           false
          ],
          [
           "A",
           0.04278576,
           472,
           169.1,
           false
          ],
          [
           "A",
           0.10183805,
           470,
           169.1,
           false
          ],
          [
           "A",
           0.04840725,
           472,
           169.1,
           false
          ],
          [
           "A",
           0.0637925,
           472,
           169.1,
           false
          ],
          [
           "A",
           0.07751938,
           470,
           169.1,
           false
          ],
          [
           "C",
           0.07870081,
           472,
           169.1,
           false
          ],
          [
           "C",
           0.09966777,
           470,
           169.1,
           false
          ],
          [
           "C",
           0.07115317,
           472,
           169.1,
           false
          ],
          [
           "C",
           0.09538003,
           470,
           169.1,
           false
          ],
          [
           "A",
           0.07004471,
           470,
           169.1,
           false
          ],
          [
           "A",
           0.07183011,
           472,
           169.1,
           false
          ],
          [
           "A",
           0.05502979,
           472,
           169.1,
           false
          ],
          [
           "A",
           0.06090808,
           470,
           169.1,
           false
          ],
          [
           "C",
           0.03680336,
           472,
           169.1,
           true
          ],
          [
           "C",
           0.02998126,
           472,
           169.1,
           true
          ],
          [
           "C",
           0.01838053,
           470,
           169.1,
           true
          ],
          [
           "C",
           0.0166113,
           470,
           169.1,
           true
          ],
          [
           "C",
           0.01507185,
           472,
           169.1,
           true
          ],
          [
           "C",
           0.0055371,
           470,
           169.1,
           true
          ],
          [
           "C",
           0.01142573,
           470,
           169.1,
           true
          ],
          [
           "C",
           0.02779513,
           472,
           169.1,
           true
          ],
          [
           "C",
           0.01686446,
           472,
           169.1,
           true
          ],
          [
           "C",
           0.00645802,
           470,
           169.1,
           true
          ],
          [
           "C",
           0.00885936,
           470,
           169.1,
           true
          ],
          [
           "C",
           0.01787592,
           472,
           169.1,
           true
          ],
          [
           "A",
           0.00905684,
           472,
           169.1,
           true
          ],
          [
           "A",
           0.00844511,
           470,
           169.1,
           true
          ],
          [
           "A",
           0.00996678,
           470,
           169.1,
           true
          ],
          [
           "A",
           0.00771118,
           472,
           169.1,
           true
          ],
          [
           "A",
           0.0110742,
           470,
           169.1,
           true
          ],
          [
           "A",
           0.00844511,
           470,
           169.1,
           true
          ],
          [
           "A",
           0.00749532,
           472,
           169.1,
           true
          ],
          [
           "A",
           0.00736067,
           472,
           169.1,
           true
          ],
          [
           "C",
           0.02418507,
           472,
           169.1,
           false
          ],
          [
           "C",
           0.01162791,
           470,
           169.1,
           false
          ],
          [
           "C",
           0.02654591,
           472,
           169.1,
           false
          ],
          [
           "C",
           0.00844511,
           470,
           169.1,
           false
          ]
         ],
         "type": "scatter",
         "x": [
          169.1,
          169.1,
          169.1,
          169.1
         ],
         "y": [
          0.07870081,
          0.09966777,
          0.07115317,
          0.09538003
         ]
        },
        {
         "line": {
          "color": "red",
          "dash": "solid"
         },
         "mode": "lines",
         "name": "(C,31): -84.35736*x + 14264.91525\n R2=0.0",
         "type": "scatter",
         "x": [
          169.1,
          169.1,
          169.1,
          169.1
         ],
         "y": [
          0.08622544499849027,
          0.08622544499849027,
          0.08622544499849027,
          0.08622544499849027
         ]
        },
        {
         "line": {
          "color": "red",
          "dash": "dot"
         },
         "mode": "lines",
         "name": "(C,31): -0.00591*x**2 + 1.0*x\n R2=0.0",
         "type": "scatter",
         "x": [
          169.1,
          169.1,
          169.1,
          169.1
         ],
         "y": [
          0.08622544500005347,
          0.08622544500005347,
          0.08622544500005347,
          0.08622544500005347
         ]
        }
       ],
       "layout": {
        "template": {
         "data": {
          "bar": [
           {
            "error_x": {
             "color": "#2a3f5f"
            },
            "error_y": {
             "color": "#2a3f5f"
            },
            "marker": {
             "line": {
              "color": "#E5ECF6",
              "width": 0.5
             },
             "pattern": {
              "fillmode": "overlay",
              "size": 10,
              "solidity": 0.2
             }
            },
            "type": "bar"
           }
          ],
          "barpolar": [
           {
            "marker": {
             "line": {
              "color": "#E5ECF6",
              "width": 0.5
             },
             "pattern": {
              "fillmode": "overlay",
              "size": 10,
              "solidity": 0.2
             }
            },
            "type": "barpolar"
           }
          ],
          "carpet": [
           {
            "aaxis": {
             "endlinecolor": "#2a3f5f",
             "gridcolor": "white",
             "linecolor": "white",
             "minorgridcolor": "white",
             "startlinecolor": "#2a3f5f"
            },
            "baxis": {
             "endlinecolor": "#2a3f5f",
             "gridcolor": "white",
             "linecolor": "white",
             "minorgridcolor": "white",
             "startlinecolor": "#2a3f5f"
            },
            "type": "carpet"
           }
          ],
          "choropleth": [
           {
            "colorbar": {
             "outlinewidth": 0,
             "ticks": ""
            },
            "type": "choropleth"
           }
          ],
          "contour": [
           {
            "colorbar": {
             "outlinewidth": 0,
             "ticks": ""
            },
            "colorscale": [
             [
              0,
              "#0d0887"
             ],
             [
              0.1111111111111111,
              "#46039f"
             ],
             [
              0.2222222222222222,
              "#7201a8"
             ],
             [
              0.3333333333333333,
              "#9c179e"
             ],
             [
              0.4444444444444444,
              "#bd3786"
             ],
             [
              0.5555555555555556,
              "#d8576b"
             ],
             [
              0.6666666666666666,
              "#ed7953"
             ],
             [
              0.7777777777777778,
              "#fb9f3a"
             ],
             [
              0.8888888888888888,
              "#fdca26"
             ],
             [
              1,
              "#f0f921"
             ]
            ],
            "type": "contour"
           }
          ],
          "contourcarpet": [
           {
            "colorbar": {
             "outlinewidth": 0,
             "ticks": ""
            },
            "type": "contourcarpet"
           }
          ],
          "heatmap": [
           {
            "colorbar": {
             "outlinewidth": 0,
             "ticks": ""
            },
            "colorscale": [
             [
              0,
              "#0d0887"
             ],
             [
              0.1111111111111111,
              "#46039f"
             ],
             [
              0.2222222222222222,
              "#7201a8"
             ],
             [
              0.3333333333333333,
              "#9c179e"
             ],
             [
              0.4444444444444444,
              "#bd3786"
             ],
             [
              0.5555555555555556,
              "#d8576b"
             ],
             [
              0.6666666666666666,
              "#ed7953"
             ],
             [
              0.7777777777777778,
              "#fb9f3a"
             ],
             [
              0.8888888888888888,
              "#fdca26"
             ],
             [
              1,
              "#f0f921"
             ]
            ],
            "type": "heatmap"
           }
          ],
          "heatmapgl": [
           {
            "colorbar": {
             "outlinewidth": 0,
             "ticks": ""
            },
            "colorscale": [
             [
              0,
              "#0d0887"
             ],
             [
              0.1111111111111111,
              "#46039f"
             ],
             [
              0.2222222222222222,
              "#7201a8"
             ],
             [
              0.3333333333333333,
              "#9c179e"
             ],
             [
              0.4444444444444444,
              "#bd3786"
             ],
             [
              0.5555555555555556,
              "#d8576b"
             ],
             [
              0.6666666666666666,
              "#ed7953"
             ],
             [
              0.7777777777777778,
              "#fb9f3a"
             ],
             [
              0.8888888888888888,
              "#fdca26"
             ],
             [
              1,
              "#f0f921"
             ]
            ],
            "type": "heatmapgl"
           }
          ],
          "histogram": [
           {
            "marker": {
             "pattern": {
              "fillmode": "overlay",
              "size": 10,
              "solidity": 0.2
             }
            },
            "type": "histogram"
           }
          ],
          "histogram2d": [
           {
            "colorbar": {
             "outlinewidth": 0,
             "ticks": ""
            },
            "colorscale": [
             [
              0,
              "#0d0887"
             ],
             [
              0.1111111111111111,
              "#46039f"
             ],
             [
              0.2222222222222222,
              "#7201a8"
             ],
             [
              0.3333333333333333,
              "#9c179e"
             ],
             [
              0.4444444444444444,
              "#bd3786"
             ],
             [
              0.5555555555555556,
              "#d8576b"
             ],
             [
              0.6666666666666666,
              "#ed7953"
             ],
             [
              0.7777777777777778,
              "#fb9f3a"
             ],
             [
              0.8888888888888888,
              "#fdca26"
             ],
             [
              1,
              "#f0f921"
             ]
            ],
            "type": "histogram2d"
           }
          ],
          "histogram2dcontour": [
           {
            "colorbar": {
             "outlinewidth": 0,
             "ticks": ""
            },
            "colorscale": [
             [
              0,
              "#0d0887"
             ],
             [
              0.1111111111111111,
              "#46039f"
             ],
             [
              0.2222222222222222,
              "#7201a8"
             ],
             [
              0.3333333333333333,
              "#9c179e"
             ],
             [
              0.4444444444444444,
              "#bd3786"
             ],
             [
              0.5555555555555556,
              "#d8576b"
             ],
             [
              0.6666666666666666,
              "#ed7953"
             ],
             [
              0.7777777777777778,
              "#fb9f3a"
             ],
             [
              0.8888888888888888,
              "#fdca26"
             ],
             [
              1,
              "#f0f921"
             ]
            ],
            "type": "histogram2dcontour"
           }
          ],
          "mesh3d": [
           {
            "colorbar": {
             "outlinewidth": 0,
             "ticks": ""
            },
            "type": "mesh3d"
           }
          ],
          "parcoords": [
           {
            "line": {
             "colorbar": {
              "outlinewidth": 0,
              "ticks": ""
             }
            },
            "type": "parcoords"
           }
          ],
          "pie": [
           {
            "automargin": true,
            "type": "pie"
           }
          ],
          "scatter": [
           {
            "fillpattern": {
             "fillmode": "overlay",
             "size": 10,
             "solidity": 0.2
            },
            "type": "scatter"
           }
          ],
          "scatter3d": [
           {
            "line": {
             "colorbar": {
              "outlinewidth": 0,
              "ticks": ""
             }
            },
            "marker": {
             "colorbar": {
              "outlinewidth": 0,
              "ticks": ""
             }
            },
            "type": "scatter3d"
           }
          ],
          "scattercarpet": [
           {
            "marker": {
             "colorbar": {
              "outlinewidth": 0,
              "ticks": ""
             }
            },
            "type": "scattercarpet"
           }
          ],
          "scattergeo": [
           {
            "marker": {
             "colorbar": {
              "outlinewidth": 0,
              "ticks": ""
             }
            },
            "type": "scattergeo"
           }
          ],
          "scattergl": [
           {
            "marker": {
             "colorbar": {
              "outlinewidth": 0,
              "ticks": ""
             }
            },
            "type": "scattergl"
           }
          ],
          "scattermapbox": [
           {
            "marker": {
             "colorbar": {
              "outlinewidth": 0,
              "ticks": ""
             }
            },
            "type": "scattermapbox"
           }
          ],
          "scatterpolar": [
           {
            "marker": {
             "colorbar": {
              "outlinewidth": 0,
              "ticks": ""
             }
            },
            "type": "scatterpolar"
           }
          ],
          "scatterpolargl": [
           {
            "marker": {
             "colorbar": {
              "outlinewidth": 0,
              "ticks": ""
             }
            },
            "type": "scatterpolargl"
           }
          ],
          "scatterternary": [
           {
            "marker": {
             "colorbar": {
              "outlinewidth": 0,
              "ticks": ""
             }
            },
            "type": "scatterternary"
           }
          ],
          "surface": [
           {
            "colorbar": {
             "outlinewidth": 0,
             "ticks": ""
            },
            "colorscale": [
             [
              0,
              "#0d0887"
             ],
             [
              0.1111111111111111,
              "#46039f"
             ],
             [
              0.2222222222222222,
              "#7201a8"
             ],
             [
              0.3333333333333333,
              "#9c179e"
             ],
             [
              0.4444444444444444,
              "#bd3786"
             ],
             [
              0.5555555555555556,
              "#d8576b"
             ],
             [
              0.6666666666666666,
              "#ed7953"
             ],
             [
              0.7777777777777778,
              "#fb9f3a"
             ],
             [
              0.8888888888888888,
              "#fdca26"
             ],
             [
              1,
              "#f0f921"
             ]
            ],
            "type": "surface"
           }
          ],
          "table": [
           {
            "cells": {
             "fill": {
              "color": "#EBF0F8"
             },
             "line": {
              "color": "white"
             }
            },
            "header": {
             "fill": {
              "color": "#C8D4E3"
             },
             "line": {
              "color": "white"
             }
            },
            "type": "table"
           }
          ]
         },
         "layout": {
          "annotationdefaults": {
           "arrowcolor": "#2a3f5f",
           "arrowhead": 0,
           "arrowwidth": 1
          },
          "autotypenumbers": "strict",
          "coloraxis": {
           "colorbar": {
            "outlinewidth": 0,
            "ticks": ""
           }
          },
          "colorscale": {
           "diverging": [
            [
             0,
             "#8e0152"
            ],
            [
             0.1,
             "#c51b7d"
            ],
            [
             0.2,
             "#de77ae"
            ],
            [
             0.3,
             "#f1b6da"
            ],
            [
             0.4,
             "#fde0ef"
            ],
            [
             0.5,
             "#f7f7f7"
            ],
            [
             0.6,
             "#e6f5d0"
            ],
            [
             0.7,
             "#b8e186"
            ],
            [
             0.8,
             "#7fbc41"
            ],
            [
             0.9,
             "#4d9221"
            ],
            [
             1,
             "#276419"
            ]
           ],
           "sequential": [
            [
             0,
             "#0d0887"
            ],
            [
             0.1111111111111111,
             "#46039f"
            ],
            [
             0.2222222222222222,
             "#7201a8"
            ],
            [
             0.3333333333333333,
             "#9c179e"
            ],
            [
             0.4444444444444444,
             "#bd3786"
            ],
            [
             0.5555555555555556,
             "#d8576b"
            ],
            [
             0.6666666666666666,
             "#ed7953"
            ],
            [
             0.7777777777777778,
             "#fb9f3a"
            ],
            [
             0.8888888888888888,
             "#fdca26"
            ],
            [
             1,
             "#f0f921"
            ]
           ],
           "sequentialminus": [
            [
             0,
             "#0d0887"
            ],
            [
             0.1111111111111111,
             "#46039f"
            ],
            [
             0.2222222222222222,
             "#7201a8"
            ],
            [
             0.3333333333333333,
             "#9c179e"
            ],
            [
             0.4444444444444444,
             "#bd3786"
            ],
            [
             0.5555555555555556,
             "#d8576b"
            ],
            [
             0.6666666666666666,
             "#ed7953"
            ],
            [
             0.7777777777777778,
             "#fb9f3a"
            ],
            [
             0.8888888888888888,
             "#fdca26"
            ],
            [
             1,
             "#f0f921"
            ]
           ]
          },
          "colorway": [
           "#636efa",
           "#EF553B",
           "#00cc96",
           "#ab63fa",
           "#FFA15A",
           "#19d3f3",
           "#FF6692",
           "#B6E880",
           "#FF97FF",
           "#FECB52"
          ],
          "font": {
           "color": "#2a3f5f"
          },
          "geo": {
           "bgcolor": "white",
           "lakecolor": "white",
           "landcolor": "#E5ECF6",
           "showlakes": true,
           "showland": true,
           "subunitcolor": "white"
          },
          "hoverlabel": {
           "align": "left"
          },
          "hovermode": "closest",
          "mapbox": {
           "style": "light"
          },
          "paper_bgcolor": "white",
          "plot_bgcolor": "#E5ECF6",
          "polar": {
           "angularaxis": {
            "gridcolor": "white",
            "linecolor": "white",
            "ticks": ""
           },
           "bgcolor": "#E5ECF6",
           "radialaxis": {
            "gridcolor": "white",
            "linecolor": "white",
            "ticks": ""
           }
          },
          "scene": {
           "xaxis": {
            "backgroundcolor": "#E5ECF6",
            "gridcolor": "white",
            "gridwidth": 2,
            "linecolor": "white",
            "showbackground": true,
            "ticks": "",
            "zerolinecolor": "white"
           },
           "yaxis": {
            "backgroundcolor": "#E5ECF6",
            "gridcolor": "white",
            "gridwidth": 2,
            "linecolor": "white",
            "showbackground": true,
            "ticks": "",
            "zerolinecolor": "white"
           },
           "zaxis": {
            "backgroundcolor": "#E5ECF6",
            "gridcolor": "white",
            "gridwidth": 2,
            "linecolor": "white",
            "showbackground": true,
            "ticks": "",
            "zerolinecolor": "white"
           }
          },
          "shapedefaults": {
           "line": {
            "color": "#2a3f5f"
           }
          },
          "ternary": {
           "aaxis": {
            "gridcolor": "white",
            "linecolor": "white",
            "ticks": ""
           },
           "baxis": {
            "gridcolor": "white",
            "linecolor": "white",
            "ticks": ""
           },
           "bgcolor": "#E5ECF6",
           "caxis": {
            "gridcolor": "white",
            "linecolor": "white",
            "ticks": ""
           }
          },
          "title": {
           "x": 0.05
          },
          "xaxis": {
           "automargin": true,
           "gridcolor": "white",
           "linecolor": "white",
           "ticks": "",
           "title": {
            "standoff": 15
           },
           "zerolinecolor": "white",
           "zerolinewidth": 2
          },
          "yaxis": {
           "automargin": true,
           "gridcolor": "white",
           "linecolor": "white",
           "ticks": "",
           "title": {
            "standoff": 15
           },
           "zerolinecolor": "white",
           "zerolinewidth": 2
          }
         }
        },
        "title": {
         "text": "Mutation rates of paired / unpaired residues vs DMS_conc_mM"
        },
        "xaxis": {
         "ticklen": 5,
         "title": {
          "text": "DMS_conc_mM"
         },
         "zeroline": false
        },
        "yaxis": {
         "ticklen": 5,
         "title": {
          "text": "Mutation rate "
         },
         "zeroline": false
        }
       }
      }
     },
     "metadata": {},
     "output_type": "display_data"
    },
    {
     "data": {
      "text/plain": [
       "<dreem_nap.util.OutputPlot at 0x29a401180>"
      ]
     },
     "execution_count": 4,
     "metadata": {},
     "output_type": "execute_result"
    }
   ],
   "source": [
    "study.variable_exp_across_samples(\n",
    "                        construct=['3114-O-flank_1=hp7-DB','3118-O-flank_1=hp7-DB'],\n",
    "                        base_index=list(range(19,42)), \n",
    "                        base_type=['A','C'],\n",
    "                        savefile='test.html', \n",
    "                        experimental_variable='DMS_conc_mM',\n",
    "                        models=['lambda x, a, b: a*x + b', 'lambda x, a, b: a*x**2 + b*x'],\n",
    "                        auto_open=True)"
   ]
  },
  {
   "cell_type": "code",
   "execution_count": null,
   "metadata": {},
   "outputs": [],
   "source": []
  }
 ],
 "metadata": {
  "kernelspec": {
   "display_name": "Python 3.10.5 ('venv-nap': venv)",
   "language": "python",
   "name": "python3"
  },
  "language_info": {
   "codemirror_mode": {
    "name": "ipython",
    "version": 3
   },
   "file_extension": ".py",
   "mimetype": "text/x-python",
   "name": "python",
   "nbconvert_exporter": "python",
   "pygments_lexer": "ipython3",
   "version": "3.10.5"
  },
  "orig_nbformat": 4,
  "vscode": {
   "interpreter": {
    "hash": "228ea3748f49093993f7ca989c09e25264db3703291e3a4aaa931dd28b2eaabc"
   }
  }
 },
 "nbformat": 4,
 "nbformat_minor": 2
}
