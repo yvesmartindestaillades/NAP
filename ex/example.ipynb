{
 "cells": [
  {
   "cell_type": "markdown",
   "metadata": {},
   "source": [
    "## Imports"
   ]
  },
  {
   "cell_type": "code",
   "execution_count": 1,
   "metadata": {},
   "outputs": [
    {
     "name": "stderr",
     "output_type": "stream",
     "text": [
      "/Users/ymdt/src/dreem_nap/venv-nap/lib/python3.10/site-packages/tqdm/auto.py:22: TqdmWarning:\n",
      "\n",
      "IProgress not found. Please update jupyter and ipywidgets. See https://ipywidgets.readthedocs.io/en/stable/user_install.html\n",
      "\n"
     ]
    }
   ],
   "source": [
    "import pandas as pd\n",
    "import matplotlib.pyplot as plt\n",
    "import matplotlib as mpl\n",
    "from matplotlib.colors import LogNorm\n",
    "from os.path import exists, dirname\n",
    "import os, sys\n",
    "import numpy as np\n",
    "import seaborn as sns\n",
    "import json\n",
    "import yaml\n",
    "import pickle\n",
    "from plotly.subplots import make_subplots\n",
    "import plotly.graph_objects as go\n",
    "from plotly.offline import download_plotlyjs, init_notebook_mode, plot, iplot\n",
    "\n",
    "import matplotlib.pyplot as plt\n",
    "from itertools import cycle\n",
    "from typing import Tuple, List\n",
    "import pandas as pd\n",
    "from plotly.subplots import make_subplots\n",
    "import plotly.graph_objects as go\n",
    "from plotly.offline import download_plotlyjs, init_notebook_mode, plot, iplot\n",
    "import scipy\n",
    "from scipy.optimize import curve_fit\n",
    "\n",
    "pd.options.mode.chained_assignment = None  # default='warn'\n",
    "path = '/Users/ymdt/src/dreem_nap/'\n",
    "sys.path.append(path)\n",
    "from dreem_nap.study import *\n",
    "\n",
    "# Config\n",
    "mpl.rcParams['figure.dpi'] = 100 # the highest the resolution, the slowest the plotting\n",
    "mpl.use('agg')\n",
    "\n",
    "study = Study(path_to_data= '/Users/ymdt/src/dreem_nap/ex/Lauren/lau.csv', \n",
    "              min_cov_bases=1000,\n",
    "              filter_by='study')\n",
    "study.get_df().head()\n",
    "study.df['family'] = study.df['construct'].apply(lambda x: x[x.index('=')+1:x.index('=')+x[x.index('='):].index('-')])\n"
   ]
  },
  {
   "cell_type": "code",
   "execution_count": 2,
   "metadata": {},
   "outputs": [
    {
     "data": {
      "application/vnd.plotly.v1+json": {
       "config": {
        "linkText": "Export to plot.ly",
        "plotlyServerURL": "https://plot.ly",
        "showLink": false
       },
       "data": [
        {
         "error_y": {
          "array": [
           0.00286501,
           0.00227106,
           0.00350694,
           0.00227106,
           0.00183253
          ],
          "arrayminus": [
           0.00118297,
           0.00048419,
           0.00188679,
           0.00048419,
           0
          ],
          "symmetric": false,
          "type": "data"
         },
         "hovertemplate": "<b>mut_rate: %{text[0]}<br><b>base: %{text[1]}<br><b>index: %{text[2]}<br><b>paired: %{text[3]}<br>",
         "marker": {
          "color": "green"
         },
         "name": "T",
         "text": [
          [
           0.00149031,
           "T",
           22,
           false
          ],
          [
           0.00049677,
           "T",
           24,
           false
          ],
          [
           0.00298063,
           "T",
           30,
           true
          ],
          [
           0.00049677,
           "T",
           37,
           false
          ],
          [
           0,
           "T",
           39,
           false
          ]
         ],
         "type": "bar",
         "x": [
          22,
          24,
          30,
          37,
          39
         ],
         "y": [
          0.00149031,
          0.00049677,
          0.00298063,
          0.00049677,
          0
         ]
        },
        {
         "error_y": {
          "array": [
           0.00445186,
           0.01448739,
           0.00695461,
           0.00571848,
           0.00458539,
           0.00507633
          ],
          "arrayminus": [
           0.00288099,
           0.01301483,
           0.00543894,
           0.0041828,
           0.0030194,
           0.00352552
          ],
          "symmetric": false,
          "type": "data"
         },
         "hovertemplate": "<b>mut_rate: %{text[0]}<br><b>base: %{text[1]}<br><b>index: %{text[2]}<br><b>paired: %{text[3]}<br>",
         "marker": {
          "color": "blue"
         },
         "name": "C",
         "text": [
          [
           0.00596125,
           "C",
           20,
           false
          ],
          [
           0.09538003,
           "C",
           31,
           true
          ],
          [
           0.01838053,
           "C",
           33,
           false
          ],
          [
           0.01142573,
           "C",
           34,
           false
          ],
          [
           0.00645802,
           "C",
           35,
           false
          ],
          [
           0.00844511,
           "C",
           41,
           true
          ]
         ],
         "type": "bar",
         "x": [
          20,
          31,
          33,
          34,
          35,
          41
         ],
         "y": [
          0.00596125,
          0.09538003,
          0.01838053,
          0.01142573,
          0.00645802,
          0.00844511
         ]
        },
        {
         "error_y": {
          "array": [
           0.00385653,
           0.00227106,
           0.00471417,
           0.00331263,
           0.00310064
          ],
          "arrayminus": [
           0.0022584,
           0.00048419,
           0.00315254,
           0.00167735,
           0.00144567
          ],
          "symmetric": false,
          "type": "data"
         },
         "hovertemplate": "<b>mut_rate: %{text[0]}<br><b>base: %{text[1]}<br><b>index: %{text[2]}<br><b>paired: %{text[3]}<br>",
         "marker": {
          "color": "orange"
         },
         "name": "G",
         "text": [
          [
           0.00397417,
           "G",
           19,
           false
          ],
          [
           0.00049677,
           "G",
           25,
           false
          ],
          [
           0.00695479,
           "G",
           27,
           false
          ],
          [
           0.00248385,
           "G",
           28,
           false
          ],
          [
           0.00198708,
           "G",
           40,
           false
          ]
         ],
         "type": "bar",
         "x": [
          19,
          25,
          27,
          28,
          40
         ],
         "y": [
          0.00397417,
          0.00049677,
          0.00695479,
          0.00248385,
          0.00198708
         ]
        },
        {
         "error_y": {
          "array": [
           0.00571848,
           0.00519014,
           0.01079193,
           0.01493573,
           0.01256231,
           0.00507633,
           0.00507633
          ],
          "arrayminus": [
           0.0041828,
           0.00364235,
           0.00930643,
           0.01346428,
           0.01108403,
           0.00352552,
           0.00352552
          ],
          "symmetric": false,
          "type": "data"
         },
         "hovertemplate": "<b>mut_rate: %{text[0]}<br><b>base: %{text[1]}<br><b>index: %{text[2]}<br><b>paired: %{text[3]}<br>",
         "marker": {
          "color": "red"
         },
         "name": "A",
         "text": [
          [
           0.01142573,
           "A",
           21,
           false
          ],
          [
           0.00894188,
           "A",
           23,
           false
          ],
          [
           0.05017387,
           "A",
           26,
           true
          ],
          [
           0.10183805,
           "A",
           29,
           true
          ],
          [
           0.07004471,
           "A",
           32,
           true
          ],
          [
           0.00844511,
           "A",
           36,
           false
          ],
          [
           0.00844511,
           "A",
           38,
           false
          ]
         ],
         "type": "bar",
         "x": [
          21,
          23,
          26,
          29,
          32,
          36,
          38
         ],
         "y": [
          0.01142573,
          0.00894188,
          0.05017387,
          0.10183805,
          0.07004471,
          0.00844511,
          0.00844511
         ]
        }
       ],
       "layout": {
        "template": {
         "data": {
          "bar": [
           {
            "error_x": {
             "color": "#2a3f5f"
            },
            "error_y": {
             "color": "#2a3f5f"
            },
            "marker": {
             "line": {
              "color": "#E5ECF6",
              "width": 0.5
             },
             "pattern": {
              "fillmode": "overlay",
              "size": 10,
              "solidity": 0.2
             }
            },
            "type": "bar"
           }
          ],
          "barpolar": [
           {
            "marker": {
             "line": {
              "color": "#E5ECF6",
              "width": 0.5
             },
             "pattern": {
              "fillmode": "overlay",
              "size": 10,
              "solidity": 0.2
             }
            },
            "type": "barpolar"
           }
          ],
          "carpet": [
           {
            "aaxis": {
             "endlinecolor": "#2a3f5f",
             "gridcolor": "white",
             "linecolor": "white",
             "minorgridcolor": "white",
             "startlinecolor": "#2a3f5f"
            },
            "baxis": {
             "endlinecolor": "#2a3f5f",
             "gridcolor": "white",
             "linecolor": "white",
             "minorgridcolor": "white",
             "startlinecolor": "#2a3f5f"
            },
            "type": "carpet"
           }
          ],
          "choropleth": [
           {
            "colorbar": {
             "outlinewidth": 0,
             "ticks": ""
            },
            "type": "choropleth"
           }
          ],
          "contour": [
           {
            "colorbar": {
             "outlinewidth": 0,
             "ticks": ""
            },
            "colorscale": [
             [
              0,
              "#0d0887"
             ],
             [
              0.1111111111111111,
              "#46039f"
             ],
             [
              0.2222222222222222,
              "#7201a8"
             ],
             [
              0.3333333333333333,
              "#9c179e"
             ],
             [
              0.4444444444444444,
              "#bd3786"
             ],
             [
              0.5555555555555556,
              "#d8576b"
             ],
             [
              0.6666666666666666,
              "#ed7953"
             ],
             [
              0.7777777777777778,
              "#fb9f3a"
             ],
             [
              0.8888888888888888,
              "#fdca26"
             ],
             [
              1,
              "#f0f921"
             ]
            ],
            "type": "contour"
           }
          ],
          "contourcarpet": [
           {
            "colorbar": {
             "outlinewidth": 0,
             "ticks": ""
            },
            "type": "contourcarpet"
           }
          ],
          "heatmap": [
           {
            "colorbar": {
             "outlinewidth": 0,
             "ticks": ""
            },
            "colorscale": [
             [
              0,
              "#0d0887"
             ],
             [
              0.1111111111111111,
              "#46039f"
             ],
             [
              0.2222222222222222,
              "#7201a8"
             ],
             [
              0.3333333333333333,
              "#9c179e"
             ],
             [
              0.4444444444444444,
              "#bd3786"
             ],
             [
              0.5555555555555556,
              "#d8576b"
             ],
             [
              0.6666666666666666,
              "#ed7953"
             ],
             [
              0.7777777777777778,
              "#fb9f3a"
             ],
             [
              0.8888888888888888,
              "#fdca26"
             ],
             [
              1,
              "#f0f921"
             ]
            ],
            "type": "heatmap"
           }
          ],
          "heatmapgl": [
           {
            "colorbar": {
             "outlinewidth": 0,
             "ticks": ""
            },
            "colorscale": [
             [
              0,
              "#0d0887"
             ],
             [
              0.1111111111111111,
              "#46039f"
             ],
             [
              0.2222222222222222,
              "#7201a8"
             ],
             [
              0.3333333333333333,
              "#9c179e"
             ],
             [
              0.4444444444444444,
              "#bd3786"
             ],
             [
              0.5555555555555556,
              "#d8576b"
             ],
             [
              0.6666666666666666,
              "#ed7953"
             ],
             [
              0.7777777777777778,
              "#fb9f3a"
             ],
             [
              0.8888888888888888,
              "#fdca26"
             ],
             [
              1,
              "#f0f921"
             ]
            ],
            "type": "heatmapgl"
           }
          ],
          "histogram": [
           {
            "marker": {
             "pattern": {
              "fillmode": "overlay",
              "size": 10,
              "solidity": 0.2
             }
            },
            "type": "histogram"
           }
          ],
          "histogram2d": [
           {
            "colorbar": {
             "outlinewidth": 0,
             "ticks": ""
            },
            "colorscale": [
             [
              0,
              "#0d0887"
             ],
             [
              0.1111111111111111,
              "#46039f"
             ],
             [
              0.2222222222222222,
              "#7201a8"
             ],
             [
              0.3333333333333333,
              "#9c179e"
             ],
             [
              0.4444444444444444,
              "#bd3786"
             ],
             [
              0.5555555555555556,
              "#d8576b"
             ],
             [
              0.6666666666666666,
              "#ed7953"
             ],
             [
              0.7777777777777778,
              "#fb9f3a"
             ],
             [
              0.8888888888888888,
              "#fdca26"
             ],
             [
              1,
              "#f0f921"
             ]
            ],
            "type": "histogram2d"
           }
          ],
          "histogram2dcontour": [
           {
            "colorbar": {
             "outlinewidth": 0,
             "ticks": ""
            },
            "colorscale": [
             [
              0,
              "#0d0887"
             ],
             [
              0.1111111111111111,
              "#46039f"
             ],
             [
              0.2222222222222222,
              "#7201a8"
             ],
             [
              0.3333333333333333,
              "#9c179e"
             ],
             [
              0.4444444444444444,
              "#bd3786"
             ],
             [
              0.5555555555555556,
              "#d8576b"
             ],
             [
              0.6666666666666666,
              "#ed7953"
             ],
             [
              0.7777777777777778,
              "#fb9f3a"
             ],
             [
              0.8888888888888888,
              "#fdca26"
             ],
             [
              1,
              "#f0f921"
             ]
            ],
            "type": "histogram2dcontour"
           }
          ],
          "mesh3d": [
           {
            "colorbar": {
             "outlinewidth": 0,
             "ticks": ""
            },
            "type": "mesh3d"
           }
          ],
          "parcoords": [
           {
            "line": {
             "colorbar": {
              "outlinewidth": 0,
              "ticks": ""
             }
            },
            "type": "parcoords"
           }
          ],
          "pie": [
           {
            "automargin": true,
            "type": "pie"
           }
          ],
          "scatter": [
           {
            "fillpattern": {
             "fillmode": "overlay",
             "size": 10,
             "solidity": 0.2
            },
            "type": "scatter"
           }
          ],
          "scatter3d": [
           {
            "line": {
             "colorbar": {
              "outlinewidth": 0,
              "ticks": ""
             }
            },
            "marker": {
             "colorbar": {
              "outlinewidth": 0,
              "ticks": ""
             }
            },
            "type": "scatter3d"
           }
          ],
          "scattercarpet": [
           {
            "marker": {
             "colorbar": {
              "outlinewidth": 0,
              "ticks": ""
             }
            },
            "type": "scattercarpet"
           }
          ],
          "scattergeo": [
           {
            "marker": {
             "colorbar": {
              "outlinewidth": 0,
              "ticks": ""
             }
            },
            "type": "scattergeo"
           }
          ],
          "scattergl": [
           {
            "marker": {
             "colorbar": {
              "outlinewidth": 0,
              "ticks": ""
             }
            },
            "type": "scattergl"
           }
          ],
          "scattermapbox": [
           {
            "marker": {
             "colorbar": {
              "outlinewidth": 0,
              "ticks": ""
             }
            },
            "type": "scattermapbox"
           }
          ],
          "scatterpolar": [
           {
            "marker": {
             "colorbar": {
              "outlinewidth": 0,
              "ticks": ""
             }
            },
            "type": "scatterpolar"
           }
          ],
          "scatterpolargl": [
           {
            "marker": {
             "colorbar": {
              "outlinewidth": 0,
              "ticks": ""
             }
            },
            "type": "scatterpolargl"
           }
          ],
          "scatterternary": [
           {
            "marker": {
             "colorbar": {
              "outlinewidth": 0,
              "ticks": ""
             }
            },
            "type": "scatterternary"
           }
          ],
          "surface": [
           {
            "colorbar": {
             "outlinewidth": 0,
             "ticks": ""
            },
            "colorscale": [
             [
              0,
              "#0d0887"
             ],
             [
              0.1111111111111111,
              "#46039f"
             ],
             [
              0.2222222222222222,
              "#7201a8"
             ],
             [
              0.3333333333333333,
              "#9c179e"
             ],
             [
              0.4444444444444444,
              "#bd3786"
             ],
             [
              0.5555555555555556,
              "#d8576b"
             ],
             [
              0.6666666666666666,
              "#ed7953"
             ],
             [
              0.7777777777777778,
              "#fb9f3a"
             ],
             [
              0.8888888888888888,
              "#fdca26"
             ],
             [
              1,
              "#f0f921"
             ]
            ],
            "type": "surface"
           }
          ],
          "table": [
           {
            "cells": {
             "fill": {
              "color": "#EBF0F8"
             },
             "line": {
              "color": "white"
             }
            },
            "header": {
             "fill": {
              "color": "#C8D4E3"
             },
             "line": {
              "color": "white"
             }
            },
            "type": "table"
           }
          ]
         },
         "layout": {
          "annotationdefaults": {
           "arrowcolor": "#2a3f5f",
           "arrowhead": 0,
           "arrowwidth": 1
          },
          "autotypenumbers": "strict",
          "coloraxis": {
           "colorbar": {
            "outlinewidth": 0,
            "ticks": ""
           }
          },
          "colorscale": {
           "diverging": [
            [
             0,
             "#8e0152"
            ],
            [
             0.1,
             "#c51b7d"
            ],
            [
             0.2,
             "#de77ae"
            ],
            [
             0.3,
             "#f1b6da"
            ],
            [
             0.4,
             "#fde0ef"
            ],
            [
             0.5,
             "#f7f7f7"
            ],
            [
             0.6,
             "#e6f5d0"
            ],
            [
             0.7,
             "#b8e186"
            ],
            [
             0.8,
             "#7fbc41"
            ],
            [
             0.9,
             "#4d9221"
            ],
            [
             1,
             "#276419"
            ]
           ],
           "sequential": [
            [
             0,
             "#0d0887"
            ],
            [
             0.1111111111111111,
             "#46039f"
            ],
            [
             0.2222222222222222,
             "#7201a8"
            ],
            [
             0.3333333333333333,
             "#9c179e"
            ],
            [
             0.4444444444444444,
             "#bd3786"
            ],
            [
             0.5555555555555556,
             "#d8576b"
            ],
            [
             0.6666666666666666,
             "#ed7953"
            ],
            [
             0.7777777777777778,
             "#fb9f3a"
            ],
            [
             0.8888888888888888,
             "#fdca26"
            ],
            [
             1,
             "#f0f921"
            ]
           ],
           "sequentialminus": [
            [
             0,
             "#0d0887"
            ],
            [
             0.1111111111111111,
             "#46039f"
            ],
            [
             0.2222222222222222,
             "#7201a8"
            ],
            [
             0.3333333333333333,
             "#9c179e"
            ],
            [
             0.4444444444444444,
             "#bd3786"
            ],
            [
             0.5555555555555556,
             "#d8576b"
            ],
            [
             0.6666666666666666,
             "#ed7953"
            ],
            [
             0.7777777777777778,
             "#fb9f3a"
            ],
            [
             0.8888888888888888,
             "#fdca26"
            ],
            [
             1,
             "#f0f921"
            ]
           ]
          },
          "colorway": [
           "#636efa",
           "#EF553B",
           "#00cc96",
           "#ab63fa",
           "#FFA15A",
           "#19d3f3",
           "#FF6692",
           "#B6E880",
           "#FF97FF",
           "#FECB52"
          ],
          "font": {
           "color": "#2a3f5f"
          },
          "geo": {
           "bgcolor": "white",
           "lakecolor": "white",
           "landcolor": "#E5ECF6",
           "showlakes": true,
           "showland": true,
           "subunitcolor": "white"
          },
          "hoverlabel": {
           "align": "left"
          },
          "hovermode": "closest",
          "mapbox": {
           "style": "light"
          },
          "paper_bgcolor": "white",
          "plot_bgcolor": "#E5ECF6",
          "polar": {
           "angularaxis": {
            "gridcolor": "white",
            "linecolor": "white",
            "ticks": ""
           },
           "bgcolor": "#E5ECF6",
           "radialaxis": {
            "gridcolor": "white",
            "linecolor": "white",
            "ticks": ""
           }
          },
          "scene": {
           "xaxis": {
            "backgroundcolor": "#E5ECF6",
            "gridcolor": "white",
            "gridwidth": 2,
            "linecolor": "white",
            "showbackground": true,
            "ticks": "",
            "zerolinecolor": "white"
           },
           "yaxis": {
            "backgroundcolor": "#E5ECF6",
            "gridcolor": "white",
            "gridwidth": 2,
            "linecolor": "white",
            "showbackground": true,
            "ticks": "",
            "zerolinecolor": "white"
           },
           "zaxis": {
            "backgroundcolor": "#E5ECF6",
            "gridcolor": "white",
            "gridwidth": 2,
            "linecolor": "white",
            "showbackground": true,
            "ticks": "",
            "zerolinecolor": "white"
           }
          },
          "shapedefaults": {
           "line": {
            "color": "#2a3f5f"
           }
          },
          "ternary": {
           "aaxis": {
            "gridcolor": "white",
            "linecolor": "white",
            "ticks": ""
           },
           "baxis": {
            "gridcolor": "white",
            "linecolor": "white",
            "ticks": ""
           },
           "bgcolor": "#E5ECF6",
           "caxis": {
            "gridcolor": "white",
            "linecolor": "white",
            "ticks": ""
           }
          },
          "title": {
           "x": 0.05
          },
          "xaxis": {
           "automargin": true,
           "gridcolor": "white",
           "linecolor": "white",
           "ticks": "",
           "title": {
            "standoff": 15
           },
           "zerolinecolor": "white",
           "zerolinewidth": 2
          },
          "yaxis": {
           "automargin": true,
           "gridcolor": "white",
           "linecolor": "white",
           "ticks": "",
           "title": {
            "standoff": 15
           },
           "zerolinecolor": "white",
           "zerolinewidth": 2
          }
         }
        },
        "title": {
         "text": "470 - 3114-O-flank_1=hp7-DB - 0 - 0"
        },
        "xaxis": {
         "autorange": true,
         "linecolor": "black",
         "linewidth": 1,
         "mirror": true,
         "tickangle": 90,
         "ticktext": [
          "(U) 19",
          "(U) 20",
          "(U) 21",
          "(U) 22",
          "(U) 23",
          "(U) 24",
          "(U) 25",
          "(P) 26",
          "(U) 27",
          "(U) 28",
          "(P) 29",
          "(P) 30",
          "(P) 31",
          "(P) 32",
          "(U) 33",
          "(U) 34",
          "(U) 35",
          "(U) 36",
          "(U) 37",
          "(U) 38",
          "(U) 39",
          "(U) 40",
          "(P) 41"
         ],
         "tickvals": [
          19,
          20,
          21,
          22,
          23,
          24,
          25,
          26,
          27,
          28,
          29,
          30,
          31,
          32,
          33,
          34,
          35,
          36,
          37,
          38,
          39,
          40,
          41
         ],
         "title": {
          "text": "Sequence"
         }
        },
        "yaxis": {
         "autorange": true,
         "gridcolor": "lightgray",
         "linecolor": "black",
         "linewidth": 1,
         "mirror": true,
         "range": [
          0,
          0.1
         ],
         "title": {
          "text": "Mutation rate"
         }
        }
       }
      }
     },
     "metadata": {},
     "output_type": "display_data"
    },
    {
     "data": {
      "text/plain": [
       "<dreem_nap.util.OutputPlot at 0x177e6c430>"
      ]
     },
     "execution_count": 2,
     "metadata": {},
     "output_type": "execute_result"
    }
   ],
   "source": [
    "study.mutation_histogram(sample=470, \n",
    "                         construct = '3114-O-flank_1=hp7-DB', \n",
    "                         show_ci=1, \n",
    "                         base_index = list(range(19,42)), \n",
    "                         savefile='test.html', \n",
    "                         auto_open = False)"
   ]
  },
  {
   "cell_type": "code",
   "execution_count": 3,
   "metadata": {},
   "outputs": [
    {
     "data": {
      "application/vnd.plotly.v1+json": {
       "config": {
        "linkText": "Export to plot.ly",
        "plotlyServerURL": "https://plot.ly",
        "showLink": false
       },
       "data": [
        {
         "hovertemplate": "<b>construct: %{text[0]}<br><b>index: %{text[1]}<br><b>mut_rates: %{text[2]}<br><b>deltaG: %{text[3]}<br>",
         "line": {
          "color": "green"
         },
         "mode": "markers",
         "name": "Paired ",
         "text": [
          [
           "3114-O-flank_1=hp7-DB",
           32,
           0.07004471,
           -23.9
          ],
          [
           "3114-O-flank_1=hp7-DB",
           33,
           0.01838053,
           -23.9
          ],
          [
           "3114-O-flank_1=hp7-DB",
           34,
           0.01142573,
           -23.9
          ],
          [
           "3114-O-flank_1=hp7-DB",
           35,
           0.00645802,
           -23.9
          ],
          [
           "3114-O-flank_1=hp7-DB",
           36,
           0.00844511,
           -23.9
          ],
          [
           "3114-O-flank_1=hp7-DB",
           38,
           0.00844511,
           -23.9
          ],
          [
           "3114-O-flank_1=hp7-DB",
           41,
           0.00844511,
           -23.9
          ],
          [
           "3114-O-flank_1=hp7-DB",
           20,
           0.00596125,
           -23.9
          ],
          [
           "3114-O-flank_1=hp7-DB",
           21,
           0.01142573,
           -23.9
          ],
          [
           "3114-O-flank_1=hp7-DB",
           23,
           0.00894188,
           -23.9
          ],
          [
           "3114-O-flank_1=hp7-DB",
           26,
           0.05017387,
           -23.9
          ],
          [
           "3114-O-flank_1=hp7-DB",
           29,
           0.10183805,
           -23.9
          ],
          [
           "3114-O-flank_1=hp7-DB",
           31,
           0.09538003,
           -23.9
          ],
          [
           "3124-O-flank_1=hp7-DB",
           32,
           0.06546708,
           -16.1
          ],
          [
           "3124-O-flank_1=hp7-DB",
           33,
           0.02756508,
           -16.1
          ],
          [
           "3124-O-flank_1=hp7-DB",
           34,
           0.00535988,
           -16.1
          ],
          [
           "3124-O-flank_1=hp7-DB",
           35,
           0.00803674,
           -16.1
          ],
          [
           "3124-O-flank_1=hp7-DB",
           36,
           0.01569078,
           -16.1
          ],
          [
           "3124-O-flank_1=hp7-DB",
           38,
           0.01875239,
           -16.1
          ],
          [
           "3124-O-flank_1=hp7-DB",
           41,
           0.00841622,
           -16.1
          ],
          [
           "3124-O-flank_1=hp7-DB",
           20,
           0.01149425,
           -16.1
          ],
          [
           "3124-O-flank_1=hp7-DB",
           21,
           0.01302183,
           -16.1
          ],
          [
           "3124-O-flank_1=hp7-DB",
           23,
           0.01646879,
           -16.1
          ],
          [
           "3124-O-flank_1=hp7-DB",
           26,
           0.04364472,
           -16.1
          ],
          [
           "3124-O-flank_1=hp7-DB",
           29,
           0.08039816,
           -16.1
          ],
          [
           "3124-O-flank_1=hp7-DB",
           31,
           0.08882083,
           -16.1
          ],
          [
           "3118-O-flank_1=hp7-DB",
           32,
           0.06090808,
           -20.4
          ],
          [
           "3118-O-flank_1=hp7-DB",
           33,
           0.0166113,
           -20.4
          ],
          [
           "3118-O-flank_1=hp7-DB",
           34,
           0.0055371,
           -20.4
          ],
          [
           "3118-O-flank_1=hp7-DB",
           35,
           0.00885936,
           -20.4
          ],
          [
           "3118-O-flank_1=hp7-DB",
           36,
           0.00996678,
           -20.4
          ],
          [
           "3118-O-flank_1=hp7-DB",
           38,
           0.0110742,
           -20.4
          ],
          [
           "3118-O-flank_1=hp7-DB",
           41,
           0.01162791,
           -20.4
          ],
          [
           "3118-O-flank_1=hp7-DB",
           20,
           0.00498615,
           -20.4
          ],
          [
           "3118-O-flank_1=hp7-DB",
           21,
           0.00775623,
           -20.4
          ],
          [
           "3118-O-flank_1=hp7-DB",
           23,
           0.01551247,
           -20.4
          ],
          [
           "3118-O-flank_1=hp7-DB",
           26,
           0.04651163,
           -20.4
          ],
          [
           "3118-O-flank_1=hp7-DB",
           29,
           0.07751938,
           -20.4
          ],
          [
           "3118-O-flank_1=hp7-DB",
           31,
           0.09966777,
           -20.4
          ],
          [
           "3125-O-flank_1=hp7-DB",
           32,
           0.06492335,
           -14
          ],
          [
           "3125-O-flank_1=hp7-DB",
           33,
           0.02344454,
           -14
          ],
          [
           "3125-O-flank_1=hp7-DB",
           34,
           0.00946799,
           -14
          ],
          [
           "3125-O-flank_1=hp7-DB",
           35,
           0.00946372,
           -14
          ],
          [
           "3125-O-flank_1=hp7-DB",
           36,
           0.00766111,
           -14
          ],
          [
           "3125-O-flank_1=hp7-DB",
           38,
           0.01892744,
           -14
          ],
          [
           "3125-O-flank_1=hp7-DB",
           41,
           0.0126183,
           -14
          ],
          [
           "3125-O-flank_1=hp7-DB",
           20,
           0.00405771,
           -14
          ],
          [
           "3125-O-flank_1=hp7-DB",
           21,
           0.0135257,
           -14
          ],
          [
           "3125-O-flank_1=hp7-DB",
           23,
           0.01307484,
           -14
          ],
          [
           "3125-O-flank_1=hp7-DB",
           26,
           0.04733995,
           -14
          ],
          [
           "3125-O-flank_1=hp7-DB",
           29,
           0.08791704,
           -14
          ],
          [
           "3125-O-flank_1=hp7-DB",
           31,
           0.09513075,
           -14
          ],
          [
           "3123-O-flank_1=hp7-DB",
           32,
           0.06815663,
           -15.5
          ],
          [
           "3123-O-flank_1=hp7-DB",
           33,
           0.01902475,
           -15.5
          ],
          [
           "3123-O-flank_1=hp7-DB",
           34,
           0.01200369,
           -15.5
          ],
          [
           "3123-O-flank_1=hp7-DB",
           35,
           0.01089566,
           -15.5
          ],
          [
           "3123-O-flank_1=hp7-DB",
           36,
           0.00941828,
           -15.5
          ],
          [
           "3123-O-flank_1=hp7-DB",
           38,
           0.01181684,
           -15.5
          ],
          [
           "3123-O-flank_1=hp7-DB",
           41,
           0.01144756,
           -15.5
          ],
          [
           "3123-O-flank_1=hp7-DB",
           20,
           0.0088659,
           -15.5
          ],
          [
           "3123-O-flank_1=hp7-DB",
           21,
           0.02031769,
           -15.5
          ],
          [
           "3123-O-flank_1=hp7-DB",
           23,
           0.01680827,
           -15.5
          ],
          [
           "3123-O-flank_1=hp7-DB",
           26,
           0.0554119,
           -15.5
          ],
          [
           "3123-O-flank_1=hp7-DB",
           29,
           0.08422608,
           -15.5
          ],
          [
           "3123-O-flank_1=hp7-DB",
           31,
           0.0847802,
           -15.5
          ],
          [
           "3121-O-flank_1=hp7-DB",
           32,
           0.04994687,
           -19.3
          ],
          [
           "3121-O-flank_1=hp7-DB",
           33,
           0.03347503,
           -19.3
          ],
          [
           "3121-O-flank_1=hp7-DB",
           34,
           0.01433882,
           -19.3
          ],
          [
           "3121-O-flank_1=hp7-DB",
           35,
           0.01380775,
           -19.3
          ],
          [
           "3121-O-flank_1=hp7-DB",
           36,
           0.0244291,
           -19.3
          ],
          [
           "3121-O-flank_1=hp7-DB",
           38,
           0.02389804,
           -19.3
          ],
          [
           "3121-O-flank_1=hp7-DB",
           41,
           0.00584174,
           -19.3
          ],
          [
           "3121-O-flank_1=hp7-DB",
           20,
           0.01859724,
           -19.3
          ],
          [
           "3121-O-flank_1=hp7-DB",
           21,
           0.02550478,
           -19.3
          ],
          [
           "3121-O-flank_1=hp7-DB",
           23,
           0.02709883,
           -19.3
          ],
          [
           "3121-O-flank_1=hp7-DB",
           26,
           0.04250797,
           -19.3
          ],
          [
           "3121-O-flank_1=hp7-DB",
           29,
           0.05100956,
           -19.3
          ],
          [
           "3121-O-flank_1=hp7-DB",
           31,
           0.05951116,
           -19.3
          ],
          [
           "3122-O-flank_1=hp7-DB",
           32,
           0.0636219319,
           -18.1
          ],
          [
           "3122-O-flank_1=hp7-DB",
           33,
           0.0230741057,
           -18.1
          ],
          [
           "3122-O-flank_1=hp7-DB",
           34,
           0.00744719814,
           -18.1
          ],
          [
           "3122-O-flank_1=hp7-DB",
           35,
           0.00781154644,
           -18.1
          ],
          [
           "3122-O-flank_1=hp7-DB",
           36,
           0.0109849872,
           -18.1
          ],
          [
           "3122-O-flank_1=hp7-DB",
           38,
           0.0140329469,
           -18.1
          ],
          [
           "3122-O-flank_1=hp7-DB",
           41,
           0.0143990238,
           -18.1
          ],
          [
           "3122-O-flank_1=hp7-DB",
           20,
           0.00720654696,
           -18.1
          ],
          [
           "3122-O-flank_1=hp7-DB",
           21,
           0.0163674118,
           -18.1
          ],
          [
           "3122-O-flank_1=hp7-DB",
           23,
           0.0147777235,
           -18.1
          ],
          [
           "3122-O-flank_1=hp7-DB",
           26,
           0.0505556234,
           -18.1
          ],
          [
           "3122-O-flank_1=hp7-DB",
           29,
           0.0890218586,
           -18.1
          ],
          [
           "3122-O-flank_1=hp7-DB",
           31,
           0.0835266821,
           -18.1
          ]
         ],
         "type": "scatter",
         "x": [
          -23.9,
          -23.9,
          -23.9,
          -23.9,
          -23.9,
          -23.9,
          -23.9,
          -23.9,
          -16.1,
          -16.1,
          -16.1,
          -16.1,
          -16.1,
          -16.1,
          -16.1,
          -16.1,
          -20.4,
          -20.4,
          -20.4,
          -20.4,
          -20.4,
          -20.4,
          -20.4,
          -20.4,
          -14,
          -14,
          -14,
          -14,
          -14,
          -14,
          -14,
          -14,
          -15.5,
          -15.5,
          -15.5,
          -15.5,
          -15.5,
          -15.5,
          -15.5,
          -15.5,
          -15.5,
          -19.3,
          -19.3,
          -19.3,
          -19.3,
          -19.3,
          -19.3,
          -19.3,
          -19.3,
          -19.3,
          -18.1,
          -18.1,
          -18.1,
          -18.1,
          -18.1,
          -18.1,
          -18.1,
          -18.1,
          -18.1
         ],
         "y": [
          0.01838053,
          0.01142573,
          0.00645802,
          0.00844511,
          0.00844511,
          0.00596125,
          0.01142573,
          0.00894188,
          0.02756508,
          0.00535988,
          0.00803674,
          0.01569078,
          0.01875239,
          0.01149425,
          0.01302183,
          0.01646879,
          0.0166113,
          0.0055371,
          0.00885936,
          0.00996678,
          0.0110742,
          0.00498615,
          0.00775623,
          0.01551247,
          0.02344454,
          0.00946799,
          0.00946372,
          0.00766111,
          0.01892744,
          0.00405771,
          0.0135257,
          0.01307484,
          0.01902475,
          0.01200369,
          0.01089566,
          0.00941828,
          0.01181684,
          0.01144756,
          0.0088659,
          0.02031769,
          0.01680827,
          0.03347503,
          0.01433882,
          0.01380775,
          0.0244291,
          0.02389804,
          0.00584174,
          0.01859724,
          0.02550478,
          0.02709883,
          0.0230741057,
          0.00744719814,
          0.00781154644,
          0.0109849872,
          0.0140329469,
          0.0143990238,
          0.00720654696,
          0.0163674118,
          0.0147777235
         ]
        },
        {
         "line": {
          "color": "darkseagreen",
          "dash": "dash"
         },
         "marker": {
          "symbol": 0
         },
         "mode": "lines+markers",
         "name": "Paired : 0.00024*x + 0.01786\n R2=0.11233",
         "type": "scatter",
         "x": [
          -23.9,
          -23.9,
          -23.9,
          -23.9,
          -23.9,
          -23.9,
          -23.9,
          -23.9,
          -20.4,
          -20.4,
          -20.4,
          -20.4,
          -20.4,
          -20.4,
          -20.4,
          -20.4,
          -19.3,
          -19.3,
          -19.3,
          -19.3,
          -19.3,
          -19.3,
          -19.3,
          -19.3,
          -19.3,
          -18.1,
          -18.1,
          -18.1,
          -18.1,
          -18.1,
          -18.1,
          -18.1,
          -18.1,
          -18.1,
          -16.1,
          -16.1,
          -16.1,
          -16.1,
          -16.1,
          -16.1,
          -16.1,
          -16.1,
          -15.5,
          -15.5,
          -15.5,
          -15.5,
          -15.5,
          -15.5,
          -15.5,
          -15.5,
          -15.5,
          -14,
          -14,
          -14,
          -14,
          -14,
          -14,
          -14,
          -14
         ],
         "y": [
          0.012189128138011316,
          0.012189128138011316,
          0.012189128138011316,
          0.012189128138011316,
          0.012189128138011316,
          0.012189128138011316,
          0.012189128138011316,
          0.012189128138011316,
          0.013019010785711178,
          0.013019010785711178,
          0.013019010785711178,
          0.013019010785711178,
          0.013019010785711178,
          0.013019010785711178,
          0.013019010785711178,
          0.013019010785711178,
          0.013279831046416847,
          0.013279831046416847,
          0.013279831046416847,
          0.013279831046416847,
          0.013279831046416847,
          0.013279831046416847,
          0.013279831046416847,
          0.013279831046416847,
          0.013279831046416847,
          0.013564362239913941,
          0.013564362239913941,
          0.013564362239913941,
          0.013564362239913941,
          0.013564362239913941,
          0.013564362239913941,
          0.013564362239913941,
          0.013564362239913941,
          0.013564362239913941,
          0.014038580895742434,
          0.014038580895742434,
          0.014038580895742434,
          0.014038580895742434,
          0.014038580895742434,
          0.014038580895742434,
          0.014038580895742434,
          0.014038580895742434,
          0.01418084649249098,
          0.01418084649249098,
          0.01418084649249098,
          0.01418084649249098,
          0.01418084649249098,
          0.01418084649249098,
          0.01418084649249098,
          0.01418084649249098,
          0.01418084649249098,
          0.01453651048436235,
          0.01453651048436235,
          0.01453651048436235,
          0.01453651048436235,
          0.01453651048436235,
          0.01453651048436235,
          0.01453651048436235,
          0.01453651048436235
         ]
        },
        {
         "line": {
          "color": "darkseagreen",
          "dash": "dash"
         },
         "marker": {
          "symbol": 1
         },
         "mode": "lines+markers",
         "name": "Paired : -5e-05*x**2 + -0.00177*x\n R2=0.22606",
         "type": "scatter",
         "x": [
          -23.9,
          -23.9,
          -23.9,
          -23.9,
          -23.9,
          -23.9,
          -23.9,
          -23.9,
          -20.4,
          -20.4,
          -20.4,
          -20.4,
          -20.4,
          -20.4,
          -20.4,
          -20.4,
          -19.3,
          -19.3,
          -19.3,
          -19.3,
          -19.3,
          -19.3,
          -19.3,
          -19.3,
          -19.3,
          -18.1,
          -18.1,
          -18.1,
          -18.1,
          -18.1,
          -18.1,
          -18.1,
          -18.1,
          -18.1,
          -16.1,
          -16.1,
          -16.1,
          -16.1,
          -16.1,
          -16.1,
          -16.1,
          -16.1,
          -15.5,
          -15.5,
          -15.5,
          -15.5,
          -15.5,
          -15.5,
          -15.5,
          -15.5,
          -15.5,
          -14,
          -14,
          -14,
          -14,
          -14,
          -14,
          -14,
          -14
         ],
         "y": [
          0.011035666732184556,
          0.011035666732184556,
          0.011035666732184556,
          0.011035666732184556,
          0.011035666732184556,
          0.011035666732184556,
          0.011035666732184556,
          0.011035666732184556,
          0.013329492654994935,
          0.013329492654994935,
          0.013329492654994935,
          0.013329492654994935,
          0.013329492654994935,
          0.013329492654994935,
          0.013329492654994935,
          0.013329492654994935,
          0.01377331925605317,
          0.01377331925605317,
          0.01377331925605317,
          0.01377331925605317,
          0.01377331925605317,
          0.01377331925605317,
          0.01377331925605317,
          0.01377331925605317,
          0.01377331925605317,
          0.01410635366582252,
          0.01410635366582252,
          0.01410635366582252,
          0.01410635366582252,
          0.01410635366582252,
          0.01410635366582252,
          0.01410635366582252,
          0.01410635366582252,
          0.01410635366582252,
          0.014310941301554397,
          0.014310941301554397,
          0.014310941301554397,
          0.014310941301554397,
          0.014310941301554397,
          0.014310941301554397,
          0.014310941301554397,
          0.014310941301554397,
          0.0142868905995148,
          0.0142868905995148,
          0.0142868905995148,
          0.0142868905995148,
          0.0142868905995148,
          0.0142868905995148,
          0.0142868905995148,
          0.0142868905995148,
          0.0142868905995148,
          0.014054267032113672,
          0.014054267032113672,
          0.014054267032113672,
          0.014054267032113672,
          0.014054267032113672,
          0.014054267032113672,
          0.014054267032113672,
          0.014054267032113672
         ]
        },
        {
         "hovertemplate": "<b>construct: %{text[0]}<br><b>index: %{text[1]}<br><b>mut_rates: %{text[2]}<br><b>deltaG: %{text[3]}<br>",
         "line": {
          "color": "red"
         },
         "mode": "markers",
         "name": "Unpaired ",
         "text": [
          [
           "3114-O-flank_1=hp7-DB",
           32,
           0.07004471,
           -23.9
          ],
          [
           "3114-O-flank_1=hp7-DB",
           33,
           0.01838053,
           -23.9
          ],
          [
           "3114-O-flank_1=hp7-DB",
           34,
           0.01142573,
           -23.9
          ],
          [
           "3114-O-flank_1=hp7-DB",
           35,
           0.00645802,
           -23.9
          ],
          [
           "3114-O-flank_1=hp7-DB",
           36,
           0.00844511,
           -23.9
          ],
          [
           "3114-O-flank_1=hp7-DB",
           38,
           0.00844511,
           -23.9
          ],
          [
           "3114-O-flank_1=hp7-DB",
           41,
           0.00844511,
           -23.9
          ],
          [
           "3114-O-flank_1=hp7-DB",
           20,
           0.00596125,
           -23.9
          ],
          [
           "3114-O-flank_1=hp7-DB",
           21,
           0.01142573,
           -23.9
          ],
          [
           "3114-O-flank_1=hp7-DB",
           23,
           0.00894188,
           -23.9
          ],
          [
           "3114-O-flank_1=hp7-DB",
           26,
           0.05017387,
           -23.9
          ],
          [
           "3114-O-flank_1=hp7-DB",
           29,
           0.10183805,
           -23.9
          ],
          [
           "3114-O-flank_1=hp7-DB",
           31,
           0.09538003,
           -23.9
          ],
          [
           "3124-O-flank_1=hp7-DB",
           32,
           0.06546708,
           -16.1
          ],
          [
           "3124-O-flank_1=hp7-DB",
           33,
           0.02756508,
           -16.1
          ],
          [
           "3124-O-flank_1=hp7-DB",
           34,
           0.00535988,
           -16.1
          ],
          [
           "3124-O-flank_1=hp7-DB",
           35,
           0.00803674,
           -16.1
          ],
          [
           "3124-O-flank_1=hp7-DB",
           36,
           0.01569078,
           -16.1
          ],
          [
           "3124-O-flank_1=hp7-DB",
           38,
           0.01875239,
           -16.1
          ],
          [
           "3124-O-flank_1=hp7-DB",
           41,
           0.00841622,
           -16.1
          ],
          [
           "3124-O-flank_1=hp7-DB",
           20,
           0.01149425,
           -16.1
          ],
          [
           "3124-O-flank_1=hp7-DB",
           21,
           0.01302183,
           -16.1
          ],
          [
           "3124-O-flank_1=hp7-DB",
           23,
           0.01646879,
           -16.1
          ],
          [
           "3124-O-flank_1=hp7-DB",
           26,
           0.04364472,
           -16.1
          ],
          [
           "3124-O-flank_1=hp7-DB",
           29,
           0.08039816,
           -16.1
          ],
          [
           "3124-O-flank_1=hp7-DB",
           31,
           0.08882083,
           -16.1
          ],
          [
           "3118-O-flank_1=hp7-DB",
           32,
           0.06090808,
           -20.4
          ],
          [
           "3118-O-flank_1=hp7-DB",
           33,
           0.0166113,
           -20.4
          ],
          [
           "3118-O-flank_1=hp7-DB",
           34,
           0.0055371,
           -20.4
          ],
          [
           "3118-O-flank_1=hp7-DB",
           35,
           0.00885936,
           -20.4
          ],
          [
           "3118-O-flank_1=hp7-DB",
           36,
           0.00996678,
           -20.4
          ],
          [
           "3118-O-flank_1=hp7-DB",
           38,
           0.0110742,
           -20.4
          ],
          [
           "3118-O-flank_1=hp7-DB",
           41,
           0.01162791,
           -20.4
          ],
          [
           "3118-O-flank_1=hp7-DB",
           20,
           0.00498615,
           -20.4
          ],
          [
           "3118-O-flank_1=hp7-DB",
           21,
           0.00775623,
           -20.4
          ],
          [
           "3118-O-flank_1=hp7-DB",
           23,
           0.01551247,
           -20.4
          ],
          [
           "3118-O-flank_1=hp7-DB",
           26,
           0.04651163,
           -20.4
          ],
          [
           "3118-O-flank_1=hp7-DB",
           29,
           0.07751938,
           -20.4
          ],
          [
           "3118-O-flank_1=hp7-DB",
           31,
           0.09966777,
           -20.4
          ],
          [
           "3125-O-flank_1=hp7-DB",
           32,
           0.06492335,
           -14
          ],
          [
           "3125-O-flank_1=hp7-DB",
           33,
           0.02344454,
           -14
          ],
          [
           "3125-O-flank_1=hp7-DB",
           34,
           0.00946799,
           -14
          ],
          [
           "3125-O-flank_1=hp7-DB",
           35,
           0.00946372,
           -14
          ],
          [
           "3125-O-flank_1=hp7-DB",
           36,
           0.00766111,
           -14
          ],
          [
           "3125-O-flank_1=hp7-DB",
           38,
           0.01892744,
           -14
          ],
          [
           "3125-O-flank_1=hp7-DB",
           41,
           0.0126183,
           -14
          ],
          [
           "3125-O-flank_1=hp7-DB",
           20,
           0.00405771,
           -14
          ],
          [
           "3125-O-flank_1=hp7-DB",
           21,
           0.0135257,
           -14
          ],
          [
           "3125-O-flank_1=hp7-DB",
           23,
           0.01307484,
           -14
          ],
          [
           "3125-O-flank_1=hp7-DB",
           26,
           0.04733995,
           -14
          ],
          [
           "3125-O-flank_1=hp7-DB",
           29,
           0.08791704,
           -14
          ],
          [
           "3125-O-flank_1=hp7-DB",
           31,
           0.09513075,
           -14
          ],
          [
           "3123-O-flank_1=hp7-DB",
           32,
           0.06815663,
           -15.5
          ],
          [
           "3123-O-flank_1=hp7-DB",
           33,
           0.01902475,
           -15.5
          ],
          [
           "3123-O-flank_1=hp7-DB",
           34,
           0.01200369,
           -15.5
          ],
          [
           "3123-O-flank_1=hp7-DB",
           35,
           0.01089566,
           -15.5
          ],
          [
           "3123-O-flank_1=hp7-DB",
           36,
           0.00941828,
           -15.5
          ],
          [
           "3123-O-flank_1=hp7-DB",
           38,
           0.01181684,
           -15.5
          ],
          [
           "3123-O-flank_1=hp7-DB",
           41,
           0.01144756,
           -15.5
          ],
          [
           "3123-O-flank_1=hp7-DB",
           20,
           0.0088659,
           -15.5
          ],
          [
           "3123-O-flank_1=hp7-DB",
           21,
           0.02031769,
           -15.5
          ],
          [
           "3123-O-flank_1=hp7-DB",
           23,
           0.01680827,
           -15.5
          ],
          [
           "3123-O-flank_1=hp7-DB",
           26,
           0.0554119,
           -15.5
          ],
          [
           "3123-O-flank_1=hp7-DB",
           29,
           0.08422608,
           -15.5
          ],
          [
           "3123-O-flank_1=hp7-DB",
           31,
           0.0847802,
           -15.5
          ],
          [
           "3121-O-flank_1=hp7-DB",
           32,
           0.04994687,
           -19.3
          ],
          [
           "3121-O-flank_1=hp7-DB",
           33,
           0.03347503,
           -19.3
          ],
          [
           "3121-O-flank_1=hp7-DB",
           34,
           0.01433882,
           -19.3
          ],
          [
           "3121-O-flank_1=hp7-DB",
           35,
           0.01380775,
           -19.3
          ],
          [
           "3121-O-flank_1=hp7-DB",
           36,
           0.0244291,
           -19.3
          ],
          [
           "3121-O-flank_1=hp7-DB",
           38,
           0.02389804,
           -19.3
          ],
          [
           "3121-O-flank_1=hp7-DB",
           41,
           0.00584174,
           -19.3
          ],
          [
           "3121-O-flank_1=hp7-DB",
           20,
           0.01859724,
           -19.3
          ],
          [
           "3121-O-flank_1=hp7-DB",
           21,
           0.02550478,
           -19.3
          ],
          [
           "3121-O-flank_1=hp7-DB",
           23,
           0.02709883,
           -19.3
          ],
          [
           "3121-O-flank_1=hp7-DB",
           26,
           0.04250797,
           -19.3
          ],
          [
           "3121-O-flank_1=hp7-DB",
           29,
           0.05100956,
           -19.3
          ],
          [
           "3121-O-flank_1=hp7-DB",
           31,
           0.05951116,
           -19.3
          ],
          [
           "3122-O-flank_1=hp7-DB",
           32,
           0.0636219319,
           -18.1
          ],
          [
           "3122-O-flank_1=hp7-DB",
           33,
           0.0230741057,
           -18.1
          ],
          [
           "3122-O-flank_1=hp7-DB",
           34,
           0.00744719814,
           -18.1
          ],
          [
           "3122-O-flank_1=hp7-DB",
           35,
           0.00781154644,
           -18.1
          ],
          [
           "3122-O-flank_1=hp7-DB",
           36,
           0.0109849872,
           -18.1
          ],
          [
           "3122-O-flank_1=hp7-DB",
           38,
           0.0140329469,
           -18.1
          ],
          [
           "3122-O-flank_1=hp7-DB",
           41,
           0.0143990238,
           -18.1
          ],
          [
           "3122-O-flank_1=hp7-DB",
           20,
           0.00720654696,
           -18.1
          ],
          [
           "3122-O-flank_1=hp7-DB",
           21,
           0.0163674118,
           -18.1
          ],
          [
           "3122-O-flank_1=hp7-DB",
           23,
           0.0147777235,
           -18.1
          ],
          [
           "3122-O-flank_1=hp7-DB",
           26,
           0.0505556234,
           -18.1
          ],
          [
           "3122-O-flank_1=hp7-DB",
           29,
           0.0890218586,
           -18.1
          ],
          [
           "3122-O-flank_1=hp7-DB",
           31,
           0.0835266821,
           -18.1
          ]
         ],
         "type": "scatter",
         "x": [
          -23.9,
          -23.9,
          -23.9,
          -23.9,
          -23.9,
          -16.1,
          -16.1,
          -16.1,
          -16.1,
          -16.1,
          -20.4,
          -20.4,
          -20.4,
          -20.4,
          -20.4,
          -14,
          -14,
          -14,
          -14,
          -14,
          -15.5,
          -15.5,
          -15.5,
          -15.5,
          -19.3,
          -19.3,
          -19.3,
          -19.3,
          -18.1,
          -18.1,
          -18.1,
          -18.1
         ],
         "y": [
          0.07004471,
          0.00844511,
          0.05017387,
          0.10183805,
          0.09538003,
          0.06546708,
          0.00841622,
          0.04364472,
          0.08039816,
          0.08882083,
          0.06090808,
          0.01162791,
          0.04651163,
          0.07751938,
          0.09966777,
          0.06492335,
          0.0126183,
          0.04733995,
          0.08791704,
          0.09513075,
          0.06815663,
          0.0554119,
          0.08422608,
          0.0847802,
          0.04994687,
          0.04250797,
          0.05100956,
          0.05951116,
          0.0636219319,
          0.0505556234,
          0.0890218586,
          0.0835266821
         ]
        },
        {
         "line": {
          "color": "crimson",
          "dash": "dash"
         },
         "marker": {
          "symbol": 0
         },
         "mode": "lines+markers",
         "name": "Unpaired : 0.00017*x + 0.06559\n R2=0.02096",
         "type": "scatter",
         "x": [
          -23.9,
          -23.9,
          -23.9,
          -23.9,
          -23.9,
          -20.4,
          -20.4,
          -20.4,
          -20.4,
          -20.4,
          -19.3,
          -19.3,
          -19.3,
          -19.3,
          -18.1,
          -18.1,
          -18.1,
          -18.1,
          -16.1,
          -16.1,
          -16.1,
          -16.1,
          -16.1,
          -15.5,
          -15.5,
          -15.5,
          -15.5,
          -14,
          -14,
          -14,
          -14,
          -14
         ],
         "y": [
          0.06150326388170935,
          0.06150326388170935,
          0.06150326388170935,
          0.06150326388170935,
          0.06150326388170935,
          0.06210137296696247,
          0.06210137296696247,
          0.06210137296696247,
          0.06210137296696247,
          0.06210137296696247,
          0.06228935010804202,
          0.06228935010804202,
          0.06228935010804202,
          0.06228935010804202,
          0.0624944160801288,
          0.0624944160801288,
          0.0624944160801288,
          0.0624944160801288,
          0.06283619270027344,
          0.06283619270027344,
          0.06283619270027344,
          0.06283619270027344,
          0.06283619270027344,
          0.06293872568631684,
          0.06293872568631684,
          0.06293872568631684,
          0.06293872568631684,
          0.06319505815142532,
          0.06319505815142532,
          0.06319505815142532,
          0.06319505815142532,
          0.06319505815142532
         ]
        },
        {
         "line": {
          "color": "crimson",
          "dash": "dash"
         },
         "marker": {
          "symbol": 1
         },
         "mode": "lines+markers",
         "name": "Unpaired : -0.00018*x**2 + -0.0068*x\n R2=-0.06081",
         "type": "scatter",
         "x": [
          -23.9,
          -23.9,
          -23.9,
          -23.9,
          -23.9,
          -20.4,
          -20.4,
          -20.4,
          -20.4,
          -20.4,
          -19.3,
          -19.3,
          -19.3,
          -19.3,
          -18.1,
          -18.1,
          -18.1,
          -18.1,
          -16.1,
          -16.1,
          -16.1,
          -16.1,
          -16.1,
          -15.5,
          -15.5,
          -15.5,
          -15.5,
          -14,
          -14,
          -14,
          -14,
          -14
         ],
         "y": [
          0.059858109029348266,
          0.059858109029348266,
          0.059858109029348266,
          0.059858109029348266,
          0.059858109029348266,
          0.06392176486074168,
          0.06392176486074168,
          0.06392176486074168,
          0.06392176486074168,
          0.06392176486074168,
          0.0642897092459872,
          0.0642897092459872,
          0.0642897092459872,
          0.0642897092459872,
          0.06419517334425402,
          0.06419517334425402,
          0.06419517334425402,
          0.06419517334425402,
          0.06288763141748945,
          0.06288763141748945,
          0.06288763141748945,
          0.06288763141748945,
          0.06288763141748945,
          0.06221506070489031,
          0.06221506070489031,
          0.06221506070489031,
          0.06221506070489031,
          0.05996762711320353,
          0.05996762711320353,
          0.05996762711320353,
          0.05996762711320353,
          0.05996762711320353
         ]
        }
       ],
       "layout": {
        "template": {
         "data": {
          "bar": [
           {
            "error_x": {
             "color": "#2a3f5f"
            },
            "error_y": {
             "color": "#2a3f5f"
            },
            "marker": {
             "line": {
              "color": "#E5ECF6",
              "width": 0.5
             },
             "pattern": {
              "fillmode": "overlay",
              "size": 10,
              "solidity": 0.2
             }
            },
            "type": "bar"
           }
          ],
          "barpolar": [
           {
            "marker": {
             "line": {
              "color": "#E5ECF6",
              "width": 0.5
             },
             "pattern": {
              "fillmode": "overlay",
              "size": 10,
              "solidity": 0.2
             }
            },
            "type": "barpolar"
           }
          ],
          "carpet": [
           {
            "aaxis": {
             "endlinecolor": "#2a3f5f",
             "gridcolor": "white",
             "linecolor": "white",
             "minorgridcolor": "white",
             "startlinecolor": "#2a3f5f"
            },
            "baxis": {
             "endlinecolor": "#2a3f5f",
             "gridcolor": "white",
             "linecolor": "white",
             "minorgridcolor": "white",
             "startlinecolor": "#2a3f5f"
            },
            "type": "carpet"
           }
          ],
          "choropleth": [
           {
            "colorbar": {
             "outlinewidth": 0,
             "ticks": ""
            },
            "type": "choropleth"
           }
          ],
          "contour": [
           {
            "colorbar": {
             "outlinewidth": 0,
             "ticks": ""
            },
            "colorscale": [
             [
              0,
              "#0d0887"
             ],
             [
              0.1111111111111111,
              "#46039f"
             ],
             [
              0.2222222222222222,
              "#7201a8"
             ],
             [
              0.3333333333333333,
              "#9c179e"
             ],
             [
              0.4444444444444444,
              "#bd3786"
             ],
             [
              0.5555555555555556,
              "#d8576b"
             ],
             [
              0.6666666666666666,
              "#ed7953"
             ],
             [
              0.7777777777777778,
              "#fb9f3a"
             ],
             [
              0.8888888888888888,
              "#fdca26"
             ],
             [
              1,
              "#f0f921"
             ]
            ],
            "type": "contour"
           }
          ],
          "contourcarpet": [
           {
            "colorbar": {
             "outlinewidth": 0,
             "ticks": ""
            },
            "type": "contourcarpet"
           }
          ],
          "heatmap": [
           {
            "colorbar": {
             "outlinewidth": 0,
             "ticks": ""
            },
            "colorscale": [
             [
              0,
              "#0d0887"
             ],
             [
              0.1111111111111111,
              "#46039f"
             ],
             [
              0.2222222222222222,
              "#7201a8"
             ],
             [
              0.3333333333333333,
              "#9c179e"
             ],
             [
              0.4444444444444444,
              "#bd3786"
             ],
             [
              0.5555555555555556,
              "#d8576b"
             ],
             [
              0.6666666666666666,
              "#ed7953"
             ],
             [
              0.7777777777777778,
              "#fb9f3a"
             ],
             [
              0.8888888888888888,
              "#fdca26"
             ],
             [
              1,
              "#f0f921"
             ]
            ],
            "type": "heatmap"
           }
          ],
          "heatmapgl": [
           {
            "colorbar": {
             "outlinewidth": 0,
             "ticks": ""
            },
            "colorscale": [
             [
              0,
              "#0d0887"
             ],
             [
              0.1111111111111111,
              "#46039f"
             ],
             [
              0.2222222222222222,
              "#7201a8"
             ],
             [
              0.3333333333333333,
              "#9c179e"
             ],
             [
              0.4444444444444444,
              "#bd3786"
             ],
             [
              0.5555555555555556,
              "#d8576b"
             ],
             [
              0.6666666666666666,
              "#ed7953"
             ],
             [
              0.7777777777777778,
              "#fb9f3a"
             ],
             [
              0.8888888888888888,
              "#fdca26"
             ],
             [
              1,
              "#f0f921"
             ]
            ],
            "type": "heatmapgl"
           }
          ],
          "histogram": [
           {
            "marker": {
             "pattern": {
              "fillmode": "overlay",
              "size": 10,
              "solidity": 0.2
             }
            },
            "type": "histogram"
           }
          ],
          "histogram2d": [
           {
            "colorbar": {
             "outlinewidth": 0,
             "ticks": ""
            },
            "colorscale": [
             [
              0,
              "#0d0887"
             ],
             [
              0.1111111111111111,
              "#46039f"
             ],
             [
              0.2222222222222222,
              "#7201a8"
             ],
             [
              0.3333333333333333,
              "#9c179e"
             ],
             [
              0.4444444444444444,
              "#bd3786"
             ],
             [
              0.5555555555555556,
              "#d8576b"
             ],
             [
              0.6666666666666666,
              "#ed7953"
             ],
             [
              0.7777777777777778,
              "#fb9f3a"
             ],
             [
              0.8888888888888888,
              "#fdca26"
             ],
             [
              1,
              "#f0f921"
             ]
            ],
            "type": "histogram2d"
           }
          ],
          "histogram2dcontour": [
           {
            "colorbar": {
             "outlinewidth": 0,
             "ticks": ""
            },
            "colorscale": [
             [
              0,
              "#0d0887"
             ],
             [
              0.1111111111111111,
              "#46039f"
             ],
             [
              0.2222222222222222,
              "#7201a8"
             ],
             [
              0.3333333333333333,
              "#9c179e"
             ],
             [
              0.4444444444444444,
              "#bd3786"
             ],
             [
              0.5555555555555556,
              "#d8576b"
             ],
             [
              0.6666666666666666,
              "#ed7953"
             ],
             [
              0.7777777777777778,
              "#fb9f3a"
             ],
             [
              0.8888888888888888,
              "#fdca26"
             ],
             [
              1,
              "#f0f921"
             ]
            ],
            "type": "histogram2dcontour"
           }
          ],
          "mesh3d": [
           {
            "colorbar": {
             "outlinewidth": 0,
             "ticks": ""
            },
            "type": "mesh3d"
           }
          ],
          "parcoords": [
           {
            "line": {
             "colorbar": {
              "outlinewidth": 0,
              "ticks": ""
             }
            },
            "type": "parcoords"
           }
          ],
          "pie": [
           {
            "automargin": true,
            "type": "pie"
           }
          ],
          "scatter": [
           {
            "fillpattern": {
             "fillmode": "overlay",
             "size": 10,
             "solidity": 0.2
            },
            "type": "scatter"
           }
          ],
          "scatter3d": [
           {
            "line": {
             "colorbar": {
              "outlinewidth": 0,
              "ticks": ""
             }
            },
            "marker": {
             "colorbar": {
              "outlinewidth": 0,
              "ticks": ""
             }
            },
            "type": "scatter3d"
           }
          ],
          "scattercarpet": [
           {
            "marker": {
             "colorbar": {
              "outlinewidth": 0,
              "ticks": ""
             }
            },
            "type": "scattercarpet"
           }
          ],
          "scattergeo": [
           {
            "marker": {
             "colorbar": {
              "outlinewidth": 0,
              "ticks": ""
             }
            },
            "type": "scattergeo"
           }
          ],
          "scattergl": [
           {
            "marker": {
             "colorbar": {
              "outlinewidth": 0,
              "ticks": ""
             }
            },
            "type": "scattergl"
           }
          ],
          "scattermapbox": [
           {
            "marker": {
             "colorbar": {
              "outlinewidth": 0,
              "ticks": ""
             }
            },
            "type": "scattermapbox"
           }
          ],
          "scatterpolar": [
           {
            "marker": {
             "colorbar": {
              "outlinewidth": 0,
              "ticks": ""
             }
            },
            "type": "scatterpolar"
           }
          ],
          "scatterpolargl": [
           {
            "marker": {
             "colorbar": {
              "outlinewidth": 0,
              "ticks": ""
             }
            },
            "type": "scatterpolargl"
           }
          ],
          "scatterternary": [
           {
            "marker": {
             "colorbar": {
              "outlinewidth": 0,
              "ticks": ""
             }
            },
            "type": "scatterternary"
           }
          ],
          "surface": [
           {
            "colorbar": {
             "outlinewidth": 0,
             "ticks": ""
            },
            "colorscale": [
             [
              0,
              "#0d0887"
             ],
             [
              0.1111111111111111,
              "#46039f"
             ],
             [
              0.2222222222222222,
              "#7201a8"
             ],
             [
              0.3333333333333333,
              "#9c179e"
             ],
             [
              0.4444444444444444,
              "#bd3786"
             ],
             [
              0.5555555555555556,
              "#d8576b"
             ],
             [
              0.6666666666666666,
              "#ed7953"
             ],
             [
              0.7777777777777778,
              "#fb9f3a"
             ],
             [
              0.8888888888888888,
              "#fdca26"
             ],
             [
              1,
              "#f0f921"
             ]
            ],
            "type": "surface"
           }
          ],
          "table": [
           {
            "cells": {
             "fill": {
              "color": "#EBF0F8"
             },
             "line": {
              "color": "white"
             }
            },
            "header": {
             "fill": {
              "color": "#C8D4E3"
             },
             "line": {
              "color": "white"
             }
            },
            "type": "table"
           }
          ]
         },
         "layout": {
          "annotationdefaults": {
           "arrowcolor": "#2a3f5f",
           "arrowhead": 0,
           "arrowwidth": 1
          },
          "autotypenumbers": "strict",
          "coloraxis": {
           "colorbar": {
            "outlinewidth": 0,
            "ticks": ""
           }
          },
          "colorscale": {
           "diverging": [
            [
             0,
             "#8e0152"
            ],
            [
             0.1,
             "#c51b7d"
            ],
            [
             0.2,
             "#de77ae"
            ],
            [
             0.3,
             "#f1b6da"
            ],
            [
             0.4,
             "#fde0ef"
            ],
            [
             0.5,
             "#f7f7f7"
            ],
            [
             0.6,
             "#e6f5d0"
            ],
            [
             0.7,
             "#b8e186"
            ],
            [
             0.8,
             "#7fbc41"
            ],
            [
             0.9,
             "#4d9221"
            ],
            [
             1,
             "#276419"
            ]
           ],
           "sequential": [
            [
             0,
             "#0d0887"
            ],
            [
             0.1111111111111111,
             "#46039f"
            ],
            [
             0.2222222222222222,
             "#7201a8"
            ],
            [
             0.3333333333333333,
             "#9c179e"
            ],
            [
             0.4444444444444444,
             "#bd3786"
            ],
            [
             0.5555555555555556,
             "#d8576b"
            ],
            [
             0.6666666666666666,
             "#ed7953"
            ],
            [
             0.7777777777777778,
             "#fb9f3a"
            ],
            [
             0.8888888888888888,
             "#fdca26"
            ],
            [
             1,
             "#f0f921"
            ]
           ],
           "sequentialminus": [
            [
             0,
             "#0d0887"
            ],
            [
             0.1111111111111111,
             "#46039f"
            ],
            [
             0.2222222222222222,
             "#7201a8"
            ],
            [
             0.3333333333333333,
             "#9c179e"
            ],
            [
             0.4444444444444444,
             "#bd3786"
            ],
            [
             0.5555555555555556,
             "#d8576b"
            ],
            [
             0.6666666666666666,
             "#ed7953"
            ],
            [
             0.7777777777777778,
             "#fb9f3a"
            ],
            [
             0.8888888888888888,
             "#fdca26"
            ],
            [
             1,
             "#f0f921"
            ]
           ]
          },
          "colorway": [
           "#636efa",
           "#EF553B",
           "#00cc96",
           "#ab63fa",
           "#FFA15A",
           "#19d3f3",
           "#FF6692",
           "#B6E880",
           "#FF97FF",
           "#FECB52"
          ],
          "font": {
           "color": "#2a3f5f"
          },
          "geo": {
           "bgcolor": "white",
           "lakecolor": "white",
           "landcolor": "#E5ECF6",
           "showlakes": true,
           "showland": true,
           "subunitcolor": "white"
          },
          "hoverlabel": {
           "align": "left"
          },
          "hovermode": "closest",
          "mapbox": {
           "style": "light"
          },
          "paper_bgcolor": "white",
          "plot_bgcolor": "#E5ECF6",
          "polar": {
           "angularaxis": {
            "gridcolor": "white",
            "linecolor": "white",
            "ticks": ""
           },
           "bgcolor": "#E5ECF6",
           "radialaxis": {
            "gridcolor": "white",
            "linecolor": "white",
            "ticks": ""
           }
          },
          "scene": {
           "xaxis": {
            "backgroundcolor": "#E5ECF6",
            "gridcolor": "white",
            "gridwidth": 2,
            "linecolor": "white",
            "showbackground": true,
            "ticks": "",
            "zerolinecolor": "white"
           },
           "yaxis": {
            "backgroundcolor": "#E5ECF6",
            "gridcolor": "white",
            "gridwidth": 2,
            "linecolor": "white",
            "showbackground": true,
            "ticks": "",
            "zerolinecolor": "white"
           },
           "zaxis": {
            "backgroundcolor": "#E5ECF6",
            "gridcolor": "white",
            "gridwidth": 2,
            "linecolor": "white",
            "showbackground": true,
            "ticks": "",
            "zerolinecolor": "white"
           }
          },
          "shapedefaults": {
           "line": {
            "color": "#2a3f5f"
           }
          },
          "ternary": {
           "aaxis": {
            "gridcolor": "white",
            "linecolor": "white",
            "ticks": ""
           },
           "baxis": {
            "gridcolor": "white",
            "linecolor": "white",
            "ticks": ""
           },
           "bgcolor": "#E5ECF6",
           "caxis": {
            "gridcolor": "white",
            "linecolor": "white",
            "ticks": ""
           }
          },
          "title": {
           "x": 0.05
          },
          "xaxis": {
           "automargin": true,
           "gridcolor": "white",
           "linecolor": "white",
           "ticks": "",
           "title": {
            "standoff": 15
           },
           "zerolinecolor": "white",
           "zerolinewidth": 2
          },
          "yaxis": {
           "automargin": true,
           "gridcolor": "white",
           "linecolor": "white",
           "ticks": "",
           "title": {
            "standoff": 15
           },
           "zerolinecolor": "white",
           "zerolinewidth": 2
          }
         }
        },
        "title": {
         "text": "Mutation rates of paired / unpaired residues vs the predicted energy of the molecule"
        },
        "xaxis": {
         "ticklen": 5,
         "title": {
          "text": "DeltaG"
         },
         "zeroline": false
        },
        "yaxis": {
         "ticklen": 5,
         "title": {
          "text": "Mutation rate "
         },
         "zeroline": false
        }
       }
      }
     },
     "metadata": {},
     "output_type": "display_data"
    },
    {
     "data": {
      "text/plain": [
       "<dreem_nap.util.OutputPlot at 0x177dfa080>"
      ]
     },
     "execution_count": 3,
     "metadata": {},
     "output_type": "execute_result"
    }
   ],
   "source": [
    "study.deltaG_per_sample(sample=470,\n",
    "                        base_index=list(range(19,42)), \n",
    "                        base_type=['A','C'], \n",
    "                        family='hp7', \n",
    "                        deltaG='deltaG_min',\n",
    "                        savefile='test.html', \n",
    "                        models=['lambda x, a, b: a*x + b', 'lambda x, a, b: a*x**2 + b*x'],\n",
    "                        auto_open = False)"
   ]
  },
  {
   "cell_type": "code",
   "execution_count": 4,
   "metadata": {},
   "outputs": [
    {
     "data": {
      "application/vnd.plotly.v1+json": {
       "config": {
        "linkText": "Export to plot.ly",
        "plotlyServerURL": "https://plot.ly",
        "showLink": false
       },
       "data": [
        {
         "hovertemplate": "<b>base: %{text[0]}<br><b>mut_rates: %{text[1]}<br><b>sample: %{text[2]}<br><b>DMS_conc_mM: %{text[3]}<br><b>paired: %{text[4]}<br>",
         "line": {
          "color": "red"
         },
         "marker": {
          "symbol": [
           0,
           0,
           0,
           0,
           0,
           0,
           0,
           0,
           0,
           0,
           0,
           0,
           100,
           100,
           100,
           100,
           100,
           100,
           100,
           100,
           100,
           100,
           100,
           100,
           100,
           100,
           100,
           100,
           0,
           0,
           0,
           0,
           0,
           0,
           0,
           0,
           0,
           0,
           0,
           0,
           0,
           0,
           0,
           0,
           0,
           0,
           0,
           0,
           100,
           100,
           100,
           100
          ]
         },
         "mode": "lines+markers",
         "name": "(A,32)",
         "text": [
          [
           "C",
           0.0168244,
           472,
           169.1,
           true
          ],
          [
           "C",
           0.02966896,
           472,
           169.1,
           true
          ],
          [
           "C",
           0.00596125,
           470,
           169.1,
           true
          ],
          [
           "C",
           0.00498615,
           470,
           169.1,
           true
          ],
          [
           "A",
           0.00775623,
           470,
           169.1,
           true
          ],
          [
           "A",
           0.01892744,
           472,
           169.1,
           true
          ],
          [
           "A",
           0.01142573,
           470,
           169.1,
           true
          ],
          [
           "A",
           0.01717676,
           472,
           169.1,
           true
          ],
          [
           "A",
           0.01551247,
           470,
           169.1,
           true
          ],
          [
           "A",
           0.01752541,
           472,
           169.1,
           true
          ],
          [
           "A",
           0.00894188,
           470,
           169.1,
           true
          ],
          [
           "A",
           0.00905684,
           472,
           169.1,
           true
          ],
          [
           "A",
           0.04651163,
           470,
           169.1,
           false
          ],
          [
           "A",
           0.05017387,
           470,
           169.1,
           false
          ],
          [
           "A",
           0.03224676,
           472,
           169.1,
           false
          ],
          [
           "A",
           0.04278576,
           472,
           169.1,
           false
          ],
          [
           "A",
           0.10183805,
           470,
           169.1,
           false
          ],
          [
           "A",
           0.04840725,
           472,
           169.1,
           false
          ],
          [
           "A",
           0.0637925,
           472,
           169.1,
           false
          ],
          [
           "A",
           0.07751938,
           470,
           169.1,
           false
          ],
          [
           "C",
           0.07870081,
           472,
           169.1,
           false
          ],
          [
           "C",
           0.09966777,
           470,
           169.1,
           false
          ],
          [
           "C",
           0.07115317,
           472,
           169.1,
           false
          ],
          [
           "C",
           0.09538003,
           470,
           169.1,
           false
          ],
          [
           "A",
           0.07004471,
           470,
           169.1,
           false
          ],
          [
           "A",
           0.07183011,
           472,
           169.1,
           false
          ],
          [
           "A",
           0.05502979,
           472,
           169.1,
           false
          ],
          [
           "A",
           0.06090808,
           470,
           169.1,
           false
          ],
          [
           "C",
           0.03680336,
           472,
           169.1,
           true
          ],
          [
           "C",
           0.02998126,
           472,
           169.1,
           true
          ],
          [
           "C",
           0.01838053,
           470,
           169.1,
           true
          ],
          [
           "C",
           0.0166113,
           470,
           169.1,
           true
          ],
          [
           "C",
           0.01507185,
           472,
           169.1,
           true
          ],
          [
           "C",
           0.0055371,
           470,
           169.1,
           true
          ],
          [
           "C",
           0.01142573,
           470,
           169.1,
           true
          ],
          [
           "C",
           0.02779513,
           472,
           169.1,
           true
          ],
          [
           "C",
           0.01686446,
           472,
           169.1,
           true
          ],
          [
           "C",
           0.00645802,
           470,
           169.1,
           true
          ],
          [
           "C",
           0.00885936,
           470,
           169.1,
           true
          ],
          [
           "C",
           0.01787592,
           472,
           169.1,
           true
          ],
          [
           "A",
           0.00905684,
           472,
           169.1,
           true
          ],
          [
           "A",
           0.00844511,
           470,
           169.1,
           true
          ],
          [
           "A",
           0.00996678,
           470,
           169.1,
           true
          ],
          [
           "A",
           0.00771118,
           472,
           169.1,
           true
          ],
          [
           "A",
           0.0110742,
           470,
           169.1,
           true
          ],
          [
           "A",
           0.00844511,
           470,
           169.1,
           true
          ],
          [
           "A",
           0.00749532,
           472,
           169.1,
           true
          ],
          [
           "A",
           0.00736067,
           472,
           169.1,
           true
          ],
          [
           "C",
           0.02418507,
           472,
           169.1,
           false
          ],
          [
           "C",
           0.01162791,
           470,
           169.1,
           false
          ],
          [
           "C",
           0.02654591,
           472,
           169.1,
           false
          ],
          [
           "C",
           0.00844511,
           470,
           169.1,
           false
          ]
         ],
         "type": "scatter",
         "x": [
          169.1,
          169.1,
          169.1,
          169.1
         ],
         "y": [
          0.07004471,
          0.07183011,
          0.05502979,
          0.06090808
         ]
        },
        {
         "line": {
          "color": "red"
         },
         "mode": "lines",
         "name": "(A,32): 71.20915*x + -12041.40255\n R2=0.0",
         "type": "scatter",
         "x": [
          169.1,
          169.1,
          169.1,
          169.1
         ],
         "y": [
          0.0644531724992703,
          0.0644531724992703,
          0.0644531724992703,
          0.0644531724992703
         ]
        },
        {
         "line": {
          "color": "red"
         },
         "mode": "lines",
         "name": "(A,32): -0.00591*x**2 + 1.0*x\n R2=0.0",
         "type": "scatter",
         "x": [
          169.1,
          169.1,
          169.1,
          169.1
         ],
         "y": [
          0.0644531725000661,
          0.0644531725000661,
          0.0644531725000661,
          0.0644531725000661
         ]
        },
        {
         "hovertemplate": "<b>base: %{text[0]}<br><b>mut_rates: %{text[1]}<br><b>sample: %{text[2]}<br><b>DMS_conc_mM: %{text[3]}<br><b>paired: %{text[4]}<br>",
         "line": {
          "color": "green"
         },
         "marker": {
          "symbol": [
           0,
           0,
           0,
           0,
           0,
           0,
           0,
           0,
           0,
           0,
           0,
           0,
           100,
           100,
           100,
           100,
           100,
           100,
           100,
           100,
           100,
           100,
           100,
           100,
           100,
           100,
           100,
           100,
           0,
           0,
           0,
           0,
           0,
           0,
           0,
           0,
           0,
           0,
           0,
           0,
           0,
           0,
           0,
           0,
           0,
           0,
           0,
           0,
           100,
           100,
           100,
           100
          ]
         },
         "mode": "lines+markers",
         "name": "(C,33)",
         "text": [
          [
           "C",
           0.0168244,
           472,
           169.1,
           true
          ],
          [
           "C",
           0.02966896,
           472,
           169.1,
           true
          ],
          [
           "C",
           0.00596125,
           470,
           169.1,
           true
          ],
          [
           "C",
           0.00498615,
           470,
           169.1,
           true
          ],
          [
           "A",
           0.00775623,
           470,
           169.1,
           true
          ],
          [
           "A",
           0.01892744,
           472,
           169.1,
           true
          ],
          [
           "A",
           0.01142573,
           470,
           169.1,
           true
          ],
          [
           "A",
           0.01717676,
           472,
           169.1,
           true
          ],
          [
           "A",
           0.01551247,
           470,
           169.1,
           true
          ],
          [
           "A",
           0.01752541,
           472,
           169.1,
           true
          ],
          [
           "A",
           0.00894188,
           470,
           169.1,
           true
          ],
          [
           "A",
           0.00905684,
           472,
           169.1,
           true
          ],
          [
           "A",
           0.04651163,
           470,
           169.1,
           false
          ],
          [
           "A",
           0.05017387,
           470,
           169.1,
           false
          ],
          [
           "A",
           0.03224676,
           472,
           169.1,
           false
          ],
          [
           "A",
           0.04278576,
           472,
           169.1,
           false
          ],
          [
           "A",
           0.10183805,
           470,
           169.1,
           false
          ],
          [
           "A",
           0.04840725,
           472,
           169.1,
           false
          ],
          [
           "A",
           0.0637925,
           472,
           169.1,
           false
          ],
          [
           "A",
           0.07751938,
           470,
           169.1,
           false
          ],
          [
           "C",
           0.07870081,
           472,
           169.1,
           false
          ],
          [
           "C",
           0.09966777,
           470,
           169.1,
           false
          ],
          [
           "C",
           0.07115317,
           472,
           169.1,
           false
          ],
          [
           "C",
           0.09538003,
           470,
           169.1,
           false
          ],
          [
           "A",
           0.07004471,
           470,
           169.1,
           false
          ],
          [
           "A",
           0.07183011,
           472,
           169.1,
           false
          ],
          [
           "A",
           0.05502979,
           472,
           169.1,
           false
          ],
          [
           "A",
           0.06090808,
           470,
           169.1,
           false
          ],
          [
           "C",
           0.03680336,
           472,
           169.1,
           true
          ],
          [
           "C",
           0.02998126,
           472,
           169.1,
           true
          ],
          [
           "C",
           0.01838053,
           470,
           169.1,
           true
          ],
          [
           "C",
           0.0166113,
           470,
           169.1,
           true
          ],
          [
           "C",
           0.01507185,
           472,
           169.1,
           true
          ],
          [
           "C",
           0.0055371,
           470,
           169.1,
           true
          ],
          [
           "C",
           0.01142573,
           470,
           169.1,
           true
          ],
          [
           "C",
           0.02779513,
           472,
           169.1,
           true
          ],
          [
           "C",
           0.01686446,
           472,
           169.1,
           true
          ],
          [
           "C",
           0.00645802,
           470,
           169.1,
           true
          ],
          [
           "C",
           0.00885936,
           470,
           169.1,
           true
          ],
          [
           "C",
           0.01787592,
           472,
           169.1,
           true
          ],
          [
           "A",
           0.00905684,
           472,
           169.1,
           true
          ],
          [
           "A",
           0.00844511,
           470,
           169.1,
           true
          ],
          [
           "A",
           0.00996678,
           470,
           169.1,
           true
          ],
          [
           "A",
           0.00771118,
           472,
           169.1,
           true
          ],
          [
           "A",
           0.0110742,
           470,
           169.1,
           true
          ],
          [
           "A",
           0.00844511,
           470,
           169.1,
           true
          ],
          [
           "A",
           0.00749532,
           472,
           169.1,
           true
          ],
          [
           "A",
           0.00736067,
           472,
           169.1,
           true
          ],
          [
           "C",
           0.02418507,
           472,
           169.1,
           false
          ],
          [
           "C",
           0.01162791,
           470,
           169.1,
           false
          ],
          [
           "C",
           0.02654591,
           472,
           169.1,
           false
          ],
          [
           "C",
           0.00844511,
           470,
           169.1,
           false
          ]
         ],
         "type": "scatter",
         "x": [
          169.1,
          169.1,
          169.1,
          169.1
         ],
         "y": [
          0.03680336,
          0.02998126,
          0.01838053,
          0.0166113
         ]
        },
        {
         "line": {
          "color": "green"
         },
         "mode": "lines",
         "name": "(C,33): 99.49416*x + -16824.43642\n R2=0.0",
         "type": "scatter",
         "x": [
          169.1,
          169.1,
          169.1,
          169.1
         ],
         "y": [
          0.025444112499826588,
          0.025444112499826588,
          0.025444112499826588,
          0.025444112499826588
         ]
        },
        {
         "line": {
          "color": "green"
         },
         "mode": "lines",
         "name": "(C,33): -0.00591*x**2 + 1.0*x\n R2=0.0",
         "type": "scatter",
         "x": [
          169.1,
          169.1,
          169.1,
          169.1
         ],
         "y": [
          0.025444112499428684,
          0.025444112499428684,
          0.025444112499428684,
          0.025444112499428684
         ]
        },
        {
         "hovertemplate": "<b>base: %{text[0]}<br><b>mut_rates: %{text[1]}<br><b>sample: %{text[2]}<br><b>DMS_conc_mM: %{text[3]}<br><b>paired: %{text[4]}<br>",
         "line": {
          "color": "blue"
         },
         "marker": {
          "symbol": [
           0,
           0,
           0,
           0,
           0,
           0,
           0,
           0,
           0,
           0,
           0,
           0,
           100,
           100,
           100,
           100,
           100,
           100,
           100,
           100,
           100,
           100,
           100,
           100,
           100,
           100,
           100,
           100,
           0,
           0,
           0,
           0,
           0,
           0,
           0,
           0,
           0,
           0,
           0,
           0,
           0,
           0,
           0,
           0,
           0,
           0,
           0,
           0,
           100,
           100,
           100,
           100
          ]
         },
         "mode": "lines+markers",
         "name": "(C,34)",
         "text": [
          [
           "C",
           0.0168244,
           472,
           169.1,
           true
          ],
          [
           "C",
           0.02966896,
           472,
           169.1,
           true
          ],
          [
           "C",
           0.00596125,
           470,
           169.1,
           true
          ],
          [
           "C",
           0.00498615,
           470,
           169.1,
           true
          ],
          [
           "A",
           0.00775623,
           470,
           169.1,
           true
          ],
          [
           "A",
           0.01892744,
           472,
           169.1,
           true
          ],
          [
           "A",
           0.01142573,
           470,
           169.1,
           true
          ],
          [
           "A",
           0.01717676,
           472,
           169.1,
           true
          ],
          [
           "A",
           0.01551247,
           470,
           169.1,
           true
          ],
          [
           "A",
           0.01752541,
           472,
           169.1,
           true
          ],
          [
           "A",
           0.00894188,
           470,
           169.1,
           true
          ],
          [
           "A",
           0.00905684,
           472,
           169.1,
           true
          ],
          [
           "A",
           0.04651163,
           470,
           169.1,
           false
          ],
          [
           "A",
           0.05017387,
           470,
           169.1,
           false
          ],
          [
           "A",
           0.03224676,
           472,
           169.1,
           false
          ],
          [
           "A",
           0.04278576,
           472,
           169.1,
           false
          ],
          [
           "A",
           0.10183805,
           470,
           169.1,
           false
          ],
          [
           "A",
           0.04840725,
           472,
           169.1,
           false
          ],
          [
           "A",
           0.0637925,
           472,
           169.1,
           false
          ],
          [
           "A",
           0.07751938,
           470,
           169.1,
           false
          ],
          [
           "C",
           0.07870081,
           472,
           169.1,
           false
          ],
          [
           "C",
           0.09966777,
           470,
           169.1,
           false
          ],
          [
           "C",
           0.07115317,
           472,
           169.1,
           false
          ],
          [
           "C",
           0.09538003,
           470,
           169.1,
           false
          ],
          [
           "A",
           0.07004471,
           470,
           169.1,
           false
          ],
          [
           "A",
           0.07183011,
           472,
           169.1,
           false
          ],
          [
           "A",
           0.05502979,
           472,
           169.1,
           false
          ],
          [
           "A",
           0.06090808,
           470,
           169.1,
           false
          ],
          [
           "C",
           0.03680336,
           472,
           169.1,
           true
          ],
          [
           "C",
           0.02998126,
           472,
           169.1,
           true
          ],
          [
           "C",
           0.01838053,
           470,
           169.1,
           true
          ],
          [
           "C",
           0.0166113,
           470,
           169.1,
           true
          ],
          [
           "C",
           0.01507185,
           472,
           169.1,
           true
          ],
          [
           "C",
           0.0055371,
           470,
           169.1,
           true
          ],
          [
           "C",
           0.01142573,
           470,
           169.1,
           true
          ],
          [
           "C",
           0.02779513,
           472,
           169.1,
           true
          ],
          [
           "C",
           0.01686446,
           472,
           169.1,
           true
          ],
          [
           "C",
           0.00645802,
           470,
           169.1,
           true
          ],
          [
           "C",
           0.00885936,
           470,
           169.1,
           true
          ],
          [
           "C",
           0.01787592,
           472,
           169.1,
           true
          ],
          [
           "A",
           0.00905684,
           472,
           169.1,
           true
          ],
          [
           "A",
           0.00844511,
           470,
           169.1,
           true
          ],
          [
           "A",
           0.00996678,
           470,
           169.1,
           true
          ],
          [
           "A",
           0.00771118,
           472,
           169.1,
           true
          ],
          [
           "A",
           0.0110742,
           470,
           169.1,
           true
          ],
          [
           "A",
           0.00844511,
           470,
           169.1,
           true
          ],
          [
           "A",
           0.00749532,
           472,
           169.1,
           true
          ],
          [
           "A",
           0.00736067,
           472,
           169.1,
           true
          ],
          [
           "C",
           0.02418507,
           472,
           169.1,
           false
          ],
          [
           "C",
           0.01162791,
           470,
           169.1,
           false
          ],
          [
           "C",
           0.02654591,
           472,
           169.1,
           false
          ],
          [
           "C",
           0.00844511,
           470,
           169.1,
           false
          ]
         ],
         "type": "scatter",
         "x": [
          169.1,
          169.1,
          169.1,
          169.1
         ],
         "y": [
          0.01507185,
          0.0055371,
          0.01142573,
          0.02779513
         ]
        },
        {
         "line": {
          "color": "blue"
         },
         "mode": "lines",
         "name": "(C,34): 71.209*x + -12041.4273\n R2=0.0",
         "type": "scatter",
         "x": [
          169.1,
          169.1,
          169.1,
          169.1
         ],
         "y": [
          0.014957452500311774,
          0.014957452500311774,
          0.014957452500311774,
          0.014957452500311774
         ]
        },
        {
         "line": {
          "color": "blue"
         },
         "mode": "lines",
         "name": "(C,34): -0.00591*x**2 + 1.0*x\n R2=0.0",
         "type": "scatter",
         "x": [
          169.1,
          169.1,
          169.1,
          169.1
         ],
         "y": [
          0.014957452500055979,
          0.014957452500055979,
          0.014957452500055979,
          0.014957452500055979
         ]
        },
        {
         "hovertemplate": "<b>base: %{text[0]}<br><b>mut_rates: %{text[1]}<br><b>sample: %{text[2]}<br><b>DMS_conc_mM: %{text[3]}<br><b>paired: %{text[4]}<br>",
         "line": {
          "color": "orange"
         },
         "marker": {
          "symbol": [
           0,
           0,
           0,
           0,
           0,
           0,
           0,
           0,
           0,
           0,
           0,
           0,
           100,
           100,
           100,
           100,
           100,
           100,
           100,
           100,
           100,
           100,
           100,
           100,
           100,
           100,
           100,
           100,
           0,
           0,
           0,
           0,
           0,
           0,
           0,
           0,
           0,
           0,
           0,
           0,
           0,
           0,
           0,
           0,
           0,
           0,
           0,
           0,
           100,
           100,
           100,
           100
          ]
         },
         "mode": "lines+markers",
         "name": "(C,35)",
         "text": [
          [
           "C",
           0.0168244,
           472,
           169.1,
           true
          ],
          [
           "C",
           0.02966896,
           472,
           169.1,
           true
          ],
          [
           "C",
           0.00596125,
           470,
           169.1,
           true
          ],
          [
           "C",
           0.00498615,
           470,
           169.1,
           true
          ],
          [
           "A",
           0.00775623,
           470,
           169.1,
           true
          ],
          [
           "A",
           0.01892744,
           472,
           169.1,
           true
          ],
          [
           "A",
           0.01142573,
           470,
           169.1,
           true
          ],
          [
           "A",
           0.01717676,
           472,
           169.1,
           true
          ],
          [
           "A",
           0.01551247,
           470,
           169.1,
           true
          ],
          [
           "A",
           0.01752541,
           472,
           169.1,
           true
          ],
          [
           "A",
           0.00894188,
           470,
           169.1,
           true
          ],
          [
           "A",
           0.00905684,
           472,
           169.1,
           true
          ],
          [
           "A",
           0.04651163,
           470,
           169.1,
           false
          ],
          [
           "A",
           0.05017387,
           470,
           169.1,
           false
          ],
          [
           "A",
           0.03224676,
           472,
           169.1,
           false
          ],
          [
           "A",
           0.04278576,
           472,
           169.1,
           false
          ],
          [
           "A",
           0.10183805,
           470,
           169.1,
           false
          ],
          [
           "A",
           0.04840725,
           472,
           169.1,
           false
          ],
          [
           "A",
           0.0637925,
           472,
           169.1,
           false
          ],
          [
           "A",
           0.07751938,
           470,
           169.1,
           false
          ],
          [
           "C",
           0.07870081,
           472,
           169.1,
           false
          ],
          [
           "C",
           0.09966777,
           470,
           169.1,
           false
          ],
          [
           "C",
           0.07115317,
           472,
           169.1,
           false
          ],
          [
           "C",
           0.09538003,
           470,
           169.1,
           false
          ],
          [
           "A",
           0.07004471,
           470,
           169.1,
           false
          ],
          [
           "A",
           0.07183011,
           472,
           169.1,
           false
          ],
          [
           "A",
           0.05502979,
           472,
           169.1,
           false
          ],
          [
           "A",
           0.06090808,
           470,
           169.1,
           false
          ],
          [
           "C",
           0.03680336,
           472,
           169.1,
           true
          ],
          [
           "C",
           0.02998126,
           472,
           169.1,
           true
          ],
          [
           "C",
           0.01838053,
           470,
           169.1,
           true
          ],
          [
           "C",
           0.0166113,
           470,
           169.1,
           true
          ],
          [
           "C",
           0.01507185,
           472,
           169.1,
           true
          ],
          [
           "C",
           0.0055371,
           470,
           169.1,
           true
          ],
          [
           "C",
           0.01142573,
           470,
           169.1,
           true
          ],
          [
           "C",
           0.02779513,
           472,
           169.1,
           true
          ],
          [
           "C",
           0.01686446,
           472,
           169.1,
           true
          ],
          [
           "C",
           0.00645802,
           470,
           169.1,
           true
          ],
          [
           "C",
           0.00885936,
           470,
           169.1,
           true
          ],
          [
           "C",
           0.01787592,
           472,
           169.1,
           true
          ],
          [
           "A",
           0.00905684,
           472,
           169.1,
           true
          ],
          [
           "A",
           0.00844511,
           470,
           169.1,
           true
          ],
          [
           "A",
           0.00996678,
           470,
           169.1,
           true
          ],
          [
           "A",
           0.00771118,
           472,
           169.1,
           true
          ],
          [
           "A",
           0.0110742,
           470,
           169.1,
           true
          ],
          [
           "A",
           0.00844511,
           470,
           169.1,
           true
          ],
          [
           "A",
           0.00749532,
           472,
           169.1,
           true
          ],
          [
           "A",
           0.00736067,
           472,
           169.1,
           true
          ],
          [
           "C",
           0.02418507,
           472,
           169.1,
           false
          ],
          [
           "C",
           0.01162791,
           470,
           169.1,
           false
          ],
          [
           "C",
           0.02654591,
           472,
           169.1,
           false
          ],
          [
           "C",
           0.00844511,
           470,
           169.1,
           false
          ]
         ],
         "type": "scatter",
         "x": [
          169.1,
          169.1,
          169.1,
          169.1
         ],
         "y": [
          0.01686446,
          0.00645802,
          0.00885936,
          0.01787592
         ]
        },
        {
         "line": {
          "color": "orange"
         },
         "mode": "lines",
         "name": "(C,35): 57.06661*x + -9649.95154\n R2=0.0",
         "type": "scatter",
         "x": [
          169.1,
          169.1,
          169.1,
          169.1
         ],
         "y": [
          0.01251443999899493,
          0.01251443999899493,
          0.01251443999899493,
          0.01251443999899493
         ]
        },
        {
         "line": {
          "color": "orange"
         },
         "mode": "lines",
         "name": "(C,35): -0.00591*x**2 + 1.0*x\n R2=0.0",
         "type": "scatter",
         "x": [
          169.1,
          169.1,
          169.1,
          169.1
         ],
         "y": [
          0.01251444000016022,
          0.01251444000016022,
          0.01251444000016022,
          0.01251444000016022
         ]
        },
        {
         "hovertemplate": "<b>base: %{text[0]}<br><b>mut_rates: %{text[1]}<br><b>sample: %{text[2]}<br><b>DMS_conc_mM: %{text[3]}<br><b>paired: %{text[4]}<br>",
         "line": {
          "color": "purple"
         },
         "marker": {
          "symbol": [
           0,
           0,
           0,
           0,
           0,
           0,
           0,
           0,
           0,
           0,
           0,
           0,
           100,
           100,
           100,
           100,
           100,
           100,
           100,
           100,
           100,
           100,
           100,
           100,
           100,
           100,
           100,
           100,
           0,
           0,
           0,
           0,
           0,
           0,
           0,
           0,
           0,
           0,
           0,
           0,
           0,
           0,
           0,
           0,
           0,
           0,
           0,
           0,
           100,
           100,
           100,
           100
          ]
         },
         "mode": "lines+markers",
         "name": "(A,36)",
         "text": [
          [
           "C",
           0.0168244,
           472,
           169.1,
           true
          ],
          [
           "C",
           0.02966896,
           472,
           169.1,
           true
          ],
          [
           "C",
           0.00596125,
           470,
           169.1,
           true
          ],
          [
           "C",
           0.00498615,
           470,
           169.1,
           true
          ],
          [
           "A",
           0.00775623,
           470,
           169.1,
           true
          ],
          [
           "A",
           0.01892744,
           472,
           169.1,
           true
          ],
          [
           "A",
           0.01142573,
           470,
           169.1,
           true
          ],
          [
           "A",
           0.01717676,
           472,
           169.1,
           true
          ],
          [
           "A",
           0.01551247,
           470,
           169.1,
           true
          ],
          [
           "A",
           0.01752541,
           472,
           169.1,
           true
          ],
          [
           "A",
           0.00894188,
           470,
           169.1,
           true
          ],
          [
           "A",
           0.00905684,
           472,
           169.1,
           true
          ],
          [
           "A",
           0.04651163,
           470,
           169.1,
           false
          ],
          [
           "A",
           0.05017387,
           470,
           169.1,
           false
          ],
          [
           "A",
           0.03224676,
           472,
           169.1,
           false
          ],
          [
           "A",
           0.04278576,
           472,
           169.1,
           false
          ],
          [
           "A",
           0.10183805,
           470,
           169.1,
           false
          ],
          [
           "A",
           0.04840725,
           472,
           169.1,
           false
          ],
          [
           "A",
           0.0637925,
           472,
           169.1,
           false
          ],
          [
           "A",
           0.07751938,
           470,
           169.1,
           false
          ],
          [
           "C",
           0.07870081,
           472,
           169.1,
           false
          ],
          [
           "C",
           0.09966777,
           470,
           169.1,
           false
          ],
          [
           "C",
           0.07115317,
           472,
           169.1,
           false
          ],
          [
           "C",
           0.09538003,
           470,
           169.1,
           false
          ],
          [
           "A",
           0.07004471,
           470,
           169.1,
           false
          ],
          [
           "A",
           0.07183011,
           472,
           169.1,
           false
          ],
          [
           "A",
           0.05502979,
           472,
           169.1,
           false
          ],
          [
           "A",
           0.06090808,
           470,
           169.1,
           false
          ],
          [
           "C",
           0.03680336,
           472,
           169.1,
           true
          ],
          [
           "C",
           0.02998126,
           472,
           169.1,
           true
          ],
          [
           "C",
           0.01838053,
           470,
           169.1,
           true
          ],
          [
           "C",
           0.0166113,
           470,
           169.1,
           true
          ],
          [
           "C",
           0.01507185,
           472,
           169.1,
           true
          ],
          [
           "C",
           0.0055371,
           470,
           169.1,
           true
          ],
          [
           "C",
           0.01142573,
           470,
           169.1,
           true
          ],
          [
           "C",
           0.02779513,
           472,
           169.1,
           true
          ],
          [
           "C",
           0.01686446,
           472,
           169.1,
           true
          ],
          [
           "C",
           0.00645802,
           470,
           169.1,
           true
          ],
          [
           "C",
           0.00885936,
           470,
           169.1,
           true
          ],
          [
           "C",
           0.01787592,
           472,
           169.1,
           true
          ],
          [
           "A",
           0.00905684,
           472,
           169.1,
           true
          ],
          [
           "A",
           0.00844511,
           470,
           169.1,
           true
          ],
          [
           "A",
           0.00996678,
           470,
           169.1,
           true
          ],
          [
           "A",
           0.00771118,
           472,
           169.1,
           true
          ],
          [
           "A",
           0.0110742,
           470,
           169.1,
           true
          ],
          [
           "A",
           0.00844511,
           470,
           169.1,
           true
          ],
          [
           "A",
           0.00749532,
           472,
           169.1,
           true
          ],
          [
           "A",
           0.00736067,
           472,
           169.1,
           true
          ],
          [
           "C",
           0.02418507,
           472,
           169.1,
           false
          ],
          [
           "C",
           0.01162791,
           470,
           169.1,
           false
          ],
          [
           "C",
           0.02654591,
           472,
           169.1,
           false
          ],
          [
           "C",
           0.00844511,
           470,
           169.1,
           false
          ]
         ],
         "type": "scatter",
         "x": [
          169.1,
          169.1,
          169.1,
          169.1
         ],
         "y": [
          0.00905684,
          0.00844511,
          0.00996678,
          0.00771118
         ]
        },
        {
         "line": {
          "color": "purple"
         },
         "mode": "lines",
         "name": "(A,36): 71.20898*x + -12041.43038\n R2=0.0",
         "type": "scatter",
         "x": [
          169.1,
          169.1,
          169.1,
          169.1
         ],
         "y": [
          0.008794977498837397,
          0.008794977498837397,
          0.008794977498837397,
          0.008794977498837397
         ]
        },
        {
         "line": {
          "color": "purple"
         },
         "mode": "lines",
         "name": "(A,36): -0.00591*x**2 + 1.0*x\n R2=0.0",
         "type": "scatter",
         "x": [
          169.1,
          169.1,
          169.1,
          169.1
         ],
         "y": [
          0.008794977500116374,
          0.008794977500116374,
          0.008794977500116374,
          0.008794977500116374
         ]
        },
        {
         "hovertemplate": "<b>base: %{text[0]}<br><b>mut_rates: %{text[1]}<br><b>sample: %{text[2]}<br><b>DMS_conc_mM: %{text[3]}<br><b>paired: %{text[4]}<br>",
         "line": {
          "color": "black"
         },
         "marker": {
          "symbol": [
           0,
           0,
           0,
           0,
           0,
           0,
           0,
           0,
           0,
           0,
           0,
           0,
           100,
           100,
           100,
           100,
           100,
           100,
           100,
           100,
           100,
           100,
           100,
           100,
           100,
           100,
           100,
           100,
           0,
           0,
           0,
           0,
           0,
           0,
           0,
           0,
           0,
           0,
           0,
           0,
           0,
           0,
           0,
           0,
           0,
           0,
           0,
           0,
           100,
           100,
           100,
           100
          ]
         },
         "mode": "lines+markers",
         "name": "(A,38)",
         "text": [
          [
           "C",
           0.0168244,
           472,
           169.1,
           true
          ],
          [
           "C",
           0.02966896,
           472,
           169.1,
           true
          ],
          [
           "C",
           0.00596125,
           470,
           169.1,
           true
          ],
          [
           "C",
           0.00498615,
           470,
           169.1,
           true
          ],
          [
           "A",
           0.00775623,
           470,
           169.1,
           true
          ],
          [
           "A",
           0.01892744,
           472,
           169.1,
           true
          ],
          [
           "A",
           0.01142573,
           470,
           169.1,
           true
          ],
          [
           "A",
           0.01717676,
           472,
           169.1,
           true
          ],
          [
           "A",
           0.01551247,
           470,
           169.1,
           true
          ],
          [
           "A",
           0.01752541,
           472,
           169.1,
           true
          ],
          [
           "A",
           0.00894188,
           470,
           169.1,
           true
          ],
          [
           "A",
           0.00905684,
           472,
           169.1,
           true
          ],
          [
           "A",
           0.04651163,
           470,
           169.1,
           false
          ],
          [
           "A",
           0.05017387,
           470,
           169.1,
           false
          ],
          [
           "A",
           0.03224676,
           472,
           169.1,
           false
          ],
          [
           "A",
           0.04278576,
           472,
           169.1,
           false
          ],
          [
           "A",
           0.10183805,
           470,
           169.1,
           false
          ],
          [
           "A",
           0.04840725,
           472,
           169.1,
           false
          ],
          [
           "A",
           0.0637925,
           472,
           169.1,
           false
          ],
          [
           "A",
           0.07751938,
           470,
           169.1,
           false
          ],
          [
           "C",
           0.07870081,
           472,
           169.1,
           false
          ],
          [
           "C",
           0.09966777,
           470,
           169.1,
           false
          ],
          [
           "C",
           0.07115317,
           472,
           169.1,
           false
          ],
          [
           "C",
           0.09538003,
           470,
           169.1,
           false
          ],
          [
           "A",
           0.07004471,
           470,
           169.1,
           false
          ],
          [
           "A",
           0.07183011,
           472,
           169.1,
           false
          ],
          [
           "A",
           0.05502979,
           472,
           169.1,
           false
          ],
          [
           "A",
           0.06090808,
           470,
           169.1,
           false
          ],
          [
           "C",
           0.03680336,
           472,
           169.1,
           true
          ],
          [
           "C",
           0.02998126,
           472,
           169.1,
           true
          ],
          [
           "C",
           0.01838053,
           470,
           169.1,
           true
          ],
          [
           "C",
           0.0166113,
           470,
           169.1,
           true
          ],
          [
           "C",
           0.01507185,
           472,
           169.1,
           true
          ],
          [
           "C",
           0.0055371,
           470,
           169.1,
           true
          ],
          [
           "C",
           0.01142573,
           470,
           169.1,
           true
          ],
          [
           "C",
           0.02779513,
           472,
           169.1,
           true
          ],
          [
           "C",
           0.01686446,
           472,
           169.1,
           true
          ],
          [
           "C",
           0.00645802,
           470,
           169.1,
           true
          ],
          [
           "C",
           0.00885936,
           470,
           169.1,
           true
          ],
          [
           "C",
           0.01787592,
           472,
           169.1,
           true
          ],
          [
           "A",
           0.00905684,
           472,
           169.1,
           true
          ],
          [
           "A",
           0.00844511,
           470,
           169.1,
           true
          ],
          [
           "A",
           0.00996678,
           470,
           169.1,
           true
          ],
          [
           "A",
           0.00771118,
           472,
           169.1,
           true
          ],
          [
           "A",
           0.0110742,
           470,
           169.1,
           true
          ],
          [
           "A",
           0.00844511,
           470,
           169.1,
           true
          ],
          [
           "A",
           0.00749532,
           472,
           169.1,
           true
          ],
          [
           "A",
           0.00736067,
           472,
           169.1,
           true
          ],
          [
           "C",
           0.02418507,
           472,
           169.1,
           false
          ],
          [
           "C",
           0.01162791,
           470,
           169.1,
           false
          ],
          [
           "C",
           0.02654591,
           472,
           169.1,
           false
          ],
          [
           "C",
           0.00844511,
           470,
           169.1,
           false
          ]
         ],
         "type": "scatter",
         "x": [
          169.1,
          169.1,
          169.1,
          169.1
         ],
         "y": [
          0.0110742,
          0.00844511,
          0.00749532,
          0.00736067
         ]
        },
        {
         "line": {
          "color": "black"
         },
         "mode": "lines",
         "name": "(A,38): 71.20898*x + -12041.43048\n R2=0.0",
         "type": "scatter",
         "x": [
          169.1,
          169.1,
          169.1,
          169.1
         ],
         "y": [
          0.008593825001298683,
          0.008593825001298683,
          0.008593825001298683,
          0.008593825001298683
         ]
        },
        {
         "line": {
          "color": "black"
         },
         "mode": "lines",
         "name": "(A,38): -0.00591*x**2 + 1.0*x\n R2=0.0",
         "type": "scatter",
         "x": [
          169.1,
          169.1,
          169.1,
          169.1
         ],
         "y": [
          0.008593825000502875,
          0.008593825000502875,
          0.008593825000502875,
          0.008593825000502875
         ]
        },
        {
         "hovertemplate": "<b>base: %{text[0]}<br><b>mut_rates: %{text[1]}<br><b>sample: %{text[2]}<br><b>DMS_conc_mM: %{text[3]}<br><b>paired: %{text[4]}<br>",
         "line": {
          "color": "yellow"
         },
         "marker": {
          "symbol": [
           0,
           0,
           0,
           0,
           0,
           0,
           0,
           0,
           0,
           0,
           0,
           0,
           100,
           100,
           100,
           100,
           100,
           100,
           100,
           100,
           100,
           100,
           100,
           100,
           100,
           100,
           100,
           100,
           0,
           0,
           0,
           0,
           0,
           0,
           0,
           0,
           0,
           0,
           0,
           0,
           0,
           0,
           0,
           0,
           0,
           0,
           0,
           0,
           100,
           100,
           100,
           100
          ]
         },
         "mode": "lines+markers",
         "name": "(C,41)",
         "text": [
          [
           "C",
           0.0168244,
           472,
           169.1,
           true
          ],
          [
           "C",
           0.02966896,
           472,
           169.1,
           true
          ],
          [
           "C",
           0.00596125,
           470,
           169.1,
           true
          ],
          [
           "C",
           0.00498615,
           470,
           169.1,
           true
          ],
          [
           "A",
           0.00775623,
           470,
           169.1,
           true
          ],
          [
           "A",
           0.01892744,
           472,
           169.1,
           true
          ],
          [
           "A",
           0.01142573,
           470,
           169.1,
           true
          ],
          [
           "A",
           0.01717676,
           472,
           169.1,
           true
          ],
          [
           "A",
           0.01551247,
           470,
           169.1,
           true
          ],
          [
           "A",
           0.01752541,
           472,
           169.1,
           true
          ],
          [
           "A",
           0.00894188,
           470,
           169.1,
           true
          ],
          [
           "A",
           0.00905684,
           472,
           169.1,
           true
          ],
          [
           "A",
           0.04651163,
           470,
           169.1,
           false
          ],
          [
           "A",
           0.05017387,
           470,
           169.1,
           false
          ],
          [
           "A",
           0.03224676,
           472,
           169.1,
           false
          ],
          [
           "A",
           0.04278576,
           472,
           169.1,
           false
          ],
          [
           "A",
           0.10183805,
           470,
           169.1,
           false
          ],
          [
           "A",
           0.04840725,
           472,
           169.1,
           false
          ],
          [
           "A",
           0.0637925,
           472,
           169.1,
           false
          ],
          [
           "A",
           0.07751938,
           470,
           169.1,
           false
          ],
          [
           "C",
           0.07870081,
           472,
           169.1,
           false
          ],
          [
           "C",
           0.09966777,
           470,
           169.1,
           false
          ],
          [
           "C",
           0.07115317,
           472,
           169.1,
           false
          ],
          [
           "C",
           0.09538003,
           470,
           169.1,
           false
          ],
          [
           "A",
           0.07004471,
           470,
           169.1,
           false
          ],
          [
           "A",
           0.07183011,
           472,
           169.1,
           false
          ],
          [
           "A",
           0.05502979,
           472,
           169.1,
           false
          ],
          [
           "A",
           0.06090808,
           470,
           169.1,
           false
          ],
          [
           "C",
           0.03680336,
           472,
           169.1,
           true
          ],
          [
           "C",
           0.02998126,
           472,
           169.1,
           true
          ],
          [
           "C",
           0.01838053,
           470,
           169.1,
           true
          ],
          [
           "C",
           0.0166113,
           470,
           169.1,
           true
          ],
          [
           "C",
           0.01507185,
           472,
           169.1,
           true
          ],
          [
           "C",
           0.0055371,
           470,
           169.1,
           true
          ],
          [
           "C",
           0.01142573,
           470,
           169.1,
           true
          ],
          [
           "C",
           0.02779513,
           472,
           169.1,
           true
          ],
          [
           "C",
           0.01686446,
           472,
           169.1,
           true
          ],
          [
           "C",
           0.00645802,
           470,
           169.1,
           true
          ],
          [
           "C",
           0.00885936,
           470,
           169.1,
           true
          ],
          [
           "C",
           0.01787592,
           472,
           169.1,
           true
          ],
          [
           "A",
           0.00905684,
           472,
           169.1,
           true
          ],
          [
           "A",
           0.00844511,
           470,
           169.1,
           true
          ],
          [
           "A",
           0.00996678,
           470,
           169.1,
           true
          ],
          [
           "A",
           0.00771118,
           472,
           169.1,
           true
          ],
          [
           "A",
           0.0110742,
           470,
           169.1,
           true
          ],
          [
           "A",
           0.00844511,
           470,
           169.1,
           true
          ],
          [
           "A",
           0.00749532,
           472,
           169.1,
           true
          ],
          [
           "A",
           0.00736067,
           472,
           169.1,
           true
          ],
          [
           "C",
           0.02418507,
           472,
           169.1,
           false
          ],
          [
           "C",
           0.01162791,
           470,
           169.1,
           false
          ],
          [
           "C",
           0.02654591,
           472,
           169.1,
           false
          ],
          [
           "C",
           0.00844511,
           470,
           169.1,
           false
          ]
         ],
         "type": "scatter",
         "x": [
          169.1,
          169.1,
          169.1,
          169.1
         ],
         "y": [
          0.02418507,
          0.01162791,
          0.02654591,
          0.00844511
         ]
        },
        {
         "line": {
          "color": "yellow"
         },
         "mode": "lines",
         "name": "(C,41): 64.79587*x + -10956.96357\n R2=0.0",
         "type": "scatter",
         "x": [
          169.1,
          169.1,
          169.1,
          169.1
         ],
         "y": [
          0.01770100000067032,
          0.01770100000067032,
          0.01770100000067032,
          0.01770100000067032
         ]
        },
        {
         "line": {
          "color": "yellow"
         },
         "mode": "lines",
         "name": "(C,41): -0.00591*x**2 + 1.0*x\n R2=0.0",
         "type": "scatter",
         "x": [
          169.1,
          169.1,
          169.1,
          169.1
         ],
         "y": [
          0.017700999999448186,
          0.017700999999448186,
          0.017700999999448186,
          0.017700999999448186
         ]
        },
        {
         "hovertemplate": "<b>base: %{text[0]}<br><b>mut_rates: %{text[1]}<br><b>sample: %{text[2]}<br><b>DMS_conc_mM: %{text[3]}<br><b>paired: %{text[4]}<br>",
         "line": {
          "color": "pink"
         },
         "marker": {
          "symbol": [
           0,
           0,
           0,
           0,
           0,
           0,
           0,
           0,
           0,
           0,
           0,
           0,
           100,
           100,
           100,
           100,
           100,
           100,
           100,
           100,
           100,
           100,
           100,
           100,
           100,
           100,
           100,
           100,
           0,
           0,
           0,
           0,
           0,
           0,
           0,
           0,
           0,
           0,
           0,
           0,
           0,
           0,
           0,
           0,
           0,
           0,
           0,
           0,
           100,
           100,
           100,
           100
          ]
         },
         "mode": "lines+markers",
         "name": "(C,20)",
         "text": [
          [
           "C",
           0.0168244,
           472,
           169.1,
           true
          ],
          [
           "C",
           0.02966896,
           472,
           169.1,
           true
          ],
          [
           "C",
           0.00596125,
           470,
           169.1,
           true
          ],
          [
           "C",
           0.00498615,
           470,
           169.1,
           true
          ],
          [
           "A",
           0.00775623,
           470,
           169.1,
           true
          ],
          [
           "A",
           0.01892744,
           472,
           169.1,
           true
          ],
          [
           "A",
           0.01142573,
           470,
           169.1,
           true
          ],
          [
           "A",
           0.01717676,
           472,
           169.1,
           true
          ],
          [
           "A",
           0.01551247,
           470,
           169.1,
           true
          ],
          [
           "A",
           0.01752541,
           472,
           169.1,
           true
          ],
          [
           "A",
           0.00894188,
           470,
           169.1,
           true
          ],
          [
           "A",
           0.00905684,
           472,
           169.1,
           true
          ],
          [
           "A",
           0.04651163,
           470,
           169.1,
           false
          ],
          [
           "A",
           0.05017387,
           470,
           169.1,
           false
          ],
          [
           "A",
           0.03224676,
           472,
           169.1,
           false
          ],
          [
           "A",
           0.04278576,
           472,
           169.1,
           false
          ],
          [
           "A",
           0.10183805,
           470,
           169.1,
           false
          ],
          [
           "A",
           0.04840725,
           472,
           169.1,
           false
          ],
          [
           "A",
           0.0637925,
           472,
           169.1,
           false
          ],
          [
           "A",
           0.07751938,
           470,
           169.1,
           false
          ],
          [
           "C",
           0.07870081,
           472,
           169.1,
           false
          ],
          [
           "C",
           0.09966777,
           470,
           169.1,
           false
          ],
          [
           "C",
           0.07115317,
           472,
           169.1,
           false
          ],
          [
           "C",
           0.09538003,
           470,
           169.1,
           false
          ],
          [
           "A",
           0.07004471,
           470,
           169.1,
           false
          ],
          [
           "A",
           0.07183011,
           472,
           169.1,
           false
          ],
          [
           "A",
           0.05502979,
           472,
           169.1,
           false
          ],
          [
           "A",
           0.06090808,
           470,
           169.1,
           false
          ],
          [
           "C",
           0.03680336,
           472,
           169.1,
           true
          ],
          [
           "C",
           0.02998126,
           472,
           169.1,
           true
          ],
          [
           "C",
           0.01838053,
           470,
           169.1,
           true
          ],
          [
           "C",
           0.0166113,
           470,
           169.1,
           true
          ],
          [
           "C",
           0.01507185,
           472,
           169.1,
           true
          ],
          [
           "C",
           0.0055371,
           470,
           169.1,
           true
          ],
          [
           "C",
           0.01142573,
           470,
           169.1,
           true
          ],
          [
           "C",
           0.02779513,
           472,
           169.1,
           true
          ],
          [
           "C",
           0.01686446,
           472,
           169.1,
           true
          ],
          [
           "C",
           0.00645802,
           470,
           169.1,
           true
          ],
          [
           "C",
           0.00885936,
           470,
           169.1,
           true
          ],
          [
           "C",
           0.01787592,
           472,
           169.1,
           true
          ],
          [
           "A",
           0.00905684,
           472,
           169.1,
           true
          ],
          [
           "A",
           0.00844511,
           470,
           169.1,
           true
          ],
          [
           "A",
           0.00996678,
           470,
           169.1,
           true
          ],
          [
           "A",
           0.00771118,
           472,
           169.1,
           true
          ],
          [
           "A",
           0.0110742,
           470,
           169.1,
           true
          ],
          [
           "A",
           0.00844511,
           470,
           169.1,
           true
          ],
          [
           "A",
           0.00749532,
           472,
           169.1,
           true
          ],
          [
           "A",
           0.00736067,
           472,
           169.1,
           true
          ],
          [
           "C",
           0.02418507,
           472,
           169.1,
           false
          ],
          [
           "C",
           0.01162791,
           470,
           169.1,
           false
          ],
          [
           "C",
           0.02654591,
           472,
           169.1,
           false
          ],
          [
           "C",
           0.00844511,
           470,
           169.1,
           false
          ]
         ],
         "type": "scatter",
         "x": [
          169.1,
          169.1,
          169.1,
          169.1
         ],
         "y": [
          0.0168244,
          0.02966896,
          0.00596125,
          0.00498615
         ]
        },
        {
         "line": {
          "color": "pink"
         },
         "mode": "lines",
         "name": "(C,20): 71.209*x + -12041.42759\n R2=0.0",
         "type": "scatter",
         "x": [
          169.1,
          169.1,
          169.1,
          169.1
         ],
         "y": [
          0.014360189999933937,
          0.014360189999933937,
          0.014360189999933937,
          0.014360189999933937
         ]
        },
        {
         "line": {
          "color": "pink"
         },
         "mode": "lines",
         "name": "(C,20): -0.00591*x**2 + 1.0*x\n R2=0.0",
         "type": "scatter",
         "x": [
          169.1,
          169.1,
          169.1,
          169.1
         ],
         "y": [
          0.014360189999962358,
          0.014360189999962358,
          0.014360189999962358,
          0.014360189999962358
         ]
        },
        {
         "hovertemplate": "<b>base: %{text[0]}<br><b>mut_rates: %{text[1]}<br><b>sample: %{text[2]}<br><b>DMS_conc_mM: %{text[3]}<br><b>paired: %{text[4]}<br>",
         "line": {
          "color": "brown"
         },
         "marker": {
          "symbol": [
           0,
           0,
           0,
           0,
           0,
           0,
           0,
           0,
           0,
           0,
           0,
           0,
           100,
           100,
           100,
           100,
           100,
           100,
           100,
           100,
           100,
           100,
           100,
           100,
           100,
           100,
           100,
           100,
           0,
           0,
           0,
           0,
           0,
           0,
           0,
           0,
           0,
           0,
           0,
           0,
           0,
           0,
           0,
           0,
           0,
           0,
           0,
           0,
           100,
           100,
           100,
           100
          ]
         },
         "mode": "lines+markers",
         "name": "(A,21)",
         "text": [
          [
           "C",
           0.0168244,
           472,
           169.1,
           true
          ],
          [
           "C",
           0.02966896,
           472,
           169.1,
           true
          ],
          [
           "C",
           0.00596125,
           470,
           169.1,
           true
          ],
          [
           "C",
           0.00498615,
           470,
           169.1,
           true
          ],
          [
           "A",
           0.00775623,
           470,
           169.1,
           true
          ],
          [
           "A",
           0.01892744,
           472,
           169.1,
           true
          ],
          [
           "A",
           0.01142573,
           470,
           169.1,
           true
          ],
          [
           "A",
           0.01717676,
           472,
           169.1,
           true
          ],
          [
           "A",
           0.01551247,
           470,
           169.1,
           true
          ],
          [
           "A",
           0.01752541,
           472,
           169.1,
           true
          ],
          [
           "A",
           0.00894188,
           470,
           169.1,
           true
          ],
          [
           "A",
           0.00905684,
           472,
           169.1,
           true
          ],
          [
           "A",
           0.04651163,
           470,
           169.1,
           false
          ],
          [
           "A",
           0.05017387,
           470,
           169.1,
           false
          ],
          [
           "A",
           0.03224676,
           472,
           169.1,
           false
          ],
          [
           "A",
           0.04278576,
           472,
           169.1,
           false
          ],
          [
           "A",
           0.10183805,
           470,
           169.1,
           false
          ],
          [
           "A",
           0.04840725,
           472,
           169.1,
           false
          ],
          [
           "A",
           0.0637925,
           472,
           169.1,
           false
          ],
          [
           "A",
           0.07751938,
           470,
           169.1,
           false
          ],
          [
           "C",
           0.07870081,
           472,
           169.1,
           false
          ],
          [
           "C",
           0.09966777,
           470,
           169.1,
           false
          ],
          [
           "C",
           0.07115317,
           472,
           169.1,
           false
          ],
          [
           "C",
           0.09538003,
           470,
           169.1,
           false
          ],
          [
           "A",
           0.07004471,
           470,
           169.1,
           false
          ],
          [
           "A",
           0.07183011,
           472,
           169.1,
           false
          ],
          [
           "A",
           0.05502979,
           472,
           169.1,
           false
          ],
          [
           "A",
           0.06090808,
           470,
           169.1,
           false
          ],
          [
           "C",
           0.03680336,
           472,
           169.1,
           true
          ],
          [
           "C",
           0.02998126,
           472,
           169.1,
           true
          ],
          [
           "C",
           0.01838053,
           470,
           169.1,
           true
          ],
          [
           "C",
           0.0166113,
           470,
           169.1,
           true
          ],
          [
           "C",
           0.01507185,
           472,
           169.1,
           true
          ],
          [
           "C",
           0.0055371,
           470,
           169.1,
           true
          ],
          [
           "C",
           0.01142573,
           470,
           169.1,
           true
          ],
          [
           "C",
           0.02779513,
           472,
           169.1,
           true
          ],
          [
           "C",
           0.01686446,
           472,
           169.1,
           true
          ],
          [
           "C",
           0.00645802,
           470,
           169.1,
           true
          ],
          [
           "C",
           0.00885936,
           470,
           169.1,
           true
          ],
          [
           "C",
           0.01787592,
           472,
           169.1,
           true
          ],
          [
           "A",
           0.00905684,
           472,
           169.1,
           true
          ],
          [
           "A",
           0.00844511,
           470,
           169.1,
           true
          ],
          [
           "A",
           0.00996678,
           470,
           169.1,
           true
          ],
          [
           "A",
           0.00771118,
           472,
           169.1,
           true
          ],
          [
           "A",
           0.0110742,
           470,
           169.1,
           true
          ],
          [
           "A",
           0.00844511,
           470,
           169.1,
           true
          ],
          [
           "A",
           0.00749532,
           472,
           169.1,
           true
          ],
          [
           "A",
           0.00736067,
           472,
           169.1,
           true
          ],
          [
           "C",
           0.02418507,
           472,
           169.1,
           false
          ],
          [
           "C",
           0.01162791,
           470,
           169.1,
           false
          ],
          [
           "C",
           0.02654591,
           472,
           169.1,
           false
          ],
          [
           "C",
           0.00844511,
           470,
           169.1,
           false
          ]
         ],
         "type": "scatter",
         "x": [
          169.1,
          169.1,
          169.1,
          169.1
         ],
         "y": [
          0.00775623,
          0.01892744,
          0.01142573,
          0.01717676
         ]
        },
        {
         "line": {
          "color": "brown"
         },
         "mode": "lines",
         "name": "(A,21): -114.01861*x + 19280.56142\n R2=0.0",
         "type": "scatter",
         "x": [
          169.1,
          169.1,
          169.1,
          169.1
         ],
         "y": [
          0.013821540000208188,
          0.013821540000208188,
          0.013821540000208188,
          0.013821540000208188
         ]
        },
        {
         "line": {
          "color": "brown"
         },
         "mode": "lines",
         "name": "(A,21): -0.00591*x**2 + 1.0*x\n R2=0.0",
         "type": "scatter",
         "x": [
          169.1,
          169.1,
          169.1,
          169.1
         ],
         "y": [
          0.013821540000009236,
          0.013821540000009236,
          0.013821540000009236,
          0.013821540000009236
         ]
        },
        {
         "hovertemplate": "<b>base: %{text[0]}<br><b>mut_rates: %{text[1]}<br><b>sample: %{text[2]}<br><b>DMS_conc_mM: %{text[3]}<br><b>paired: %{text[4]}<br>",
         "line": {
          "color": "grey"
         },
         "marker": {
          "symbol": [
           0,
           0,
           0,
           0,
           0,
           0,
           0,
           0,
           0,
           0,
           0,
           0,
           100,
           100,
           100,
           100,
           100,
           100,
           100,
           100,
           100,
           100,
           100,
           100,
           100,
           100,
           100,
           100,
           0,
           0,
           0,
           0,
           0,
           0,
           0,
           0,
           0,
           0,
           0,
           0,
           0,
           0,
           0,
           0,
           0,
           0,
           0,
           0,
           100,
           100,
           100,
           100
          ]
         },
         "mode": "lines+markers",
         "name": "(A,23)",
         "text": [
          [
           "C",
           0.0168244,
           472,
           169.1,
           true
          ],
          [
           "C",
           0.02966896,
           472,
           169.1,
           true
          ],
          [
           "C",
           0.00596125,
           470,
           169.1,
           true
          ],
          [
           "C",
           0.00498615,
           470,
           169.1,
           true
          ],
          [
           "A",
           0.00775623,
           470,
           169.1,
           true
          ],
          [
           "A",
           0.01892744,
           472,
           169.1,
           true
          ],
          [
           "A",
           0.01142573,
           470,
           169.1,
           true
          ],
          [
           "A",
           0.01717676,
           472,
           169.1,
           true
          ],
          [
           "A",
           0.01551247,
           470,
           169.1,
           true
          ],
          [
           "A",
           0.01752541,
           472,
           169.1,
           true
          ],
          [
           "A",
           0.00894188,
           470,
           169.1,
           true
          ],
          [
           "A",
           0.00905684,
           472,
           169.1,
           true
          ],
          [
           "A",
           0.04651163,
           470,
           169.1,
           false
          ],
          [
           "A",
           0.05017387,
           470,
           169.1,
           false
          ],
          [
           "A",
           0.03224676,
           472,
           169.1,
           false
          ],
          [
           "A",
           0.04278576,
           472,
           169.1,
           false
          ],
          [
           "A",
           0.10183805,
           470,
           169.1,
           false
          ],
          [
           "A",
           0.04840725,
           472,
           169.1,
           false
          ],
          [
           "A",
           0.0637925,
           472,
           169.1,
           false
          ],
          [
           "A",
           0.07751938,
           470,
           169.1,
           false
          ],
          [
           "C",
           0.07870081,
           472,
           169.1,
           false
          ],
          [
           "C",
           0.09966777,
           470,
           169.1,
           false
          ],
          [
           "C",
           0.07115317,
           472,
           169.1,
           false
          ],
          [
           "C",
           0.09538003,
           470,
           169.1,
           false
          ],
          [
           "A",
           0.07004471,
           470,
           169.1,
           false
          ],
          [
           "A",
           0.07183011,
           472,
           169.1,
           false
          ],
          [
           "A",
           0.05502979,
           472,
           169.1,
           false
          ],
          [
           "A",
           0.06090808,
           470,
           169.1,
           false
          ],
          [
           "C",
           0.03680336,
           472,
           169.1,
           true
          ],
          [
           "C",
           0.02998126,
           472,
           169.1,
           true
          ],
          [
           "C",
           0.01838053,
           470,
           169.1,
           true
          ],
          [
           "C",
           0.0166113,
           470,
           169.1,
           true
          ],
          [
           "C",
           0.01507185,
           472,
           169.1,
           true
          ],
          [
           "C",
           0.0055371,
           470,
           169.1,
           true
          ],
          [
           "C",
           0.01142573,
           470,
           169.1,
           true
          ],
          [
           "C",
           0.02779513,
           472,
           169.1,
           true
          ],
          [
           "C",
           0.01686446,
           472,
           169.1,
           true
          ],
          [
           "C",
           0.00645802,
           470,
           169.1,
           true
          ],
          [
           "C",
           0.00885936,
           470,
           169.1,
           true
          ],
          [
           "C",
           0.01787592,
           472,
           169.1,
           true
          ],
          [
           "A",
           0.00905684,
           472,
           169.1,
           true
          ],
          [
           "A",
           0.00844511,
           470,
           169.1,
           true
          ],
          [
           "A",
           0.00996678,
           470,
           169.1,
           true
          ],
          [
           "A",
           0.00771118,
           472,
           169.1,
           true
          ],
          [
           "A",
           0.0110742,
           470,
           169.1,
           true
          ],
          [
           "A",
           0.00844511,
           470,
           169.1,
           true
          ],
          [
           "A",
           0.00749532,
           472,
           169.1,
           true
          ],
          [
           "A",
           0.00736067,
           472,
           169.1,
           true
          ],
          [
           "C",
           0.02418507,
           472,
           169.1,
           false
          ],
          [
           "C",
           0.01162791,
           470,
           169.1,
           false
          ],
          [
           "C",
           0.02654591,
           472,
           169.1,
           false
          ],
          [
           "C",
           0.00844511,
           470,
           169.1,
           false
          ]
         ],
         "type": "scatter",
         "x": [
          169.1,
          169.1,
          169.1,
          169.1
         ],
         "y": [
          0.01551247,
          0.01752541,
          0.00894188,
          0.00905684
         ]
        },
        {
         "line": {
          "color": "grey"
         },
         "mode": "lines",
         "name": "(A,23): 71.209*x + -12041.42839\n R2=0.0",
         "type": "scatter",
         "x": [
          169.1,
          169.1,
          169.1,
          169.1
         ],
         "y": [
          0.01275915000042005,
          0.01275915000042005,
          0.01275915000042005,
          0.01275915000042005
         ]
        },
        {
         "line": {
          "color": "grey"
         },
         "mode": "lines",
         "name": "(A,23): -0.00591*x**2 + 1.0*x\n R2=0.0",
         "type": "scatter",
         "x": [
          169.1,
          169.1,
          169.1,
          169.1
         ],
         "y": [
          0.012759149999681085,
          0.012759149999681085,
          0.012759149999681085,
          0.012759149999681085
         ]
        },
        {
         "hovertemplate": "<b>base: %{text[0]}<br><b>mut_rates: %{text[1]}<br><b>sample: %{text[2]}<br><b>DMS_conc_mM: %{text[3]}<br><b>paired: %{text[4]}<br>",
         "line": {
          "color": "cyan"
         },
         "marker": {
          "symbol": [
           0,
           0,
           0,
           0,
           0,
           0,
           0,
           0,
           0,
           0,
           0,
           0,
           100,
           100,
           100,
           100,
           100,
           100,
           100,
           100,
           100,
           100,
           100,
           100,
           100,
           100,
           100,
           100,
           0,
           0,
           0,
           0,
           0,
           0,
           0,
           0,
           0,
           0,
           0,
           0,
           0,
           0,
           0,
           0,
           0,
           0,
           0,
           0,
           100,
           100,
           100,
           100
          ]
         },
         "mode": "lines+markers",
         "name": "(A,26)",
         "text": [
          [
           "C",
           0.0168244,
           472,
           169.1,
           true
          ],
          [
           "C",
           0.02966896,
           472,
           169.1,
           true
          ],
          [
           "C",
           0.00596125,
           470,
           169.1,
           true
          ],
          [
           "C",
           0.00498615,
           470,
           169.1,
           true
          ],
          [
           "A",
           0.00775623,
           470,
           169.1,
           true
          ],
          [
           "A",
           0.01892744,
           472,
           169.1,
           true
          ],
          [
           "A",
           0.01142573,
           470,
           169.1,
           true
          ],
          [
           "A",
           0.01717676,
           472,
           169.1,
           true
          ],
          [
           "A",
           0.01551247,
           470,
           169.1,
           true
          ],
          [
           "A",
           0.01752541,
           472,
           169.1,
           true
          ],
          [
           "A",
           0.00894188,
           470,
           169.1,
           true
          ],
          [
           "A",
           0.00905684,
           472,
           169.1,
           true
          ],
          [
           "A",
           0.04651163,
           470,
           169.1,
           false
          ],
          [
           "A",
           0.05017387,
           470,
           169.1,
           false
          ],
          [
           "A",
           0.03224676,
           472,
           169.1,
           false
          ],
          [
           "A",
           0.04278576,
           472,
           169.1,
           false
          ],
          [
           "A",
           0.10183805,
           470,
           169.1,
           false
          ],
          [
           "A",
           0.04840725,
           472,
           169.1,
           false
          ],
          [
           "A",
           0.0637925,
           472,
           169.1,
           false
          ],
          [
           "A",
           0.07751938,
           470,
           169.1,
           false
          ],
          [
           "C",
           0.07870081,
           472,
           169.1,
           false
          ],
          [
           "C",
           0.09966777,
           470,
           169.1,
           false
          ],
          [
           "C",
           0.07115317,
           472,
           169.1,
           false
          ],
          [
           "C",
           0.09538003,
           470,
           169.1,
           false
          ],
          [
           "A",
           0.07004471,
           470,
           169.1,
           false
          ],
          [
           "A",
           0.07183011,
           472,
           169.1,
           false
          ],
          [
           "A",
           0.05502979,
           472,
           169.1,
           false
          ],
          [
           "A",
           0.06090808,
           470,
           169.1,
           false
          ],
          [
           "C",
           0.03680336,
           472,
           169.1,
           true
          ],
          [
           "C",
           0.02998126,
           472,
           169.1,
           true
          ],
          [
           "C",
           0.01838053,
           470,
           169.1,
           true
          ],
          [
           "C",
           0.0166113,
           470,
           169.1,
           true
          ],
          [
           "C",
           0.01507185,
           472,
           169.1,
           true
          ],
          [
           "C",
           0.0055371,
           470,
           169.1,
           true
          ],
          [
           "C",
           0.01142573,
           470,
           169.1,
           true
          ],
          [
           "C",
           0.02779513,
           472,
           169.1,
           true
          ],
          [
           "C",
           0.01686446,
           472,
           169.1,
           true
          ],
          [
           "C",
           0.00645802,
           470,
           169.1,
           true
          ],
          [
           "C",
           0.00885936,
           470,
           169.1,
           true
          ],
          [
           "C",
           0.01787592,
           472,
           169.1,
           true
          ],
          [
           "A",
           0.00905684,
           472,
           169.1,
           true
          ],
          [
           "A",
           0.00844511,
           470,
           169.1,
           true
          ],
          [
           "A",
           0.00996678,
           470,
           169.1,
           true
          ],
          [
           "A",
           0.00771118,
           472,
           169.1,
           true
          ],
          [
           "A",
           0.0110742,
           470,
           169.1,
           true
          ],
          [
           "A",
           0.00844511,
           470,
           169.1,
           true
          ],
          [
           "A",
           0.00749532,
           472,
           169.1,
           true
          ],
          [
           "A",
           0.00736067,
           472,
           169.1,
           true
          ],
          [
           "C",
           0.02418507,
           472,
           169.1,
           false
          ],
          [
           "C",
           0.01162791,
           470,
           169.1,
           false
          ],
          [
           "C",
           0.02654591,
           472,
           169.1,
           false
          ],
          [
           "C",
           0.00844511,
           470,
           169.1,
           false
          ]
         ],
         "type": "scatter",
         "x": [
          169.1,
          169.1,
          169.1,
          169.1
         ],
         "y": [
          0.04651163,
          0.05017387,
          0.03224676,
          0.04278576
         ]
        },
        {
         "line": {
          "color": "cyan"
         },
         "mode": "lines",
         "name": "(A,26): 71.20908*x + -12041.41331\n R2=0.0",
         "type": "scatter",
         "x": [
          169.1,
          169.1,
          169.1,
          169.1
         ],
         "y": [
          0.04292950499984727,
          0.04292950499984727,
          0.04292950499984727,
          0.04292950499984727
         ]
        },
        {
         "line": {
          "color": "cyan"
         },
         "mode": "lines",
         "name": "(A,26): -0.00591*x**2 + 1.0*x\n R2=0.0",
         "type": "scatter",
         "x": [
          169.1,
          169.1,
          169.1,
          169.1
         ],
         "y": [
          0.042929504999989376,
          0.042929504999989376,
          0.042929504999989376,
          0.042929504999989376
         ]
        },
        {
         "hovertemplate": "<b>base: %{text[0]}<br><b>mut_rates: %{text[1]}<br><b>sample: %{text[2]}<br><b>DMS_conc_mM: %{text[3]}<br><b>paired: %{text[4]}<br>",
         "line": {
          "color": "magenta"
         },
         "marker": {
          "symbol": [
           0,
           0,
           0,
           0,
           0,
           0,
           0,
           0,
           0,
           0,
           0,
           0,
           100,
           100,
           100,
           100,
           100,
           100,
           100,
           100,
           100,
           100,
           100,
           100,
           100,
           100,
           100,
           100,
           0,
           0,
           0,
           0,
           0,
           0,
           0,
           0,
           0,
           0,
           0,
           0,
           0,
           0,
           0,
           0,
           0,
           0,
           0,
           0,
           100,
           100,
           100,
           100
          ]
         },
         "mode": "lines+markers",
         "name": "(A,29)",
         "text": [
          [
           "C",
           0.0168244,
           472,
           169.1,
           true
          ],
          [
           "C",
           0.02966896,
           472,
           169.1,
           true
          ],
          [
           "C",
           0.00596125,
           470,
           169.1,
           true
          ],
          [
           "C",
           0.00498615,
           470,
           169.1,
           true
          ],
          [
           "A",
           0.00775623,
           470,
           169.1,
           true
          ],
          [
           "A",
           0.01892744,
           472,
           169.1,
           true
          ],
          [
           "A",
           0.01142573,
           470,
           169.1,
           true
          ],
          [
           "A",
           0.01717676,
           472,
           169.1,
           true
          ],
          [
           "A",
           0.01551247,
           470,
           169.1,
           true
          ],
          [
           "A",
           0.01752541,
           472,
           169.1,
           true
          ],
          [
           "A",
           0.00894188,
           470,
           169.1,
           true
          ],
          [
           "A",
           0.00905684,
           472,
           169.1,
           true
          ],
          [
           "A",
           0.04651163,
           470,
           169.1,
           false
          ],
          [
           "A",
           0.05017387,
           470,
           169.1,
           false
          ],
          [
           "A",
           0.03224676,
           472,
           169.1,
           false
          ],
          [
           "A",
           0.04278576,
           472,
           169.1,
           false
          ],
          [
           "A",
           0.10183805,
           470,
           169.1,
           false
          ],
          [
           "A",
           0.04840725,
           472,
           169.1,
           false
          ],
          [
           "A",
           0.0637925,
           472,
           169.1,
           false
          ],
          [
           "A",
           0.07751938,
           470,
           169.1,
           false
          ],
          [
           "C",
           0.07870081,
           472,
           169.1,
           false
          ],
          [
           "C",
           0.09966777,
           470,
           169.1,
           false
          ],
          [
           "C",
           0.07115317,
           472,
           169.1,
           false
          ],
          [
           "C",
           0.09538003,
           470,
           169.1,
           false
          ],
          [
           "A",
           0.07004471,
           470,
           169.1,
           false
          ],
          [
           "A",
           0.07183011,
           472,
           169.1,
           false
          ],
          [
           "A",
           0.05502979,
           472,
           169.1,
           false
          ],
          [
           "A",
           0.06090808,
           470,
           169.1,
           false
          ],
          [
           "C",
           0.03680336,
           472,
           169.1,
           true
          ],
          [
           "C",
           0.02998126,
           472,
           169.1,
           true
          ],
          [
           "C",
           0.01838053,
           470,
           169.1,
           true
          ],
          [
           "C",
           0.0166113,
           470,
           169.1,
           true
          ],
          [
           "C",
           0.01507185,
           472,
           169.1,
           true
          ],
          [
           "C",
           0.0055371,
           470,
           169.1,
           true
          ],
          [
           "C",
           0.01142573,
           470,
           169.1,
           true
          ],
          [
           "C",
           0.02779513,
           472,
           169.1,
           true
          ],
          [
           "C",
           0.01686446,
           472,
           169.1,
           true
          ],
          [
           "C",
           0.00645802,
           470,
           169.1,
           true
          ],
          [
           "C",
           0.00885936,
           470,
           169.1,
           true
          ],
          [
           "C",
           0.01787592,
           472,
           169.1,
           true
          ],
          [
           "A",
           0.00905684,
           472,
           169.1,
           true
          ],
          [
           "A",
           0.00844511,
           470,
           169.1,
           true
          ],
          [
           "A",
           0.00996678,
           470,
           169.1,
           true
          ],
          [
           "A",
           0.00771118,
           472,
           169.1,
           true
          ],
          [
           "A",
           0.0110742,
           470,
           169.1,
           true
          ],
          [
           "A",
           0.00844511,
           470,
           169.1,
           true
          ],
          [
           "A",
           0.00749532,
           472,
           169.1,
           true
          ],
          [
           "A",
           0.00736067,
           472,
           169.1,
           true
          ],
          [
           "C",
           0.02418507,
           472,
           169.1,
           false
          ],
          [
           "C",
           0.01162791,
           470,
           169.1,
           false
          ],
          [
           "C",
           0.02654591,
           472,
           169.1,
           false
          ],
          [
           "C",
           0.00844511,
           470,
           169.1,
           false
          ]
         ],
         "type": "scatter",
         "x": [
          169.1,
          169.1,
          169.1,
          169.1
         ],
         "y": [
          0.10183805,
          0.04840725,
          0.0637925,
          0.07751938
         ]
        },
        {
         "line": {
          "color": "magenta"
         },
         "mode": "lines",
         "name": "(A,29): 212.633*x + -35956.16784\n R2=0.0",
         "type": "scatter",
         "x": [
          169.1,
          169.1,
          169.1,
          169.1
         ],
         "y": [
          0.07288929499918595,
          0.07288929499918595,
          0.07288929499918595,
          0.07288929499918595
         ]
        },
        {
         "line": {
          "color": "magenta"
         },
         "mode": "lines",
         "name": "(A,29): -0.00591*x**2 + 1.0*x\n R2=0.0",
         "type": "scatter",
         "x": [
          169.1,
          169.1,
          169.1,
          169.1
         ],
         "y": [
          0.07288929499935648,
          0.07288929499935648,
          0.07288929499935648,
          0.07288929499935648
         ]
        },
        {
         "hovertemplate": "<b>base: %{text[0]}<br><b>mut_rates: %{text[1]}<br><b>sample: %{text[2]}<br><b>DMS_conc_mM: %{text[3]}<br><b>paired: %{text[4]}<br>",
         "line": {
          "color": "red"
         },
         "marker": {
          "symbol": [
           0,
           0,
           0,
           0,
           0,
           0,
           0,
           0,
           0,
           0,
           0,
           0,
           100,
           100,
           100,
           100,
           100,
           100,
           100,
           100,
           100,
           100,
           100,
           100,
           100,
           100,
           100,
           100,
           0,
           0,
           0,
           0,
           0,
           0,
           0,
           0,
           0,
           0,
           0,
           0,
           0,
           0,
           0,
           0,
           0,
           0,
           0,
           0,
           100,
           100,
           100,
           100
          ]
         },
         "mode": "lines+markers",
         "name": "(C,31)",
         "text": [
          [
           "C",
           0.0168244,
           472,
           169.1,
           true
          ],
          [
           "C",
           0.02966896,
           472,
           169.1,
           true
          ],
          [
           "C",
           0.00596125,
           470,
           169.1,
           true
          ],
          [
           "C",
           0.00498615,
           470,
           169.1,
           true
          ],
          [
           "A",
           0.00775623,
           470,
           169.1,
           true
          ],
          [
           "A",
           0.01892744,
           472,
           169.1,
           true
          ],
          [
           "A",
           0.01142573,
           470,
           169.1,
           true
          ],
          [
           "A",
           0.01717676,
           472,
           169.1,
           true
          ],
          [
           "A",
           0.01551247,
           470,
           169.1,
           true
          ],
          [
           "A",
           0.01752541,
           472,
           169.1,
           true
          ],
          [
           "A",
           0.00894188,
           470,
           169.1,
           true
          ],
          [
           "A",
           0.00905684,
           472,
           169.1,
           true
          ],
          [
           "A",
           0.04651163,
           470,
           169.1,
           false
          ],
          [
           "A",
           0.05017387,
           470,
           169.1,
           false
          ],
          [
           "A",
           0.03224676,
           472,
           169.1,
           false
          ],
          [
           "A",
           0.04278576,
           472,
           169.1,
           false
          ],
          [
           "A",
           0.10183805,
           470,
           169.1,
           false
          ],
          [
           "A",
           0.04840725,
           472,
           169.1,
           false
          ],
          [
           "A",
           0.0637925,
           472,
           169.1,
           false
          ],
          [
           "A",
           0.07751938,
           470,
           169.1,
           false
          ],
          [
           "C",
           0.07870081,
           472,
           169.1,
           false
          ],
          [
           "C",
           0.09966777,
           470,
           169.1,
           false
          ],
          [
           "C",
           0.07115317,
           472,
           169.1,
           false
          ],
          [
           "C",
           0.09538003,
           470,
           169.1,
           false
          ],
          [
           "A",
           0.07004471,
           470,
           169.1,
           false
          ],
          [
           "A",
           0.07183011,
           472,
           169.1,
           false
          ],
          [
           "A",
           0.05502979,
           472,
           169.1,
           false
          ],
          [
           "A",
           0.06090808,
           470,
           169.1,
           false
          ],
          [
           "C",
           0.03680336,
           472,
           169.1,
           true
          ],
          [
           "C",
           0.02998126,
           472,
           169.1,
           true
          ],
          [
           "C",
           0.01838053,
           470,
           169.1,
           true
          ],
          [
           "C",
           0.0166113,
           470,
           169.1,
           true
          ],
          [
           "C",
           0.01507185,
           472,
           169.1,
           true
          ],
          [
           "C",
           0.0055371,
           470,
           169.1,
           true
          ],
          [
           "C",
           0.01142573,
           470,
           169.1,
           true
          ],
          [
           "C",
           0.02779513,
           472,
           169.1,
           true
          ],
          [
           "C",
           0.01686446,
           472,
           169.1,
           true
          ],
          [
           "C",
           0.00645802,
           470,
           169.1,
           true
          ],
          [
           "C",
           0.00885936,
           470,
           169.1,
           true
          ],
          [
           "C",
           0.01787592,
           472,
           169.1,
           true
          ],
          [
           "A",
           0.00905684,
           472,
           169.1,
           true
          ],
          [
           "A",
           0.00844511,
           470,
           169.1,
           true
          ],
          [
           "A",
           0.00996678,
           470,
           169.1,
           true
          ],
          [
           "A",
           0.00771118,
           472,
           169.1,
           true
          ],
          [
           "A",
           0.0110742,
           470,
           169.1,
           true
          ],
          [
           "A",
           0.00844511,
           470,
           169.1,
           true
          ],
          [
           "A",
           0.00749532,
           472,
           169.1,
           true
          ],
          [
           "A",
           0.00736067,
           472,
           169.1,
           true
          ],
          [
           "C",
           0.02418507,
           472,
           169.1,
           false
          ],
          [
           "C",
           0.01162791,
           470,
           169.1,
           false
          ],
          [
           "C",
           0.02654591,
           472,
           169.1,
           false
          ],
          [
           "C",
           0.00844511,
           470,
           169.1,
           false
          ]
         ],
         "type": "scatter",
         "x": [
          169.1,
          169.1,
          169.1,
          169.1
         ],
         "y": [
          0.07870081,
          0.09966777,
          0.07115317,
          0.09538003
         ]
        },
        {
         "line": {
          "color": "red"
         },
         "mode": "lines",
         "name": "(C,31): -84.35736*x + 14264.91525\n R2=0.0",
         "type": "scatter",
         "x": [
          169.1,
          169.1,
          169.1,
          169.1
         ],
         "y": [
          0.08622544499849027,
          0.08622544499849027,
          0.08622544499849027,
          0.08622544499849027
         ]
        },
        {
         "line": {
          "color": "red"
         },
         "mode": "lines",
         "name": "(C,31): -0.00591*x**2 + 1.0*x\n R2=0.0",
         "type": "scatter",
         "x": [
          169.1,
          169.1,
          169.1,
          169.1
         ],
         "y": [
          0.08622544500005347,
          0.08622544500005347,
          0.08622544500005347,
          0.08622544500005347
         ]
        }
       ],
       "layout": {
        "template": {
         "data": {
          "bar": [
           {
            "error_x": {
             "color": "#2a3f5f"
            },
            "error_y": {
             "color": "#2a3f5f"
            },
            "marker": {
             "line": {
              "color": "#E5ECF6",
              "width": 0.5
             },
             "pattern": {
              "fillmode": "overlay",
              "size": 10,
              "solidity": 0.2
             }
            },
            "type": "bar"
           }
          ],
          "barpolar": [
           {
            "marker": {
             "line": {
              "color": "#E5ECF6",
              "width": 0.5
             },
             "pattern": {
              "fillmode": "overlay",
              "size": 10,
              "solidity": 0.2
             }
            },
            "type": "barpolar"
           }
          ],
          "carpet": [
           {
            "aaxis": {
             "endlinecolor": "#2a3f5f",
             "gridcolor": "white",
             "linecolor": "white",
             "minorgridcolor": "white",
             "startlinecolor": "#2a3f5f"
            },
            "baxis": {
             "endlinecolor": "#2a3f5f",
             "gridcolor": "white",
             "linecolor": "white",
             "minorgridcolor": "white",
             "startlinecolor": "#2a3f5f"
            },
            "type": "carpet"
           }
          ],
          "choropleth": [
           {
            "colorbar": {
             "outlinewidth": 0,
             "ticks": ""
            },
            "type": "choropleth"
           }
          ],
          "contour": [
           {
            "colorbar": {
             "outlinewidth": 0,
             "ticks": ""
            },
            "colorscale": [
             [
              0,
              "#0d0887"
             ],
             [
              0.1111111111111111,
              "#46039f"
             ],
             [
              0.2222222222222222,
              "#7201a8"
             ],
             [
              0.3333333333333333,
              "#9c179e"
             ],
             [
              0.4444444444444444,
              "#bd3786"
             ],
             [
              0.5555555555555556,
              "#d8576b"
             ],
             [
              0.6666666666666666,
              "#ed7953"
             ],
             [
              0.7777777777777778,
              "#fb9f3a"
             ],
             [
              0.8888888888888888,
              "#fdca26"
             ],
             [
              1,
              "#f0f921"
             ]
            ],
            "type": "contour"
           }
          ],
          "contourcarpet": [
           {
            "colorbar": {
             "outlinewidth": 0,
             "ticks": ""
            },
            "type": "contourcarpet"
           }
          ],
          "heatmap": [
           {
            "colorbar": {
             "outlinewidth": 0,
             "ticks": ""
            },
            "colorscale": [
             [
              0,
              "#0d0887"
             ],
             [
              0.1111111111111111,
              "#46039f"
             ],
             [
              0.2222222222222222,
              "#7201a8"
             ],
             [
              0.3333333333333333,
              "#9c179e"
             ],
             [
              0.4444444444444444,
              "#bd3786"
             ],
             [
              0.5555555555555556,
              "#d8576b"
             ],
             [
              0.6666666666666666,
              "#ed7953"
             ],
             [
              0.7777777777777778,
              "#fb9f3a"
             ],
             [
              0.8888888888888888,
              "#fdca26"
             ],
             [
              1,
              "#f0f921"
             ]
            ],
            "type": "heatmap"
           }
          ],
          "heatmapgl": [
           {
            "colorbar": {
             "outlinewidth": 0,
             "ticks": ""
            },
            "colorscale": [
             [
              0,
              "#0d0887"
             ],
             [
              0.1111111111111111,
              "#46039f"
             ],
             [
              0.2222222222222222,
              "#7201a8"
             ],
             [
              0.3333333333333333,
              "#9c179e"
             ],
             [
              0.4444444444444444,
              "#bd3786"
             ],
             [
              0.5555555555555556,
              "#d8576b"
             ],
             [
              0.6666666666666666,
              "#ed7953"
             ],
             [
              0.7777777777777778,
              "#fb9f3a"
             ],
             [
              0.8888888888888888,
              "#fdca26"
             ],
             [
              1,
              "#f0f921"
             ]
            ],
            "type": "heatmapgl"
           }
          ],
          "histogram": [
           {
            "marker": {
             "pattern": {
              "fillmode": "overlay",
              "size": 10,
              "solidity": 0.2
             }
            },
            "type": "histogram"
           }
          ],
          "histogram2d": [
           {
            "colorbar": {
             "outlinewidth": 0,
             "ticks": ""
            },
            "colorscale": [
             [
              0,
              "#0d0887"
             ],
             [
              0.1111111111111111,
              "#46039f"
             ],
             [
              0.2222222222222222,
              "#7201a8"
             ],
             [
              0.3333333333333333,
              "#9c179e"
             ],
             [
              0.4444444444444444,
              "#bd3786"
             ],
             [
              0.5555555555555556,
              "#d8576b"
             ],
             [
              0.6666666666666666,
              "#ed7953"
             ],
             [
              0.7777777777777778,
              "#fb9f3a"
             ],
             [
              0.8888888888888888,
              "#fdca26"
             ],
             [
              1,
              "#f0f921"
             ]
            ],
            "type": "histogram2d"
           }
          ],
          "histogram2dcontour": [
           {
            "colorbar": {
             "outlinewidth": 0,
             "ticks": ""
            },
            "colorscale": [
             [
              0,
              "#0d0887"
             ],
             [
              0.1111111111111111,
              "#46039f"
             ],
             [
              0.2222222222222222,
              "#7201a8"
             ],
             [
              0.3333333333333333,
              "#9c179e"
             ],
             [
              0.4444444444444444,
              "#bd3786"
             ],
             [
              0.5555555555555556,
              "#d8576b"
             ],
             [
              0.6666666666666666,
              "#ed7953"
             ],
             [
              0.7777777777777778,
              "#fb9f3a"
             ],
             [
              0.8888888888888888,
              "#fdca26"
             ],
             [
              1,
              "#f0f921"
             ]
            ],
            "type": "histogram2dcontour"
           }
          ],
          "mesh3d": [
           {
            "colorbar": {
             "outlinewidth": 0,
             "ticks": ""
            },
            "type": "mesh3d"
           }
          ],
          "parcoords": [
           {
            "line": {
             "colorbar": {
              "outlinewidth": 0,
              "ticks": ""
             }
            },
            "type": "parcoords"
           }
          ],
          "pie": [
           {
            "automargin": true,
            "type": "pie"
           }
          ],
          "scatter": [
           {
            "fillpattern": {
             "fillmode": "overlay",
             "size": 10,
             "solidity": 0.2
            },
            "type": "scatter"
           }
          ],
          "scatter3d": [
           {
            "line": {
             "colorbar": {
              "outlinewidth": 0,
              "ticks": ""
             }
            },
            "marker": {
             "colorbar": {
              "outlinewidth": 0,
              "ticks": ""
             }
            },
            "type": "scatter3d"
           }
          ],
          "scattercarpet": [
           {
            "marker": {
             "colorbar": {
              "outlinewidth": 0,
              "ticks": ""
             }
            },
            "type": "scattercarpet"
           }
          ],
          "scattergeo": [
           {
            "marker": {
             "colorbar": {
              "outlinewidth": 0,
              "ticks": ""
             }
            },
            "type": "scattergeo"
           }
          ],
          "scattergl": [
           {
            "marker": {
             "colorbar": {
              "outlinewidth": 0,
              "ticks": ""
             }
            },
            "type": "scattergl"
           }
          ],
          "scattermapbox": [
           {
            "marker": {
             "colorbar": {
              "outlinewidth": 0,
              "ticks": ""
             }
            },
            "type": "scattermapbox"
           }
          ],
          "scatterpolar": [
           {
            "marker": {
             "colorbar": {
              "outlinewidth": 0,
              "ticks": ""
             }
            },
            "type": "scatterpolar"
           }
          ],
          "scatterpolargl": [
           {
            "marker": {
             "colorbar": {
              "outlinewidth": 0,
              "ticks": ""
             }
            },
            "type": "scatterpolargl"
           }
          ],
          "scatterternary": [
           {
            "marker": {
             "colorbar": {
              "outlinewidth": 0,
              "ticks": ""
             }
            },
            "type": "scatterternary"
           }
          ],
          "surface": [
           {
            "colorbar": {
             "outlinewidth": 0,
             "ticks": ""
            },
            "colorscale": [
             [
              0,
              "#0d0887"
             ],
             [
              0.1111111111111111,
              "#46039f"
             ],
             [
              0.2222222222222222,
              "#7201a8"
             ],
             [
              0.3333333333333333,
              "#9c179e"
             ],
             [
              0.4444444444444444,
              "#bd3786"
             ],
             [
              0.5555555555555556,
              "#d8576b"
             ],
             [
              0.6666666666666666,
              "#ed7953"
             ],
             [
              0.7777777777777778,
              "#fb9f3a"
             ],
             [
              0.8888888888888888,
              "#fdca26"
             ],
             [
              1,
              "#f0f921"
             ]
            ],
            "type": "surface"
           }
          ],
          "table": [
           {
            "cells": {
             "fill": {
              "color": "#EBF0F8"
             },
             "line": {
              "color": "white"
             }
            },
            "header": {
             "fill": {
              "color": "#C8D4E3"
             },
             "line": {
              "color": "white"
             }
            },
            "type": "table"
           }
          ]
         },
         "layout": {
          "annotationdefaults": {
           "arrowcolor": "#2a3f5f",
           "arrowhead": 0,
           "arrowwidth": 1
          },
          "autotypenumbers": "strict",
          "coloraxis": {
           "colorbar": {
            "outlinewidth": 0,
            "ticks": ""
           }
          },
          "colorscale": {
           "diverging": [
            [
             0,
             "#8e0152"
            ],
            [
             0.1,
             "#c51b7d"
            ],
            [
             0.2,
             "#de77ae"
            ],
            [
             0.3,
             "#f1b6da"
            ],
            [
             0.4,
             "#fde0ef"
            ],
            [
             0.5,
             "#f7f7f7"
            ],
            [
             0.6,
             "#e6f5d0"
            ],
            [
             0.7,
             "#b8e186"
            ],
            [
             0.8,
             "#7fbc41"
            ],
            [
             0.9,
             "#4d9221"
            ],
            [
             1,
             "#276419"
            ]
           ],
           "sequential": [
            [
             0,
             "#0d0887"
            ],
            [
             0.1111111111111111,
             "#46039f"
            ],
            [
             0.2222222222222222,
             "#7201a8"
            ],
            [
             0.3333333333333333,
             "#9c179e"
            ],
            [
             0.4444444444444444,
             "#bd3786"
            ],
            [
             0.5555555555555556,
             "#d8576b"
            ],
            [
             0.6666666666666666,
             "#ed7953"
            ],
            [
             0.7777777777777778,
             "#fb9f3a"
            ],
            [
             0.8888888888888888,
             "#fdca26"
            ],
            [
             1,
             "#f0f921"
            ]
           ],
           "sequentialminus": [
            [
             0,
             "#0d0887"
            ],
            [
             0.1111111111111111,
             "#46039f"
            ],
            [
             0.2222222222222222,
             "#7201a8"
            ],
            [
             0.3333333333333333,
             "#9c179e"
            ],
            [
             0.4444444444444444,
             "#bd3786"
            ],
            [
             0.5555555555555556,
             "#d8576b"
            ],
            [
             0.6666666666666666,
             "#ed7953"
            ],
            [
             0.7777777777777778,
             "#fb9f3a"
            ],
            [
             0.8888888888888888,
             "#fdca26"
            ],
            [
             1,
             "#f0f921"
            ]
           ]
          },
          "colorway": [
           "#636efa",
           "#EF553B",
           "#00cc96",
           "#ab63fa",
           "#FFA15A",
           "#19d3f3",
           "#FF6692",
           "#B6E880",
           "#FF97FF",
           "#FECB52"
          ],
          "font": {
           "color": "#2a3f5f"
          },
          "geo": {
           "bgcolor": "white",
           "lakecolor": "white",
           "landcolor": "#E5ECF6",
           "showlakes": true,
           "showland": true,
           "subunitcolor": "white"
          },
          "hoverlabel": {
           "align": "left"
          },
          "hovermode": "closest",
          "mapbox": {
           "style": "light"
          },
          "paper_bgcolor": "white",
          "plot_bgcolor": "#E5ECF6",
          "polar": {
           "angularaxis": {
            "gridcolor": "white",
            "linecolor": "white",
            "ticks": ""
           },
           "bgcolor": "#E5ECF6",
           "radialaxis": {
            "gridcolor": "white",
            "linecolor": "white",
            "ticks": ""
           }
          },
          "scene": {
           "xaxis": {
            "backgroundcolor": "#E5ECF6",
            "gridcolor": "white",
            "gridwidth": 2,
            "linecolor": "white",
            "showbackground": true,
            "ticks": "",
            "zerolinecolor": "white"
           },
           "yaxis": {
            "backgroundcolor": "#E5ECF6",
            "gridcolor": "white",
            "gridwidth": 2,
            "linecolor": "white",
            "showbackground": true,
            "ticks": "",
            "zerolinecolor": "white"
           },
           "zaxis": {
            "backgroundcolor": "#E5ECF6",
            "gridcolor": "white",
            "gridwidth": 2,
            "linecolor": "white",
            "showbackground": true,
            "ticks": "",
            "zerolinecolor": "white"
           }
          },
          "shapedefaults": {
           "line": {
            "color": "#2a3f5f"
           }
          },
          "ternary": {
           "aaxis": {
            "gridcolor": "white",
            "linecolor": "white",
            "ticks": ""
           },
           "baxis": {
            "gridcolor": "white",
            "linecolor": "white",
            "ticks": ""
           },
           "bgcolor": "#E5ECF6",
           "caxis": {
            "gridcolor": "white",
            "linecolor": "white",
            "ticks": ""
           }
          },
          "title": {
           "x": 0.05
          },
          "xaxis": {
           "automargin": true,
           "gridcolor": "white",
           "linecolor": "white",
           "ticks": "",
           "title": {
            "standoff": 15
           },
           "zerolinecolor": "white",
           "zerolinewidth": 2
          },
          "yaxis": {
           "automargin": true,
           "gridcolor": "white",
           "linecolor": "white",
           "ticks": "",
           "title": {
            "standoff": 15
           },
           "zerolinecolor": "white",
           "zerolinewidth": 2
          }
         }
        },
        "title": {
         "text": "Mutation rates of paired / unpaired residues vs DMS_conc_mM"
        },
        "xaxis": {
         "ticklen": 5,
         "title": {
          "text": "DMS_conc_mM"
         },
         "zeroline": false
        },
        "yaxis": {
         "ticklen": 5,
         "title": {
          "text": "Mutation rate "
         },
         "zeroline": false
        }
       }
      }
     },
     "metadata": {},
     "output_type": "display_data"
    },
    {
     "data": {
      "text/plain": [
       "<dreem_nap.util.OutputPlot at 0x29a005030>"
      ]
     },
     "execution_count": 4,
     "metadata": {},
     "output_type": "execute_result"
    }
   ],
   "source": [
    "study.variable_exp_across_samples(\n",
    "                        construct=['3114-O-flank_1=hp7-DB','3118-O-flank_1=hp7-DB'],\n",
    "                        base_index=list(range(19,42)), \n",
    "                        base_type=['A','C'],\n",
    "                        savefile='test.html', \n",
    "                        experimental_variable='DMS_conc_mM',\n",
    "                        models=['lambda x, a, b: a*x + b', 'lambda x, a, b: a*x**2 + b*x'],\n",
    "                        auto_open=True)"
   ]
  },
  {
   "cell_type": "code",
   "execution_count": 5,
   "metadata": {},
   "outputs": [
    {
     "data": {
      "text/plain": [
       "[0,\n",
       " '0',\n",
       " 'circle',\n",
       " 100,\n",
       " '100',\n",
       " 'circle-open',\n",
       " 200,\n",
       " '200',\n",
       " 'circle-dot',\n",
       " 300,\n",
       " '300',\n",
       " 'circle-open-dot',\n",
       " 1,\n",
       " '1',\n",
       " 'square',\n",
       " 101,\n",
       " '101',\n",
       " 'square-open',\n",
       " 201,\n",
       " '201',\n",
       " 'square-dot',\n",
       " 301,\n",
       " '301',\n",
       " 'square-open-dot',\n",
       " 2,\n",
       " '2',\n",
       " 'diamond',\n",
       " 102,\n",
       " '102',\n",
       " 'diamond-open',\n",
       " 202,\n",
       " '202',\n",
       " 'diamond-dot',\n",
       " 302,\n",
       " '302',\n",
       " 'diamond-open-dot',\n",
       " 3,\n",
       " '3',\n",
       " 'cross',\n",
       " 103,\n",
       " '103',\n",
       " 'cross-open',\n",
       " 203,\n",
       " '203',\n",
       " 'cross-dot',\n",
       " 303,\n",
       " '303',\n",
       " 'cross-open-dot',\n",
       " 4,\n",
       " '4',\n",
       " 'x',\n",
       " 104,\n",
       " '104',\n",
       " 'x-open',\n",
       " 204,\n",
       " '204',\n",
       " 'x-dot',\n",
       " 304,\n",
       " '304',\n",
       " 'x-open-dot',\n",
       " 5,\n",
       " '5',\n",
       " 'triangle-up',\n",
       " 105,\n",
       " '105',\n",
       " 'triangle-up-open',\n",
       " 205,\n",
       " '205',\n",
       " 'triangle-up-dot',\n",
       " 305,\n",
       " '305',\n",
       " 'triangle-up-open-dot',\n",
       " 6,\n",
       " '6',\n",
       " 'triangle-down',\n",
       " 106,\n",
       " '106',\n",
       " 'triangle-down-open',\n",
       " 206,\n",
       " '206',\n",
       " 'triangle-down-dot',\n",
       " 306,\n",
       " '306',\n",
       " 'triangle-down-open-dot',\n",
       " 7,\n",
       " '7',\n",
       " 'triangle-left',\n",
       " 107,\n",
       " '107',\n",
       " 'triangle-left-open',\n",
       " 207,\n",
       " '207',\n",
       " 'triangle-left-dot',\n",
       " 307,\n",
       " '307',\n",
       " 'triangle-left-open-dot',\n",
       " 8,\n",
       " '8',\n",
       " 'triangle-right',\n",
       " 108,\n",
       " '108',\n",
       " 'triangle-right-open',\n",
       " 208,\n",
       " '208',\n",
       " 'triangle-right-dot',\n",
       " 308,\n",
       " '308',\n",
       " 'triangle-right-open-dot',\n",
       " 9,\n",
       " '9',\n",
       " 'triangle-ne',\n",
       " 109,\n",
       " '109',\n",
       " 'triangle-ne-open',\n",
       " 209,\n",
       " '209',\n",
       " 'triangle-ne-dot',\n",
       " 309,\n",
       " '309',\n",
       " 'triangle-ne-open-dot',\n",
       " 10,\n",
       " '10',\n",
       " 'triangle-se',\n",
       " 110,\n",
       " '110',\n",
       " 'triangle-se-open',\n",
       " 210,\n",
       " '210',\n",
       " 'triangle-se-dot',\n",
       " 310,\n",
       " '310',\n",
       " 'triangle-se-open-dot',\n",
       " 11,\n",
       " '11',\n",
       " 'triangle-sw',\n",
       " 111,\n",
       " '111',\n",
       " 'triangle-sw-open',\n",
       " 211,\n",
       " '211',\n",
       " 'triangle-sw-dot',\n",
       " 311,\n",
       " '311',\n",
       " 'triangle-sw-open-dot',\n",
       " 12,\n",
       " '12',\n",
       " 'triangle-nw',\n",
       " 112,\n",
       " '112',\n",
       " 'triangle-nw-open',\n",
       " 212,\n",
       " '212',\n",
       " 'triangle-nw-dot',\n",
       " 312,\n",
       " '312',\n",
       " 'triangle-nw-open-dot',\n",
       " 13,\n",
       " '13',\n",
       " 'pentagon',\n",
       " 113,\n",
       " '113',\n",
       " 'pentagon-open',\n",
       " 213,\n",
       " '213',\n",
       " 'pentagon-dot',\n",
       " 313,\n",
       " '313',\n",
       " 'pentagon-open-dot',\n",
       " 14,\n",
       " '14',\n",
       " 'hexagon',\n",
       " 114,\n",
       " '114',\n",
       " 'hexagon-open',\n",
       " 214,\n",
       " '214',\n",
       " 'hexagon-dot',\n",
       " 314,\n",
       " '314',\n",
       " 'hexagon-open-dot',\n",
       " 15,\n",
       " '15',\n",
       " 'hexagon2',\n",
       " 115,\n",
       " '115',\n",
       " 'hexagon2-open',\n",
       " 215,\n",
       " '215',\n",
       " 'hexagon2-dot',\n",
       " 315,\n",
       " '315',\n",
       " 'hexagon2-open-dot',\n",
       " 16,\n",
       " '16',\n",
       " 'octagon',\n",
       " 116,\n",
       " '116',\n",
       " 'octagon-open',\n",
       " 216,\n",
       " '216',\n",
       " 'octagon-dot',\n",
       " 316,\n",
       " '316',\n",
       " 'octagon-open-dot',\n",
       " 17,\n",
       " '17',\n",
       " 'star',\n",
       " 117,\n",
       " '117',\n",
       " 'star-open',\n",
       " 217,\n",
       " '217',\n",
       " 'star-dot',\n",
       " 317,\n",
       " '317',\n",
       " 'star-open-dot',\n",
       " 18,\n",
       " '18',\n",
       " 'hexagram',\n",
       " 118,\n",
       " '118',\n",
       " 'hexagram-open',\n",
       " 218,\n",
       " '218',\n",
       " 'hexagram-dot',\n",
       " 318,\n",
       " '318',\n",
       " 'hexagram-open-dot',\n",
       " 19,\n",
       " '19',\n",
       " 'star-triangle-up',\n",
       " 119,\n",
       " '119',\n",
       " 'star-triangle-up-open',\n",
       " 219,\n",
       " '219',\n",
       " 'star-triangle-up-dot',\n",
       " 319,\n",
       " '319',\n",
       " 'star-triangle-up-open-dot',\n",
       " 20,\n",
       " '20',\n",
       " 'star-triangle-down',\n",
       " 120,\n",
       " '120',\n",
       " 'star-triangle-down-open',\n",
       " 220,\n",
       " '220',\n",
       " 'star-triangle-down-dot',\n",
       " 320,\n",
       " '320',\n",
       " 'star-triangle-down-open-dot',\n",
       " 21,\n",
       " '21',\n",
       " 'star-square',\n",
       " 121,\n",
       " '121',\n",
       " 'star-square-open',\n",
       " 221,\n",
       " '221',\n",
       " 'star-square-dot',\n",
       " 321,\n",
       " '321',\n",
       " 'star-square-open-dot',\n",
       " 22,\n",
       " '22',\n",
       " 'star-diamond',\n",
       " 122,\n",
       " '122',\n",
       " 'star-diamond-open',\n",
       " 222,\n",
       " '222',\n",
       " 'star-diamond-dot',\n",
       " 322,\n",
       " '322',\n",
       " 'star-diamond-open-dot',\n",
       " 23,\n",
       " '23',\n",
       " 'diamond-tall',\n",
       " 123,\n",
       " '123',\n",
       " 'diamond-tall-open',\n",
       " 223,\n",
       " '223',\n",
       " 'diamond-tall-dot',\n",
       " 323,\n",
       " '323',\n",
       " 'diamond-tall-open-dot',\n",
       " 24,\n",
       " '24',\n",
       " 'diamond-wide',\n",
       " 124,\n",
       " '124',\n",
       " 'diamond-wide-open',\n",
       " 224,\n",
       " '224',\n",
       " 'diamond-wide-dot',\n",
       " 324,\n",
       " '324',\n",
       " 'diamond-wide-open-dot',\n",
       " 25,\n",
       " '25',\n",
       " 'hourglass',\n",
       " 125,\n",
       " '125',\n",
       " 'hourglass-open',\n",
       " 26,\n",
       " '26',\n",
       " 'bowtie',\n",
       " 126,\n",
       " '126',\n",
       " 'bowtie-open',\n",
       " 27,\n",
       " '27',\n",
       " 'circle-cross',\n",
       " 127,\n",
       " '127',\n",
       " 'circle-cross-open',\n",
       " 28,\n",
       " '28',\n",
       " 'circle-x',\n",
       " 128,\n",
       " '128',\n",
       " 'circle-x-open',\n",
       " 29,\n",
       " '29',\n",
       " 'square-cross',\n",
       " 129,\n",
       " '129',\n",
       " 'square-cross-open',\n",
       " 30,\n",
       " '30',\n",
       " 'square-x',\n",
       " 130,\n",
       " '130',\n",
       " 'square-x-open',\n",
       " 31,\n",
       " '31',\n",
       " 'diamond-cross',\n",
       " 131,\n",
       " '131',\n",
       " 'diamond-cross-open',\n",
       " 32,\n",
       " '32',\n",
       " 'diamond-x',\n",
       " 132,\n",
       " '132',\n",
       " 'diamond-x-open',\n",
       " 33,\n",
       " '33',\n",
       " 'cross-thin',\n",
       " 133,\n",
       " '133',\n",
       " 'cross-thin-open',\n",
       " 34,\n",
       " '34',\n",
       " 'x-thin',\n",
       " 134,\n",
       " '134',\n",
       " 'x-thin-open',\n",
       " 35,\n",
       " '35',\n",
       " 'asterisk',\n",
       " 135,\n",
       " '135',\n",
       " 'asterisk-open',\n",
       " 36,\n",
       " '36',\n",
       " 'hash',\n",
       " 136,\n",
       " '136',\n",
       " 'hash-open',\n",
       " 236,\n",
       " '236',\n",
       " 'hash-dot',\n",
       " 336,\n",
       " '336',\n",
       " 'hash-open-dot',\n",
       " 37,\n",
       " '37',\n",
       " 'y-up',\n",
       " 137,\n",
       " '137',\n",
       " 'y-up-open',\n",
       " 38,\n",
       " '38',\n",
       " 'y-down',\n",
       " 138,\n",
       " '138',\n",
       " 'y-down-open',\n",
       " 39,\n",
       " '39',\n",
       " 'y-left',\n",
       " 139,\n",
       " '139',\n",
       " 'y-left-open',\n",
       " 40,\n",
       " '40',\n",
       " 'y-right',\n",
       " 140,\n",
       " '140',\n",
       " 'y-right-open',\n",
       " 41,\n",
       " '41',\n",
       " 'line-ew',\n",
       " 141,\n",
       " '141',\n",
       " 'line-ew-open',\n",
       " 42,\n",
       " '42',\n",
       " 'line-ns',\n",
       " 142,\n",
       " '142',\n",
       " 'line-ns-open',\n",
       " 43,\n",
       " '43',\n",
       " 'line-ne',\n",
       " 143,\n",
       " '143',\n",
       " 'line-ne-open',\n",
       " 44,\n",
       " '44',\n",
       " 'line-nw',\n",
       " 144,\n",
       " '144',\n",
       " 'line-nw-open',\n",
       " 45,\n",
       " '45',\n",
       " 'arrow-up',\n",
       " 145,\n",
       " '145',\n",
       " 'arrow-up-open',\n",
       " 46,\n",
       " '46',\n",
       " 'arrow-down',\n",
       " 146,\n",
       " '146',\n",
       " 'arrow-down-open',\n",
       " 47,\n",
       " '47',\n",
       " 'arrow-left',\n",
       " 147,\n",
       " '147',\n",
       " 'arrow-left-open',\n",
       " 48,\n",
       " '48',\n",
       " 'arrow-right',\n",
       " 148,\n",
       " '148',\n",
       " 'arrow-right-open',\n",
       " 49,\n",
       " '49',\n",
       " 'arrow-bar-up',\n",
       " 149,\n",
       " '149',\n",
       " 'arrow-bar-up-open',\n",
       " 50,\n",
       " '50',\n",
       " 'arrow-bar-down',\n",
       " 150,\n",
       " '150',\n",
       " 'arrow-bar-down-open',\n",
       " 51,\n",
       " '51',\n",
       " 'arrow-bar-left',\n",
       " 151,\n",
       " '151',\n",
       " 'arrow-bar-left-open',\n",
       " 52,\n",
       " '52',\n",
       " 'arrow-bar-right',\n",
       " 152,\n",
       " '152',\n",
       " 'arrow-bar-right-open']"
      ]
     },
     "execution_count": 5,
     "metadata": {},
     "output_type": "execute_result"
    }
   ],
   "source": [
    "from plotly.validators.scatter.marker import SymbolValidator\n",
    "SymbolValidator().values"
   ]
  }
 ],
 "metadata": {
  "kernelspec": {
   "display_name": "Python 3.10.5 ('venv-nap': venv)",
   "language": "python",
   "name": "python3"
  },
  "language_info": {
   "codemirror_mode": {
    "name": "ipython",
    "version": 3
   },
   "file_extension": ".py",
   "mimetype": "text/x-python",
   "name": "python",
   "nbconvert_exporter": "python",
   "pygments_lexer": "ipython3",
   "version": "3.10.5"
  },
  "orig_nbformat": 4,
  "vscode": {
   "interpreter": {
    "hash": "228ea3748f49093993f7ca989c09e25264db3703291e3a4aaa931dd28b2eaabc"
   }
  }
 },
 "nbformat": 4,
 "nbformat_minor": 2
}
